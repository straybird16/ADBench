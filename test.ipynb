{
 "cells": [
  {
   "cell_type": "code",
   "execution_count": 1,
   "metadata": {},
   "outputs": [],
   "source": [
    "%load_ext autoreload\n",
    "%reload_ext autoreload\n",
    "%autoreload 2\n",
    "\n",
    "import torch"
   ]
  },
  {
   "cell_type": "code",
   "execution_count": 39,
   "metadata": {},
   "outputs": [
    {
     "name": "stdout",
     "output_type": "stream",
     "text": [
      "tensor([[0.5404, 0.0233],\n",
      "        [0.3154, 0.5294],\n",
      "        [0.6294, 0.2950],\n",
      "        [0.8044, 0.8384],\n",
      "        [0.7425, 0.6872]])\n",
      "tensor([[0.7078, 0.3056],\n",
      "        [0.9072, 0.4253],\n",
      "        [0.4194, 0.0482],\n",
      "        [0.2131, 0.5360],\n",
      "        [0.7081, 0.5959]])\n",
      "tensor([[0.5404, 0.0233, 0.7078, 0.3056],\n",
      "        [0.3154, 0.5294, 0.9072, 0.4253],\n",
      "        [0.6294, 0.2950, 0.4194, 0.0482],\n",
      "        [0.8044, 0.8384, 0.2131, 0.5360],\n",
      "        [0.7425, 0.6872, 0.7081, 0.5959]])\n",
      "tensor([[0.1100],\n",
      "        [0.2004],\n",
      "        [0.0914],\n",
      "        [0.2484],\n",
      "        [0.3497]])\n"
     ]
    }
   ],
   "source": [
    "arr=[]\n",
    "a = torch.rand((5, 2))\n",
    "b = torch.rand((5, 2))\n",
    "print(a)\n",
    "print(b)\n",
    "for _ in range(1):\n",
    "    arr.append(a)\n",
    "    arr.append(b)\n",
    "\n",
    "arr = torch.concat(arr, dim=-1)\n",
    "print(arr)\n",
    "print(torch.nn.Softmax(dim=0)(arr.sum(dim=-1, keepdim=True)))\n",
    "#arr = arr.reshape(-1, arr.shape[-1]*arr.shape[-2])\n",
    "#print(arr)\n",
    "#arr.shape\n",
    "#torch.cuda.is_available()\n",
    "#1.24.3"
   ]
  }
 ],
 "metadata": {
  "kernelspec": {
   "display_name": "Python 3",
   "language": "python",
   "name": "python3"
  },
  "language_info": {
   "codemirror_mode": {
    "name": "ipython",
    "version": 3
   },
   "file_extension": ".py",
   "mimetype": "text/x-python",
   "name": "python",
   "nbconvert_exporter": "python",
   "pygments_lexer": "ipython3",
   "version": "3.11.5"
  },
  "orig_nbformat": 4
 },
 "nbformat": 4,
 "nbformat_minor": 2
}
