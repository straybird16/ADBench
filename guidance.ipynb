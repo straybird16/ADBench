{
 "cells": [
  {
   "cell_type": "markdown",
   "metadata": {},
   "source": [
    "**Step-by-step Guidence on How to Install and Use ADBench**"
   ]
  },
  {
   "cell_type": "markdown",
   "metadata": {},
   "source": [
    "# Install ADBench"
   ]
  },
  {
   "cell_type": "code",
   "execution_count": 1,
   "metadata": {},
   "outputs": [],
   "source": [
    "%load_ext autoreload\n",
    "%reload_ext autoreload\n",
    "%autoreload 2"
   ]
  },
  {
   "cell_type": "code",
   "execution_count": 2,
   "metadata": {
    "ExecuteTime": {
     "end_time": "2023-07-19T15:56:47.229748Z",
     "start_time": "2023-07-19T15:56:35.675200Z"
    }
   },
   "outputs": [],
   "source": [
    "#!pip install adbench\n",
    "#!pip install --upgrade adbench"
   ]
  },
  {
   "cell_type": "code",
   "execution_count": 2,
   "metadata": {
    "ExecuteTime": {
     "end_time": "2023-07-19T16:06:57.104897Z",
     "start_time": "2023-07-19T16:06:57.092930Z"
    }
   },
   "outputs": [
    {
     "name": "stderr",
     "output_type": "stream",
     "text": [
      "/Users/xxd/Documents/PhD/AD/.conda/lib/python3.10/site-packages/tqdm/auto.py:21: TqdmWarning: IProgress not found. Please update jupyter and ipywidgets. See https://ipywidgets.readthedocs.io/en/stable/user_install.html\n",
      "  from .autonotebook import tqdm as notebook_tqdm\n"
     ]
    }
   ],
   "source": [
    "# download datasets in ADBench from the remote github repo\n",
    "from adbench.myutils import Utils\n",
    "utils = Utils()\n",
    "# we recommend jihulab for China mainland user and github otherwise\n",
    "#utils.download_datasets(repo='github')"
   ]
  },
  {
   "cell_type": "markdown",
   "metadata": {
    "pycharm": {
     "name": "#%% md\n"
    }
   },
   "source": [
    "# Run ADBench "
   ]
  },
  {
   "cell_type": "markdown",
   "metadata": {
    "ExecuteTime": {
     "end_time": "2023-07-17T15:33:13.848925Z",
     "start_time": "2023-07-17T15:33:13.833498Z"
    }
   },
   "source": [
    "## Run ADBench experiments"
   ]
  },
  {
   "cell_type": "code",
   "execution_count": 3,
   "metadata": {
    "ExecuteTime": {
     "end_time": "2023-07-19T14:44:03.627289Z",
     "start_time": "2023-07-19T14:26:41.551958Z"
    },
    "pycharm": {
     "name": "#%%\n"
    }
   },
   "outputs": [
    {
     "data": {
      "text/plain": [
       "\"\\nParams:\\nsuffix: file name suffix;\\n\\nparallel: running either 'unsupervise', 'semi-supervise', or 'supervise' (AD) algorithms,\\ncorresponding to the Angle I: Availability of Ground Truth Labels (Supervision);\\n\\nrealistic_synthetic_mode: testing on 'local', 'global', 'dependency', and 'cluster' anomalies, \\ncorresponding to the Angle II: Types of Anomalies;\\n\\nnoise type: evaluating algorithms on 'duplicated_anomalies', 'irrelevant_features' and 'label_contamination',\\ncorresponding to the Angle III: Model Robustness with Noisy and Corrupted Data.\\n\""
      ]
     },
     "execution_count": 3,
     "metadata": {},
     "output_type": "execute_result"
    }
   ],
   "source": [
    "from adbench.run import RunPipeline\n",
    "\n",
    "'''\n",
    "Params:\n",
    "suffix: file name suffix;\n",
    "\n",
    "parallel: running either 'unsupervise', 'semi-supervise', or 'supervise' (AD) algorithms,\n",
    "corresponding to the Angle I: Availability of Ground Truth Labels (Supervision);\n",
    "\n",
    "realistic_synthetic_mode: testing on 'local', 'global', 'dependency', and 'cluster' anomalies, \n",
    "corresponding to the Angle II: Types of Anomalies;\n",
    "\n",
    "noise type: evaluating algorithms on 'duplicated_anomalies', 'irrelevant_features' and 'label_contamination',\n",
    "corresponding to the Angle III: Model Robustness with Noisy and Corrupted Data.\n",
    "'''"
   ]
  },
  {
   "cell_type": "code",
   "execution_count": 5,
   "metadata": {},
   "outputs": [],
   "source": [
    "# return the results including [params, model_name, metrics, time_fit, time_inference]\n",
    "# besides, results will be automatically saved in the dataframe and ouputted as csv file in adbench/result folder\n",
    "\n",
    "pipeline = RunPipeline(suffix='ADBench', parallel='semi-supervise', realistic_synthetic_mode=None, noise_type=None)\n",
    "results = pipeline.run()"
   ]
  },
  {
   "cell_type": "code",
   "execution_count": 6,
   "metadata": {},
   "outputs": [],
   "source": [
    "#pipeline = RunPipeline(suffix='ADBench', parallel='unsupervise', realistic_synthetic_mode='cluster', noise_type=None)\n",
    "#results = pipeline.run()"
   ]
  },
  {
   "cell_type": "code",
   "execution_count": 7,
   "metadata": {},
   "outputs": [],
   "source": [
    "#pipeline = RunPipeline(suffix='ADBench', parallel='supervise', realistic_synthetic_mode=None, noise_type='irrelevant_features')\n",
    "#results = pipeline.run()"
   ]
  },
  {
   "cell_type": "markdown",
   "metadata": {},
   "source": [
    "## Run your customized algorithm on ADBench datasets"
   ]
  },
  {
   "cell_type": "code",
   "execution_count": 82,
   "metadata": {},
   "outputs": [],
   "source": [
    "# customized model on ADBench's datasets\n",
    "from adbench.run import RunPipeline\n",
    "from adbench.baseline.Customized.run import SimpleAE\n",
    "\n",
    "# notice that you should specify the corresponding category of your customized AD algorithm\n",
    "# for example, here we use Logistic Regression as customized clf, which belongs to the supervised algorithm\n",
    "# for your own algorithm, you can realize the same usage as other baselines by modifying the fit.py, model.py, and run.py files in the adbench/baseline/Customized\n",
    "pipeline = RunPipeline(suffix='ADBench', parallel='unsupervise', realistic_synthetic_mode='dependency', noise_type=None, num_seed=3)"
   ]
  },
  {
   "cell_type": "code",
   "execution_count": 83,
   "metadata": {},
   "outputs": [
    {
     "name": "stdout",
     "output_type": "stream",
     "text": [
      "current noise type: None\n",
      "{'Samples': 5216, 'Features': 64, 'Anomalies': 150, 'Anomalies Ratio(%)': 2.88}\n",
      "current noise type: None\n",
      "{'Samples': 5216, 'Features': 64, 'Anomalies': 150, 'Anomalies Ratio(%)': 2.88}\n",
      "current noise type: None\n",
      "{'Samples': 5216, 'Features': 64, 'Anomalies': 150, 'Anomalies Ratio(%)': 2.88}\n",
      "generating duplicate samples for dataset 42_WBC...\n",
      "current noise type: None\n",
      "{'Samples': 2000, 'Features': 9, 'Anomalies': 83, 'Anomalies Ratio(%)': 4.15}\n",
      "generating duplicate samples for dataset 42_WBC...\n",
      "current noise type: None\n",
      "{'Samples': 2000, 'Features': 9, 'Anomalies': 91, 'Anomalies Ratio(%)': 4.55}\n",
      "generating duplicate samples for dataset 42_WBC...\n",
      "current noise type: None\n",
      "{'Samples': 2000, 'Features': 9, 'Anomalies': 93, 'Anomalies Ratio(%)': 4.65}\n",
      "generating duplicate samples for dataset 21_Lymphography...\n",
      "current noise type: None\n",
      "{'Samples': 2000, 'Features': 18, 'Anomalies': 74, 'Anomalies Ratio(%)': 3.7}\n",
      "generating duplicate samples for dataset 21_Lymphography...\n",
      "current noise type: None\n",
      "{'Samples': 2000, 'Features': 18, 'Anomalies': 74, 'Anomalies Ratio(%)': 3.7}\n",
      "generating duplicate samples for dataset 21_Lymphography...\n",
      "current noise type: None\n",
      "{'Samples': 2000, 'Features': 18, 'Anomalies': 80, 'Anomalies Ratio(%)': 4.0}\n",
      "subsampling for dataset 8_celeba...\n",
      "current noise type: None\n",
      "{'Samples': 10000, 'Features': 39, 'Anomalies': 222, 'Anomalies Ratio(%)': 2.22}\n",
      "subsampling for dataset 8_celeba...\n",
      "current noise type: None\n",
      "{'Samples': 10000, 'Features': 39, 'Anomalies': 238, 'Anomalies Ratio(%)': 2.38}\n",
      "subsampling for dataset 8_celeba...\n",
      "current noise type: None\n",
      "{'Samples': 10000, 'Features': 39, 'Anomalies': 216, 'Anomalies Ratio(%)': 2.16}\n",
      "subsampling for dataset 33_skin...\n",
      "current noise type: None\n",
      "{'Samples': 10000, 'Features': 3, 'Anomalies': 2081, 'Anomalies Ratio(%)': 20.81}\n",
      "subsampling for dataset 33_skin...\n",
      "current noise type: None\n",
      "{'Samples': 10000, 'Features': 3, 'Anomalies': 2082, 'Anomalies Ratio(%)': 20.82}\n",
      "subsampling for dataset 33_skin...\n",
      "current noise type: None\n",
      "{'Samples': 10000, 'Features': 3, 'Anomalies': 2066, 'Anomalies Ratio(%)': 20.66}\n",
      "subsampling for dataset 34_smtp...\n",
      "current noise type: None\n",
      "{'Samples': 10000, 'Features': 3, 'Anomalies': 4, 'Anomalies Ratio(%)': 0.04}\n",
      "subsampling for dataset 34_smtp...\n",
      "current noise type: None\n",
      "{'Samples': 10000, 'Features': 3, 'Anomalies': 4, 'Anomalies Ratio(%)': 0.04}\n",
      "subsampling for dataset 34_smtp...\n",
      "current noise type: None\n",
      "{'Samples': 10000, 'Features': 3, 'Anomalies': 5, 'Anomalies Ratio(%)': 0.05}\n",
      "current noise type: None\n",
      "{'Samples': 6870, 'Features': 16, 'Anomalies': 156, 'Anomalies Ratio(%)': 2.27}\n",
      "current noise type: None\n",
      "{'Samples': 6870, 'Features': 16, 'Anomalies': 156, 'Anomalies Ratio(%)': 2.27}\n",
      "current noise type: None\n",
      "{'Samples': 6870, 'Features': 16, 'Anomalies': 156, 'Anomalies Ratio(%)': 2.27}\n",
      "generating duplicate samples for dataset 39_vertebral...\n",
      "current noise type: None\n",
      "{'Samples': 2000, 'Features': 6, 'Anomalies': 263, 'Anomalies Ratio(%)': 13.15}\n",
      "generating duplicate samples for dataset 39_vertebral...\n",
      "current noise type: None\n",
      "{'Samples': 2000, 'Features': 6, 'Anomalies': 260, 'Anomalies Ratio(%)': 13.0}\n",
      "generating duplicate samples for dataset 39_vertebral...\n",
      "current noise type: None\n",
      "{'Samples': 2000, 'Features': 6, 'Anomalies': 259, 'Anomalies Ratio(%)': 12.95}\n",
      "subsampling for dataset 11_donors...\n",
      "current noise type: None\n",
      "{'Samples': 10000, 'Features': 10, 'Anomalies': 618, 'Anomalies Ratio(%)': 6.18}\n",
      "subsampling for dataset 11_donors...\n",
      "current noise type: None\n",
      "{'Samples': 10000, 'Features': 10, 'Anomalies': 578, 'Anomalies Ratio(%)': 5.78}\n",
      "subsampling for dataset 11_donors...\n",
      "current noise type: None\n",
      "{'Samples': 10000, 'Features': 10, 'Anomalies': 597, 'Anomalies Ratio(%)': 5.97}\n",
      "generating duplicate samples for dataset 43_WDBC...\n",
      "current noise type: None\n",
      "{'Samples': 2000, 'Features': 30, 'Anomalies': 50, 'Anomalies Ratio(%)': 2.5}\n",
      "generating duplicate samples for dataset 43_WDBC...\n",
      "current noise type: None\n",
      "{'Samples': 2000, 'Features': 30, 'Anomalies': 60, 'Anomalies Ratio(%)': 3.0}\n",
      "generating duplicate samples for dataset 43_WDBC...\n",
      "current noise type: None\n",
      "{'Samples': 2000, 'Features': 30, 'Anomalies': 53, 'Anomalies Ratio(%)': 2.65}\n",
      "current noise type: None\n",
      "{'Samples': 2114, 'Features': 21, 'Anomalies': 466, 'Anomalies Ratio(%)': 22.04}\n",
      "current noise type: None\n",
      "{'Samples': 2114, 'Features': 21, 'Anomalies': 466, 'Anomalies Ratio(%)': 22.04}\n",
      "current noise type: None\n",
      "{'Samples': 2114, 'Features': 21, 'Anomalies': 466, 'Anomalies Ratio(%)': 22.04}\n",
      "current noise type: None\n",
      "{'Samples': 3686, 'Features': 400, 'Anomalies': 61, 'Anomalies Ratio(%)': 1.65}\n",
      "current noise type: None\n",
      "{'Samples': 3686, 'Features': 400, 'Anomalies': 61, 'Anomalies Ratio(%)': 1.65}\n",
      "current noise type: None\n",
      "{'Samples': 3686, 'Features': 400, 'Anomalies': 61, 'Anomalies Ratio(%)': 1.65}\n",
      "subsampling for dataset 5_campaign...\n",
      "current noise type: None\n",
      "{'Samples': 10000, 'Features': 62, 'Anomalies': 1134, 'Anomalies Ratio(%)': 11.34}\n",
      "subsampling for dataset 5_campaign...\n",
      "current noise type: None\n",
      "{'Samples': 10000, 'Features': 62, 'Anomalies': 1129, 'Anomalies Ratio(%)': 11.29}\n",
      "subsampling for dataset 5_campaign...\n",
      "current noise type: None\n",
      "{'Samples': 10000, 'Features': 62, 'Anomalies': 1129, 'Anomalies Ratio(%)': 11.29}\n",
      "current noise type: None\n",
      "{'Samples': 4819, 'Features': 5, 'Anomalies': 257, 'Anomalies Ratio(%)': 5.33}\n",
      "current noise type: None\n",
      "{'Samples': 4819, 'Features': 5, 'Anomalies': 257, 'Anomalies Ratio(%)': 5.33}\n",
      "current noise type: None\n",
      "{'Samples': 4819, 'Features': 5, 'Anomalies': 257, 'Anomalies Ratio(%)': 5.33}\n",
      "subsampling for dataset 10_cover...\n",
      "current noise type: None\n",
      "{'Samples': 10000, 'Features': 10, 'Anomalies': 97, 'Anomalies Ratio(%)': 0.97}\n",
      "subsampling for dataset 10_cover...\n",
      "current noise type: None\n",
      "{'Samples': 10000, 'Features': 10, 'Anomalies': 116, 'Anomalies Ratio(%)': 1.16}\n",
      "subsampling for dataset 10_cover...\n",
      "current noise type: None\n",
      "{'Samples': 10000, 'Features': 10, 'Anomalies': 95, 'Anomalies Ratio(%)': 0.95}\n",
      "generating duplicate samples for dataset 46_WPBC...\n",
      "current noise type: None\n",
      "{'Samples': 2000, 'Features': 33, 'Anomalies': 467, 'Anomalies Ratio(%)': 23.35}\n",
      "generating duplicate samples for dataset 46_WPBC...\n",
      "current noise type: None\n",
      "{'Samples': 2000, 'Features': 33, 'Anomalies': 450, 'Anomalies Ratio(%)': 22.5}\n",
      "generating duplicate samples for dataset 46_WPBC...\n",
      "current noise type: None\n",
      "{'Samples': 2000, 'Features': 33, 'Anomalies': 443, 'Anomalies Ratio(%)': 22.15}\n",
      "generating duplicate samples for dataset 37_Stamps...\n",
      "current noise type: None\n",
      "{'Samples': 2000, 'Features': 9, 'Anomalies': 178, 'Anomalies Ratio(%)': 8.9}\n",
      "generating duplicate samples for dataset 37_Stamps...\n",
      "current noise type: None\n",
      "{'Samples': 2000, 'Features': 9, 'Anomalies': 195, 'Anomalies Ratio(%)': 9.75}\n",
      "generating duplicate samples for dataset 37_Stamps...\n",
      "current noise type: None\n",
      "{'Samples': 2000, 'Features': 9, 'Anomalies': 188, 'Anomalies Ratio(%)': 9.4}\n",
      "current noise type: None\n",
      "{'Samples': 7200, 'Features': 6, 'Anomalies': 534, 'Anomalies Ratio(%)': 7.42}\n",
      "current noise type: None\n",
      "{'Samples': 7200, 'Features': 6, 'Anomalies': 534, 'Anomalies Ratio(%)': 7.42}\n",
      "current noise type: None\n",
      "{'Samples': 7200, 'Features': 6, 'Anomalies': 534, 'Anomalies Ratio(%)': 7.42}\n",
      "current noise type: None\n",
      "{'Samples': 5393, 'Features': 10, 'Anomalies': 510, 'Anomalies Ratio(%)': 9.46}\n",
      "current noise type: None\n",
      "{'Samples': 5393, 'Features': 10, 'Anomalies': 510, 'Anomalies Ratio(%)': 9.46}\n",
      "current noise type: None\n",
      "{'Samples': 5393, 'Features': 10, 'Anomalies': 510, 'Anomalies Ratio(%)': 9.46}\n",
      "current noise type: None\n",
      "{'Samples': 5803, 'Features': 36, 'Anomalies': 71, 'Anomalies Ratio(%)': 1.22}\n",
      "current noise type: None\n",
      "{'Samples': 5803, 'Features': 36, 'Anomalies': 71, 'Anomalies Ratio(%)': 1.22}\n",
      "current noise type: None\n",
      "{'Samples': 5803, 'Features': 36, 'Anomalies': 71, 'Anomalies Ratio(%)': 1.22}\n",
      "subsampling for dataset 3_backdoor...\n",
      "current noise type: None\n",
      "{'Samples': 10000, 'Features': 196, 'Anomalies': 252, 'Anomalies Ratio(%)': 2.52}\n",
      "subsampling for dataset 3_backdoor...\n",
      "current noise type: None\n",
      "{'Samples': 10000, 'Features': 196, 'Anomalies': 246, 'Anomalies Ratio(%)': 2.46}\n",
      "subsampling for dataset 3_backdoor...\n",
      "current noise type: None\n",
      "{'Samples': 10000, 'Features': 196, 'Anomalies': 256, 'Anomalies Ratio(%)': 2.56}\n",
      "current noise type: None\n",
      "{'Samples': 3772, 'Features': 6, 'Anomalies': 93, 'Anomalies Ratio(%)': 2.47}\n",
      "current noise type: None\n",
      "{'Samples': 3772, 'Features': 6, 'Anomalies': 93, 'Anomalies Ratio(%)': 2.47}\n",
      "current noise type: None\n",
      "{'Samples': 3772, 'Features': 6, 'Anomalies': 93, 'Anomalies Ratio(%)': 2.47}\n",
      "generating duplicate samples for dataset 29_Pima...\n",
      "current noise type: None\n",
      "{'Samples': 2000, 'Features': 8, 'Anomalies': 732, 'Anomalies Ratio(%)': 36.6}\n",
      "generating duplicate samples for dataset 29_Pima...\n",
      "current noise type: None\n",
      "{'Samples': 2000, 'Features': 8, 'Anomalies': 682, 'Anomalies Ratio(%)': 34.1}\n",
      "generating duplicate samples for dataset 29_Pima...\n",
      "current noise type: None\n",
      "{'Samples': 2000, 'Features': 8, 'Anomalies': 653, 'Anomalies Ratio(%)': 32.65}\n",
      "current noise type: None\n",
      "{'Samples': 7603, 'Features': 100, 'Anomalies': 700, 'Anomalies Ratio(%)': 9.21}\n",
      "current noise type: None\n",
      "{'Samples': 7603, 'Features': 100, 'Anomalies': 700, 'Anomalies Ratio(%)': 9.21}\n",
      "current noise type: None\n",
      "{'Samples': 7603, 'Features': 100, 'Anomalies': 700, 'Anomalies Ratio(%)': 9.21}\n",
      "generating duplicate samples for dataset 15_Hepatitis...\n",
      "current noise type: None\n",
      "{'Samples': 2000, 'Features': 19, 'Anomalies': 342, 'Anomalies Ratio(%)': 17.1}\n",
      "generating duplicate samples for dataset 15_Hepatitis...\n",
      "current noise type: None\n",
      "{'Samples': 2000, 'Features': 19, 'Anomalies': 296, 'Anomalies Ratio(%)': 14.8}\n",
      "generating duplicate samples for dataset 15_Hepatitis...\n",
      "current noise type: None\n",
      "{'Samples': 2000, 'Features': 19, 'Anomalies': 298, 'Anomalies Ratio(%)': 14.9}\n",
      "subsampling for dataset 22_magic.gamma...\n",
      "current noise type: None\n",
      "{'Samples': 10000, 'Features': 10, 'Anomalies': 3548, 'Anomalies Ratio(%)': 35.48}\n",
      "subsampling for dataset 22_magic.gamma...\n",
      "current noise type: None\n",
      "{'Samples': 10000, 'Features': 10, 'Anomalies': 3533, 'Anomalies Ratio(%)': 35.33}\n",
      "subsampling for dataset 22_magic.gamma...\n",
      "current noise type: None\n",
      "{'Samples': 10000, 'Features': 10, 'Anomalies': 3500, 'Anomalies Ratio(%)': 35.0}\n",
      "subsampling for dataset 16_http...\n",
      "current noise type: None\n",
      "{'Samples': 10000, 'Features': 3, 'Anomalies': 46, 'Anomalies Ratio(%)': 0.46}\n",
      "subsampling for dataset 16_http...\n",
      "current noise type: None\n",
      "{'Samples': 10000, 'Features': 3, 'Anomalies': 35, 'Anomalies Ratio(%)': 0.35}\n",
      "subsampling for dataset 16_http...\n",
      "current noise type: None\n",
      "{'Samples': 10000, 'Features': 3, 'Anomalies': 34, 'Anomalies Ratio(%)': 0.34}\n",
      "subsampling for dataset 32_shuttle...\n",
      "current noise type: None\n",
      "{'Samples': 10000, 'Features': 9, 'Anomalies': 669, 'Anomalies Ratio(%)': 6.69}\n",
      "subsampling for dataset 32_shuttle...\n",
      "current noise type: None\n",
      "{'Samples': 10000, 'Features': 9, 'Anomalies': 697, 'Anomalies Ratio(%)': 6.97}\n",
      "subsampling for dataset 32_shuttle...\n",
      "current noise type: None\n",
      "{'Samples': 10000, 'Features': 9, 'Anomalies': 714, 'Anomalies Ratio(%)': 7.14}\n",
      "generating duplicate samples for dataset 12_fault...\n",
      "current noise type: None\n",
      "{'Samples': 2000, 'Features': 27, 'Anomalies': 693, 'Anomalies Ratio(%)': 34.65}\n",
      "generating duplicate samples for dataset 12_fault...\n",
      "current noise type: None\n",
      "{'Samples': 2000, 'Features': 27, 'Anomalies': 698, 'Anomalies Ratio(%)': 34.9}\n",
      "generating duplicate samples for dataset 12_fault...\n",
      "current noise type: None\n",
      "{'Samples': 2000, 'Features': 27, 'Anomalies': 699, 'Anomalies Ratio(%)': 34.95}\n",
      "generating duplicate samples for dataset 47_yeast...\n",
      "current noise type: None\n",
      "{'Samples': 2000, 'Features': 8, 'Anomalies': 709, 'Anomalies Ratio(%)': 35.45}\n",
      "generating duplicate samples for dataset 47_yeast...\n",
      "current noise type: None\n",
      "{'Samples': 2000, 'Features': 8, 'Anomalies': 685, 'Anomalies Ratio(%)': 34.25}\n",
      "generating duplicate samples for dataset 47_yeast...\n",
      "current noise type: None\n",
      "{'Samples': 2000, 'Features': 8, 'Anomalies': 676, 'Anomalies Ratio(%)': 33.8}\n",
      "subsampling for dataset 13_fraud...\n",
      "current noise type: None\n",
      "{'Samples': 10000, 'Features': 29, 'Anomalies': 15, 'Anomalies Ratio(%)': 0.15}\n",
      "subsampling for dataset 13_fraud...\n",
      "current noise type: None\n",
      "{'Samples': 10000, 'Features': 29, 'Anomalies': 15, 'Anomalies Ratio(%)': 0.15}\n",
      "subsampling for dataset 13_fraud...\n",
      "current noise type: None\n",
      "{'Samples': 10000, 'Features': 29, 'Anomalies': 13, 'Anomalies Ratio(%)': 0.13}\n",
      "current noise type: None\n",
      "{'Samples': 4207, 'Features': 57, 'Anomalies': 1679, 'Anomalies Ratio(%)': 39.91}\n",
      "current noise type: None\n",
      "{'Samples': 4207, 'Features': 57, 'Anomalies': 1679, 'Anomalies Ratio(%)': 39.91}\n",
      "current noise type: None\n",
      "{'Samples': 4207, 'Features': 57, 'Anomalies': 1679, 'Anomalies Ratio(%)': 39.91}\n",
      "current noise type: None\n",
      "{'Samples': 3443, 'Features': 21, 'Anomalies': 100, 'Anomalies Ratio(%)': 2.9}\n",
      "current noise type: None\n",
      "{'Samples': 3443, 'Features': 21, 'Anomalies': 100, 'Anomalies Ratio(%)': 2.9}\n",
      "current noise type: None\n",
      "{'Samples': 3443, 'Features': 21, 'Anomalies': 100, 'Anomalies Ratio(%)': 2.9}\n",
      "generating duplicate samples for dataset 17_InternetAds...\n",
      "current noise type: None\n",
      "{'Samples': 2000, 'Features': 1555, 'Anomalies': 377, 'Anomalies Ratio(%)': 18.85}\n",
      "generating duplicate samples for dataset 17_InternetAds...\n",
      "current noise type: None\n",
      "{'Samples': 2000, 'Features': 1555, 'Anomalies': 363, 'Anomalies Ratio(%)': 18.15}\n",
      "generating duplicate samples for dataset 17_InternetAds...\n",
      "current noise type: None\n",
      "{'Samples': 2000, 'Features': 1555, 'Anomalies': 383, 'Anomalies Ratio(%)': 19.15}\n",
      "generating duplicate samples for dataset 6_cardio...\n",
      "current noise type: None\n",
      "{'Samples': 2000, 'Features': 21, 'Anomalies': 182, 'Anomalies Ratio(%)': 9.1}\n",
      "generating duplicate samples for dataset 6_cardio...\n",
      "current noise type: None\n",
      "{'Samples': 2000, 'Features': 21, 'Anomalies': 180, 'Anomalies Ratio(%)': 9.0}\n",
      "generating duplicate samples for dataset 6_cardio...\n",
      "current noise type: None\n",
      "{'Samples': 2000, 'Features': 21, 'Anomalies': 199, 'Anomalies Ratio(%)': 9.95}\n",
      "subsampling for dataset 23_mammography...\n",
      "current noise type: None\n",
      "{'Samples': 10000, 'Features': 6, 'Anomalies': 230, 'Anomalies Ratio(%)': 2.3}\n",
      "subsampling for dataset 23_mammography...\n",
      "current noise type: None\n",
      "{'Samples': 10000, 'Features': 6, 'Anomalies': 241, 'Anomalies Ratio(%)': 2.41}\n",
      "subsampling for dataset 23_mammography...\n",
      "current noise type: None\n",
      "{'Samples': 10000, 'Features': 6, 'Anomalies': 227, 'Anomalies Ratio(%)': 2.27}\n",
      "generating duplicate samples for dataset 40_vowels...\n",
      "current noise type: None\n",
      "{'Samples': 2000, 'Features': 12, 'Anomalies': 61, 'Anomalies Ratio(%)': 3.05}\n",
      "generating duplicate samples for dataset 40_vowels...\n",
      "current noise type: None\n",
      "{'Samples': 2000, 'Features': 12, 'Anomalies': 67, 'Anomalies Ratio(%)': 3.35}\n",
      "generating duplicate samples for dataset 40_vowels...\n",
      "current noise type: None\n",
      "{'Samples': 2000, 'Features': 12, 'Anomalies': 73, 'Anomalies Ratio(%)': 3.65}\n",
      "subsampling for dataset 9_census...\n",
      "current noise type: None\n",
      "{'Samples': 10000, 'Features': 500, 'Anomalies': 618, 'Anomalies Ratio(%)': 6.18}\n",
      "subsampling for dataset 9_census...\n",
      "current noise type: None\n",
      "{'Samples': 10000, 'Features': 500, 'Anomalies': 628, 'Anomalies Ratio(%)': 6.28}\n",
      "subsampling for dataset 9_census...\n",
      "current noise type: None\n",
      "{'Samples': 10000, 'Features': 500, 'Anomalies': 652, 'Anomalies Ratio(%)': 6.52}\n",
      "generating duplicate samples for dataset 45_wine...\n",
      "current noise type: None\n",
      "{'Samples': 2000, 'Features': 13, 'Anomalies': 147, 'Anomalies Ratio(%)': 7.35}\n",
      "generating duplicate samples for dataset 45_wine...\n",
      "current noise type: None\n",
      "{'Samples': 2000, 'Features': 13, 'Anomalies': 150, 'Anomalies Ratio(%)': 7.5}\n",
      "generating duplicate samples for dataset 45_wine...\n",
      "current noise type: None\n",
      "{'Samples': 2000, 'Features': 13, 'Anomalies': 162, 'Anomalies Ratio(%)': 8.1}\n",
      "current noise type: None\n",
      "{'Samples': 3062, 'Features': 166, 'Anomalies': 97, 'Anomalies Ratio(%)': 3.17}\n",
      "current noise type: None\n",
      "{'Samples': 3062, 'Features': 166, 'Anomalies': 97, 'Anomalies Ratio(%)': 3.17}\n",
      "current noise type: None\n",
      "{'Samples': 3062, 'Features': 166, 'Anomalies': 97, 'Anomalies Ratio(%)': 3.17}\n",
      "subsampling for dataset 1_ALOI...\n",
      "current noise type: None\n",
      "{'Samples': 10000, 'Features': 27, 'Anomalies': 315, 'Anomalies Ratio(%)': 3.15}\n",
      "subsampling for dataset 1_ALOI...\n",
      "current noise type: None\n",
      "{'Samples': 10000, 'Features': 27, 'Anomalies': 334, 'Anomalies Ratio(%)': 3.34}\n",
      "subsampling for dataset 1_ALOI...\n",
      "current noise type: None\n",
      "{'Samples': 10000, 'Features': 27, 'Anomalies': 332, 'Anomalies Ratio(%)': 3.32}\n",
      "generating duplicate samples for dataset 18_Ionosphere...\n",
      "current noise type: None\n",
      "{'Samples': 2000, 'Features': 32, 'Anomalies': 716, 'Anomalies Ratio(%)': 35.8}\n",
      "generating duplicate samples for dataset 18_Ionosphere...\n",
      "current noise type: None\n",
      "{'Samples': 2000, 'Features': 32, 'Anomalies': 748, 'Anomalies Ratio(%)': 37.4}\n",
      "generating duplicate samples for dataset 18_Ionosphere...\n",
      "current noise type: None\n",
      "{'Samples': 2000, 'Features': 32, 'Anomalies': 691, 'Anomalies Ratio(%)': 34.55}\n",
      "generating duplicate samples for dataset 20_letter...\n",
      "current noise type: None\n",
      "{'Samples': 2000, 'Features': 32, 'Anomalies': 127, 'Anomalies Ratio(%)': 6.35}\n",
      "generating duplicate samples for dataset 20_letter...\n",
      "current noise type: None\n",
      "{'Samples': 2000, 'Features': 32, 'Anomalies': 139, 'Anomalies Ratio(%)': 6.95}\n",
      "generating duplicate samples for dataset 20_letter...\n",
      "current noise type: None\n",
      "{'Samples': 2000, 'Features': 32, 'Anomalies': 128, 'Anomalies Ratio(%)': 6.4}\n",
      "current noise type: None\n",
      "{'Samples': 6435, 'Features': 36, 'Anomalies': 1333, 'Anomalies Ratio(%)': 20.71}\n",
      "current noise type: None\n",
      "{'Samples': 6435, 'Features': 36, 'Anomalies': 1333, 'Anomalies Ratio(%)': 20.71}\n",
      "current noise type: None\n",
      "{'Samples': 6435, 'Features': 36, 'Anomalies': 1333, 'Anomalies Ratio(%)': 20.71}\n",
      "generating duplicate samples for dataset 14_glass...\n",
      "current noise type: None\n",
      "{'Samples': 2000, 'Features': 7, 'Anomalies': 85, 'Anomalies Ratio(%)': 4.25}\n",
      "generating duplicate samples for dataset 14_glass...\n",
      "current noise type: None\n",
      "{'Samples': 2000, 'Features': 7, 'Anomalies': 86, 'Anomalies Ratio(%)': 4.3}\n",
      "generating duplicate samples for dataset 14_glass...\n",
      "current noise type: None\n",
      "{'Samples': 2000, 'Features': 7, 'Anomalies': 76, 'Anomalies Ratio(%)': 3.8}\n",
      "current noise type: None\n",
      "{'Samples': 6435, 'Features': 36, 'Anomalies': 2036, 'Anomalies Ratio(%)': 31.64}\n",
      "current noise type: None\n",
      "{'Samples': 6435, 'Features': 36, 'Anomalies': 2036, 'Anomalies Ratio(%)': 31.64}\n",
      "current noise type: None\n",
      "{'Samples': 6435, 'Features': 36, 'Anomalies': 2036, 'Anomalies Ratio(%)': 31.64}\n",
      "generating duplicate samples for dataset 4_breastw...\n",
      "current noise type: None\n",
      "{'Samples': 2000, 'Features': 9, 'Anomalies': 691, 'Anomalies Ratio(%)': 34.55}\n",
      "generating duplicate samples for dataset 4_breastw...\n",
      "current noise type: None\n",
      "{'Samples': 2000, 'Features': 9, 'Anomalies': 680, 'Anomalies Ratio(%)': 34.0}\n",
      "generating duplicate samples for dataset 4_breastw...\n",
      "current noise type: None\n",
      "{'Samples': 2000, 'Features': 9, 'Anomalies': 700, 'Anomalies Ratio(%)': 35.0}\n",
      "current noise type: None\n",
      "{'Samples': 10000, 'Features': 512, 'Anomalies': 500, 'Anomalies Ratio(%)': 5.0}\n",
      "current noise type: None\n",
      "{'Samples': 10000, 'Features': 512, 'Anomalies': 500, 'Anomalies Ratio(%)': 5.0}\n",
      "current noise type: None\n",
      "{'Samples': 10000, 'Features': 512, 'Anomalies': 500, 'Anomalies Ratio(%)': 5.0}\n",
      "remove the dataset MNIST-C_spatter\n",
      "current noise type: None\n",
      "{'Samples': 10000, 'Features': 512, 'Anomalies': 500, 'Anomalies Ratio(%)': 5.0}\n",
      "current noise type: None\n",
      "{'Samples': 10000, 'Features': 512, 'Anomalies': 500, 'Anomalies Ratio(%)': 5.0}\n",
      "current noise type: None\n",
      "{'Samples': 10000, 'Features': 512, 'Anomalies': 500, 'Anomalies Ratio(%)': 5.0}\n",
      "remove the dataset MNIST-C_glass_blur\n",
      "generating duplicate samples for dataset MVTec-AD_pill...\n",
      "current noise type: None\n",
      "{'Samples': 2000, 'Features': 512, 'Anomalies': 623, 'Anomalies Ratio(%)': 31.15}\n",
      "generating duplicate samples for dataset MVTec-AD_pill...\n",
      "current noise type: None\n",
      "{'Samples': 2000, 'Features': 512, 'Anomalies': 604, 'Anomalies Ratio(%)': 30.2}\n",
      "generating duplicate samples for dataset MVTec-AD_pill...\n",
      "current noise type: None\n",
      "{'Samples': 2000, 'Features': 512, 'Anomalies': 630, 'Anomalies Ratio(%)': 31.5}\n",
      "remove the dataset MVTec-AD_pill\n",
      "current noise type: None\n",
      "{'Samples': 10000, 'Features': 512, 'Anomalies': 500, 'Anomalies Ratio(%)': 5.0}\n",
      "current noise type: None\n",
      "{'Samples': 10000, 'Features': 512, 'Anomalies': 500, 'Anomalies Ratio(%)': 5.0}\n",
      "current noise type: None\n",
      "{'Samples': 10000, 'Features': 512, 'Anomalies': 500, 'Anomalies Ratio(%)': 5.0}\n",
      "remove the dataset MNIST-C_rotate\n",
      "generating duplicate samples for dataset MVTec-AD_screw...\n",
      "current noise type: None\n",
      "{'Samples': 2000, 'Features': 512, 'Anomalies': 493, 'Anomalies Ratio(%)': 24.65}\n",
      "generating duplicate samples for dataset MVTec-AD_screw...\n",
      "current noise type: None\n",
      "{'Samples': 2000, 'Features': 512, 'Anomalies': 504, 'Anomalies Ratio(%)': 25.2}\n",
      "generating duplicate samples for dataset MVTec-AD_screw...\n",
      "current noise type: None\n",
      "{'Samples': 2000, 'Features': 512, 'Anomalies': 537, 'Anomalies Ratio(%)': 26.85}\n",
      "remove the dataset MVTec-AD_screw\n",
      "current noise type: None\n",
      "{'Samples': 5310, 'Features': 512, 'Anomalies': 265, 'Anomalies Ratio(%)': 4.99}\n",
      "current noise type: None\n",
      "{'Samples': 5310, 'Features': 512, 'Anomalies': 265, 'Anomalies Ratio(%)': 4.99}\n",
      "current noise type: None\n",
      "{'Samples': 5310, 'Features': 512, 'Anomalies': 265, 'Anomalies Ratio(%)': 4.99}\n",
      "remove the dataset SVHN_8\n",
      "current noise type: None\n",
      "{'Samples': 4904, 'Features': 512, 'Anomalies': 245, 'Anomalies Ratio(%)': 5.0}\n",
      "current noise type: None\n",
      "{'Samples': 4904, 'Features': 512, 'Anomalies': 245, 'Anomalies Ratio(%)': 5.0}\n",
      "current noise type: None\n",
      "{'Samples': 4904, 'Features': 512, 'Anomalies': 245, 'Anomalies Ratio(%)': 5.0}\n",
      "remove the dataset SVHN_9\n",
      "current noise type: None\n",
      "{'Samples': 10000, 'Features': 512, 'Anomalies': 500, 'Anomalies Ratio(%)': 5.0}\n",
      "current noise type: None\n",
      "{'Samples': 10000, 'Features': 512, 'Anomalies': 500, 'Anomalies Ratio(%)': 5.0}\n",
      "current noise type: None\n",
      "{'Samples': 10000, 'Features': 512, 'Anomalies': 500, 'Anomalies Ratio(%)': 5.0}\n",
      "remove the dataset MNIST-C_dotted_line\n",
      "current noise type: None\n",
      "{'Samples': 10000, 'Features': 512, 'Anomalies': 500, 'Anomalies Ratio(%)': 5.0}\n",
      "current noise type: None\n",
      "{'Samples': 10000, 'Features': 512, 'Anomalies': 500, 'Anomalies Ratio(%)': 5.0}\n",
      "current noise type: None\n",
      "{'Samples': 10000, 'Features': 512, 'Anomalies': 500, 'Anomalies Ratio(%)': 5.0}\n",
      "remove the dataset MNIST-C_shear\n",
      "current noise type: None\n",
      "{'Samples': 6315, 'Features': 512, 'Anomalies': 315, 'Anomalies Ratio(%)': 4.99}\n",
      "current noise type: None\n",
      "{'Samples': 6315, 'Features': 512, 'Anomalies': 315, 'Anomalies Ratio(%)': 4.99}\n",
      "current noise type: None\n",
      "{'Samples': 6315, 'Features': 512, 'Anomalies': 315, 'Anomalies Ratio(%)': 4.99}\n",
      "remove the dataset FashionMNIST_3\n",
      "generating duplicate samples for dataset MVTec-AD_toothbrush...\n",
      "current noise type: None\n",
      "{'Samples': 2000, 'Features': 512, 'Anomalies': 580, 'Anomalies Ratio(%)': 29.0}\n",
      "generating duplicate samples for dataset MVTec-AD_toothbrush...\n",
      "current noise type: None\n",
      "{'Samples': 2000, 'Features': 512, 'Anomalies': 570, 'Anomalies Ratio(%)': 28.5}\n",
      "generating duplicate samples for dataset MVTec-AD_toothbrush...\n",
      "current noise type: None\n",
      "{'Samples': 2000, 'Features': 512, 'Anomalies': 591, 'Anomalies Ratio(%)': 29.55}\n",
      "remove the dataset MVTec-AD_toothbrush\n",
      "current noise type: None\n",
      "{'Samples': 6315, 'Features': 512, 'Anomalies': 315, 'Anomalies Ratio(%)': 4.99}\n",
      "current noise type: None\n",
      "{'Samples': 6315, 'Features': 512, 'Anomalies': 315, 'Anomalies Ratio(%)': 4.99}\n",
      "current noise type: None\n",
      "{'Samples': 6315, 'Features': 512, 'Anomalies': 315, 'Anomalies Ratio(%)': 4.99}\n",
      "remove the dataset FashionMNIST_2\n",
      "current noise type: None\n",
      "{'Samples': 6315, 'Features': 512, 'Anomalies': 315, 'Anomalies Ratio(%)': 4.99}\n",
      "current noise type: None\n",
      "{'Samples': 6315, 'Features': 512, 'Anomalies': 315, 'Anomalies Ratio(%)': 4.99}\n",
      "current noise type: None\n",
      "{'Samples': 6315, 'Features': 512, 'Anomalies': 315, 'Anomalies Ratio(%)': 4.99}\n",
      "remove the dataset FashionMNIST_0\n",
      "current noise type: None\n",
      "{'Samples': 6315, 'Features': 512, 'Anomalies': 315, 'Anomalies Ratio(%)': 4.99}\n",
      "current noise type: None\n",
      "{'Samples': 6315, 'Features': 512, 'Anomalies': 315, 'Anomalies Ratio(%)': 4.99}\n",
      "current noise type: None\n",
      "{'Samples': 6315, 'Features': 512, 'Anomalies': 315, 'Anomalies Ratio(%)': 4.99}\n",
      "remove the dataset FashionMNIST_1\n",
      "current noise type: None\n",
      "{'Samples': 6315, 'Features': 512, 'Anomalies': 315, 'Anomalies Ratio(%)': 4.99}\n",
      "current noise type: None\n",
      "{'Samples': 6315, 'Features': 512, 'Anomalies': 315, 'Anomalies Ratio(%)': 4.99}\n",
      "current noise type: None\n",
      "{'Samples': 6315, 'Features': 512, 'Anomalies': 315, 'Anomalies Ratio(%)': 4.99}\n",
      "remove the dataset FashionMNIST_5\n",
      "current noise type: None\n",
      "{'Samples': 10000, 'Features': 512, 'Anomalies': 500, 'Anomalies Ratio(%)': 5.0}\n",
      "current noise type: None\n",
      "{'Samples': 10000, 'Features': 512, 'Anomalies': 500, 'Anomalies Ratio(%)': 5.0}\n",
      "current noise type: None\n",
      "{'Samples': 10000, 'Features': 512, 'Anomalies': 500, 'Anomalies Ratio(%)': 5.0}\n",
      "remove the dataset MNIST-C_identity\n",
      "generating duplicate samples for dataset MVTec-AD_leather...\n",
      "current noise type: None\n",
      "{'Samples': 2000, 'Features': 512, 'Anomalies': 525, 'Anomalies Ratio(%)': 26.25}\n",
      "generating duplicate samples for dataset MVTec-AD_leather...\n",
      "current noise type: None\n",
      "{'Samples': 2000, 'Features': 512, 'Anomalies': 513, 'Anomalies Ratio(%)': 25.65}\n",
      "generating duplicate samples for dataset MVTec-AD_leather...\n",
      "current noise type: None\n",
      "{'Samples': 2000, 'Features': 512, 'Anomalies': 485, 'Anomalies Ratio(%)': 24.25}\n",
      "remove the dataset MVTec-AD_leather\n",
      "current noise type: None\n",
      "{'Samples': 6315, 'Features': 512, 'Anomalies': 315, 'Anomalies Ratio(%)': 4.99}\n",
      "current noise type: None\n",
      "{'Samples': 6315, 'Features': 512, 'Anomalies': 315, 'Anomalies Ratio(%)': 4.99}\n",
      "current noise type: None\n",
      "{'Samples': 6315, 'Features': 512, 'Anomalies': 315, 'Anomalies Ratio(%)': 4.99}\n",
      "remove the dataset FashionMNIST_4\n",
      "current noise type: None\n",
      "{'Samples': 6315, 'Features': 512, 'Anomalies': 315, 'Anomalies Ratio(%)': 4.99}\n",
      "current noise type: None\n",
      "{'Samples': 6315, 'Features': 512, 'Anomalies': 315, 'Anomalies Ratio(%)': 4.99}\n",
      "current noise type: None\n",
      "{'Samples': 6315, 'Features': 512, 'Anomalies': 315, 'Anomalies Ratio(%)': 4.99}\n",
      "remove the dataset FashionMNIST_6\n",
      "current noise type: None\n",
      "{'Samples': 5263, 'Features': 512, 'Anomalies': 263, 'Anomalies Ratio(%)': 5.0}\n",
      "current noise type: None\n",
      "{'Samples': 5263, 'Features': 512, 'Anomalies': 263, 'Anomalies Ratio(%)': 5.0}\n",
      "current noise type: None\n",
      "{'Samples': 5263, 'Features': 512, 'Anomalies': 263, 'Anomalies Ratio(%)': 5.0}\n",
      "remove the dataset CIFAR10_8\n",
      "current noise type: None\n",
      "{'Samples': 5263, 'Features': 512, 'Anomalies': 263, 'Anomalies Ratio(%)': 5.0}\n",
      "current noise type: None\n",
      "{'Samples': 5263, 'Features': 512, 'Anomalies': 263, 'Anomalies Ratio(%)': 5.0}\n",
      "current noise type: None\n",
      "{'Samples': 5263, 'Features': 512, 'Anomalies': 263, 'Anomalies Ratio(%)': 5.0}\n",
      "remove the dataset CIFAR10_9\n",
      "generating duplicate samples for dataset MVTec-AD_metal_nut...\n",
      "current noise type: None\n",
      "{'Samples': 2000, 'Features': 512, 'Anomalies': 569, 'Anomalies Ratio(%)': 28.45}\n",
      "generating duplicate samples for dataset MVTec-AD_metal_nut...\n",
      "current noise type: None\n",
      "{'Samples': 2000, 'Features': 512, 'Anomalies': 556, 'Anomalies Ratio(%)': 27.8}\n",
      "generating duplicate samples for dataset MVTec-AD_metal_nut...\n",
      "current noise type: None\n",
      "{'Samples': 2000, 'Features': 512, 'Anomalies': 565, 'Anomalies Ratio(%)': 28.25}\n",
      "remove the dataset MVTec-AD_metal_nut\n",
      "current noise type: None\n",
      "{'Samples': 6315, 'Features': 512, 'Anomalies': 315, 'Anomalies Ratio(%)': 4.99}\n",
      "current noise type: None\n",
      "{'Samples': 6315, 'Features': 512, 'Anomalies': 315, 'Anomalies Ratio(%)': 4.99}\n",
      "current noise type: None\n",
      "{'Samples': 6315, 'Features': 512, 'Anomalies': 315, 'Anomalies Ratio(%)': 4.99}\n",
      "remove the dataset FashionMNIST_7\n",
      "current noise type: None\n",
      "{'Samples': 10000, 'Features': 512, 'Anomalies': 500, 'Anomalies Ratio(%)': 5.0}\n",
      "current noise type: None\n",
      "{'Samples': 10000, 'Features': 512, 'Anomalies': 500, 'Anomalies Ratio(%)': 5.0}\n",
      "current noise type: None\n",
      "{'Samples': 10000, 'Features': 512, 'Anomalies': 500, 'Anomalies Ratio(%)': 5.0}\n",
      "remove the dataset MNIST-C_motion_blur\n",
      "current noise type: None\n",
      "{'Samples': 10000, 'Features': 512, 'Anomalies': 500, 'Anomalies Ratio(%)': 5.0}\n",
      "current noise type: None\n",
      "{'Samples': 10000, 'Features': 512, 'Anomalies': 500, 'Anomalies Ratio(%)': 5.0}\n",
      "current noise type: None\n",
      "{'Samples': 10000, 'Features': 512, 'Anomalies': 500, 'Anomalies Ratio(%)': 5.0}\n",
      "remove the dataset MNIST-C_stripe\n",
      "current noise type: None\n",
      "{'Samples': 10000, 'Features': 512, 'Anomalies': 500, 'Anomalies Ratio(%)': 5.0}\n",
      "current noise type: None\n",
      "{'Samples': 10000, 'Features': 512, 'Anomalies': 500, 'Anomalies Ratio(%)': 5.0}\n",
      "current noise type: None\n",
      "{'Samples': 10000, 'Features': 512, 'Anomalies': 500, 'Anomalies Ratio(%)': 5.0}\n",
      "remove the dataset MNIST-C_impulse_noise\n",
      "current noise type: None\n",
      "{'Samples': 10000, 'Features': 512, 'Anomalies': 500, 'Anomalies Ratio(%)': 5.0}\n",
      "current noise type: None\n",
      "{'Samples': 10000, 'Features': 512, 'Anomalies': 500, 'Anomalies Ratio(%)': 5.0}\n",
      "current noise type: None\n",
      "{'Samples': 10000, 'Features': 512, 'Anomalies': 500, 'Anomalies Ratio(%)': 5.0}\n",
      "remove the dataset MNIST-C_translate\n",
      "current noise type: None\n",
      "{'Samples': 5263, 'Features': 512, 'Anomalies': 263, 'Anomalies Ratio(%)': 5.0}\n",
      "current noise type: None\n",
      "{'Samples': 5263, 'Features': 512, 'Anomalies': 263, 'Anomalies Ratio(%)': 5.0}\n",
      "current noise type: None\n",
      "{'Samples': 5263, 'Features': 512, 'Anomalies': 263, 'Anomalies Ratio(%)': 5.0}\n",
      "remove the dataset CIFAR10_4\n",
      "current noise type: None\n",
      "{'Samples': 5263, 'Features': 512, 'Anomalies': 263, 'Anomalies Ratio(%)': 5.0}\n",
      "current noise type: None\n",
      "{'Samples': 5263, 'Features': 512, 'Anomalies': 263, 'Anomalies Ratio(%)': 5.0}\n",
      "current noise type: None\n",
      "{'Samples': 5263, 'Features': 512, 'Anomalies': 263, 'Anomalies Ratio(%)': 5.0}\n",
      "remove the dataset CIFAR10_5\n",
      "current noise type: None\n",
      "{'Samples': 6315, 'Features': 512, 'Anomalies': 315, 'Anomalies Ratio(%)': 4.99}\n",
      "current noise type: None\n",
      "{'Samples': 6315, 'Features': 512, 'Anomalies': 315, 'Anomalies Ratio(%)': 4.99}\n",
      "current noise type: None\n",
      "{'Samples': 6315, 'Features': 512, 'Anomalies': 315, 'Anomalies Ratio(%)': 4.99}\n",
      "remove the dataset FashionMNIST_9\n",
      "current noise type: None\n",
      "{'Samples': 10000, 'Features': 512, 'Anomalies': 500, 'Anomalies Ratio(%)': 5.0}\n",
      "current noise type: None\n",
      "{'Samples': 10000, 'Features': 512, 'Anomalies': 500, 'Anomalies Ratio(%)': 5.0}\n",
      "current noise type: None\n",
      "{'Samples': 10000, 'Features': 512, 'Anomalies': 500, 'Anomalies Ratio(%)': 5.0}\n",
      "remove the dataset MNIST-C_brightness\n",
      "current noise type: None\n",
      "{'Samples': 5263, 'Features': 512, 'Anomalies': 263, 'Anomalies Ratio(%)': 5.0}\n",
      "current noise type: None\n",
      "{'Samples': 5263, 'Features': 512, 'Anomalies': 263, 'Anomalies Ratio(%)': 5.0}\n",
      "current noise type: None\n",
      "{'Samples': 5263, 'Features': 512, 'Anomalies': 263, 'Anomalies Ratio(%)': 5.0}\n",
      "remove the dataset CIFAR10_7\n",
      "current noise type: None\n",
      "{'Samples': 5263, 'Features': 512, 'Anomalies': 263, 'Anomalies Ratio(%)': 5.0}\n",
      "current noise type: None\n",
      "{'Samples': 5263, 'Features': 512, 'Anomalies': 263, 'Anomalies Ratio(%)': 5.0}\n",
      "current noise type: None\n",
      "{'Samples': 5263, 'Features': 512, 'Anomalies': 263, 'Anomalies Ratio(%)': 5.0}\n",
      "remove the dataset CIFAR10_6\n",
      "current noise type: None\n",
      "{'Samples': 6315, 'Features': 512, 'Anomalies': 315, 'Anomalies Ratio(%)': 4.99}\n",
      "current noise type: None\n",
      "{'Samples': 6315, 'Features': 512, 'Anomalies': 315, 'Anomalies Ratio(%)': 4.99}\n",
      "current noise type: None\n",
      "{'Samples': 6315, 'Features': 512, 'Anomalies': 315, 'Anomalies Ratio(%)': 4.99}\n",
      "remove the dataset FashionMNIST_8\n",
      "current noise type: None\n",
      "{'Samples': 5263, 'Features': 512, 'Anomalies': 263, 'Anomalies Ratio(%)': 5.0}\n",
      "current noise type: None\n",
      "{'Samples': 5263, 'Features': 512, 'Anomalies': 263, 'Anomalies Ratio(%)': 5.0}\n",
      "current noise type: None\n",
      "{'Samples': 5263, 'Features': 512, 'Anomalies': 263, 'Anomalies Ratio(%)': 5.0}\n",
      "remove the dataset CIFAR10_2\n",
      "generating duplicate samples for dataset MVTec-AD_tile...\n",
      "current noise type: None\n",
      "{'Samples': 2000, 'Features': 512, 'Anomalies': 464, 'Anomalies Ratio(%)': 23.2}\n",
      "generating duplicate samples for dataset MVTec-AD_tile...\n",
      "current noise type: None\n",
      "{'Samples': 2000, 'Features': 512, 'Anomalies': 476, 'Anomalies Ratio(%)': 23.8}\n",
      "generating duplicate samples for dataset MVTec-AD_tile...\n",
      "current noise type: None\n",
      "{'Samples': 2000, 'Features': 512, 'Anomalies': 495, 'Anomalies Ratio(%)': 24.75}\n",
      "remove the dataset MVTec-AD_tile\n",
      "current noise type: None\n",
      "{'Samples': 5263, 'Features': 512, 'Anomalies': 263, 'Anomalies Ratio(%)': 5.0}\n",
      "current noise type: None\n",
      "{'Samples': 5263, 'Features': 512, 'Anomalies': 263, 'Anomalies Ratio(%)': 5.0}\n",
      "current noise type: None\n",
      "{'Samples': 5263, 'Features': 512, 'Anomalies': 263, 'Anomalies Ratio(%)': 5.0}\n",
      "remove the dataset CIFAR10_3\n",
      "generating duplicate samples for dataset MVTec-AD_carpet...\n",
      "current noise type: None\n",
      "{'Samples': 2000, 'Features': 512, 'Anomalies': 471, 'Anomalies Ratio(%)': 23.55}\n",
      "generating duplicate samples for dataset MVTec-AD_carpet...\n",
      "current noise type: None\n",
      "{'Samples': 2000, 'Features': 512, 'Anomalies': 460, 'Anomalies Ratio(%)': 23.0}\n",
      "generating duplicate samples for dataset MVTec-AD_carpet...\n",
      "current noise type: None\n",
      "{'Samples': 2000, 'Features': 512, 'Anomalies': 432, 'Anomalies Ratio(%)': 21.6}\n",
      "remove the dataset MVTec-AD_carpet\n",
      "current noise type: None\n",
      "{'Samples': 5263, 'Features': 512, 'Anomalies': 263, 'Anomalies Ratio(%)': 5.0}\n",
      "current noise type: None\n",
      "{'Samples': 5263, 'Features': 512, 'Anomalies': 263, 'Anomalies Ratio(%)': 5.0}\n",
      "current noise type: None\n",
      "{'Samples': 5263, 'Features': 512, 'Anomalies': 263, 'Anomalies Ratio(%)': 5.0}\n",
      "remove the dataset CIFAR10_1\n",
      "generating duplicate samples for dataset MVTec-AD_capsule...\n",
      "current noise type: None\n",
      "{'Samples': 2000, 'Features': 512, 'Anomalies': 623, 'Anomalies Ratio(%)': 31.15}\n",
      "generating duplicate samples for dataset MVTec-AD_capsule...\n",
      "current noise type: None\n",
      "{'Samples': 2000, 'Features': 512, 'Anomalies': 615, 'Anomalies Ratio(%)': 30.75}\n",
      "generating duplicate samples for dataset MVTec-AD_capsule...\n",
      "current noise type: None\n",
      "{'Samples': 2000, 'Features': 512, 'Anomalies': 616, 'Anomalies Ratio(%)': 30.8}\n",
      "remove the dataset MVTec-AD_capsule\n",
      "current noise type: None\n",
      "{'Samples': 5263, 'Features': 512, 'Anomalies': 263, 'Anomalies Ratio(%)': 5.0}\n",
      "current noise type: None\n",
      "{'Samples': 5263, 'Features': 512, 'Anomalies': 263, 'Anomalies Ratio(%)': 5.0}\n",
      "current noise type: None\n",
      "{'Samples': 5263, 'Features': 512, 'Anomalies': 263, 'Anomalies Ratio(%)': 5.0}\n",
      "remove the dataset CIFAR10_0\n",
      "current noise type: None\n",
      "{'Samples': 10000, 'Features': 512, 'Anomalies': 500, 'Anomalies Ratio(%)': 5.0}\n",
      "current noise type: None\n",
      "{'Samples': 10000, 'Features': 512, 'Anomalies': 500, 'Anomalies Ratio(%)': 5.0}\n",
      "current noise type: None\n",
      "{'Samples': 10000, 'Features': 512, 'Anomalies': 500, 'Anomalies Ratio(%)': 5.0}\n",
      "remove the dataset MNIST-C_canny_edges\n",
      "current noise type: None\n",
      "{'Samples': 5889, 'Features': 512, 'Anomalies': 294, 'Anomalies Ratio(%)': 4.99}\n",
      "current noise type: None\n",
      "{'Samples': 5889, 'Features': 512, 'Anomalies': 294, 'Anomalies Ratio(%)': 4.99}\n",
      "current noise type: None\n",
      "{'Samples': 5889, 'Features': 512, 'Anomalies': 294, 'Anomalies Ratio(%)': 4.99}\n",
      "remove the dataset SVHN_7\n",
      "generating duplicate samples for dataset MVTec-AD_grid...\n",
      "current noise type: None\n",
      "{'Samples': 2000, 'Features': 512, 'Anomalies': 362, 'Anomalies Ratio(%)': 18.1}\n",
      "generating duplicate samples for dataset MVTec-AD_grid...\n",
      "current noise type: None\n",
      "{'Samples': 2000, 'Features': 512, 'Anomalies': 336, 'Anomalies Ratio(%)': 16.8}\n",
      "generating duplicate samples for dataset MVTec-AD_grid...\n",
      "current noise type: None\n",
      "{'Samples': 2000, 'Features': 512, 'Anomalies': 325, 'Anomalies Ratio(%)': 16.25}\n",
      "remove the dataset MVTec-AD_grid\n",
      "current noise type: None\n",
      "{'Samples': 10000, 'Features': 512, 'Anomalies': 500, 'Anomalies Ratio(%)': 5.0}\n",
      "current noise type: None\n",
      "{'Samples': 10000, 'Features': 512, 'Anomalies': 500, 'Anomalies Ratio(%)': 5.0}\n",
      "current noise type: None\n",
      "{'Samples': 10000, 'Features': 512, 'Anomalies': 500, 'Anomalies Ratio(%)': 5.0}\n",
      "remove the dataset MNIST-C_fog\n",
      "generating duplicate samples for dataset MVTec-AD_bottle...\n",
      "current noise type: None\n",
      "{'Samples': 2000, 'Features': 512, 'Anomalies': 437, 'Anomalies Ratio(%)': 21.85}\n",
      "generating duplicate samples for dataset MVTec-AD_bottle...\n",
      "current noise type: None\n",
      "{'Samples': 2000, 'Features': 512, 'Anomalies': 444, 'Anomalies Ratio(%)': 22.2}\n",
      "generating duplicate samples for dataset MVTec-AD_bottle...\n",
      "current noise type: None\n",
      "{'Samples': 2000, 'Features': 512, 'Anomalies': 391, 'Anomalies Ratio(%)': 19.55}\n",
      "remove the dataset MVTec-AD_bottle\n",
      "current noise type: None\n",
      "{'Samples': 6028, 'Features': 512, 'Anomalies': 301, 'Anomalies Ratio(%)': 4.99}\n",
      "current noise type: None\n",
      "{'Samples': 6028, 'Features': 512, 'Anomalies': 301, 'Anomalies Ratio(%)': 4.99}\n",
      "current noise type: None\n",
      "{'Samples': 6028, 'Features': 512, 'Anomalies': 301, 'Anomalies Ratio(%)': 4.99}\n",
      "remove the dataset SVHN_6\n",
      "current noise type: None\n",
      "{'Samples': 7850, 'Features': 512, 'Anomalies': 392, 'Anomalies Ratio(%)': 4.99}\n",
      "current noise type: None\n",
      "{'Samples': 7850, 'Features': 512, 'Anomalies': 392, 'Anomalies Ratio(%)': 4.99}\n",
      "current noise type: None\n",
      "{'Samples': 7850, 'Features': 512, 'Anomalies': 392, 'Anomalies Ratio(%)': 4.99}\n",
      "remove the dataset SVHN_4\n",
      "generating duplicate samples for dataset MVTec-AD_wood...\n",
      "current noise type: None\n",
      "{'Samples': 2000, 'Features': 512, 'Anomalies': 368, 'Anomalies Ratio(%)': 18.4}\n",
      "generating duplicate samples for dataset MVTec-AD_wood...\n",
      "current noise type: None\n",
      "{'Samples': 2000, 'Features': 512, 'Anomalies': 378, 'Anomalies Ratio(%)': 18.9}\n",
      "generating duplicate samples for dataset MVTec-AD_wood...\n",
      "current noise type: None\n",
      "{'Samples': 2000, 'Features': 512, 'Anomalies': 359, 'Anomalies Ratio(%)': 17.95}\n",
      "remove the dataset MVTec-AD_wood\n",
      "generating duplicate samples for dataset MVTec-AD_zipper...\n",
      "current noise type: None\n",
      "{'Samples': 2000, 'Features': 512, 'Anomalies': 619, 'Anomalies Ratio(%)': 30.95}\n",
      "generating duplicate samples for dataset MVTec-AD_zipper...\n",
      "current noise type: None\n",
      "{'Samples': 2000, 'Features': 512, 'Anomalies': 616, 'Anomalies Ratio(%)': 30.8}\n",
      "generating duplicate samples for dataset MVTec-AD_zipper...\n",
      "current noise type: None\n",
      "{'Samples': 2000, 'Features': 512, 'Anomalies': 623, 'Anomalies Ratio(%)': 31.15}\n",
      "remove the dataset MVTec-AD_zipper\n",
      "generating duplicate samples for dataset MVTec-AD_cable...\n",
      "current noise type: None\n",
      "{'Samples': 2000, 'Features': 512, 'Anomalies': 479, 'Anomalies Ratio(%)': 23.95}\n",
      "generating duplicate samples for dataset MVTec-AD_cable...\n",
      "current noise type: None\n",
      "{'Samples': 2000, 'Features': 512, 'Anomalies': 519, 'Anomalies Ratio(%)': 25.95}\n",
      "generating duplicate samples for dataset MVTec-AD_cable...\n",
      "current noise type: None\n",
      "{'Samples': 2000, 'Features': 512, 'Anomalies': 496, 'Anomalies Ratio(%)': 24.8}\n",
      "remove the dataset MVTec-AD_cable\n",
      "current noise type: None\n",
      "{'Samples': 7244, 'Features': 512, 'Anomalies': 362, 'Anomalies Ratio(%)': 5.0}\n",
      "current noise type: None\n",
      "{'Samples': 7244, 'Features': 512, 'Anomalies': 362, 'Anomalies Ratio(%)': 5.0}\n",
      "current noise type: None\n",
      "{'Samples': 7244, 'Features': 512, 'Anomalies': 362, 'Anomalies Ratio(%)': 5.0}\n",
      "remove the dataset SVHN_5\n",
      "current noise type: None\n",
      "{'Samples': 10000, 'Features': 512, 'Anomalies': 500, 'Anomalies Ratio(%)': 5.0}\n",
      "current noise type: None\n",
      "{'Samples': 10000, 'Features': 512, 'Anomalies': 500, 'Anomalies Ratio(%)': 5.0}\n",
      "current noise type: None\n",
      "{'Samples': 10000, 'Features': 512, 'Anomalies': 500, 'Anomalies Ratio(%)': 5.0}\n",
      "remove the dataset MNIST-C_zigzag\n",
      "current noise type: None\n",
      "{'Samples': 10000, 'Features': 512, 'Anomalies': 500, 'Anomalies Ratio(%)': 5.0}\n",
      "current noise type: None\n",
      "{'Samples': 10000, 'Features': 512, 'Anomalies': 500, 'Anomalies Ratio(%)': 5.0}\n",
      "current noise type: None\n",
      "{'Samples': 10000, 'Features': 512, 'Anomalies': 500, 'Anomalies Ratio(%)': 5.0}\n",
      "remove the dataset SVHN_1\n",
      "current noise type: None\n",
      "{'Samples': 10000, 'Features': 512, 'Anomalies': 500, 'Anomalies Ratio(%)': 5.0}\n",
      "current noise type: None\n",
      "{'Samples': 10000, 'Features': 512, 'Anomalies': 500, 'Anomalies Ratio(%)': 5.0}\n",
      "current noise type: None\n",
      "{'Samples': 10000, 'Features': 512, 'Anomalies': 500, 'Anomalies Ratio(%)': 5.0}\n",
      "remove the dataset MNIST-C_scale\n",
      "current noise type: None\n",
      "{'Samples': 5208, 'Features': 512, 'Anomalies': 260, 'Anomalies Ratio(%)': 4.99}\n",
      "current noise type: None\n",
      "{'Samples': 5208, 'Features': 512, 'Anomalies': 260, 'Anomalies Ratio(%)': 4.99}\n",
      "current noise type: None\n",
      "{'Samples': 5208, 'Features': 512, 'Anomalies': 260, 'Anomalies Ratio(%)': 4.99}\n",
      "remove the dataset SVHN_0\n",
      "current noise type: None\n",
      "{'Samples': 10000, 'Features': 512, 'Anomalies': 500, 'Anomalies Ratio(%)': 5.0}\n",
      "current noise type: None\n",
      "{'Samples': 10000, 'Features': 512, 'Anomalies': 500, 'Anomalies Ratio(%)': 5.0}\n",
      "current noise type: None\n",
      "{'Samples': 10000, 'Features': 512, 'Anomalies': 500, 'Anomalies Ratio(%)': 5.0}\n",
      "remove the dataset SVHN_2\n",
      "current noise type: None\n",
      "{'Samples': 10000, 'Features': 512, 'Anomalies': 500, 'Anomalies Ratio(%)': 5.0}\n",
      "current noise type: None\n",
      "{'Samples': 10000, 'Features': 512, 'Anomalies': 500, 'Anomalies Ratio(%)': 5.0}\n",
      "current noise type: None\n",
      "{'Samples': 10000, 'Features': 512, 'Anomalies': 500, 'Anomalies Ratio(%)': 5.0}\n",
      "remove the dataset MNIST-C_shot_noise\n",
      "generating duplicate samples for dataset MVTec-AD_transistor...\n",
      "current noise type: None\n",
      "{'Samples': 2000, 'Features': 512, 'Anomalies': 240, 'Anomalies Ratio(%)': 12.0}\n",
      "generating duplicate samples for dataset MVTec-AD_transistor...\n",
      "current noise type: None\n",
      "{'Samples': 2000, 'Features': 512, 'Anomalies': 265, 'Anomalies Ratio(%)': 13.25}\n",
      "generating duplicate samples for dataset MVTec-AD_transistor...\n",
      "current noise type: None\n",
      "{'Samples': 2000, 'Features': 512, 'Anomalies': 252, 'Anomalies Ratio(%)': 12.6}\n",
      "remove the dataset MVTec-AD_transistor\n",
      "generating duplicate samples for dataset MVTec-AD_hazelnut...\n",
      "current noise type: None\n",
      "{'Samples': 2000, 'Features': 512, 'Anomalies': 271, 'Anomalies Ratio(%)': 13.55}\n",
      "generating duplicate samples for dataset MVTec-AD_hazelnut...\n",
      "current noise type: None\n",
      "{'Samples': 2000, 'Features': 512, 'Anomalies': 308, 'Anomalies Ratio(%)': 15.4}\n",
      "generating duplicate samples for dataset MVTec-AD_hazelnut...\n",
      "current noise type: None\n",
      "{'Samples': 2000, 'Features': 512, 'Anomalies': 268, 'Anomalies Ratio(%)': 13.4}\n",
      "remove the dataset MVTec-AD_hazelnut\n",
      "current noise type: None\n",
      "{'Samples': 8944, 'Features': 512, 'Anomalies': 447, 'Anomalies Ratio(%)': 5.0}\n",
      "current noise type: None\n",
      "{'Samples': 8944, 'Features': 512, 'Anomalies': 447, 'Anomalies Ratio(%)': 5.0}\n",
      "current noise type: None\n",
      "{'Samples': 8944, 'Features': 512, 'Anomalies': 447, 'Anomalies Ratio(%)': 5.0}\n",
      "remove the dataset SVHN_3\n",
      "current noise type: None\n",
      "{'Samples': 10000, 'Features': 768, 'Anomalies': 500, 'Anomalies Ratio(%)': 5.0}\n",
      "current noise type: None\n",
      "{'Samples': 10000, 'Features': 768, 'Anomalies': 500, 'Anomalies Ratio(%)': 5.0}\n",
      "current noise type: None\n",
      "{'Samples': 10000, 'Features': 768, 'Anomalies': 500, 'Anomalies Ratio(%)': 5.0}\n",
      "remove the dataset yelp\n",
      "current noise type: None\n",
      "{'Samples': 10000, 'Features': 768, 'Anomalies': 500, 'Anomalies Ratio(%)': 5.0}\n",
      "current noise type: None\n",
      "{'Samples': 10000, 'Features': 768, 'Anomalies': 500, 'Anomalies Ratio(%)': 5.0}\n",
      "current noise type: None\n",
      "{'Samples': 10000, 'Features': 768, 'Anomalies': 500, 'Anomalies Ratio(%)': 5.0}\n",
      "remove the dataset imdb\n",
      "generating duplicate samples for dataset 20news_4...\n",
      "current noise type: None\n",
      "{'Samples': 2000, 'Features': 768, 'Anomalies': 80, 'Anomalies Ratio(%)': 4.0}\n",
      "generating duplicate samples for dataset 20news_4...\n",
      "current noise type: None\n",
      "{'Samples': 2000, 'Features': 768, 'Anomalies': 99, 'Anomalies Ratio(%)': 4.95}\n",
      "generating duplicate samples for dataset 20news_4...\n",
      "current noise type: None\n",
      "{'Samples': 2000, 'Features': 768, 'Anomalies': 100, 'Anomalies Ratio(%)': 5.0}\n",
      "remove the dataset 20news_4\n",
      "current noise type: None\n",
      "{'Samples': 10000, 'Features': 768, 'Anomalies': 500, 'Anomalies Ratio(%)': 5.0}\n",
      "current noise type: None\n",
      "{'Samples': 10000, 'Features': 768, 'Anomalies': 500, 'Anomalies Ratio(%)': 5.0}\n",
      "current noise type: None\n",
      "{'Samples': 10000, 'Features': 768, 'Anomalies': 500, 'Anomalies Ratio(%)': 5.0}\n",
      "remove the dataset agnews_2\n",
      "current noise type: None\n",
      "{'Samples': 10000, 'Features': 768, 'Anomalies': 500, 'Anomalies Ratio(%)': 5.0}\n",
      "current noise type: None\n",
      "{'Samples': 10000, 'Features': 768, 'Anomalies': 500, 'Anomalies Ratio(%)': 5.0}\n",
      "current noise type: None\n",
      "{'Samples': 10000, 'Features': 768, 'Anomalies': 500, 'Anomalies Ratio(%)': 5.0}\n",
      "remove the dataset agnews_3\n",
      "generating duplicate samples for dataset 20news_5...\n",
      "current noise type: None\n",
      "{'Samples': 2000, 'Features': 768, 'Anomalies': 105, 'Anomalies Ratio(%)': 5.25}\n",
      "generating duplicate samples for dataset 20news_5...\n",
      "current noise type: None\n",
      "{'Samples': 2000, 'Features': 768, 'Anomalies': 104, 'Anomalies Ratio(%)': 5.2}\n",
      "generating duplicate samples for dataset 20news_5...\n",
      "current noise type: None\n",
      "{'Samples': 2000, 'Features': 768, 'Anomalies': 117, 'Anomalies Ratio(%)': 5.85}\n",
      "remove the dataset 20news_5\n",
      "current noise type: None\n",
      "{'Samples': 10000, 'Features': 768, 'Anomalies': 500, 'Anomalies Ratio(%)': 5.0}\n",
      "current noise type: None\n",
      "{'Samples': 10000, 'Features': 768, 'Anomalies': 500, 'Anomalies Ratio(%)': 5.0}\n",
      "current noise type: None\n",
      "{'Samples': 10000, 'Features': 768, 'Anomalies': 500, 'Anomalies Ratio(%)': 5.0}\n",
      "remove the dataset agnews_1\n",
      "current noise type: None\n",
      "{'Samples': 10000, 'Features': 768, 'Anomalies': 500, 'Anomalies Ratio(%)': 5.0}\n",
      "current noise type: None\n",
      "{'Samples': 10000, 'Features': 768, 'Anomalies': 500, 'Anomalies Ratio(%)': 5.0}\n",
      "current noise type: None\n",
      "{'Samples': 10000, 'Features': 768, 'Anomalies': 500, 'Anomalies Ratio(%)': 5.0}\n",
      "remove the dataset agnews_0\n",
      "current noise type: None\n",
      "{'Samples': 2497, 'Features': 768, 'Anomalies': 124, 'Anomalies Ratio(%)': 4.97}\n",
      "current noise type: None\n",
      "{'Samples': 2497, 'Features': 768, 'Anomalies': 124, 'Anomalies Ratio(%)': 4.97}\n",
      "current noise type: None\n",
      "{'Samples': 2497, 'Features': 768, 'Anomalies': 124, 'Anomalies Ratio(%)': 4.97}\n",
      "remove the dataset 20news_2\n",
      "generating duplicate samples for dataset 20news_3...\n",
      "current noise type: None\n",
      "{'Samples': 2000, 'Features': 768, 'Anomalies': 91, 'Anomalies Ratio(%)': 4.55}\n",
      "generating duplicate samples for dataset 20news_3...\n",
      "current noise type: None\n",
      "{'Samples': 2000, 'Features': 768, 'Anomalies': 91, 'Anomalies Ratio(%)': 4.55}\n",
      "generating duplicate samples for dataset 20news_3...\n",
      "current noise type: None\n",
      "{'Samples': 2000, 'Features': 768, 'Anomalies': 103, 'Anomalies Ratio(%)': 5.15}\n",
      "remove the dataset 20news_3\n",
      "current noise type: None\n",
      "{'Samples': 2514, 'Features': 768, 'Anomalies': 125, 'Anomalies Ratio(%)': 4.97}\n",
      "current noise type: None\n",
      "{'Samples': 2514, 'Features': 768, 'Anomalies': 125, 'Anomalies Ratio(%)': 4.97}\n",
      "current noise type: None\n",
      "{'Samples': 2514, 'Features': 768, 'Anomalies': 125, 'Anomalies Ratio(%)': 4.97}\n",
      "remove the dataset 20news_1\n",
      "current noise type: None\n",
      "{'Samples': 3090, 'Features': 768, 'Anomalies': 154, 'Anomalies Ratio(%)': 4.98}\n",
      "current noise type: None\n",
      "{'Samples': 3090, 'Features': 768, 'Anomalies': 154, 'Anomalies Ratio(%)': 4.98}\n",
      "current noise type: None\n",
      "{'Samples': 3090, 'Features': 768, 'Anomalies': 154, 'Anomalies Ratio(%)': 4.98}\n",
      "remove the dataset 20news_0\n",
      "current noise type: None\n",
      "{'Samples': 10000, 'Features': 768, 'Anomalies': 500, 'Anomalies Ratio(%)': 5.0}\n",
      "current noise type: None\n",
      "{'Samples': 10000, 'Features': 768, 'Anomalies': 500, 'Anomalies Ratio(%)': 5.0}\n",
      "current noise type: None\n",
      "{'Samples': 10000, 'Features': 768, 'Anomalies': 500, 'Anomalies Ratio(%)': 5.0}\n",
      "remove the dataset amazon\n",
      "47 datasets, 14 models\n",
      "Experiment results are saved at: /Users/xxd/Documents/PhD/AD/ADBench/adbench/result\n"
     ]
    },
    {
     "name": "stderr",
     "output_type": "stream",
     "text": [
      "0it [00:00, ?it/s]"
     ]
    },
    {
     "name": "stdout",
     "output_type": "stream",
     "text": [
      "generating duplicate samples for dataset 4_breastw...\n",
      "Generating dependency anomalies...\n",
      "C-Vine...\n",
      "Finished copula generating...\n",
      "Finished copula fitting...\n",
      "Gaussian KDE...\n",
      "Finished Gaussian KDE...\n",
      "Generate dependency OK...\n",
      "current noise type: None\n",
      "{'Samples': 2000, 'Features': 9, 'Anomalies': 691, 'Anomalies Ratio(%)': 34.55}\n",
      "Train data shape after filter corrcoef:  (1400, 9)\n",
      "epoch : 1000/5000, loss = 0.125088\n",
      "epoch : 2000/5000, loss = 0.061701\n",
      "epoch : 3000/5000, loss = 0.459402\n",
      "epoch : 4000/5000, loss = 0.027849\n",
      "epoch : 5000/5000, loss = 0.026635\n",
      "(600,)\n",
      "(600, 1)\n",
      "Model: Customized, AUC-ROC: 0.8367076003982742, AUC-PR: 0.6310382701580676\n"
     ]
    },
    {
     "name": "stderr",
     "output_type": "stream",
     "text": [
      "1it [01:25, 85.30s/it]"
     ]
    },
    {
     "name": "stdout",
     "output_type": "stream",
     "text": [
      "Current experiment parameters: ('4_breastw', 0.0, 1), model: Customized, metrics: {'aucroc': 0.8367076003982742, 'aucpr': 0.6310382701580676}, fitting time: 35.73470187187195, inference time: 0.005353212356567383\n",
      "generating duplicate samples for dataset 4_breastw...\n",
      "Generating dependency anomalies...\n",
      "C-Vine...\n",
      "Finished copula generating...\n",
      "Finished copula fitting...\n",
      "Gaussian KDE...\n",
      "Finished Gaussian KDE...\n",
      "Generate dependency OK...\n",
      "current noise type: None\n",
      "{'Samples': 2000, 'Features': 9, 'Anomalies': 680, 'Anomalies Ratio(%)': 34.0}\n",
      "Train data shape after filter corrcoef:  (1400, 9)\n",
      "epoch : 1000/5000, loss = 0.256082\n",
      "epoch : 2000/5000, loss = 0.183224\n",
      "epoch : 3000/5000, loss = 0.072944\n",
      "epoch : 4000/5000, loss = 0.103458\n"
     ]
    },
    {
     "name": "stderr",
     "output_type": "stream",
     "text": [
      "2it [02:51, 85.78s/it]"
     ]
    },
    {
     "name": "stdout",
     "output_type": "stream",
     "text": [
      "epoch : 5000/5000, loss = 0.031748\n",
      "(600,)\n",
      "(600, 1)\n",
      "Model: Customized, AUC-ROC: 0.8021514161220044, AUC-PR: 0.544800989471897\n",
      "Current experiment parameters: ('4_breastw', 0.0, 2), model: Customized, metrics: {'aucroc': 0.8021514161220044, 'aucpr': 0.544800989471897}, fitting time: 36.083051919937134, inference time: 0.0010700225830078125\n",
      "generating duplicate samples for dataset 4_breastw...\n",
      "Generating dependency anomalies...\n",
      "C-Vine...\n",
      "Finished copula generating...\n",
      "Finished copula fitting...\n",
      "Gaussian KDE...\n",
      "Finished Gaussian KDE...\n",
      "Generate dependency OK...\n",
      "current noise type: None\n",
      "{'Samples': 2000, 'Features': 9, 'Anomalies': 700, 'Anomalies Ratio(%)': 35.0}\n",
      "Train data shape after filter corrcoef:  (1400, 9)\n",
      "epoch : 1000/5000, loss = 0.304363\n",
      "epoch : 2000/5000, loss = 0.140219\n",
      "epoch : 3000/5000, loss = 0.069640\n",
      "epoch : 4000/5000, loss = 0.034232\n"
     ]
    },
    {
     "name": "stderr",
     "output_type": "stream",
     "text": [
      "3it [04:15, 84.94s/it]"
     ]
    },
    {
     "name": "stdout",
     "output_type": "stream",
     "text": [
      "epoch : 5000/5000, loss = 0.042739\n",
      "(600,)\n",
      "(600, 1)\n",
      "Model: Customized, AUC-ROC: 0.8538339438339438, AUC-PR: 0.6558105127682028\n",
      "Current experiment parameters: ('4_breastw', 0.0, 3), model: Customized, metrics: {'aucroc': 0.8538339438339438, 'aucpr': 0.6558105127682028}, fitting time: 35.59944176673889, inference time: 0.0009191036224365234\n",
      "generating duplicate samples for dataset 29_Pima...\n",
      "Generating dependency anomalies...\n",
      "C-Vine...\n",
      "Finished copula generating...\n",
      "Finished copula fitting...\n",
      "Gaussian KDE...\n",
      "Finished Gaussian KDE...\n",
      "Generate dependency OK...\n",
      "current noise type: None\n",
      "{'Samples': 2000, 'Features': 8, 'Anomalies': 732, 'Anomalies Ratio(%)': 36.6}\n",
      "Train data shape after filter corrcoef:  (1400, 8)\n",
      "epoch : 1000/5000, loss = 0.293310\n",
      "epoch : 2000/5000, loss = 0.079405\n",
      "epoch : 3000/5000, loss = 0.032839\n",
      "epoch : 4000/5000, loss = 0.050373\n",
      "epoch : 5000/5000, loss = 0.019027\n",
      "(600,)\n",
      "(600, 1)\n",
      "Model: Customized, AUC-ROC: 0.8545095693779905, AUC-PR: 0.7070325156819645\n"
     ]
    },
    {
     "name": "stderr",
     "output_type": "stream",
     "text": [
      "25it [05:28,  8.64s/it]"
     ]
    },
    {
     "name": "stdout",
     "output_type": "stream",
     "text": [
      "Current experiment parameters: ('29_Pima', 0.0, 1), model: Customized, metrics: {'aucroc': 0.8545095693779905, 'aucpr': 0.7070325156819645}, fitting time: 37.966689109802246, inference time: 0.0017430782318115234\n",
      "generating duplicate samples for dataset 29_Pima...\n",
      "Generating dependency anomalies...\n",
      "C-Vine...\n",
      "Finished copula generating...\n",
      "Finished copula fitting...\n",
      "Gaussian KDE...\n",
      "Finished Gaussian KDE...\n",
      "Generate dependency OK...\n",
      "current noise type: None\n",
      "{'Samples': 2000, 'Features': 8, 'Anomalies': 682, 'Anomalies Ratio(%)': 34.1}\n",
      "Train data shape after filter corrcoef:  (1400, 8)\n",
      "epoch : 1000/5000, loss = 0.230812\n",
      "epoch : 2000/5000, loss = 0.084693\n",
      "epoch : 3000/5000, loss = 0.747983\n",
      "epoch : 4000/5000, loss = 0.026707\n"
     ]
    },
    {
     "name": "stderr",
     "output_type": "stream",
     "text": [
      "26it [06:43, 12.44s/it]"
     ]
    },
    {
     "name": "stdout",
     "output_type": "stream",
     "text": [
      "epoch : 5000/5000, loss = 0.014650\n",
      "(600,)\n",
      "(600, 1)\n",
      "Model: Customized, AUC-ROC: 0.8830626736647114, AUC-PR: 0.7585456113457488\n",
      "Current experiment parameters: ('29_Pima', 0.0, 2), model: Customized, metrics: {'aucroc': 0.8830626736647114, 'aucpr': 0.7585456113457488}, fitting time: 37.64377021789551, inference time: 0.0011849403381347656\n",
      "generating duplicate samples for dataset 29_Pima...\n",
      "Generating dependency anomalies...\n",
      "C-Vine...\n",
      "Finished copula generating...\n",
      "Finished copula fitting...\n",
      "Gaussian KDE...\n",
      "Finished Gaussian KDE...\n",
      "Generate dependency OK...\n",
      "current noise type: None\n",
      "{'Samples': 2000, 'Features': 8, 'Anomalies': 653, 'Anomalies Ratio(%)': 32.65}\n",
      "Train data shape after filter corrcoef:  (1400, 8)\n",
      "epoch : 1000/5000, loss = 0.332818\n",
      "epoch : 2000/5000, loss = 0.132154\n",
      "epoch : 3000/5000, loss = 0.038247\n",
      "epoch : 4000/5000, loss = 0.029485\n"
     ]
    },
    {
     "name": "stderr",
     "output_type": "stream",
     "text": [
      "27it [07:59, 17.27s/it]"
     ]
    },
    {
     "name": "stdout",
     "output_type": "stream",
     "text": [
      "epoch : 5000/5000, loss = 0.024203\n",
      "(600,)\n",
      "(600, 1)\n",
      "Model: Customized, AUC-ROC: 0.8877677308547182, AUC-PR: 0.747911777949094\n",
      "Current experiment parameters: ('29_Pima', 0.0, 3), model: Customized, metrics: {'aucroc': 0.8877677308547182, 'aucpr': 0.747911777949094}, fitting time: 37.57779002189636, inference time: 0.0010139942169189453\n",
      "generating duplicate samples for dataset 47_yeast...\n",
      "Generating dependency anomalies...\n",
      "C-Vine...\n",
      "Finished copula generating...\n",
      "Finished copula fitting...\n",
      "Gaussian KDE...\n",
      "Finished Gaussian KDE...\n",
      "Generate dependency OK...\n",
      "current noise type: None\n",
      "{'Samples': 2000, 'Features': 8, 'Anomalies': 709, 'Anomalies Ratio(%)': 35.45}\n",
      "Train data shape after filter corrcoef:  (1400, 8)\n",
      "epoch : 1000/5000, loss = 0.159607\n",
      "epoch : 2000/5000, loss = 0.035605\n",
      "epoch : 3000/5000, loss = 0.032930\n",
      "epoch : 4000/5000, loss = 0.015138\n"
     ]
    },
    {
     "name": "stderr",
     "output_type": "stream",
     "text": [
      "49it [09:14,  7.50s/it]"
     ]
    },
    {
     "name": "stdout",
     "output_type": "stream",
     "text": [
      "epoch : 5000/5000, loss = 0.397369\n",
      "(600,)\n",
      "(600, 1)\n",
      "Model: Customized, AUC-ROC: 0.9605245599349759, AUC-PR: 0.8980008372431331\n",
      "Current experiment parameters: ('47_yeast', 0.0, 1), model: Customized, metrics: {'aucroc': 0.9605245599349759, 'aucpr': 0.8980008372431331}, fitting time: 37.55333089828491, inference time: 0.001112222671508789\n",
      "generating duplicate samples for dataset 47_yeast...\n",
      "Generating dependency anomalies...\n",
      "C-Vine...\n",
      "Finished copula generating...\n",
      "Finished copula fitting...\n",
      "Gaussian KDE...\n",
      "Finished Gaussian KDE...\n",
      "Generate dependency OK...\n",
      "current noise type: None\n",
      "{'Samples': 2000, 'Features': 8, 'Anomalies': 685, 'Anomalies Ratio(%)': 34.25}\n",
      "Train data shape after filter corrcoef:  (1400, 8)\n",
      "epoch : 1000/5000, loss = 0.846042\n",
      "epoch : 2000/5000, loss = 0.062510\n",
      "epoch : 3000/5000, loss = 0.026507\n",
      "epoch : 4000/5000, loss = 0.014313\n"
     ]
    },
    {
     "name": "stderr",
     "output_type": "stream",
     "text": [
      "50it [10:30, 10.49s/it]"
     ]
    },
    {
     "name": "stdout",
     "output_type": "stream",
     "text": [
      "epoch : 5000/5000, loss = 0.007891\n",
      "(600,)\n",
      "(600, 1)\n",
      "Model: Customized, AUC-ROC: 0.9582340228465576, AUC-PR: 0.8760200559605897\n",
      "Current experiment parameters: ('47_yeast', 0.0, 2), model: Customized, metrics: {'aucroc': 0.9582340228465576, 'aucpr': 0.8760200559605897}, fitting time: 37.64826011657715, inference time: 0.0014150142669677734\n",
      "generating duplicate samples for dataset 47_yeast...\n",
      "Generating dependency anomalies...\n",
      "C-Vine...\n",
      "Finished copula generating...\n",
      "Finished copula fitting...\n",
      "Gaussian KDE...\n",
      "Finished Gaussian KDE...\n",
      "Generate dependency OK...\n",
      "current noise type: None\n",
      "{'Samples': 2000, 'Features': 8, 'Anomalies': 676, 'Anomalies Ratio(%)': 33.8}\n",
      "Train data shape after filter corrcoef:  (1400, 8)\n",
      "epoch : 1000/5000, loss = 0.264837\n",
      "epoch : 2000/5000, loss = 0.328580\n",
      "epoch : 3000/5000, loss = 0.039746\n",
      "epoch : 4000/5000, loss = 0.087953\n"
     ]
    },
    {
     "name": "stderr",
     "output_type": "stream",
     "text": [
      "51it [11:46, 14.36s/it]"
     ]
    },
    {
     "name": "stdout",
     "output_type": "stream",
     "text": [
      "epoch : 5000/5000, loss = 0.015371\n",
      "(600,)\n",
      "(600, 1)\n",
      "Model: Customized, AUC-ROC: 0.9612984080108201, AUC-PR: 0.8894642957199312\n",
      "Current experiment parameters: ('47_yeast', 0.0, 3), model: Customized, metrics: {'aucroc': 0.9612984080108201, 'aucpr': 0.8894642957199312}, fitting time: 37.92637515068054, inference time: 0.0009717941284179688\n",
      "generating duplicate samples for dataset 17_InternetAds...\n",
      "Generating dependency anomalies...\n",
      "C-Vine...\n",
      "Finished copula generating...\n"
     ]
    },
    {
     "name": "stderr",
     "output_type": "stream",
     "text": [
      "73it [11:48,  5.10s/it]"
     ]
    },
    {
     "name": "stdout",
     "output_type": "stream",
     "text": [
      "Error when generating data: Constant column.\n",
      "generating duplicate samples for dataset 17_InternetAds...\n",
      "Generating dependency anomalies...\n",
      "C-Vine...\n",
      "Finished copula generating...\n",
      "Error when generating data: Constant column.\n",
      "generating duplicate samples for dataset 17_InternetAds...\n",
      "Generating dependency anomalies...\n",
      "C-Vine...\n",
      "Finished copula generating...\n"
     ]
    },
    {
     "name": "stderr",
     "output_type": "stream",
     "text": [
      "75it [11:51,  4.83s/it]"
     ]
    },
    {
     "name": "stdout",
     "output_type": "stream",
     "text": [
      "Error when generating data: Constant column.\n",
      "generating duplicate samples for dataset 37_Stamps...\n",
      "Generating dependency anomalies...\n",
      "C-Vine...\n",
      "Finished copula generating...\n",
      "Finished copula fitting...\n",
      "Gaussian KDE...\n",
      "Finished Gaussian KDE...\n",
      "Generate dependency OK...\n",
      "current noise type: None\n",
      "{'Samples': 2000, 'Features': 9, 'Anomalies': 178, 'Anomalies Ratio(%)': 8.9}\n",
      "Train data shape after filter corrcoef:  (1400, 9)\n",
      "epoch : 1000/5000, loss = 0.581641\n",
      "epoch : 2000/5000, loss = 0.152134\n",
      "epoch : 3000/5000, loss = 0.067016\n",
      "epoch : 4000/5000, loss = 0.069876\n",
      "epoch : 5000/5000, loss = 0.037406\n",
      "(600,)\n",
      "(600, 1)\n",
      "Model: Customized, AUC-ROC: 0.8891035148839296, AUC-PR: 0.45232964138256837\n",
      "Current experiment parameters: ('37_Stamps', 0.0, 1), model: Customized, metrics: {'aucroc': 0.8891035148839296, 'aucpr': 0.45232964138256837}, fitting time: 35.29696702957153, inference time: 0.0009920597076416016\n"
     ]
    },
    {
     "name": "stderr",
     "output_type": "stream",
     "text": [
      "97it [13:34,  4.75s/it]"
     ]
    },
    {
     "name": "stdout",
     "output_type": "stream",
     "text": [
      "generating duplicate samples for dataset 37_Stamps...\n",
      "Generating dependency anomalies...\n",
      "C-Vine...\n",
      "Finished copula generating...\n",
      "Finished copula fitting...\n",
      "Gaussian KDE...\n",
      "Finished Gaussian KDE...\n",
      "Generate dependency OK...\n",
      "current noise type: None\n",
      "{'Samples': 2000, 'Features': 9, 'Anomalies': 195, 'Anomalies Ratio(%)': 9.75}\n",
      "Train data shape after filter corrcoef:  (1400, 9)\n",
      "epoch : 1000/5000, loss = 0.654602\n",
      "epoch : 2000/5000, loss = 0.145538\n",
      "epoch : 3000/5000, loss = 0.130231\n",
      "epoch : 4000/5000, loss = 0.184558\n"
     ]
    },
    {
     "name": "stderr",
     "output_type": "stream",
     "text": [
      "98it [15:16,  8.11s/it]"
     ]
    },
    {
     "name": "stdout",
     "output_type": "stream",
     "text": [
      "epoch : 5000/5000, loss = 0.091373\n",
      "(600,)\n",
      "(600, 1)\n",
      "Model: Customized, AUC-ROC: 0.8985870484664307, AUC-PR: 0.4415876535405948\n",
      "Current experiment parameters: ('37_Stamps', 0.0, 2), model: Customized, metrics: {'aucroc': 0.8985870484664307, 'aucpr': 0.4415876535405948}, fitting time: 35.180742025375366, inference time: 0.0009789466857910156\n",
      "generating duplicate samples for dataset 37_Stamps...\n",
      "Generating dependency anomalies...\n",
      "C-Vine...\n",
      "Finished copula generating...\n",
      "Finished copula fitting...\n",
      "Gaussian KDE...\n",
      "Finished Gaussian KDE...\n",
      "Generate dependency OK...\n",
      "current noise type: None\n",
      "{'Samples': 2000, 'Features': 9, 'Anomalies': 188, 'Anomalies Ratio(%)': 9.4}\n",
      "Train data shape after filter corrcoef:  (1400, 9)\n",
      "epoch : 1000/5000, loss = 0.506848\n",
      "epoch : 2000/5000, loss = 0.141483\n",
      "epoch : 3000/5000, loss = 0.085525\n",
      "epoch : 4000/5000, loss = 0.057191\n",
      "epoch : 5000/5000, loss = 0.029315\n",
      "(600,)\n",
      "(600, 1)\n",
      "Model: Customized, AUC-ROC: 0.8608849789915967, AUC-PR: 0.30671054169413486\n"
     ]
    },
    {
     "name": "stderr",
     "output_type": "stream",
     "text": [
      "99it [16:59, 12.55s/it]"
     ]
    },
    {
     "name": "stdout",
     "output_type": "stream",
     "text": [
      "Current experiment parameters: ('37_Stamps', 0.0, 3), model: Customized, metrics: {'aucroc': 0.8608849789915967, 'aucpr': 0.30671054169413486}, fitting time: 35.518864154815674, inference time: 0.0009758472442626953\n",
      "generating duplicate samples for dataset 46_WPBC...\n",
      "Generating dependency anomalies...\n",
      "C-Vine...\n",
      "Finished copula generating...\n",
      "Finished copula fitting...\n",
      "Gaussian KDE...\n",
      "Finished Gaussian KDE...\n",
      "Generate dependency OK...\n",
      "current noise type: None\n",
      "{'Samples': 2000, 'Features': 33, 'Anomalies': 467, 'Anomalies Ratio(%)': 23.35}\n",
      "Train data shape after filter corrcoef:  (1400, 33)\n",
      "epoch : 1000/5000, loss = 6.947648\n",
      "epoch : 2000/5000, loss = 5.087876\n",
      "epoch : 3000/5000, loss = 4.371917\n",
      "epoch : 4000/5000, loss = 4.313349\n"
     ]
    },
    {
     "name": "stderr",
     "output_type": "stream",
     "text": [
      "121it [20:34, 10.90s/it]"
     ]
    },
    {
     "name": "stdout",
     "output_type": "stream",
     "text": [
      "epoch : 5000/5000, loss = 4.070556\n",
      "(600,)\n",
      "(600, 1)\n",
      "Model: Customized, AUC-ROC: 0.9933695652173913, AUC-PR: 0.9788583794456033\n",
      "Current experiment parameters: ('46_WPBC', 0.0, 1), model: Customized, metrics: {'aucroc': 0.9933695652173913, 'aucpr': 0.9788583794456033}, fitting time: 39.00890398025513, inference time: 0.0012390613555908203\n",
      "generating duplicate samples for dataset 46_WPBC...\n",
      "Generating dependency anomalies...\n",
      "C-Vine...\n",
      "Finished copula generating...\n",
      "Finished copula fitting...\n",
      "Gaussian KDE...\n",
      "Finished Gaussian KDE...\n",
      "Generate dependency OK...\n",
      "current noise type: None\n",
      "{'Samples': 2000, 'Features': 33, 'Anomalies': 450, 'Anomalies Ratio(%)': 22.5}\n",
      "Train data shape after filter corrcoef:  (1400, 33)\n",
      "epoch : 1000/5000, loss = 6.198577\n",
      "epoch : 2000/5000, loss = 4.434272\n",
      "epoch : 3000/5000, loss = 3.659986\n",
      "epoch : 4000/5000, loss = 3.499395\n",
      "epoch : 5000/5000, loss = 3.415372\n",
      "(600,)\n",
      "(600, 1)\n",
      "Model: Customized, AUC-ROC: 0.9985344484269216, AUC-PR: 0.994821201151729\n"
     ]
    },
    {
     "name": "stderr",
     "output_type": "stream",
     "text": [
      "122it [24:11, 18.57s/it]"
     ]
    },
    {
     "name": "stdout",
     "output_type": "stream",
     "text": [
      "Current experiment parameters: ('46_WPBC', 0.0, 2), model: Customized, metrics: {'aucroc': 0.9985344484269216, 'aucpr': 0.994821201151729}, fitting time: 40.12897515296936, inference time: 0.002810955047607422\n",
      "generating duplicate samples for dataset 46_WPBC...\n",
      "Generating dependency anomalies...\n",
      "C-Vine...\n",
      "Finished copula generating...\n",
      "Finished copula fitting...\n",
      "Gaussian KDE...\n",
      "Finished Gaussian KDE...\n",
      "Generate dependency OK...\n",
      "current noise type: None\n",
      "{'Samples': 2000, 'Features': 33, 'Anomalies': 443, 'Anomalies Ratio(%)': 22.15}\n",
      "Train data shape after filter corrcoef:  (1400, 33)\n",
      "epoch : 1000/5000, loss = 6.715256\n",
      "epoch : 2000/5000, loss = 4.720809\n",
      "epoch : 3000/5000, loss = 3.951568\n",
      "epoch : 4000/5000, loss = 3.972612\n",
      "epoch : 5000/5000, loss = 3.608035\n",
      "(600,)\n",
      "(600, 1)\n",
      "Model: Customized, AUC-ROC: 0.9871359340535494, AUC-PR: 0.9463251650967398\n"
     ]
    },
    {
     "name": "stderr",
     "output_type": "stream",
     "text": [
      "123it [27:55, 28.92s/it]"
     ]
    },
    {
     "name": "stdout",
     "output_type": "stream",
     "text": [
      "Current experiment parameters: ('46_WPBC', 0.0, 3), model: Customized, metrics: {'aucroc': 0.9871359340535494, 'aucpr': 0.9463251650967398}, fitting time: 38.93028402328491, inference time: 0.004995107650756836\n",
      "generating duplicate samples for dataset 6_cardio...\n",
      "Generating dependency anomalies...\n",
      "C-Vine...\n",
      "Finished copula generating...\n"
     ]
    },
    {
     "name": "stderr",
     "output_type": "stream",
     "text": [
      "145it [27:57, 11.23s/it]"
     ]
    },
    {
     "name": "stdout",
     "output_type": "stream",
     "text": [
      "Error when generating data: Constant column.\n",
      "generating duplicate samples for dataset 6_cardio...\n",
      "Generating dependency anomalies...\n",
      "C-Vine...\n",
      "Finished copula generating...\n"
     ]
    },
    {
     "name": "stderr",
     "output_type": "stream",
     "text": [
      "146it [27:59, 10.88s/it]"
     ]
    },
    {
     "name": "stdout",
     "output_type": "stream",
     "text": [
      "Error when generating data: Constant column.\n",
      "generating duplicate samples for dataset 6_cardio...\n",
      "Generating dependency anomalies...\n",
      "C-Vine...\n",
      "Finished copula generating...\n"
     ]
    },
    {
     "name": "stderr",
     "output_type": "stream",
     "text": [
      "147it [28:01, 10.42s/it]"
     ]
    },
    {
     "name": "stdout",
     "output_type": "stream",
     "text": [
      "Error when generating data: Constant column.\n",
      "generating duplicate samples for dataset 12_fault...\n",
      "Generating dependency anomalies...\n",
      "C-Vine...\n",
      "Finished copula generating...\n",
      "Finished copula fitting...\n",
      "Gaussian KDE...\n",
      "Finished Gaussian KDE...\n",
      "Generate dependency OK...\n",
      "current noise type: None\n",
      "{'Samples': 2000, 'Features': 27, 'Anomalies': 693, 'Anomalies Ratio(%)': 34.65}\n",
      "Train data shape after filter corrcoef:  (1400, 27)\n",
      "epoch : 1000/5000, loss = 5.673704\n",
      "epoch : 2000/5000, loss = 4.667011\n",
      "epoch : 3000/5000, loss = 3.927148\n",
      "epoch : 4000/5000, loss = 3.447334\n",
      "epoch : 5000/5000, loss = 3.245660\n",
      "(600,)\n",
      "(600, 1)\n",
      "Model: Customized, AUC-ROC: 0.9927394034536892, AUC-PR: 0.9780785348484482\n"
     ]
    },
    {
     "name": "stderr",
     "output_type": "stream",
     "text": [
      "169it [30:35,  8.30s/it]"
     ]
    },
    {
     "name": "stdout",
     "output_type": "stream",
     "text": [
      "Current experiment parameters: ('12_fault', 0.0, 1), model: Customized, metrics: {'aucroc': 0.9927394034536892, 'aucpr': 0.9780785348484482}, fitting time: 38.458277225494385, inference time: 0.0011420249938964844\n",
      "generating duplicate samples for dataset 12_fault...\n",
      "Generating dependency anomalies...\n",
      "C-Vine...\n",
      "Finished copula generating...\n",
      "Finished copula fitting...\n",
      "Gaussian KDE...\n",
      "Finished Gaussian KDE...\n",
      "Generate dependency OK...\n",
      "current noise type: None\n",
      "{'Samples': 2000, 'Features': 27, 'Anomalies': 698, 'Anomalies Ratio(%)': 34.9}\n",
      "Train data shape after filter corrcoef:  (1400, 27)\n",
      "epoch : 1000/5000, loss = 5.971292\n",
      "epoch : 2000/5000, loss = 4.679052\n",
      "epoch : 3000/5000, loss = 4.169754\n",
      "epoch : 4000/5000, loss = 3.707366\n"
     ]
    },
    {
     "name": "stderr",
     "output_type": "stream",
     "text": [
      "170it [33:07, 13.86s/it]"
     ]
    },
    {
     "name": "stdout",
     "output_type": "stream",
     "text": [
      "epoch : 5000/5000, loss = 4.179778\n",
      "(600,)\n",
      "(600, 1)\n",
      "Model: Customized, AUC-ROC: 0.9941996353357236, AUC-PR: 0.9866898853691473\n",
      "Current experiment parameters: ('12_fault', 0.0, 2), model: Customized, metrics: {'aucroc': 0.9941996353357236, 'aucpr': 0.9866898853691473}, fitting time: 38.502959966659546, inference time: 0.0015180110931396484\n",
      "generating duplicate samples for dataset 12_fault...\n",
      "Generating dependency anomalies...\n",
      "C-Vine...\n",
      "Finished copula generating...\n",
      "Finished copula fitting...\n",
      "Gaussian KDE...\n",
      "Finished Gaussian KDE...\n",
      "Generate dependency OK...\n",
      "current noise type: None\n",
      "{'Samples': 2000, 'Features': 27, 'Anomalies': 699, 'Anomalies Ratio(%)': 34.95}\n",
      "Train data shape after filter corrcoef:  (1400, 27)\n",
      "epoch : 1000/5000, loss = 5.198029\n",
      "epoch : 2000/5000, loss = 4.073277\n",
      "epoch : 3000/5000, loss = 3.483098\n",
      "epoch : 4000/5000, loss = 3.254194\n"
     ]
    },
    {
     "name": "stderr",
     "output_type": "stream",
     "text": [
      "171it [35:40, 21.18s/it]"
     ]
    },
    {
     "name": "stdout",
     "output_type": "stream",
     "text": [
      "epoch : 5000/5000, loss = 3.084660\n",
      "(600,)\n",
      "(600, 1)\n",
      "Model: Customized, AUC-ROC: 0.9898778998778999, AUC-PR: 0.9723384834549436\n",
      "Current experiment parameters: ('12_fault', 0.0, 3), model: Customized, metrics: {'aucroc': 0.9898778998778999, 'aucpr': 0.9723384834549436}, fitting time: 38.45201110839844, inference time: 0.0010650157928466797\n",
      "generating duplicate samples for dataset 43_WDBC...\n",
      "Generating dependency anomalies...\n",
      "C-Vine...\n",
      "Finished copula generating...\n",
      "Finished copula fitting...\n",
      "Gaussian KDE...\n",
      "Finished Gaussian KDE...\n",
      "Generate dependency OK...\n",
      "current noise type: None\n",
      "{'Samples': 2000, 'Features': 30, 'Anomalies': 50, 'Anomalies Ratio(%)': 2.5}\n",
      "Train data shape after filter corrcoef:  (1400, 30)\n",
      "epoch : 1000/5000, loss = 5.165021\n",
      "epoch : 2000/5000, loss = 3.085244\n",
      "epoch : 3000/5000, loss = 1.984619\n",
      "epoch : 4000/5000, loss = 0.663356\n",
      "epoch : 5000/5000, loss = 1.875431\n",
      "(600,)\n",
      "(600, 1)\n",
      "Model: Customized, AUC-ROC: 0.9966951566951567, AUC-PR: 0.8740243869191238\n"
     ]
    },
    {
     "name": "stderr",
     "output_type": "stream",
     "text": [
      "193it [40:17, 15.84s/it]"
     ]
    },
    {
     "name": "stdout",
     "output_type": "stream",
     "text": [
      "Current experiment parameters: ('43_WDBC', 0.0, 1), model: Customized, metrics: {'aucroc': 0.9966951566951567, 'aucpr': 0.8740243869191238}, fitting time: 38.73308801651001, inference time: 0.0012509822845458984\n",
      "generating duplicate samples for dataset 43_WDBC...\n",
      "Generating dependency anomalies...\n",
      "C-Vine...\n",
      "Finished copula generating...\n",
      "Finished copula fitting...\n",
      "Gaussian KDE...\n",
      "Finished Gaussian KDE...\n",
      "Generate dependency OK...\n",
      "current noise type: None\n",
      "{'Samples': 2000, 'Features': 30, 'Anomalies': 60, 'Anomalies Ratio(%)': 3.0}\n",
      "Train data shape after filter corrcoef:  (1400, 30)\n",
      "epoch : 1000/5000, loss = 4.592297\n",
      "epoch : 2000/5000, loss = 1.707401\n",
      "epoch : 3000/5000, loss = 2.643286\n",
      "epoch : 4000/5000, loss = 2.305357\n",
      "epoch : 5000/5000, loss = 1.944367\n",
      "(600,)\n",
      "(600, 1)\n",
      "Model: Customized, AUC-ROC: 0.9973272241313479, AUC-PR: 0.944380703166935\n"
     ]
    },
    {
     "name": "stderr",
     "output_type": "stream",
     "text": [
      "194it [44:54, 25.97s/it]"
     ]
    },
    {
     "name": "stdout",
     "output_type": "stream",
     "text": [
      "Current experiment parameters: ('43_WDBC', 0.0, 2), model: Customized, metrics: {'aucroc': 0.9973272241313479, 'aucpr': 0.944380703166935}, fitting time: 39.246588945388794, inference time: 0.001313924789428711\n",
      "generating duplicate samples for dataset 43_WDBC...\n",
      "Generating dependency anomalies...\n",
      "C-Vine...\n",
      "Finished copula generating...\n",
      "Finished copula fitting...\n",
      "Gaussian KDE...\n",
      "Finished Gaussian KDE...\n",
      "Generate dependency OK...\n",
      "current noise type: None\n",
      "{'Samples': 2000, 'Features': 30, 'Anomalies': 53, 'Anomalies Ratio(%)': 2.65}\n",
      "Train data shape after filter corrcoef:  (1400, 30)\n",
      "epoch : 1000/5000, loss = 3.102785\n",
      "epoch : 2000/5000, loss = 1.728615\n",
      "epoch : 3000/5000, loss = 1.077858\n",
      "epoch : 4000/5000, loss = 1.519871\n",
      "epoch : 5000/5000, loss = 1.860576\n",
      "(600,)\n",
      "(600, 1)\n",
      "Model: Customized, AUC-ROC: 0.9917594178082192, AUC-PR: 0.6834845709845709\n"
     ]
    },
    {
     "name": "stderr",
     "output_type": "stream",
     "text": [
      "195it [49:32, 39.22s/it]"
     ]
    },
    {
     "name": "stdout",
     "output_type": "stream",
     "text": [
      "Current experiment parameters: ('43_WDBC', 0.0, 3), model: Customized, metrics: {'aucroc': 0.9917594178082192, 'aucpr': 0.6834845709845709}, fitting time: 39.37491989135742, inference time: 0.008280038833618164\n",
      "generating duplicate samples for dataset 40_vowels...\n",
      "Generating dependency anomalies...\n",
      "C-Vine...\n",
      "Finished copula generating...\n",
      "Finished copula fitting...\n",
      "Gaussian KDE...\n",
      "Finished Gaussian KDE...\n",
      "Generate dependency OK...\n",
      "current noise type: None\n",
      "{'Samples': 2000, 'Features': 12, 'Anomalies': 61, 'Anomalies Ratio(%)': 3.05}\n",
      "Train data shape after filter corrcoef:  (1400, 12)\n",
      "epoch : 1000/5000, loss = 0.867747\n",
      "epoch : 2000/5000, loss = 0.225940\n",
      "epoch : 3000/5000, loss = 0.209293\n",
      "epoch : 4000/5000, loss = 0.140192\n",
      "epoch : 5000/5000, loss = 0.061063\n",
      "(600,)\n",
      "(600, 1)\n",
      "Model: Customized, AUC-ROC: 0.9919816723940436, AUC-PR: 0.7735729691523241\n",
      "Current experiment parameters: ('40_vowels', 0.0, 1), model: Customized, metrics: {'aucroc': 0.9919816723940436, 'aucpr': 0.7735729691523241}, fitting time: 36.43638205528259, inference time: 0.0011200904846191406\n"
     ]
    },
    {
     "name": "stderr",
     "output_type": "stream",
     "text": [
      "217it [51:45, 18.54s/it]"
     ]
    },
    {
     "name": "stdout",
     "output_type": "stream",
     "text": [
      "generating duplicate samples for dataset 40_vowels...\n",
      "Generating dependency anomalies...\n",
      "C-Vine...\n",
      "Finished copula generating...\n",
      "Finished copula fitting...\n",
      "Gaussian KDE...\n",
      "Finished Gaussian KDE...\n",
      "Generate dependency OK...\n",
      "current noise type: None\n",
      "{'Samples': 2000, 'Features': 12, 'Anomalies': 67, 'Anomalies Ratio(%)': 3.35}\n",
      "Train data shape after filter corrcoef:  (1400, 12)\n",
      "epoch : 1000/5000, loss = 0.599712\n",
      "epoch : 2000/5000, loss = 0.332431\n",
      "epoch : 3000/5000, loss = 0.132092\n",
      "epoch : 4000/5000, loss = 0.108286\n",
      "epoch : 5000/5000, loss = 0.161067\n",
      "(600,)\n",
      "(600, 1)\n",
      "Model: Customized, AUC-ROC: 0.9791379310344828, AUC-PR: 0.6524784477234378\n"
     ]
    },
    {
     "name": "stderr",
     "output_type": "stream",
     "text": [
      "218it [53:57, 22.96s/it]"
     ]
    },
    {
     "name": "stdout",
     "output_type": "stream",
     "text": [
      "Current experiment parameters: ('40_vowels', 0.0, 2), model: Customized, metrics: {'aucroc': 0.9791379310344828, 'aucpr': 0.6524784477234378}, fitting time: 36.61599516868591, inference time: 0.001651763916015625\n",
      "generating duplicate samples for dataset 40_vowels...\n",
      "Generating dependency anomalies...\n",
      "C-Vine...\n",
      "Finished copula generating...\n",
      "Finished copula fitting...\n",
      "Gaussian KDE...\n",
      "Finished Gaussian KDE...\n",
      "Generate dependency OK...\n",
      "current noise type: None\n",
      "{'Samples': 2000, 'Features': 12, 'Anomalies': 73, 'Anomalies Ratio(%)': 3.65}\n",
      "Train data shape after filter corrcoef:  (1400, 12)\n",
      "epoch : 1000/5000, loss = 0.646747\n",
      "epoch : 2000/5000, loss = 0.129413\n",
      "epoch : 3000/5000, loss = 0.084074\n",
      "epoch : 4000/5000, loss = 0.046894\n",
      "epoch : 5000/5000, loss = 0.034594\n",
      "(600,)\n",
      "(600, 1)\n",
      "Model: Customized, AUC-ROC: 0.9688581314878892, AUC-PR: 0.5131668514382771\n"
     ]
    },
    {
     "name": "stderr",
     "output_type": "stream",
     "text": [
      "219it [56:09, 28.73s/it]"
     ]
    },
    {
     "name": "stdout",
     "output_type": "stream",
     "text": [
      "Current experiment parameters: ('40_vowels', 0.0, 3), model: Customized, metrics: {'aucroc': 0.9688581314878892, 'aucpr': 0.5131668514382771}, fitting time: 36.497851848602295, inference time: 0.0014820098876953125\n",
      "generating duplicate samples for dataset 39_vertebral...\n",
      "Generating dependency anomalies...\n",
      "C-Vine...\n",
      "Finished copula generating...\n",
      "Finished copula fitting...\n",
      "Gaussian KDE...\n",
      "Finished Gaussian KDE...\n",
      "Generate dependency OK...\n",
      "current noise type: None\n",
      "{'Samples': 2000, 'Features': 6, 'Anomalies': 263, 'Anomalies Ratio(%)': 13.15}\n",
      "Train data shape after filter corrcoef:  (1400, 6)\n",
      "epoch : 1000/5000, loss = 0.231249\n",
      "epoch : 2000/5000, loss = 0.136213\n",
      "epoch : 3000/5000, loss = 0.040851\n",
      "epoch : 4000/5000, loss = 0.031671\n"
     ]
    },
    {
     "name": "stderr",
     "output_type": "stream",
     "text": [
      "241it [57:29, 13.07s/it]"
     ]
    },
    {
     "name": "stdout",
     "output_type": "stream",
     "text": [
      "epoch : 5000/5000, loss = 0.014564\n",
      "(600,)\n",
      "(600, 1)\n",
      "Model: Customized, AUC-ROC: 0.888408367550232, AUC-PR: 0.5482371933333228\n",
      "Current experiment parameters: ('39_vertebral', 0.0, 1), model: Customized, metrics: {'aucroc': 0.888408367550232, 'aucpr': 0.5482371933333228}, fitting time: 37.74409604072571, inference time: 0.0010328292846679688\n",
      "generating duplicate samples for dataset 39_vertebral...\n",
      "Generating dependency anomalies...\n",
      "C-Vine...\n",
      "Finished copula generating...\n",
      "Finished copula fitting...\n",
      "Gaussian KDE...\n",
      "Finished Gaussian KDE...\n",
      "Generate dependency OK...\n",
      "current noise type: None\n",
      "{'Samples': 2000, 'Features': 6, 'Anomalies': 260, 'Anomalies Ratio(%)': 13.0}\n",
      "Train data shape after filter corrcoef:  (1400, 6)\n",
      "epoch : 1000/5000, loss = 0.372301\n",
      "epoch : 2000/5000, loss = 0.121659\n",
      "epoch : 3000/5000, loss = 0.047094\n",
      "epoch : 4000/5000, loss = 0.057108\n",
      "epoch : 5000/5000, loss = 0.016732\n",
      "(600,)\n",
      "(600, 1)\n",
      "Model: Customized, AUC-ROC: 0.851213282247765, AUC-PR: 0.43655804023547623\n"
     ]
    },
    {
     "name": "stderr",
     "output_type": "stream",
     "text": [
      "242it [58:48, 15.65s/it]"
     ]
    },
    {
     "name": "stdout",
     "output_type": "stream",
     "text": [
      "Current experiment parameters: ('39_vertebral', 0.0, 2), model: Customized, metrics: {'aucroc': 0.851213282247765, 'aucpr': 0.43655804023547623}, fitting time: 37.77486324310303, inference time: 0.0013680458068847656\n",
      "generating duplicate samples for dataset 39_vertebral...\n",
      "Generating dependency anomalies...\n",
      "C-Vine...\n",
      "Finished copula generating...\n",
      "Finished copula fitting...\n",
      "Gaussian KDE...\n",
      "Finished Gaussian KDE...\n",
      "Generate dependency OK...\n",
      "current noise type: None\n",
      "{'Samples': 2000, 'Features': 6, 'Anomalies': 259, 'Anomalies Ratio(%)': 12.95}\n",
      "Train data shape after filter corrcoef:  (1400, 6)\n",
      "epoch : 1000/5000, loss = 0.212064\n",
      "epoch : 2000/5000, loss = 0.083151\n",
      "epoch : 3000/5000, loss = 0.040674\n",
      "epoch : 4000/5000, loss = 0.224711\n",
      "epoch : 5000/5000, loss = 0.071535\n",
      "(600,)\n",
      "(600, 1)\n",
      "Model: Customized, AUC-ROC: 0.8687985067295412, AUC-PR: 0.5174724627428802\n"
     ]
    },
    {
     "name": "stderr",
     "output_type": "stream",
     "text": [
      "243it [1:00:08, 19.02s/it]"
     ]
    },
    {
     "name": "stdout",
     "output_type": "stream",
     "text": [
      "Current experiment parameters: ('39_vertebral', 0.0, 3), model: Customized, metrics: {'aucroc': 0.8687985067295412, 'aucpr': 0.5174724627428802}, fitting time: 38.116931200027466, inference time: 0.0017809867858886719\n",
      "generating duplicate samples for dataset 18_Ionosphere...\n",
      "Generating dependency anomalies...\n",
      "C-Vine...\n",
      "Finished copula generating...\n",
      "Finished copula fitting...\n",
      "Gaussian KDE...\n",
      "Finished Gaussian KDE...\n",
      "Generate dependency OK...\n",
      "current noise type: None\n",
      "{'Samples': 2000, 'Features': 32, 'Anomalies': 716, 'Anomalies Ratio(%)': 35.8}\n",
      "Train data shape after filter corrcoef:  (1400, 32)\n",
      "epoch : 1000/5000, loss = 6.486013\n",
      "epoch : 2000/5000, loss = 4.590273\n",
      "epoch : 3000/5000, loss = 4.310803\n",
      "epoch : 4000/5000, loss = 4.073652\n",
      "epoch : 5000/5000, loss = 3.843996\n",
      "(600,)\n",
      "(600, 1)\n",
      "Model: Customized, AUC-ROC: 0.9857203261854425, AUC-PR: 0.949243083905955\n",
      "Current experiment parameters: ('18_Ionosphere', 0.0, 1), model: Customized, metrics: {'aucroc': 0.9857203261854425, 'aucpr': 0.949243083905955}, fitting time: 35.15266990661621, inference time: 0.0015039443969726562\n"
     ]
    },
    {
     "name": "stderr",
     "output_type": "stream",
     "text": [
      "265it [1:02:48, 11.71s/it]"
     ]
    },
    {
     "name": "stdout",
     "output_type": "stream",
     "text": [
      "generating duplicate samples for dataset 18_Ionosphere...\n",
      "Generating dependency anomalies...\n",
      "C-Vine...\n",
      "Finished copula generating...\n",
      "Finished copula fitting...\n",
      "Gaussian KDE...\n",
      "Finished Gaussian KDE...\n",
      "Generate dependency OK...\n",
      "current noise type: None\n",
      "{'Samples': 2000, 'Features': 32, 'Anomalies': 748, 'Anomalies Ratio(%)': 37.4}\n",
      "Train data shape after filter corrcoef:  (1400, 32)\n",
      "epoch : 1000/5000, loss = 6.988659\n",
      "epoch : 2000/5000, loss = 5.011424\n",
      "epoch : 3000/5000, loss = 4.424032\n",
      "epoch : 4000/5000, loss = 4.181632\n",
      "epoch : 5000/5000, loss = 4.120989\n",
      "(600,)\n",
      "(600, 1)\n",
      "Model: Customized, AUC-ROC: 0.9943721504559271, AUC-PR: 0.9842256222694944\n"
     ]
    },
    {
     "name": "stderr",
     "output_type": "stream",
     "text": [
      "266it [1:05:23, 17.29s/it]"
     ]
    },
    {
     "name": "stdout",
     "output_type": "stream",
     "text": [
      "Current experiment parameters: ('18_Ionosphere', 0.0, 2), model: Customized, metrics: {'aucroc': 0.9943721504559271, 'aucpr': 0.9842256222694944}, fitting time: 35.030505895614624, inference time: 0.0010609626770019531\n",
      "generating duplicate samples for dataset 18_Ionosphere...\n",
      "Generating dependency anomalies...\n",
      "C-Vine...\n",
      "Finished copula generating...\n",
      "Finished copula fitting...\n",
      "Gaussian KDE...\n",
      "Finished Gaussian KDE...\n",
      "Generate dependency OK...\n",
      "current noise type: None\n",
      "{'Samples': 2000, 'Features': 32, 'Anomalies': 691, 'Anomalies Ratio(%)': 34.55}\n",
      "Train data shape after filter corrcoef:  (1400, 32)\n",
      "epoch : 1000/5000, loss = 6.375798\n",
      "epoch : 2000/5000, loss = 4.484137\n",
      "epoch : 3000/5000, loss = 4.219564\n",
      "epoch : 4000/5000, loss = 3.647891\n",
      "epoch : 5000/5000, loss = 3.592165\n",
      "(600,)\n",
      "(600, 1)\n",
      "Model: Customized, AUC-ROC: 0.9879903135794275, AUC-PR: 0.9551009676893045\n"
     ]
    },
    {
     "name": "stderr",
     "output_type": "stream",
     "text": [
      "267it [1:08:07, 25.01s/it]"
     ]
    },
    {
     "name": "stdout",
     "output_type": "stream",
     "text": [
      "Current experiment parameters: ('18_Ionosphere', 0.0, 3), model: Customized, metrics: {'aucroc': 0.9879903135794275, 'aucpr': 0.9551009676893045}, fitting time: 35.02794122695923, inference time: 0.0011398792266845703\n",
      "generating duplicate samples for dataset 20_letter...\n",
      "Generating dependency anomalies...\n",
      "C-Vine...\n",
      "Finished copula generating...\n",
      "Finished copula fitting...\n",
      "Gaussian KDE...\n",
      "Finished Gaussian KDE...\n",
      "Generate dependency OK...\n",
      "current noise type: None\n",
      "{'Samples': 2000, 'Features': 32, 'Anomalies': 127, 'Anomalies Ratio(%)': 6.35}\n",
      "Train data shape after filter corrcoef:  (1400, 32)\n",
      "epoch : 1000/5000, loss = 3.294440\n",
      "epoch : 2000/5000, loss = 2.329801\n",
      "epoch : 3000/5000, loss = 0.907160\n",
      "epoch : 4000/5000, loss = 0.618953\n",
      "epoch : 5000/5000, loss = 0.543348\n",
      "(600,)\n",
      "(600, 1)\n",
      "Model: Customized, AUC-ROC: 0.9975182618467878, AUC-PR: 0.9581575478017368\n"
     ]
    },
    {
     "name": "stderr",
     "output_type": "stream",
     "text": [
      "289it [1:13:54, 19.26s/it]"
     ]
    },
    {
     "name": "stdout",
     "output_type": "stream",
     "text": [
      "Current experiment parameters: ('20_letter', 0.0, 1), model: Customized, metrics: {'aucroc': 0.9975182618467878, 'aucpr': 0.9581575478017368}, fitting time: 35.150798082351685, inference time: 0.0011398792266845703\n",
      "generating duplicate samples for dataset 20_letter...\n",
      "Generating dependency anomalies...\n",
      "C-Vine...\n",
      "Finished copula generating...\n",
      "Finished copula fitting...\n",
      "Gaussian KDE...\n",
      "Finished Gaussian KDE...\n",
      "Generate dependency OK...\n",
      "current noise type: None\n",
      "{'Samples': 2000, 'Features': 32, 'Anomalies': 139, 'Anomalies Ratio(%)': 6.95}\n",
      "Train data shape after filter corrcoef:  (1400, 32)\n",
      "epoch : 1000/5000, loss = 3.235193\n",
      "epoch : 2000/5000, loss = 2.283266\n",
      "epoch : 3000/5000, loss = 2.060373\n",
      "epoch : 4000/5000, loss = 0.489415\n",
      "epoch : 5000/5000, loss = 0.520966\n",
      "(600,)\n",
      "(600, 1)\n",
      "Model: Customized, AUC-ROC: 0.9991466120498379, AUC-PR: 0.9910372136302816\n"
     ]
    },
    {
     "name": "stderr",
     "output_type": "stream",
     "text": [
      "290it [1:19:39, 31.90s/it]"
     ]
    },
    {
     "name": "stdout",
     "output_type": "stream",
     "text": [
      "Current experiment parameters: ('20_letter', 0.0, 2), model: Customized, metrics: {'aucroc': 0.9991466120498379, 'aucpr': 0.9910372136302816}, fitting time: 35.62275218963623, inference time: 0.001981019973754883\n",
      "generating duplicate samples for dataset 20_letter...\n",
      "Generating dependency anomalies...\n",
      "C-Vine...\n",
      "Finished copula generating...\n",
      "Finished copula fitting...\n",
      "Gaussian KDE...\n",
      "Finished Gaussian KDE...\n",
      "Generate dependency OK...\n",
      "current noise type: None\n",
      "{'Samples': 2000, 'Features': 32, 'Anomalies': 128, 'Anomalies Ratio(%)': 6.4}\n",
      "Train data shape after filter corrcoef:  (1400, 32)\n",
      "epoch : 1000/5000, loss = 2.372702\n",
      "epoch : 2000/5000, loss = 1.492575\n",
      "epoch : 3000/5000, loss = 0.722544\n",
      "epoch : 4000/5000, loss = 2.278137\n",
      "epoch : 5000/5000, loss = 0.841435\n",
      "(600,)\n",
      "(600, 1)\n",
      "Model: Customized, AUC-ROC: 0.9923206592994942, AUC-PR: 0.802863599051441\n"
     ]
    },
    {
     "name": "stderr",
     "output_type": "stream",
     "text": [
      "291it [1:25:27, 48.57s/it]"
     ]
    },
    {
     "name": "stdout",
     "output_type": "stream",
     "text": [
      "Current experiment parameters: ('20_letter', 0.0, 3), model: Customized, metrics: {'aucroc': 0.9923206592994942, 'aucpr': 0.802863599051441}, fitting time: 35.512189865112305, inference time: 0.0012371540069580078\n",
      "generating duplicate samples for dataset 14_glass...\n",
      "Generating dependency anomalies...\n",
      "C-Vine...\n",
      "Finished copula generating...\n",
      "Finished copula fitting...\n",
      "Gaussian KDE...\n",
      "Finished Gaussian KDE...\n",
      "Generate dependency OK...\n",
      "current noise type: None\n",
      "{'Samples': 2000, 'Features': 7, 'Anomalies': 85, 'Anomalies Ratio(%)': 4.25}\n",
      "Train data shape after filter corrcoef:  (1400, 7)\n",
      "epoch : 1000/5000, loss = 0.257806\n",
      "epoch : 2000/5000, loss = 0.172466\n",
      "epoch : 3000/5000, loss = 0.043451\n",
      "epoch : 4000/5000, loss = 0.040148\n"
     ]
    },
    {
     "name": "stderr",
     "output_type": "stream",
     "text": [
      "313it [1:27:03, 21.01s/it]"
     ]
    },
    {
     "name": "stdout",
     "output_type": "stream",
     "text": [
      "epoch : 5000/5000, loss = 0.021811\n",
      "(600,)\n",
      "(600, 1)\n",
      "Model: Customized, AUC-ROC: 0.9008695652173913, AUC-PR: 0.2466253009398471\n",
      "Current experiment parameters: ('14_glass', 0.0, 1), model: Customized, metrics: {'aucroc': 0.9008695652173913, 'aucpr': 0.2466253009398471}, fitting time: 37.89838218688965, inference time: 0.0010266304016113281\n",
      "generating duplicate samples for dataset 14_glass...\n",
      "Generating dependency anomalies...\n",
      "C-Vine...\n",
      "Finished copula generating...\n",
      "Finished copula fitting...\n",
      "Gaussian KDE...\n",
      "Finished Gaussian KDE...\n",
      "Generate dependency OK...\n",
      "current noise type: None\n",
      "{'Samples': 2000, 'Features': 7, 'Anomalies': 86, 'Anomalies Ratio(%)': 4.3}\n",
      "Train data shape after filter corrcoef:  (1400, 7)\n",
      "epoch : 1000/5000, loss = 0.108942\n",
      "epoch : 2000/5000, loss = 0.109947\n",
      "epoch : 3000/5000, loss = 0.034030\n",
      "epoch : 4000/5000, loss = 0.023201\n",
      "epoch : 5000/5000, loss = 0.015149\n",
      "(600,)\n",
      "(600, 1)\n",
      "Model: Customized, AUC-ROC: 0.8405923344947734, AUC-PR: 0.15303809660062798\n"
     ]
    },
    {
     "name": "stderr",
     "output_type": "stream",
     "text": [
      "314it [1:28:39, 23.93s/it]"
     ]
    },
    {
     "name": "stdout",
     "output_type": "stream",
     "text": [
      "Current experiment parameters: ('14_glass', 0.0, 2), model: Customized, metrics: {'aucroc': 0.8405923344947734, 'aucpr': 0.15303809660062798}, fitting time: 37.85485792160034, inference time: 0.001135110855102539\n",
      "generating duplicate samples for dataset 14_glass...\n",
      "Generating dependency anomalies...\n",
      "C-Vine...\n",
      "Finished copula generating...\n",
      "Finished copula fitting...\n",
      "Gaussian KDE...\n",
      "Finished Gaussian KDE...\n",
      "Generate dependency OK...\n",
      "current noise type: None\n",
      "{'Samples': 2000, 'Features': 7, 'Anomalies': 76, 'Anomalies Ratio(%)': 3.8}\n",
      "Train data shape after filter corrcoef:  (1400, 7)\n",
      "epoch : 1000/5000, loss = 0.270938\n",
      "epoch : 2000/5000, loss = 0.076464\n",
      "epoch : 3000/5000, loss = 0.051908\n",
      "epoch : 4000/5000, loss = 0.029226\n",
      "epoch : 5000/5000, loss = 0.022460\n",
      "(600,)\n",
      "(600, 1)\n",
      "Model: Customized, AUC-ROC: 0.903323035189511, AUC-PR: 0.3449047038396594\n",
      "Current experiment parameters: ('14_glass', 0.0, 3), model: Customized, metrics: {'aucroc': 0.903323035189511, 'aucpr': 0.3449047038396594}, fitting time: 37.713329792022705, inference time: 0.0010921955108642578\n"
     ]
    },
    {
     "name": "stderr",
     "output_type": "stream",
     "text": [
      "315it [1:30:15, 27.73s/it]"
     ]
    },
    {
     "name": "stdout",
     "output_type": "stream",
     "text": [
      "generating duplicate samples for dataset 21_Lymphography...\n",
      "Generating dependency anomalies...\n",
      "C-Vine...\n",
      "Finished copula generating...\n",
      "Finished copula fitting...\n",
      "Gaussian KDE...\n",
      "Finished Gaussian KDE...\n",
      "Generate dependency OK...\n",
      "current noise type: None\n",
      "{'Samples': 2000, 'Features': 18, 'Anomalies': 74, 'Anomalies Ratio(%)': 3.7}\n",
      "Train data shape after filter corrcoef:  (1400, 18)\n",
      "epoch : 1000/5000, loss = 1.249162\n",
      "epoch : 2000/5000, loss = 0.421259\n",
      "epoch : 3000/5000, loss = 0.198035\n",
      "epoch : 4000/5000, loss = 0.276786\n",
      "epoch : 5000/5000, loss = 0.174954\n",
      "(600,)\n",
      "(600, 1)\n",
      "Model: Customized, AUC-ROC: 0.9528153507392261, AUC-PR: 0.3848213142004143\n"
     ]
    },
    {
     "name": "stderr",
     "output_type": "stream",
     "text": [
      "337it [1:33:52, 16.59s/it]"
     ]
    },
    {
     "name": "stdout",
     "output_type": "stream",
     "text": [
      "Current experiment parameters: ('21_Lymphography', 0.0, 1), model: Customized, metrics: {'aucroc': 0.9528153507392261, 'aucpr': 0.3848213142004143}, fitting time: 38.67048120498657, inference time: 0.0013568401336669922\n",
      "generating duplicate samples for dataset 21_Lymphography...\n",
      "Generating dependency anomalies...\n",
      "C-Vine...\n",
      "Finished copula generating...\n",
      "Finished copula fitting...\n",
      "Gaussian KDE...\n",
      "Finished Gaussian KDE...\n",
      "Generate dependency OK...\n",
      "current noise type: None\n",
      "{'Samples': 2000, 'Features': 18, 'Anomalies': 74, 'Anomalies Ratio(%)': 3.7}\n",
      "Train data shape after filter corrcoef:  (1400, 18)\n",
      "epoch : 1000/5000, loss = 0.664362\n",
      "epoch : 2000/5000, loss = 0.550759\n",
      "epoch : 3000/5000, loss = 0.229437\n",
      "epoch : 4000/5000, loss = 0.125825\n"
     ]
    },
    {
     "name": "stderr",
     "output_type": "stream",
     "text": [
      "338it [1:37:28, 24.33s/it]"
     ]
    },
    {
     "name": "stdout",
     "output_type": "stream",
     "text": [
      "epoch : 5000/5000, loss = 0.103242\n",
      "(600,)\n",
      "(600, 1)\n",
      "Model: Customized, AUC-ROC: 0.9592639194715319, AUC-PR: 0.5226036690039623\n",
      "Current experiment parameters: ('21_Lymphography', 0.0, 2), model: Customized, metrics: {'aucroc': 0.9592639194715319, 'aucpr': 0.5226036690039623}, fitting time: 38.47561311721802, inference time: 0.0012316703796386719\n",
      "generating duplicate samples for dataset 21_Lymphography...\n",
      "Generating dependency anomalies...\n",
      "C-Vine...\n",
      "Finished copula generating...\n",
      "Finished copula fitting...\n",
      "Gaussian KDE...\n",
      "Finished Gaussian KDE...\n",
      "Generate dependency OK...\n",
      "current noise type: None\n",
      "{'Samples': 2000, 'Features': 18, 'Anomalies': 80, 'Anomalies Ratio(%)': 4.0}\n",
      "Train data shape after filter corrcoef:  (1400, 18)\n",
      "epoch : 1000/5000, loss = 0.506821\n",
      "epoch : 2000/5000, loss = 0.180340\n",
      "epoch : 3000/5000, loss = 0.355019\n",
      "epoch : 4000/5000, loss = 0.432687\n",
      "epoch : 5000/5000, loss = 0.067951\n",
      "(600,)\n",
      "(600, 1)\n",
      "Model: Customized, AUC-ROC: 0.9581886574074074, AUC-PR: 0.40860822224921123\n"
     ]
    },
    {
     "name": "stderr",
     "output_type": "stream",
     "text": [
      "339it [1:41:00, 34.26s/it]"
     ]
    },
    {
     "name": "stdout",
     "output_type": "stream",
     "text": [
      "Current experiment parameters: ('21_Lymphography', 0.0, 3), model: Customized, metrics: {'aucroc': 0.9581886574074074, 'aucpr': 0.40860822224921123}, fitting time: 38.481210708618164, inference time: 0.001081228256225586\n",
      "generating duplicate samples for dataset 42_WBC...\n",
      "Generating dependency anomalies...\n",
      "C-Vine...\n",
      "Finished copula generating...\n",
      "Finished copula fitting...\n",
      "Gaussian KDE...\n",
      "Finished Gaussian KDE...\n",
      "Generate dependency OK...\n",
      "current noise type: None\n",
      "{'Samples': 2000, 'Features': 9, 'Anomalies': 83, 'Anomalies Ratio(%)': 4.15}\n",
      "Train data shape after filter corrcoef:  (1400, 9)\n",
      "epoch : 1000/5000, loss = 0.591402\n",
      "epoch : 2000/5000, loss = 0.088207\n",
      "epoch : 3000/5000, loss = 0.048769\n",
      "epoch : 4000/5000, loss = 0.030323\n",
      "epoch : 5000/5000, loss = 0.054472\n",
      "(600,)\n",
      "(600, 1)\n",
      "Model: Customized, AUC-ROC: 0.9009391304347826, AUC-PR: 0.24553548398004887\n"
     ]
    },
    {
     "name": "stderr",
     "output_type": "stream",
     "text": [
      "361it [1:43:09, 16.55s/it]"
     ]
    },
    {
     "name": "stdout",
     "output_type": "stream",
     "text": [
      "Current experiment parameters: ('42_WBC', 0.0, 1), model: Customized, metrics: {'aucroc': 0.9009391304347826, 'aucpr': 0.24553548398004887}, fitting time: 35.80815100669861, inference time: 0.0010449886322021484\n",
      "generating duplicate samples for dataset 42_WBC...\n",
      "Generating dependency anomalies...\n",
      "C-Vine...\n",
      "Finished copula generating...\n",
      "Finished copula fitting...\n",
      "Gaussian KDE...\n",
      "Finished Gaussian KDE...\n",
      "Generate dependency OK...\n",
      "current noise type: None\n",
      "{'Samples': 2000, 'Features': 9, 'Anomalies': 91, 'Anomalies Ratio(%)': 4.55}\n",
      "Train data shape after filter corrcoef:  (1400, 9)\n",
      "epoch : 1000/5000, loss = 0.258914\n",
      "epoch : 2000/5000, loss = 0.091510\n",
      "epoch : 3000/5000, loss = 0.060043\n",
      "epoch : 4000/5000, loss = 0.025648\n",
      "epoch : 5000/5000, loss = 0.020888\n",
      "(600,)\n",
      "(600, 1)\n",
      "Model: Customized, AUC-ROC: 0.8910219119643202, AUC-PR: 0.25808489467930257\n"
     ]
    },
    {
     "name": "stderr",
     "output_type": "stream",
     "text": [
      "362it [1:45:16, 20.86s/it]"
     ]
    },
    {
     "name": "stdout",
     "output_type": "stream",
     "text": [
      "Current experiment parameters: ('42_WBC', 0.0, 2), model: Customized, metrics: {'aucroc': 0.8910219119643202, 'aucpr': 0.25808489467930257}, fitting time: 35.74886989593506, inference time: 0.0011141300201416016\n",
      "generating duplicate samples for dataset 42_WBC...\n",
      "Generating dependency anomalies...\n",
      "C-Vine...\n",
      "Finished copula generating...\n",
      "Finished copula fitting...\n",
      "Gaussian KDE...\n",
      "Finished Gaussian KDE...\n",
      "Generate dependency OK...\n",
      "current noise type: None\n",
      "{'Samples': 2000, 'Features': 9, 'Anomalies': 93, 'Anomalies Ratio(%)': 4.65}\n",
      "Train data shape after filter corrcoef:  (1400, 9)\n",
      "epoch : 1000/5000, loss = 1.762861\n",
      "epoch : 2000/5000, loss = 0.100375\n",
      "epoch : 3000/5000, loss = 0.052266\n",
      "epoch : 4000/5000, loss = 0.032472\n"
     ]
    },
    {
     "name": "stderr",
     "output_type": "stream",
     "text": [
      "363it [1:47:24, 26.48s/it]"
     ]
    },
    {
     "name": "stdout",
     "output_type": "stream",
     "text": [
      "epoch : 5000/5000, loss = 0.024382\n",
      "(600,)\n",
      "(600, 1)\n",
      "Model: Customized, AUC-ROC: 0.9123376623376624, AUC-PR: 0.32740102134945265\n",
      "Current experiment parameters: ('42_WBC', 0.0, 3), model: Customized, metrics: {'aucroc': 0.9123376623376624, 'aucpr': 0.32740102134945265}, fitting time: 35.94223713874817, inference time: 0.0010590553283691406\n",
      "generating duplicate samples for dataset 45_wine...\n",
      "Generating dependency anomalies...\n",
      "C-Vine...\n",
      "Finished copula generating...\n",
      "Finished copula fitting...\n",
      "Gaussian KDE...\n",
      "Finished Gaussian KDE...\n",
      "Generate dependency OK...\n",
      "current noise type: None\n",
      "{'Samples': 2000, 'Features': 13, 'Anomalies': 147, 'Anomalies Ratio(%)': 7.35}\n",
      "Train data shape after filter corrcoef:  (1400, 13)\n",
      "epoch : 1000/5000, loss = 0.857125\n",
      "epoch : 2000/5000, loss = 0.341097\n",
      "epoch : 3000/5000, loss = 0.137258\n",
      "epoch : 4000/5000, loss = 0.144559\n",
      "epoch : 5000/5000, loss = 0.360617\n",
      "(600,)\n",
      "(600, 1)\n",
      "Model: Customized, AUC-ROC: 0.9659908436886855, AUC-PR: 0.733728611437914\n"
     ]
    },
    {
     "name": "stderr",
     "output_type": "stream",
     "text": [
      "385it [1:49:41, 13.85s/it]"
     ]
    },
    {
     "name": "stdout",
     "output_type": "stream",
     "text": [
      "Current experiment parameters: ('45_wine', 0.0, 1), model: Customized, metrics: {'aucroc': 0.9659908436886855, 'aucpr': 0.733728611437914}, fitting time: 35.983071088790894, inference time: 0.0019152164459228516\n",
      "generating duplicate samples for dataset 45_wine...\n",
      "Generating dependency anomalies...\n",
      "C-Vine...\n",
      "Finished copula generating...\n",
      "Finished copula fitting...\n",
      "Gaussian KDE...\n",
      "Finished Gaussian KDE...\n",
      "Generate dependency OK...\n",
      "current noise type: None\n",
      "{'Samples': 2000, 'Features': 13, 'Anomalies': 150, 'Anomalies Ratio(%)': 7.5}\n",
      "Train data shape after filter corrcoef:  (1400, 13)\n",
      "epoch : 1000/5000, loss = 1.618886\n",
      "epoch : 2000/5000, loss = 0.452258\n",
      "epoch : 3000/5000, loss = 0.153657\n",
      "epoch : 4000/5000, loss = 0.194016\n",
      "epoch : 5000/5000, loss = 0.086088\n",
      "(600,)\n",
      "(600, 1)\n",
      "Model: Customized, AUC-ROC: 0.9766566566566567, AUC-PR: 0.8033894401733186\n"
     ]
    },
    {
     "name": "stderr",
     "output_type": "stream",
     "text": [
      "386it [1:51:57, 18.60s/it]"
     ]
    },
    {
     "name": "stdout",
     "output_type": "stream",
     "text": [
      "Current experiment parameters: ('45_wine', 0.0, 2), model: Customized, metrics: {'aucroc': 0.9766566566566567, 'aucpr': 0.8033894401733186}, fitting time: 35.4209988117218, inference time: 0.001165151596069336\n",
      "generating duplicate samples for dataset 45_wine...\n",
      "Generating dependency anomalies...\n",
      "C-Vine...\n",
      "Finished copula generating...\n",
      "Finished copula fitting...\n",
      "Gaussian KDE...\n",
      "Finished Gaussian KDE...\n",
      "Generate dependency OK...\n",
      "current noise type: None\n",
      "{'Samples': 2000, 'Features': 13, 'Anomalies': 162, 'Anomalies Ratio(%)': 8.1}\n",
      "Train data shape after filter corrcoef:  (1400, 13)\n",
      "epoch : 1000/5000, loss = 0.861355\n",
      "epoch : 2000/5000, loss = 0.487432\n",
      "epoch : 3000/5000, loss = 0.129945\n",
      "epoch : 4000/5000, loss = 0.101853\n",
      "epoch : 5000/5000, loss = 0.152150\n",
      "(600,)\n",
      "(600, 1)\n",
      "Model: Customized, AUC-ROC: 0.9869995185006852, AUC-PR: 0.8585758519209561\n"
     ]
    },
    {
     "name": "stderr",
     "output_type": "stream",
     "text": [
      "387it [1:54:11, 24.71s/it]"
     ]
    },
    {
     "name": "stdout",
     "output_type": "stream",
     "text": [
      "Current experiment parameters: ('45_wine', 0.0, 3), model: Customized, metrics: {'aucroc': 0.9869995185006852, 'aucpr': 0.8585758519209561}, fitting time: 35.46838712692261, inference time: 0.0014810562133789062\n",
      "generating duplicate samples for dataset 15_Hepatitis...\n",
      "Generating dependency anomalies...\n",
      "C-Vine...\n",
      "Finished copula generating...\n",
      "Finished copula fitting...\n",
      "Gaussian KDE...\n",
      "Finished Gaussian KDE...\n",
      "Generate dependency OK...\n",
      "current noise type: None\n",
      "{'Samples': 2000, 'Features': 19, 'Anomalies': 342, 'Anomalies Ratio(%)': 17.1}\n",
      "Train data shape after filter corrcoef:  (1400, 19)\n",
      "epoch : 1000/5000, loss = 2.226810\n",
      "epoch : 2000/5000, loss = 0.646479\n",
      "epoch : 3000/5000, loss = 0.324802\n",
      "epoch : 4000/5000, loss = 0.565979\n",
      "epoch : 5000/5000, loss = 0.178219\n",
      "(600,)\n",
      "(600, 1)\n",
      "Model: Customized, AUC-ROC: 0.861108397960579, AUC-PR: 0.5965371423614831\n"
     ]
    },
    {
     "name": "stderr",
     "output_type": "stream",
     "text": [
      "409it [1:57:08, 14.30s/it]"
     ]
    },
    {
     "name": "stdout",
     "output_type": "stream",
     "text": [
      "Current experiment parameters: ('15_Hepatitis', 0.0, 1), model: Customized, metrics: {'aucroc': 0.861108397960579, 'aucpr': 0.5965371423614831}, fitting time: 38.222331047058105, inference time: 0.0010190010070800781\n",
      "generating duplicate samples for dataset 15_Hepatitis...\n",
      "Generating dependency anomalies...\n",
      "C-Vine...\n",
      "Finished copula generating...\n",
      "Finished copula fitting...\n",
      "Gaussian KDE...\n",
      "Finished Gaussian KDE...\n",
      "Generate dependency OK...\n",
      "current noise type: None\n",
      "{'Samples': 2000, 'Features': 19, 'Anomalies': 296, 'Anomalies Ratio(%)': 14.8}\n",
      "Train data shape after filter corrcoef:  (1400, 19)\n",
      "epoch : 1000/5000, loss = 2.082621\n",
      "epoch : 2000/5000, loss = 1.843600\n",
      "epoch : 3000/5000, loss = 2.056382\n",
      "epoch : 4000/5000, loss = 0.342461\n",
      "epoch : 5000/5000, loss = 0.203650\n",
      "(600,)\n",
      "(600, 1)\n",
      "Model: Customized, AUC-ROC: 0.8590118516238263, AUC-PR: 0.5080429920715676\n"
     ]
    },
    {
     "name": "stderr",
     "output_type": "stream",
     "text": [
      "410it [2:00:11, 20.90s/it]"
     ]
    },
    {
     "name": "stdout",
     "output_type": "stream",
     "text": [
      "Current experiment parameters: ('15_Hepatitis', 0.0, 2), model: Customized, metrics: {'aucroc': 0.8590118516238263, 'aucpr': 0.5080429920715676}, fitting time: 38.092254877090454, inference time: 0.0013210773468017578\n",
      "generating duplicate samples for dataset 15_Hepatitis...\n",
      "Generating dependency anomalies...\n",
      "C-Vine...\n",
      "Finished copula generating...\n",
      "Finished copula fitting...\n",
      "Gaussian KDE...\n",
      "Finished Gaussian KDE...\n",
      "Generate dependency OK...\n",
      "current noise type: None\n",
      "{'Samples': 2000, 'Features': 19, 'Anomalies': 298, 'Anomalies Ratio(%)': 14.9}\n",
      "Train data shape after filter corrcoef:  (1400, 19)\n",
      "epoch : 1000/5000, loss = 2.188293\n",
      "epoch : 2000/5000, loss = 0.431960\n",
      "epoch : 3000/5000, loss = 0.394809\n",
      "epoch : 4000/5000, loss = 0.279381\n",
      "epoch : 5000/5000, loss = 0.269455\n",
      "(600,)\n",
      "(600, 1)\n",
      "Model: Customized, AUC-ROC: 0.8576265968908727, AUC-PR: 0.5011840441081812\n"
     ]
    },
    {
     "name": "stderr",
     "output_type": "stream",
     "text": [
      "411it [2:03:14, 29.43s/it]"
     ]
    },
    {
     "name": "stdout",
     "output_type": "stream",
     "text": [
      "Current experiment parameters: ('15_Hepatitis', 0.0, 3), model: Customized, metrics: {'aucroc': 0.8576265968908727, 'aucpr': 0.5011840441081812}, fitting time: 38.16524124145508, inference time: 0.0011057853698730469\n",
      "Generating dependency anomalies...\n",
      "C-Vine...\n",
      "Finished copula generating...\n",
      "Finished copula fitting...\n",
      "Gaussian KDE...\n",
      "Finished Gaussian KDE...\n",
      "Generate dependency OK...\n",
      "current noise type: None\n",
      "{'Samples': 2114, 'Features': 21, 'Anomalies': 466, 'Anomalies Ratio(%)': 22.04}\n",
      "Train data shape after filter corrcoef:  (1479, 21)\n",
      "epoch : 1000/5000, loss = 3.560148\n",
      "epoch : 2000/5000, loss = 3.228469\n",
      "epoch : 3000/5000, loss = 1.978790\n",
      "epoch : 4000/5000, loss = 2.174071\n",
      "epoch : 5000/5000, loss = 2.359591\n",
      "(635,)\n",
      "(635, 1)\n",
      "Model: Customized, AUC-ROC: 0.9412409812409812, AUC-PR: 0.7116943200061466\n"
     ]
    },
    {
     "name": "stderr",
     "output_type": "stream",
     "text": [
      "433it [2:06:23, 16.43s/it]"
     ]
    },
    {
     "name": "stdout",
     "output_type": "stream",
     "text": [
      "Current experiment parameters: ('7_Cardiotocography', 0.0, 1), model: Customized, metrics: {'aucroc': 0.9412409812409812, 'aucpr': 0.7116943200061466}, fitting time: 38.66053509712219, inference time: 0.001252889633178711\n",
      "Generating dependency anomalies...\n",
      "C-Vine...\n",
      "Finished copula generating...\n",
      "Finished copula fitting...\n",
      "Gaussian KDE...\n",
      "Finished Gaussian KDE...\n",
      "Generate dependency OK...\n",
      "current noise type: None\n",
      "{'Samples': 2114, 'Features': 21, 'Anomalies': 466, 'Anomalies Ratio(%)': 22.04}\n",
      "Train data shape after filter corrcoef:  (1479, 21)\n",
      "epoch : 1000/5000, loss = 3.056650\n",
      "epoch : 2000/5000, loss = 2.440626\n",
      "epoch : 3000/5000, loss = 2.238372\n",
      "epoch : 4000/5000, loss = 1.596519\n"
     ]
    },
    {
     "name": "stderr",
     "output_type": "stream",
     "text": [
      "434it [2:09:32, 23.14s/it]"
     ]
    },
    {
     "name": "stdout",
     "output_type": "stream",
     "text": [
      "epoch : 5000/5000, loss = 2.138650\n",
      "(635,)\n",
      "(635, 1)\n",
      "Model: Customized, AUC-ROC: 0.9674314574314574, AUC-PR: 0.8719535310303483\n",
      "Current experiment parameters: ('7_Cardiotocography', 0.0, 2), model: Customized, metrics: {'aucroc': 0.9674314574314574, 'aucpr': 0.8719535310303483}, fitting time: 38.722455978393555, inference time: 0.0012888908386230469\n",
      "Generating dependency anomalies...\n",
      "C-Vine...\n",
      "Finished copula generating...\n",
      "Finished copula fitting...\n",
      "Gaussian KDE...\n",
      "Finished Gaussian KDE...\n",
      "Generate dependency OK...\n",
      "current noise type: None\n",
      "{'Samples': 2114, 'Features': 21, 'Anomalies': 466, 'Anomalies Ratio(%)': 22.04}\n",
      "Train data shape after filter corrcoef:  (1479, 21)\n",
      "epoch : 1000/5000, loss = 3.376486\n",
      "epoch : 2000/5000, loss = 2.169768\n",
      "epoch : 3000/5000, loss = 1.792283\n",
      "epoch : 4000/5000, loss = 0.619448\n",
      "epoch : 5000/5000, loss = 0.456568\n",
      "(635,)\n",
      "(635, 1)\n",
      "Model: Customized, AUC-ROC: 0.964992784992785, AUC-PR: 0.8360344193811401\n"
     ]
    },
    {
     "name": "stderr",
     "output_type": "stream",
     "text": [
      "435it [2:12:41, 31.87s/it]"
     ]
    },
    {
     "name": "stdout",
     "output_type": "stream",
     "text": [
      "Current experiment parameters: ('7_Cardiotocography', 0.0, 3), model: Customized, metrics: {'aucroc': 0.964992784992785, 'aucpr': 0.8360344193811401}, fitting time: 38.71382784843445, inference time: 0.001094818115234375\n",
      "Generating dependency anomalies...\n",
      "C-Vine...\n",
      "Finished copula generating...\n",
      "Finished copula fitting...\n",
      "Gaussian KDE...\n",
      "Finished Gaussian KDE...\n",
      "Generate dependency OK...\n",
      "current noise type: None\n",
      "{'Samples': 3062, 'Features': 50, 'Anomalies': 97, 'Anomalies Ratio(%)': 3.17}\n",
      "Train data shape after filter corrcoef:  (2143, 50)\n",
      "epoch : 1000/5000, loss = 4.409586\n",
      "epoch : 2000/5000, loss = 3.681800\n",
      "epoch : 3000/5000, loss = 3.202544\n",
      "epoch : 4000/5000, loss = 2.775847\n",
      "epoch : 5000/5000, loss = 2.731813\n",
      "(919,)\n",
      "(919, 1)\n",
      "Model: Customized, AUC-ROC: 0.9956993413405657, AUC-PR: 0.8042014348263264\n"
     ]
    },
    {
     "name": "stderr",
     "output_type": "stream",
     "text": [
      "457it [2:30:10, 41.74s/it]"
     ]
    },
    {
     "name": "stdout",
     "output_type": "stream",
     "text": [
      "Current experiment parameters: ('25_musk', 0.0, 1), model: Customized, metrics: {'aucroc': 0.9956993413405657, 'aucpr': 0.8042014348263264}, fitting time: 43.82779502868652, inference time: 0.00558018684387207\n",
      "Generating dependency anomalies...\n",
      "C-Vine...\n",
      "Finished copula generating...\n",
      "Finished copula fitting...\n",
      "Gaussian KDE...\n",
      "Finished Gaussian KDE...\n",
      "Generate dependency OK...\n",
      "current noise type: None\n",
      "{'Samples': 3062, 'Features': 50, 'Anomalies': 97, 'Anomalies Ratio(%)': 3.17}\n",
      "Train data shape after filter corrcoef:  (2143, 50)\n",
      "epoch : 1000/5000, loss = 5.315632\n",
      "epoch : 2000/5000, loss = 4.280205\n",
      "epoch : 3000/5000, loss = 3.871196\n",
      "epoch : 4000/5000, loss = 3.695184\n",
      "epoch : 5000/5000, loss = 3.516819\n",
      "(919,)\n",
      "(919, 1)\n",
      "Model: Customized, AUC-ROC: 0.9964354901201085, AUC-PR: 0.8353136734171323\n"
     ]
    },
    {
     "name": "stderr",
     "output_type": "stream",
     "text": [
      "458it [2:47:51, 81.36s/it]"
     ]
    },
    {
     "name": "stdout",
     "output_type": "stream",
     "text": [
      "Current experiment parameters: ('25_musk', 0.0, 2), model: Customized, metrics: {'aucroc': 0.9964354901201085, 'aucpr': 0.8353136734171323}, fitting time: 43.65569710731506, inference time: 0.0039899349212646484\n",
      "Generating dependency anomalies...\n",
      "C-Vine...\n",
      "Finished copula generating...\n",
      "Finished copula fitting...\n"
     ]
    },
    {
     "name": "stderr",
     "output_type": "stream",
     "text": [
      "459it [2:54:26, 97.91s/it]"
     ]
    },
    {
     "name": "stdout",
     "output_type": "stream",
     "text": [
      "Error when generating data: f(a) and f(b) must have different signs\n",
      "Generating dependency anomalies...\n",
      "C-Vine...\n",
      "Finished copula generating...\n",
      "Finished copula fitting...\n",
      "Gaussian KDE...\n",
      "Finished Gaussian KDE...\n",
      "Generate dependency OK...\n",
      "current noise type: None\n",
      "{'Samples': 3443, 'Features': 21, 'Anomalies': 100, 'Anomalies Ratio(%)': 2.9}\n",
      "Train data shape after filter corrcoef:  (2410, 21)\n",
      "epoch : 1000/5000, loss = 3.578387\n",
      "epoch : 2000/5000, loss = 2.739149\n",
      "epoch : 3000/5000, loss = 2.422899\n",
      "epoch : 4000/5000, loss = 2.074225\n",
      "epoch : 5000/5000, loss = 2.096974\n",
      "(1033,)\n",
      "(1033, 1)\n",
      "Model: Customized, AUC-ROC: 0.98946493851778, AUC-PR: 0.7387119084183549\n"
     ]
    },
    {
     "name": "stderr",
     "output_type": "stream",
     "text": [
      "481it [3:02:52, 51.20s/it]"
     ]
    },
    {
     "name": "stdout",
     "output_type": "stream",
     "text": [
      "Current experiment parameters: ('41_Waveform', 0.0, 1), model: Customized, metrics: {'aucroc': 0.98946493851778, 'aucpr': 0.7387119084183549}, fitting time: 44.20576000213623, inference time: 0.00645899772644043\n",
      "Generating dependency anomalies...\n",
      "C-Vine...\n",
      "Finished copula generating...\n",
      "Finished copula fitting...\n",
      "Gaussian KDE...\n",
      "Finished Gaussian KDE...\n",
      "Generate dependency OK...\n",
      "current noise type: None\n",
      "{'Samples': 3443, 'Features': 21, 'Anomalies': 100, 'Anomalies Ratio(%)': 2.9}\n",
      "Train data shape after filter corrcoef:  (2410, 21)\n",
      "epoch : 1000/5000, loss = 3.426414\n",
      "epoch : 2000/5000, loss = 2.299374\n",
      "epoch : 3000/5000, loss = 2.068255\n",
      "epoch : 4000/5000, loss = 1.939773\n",
      "epoch : 5000/5000, loss = 1.808011\n",
      "(1033,)\n",
      "(1033, 1)\n",
      "Model: Customized, AUC-ROC: 0.9918577600531738, AUC-PR: 0.7694562923184125\n"
     ]
    },
    {
     "name": "stderr",
     "output_type": "stream",
     "text": [
      "482it [3:11:16, 68.84s/it]"
     ]
    },
    {
     "name": "stdout",
     "output_type": "stream",
     "text": [
      "Current experiment parameters: ('41_Waveform', 0.0, 2), model: Customized, metrics: {'aucroc': 0.9918577600531738, 'aucpr': 0.7694562923184125}, fitting time: 43.78609013557434, inference time: 0.001971006393432617\n",
      "Generating dependency anomalies...\n",
      "C-Vine...\n",
      "Finished copula generating...\n",
      "Finished copula fitting...\n",
      "Gaussian KDE...\n",
      "Finished Gaussian KDE...\n",
      "Generate dependency OK...\n",
      "current noise type: None\n",
      "{'Samples': 3443, 'Features': 21, 'Anomalies': 100, 'Anomalies Ratio(%)': 2.9}\n",
      "Train data shape after filter corrcoef:  (2410, 21)\n",
      "epoch : 1000/5000, loss = 3.360670\n",
      "epoch : 2000/5000, loss = 2.512501\n",
      "epoch : 3000/5000, loss = 2.142463\n",
      "epoch : 4000/5000, loss = 2.094521\n",
      "epoch : 5000/5000, loss = 2.212706\n",
      "(1033,)\n",
      "(1033, 1)\n",
      "Model: Customized, AUC-ROC: 0.9963110667996011, AUC-PR: 0.8040086277813143\n"
     ]
    },
    {
     "name": "stderr",
     "output_type": "stream",
     "text": [
      "483it [3:19:42, 91.82s/it]"
     ]
    },
    {
     "name": "stdout",
     "output_type": "stream",
     "text": [
      "Current experiment parameters: ('41_Waveform', 0.0, 3), model: Customized, metrics: {'aucroc': 0.9963110667996011, 'aucpr': 0.8040086277813143}, fitting time: 44.12591290473938, inference time: 0.00943899154663086\n",
      "Generating dependency anomalies...\n",
      "C-Vine...\n",
      "Finished copula generating...\n",
      "Finished copula fitting...\n",
      "Gaussian KDE...\n",
      "Finished Gaussian KDE...\n",
      "Generate dependency OK...\n",
      "current noise type: None\n",
      "{'Samples': 3686, 'Features': 50, 'Anomalies': 61, 'Anomalies Ratio(%)': 1.65}\n",
      "Train data shape after filter corrcoef:  (2580, 50)\n",
      "epoch : 1000/5000, loss = 5.763165\n",
      "epoch : 2000/5000, loss = 5.125098\n",
      "epoch : 3000/5000, loss = 4.674497\n",
      "epoch : 4000/5000, loss = 4.266577\n",
      "epoch : 5000/5000, loss = 5.432202\n",
      "(1106,)\n",
      "(1106, 1)\n",
      "Model: Customized, AUC-ROC: 0.9638480392156863, AUC-PR: 0.1847799288615657\n"
     ]
    },
    {
     "name": "stderr",
     "output_type": "stream",
     "text": [
      "505it [3:40:31, 69.98s/it]"
     ]
    },
    {
     "name": "stdout",
     "output_type": "stream",
     "text": [
      "Current experiment parameters: ('36_speech', 0.0, 1), model: Customized, metrics: {'aucroc': 0.9638480392156863, 'aucpr': 0.1847799288615657}, fitting time: 58.3117790222168, inference time: 0.005423069000244141\n",
      "Generating dependency anomalies...\n",
      "C-Vine...\n",
      "Finished copula generating...\n",
      "Finished copula fitting...\n",
      "Gaussian KDE...\n",
      "Finished Gaussian KDE...\n",
      "Generate dependency OK...\n",
      "current noise type: None\n",
      "{'Samples': 3686, 'Features': 50, 'Anomalies': 61, 'Anomalies Ratio(%)': 1.65}\n",
      "Train data shape after filter corrcoef:  (2580, 50)\n",
      "epoch : 1000/5000, loss = 6.027718\n",
      "epoch : 2000/5000, loss = 6.129456\n",
      "epoch : 3000/5000, loss = 5.005574\n",
      "epoch : 4000/5000, loss = 4.484084\n",
      "epoch : 5000/5000, loss = 4.267730\n",
      "(1106,)\n",
      "(1106, 1)\n",
      "Model: Customized, AUC-ROC: 0.9981107026143791, AUC-PR: 0.9441798941798942\n"
     ]
    },
    {
     "name": "stderr",
     "output_type": "stream",
     "text": [
      "506it [4:01:33, 116.36s/it]"
     ]
    },
    {
     "name": "stdout",
     "output_type": "stream",
     "text": [
      "Current experiment parameters: ('36_speech', 0.0, 2), model: Customized, metrics: {'aucroc': 0.9981107026143791, 'aucpr': 0.9441798941798942}, fitting time: 56.02229905128479, inference time: 0.005437135696411133\n",
      "Generating dependency anomalies...\n",
      "C-Vine...\n",
      "Finished copula generating...\n",
      "Finished copula fitting...\n",
      "Gaussian KDE...\n",
      "Finished Gaussian KDE...\n",
      "Generate dependency OK...\n",
      "current noise type: None\n",
      "{'Samples': 3686, 'Features': 50, 'Anomalies': 61, 'Anomalies Ratio(%)': 1.65}\n",
      "Train data shape after filter corrcoef:  (2580, 50)\n",
      "epoch : 1000/5000, loss = 5.790542\n",
      "epoch : 2000/5000, loss = 5.524714\n",
      "epoch : 3000/5000, loss = 4.081730\n",
      "epoch : 4000/5000, loss = 3.640784\n",
      "epoch : 5000/5000, loss = 3.451795\n",
      "(1106,)\n",
      "(1106, 1)\n",
      "Model: Customized, AUC-ROC: 0.9988255718954249, AUC-PR: 0.9447812177789101\n"
     ]
    },
    {
     "name": "stderr",
     "output_type": "stream",
     "text": [
      "507it [4:22:29, 176.35s/it]"
     ]
    },
    {
     "name": "stdout",
     "output_type": "stream",
     "text": [
      "Current experiment parameters: ('36_speech', 0.0, 3), model: Customized, metrics: {'aucroc': 0.9988255718954249, 'aucpr': 0.9447812177789101}, fitting time: 55.76404404640198, inference time: 0.005482912063598633\n",
      "Generating dependency anomalies...\n",
      "C-Vine...\n",
      "Finished copula generating...\n",
      "Finished copula fitting...\n",
      "Gaussian KDE...\n",
      "Finished Gaussian KDE...\n",
      "Generate dependency OK...\n",
      "current noise type: None\n",
      "{'Samples': 3772, 'Features': 6, 'Anomalies': 93, 'Anomalies Ratio(%)': 2.47}\n",
      "Train data shape after filter corrcoef:  (2640, 6)\n",
      "epoch : 1000/5000, loss = 0.267966\n",
      "epoch : 2000/5000, loss = 0.071676\n",
      "epoch : 3000/5000, loss = 0.038404\n",
      "epoch : 4000/5000, loss = 0.052966\n",
      "epoch : 5000/5000, loss = 0.026992\n",
      "(1132,)\n",
      "(1132, 1)\n",
      "Model: Customized, AUC-ROC: 0.9514104554865425, AUC-PR: 0.315742303239283\n"
     ]
    },
    {
     "name": "stderr",
     "output_type": "stream",
     "text": [
      "529it [4:26:09, 72.65s/it] "
     ]
    },
    {
     "name": "stdout",
     "output_type": "stream",
     "text": [
      "Current experiment parameters: ('38_thyroid', 0.0, 1), model: Customized, metrics: {'aucroc': 0.9514104554865425, 'aucpr': 0.315742303239283}, fitting time: 53.18873405456543, inference time: 0.0015957355499267578\n",
      "Generating dependency anomalies...\n",
      "C-Vine...\n",
      "Finished copula generating...\n",
      "Finished copula fitting...\n",
      "Gaussian KDE...\n",
      "Finished Gaussian KDE...\n",
      "Generate dependency OK...\n",
      "current noise type: None\n",
      "{'Samples': 3772, 'Features': 6, 'Anomalies': 93, 'Anomalies Ratio(%)': 2.47}\n",
      "Train data shape after filter corrcoef:  (2640, 6)\n",
      "epoch : 1000/5000, loss = 0.273046\n",
      "epoch : 2000/5000, loss = 0.093221\n",
      "epoch : 3000/5000, loss = 0.081551\n",
      "epoch : 4000/5000, loss = 0.048881\n",
      "epoch : 5000/5000, loss = 0.048203\n",
      "(1132,)\n",
      "(1132, 1)\n",
      "Model: Customized, AUC-ROC: 0.9221014492753623, AUC-PR: 0.24270764740670117\n",
      "Current experiment parameters: ('38_thyroid', 0.0, 2), model: Customized, metrics: {'aucroc': 0.9221014492753623, 'aucpr': 0.24270764740670117}, fitting time: 52.75742983818054, inference time: 0.0013391971588134766\n"
     ]
    },
    {
     "name": "stderr",
     "output_type": "stream",
     "text": [
      "530it [4:29:48, 78.37s/it]"
     ]
    },
    {
     "name": "stdout",
     "output_type": "stream",
     "text": [
      "Generating dependency anomalies...\n",
      "C-Vine...\n",
      "Finished copula generating...\n",
      "Finished copula fitting...\n",
      "Gaussian KDE...\n",
      "Finished Gaussian KDE...\n",
      "Generate dependency OK...\n",
      "current noise type: None\n",
      "{'Samples': 3772, 'Features': 6, 'Anomalies': 93, 'Anomalies Ratio(%)': 2.47}\n",
      "Train data shape after filter corrcoef:  (2640, 6)\n",
      "epoch : 1000/5000, loss = 0.272703\n",
      "epoch : 2000/5000, loss = 0.150918\n",
      "epoch : 3000/5000, loss = 0.140553\n",
      "epoch : 4000/5000, loss = 0.409232\n",
      "epoch : 5000/5000, loss = 0.029844\n",
      "(1132,)\n",
      "(1132, 1)\n",
      "Model: Customized, AUC-ROC: 0.9159226190476191, AUC-PR: 0.20535500175166652\n"
     ]
    },
    {
     "name": "stderr",
     "output_type": "stream",
     "text": [
      "531it [4:33:28, 85.81s/it]"
     ]
    },
    {
     "name": "stdout",
     "output_type": "stream",
     "text": [
      "Current experiment parameters: ('38_thyroid', 0.0, 3), model: Customized, metrics: {'aucroc': 0.9159226190476191, 'aucpr': 0.20535500175166652}, fitting time: 53.27647519111633, inference time: 0.001554250717163086\n",
      "Generating dependency anomalies...\n",
      "C-Vine...\n",
      "Finished copula generating...\n",
      "Finished copula fitting...\n",
      "Gaussian KDE...\n",
      "Finished Gaussian KDE...\n",
      "Generate dependency OK...\n",
      "current noise type: None\n",
      "{'Samples': 4207, 'Features': 50, 'Anomalies': 1679, 'Anomalies Ratio(%)': 39.91}\n",
      "Train data shape after filter corrcoef:  (2944, 50)\n",
      "epoch : 1000/5000, loss = 11.218658\n",
      "epoch : 2000/5000, loss = 9.303900\n",
      "epoch : 3000/5000, loss = 7.996383\n",
      "epoch : 4000/5000, loss = 7.825526\n",
      "epoch : 5000/5000, loss = 8.177979\n",
      "(1263,)\n",
      "(1263, 1)\n",
      "Model: Customized, AUC-ROC: 0.8929303385825125, AUC-PR: 0.7750140908116616\n"
     ]
    },
    {
     "name": "stderr",
     "output_type": "stream",
     "text": [
      "553it [4:48:47, 58.37s/it]"
     ]
    },
    {
     "name": "stdout",
     "output_type": "stream",
     "text": [
      "Current experiment parameters: ('35_SpamBase', 0.0, 1), model: Customized, metrics: {'aucroc': 0.8929303385825125, 'aucpr': 0.7750140908116616}, fitting time: 58.43125009536743, inference time: 0.00202178955078125\n",
      "Generating dependency anomalies...\n",
      "C-Vine...\n",
      "Finished copula generating...\n",
      "Finished copula fitting...\n",
      "Gaussian KDE...\n",
      "Finished Gaussian KDE...\n",
      "Generate dependency OK...\n",
      "current noise type: None\n",
      "{'Samples': 4207, 'Features': 50, 'Anomalies': 1679, 'Anomalies Ratio(%)': 39.91}\n",
      "Train data shape after filter corrcoef:  (2944, 50)\n",
      "epoch : 1000/5000, loss = 11.864839\n",
      "epoch : 2000/5000, loss = 10.689454\n",
      "epoch : 3000/5000, loss = 8.699963\n",
      "epoch : 4000/5000, loss = 8.070200\n",
      "epoch : 5000/5000, loss = 8.498973\n",
      "(1263,)\n",
      "(1263, 1)\n",
      "Model: Customized, AUC-ROC: 0.7848280946107032, AUC-PR: 0.6758575199699508\n"
     ]
    },
    {
     "name": "stderr",
     "output_type": "stream",
     "text": [
      "554it [5:03:59, 91.56s/it]"
     ]
    },
    {
     "name": "stdout",
     "output_type": "stream",
     "text": [
      "Current experiment parameters: ('35_SpamBase', 0.0, 2), model: Customized, metrics: {'aucroc': 0.7848280946107032, 'aucpr': 0.6758575199699508}, fitting time: 57.96497368812561, inference time: 0.006303071975708008\n",
      "Generating dependency anomalies...\n",
      "C-Vine...\n",
      "Finished copula generating...\n",
      "Finished copula fitting...\n",
      "Gaussian KDE...\n",
      "Finished Gaussian KDE...\n",
      "Generate dependency OK...\n",
      "current noise type: None\n",
      "{'Samples': 4207, 'Features': 50, 'Anomalies': 1679, 'Anomalies Ratio(%)': 39.91}\n",
      "Train data shape after filter corrcoef:  (2944, 50)\n",
      "epoch : 1000/5000, loss = 10.432346\n",
      "epoch : 2000/5000, loss = 8.353635\n",
      "epoch : 3000/5000, loss = 7.666712\n",
      "epoch : 4000/5000, loss = 6.862805\n",
      "epoch : 5000/5000, loss = 6.960444\n",
      "(1263,)\n",
      "(1263, 1)\n",
      "Model: Customized, AUC-ROC: 0.9263964698747307, AUC-PR: 0.8282900426371528\n"
     ]
    },
    {
     "name": "stderr",
     "output_type": "stream",
     "text": [
      "555it [5:19:16, 135.02s/it]"
     ]
    },
    {
     "name": "stdout",
     "output_type": "stream",
     "text": [
      "Current experiment parameters: ('35_SpamBase', 0.0, 3), model: Customized, metrics: {'aucroc': 0.9263964698747307, 'aucpr': 0.8282900426371528}, fitting time: 58.00276017189026, inference time: 0.006639719009399414\n",
      "Generating dependency anomalies...\n",
      "C-Vine...\n",
      "Finished copula generating...\n",
      "Finished copula fitting...\n",
      "Gaussian KDE...\n",
      "Finished Gaussian KDE...\n",
      "Generate dependency OK...\n",
      "current noise type: None\n",
      "{'Samples': 4819, 'Features': 5, 'Anomalies': 257, 'Anomalies Ratio(%)': 5.33}\n",
      "Train data shape after filter corrcoef:  (3373, 5)\n",
      "epoch : 1000/5000, loss = 0.789413\n",
      "epoch : 2000/5000, loss = 0.924208\n",
      "epoch : 3000/5000, loss = 0.824983\n",
      "epoch : 4000/5000, loss = 0.761179\n",
      "epoch : 5000/5000, loss = 0.683878\n",
      "(1446,)\n",
      "(1446, 1)\n",
      "Model: Customized, AUC-ROC: 0.6469221063815659, AUC-PR: 0.08311902243983933\n",
      "Current experiment parameters: ('44_Wilt', 0.0, 1), model: Customized, metrics: {'aucroc': 0.6469221063815659, 'aucpr': 0.08311902243983933}, fitting time: 56.67424917221069, inference time: 0.0016071796417236328\n"
     ]
    },
    {
     "name": "stderr",
     "output_type": "stream",
     "text": [
      "577it [5:23:42, 58.39s/it] "
     ]
    },
    {
     "name": "stdout",
     "output_type": "stream",
     "text": [
      "Generating dependency anomalies...\n",
      "C-Vine...\n",
      "Finished copula generating...\n",
      "Finished copula fitting...\n",
      "Gaussian KDE...\n",
      "Finished Gaussian KDE...\n",
      "Generate dependency OK...\n",
      "current noise type: None\n",
      "{'Samples': 4819, 'Features': 5, 'Anomalies': 257, 'Anomalies Ratio(%)': 5.33}\n",
      "Train data shape after filter corrcoef:  (3373, 5)\n",
      "epoch : 1000/5000, loss = 0.663519\n",
      "epoch : 2000/5000, loss = 0.555454\n",
      "epoch : 3000/5000, loss = 0.596527\n",
      "epoch : 4000/5000, loss = 0.455035\n",
      "epoch : 5000/5000, loss = 0.504661\n",
      "(1446,)\n",
      "(1446, 1)\n",
      "Model: Customized, AUC-ROC: 0.6321516321516321, AUC-PR: 0.07701550940772314\n"
     ]
    },
    {
     "name": "stderr",
     "output_type": "stream",
     "text": [
      "578it [5:28:06, 66.40s/it]"
     ]
    },
    {
     "name": "stdout",
     "output_type": "stream",
     "text": [
      "Current experiment parameters: ('44_Wilt', 0.0, 2), model: Customized, metrics: {'aucroc': 0.6321516321516321, 'aucpr': 0.07701550940772314}, fitting time: 57.1652569770813, inference time: 0.0017189979553222656\n",
      "Generating dependency anomalies...\n",
      "C-Vine...\n",
      "Finished copula generating...\n",
      "Finished copula fitting...\n",
      "Gaussian KDE...\n",
      "Finished Gaussian KDE...\n",
      "Generate dependency OK...\n",
      "current noise type: None\n",
      "{'Samples': 4819, 'Features': 5, 'Anomalies': 257, 'Anomalies Ratio(%)': 5.33}\n",
      "Train data shape after filter corrcoef:  (3373, 5)\n",
      "epoch : 1000/5000, loss = 0.787648\n",
      "epoch : 2000/5000, loss = 1.023897\n",
      "epoch : 3000/5000, loss = 0.711470\n",
      "epoch : 4000/5000, loss = 0.539542\n",
      "epoch : 5000/5000, loss = 0.593144\n",
      "(1446,)\n",
      "(1446, 1)\n",
      "Model: Customized, AUC-ROC: 0.6832364129661427, AUC-PR: 0.09186700254327401\n"
     ]
    },
    {
     "name": "stderr",
     "output_type": "stream",
     "text": [
      "579it [5:32:31, 76.85s/it]"
     ]
    },
    {
     "name": "stdout",
     "output_type": "stream",
     "text": [
      "Current experiment parameters: ('44_Wilt', 0.0, 3), model: Customized, metrics: {'aucroc': 0.6832364129661427, 'aucpr': 0.09186700254327401}, fitting time: 57.361618995666504, inference time: 0.00719904899597168\n",
      "Generating dependency anomalies...\n",
      "C-Vine...\n",
      "Finished copula generating...\n"
     ]
    },
    {
     "name": "stderr",
     "output_type": "stream",
     "text": [
      "601it [5:32:56, 29.65s/it]"
     ]
    },
    {
     "name": "stdout",
     "output_type": "stream",
     "text": [
      "Error when generating data: Constant column.\n",
      "Generating dependency anomalies...\n",
      "C-Vine...\n",
      "Finished copula generating...\n"
     ]
    },
    {
     "name": "stderr",
     "output_type": "stream",
     "text": [
      "602it [5:33:21, 29.47s/it]"
     ]
    },
    {
     "name": "stdout",
     "output_type": "stream",
     "text": [
      "Error when generating data: Constant column.\n",
      "Generating dependency anomalies...\n",
      "C-Vine...\n",
      "Finished copula generating...\n"
     ]
    },
    {
     "name": "stderr",
     "output_type": "stream",
     "text": [
      "603it [5:33:45, 29.22s/it]"
     ]
    },
    {
     "name": "stdout",
     "output_type": "stream",
     "text": [
      "Error when generating data: Constant column.\n",
      "Generating dependency anomalies...\n",
      "C-Vine...\n",
      "Finished copula generating...\n",
      "Finished copula fitting...\n"
     ]
    },
    {
     "name": "stderr",
     "output_type": "stream",
     "text": [
      "625it [5:36:50, 16.25s/it]"
     ]
    },
    {
     "name": "stdout",
     "output_type": "stream",
     "text": [
      "Error when generating data: f(a) and f(b) must have different signs\n",
      "Generating dependency anomalies...\n",
      "C-Vine...\n",
      "Finished copula generating...\n",
      "Finished copula fitting...\n"
     ]
    },
    {
     "name": "stderr",
     "output_type": "stream",
     "text": [
      "626it [5:37:51, 17.96s/it]"
     ]
    },
    {
     "name": "stdout",
     "output_type": "stream",
     "text": [
      "Error when generating data: f(a) and f(b) must have different signs\n",
      "Generating dependency anomalies...\n",
      "C-Vine...\n",
      "Finished copula generating...\n",
      "Finished copula fitting...\n",
      "Gaussian KDE...\n",
      "Finished Gaussian KDE...\n",
      "Generate dependency OK...\n",
      "current noise type: None\n",
      "{'Samples': 5393, 'Features': 10, 'Anomalies': 510, 'Anomalies Ratio(%)': 9.46}\n",
      "Train data shape after filter corrcoef:  (3775, 10)\n",
      "epoch : 1000/5000, loss = 0.733570\n",
      "epoch : 2000/5000, loss = 0.380308\n",
      "epoch : 3000/5000, loss = 0.266649\n",
      "epoch : 4000/5000, loss = 0.613138\n",
      "epoch : 5000/5000, loss = 0.260044\n",
      "(1618,)\n",
      "(1618, 1)\n",
      "Model: Customized, AUC-ROC: 0.8369849873965514, AUC-PR: 0.3198055567563226\n"
     ]
    },
    {
     "name": "stderr",
     "output_type": "stream",
     "text": [
      "627it [5:47:30, 47.53s/it]"
     ]
    },
    {
     "name": "stdout",
     "output_type": "stream",
     "text": [
      "Current experiment parameters: ('27_PageBlocks', 0.0, 3), model: Customized, metrics: {'aucroc': 0.8369849873965514, 'aucpr': 0.3198055567563226}, fitting time: 58.39508104324341, inference time: 0.0017380714416503906\n",
      "Generating dependency anomalies...\n",
      "C-Vine...\n",
      "Finished copula generating...\n",
      "Finished copula fitting...\n",
      "Gaussian KDE...\n",
      "Finished Gaussian KDE...\n",
      "Generate dependency OK...\n",
      "current noise type: None\n",
      "{'Samples': 5803, 'Features': 36, 'Anomalies': 71, 'Anomalies Ratio(%)': 1.22}\n",
      "Train data shape after filter corrcoef:  (4062, 36)\n",
      "epoch : 1000/5000, loss = 3.184775\n",
      "epoch : 2000/5000, loss = 3.075709\n",
      "epoch : 3000/5000, loss = 3.991651\n",
      "epoch : 4000/5000, loss = 2.247735\n",
      "epoch : 5000/5000, loss = 2.095670\n",
      "(1741,)\n",
      "(1741, 1)\n",
      "Model: Customized, AUC-ROC: 0.9978959025470654, AUC-PR: 0.7563112299677979\n"
     ]
    },
    {
     "name": "stderr",
     "output_type": "stream",
     "text": [
      "649it [6:26:38, 84.43s/it]"
     ]
    },
    {
     "name": "stdout",
     "output_type": "stream",
     "text": [
      "Current experiment parameters: ('31_satimage-2', 0.0, 1), model: Customized, metrics: {'aucroc': 0.9978959025470654, 'aucpr': 0.7563112299677979}, fitting time: 62.41700077056885, inference time: 0.006327152252197266\n",
      "Generating dependency anomalies...\n",
      "C-Vine...\n",
      "Finished copula generating...\n",
      "Finished copula fitting...\n",
      "Gaussian KDE...\n",
      "Finished Gaussian KDE...\n",
      "Generate dependency OK...\n",
      "current noise type: None\n",
      "{'Samples': 5803, 'Features': 36, 'Anomalies': 71, 'Anomalies Ratio(%)': 1.22}\n",
      "Train data shape after filter corrcoef:  (4062, 36)\n",
      "epoch : 1000/5000, loss = 3.664364\n",
      "epoch : 2000/5000, loss = 3.529292\n",
      "epoch : 3000/5000, loss = 2.629940\n",
      "epoch : 4000/5000, loss = 2.418458\n",
      "epoch : 5000/5000, loss = 12.345131\n",
      "(1741,)\n",
      "(1741, 1)\n",
      "Model: Customized, AUC-ROC: 0.9991971207087486, AUC-PR: 0.8781838866082563\n"
     ]
    },
    {
     "name": "stderr",
     "output_type": "stream",
     "text": [
      "650it [7:05:28, 171.75s/it]"
     ]
    },
    {
     "name": "stdout",
     "output_type": "stream",
     "text": [
      "Current experiment parameters: ('31_satimage-2', 0.0, 2), model: Customized, metrics: {'aucroc': 0.9991971207087486, 'aucpr': 0.8781838866082563}, fitting time: 62.23898530006409, inference time: 0.007643938064575195\n",
      "Generating dependency anomalies...\n",
      "C-Vine...\n",
      "Finished copula generating...\n",
      "Finished copula fitting...\n",
      "Gaussian KDE...\n",
      "Finished Gaussian KDE...\n",
      "Generate dependency OK...\n",
      "current noise type: None\n",
      "{'Samples': 5803, 'Features': 36, 'Anomalies': 71, 'Anomalies Ratio(%)': 1.22}\n",
      "Train data shape after filter corrcoef:  (4062, 36)\n",
      "epoch : 1000/5000, loss = 3.235057\n",
      "epoch : 2000/5000, loss = 2.702819\n",
      "epoch : 3000/5000, loss = 2.365960\n",
      "epoch : 4000/5000, loss = 2.209242\n",
      "epoch : 5000/5000, loss = 2.064984\n",
      "(1741,)\n",
      "(1741, 1)\n",
      "Model: Customized, AUC-ROC: 0.9985326688815062, AUC-PR: 0.8174789507468632\n"
     ]
    },
    {
     "name": "stderr",
     "output_type": "stream",
     "text": [
      "651it [7:44:18, 285.38s/it]"
     ]
    },
    {
     "name": "stdout",
     "output_type": "stream",
     "text": [
      "Current experiment parameters: ('31_satimage-2', 0.0, 3), model: Customized, metrics: {'aucroc': 0.9985326688815062, 'aucpr': 0.8174789507468632}, fitting time: 62.04702401161194, inference time: 0.0066640377044677734\n",
      "Generating dependency anomalies...\n",
      "C-Vine...\n",
      "Finished copula generating...\n",
      "Finished copula fitting...\n",
      "Gaussian KDE...\n",
      "Finished Gaussian KDE...\n",
      "Generate dependency OK...\n",
      "current noise type: None\n",
      "{'Samples': 6435, 'Features': 36, 'Anomalies': 2036, 'Anomalies Ratio(%)': 31.64}\n",
      "Train data shape after filter corrcoef:  (4504, 36)\n",
      "epoch : 1000/5000, loss = 8.360106\n",
      "epoch : 2000/5000, loss = 6.431306\n",
      "epoch : 3000/5000, loss = 5.849032\n",
      "epoch : 4000/5000, loss = 5.591195\n",
      "epoch : 5000/5000, loss = 6.727071\n",
      "(1931,)\n",
      "(1931, 1)\n",
      "Model: Customized, AUC-ROC: 0.9978401031592521, AUC-PR: 0.985790490388864\n"
     ]
    },
    {
     "name": "stderr",
     "output_type": "stream",
     "text": [
      "673it [8:10:14, 151.60s/it]"
     ]
    },
    {
     "name": "stdout",
     "output_type": "stream",
     "text": [
      "Current experiment parameters: ('30_satellite', 0.0, 1), model: Customized, metrics: {'aucroc': 0.9978401031592521, 'aucpr': 0.985790490388864}, fitting time: 65.29663419723511, inference time: 0.006134033203125\n",
      "Generating dependency anomalies...\n",
      "C-Vine...\n",
      "Finished copula generating...\n",
      "Finished copula fitting...\n",
      "Gaussian KDE...\n",
      "Finished Gaussian KDE...\n",
      "Generate dependency OK...\n",
      "current noise type: None\n",
      "{'Samples': 6435, 'Features': 36, 'Anomalies': 2036, 'Anomalies Ratio(%)': 31.64}\n",
      "Train data shape after filter corrcoef:  (4504, 36)\n",
      "epoch : 1000/5000, loss = 8.662023\n",
      "epoch : 2000/5000, loss = 6.440800\n",
      "epoch : 3000/5000, loss = 5.878835\n",
      "epoch : 4000/5000, loss = 5.496904\n",
      "epoch : 5000/5000, loss = 5.426515\n",
      "(1931,)\n",
      "(1931, 1)\n",
      "Model: Customized, AUC-ROC: 0.9966374051480434, AUC-PR: 0.9842745088255824\n"
     ]
    },
    {
     "name": "stderr",
     "output_type": "stream",
     "text": [
      "674it [8:36:06, 206.06s/it]"
     ]
    },
    {
     "name": "stdout",
     "output_type": "stream",
     "text": [
      "Current experiment parameters: ('30_satellite', 0.0, 2), model: Customized, metrics: {'aucroc': 0.9966374051480434, 'aucpr': 0.9842745088255824}, fitting time: 68.47642803192139, inference time: 0.004553079605102539\n",
      "Generating dependency anomalies...\n",
      "C-Vine...\n",
      "Finished copula generating...\n",
      "Finished copula fitting...\n",
      "Gaussian KDE...\n",
      "Finished Gaussian KDE...\n",
      "Generate dependency OK...\n",
      "current noise type: None\n",
      "{'Samples': 6435, 'Features': 36, 'Anomalies': 2036, 'Anomalies Ratio(%)': 31.64}\n",
      "Train data shape after filter corrcoef:  (4504, 36)\n",
      "epoch : 1000/5000, loss = 7.996312\n",
      "epoch : 2000/5000, loss = 6.316435\n",
      "epoch : 3000/5000, loss = 5.771889\n",
      "epoch : 4000/5000, loss = 5.351022\n",
      "epoch : 5000/5000, loss = 5.294366\n",
      "(1931,)\n",
      "(1931, 1)\n",
      "Model: Customized, AUC-ROC: 0.9953528740762784, AUC-PR: 0.9796900345639119\n"
     ]
    },
    {
     "name": "stderr",
     "output_type": "stream",
     "text": [
      "675it [9:02:08, 277.43s/it]"
     ]
    },
    {
     "name": "stdout",
     "output_type": "stream",
     "text": [
      "Current experiment parameters: ('30_satellite', 0.0, 3), model: Customized, metrics: {'aucroc': 0.9953528740762784, 'aucpr': 0.9796900345639119}, fitting time: 68.56072807312012, inference time: 0.007596015930175781\n",
      "Generating dependency anomalies...\n",
      "C-Vine...\n",
      "Finished copula generating...\n",
      "Finished copula fitting...\n",
      "Gaussian KDE...\n",
      "Finished Gaussian KDE...\n",
      "Generate dependency OK...\n",
      "current noise type: None\n",
      "{'Samples': 6435, 'Features': 36, 'Anomalies': 1333, 'Anomalies Ratio(%)': 20.71}\n",
      "Train data shape after filter corrcoef:  (4504, 36)\n",
      "epoch : 1000/5000, loss = 6.794247\n",
      "epoch : 2000/5000, loss = 5.027164\n",
      "epoch : 3000/5000, loss = 4.528645\n",
      "epoch : 4000/5000, loss = 4.287256\n",
      "epoch : 5000/5000, loss = 4.138191\n",
      "(1931,)\n",
      "(1931, 1)\n",
      "Model: Customized, AUC-ROC: 0.9979572175048987, AUC-PR: 0.9771344929045316\n"
     ]
    },
    {
     "name": "stderr",
     "output_type": "stream",
     "text": [
      "697it [9:36:50, 163.50s/it]"
     ]
    },
    {
     "name": "stdout",
     "output_type": "stream",
     "text": [
      "Current experiment parameters: ('19_landsat', 0.0, 1), model: Customized, metrics: {'aucroc': 0.9979572175048987, 'aucpr': 0.9771344929045316}, fitting time: 65.97544598579407, inference time: 0.00686192512512207\n",
      "Generating dependency anomalies...\n",
      "C-Vine...\n",
      "Finished copula generating...\n",
      "Finished copula fitting...\n",
      "Gaussian KDE...\n",
      "Finished Gaussian KDE...\n",
      "Generate dependency OK...\n",
      "current noise type: None\n",
      "{'Samples': 6435, 'Features': 36, 'Anomalies': 1333, 'Anomalies Ratio(%)': 20.71}\n",
      "Train data shape after filter corrcoef:  (4504, 36)\n",
      "epoch : 1000/5000, loss = 7.075088\n",
      "epoch : 2000/5000, loss = 5.155618\n",
      "epoch : 3000/5000, loss = 4.533130\n",
      "epoch : 4000/5000, loss = 4.252892\n",
      "epoch : 5000/5000, loss = 4.092696\n",
      "(1931,)\n",
      "(1931, 1)\n",
      "Model: Customized, AUC-ROC: 0.9983883082952318, AUC-PR: 0.9874588335398908\n"
     ]
    },
    {
     "name": "stderr",
     "output_type": "stream",
     "text": [
      "698it [10:11:30, 238.07s/it]"
     ]
    },
    {
     "name": "stdout",
     "output_type": "stream",
     "text": [
      "Current experiment parameters: ('19_landsat', 0.0, 2), model: Customized, metrics: {'aucroc': 0.9983883082952318, 'aucpr': 0.9874588335398908}, fitting time: 67.89435696601868, inference time: 0.006994962692260742\n",
      "Generating dependency anomalies...\n",
      "C-Vine...\n",
      "Finished copula generating...\n",
      "Finished copula fitting...\n",
      "Gaussian KDE...\n",
      "Finished Gaussian KDE...\n",
      "Generate dependency OK...\n",
      "current noise type: None\n",
      "{'Samples': 6435, 'Features': 36, 'Anomalies': 1333, 'Anomalies Ratio(%)': 20.71}\n",
      "Train data shape after filter corrcoef:  (4504, 36)\n",
      "epoch : 1000/5000, loss = 6.451732\n",
      "epoch : 2000/5000, loss = 4.776020\n",
      "epoch : 3000/5000, loss = 4.273129\n",
      "epoch : 4000/5000, loss = 4.112504\n",
      "epoch : 5000/5000, loss = 3.963592\n",
      "(1931,)\n",
      "(1931, 1)\n",
      "Model: Customized, AUC-ROC: 0.9978037230568255, AUC-PR: 0.9824743995788137\n"
     ]
    },
    {
     "name": "stderr",
     "output_type": "stream",
     "text": [
      "699it [10:46:12, 335.11s/it]"
     ]
    },
    {
     "name": "stdout",
     "output_type": "stream",
     "text": [
      "Current experiment parameters: ('19_landsat', 0.0, 3), model: Customized, metrics: {'aucroc': 0.9978037230568255, 'aucpr': 0.9824743995788137}, fitting time: 65.4447729587555, inference time: 0.007212638854980469\n",
      "Generating dependency anomalies...\n",
      "C-Vine...\n",
      "Finished copula generating...\n",
      "Finished copula fitting...\n",
      "Gaussian KDE...\n",
      "Finished Gaussian KDE...\n",
      "Generate dependency OK...\n",
      "current noise type: None\n",
      "{'Samples': 6870, 'Features': 16, 'Anomalies': 156, 'Anomalies Ratio(%)': 2.27}\n",
      "Train data shape after filter corrcoef:  (4809, 16)\n",
      "epoch : 1000/5000, loss = 1.862928\n",
      "epoch : 2000/5000, loss = 1.111501\n",
      "epoch : 3000/5000, loss = 0.968918\n",
      "epoch : 4000/5000, loss = 0.893272\n",
      "epoch : 5000/5000, loss = 0.810819\n",
      "(2061,)\n",
      "(2061, 1)\n",
      "Model: Customized, AUC-ROC: 0.9905660377358491, AUC-PR: 0.7280785700482955\n"
     ]
    },
    {
     "name": "stderr",
     "output_type": "stream",
     "text": [
      "721it [11:10:03, 166.78s/it]"
     ]
    },
    {
     "name": "stdout",
     "output_type": "stream",
     "text": [
      "Current experiment parameters: ('28_pendigits', 0.0, 1), model: Customized, metrics: {'aucroc': 0.9905660377358491, 'aucpr': 0.7280785700482955}, fitting time: 63.71756601333618, inference time: 0.0063419342041015625\n",
      "Generating dependency anomalies...\n",
      "C-Vine...\n",
      "Finished copula generating...\n",
      "Finished copula fitting...\n",
      "Gaussian KDE...\n",
      "Finished Gaussian KDE...\n",
      "Generate dependency OK...\n",
      "current noise type: None\n",
      "{'Samples': 6870, 'Features': 16, 'Anomalies': 156, 'Anomalies Ratio(%)': 2.27}\n",
      "Train data shape after filter corrcoef:  (4809, 16)\n",
      "epoch : 1000/5000, loss = 2.337553\n",
      "epoch : 2000/5000, loss = 1.262932\n",
      "epoch : 3000/5000, loss = 1.061714\n",
      "epoch : 4000/5000, loss = 1.051926\n",
      "epoch : 5000/5000, loss = 0.977869\n",
      "(2061,)\n",
      "(2061, 1)\n",
      "Model: Customized, AUC-ROC: 0.9978976948593885, AUC-PR: 0.914733558247195\n"
     ]
    },
    {
     "name": "stderr",
     "output_type": "stream",
     "text": [
      "722it [11:33:52, 215.90s/it]"
     ]
    },
    {
     "name": "stdout",
     "output_type": "stream",
     "text": [
      "Current experiment parameters: ('28_pendigits', 0.0, 2), model: Customized, metrics: {'aucroc': 0.9978976948593885, 'aucpr': 0.914733558247195}, fitting time: 63.666614055633545, inference time: 0.006035804748535156\n",
      "Generating dependency anomalies...\n",
      "C-Vine...\n",
      "Finished copula generating...\n",
      "Finished copula fitting...\n"
     ]
    },
    {
     "name": "stderr",
     "output_type": "stream",
     "text": [
      "723it [11:41:00, 227.06s/it]"
     ]
    },
    {
     "name": "stdout",
     "output_type": "stream",
     "text": [
      "Error when generating data: f(a) and f(b) must have different signs\n",
      "Generating dependency anomalies...\n",
      "C-Vine...\n",
      "Finished copula generating...\n",
      "Finished copula fitting...\n",
      "Gaussian KDE...\n",
      "Finished Gaussian KDE...\n",
      "Generate dependency OK...\n",
      "current noise type: None\n",
      "{'Samples': 7200, 'Features': 6, 'Anomalies': 534, 'Anomalies Ratio(%)': 7.42}\n",
      "Train data shape after filter corrcoef:  (5040, 6)\n",
      "epoch : 1000/5000, loss = 0.885442\n",
      "epoch : 2000/5000, loss = 0.727124\n",
      "epoch : 3000/5000, loss = 0.594995\n",
      "epoch : 4000/5000, loss = 0.483916\n",
      "epoch : 5000/5000, loss = 0.285486\n",
      "(2160,)\n",
      "(2160, 1)\n",
      "Model: Customized, AUC-ROC: 0.905084375, AUC-PR: 0.42109972705312343\n"
     ]
    },
    {
     "name": "stderr",
     "output_type": "stream",
     "text": [
      "745it [11:50:31, 101.71s/it]"
     ]
    },
    {
     "name": "stdout",
     "output_type": "stream",
     "text": [
      "Current experiment parameters: ('2_annthyroid', 0.0, 1), model: Customized, metrics: {'aucroc': 0.905084375, 'aucpr': 0.42109972705312343}, fitting time: 63.479645013809204, inference time: 0.006248950958251953\n",
      "Generating dependency anomalies...\n",
      "C-Vine...\n",
      "Finished copula generating...\n",
      "Finished copula fitting...\n",
      "Gaussian KDE...\n",
      "Finished Gaussian KDE...\n",
      "Generate dependency OK...\n",
      "current noise type: None\n",
      "{'Samples': 7200, 'Features': 6, 'Anomalies': 534, 'Anomalies Ratio(%)': 7.42}\n",
      "Train data shape after filter corrcoef:  (5040, 6)\n",
      "epoch : 1000/5000, loss = 0.806595\n",
      "epoch : 2000/5000, loss = 0.684905\n",
      "epoch : 3000/5000, loss = 0.744730\n",
      "epoch : 4000/5000, loss = 0.449598\n",
      "epoch : 5000/5000, loss = 0.489162\n",
      "(2160,)\n",
      "(2160, 1)\n",
      "Model: Customized, AUC-ROC: 0.8516437499999999, AUC-PR: 0.36656619303085103\n"
     ]
    },
    {
     "name": "stderr",
     "output_type": "stream",
     "text": [
      "746it [12:00:02, 119.96s/it]"
     ]
    },
    {
     "name": "stdout",
     "output_type": "stream",
     "text": [
      "Current experiment parameters: ('2_annthyroid', 0.0, 2), model: Customized, metrics: {'aucroc': 0.8516437499999999, 'aucpr': 0.36656619303085103}, fitting time: 64.98650813102722, inference time: 0.0020630359649658203\n",
      "Generating dependency anomalies...\n",
      "C-Vine...\n",
      "Finished copula generating...\n",
      "Finished copula fitting...\n",
      "Gaussian KDE...\n",
      "Finished Gaussian KDE...\n",
      "Generate dependency OK...\n",
      "current noise type: None\n",
      "{'Samples': 7200, 'Features': 6, 'Anomalies': 534, 'Anomalies Ratio(%)': 7.42}\n",
      "Train data shape after filter corrcoef:  (5040, 6)\n",
      "epoch : 1000/5000, loss = 0.809848\n",
      "epoch : 2000/5000, loss = 0.761416\n",
      "epoch : 3000/5000, loss = 0.583798\n",
      "epoch : 4000/5000, loss = 0.467999\n",
      "epoch : 5000/5000, loss = 0.370285\n",
      "(2160,)\n",
      "(2160, 1)\n",
      "Model: Customized, AUC-ROC: 0.82588125, AUC-PR: 0.24855266711211998\n"
     ]
    },
    {
     "name": "stderr",
     "output_type": "stream",
     "text": [
      "747it [12:09:36, 143.90s/it]"
     ]
    },
    {
     "name": "stdout",
     "output_type": "stream",
     "text": [
      "Current experiment parameters: ('2_annthyroid', 0.0, 3), model: Customized, metrics: {'aucroc': 0.82588125, 'aucpr': 0.24855266711211998}, fitting time: 67.09482717514038, inference time: 0.0020706653594970703\n",
      "Generating dependency anomalies...\n",
      "C-Vine...\n",
      "Finished copula generating...\n"
     ]
    },
    {
     "name": "stderr",
     "output_type": "stream",
     "text": [
      "769it [12:10:04, 54.98s/it] "
     ]
    },
    {
     "name": "stdout",
     "output_type": "stream",
     "text": [
      "Error when generating data: Constant column.\n",
      "Generating dependency anomalies...\n",
      "C-Vine...\n",
      "Finished copula generating...\n"
     ]
    },
    {
     "name": "stderr",
     "output_type": "stream",
     "text": [
      "770it [12:10:27, 53.74s/it]"
     ]
    },
    {
     "name": "stdout",
     "output_type": "stream",
     "text": [
      "Error when generating data: Constant column.\n",
      "Generating dependency anomalies...\n",
      "C-Vine...\n",
      "Finished copula generating...\n"
     ]
    },
    {
     "name": "stderr",
     "output_type": "stream",
     "text": [
      "771it [12:10:57, 52.52s/it]"
     ]
    },
    {
     "name": "stdout",
     "output_type": "stream",
     "text": [
      "Error when generating data: Constant column.\n",
      "subsampling for dataset 8_celeba...\n",
      "Generating dependency anomalies...\n",
      "C-Vine...\n",
      "Finished copula generating...\n",
      "Finished copula fitting...\n",
      "Gaussian KDE...\n",
      "Finished Gaussian KDE...\n",
      "Generate dependency OK...\n",
      "current noise type: None\n",
      "{'Samples': 10000, 'Features': 39, 'Anomalies': 222, 'Anomalies Ratio(%)': 2.22}\n",
      "Train data shape after filter corrcoef:  (7000, 39)\n",
      "epoch : 1000/5000, loss = 4.467174\n",
      "epoch : 2000/5000, loss = 3.654736\n",
      "epoch : 3000/5000, loss = 3.403723\n",
      "epoch : 4000/5000, loss = 3.135441\n",
      "epoch : 5000/5000, loss = 3.048531\n",
      "(3000,)\n",
      "(3000, 1)\n",
      "Model: Customized, AUC-ROC: 0.9623583412633389, AUC-PR: 0.302402964136743\n"
     ]
    },
    {
     "name": "stderr",
     "output_type": "stream",
     "text": [
      "793it [15:13:19, 329.76s/it]"
     ]
    },
    {
     "name": "stdout",
     "output_type": "stream",
     "text": [
      "Current experiment parameters: ('8_celeba', 0.0, 1), model: Customized, metrics: {'aucroc': 0.9623583412633389, 'aucpr': 0.302402964136743}, fitting time: 85.45885610580444, inference time: 0.007486820220947266\n",
      "subsampling for dataset 8_celeba...\n",
      "Generating dependency anomalies...\n",
      "C-Vine...\n",
      "Finished copula generating...\n",
      "Finished copula fitting...\n",
      "Gaussian KDE...\n",
      "Finished Gaussian KDE...\n",
      "Generate dependency OK...\n",
      "current noise type: None\n",
      "{'Samples': 10000, 'Features': 39, 'Anomalies': 238, 'Anomalies Ratio(%)': 2.38}\n",
      "Train data shape after filter corrcoef:  (7000, 39)\n",
      "epoch : 1000/5000, loss = 3.982979\n",
      "epoch : 2000/5000, loss = 3.230438\n",
      "epoch : 3000/5000, loss = 2.913061\n",
      "epoch : 4000/5000, loss = 2.944030\n",
      "epoch : 5000/5000, loss = 2.706367\n",
      "(3000,)\n",
      "(3000, 1)\n",
      "Model: Customized, AUC-ROC: 0.9691237215027961, AUC-PR: 0.5350990164929832\n"
     ]
    },
    {
     "name": "stderr",
     "output_type": "stream",
     "text": [
      "794it [18:15:18, 741.69s/it]"
     ]
    },
    {
     "name": "stdout",
     "output_type": "stream",
     "text": [
      "Current experiment parameters: ('8_celeba', 0.0, 2), model: Customized, metrics: {'aucroc': 0.9691237215027961, 'aucpr': 0.5350990164929832}, fitting time: 80.80615186691284, inference time: 0.00705718994140625\n",
      "subsampling for dataset 8_celeba...\n",
      "Generating dependency anomalies...\n",
      "C-Vine...\n",
      "Finished copula generating...\n",
      "Finished copula fitting...\n",
      "Gaussian KDE...\n",
      "Finished Gaussian KDE...\n",
      "Generate dependency OK...\n",
      "current noise type: None\n",
      "{'Samples': 10000, 'Features': 39, 'Anomalies': 216, 'Anomalies Ratio(%)': 2.16}\n",
      "Train data shape after filter corrcoef:  (7000, 39)\n",
      "epoch : 1000/5000, loss = 4.374069\n",
      "epoch : 2000/5000, loss = 3.593227\n",
      "epoch : 3000/5000, loss = 3.225921\n",
      "epoch : 4000/5000, loss = 3.084741\n",
      "epoch : 5000/5000, loss = 2.940043\n",
      "(3000,)\n",
      "(3000, 1)\n",
      "Model: Customized, AUC-ROC: 0.9636377932118988, AUC-PR: 0.4059278905639777\n"
     ]
    },
    {
     "name": "stderr",
     "output_type": "stream",
     "text": [
      "795it [21:17:27, 1277.99s/it]"
     ]
    },
    {
     "name": "stdout",
     "output_type": "stream",
     "text": [
      "Current experiment parameters: ('8_celeba', 0.0, 3), model: Customized, metrics: {'aucroc': 0.9636377932118988, 'aucpr': 0.4059278905639777}, fitting time: 84.18321704864502, inference time: 0.007485151290893555\n",
      "subsampling for dataset 33_skin...\n",
      "Generating dependency anomalies...\n",
      "C-Vine...\n",
      "Finished copula generating...\n",
      "Finished copula fitting...\n",
      "Gaussian KDE...\n",
      "Finished Gaussian KDE...\n",
      "Generate dependency OK...\n",
      "current noise type: None\n",
      "{'Samples': 10000, 'Features': 3, 'Anomalies': 2081, 'Anomalies Ratio(%)': 20.81}\n",
      "Train data shape after filter corrcoef:  (7000, 3)\n",
      "epoch : 1000/5000, loss = 1.141916\n",
      "epoch : 2000/5000, loss = 1.115204\n",
      "epoch : 3000/5000, loss = 1.316708\n",
      "epoch : 4000/5000, loss = 1.240840\n",
      "epoch : 5000/5000, loss = 0.943243\n",
      "(3000,)\n",
      "(3000, 1)\n",
      "Model: Customized, AUC-ROC: 0.5610653813778814, AUC-PR: 0.2525271180184899\n"
     ]
    },
    {
     "name": "stderr",
     "output_type": "stream",
     "text": [
      "817it [21:25:12, 494.61s/it] "
     ]
    },
    {
     "name": "stdout",
     "output_type": "stream",
     "text": [
      "Current experiment parameters: ('33_skin', 0.0, 1), model: Customized, metrics: {'aucroc': 0.5610653813778814, 'aucpr': 0.2525271180184899}, fitting time: 77.67866587638855, inference time: 0.0029449462890625\n",
      "subsampling for dataset 33_skin...\n",
      "Generating dependency anomalies...\n",
      "C-Vine...\n",
      "Finished copula generating...\n"
     ]
    },
    {
     "name": "stderr",
     "output_type": "stream",
     "text": [
      "818it [21:25:16, 475.53s/it]"
     ]
    },
    {
     "name": "stdout",
     "output_type": "stream",
     "text": [
      "Error when generating data: Marginal value out of bounds.\n",
      "subsampling for dataset 33_skin...\n",
      "Generating dependency anomalies...\n",
      "C-Vine...\n",
      "Finished copula generating...\n",
      "Finished copula fitting...\n",
      "Gaussian KDE...\n",
      "Finished Gaussian KDE...\n",
      "Generate dependency OK...\n",
      "current noise type: None\n",
      "{'Samples': 10000, 'Features': 3, 'Anomalies': 2066, 'Anomalies Ratio(%)': 20.66}\n",
      "Train data shape after filter corrcoef:  (7000, 3)\n",
      "epoch : 1000/5000, loss = 1.331856\n",
      "epoch : 2000/5000, loss = 0.983592\n",
      "epoch : 3000/5000, loss = 1.344905\n",
      "epoch : 4000/5000, loss = 0.884117\n",
      "epoch : 5000/5000, loss = 1.116860\n",
      "(3000,)\n",
      "(3000, 1)\n",
      "Model: Customized, AUC-ROC: 0.5772072377338032, AUC-PR: 0.2677818272023421\n"
     ]
    },
    {
     "name": "stderr",
     "output_type": "stream",
     "text": [
      "819it [21:33:00, 474.91s/it]"
     ]
    },
    {
     "name": "stdout",
     "output_type": "stream",
     "text": [
      "Current experiment parameters: ('33_skin', 0.0, 3), model: Customized, metrics: {'aucroc': 0.5772072377338032, 'aucpr': 0.2677818272023421}, fitting time: 75.91660380363464, inference time: 0.006292104721069336\n",
      "subsampling for dataset 34_smtp...\n",
      "Generating dependency anomalies...\n",
      "C-Vine...\n",
      "Finished copula generating...\n",
      "Finished copula fitting...\n",
      "Gaussian KDE...\n",
      "Finished Gaussian KDE...\n",
      "Generate dependency OK...\n",
      "current noise type: None\n",
      "{'Samples': 10000, 'Features': 3, 'Anomalies': 4, 'Anomalies Ratio(%)': 0.04}\n",
      "Train data shape after filter corrcoef:  (7000, 3)\n",
      "epoch : 1000/5000, loss = 1.064927\n",
      "epoch : 2000/5000, loss = 0.863543\n",
      "epoch : 3000/5000, loss = 0.764465\n",
      "epoch : 4000/5000, loss = 0.801895\n",
      "epoch : 5000/5000, loss = 0.888711\n",
      "(3000,)\n",
      "(3000, 1)\n",
      "Model: Customized, AUC-ROC: 0.07702567522507497, AUC-PR: 0.00036114120621162876\n"
     ]
    },
    {
     "name": "stderr",
     "output_type": "stream",
     "text": [
      "841it [21:45:09, 199.55s/it]"
     ]
    },
    {
     "name": "stdout",
     "output_type": "stream",
     "text": [
      "Current experiment parameters: ('34_smtp', 0.0, 1), model: Customized, metrics: {'aucroc': 0.07702567522507497, 'aucpr': 0.00036114120621162876}, fitting time: 75.28619694709778, inference time: 0.0028769969940185547\n",
      "subsampling for dataset 34_smtp...\n",
      "Generating dependency anomalies...\n",
      "C-Vine...\n",
      "Finished copula generating...\n",
      "Finished copula fitting...\n",
      "Gaussian KDE...\n",
      "Finished Gaussian KDE...\n",
      "Generate dependency OK...\n",
      "current noise type: None\n",
      "{'Samples': 10000, 'Features': 3, 'Anomalies': 4, 'Anomalies Ratio(%)': 0.04}\n",
      "Train data shape after filter corrcoef:  (7000, 3)\n",
      "epoch : 1000/5000, loss = 1.065333\n",
      "epoch : 2000/5000, loss = 0.841623\n",
      "epoch : 3000/5000, loss = 0.854616\n",
      "epoch : 4000/5000, loss = 0.775388\n",
      "epoch : 5000/5000, loss = 0.826872\n",
      "(3000,)\n",
      "(3000, 1)\n",
      "Model: Customized, AUC-ROC: 0.6235411803934645, AUC-PR: 0.0008849557522123894\n"
     ]
    },
    {
     "name": "stderr",
     "output_type": "stream",
     "text": [
      "842it [21:57:33, 220.75s/it]"
     ]
    },
    {
     "name": "stdout",
     "output_type": "stream",
     "text": [
      "Current experiment parameters: ('34_smtp', 0.0, 2), model: Customized, metrics: {'aucroc': 0.6235411803934645, 'aucpr': 0.0008849557522123894}, fitting time: 77.65156579017639, inference time: 0.007925033569335938\n",
      "subsampling for dataset 34_smtp...\n",
      "Generating dependency anomalies...\n",
      "C-Vine...\n",
      "Finished copula generating...\n",
      "Finished copula fitting...\n",
      "Gaussian KDE...\n",
      "Finished Gaussian KDE...\n",
      "Generate dependency OK...\n",
      "current noise type: None\n",
      "{'Samples': 10000, 'Features': 3, 'Anomalies': 5, 'Anomalies Ratio(%)': 0.05}\n",
      "Train data shape after filter corrcoef:  (7000, 3)\n",
      "epoch : 1000/5000, loss = 0.870998\n",
      "epoch : 2000/5000, loss = 0.818766\n",
      "epoch : 3000/5000, loss = 0.703240\n",
      "epoch : 4000/5000, loss = 0.702129\n",
      "epoch : 5000/5000, loss = 1.364448\n",
      "(3000,)\n",
      "(3000, 1)\n",
      "Model: Customized, AUC-ROC: 0.055537024683122105, AUC-PR: 0.000525380857485393\n"
     ]
    },
    {
     "name": "stderr",
     "output_type": "stream",
     "text": [
      "843it [22:10:00, 248.41s/it]"
     ]
    },
    {
     "name": "stdout",
     "output_type": "stream",
     "text": [
      "Current experiment parameters: ('34_smtp', 0.0, 3), model: Customized, metrics: {'aucroc': 0.055537024683122105, 'aucpr': 0.000525380857485393}, fitting time: 76.9605393409729, inference time: 0.002835988998413086\n",
      "subsampling for dataset 1_ALOI...\n",
      "Generating dependency anomalies...\n",
      "C-Vine...\n",
      "Finished copula generating...\n",
      "Finished copula fitting...\n"
     ]
    },
    {
     "name": "stderr",
     "output_type": "stream",
     "text": [
      "865it [22:14:23, 101.06s/it]"
     ]
    },
    {
     "name": "stdout",
     "output_type": "stream",
     "text": [
      "Error when generating data: f(a) and f(b) must have different signs\n",
      "subsampling for dataset 1_ALOI...\n",
      "Generating dependency anomalies...\n",
      "C-Vine...\n",
      "Finished copula generating...\n",
      "Finished copula fitting...\n"
     ]
    },
    {
     "name": "stderr",
     "output_type": "stream",
     "text": [
      "866it [22:26:55, 126.35s/it]"
     ]
    },
    {
     "name": "stdout",
     "output_type": "stream",
     "text": [
      "Error when generating data: f(a) and f(b) must have different signs\n",
      "subsampling for dataset 1_ALOI...\n",
      "Generating dependency anomalies...\n",
      "C-Vine...\n",
      "Finished copula generating...\n",
      "Finished copula fitting...\n"
     ]
    },
    {
     "name": "stderr",
     "output_type": "stream",
     "text": [
      "867it [23:47:56, 375.63s/it]"
     ]
    },
    {
     "name": "stdout",
     "output_type": "stream",
     "text": [
      "Error when generating data: f(a) and f(b) must have different signs\n",
      "subsampling for dataset 11_donors...\n",
      "Generating dependency anomalies...\n",
      "C-Vine...\n",
      "Finished copula generating...\n",
      "Finished copula fitting...\n",
      "Gaussian KDE...\n",
      "Finished Gaussian KDE...\n",
      "Generate dependency OK...\n",
      "current noise type: None\n",
      "{'Samples': 10000, 'Features': 10, 'Anomalies': 618, 'Anomalies Ratio(%)': 6.18}\n",
      "Train data shape after filter corrcoef:  (7000, 10)\n",
      "epoch : 1000/5000, loss = 0.740983\n",
      "epoch : 2000/5000, loss = 0.591226\n",
      "epoch : 3000/5000, loss = 0.559073\n",
      "epoch : 4000/5000, loss = 0.517511\n",
      "epoch : 5000/5000, loss = 0.484431\n",
      "(3000,)\n",
      "(3000, 1)\n",
      "Model: Customized, AUC-ROC: 0.8589947674139503, AUC-PR: 0.3129978748543957\n"
     ]
    },
    {
     "name": "stderr",
     "output_type": "stream",
     "text": [
      "889it [24:25:27, 205.26s/it]"
     ]
    },
    {
     "name": "stdout",
     "output_type": "stream",
     "text": [
      "Current experiment parameters: ('11_donors', 0.0, 1), model: Customized, metrics: {'aucroc': 0.8589947674139503, 'aucpr': 0.3129978748543957}, fitting time: 79.27309894561768, inference time: 0.006706953048706055\n",
      "subsampling for dataset 11_donors...\n",
      "Generating dependency anomalies...\n",
      "C-Vine...\n",
      "Finished copula generating...\n"
     ]
    },
    {
     "name": "stderr",
     "output_type": "stream",
     "text": [
      "890it [24:25:41, 197.85s/it]"
     ]
    },
    {
     "name": "stdout",
     "output_type": "stream",
     "text": [
      "Error when generating data: Marginal value out of bounds.\n",
      "subsampling for dataset 11_donors...\n",
      "Generating dependency anomalies...\n",
      "C-Vine...\n",
      "Finished copula generating...\n",
      "Finished copula fitting...\n",
      "Gaussian KDE...\n",
      "Finished Gaussian KDE...\n",
      "Generate dependency OK...\n",
      "current noise type: None\n",
      "{'Samples': 10000, 'Features': 10, 'Anomalies': 597, 'Anomalies Ratio(%)': 5.97}\n",
      "Train data shape after filter corrcoef:  (7000, 10)\n",
      "epoch : 1000/5000, loss = 0.866773\n",
      "epoch : 2000/5000, loss = 0.642730\n",
      "epoch : 3000/5000, loss = 0.664641\n",
      "epoch : 4000/5000, loss = 0.528359\n",
      "epoch : 5000/5000, loss = 0.489560\n",
      "(3000,)\n",
      "(3000, 1)\n",
      "Model: Customized, AUC-ROC: 0.8684309023108806, AUC-PR: 0.3222446729043838\n"
     ]
    },
    {
     "name": "stderr",
     "output_type": "stream",
     "text": [
      "891it [25:03:41, 307.45s/it]"
     ]
    },
    {
     "name": "stdout",
     "output_type": "stream",
     "text": [
      "Current experiment parameters: ('11_donors', 0.0, 3), model: Customized, metrics: {'aucroc': 0.8684309023108806, 'aucpr': 0.3222446729043838}, fitting time: 81.14977693557739, inference time: 0.008123159408569336\n",
      "subsampling for dataset 16_http...\n",
      "Generating dependency anomalies...\n",
      "C-Vine...\n",
      "Finished copula generating...\n",
      "Finished copula fitting...\n",
      "Gaussian KDE...\n",
      "Finished Gaussian KDE...\n",
      "Generate dependency OK...\n",
      "current noise type: None\n",
      "{'Samples': 10000, 'Features': 3, 'Anomalies': 46, 'Anomalies Ratio(%)': 0.46}\n",
      "Train data shape after filter corrcoef:  (7000, 3)\n",
      "epoch : 1000/5000, loss = 0.960547\n",
      "epoch : 2000/5000, loss = 1.003557\n",
      "epoch : 3000/5000, loss = 0.878515\n",
      "epoch : 4000/5000, loss = 0.953623\n",
      "epoch : 5000/5000, loss = 0.821444\n",
      "(3000,)\n",
      "(3000, 1)\n",
      "Model: Customized, AUC-ROC: 0.5331068797244282, AUC-PR: 0.008562479562386625\n"
     ]
    },
    {
     "name": "stderr",
     "output_type": "stream",
     "text": [
      "913it [25:15:06, 135.23s/it]"
     ]
    },
    {
     "name": "stdout",
     "output_type": "stream",
     "text": [
      "Current experiment parameters: ('16_http', 0.0, 1), model: Customized, metrics: {'aucroc': 0.5331068797244282, 'aucpr': 0.008562479562386625}, fitting time: 77.58815908432007, inference time: 0.006086111068725586\n",
      "subsampling for dataset 16_http...\n",
      "Generating dependency anomalies...\n",
      "C-Vine...\n",
      "Finished copula generating...\n",
      "Finished copula fitting...\n",
      "Gaussian KDE...\n",
      "Finished Gaussian KDE...\n",
      "Generate dependency OK...\n",
      "current noise type: None\n",
      "{'Samples': 10000, 'Features': 3, 'Anomalies': 35, 'Anomalies Ratio(%)': 0.35}\n",
      "Train data shape after filter corrcoef:  (7000, 3)\n",
      "epoch : 1000/5000, loss = 0.736638\n",
      "epoch : 2000/5000, loss = 0.765965\n",
      "epoch : 3000/5000, loss = 0.896203\n",
      "epoch : 4000/5000, loss = 0.736080\n",
      "epoch : 5000/5000, loss = 0.643073\n",
      "(3000,)\n",
      "(3000, 1)\n",
      "Model: Customized, AUC-ROC: 0.3781605351170569, AUC-PR: 0.0028217980804843383\n"
     ]
    },
    {
     "name": "stderr",
     "output_type": "stream",
     "text": [
      "914it [25:26:29, 156.52s/it]"
     ]
    },
    {
     "name": "stdout",
     "output_type": "stream",
     "text": [
      "Current experiment parameters: ('16_http', 0.0, 2), model: Customized, metrics: {'aucroc': 0.3781605351170569, 'aucpr': 0.0028217980804843383}, fitting time: 78.0159502029419, inference time: 0.0026140213012695312\n",
      "subsampling for dataset 16_http...\n",
      "Generating dependency anomalies...\n",
      "C-Vine...\n",
      "Finished copula generating...\n",
      "Finished copula fitting...\n",
      "Gaussian KDE...\n",
      "Finished Gaussian KDE...\n",
      "Generate dependency OK...\n",
      "current noise type: None\n",
      "{'Samples': 10000, 'Features': 3, 'Anomalies': 34, 'Anomalies Ratio(%)': 0.34}\n",
      "Train data shape after filter corrcoef:  (7000, 3)\n",
      "epoch : 1000/5000, loss = 0.874802\n",
      "epoch : 2000/5000, loss = 0.725388\n",
      "epoch : 3000/5000, loss = 146.892027\n",
      "epoch : 4000/5000, loss = 0.619688\n",
      "epoch : 5000/5000, loss = 1.186340\n",
      "(3000,)\n",
      "(3000, 1)\n",
      "Model: Customized, AUC-ROC: 0.6485284280936454, AUC-PR: 0.015067823460378351\n"
     ]
    },
    {
     "name": "stderr",
     "output_type": "stream",
     "text": [
      "915it [25:37:53, 184.31s/it]"
     ]
    },
    {
     "name": "stdout",
     "output_type": "stream",
     "text": [
      "Current experiment parameters: ('16_http', 0.0, 3), model: Customized, metrics: {'aucroc': 0.6485284280936454, 'aucpr': 0.015067823460378351}, fitting time: 77.0996458530426, inference time: 0.0064051151275634766\n",
      "subsampling for dataset 22_magic.gamma...\n",
      "Generating dependency anomalies...\n",
      "C-Vine...\n",
      "Finished copula generating...\n",
      "Finished copula fitting...\n",
      "Gaussian KDE...\n",
      "Finished Gaussian KDE...\n",
      "Generate dependency OK...\n",
      "current noise type: None\n",
      "{'Samples': 10000, 'Features': 10, 'Anomalies': 3548, 'Anomalies Ratio(%)': 35.48}\n",
      "Train data shape after filter corrcoef:  (7000, 10)\n",
      "epoch : 1000/5000, loss = 1.491251\n",
      "epoch : 2000/5000, loss = 1.253674\n",
      "epoch : 3000/5000, loss = 1.116231\n",
      "epoch : 4000/5000, loss = 1.087528\n",
      "epoch : 5000/5000, loss = 1.041752\n",
      "(3000,)\n",
      "(3000, 1)\n",
      "Model: Customized, AUC-ROC: 0.9267092058659046, AUC-PR: 0.8686788751499749\n"
     ]
    },
    {
     "name": "stderr",
     "output_type": "stream",
     "text": [
      "937it [25:51:56, 93.30s/it] "
     ]
    },
    {
     "name": "stdout",
     "output_type": "stream",
     "text": [
      "Current experiment parameters: ('22_magic.gamma', 0.0, 1), model: Customized, metrics: {'aucroc': 0.9267092058659046, 'aucpr': 0.8686788751499749}, fitting time: 79.60368323326111, inference time: 0.0030498504638671875\n",
      "subsampling for dataset 22_magic.gamma...\n",
      "Generating dependency anomalies...\n",
      "C-Vine...\n",
      "Finished copula generating...\n",
      "Finished copula fitting...\n",
      "Gaussian KDE...\n",
      "Finished Gaussian KDE...\n",
      "Generate dependency OK...\n",
      "current noise type: None\n",
      "{'Samples': 10000, 'Features': 10, 'Anomalies': 3533, 'Anomalies Ratio(%)': 35.33}\n",
      "Train data shape after filter corrcoef:  (7000, 10)\n",
      "epoch : 1000/5000, loss = 1.465933\n",
      "epoch : 2000/5000, loss = 1.206525\n",
      "epoch : 3000/5000, loss = 1.118415\n",
      "epoch : 4000/5000, loss = 1.068282\n",
      "epoch : 5000/5000, loss = 1.027109\n",
      "(3000,)\n",
      "(3000, 1)\n",
      "Model: Customized, AUC-ROC: 0.9464729624586656, AUC-PR: 0.8935692467843236\n"
     ]
    },
    {
     "name": "stderr",
     "output_type": "stream",
     "text": [
      "938it [26:06:04, 122.67s/it]"
     ]
    },
    {
     "name": "stdout",
     "output_type": "stream",
     "text": [
      "Current experiment parameters: ('22_magic.gamma', 0.0, 2), model: Customized, metrics: {'aucroc': 0.9464729624586656, 'aucpr': 0.8935692467843236}, fitting time: 80.81581902503967, inference time: 0.003026247024536133\n",
      "subsampling for dataset 22_magic.gamma...\n",
      "Generating dependency anomalies...\n",
      "C-Vine...\n",
      "Finished copula generating...\n",
      "Finished copula fitting...\n",
      "Gaussian KDE...\n",
      "Finished Gaussian KDE...\n",
      "Generate dependency OK...\n",
      "current noise type: None\n",
      "{'Samples': 10000, 'Features': 10, 'Anomalies': 3500, 'Anomalies Ratio(%)': 35.0}\n",
      "Train data shape after filter corrcoef:  (7000, 10)\n",
      "epoch : 1000/5000, loss = 1.553506\n",
      "epoch : 2000/5000, loss = 1.234265\n",
      "epoch : 3000/5000, loss = 1.143885\n",
      "epoch : 4000/5000, loss = 1.066412\n",
      "epoch : 5000/5000, loss = 1.023276\n",
      "(3000,)\n",
      "(3000, 1)\n",
      "Model: Customized, AUC-ROC: 0.9295794871794871, AUC-PR: 0.8647160007853745\n"
     ]
    },
    {
     "name": "stderr",
     "output_type": "stream",
     "text": [
      "939it [26:20:16, 161.08s/it]"
     ]
    },
    {
     "name": "stdout",
     "output_type": "stream",
     "text": [
      "Current experiment parameters: ('22_magic.gamma', 0.0, 3), model: Customized, metrics: {'aucroc': 0.9295794871794871, 'aucpr': 0.8647160007853745}, fitting time: 78.76075506210327, inference time: 0.007228851318359375\n",
      "subsampling for dataset 23_mammography...\n",
      "Generating dependency anomalies...\n",
      "C-Vine...\n",
      "Finished copula generating...\n",
      "Finished copula fitting...\n",
      "Gaussian KDE...\n",
      "Finished Gaussian KDE...\n",
      "Generate dependency OK...\n",
      "current noise type: None\n",
      "{'Samples': 10000, 'Features': 6, 'Anomalies': 230, 'Anomalies Ratio(%)': 2.3}\n",
      "Train data shape after filter corrcoef:  (7000, 6)\n",
      "epoch : 1000/5000, loss = 0.558020\n",
      "epoch : 2000/5000, loss = 0.488510\n",
      "epoch : 3000/5000, loss = 0.441305\n",
      "epoch : 4000/5000, loss = 0.340705\n",
      "epoch : 5000/5000, loss = 0.299577\n",
      "(3000,)\n",
      "(3000, 1)\n",
      "Model: Customized, AUC-ROC: 0.9282828732341437, AUC-PR: 0.294228691066397\n"
     ]
    },
    {
     "name": "stderr",
     "output_type": "stream",
     "text": [
      "961it [26:43:46, 100.64s/it]"
     ]
    },
    {
     "name": "stdout",
     "output_type": "stream",
     "text": [
      "Current experiment parameters: ('23_mammography', 0.0, 1), model: Customized, metrics: {'aucroc': 0.9282828732341437, 'aucpr': 0.294228691066397}, fitting time: 82.1975781917572, inference time: 0.006385087966918945\n",
      "subsampling for dataset 23_mammography...\n",
      "Generating dependency anomalies...\n",
      "C-Vine...\n",
      "Finished copula generating...\n",
      "Finished copula fitting...\n",
      "Gaussian KDE...\n",
      "Finished Gaussian KDE...\n",
      "Generate dependency OK...\n",
      "current noise type: None\n",
      "{'Samples': 10000, 'Features': 6, 'Anomalies': 241, 'Anomalies Ratio(%)': 2.41}\n",
      "Train data shape after filter corrcoef:  (7000, 6)\n",
      "epoch : 1000/5000, loss = 0.693585\n",
      "epoch : 2000/5000, loss = 0.477629\n",
      "epoch : 3000/5000, loss = 0.502641\n",
      "epoch : 4000/5000, loss = 0.414514\n",
      "epoch : 5000/5000, loss = 0.404589\n",
      "(3000,)\n",
      "(3000, 1)\n",
      "Model: Customized, AUC-ROC: 0.8987742865816636, AUC-PR: 0.19940290349399659\n"
     ]
    },
    {
     "name": "stderr",
     "output_type": "stream",
     "text": [
      "962it [27:07:14, 151.47s/it]"
     ]
    },
    {
     "name": "stdout",
     "output_type": "stream",
     "text": [
      "Current experiment parameters: ('23_mammography', 0.0, 2), model: Customized, metrics: {'aucroc': 0.8987742865816636, 'aucpr': 0.19940290349399659}, fitting time: 78.6674370765686, inference time: 0.0028328895568847656\n",
      "subsampling for dataset 23_mammography...\n",
      "Generating dependency anomalies...\n",
      "C-Vine...\n",
      "Finished copula generating...\n",
      "Finished copula fitting...\n",
      "Gaussian KDE...\n",
      "Finished Gaussian KDE...\n",
      "Generate dependency OK...\n",
      "current noise type: None\n",
      "{'Samples': 10000, 'Features': 6, 'Anomalies': 227, 'Anomalies Ratio(%)': 2.27}\n",
      "Train data shape after filter corrcoef:  (7000, 6)\n",
      "epoch : 1000/5000, loss = 0.631735\n",
      "epoch : 2000/5000, loss = 0.427706\n",
      "epoch : 3000/5000, loss = 0.365777\n",
      "epoch : 4000/5000, loss = 0.145509\n",
      "epoch : 5000/5000, loss = 0.324442\n",
      "(3000,)\n",
      "(3000, 1)\n",
      "Model: Customized, AUC-ROC: 0.8310378380547307, AUC-PR: 0.07847517877607622\n"
     ]
    },
    {
     "name": "stderr",
     "output_type": "stream",
     "text": [
      "963it [27:30:44, 217.74s/it]"
     ]
    },
    {
     "name": "stdout",
     "output_type": "stream",
     "text": [
      "Current experiment parameters: ('23_mammography', 0.0, 3), model: Customized, metrics: {'aucroc': 0.8310378380547307, 'aucpr': 0.07847517877607622}, fitting time: 80.94002604484558, inference time: 0.006660938262939453\n",
      "subsampling for dataset 10_cover...\n",
      "Generating dependency anomalies...\n",
      "C-Vine...\n",
      "Finished copula generating...\n",
      "Finished copula fitting...\n",
      "Gaussian KDE...\n",
      "Finished Gaussian KDE...\n",
      "Generate dependency OK...\n",
      "current noise type: None\n",
      "{'Samples': 10000, 'Features': 10, 'Anomalies': 97, 'Anomalies Ratio(%)': 0.97}\n",
      "Train data shape after filter corrcoef:  (7000, 10)\n",
      "epoch : 1000/5000, loss = 0.913951\n",
      "epoch : 2000/5000, loss = 0.658436\n",
      "epoch : 3000/5000, loss = 0.554090\n",
      "epoch : 4000/5000, loss = 0.528105\n",
      "epoch : 5000/5000, loss = 0.522878\n",
      "(3000,)\n",
      "(3000, 1)\n",
      "Model: Customized, AUC-ROC: 0.9976090716001811, AUC-PR: 0.7709893849821489\n"
     ]
    },
    {
     "name": "stderr",
     "output_type": "stream",
     "text": [
      "985it [28:06:28, 142.76s/it]"
     ]
    },
    {
     "name": "stdout",
     "output_type": "stream",
     "text": [
      "Current experiment parameters: ('10_cover', 0.0, 1), model: Customized, metrics: {'aucroc': 0.9976090716001811, 'aucpr': 0.7709893849821489}, fitting time: 80.55823802947998, inference time: 0.006818056106567383\n",
      "subsampling for dataset 10_cover...\n",
      "Generating dependency anomalies...\n",
      "C-Vine...\n",
      "Finished copula generating...\n",
      "Finished copula fitting...\n",
      "Gaussian KDE...\n",
      "Finished Gaussian KDE...\n",
      "Generate dependency OK...\n",
      "current noise type: None\n",
      "{'Samples': 10000, 'Features': 10, 'Anomalies': 116, 'Anomalies Ratio(%)': 1.16}\n",
      "Train data shape after filter corrcoef:  (7000, 10)\n",
      "epoch : 1000/5000, loss = 0.820526\n",
      "epoch : 2000/5000, loss = 0.564921\n",
      "epoch : 3000/5000, loss = 0.562362\n",
      "epoch : 4000/5000, loss = 0.559242\n",
      "epoch : 5000/5000, loss = 0.488058\n",
      "(3000,)\n",
      "(3000, 1)\n",
      "Model: Customized, AUC-ROC: 0.9959720549265236, AUC-PR: 0.6860441435908273\n"
     ]
    },
    {
     "name": "stderr",
     "output_type": "stream",
     "text": [
      "986it [28:41:53, 219.85s/it]"
     ]
    },
    {
     "name": "stdout",
     "output_type": "stream",
     "text": [
      "Current experiment parameters: ('10_cover', 0.0, 2), model: Customized, metrics: {'aucroc': 0.9959720549265236, 'aucpr': 0.6860441435908273}, fitting time: 80.95932292938232, inference time: 0.006777048110961914\n",
      "subsampling for dataset 10_cover...\n",
      "Generating dependency anomalies...\n",
      "C-Vine...\n",
      "Finished copula generating...\n",
      "Finished copula fitting...\n",
      "Gaussian KDE...\n",
      "Finished Gaussian KDE...\n",
      "Generate dependency OK...\n",
      "current noise type: None\n",
      "{'Samples': 10000, 'Features': 10, 'Anomalies': 95, 'Anomalies Ratio(%)': 0.95}\n",
      "Train data shape after filter corrcoef:  (7000, 10)\n",
      "epoch : 1000/5000, loss = 0.980980\n",
      "epoch : 2000/5000, loss = 0.653688\n",
      "epoch : 3000/5000, loss = 0.597681\n",
      "epoch : 4000/5000, loss = 0.515725\n",
      "epoch : 5000/5000, loss = 0.527315\n",
      "(3000,)\n",
      "(3000, 1)\n",
      "Model: Customized, AUC-ROC: 0.9853642683875161, AUC-PR: 0.35714840894379973\n"
     ]
    },
    {
     "name": "stderr",
     "output_type": "stream",
     "text": [
      "987it [29:17:38, 321.20s/it]"
     ]
    },
    {
     "name": "stdout",
     "output_type": "stream",
     "text": [
      "Current experiment parameters: ('10_cover', 0.0, 3), model: Customized, metrics: {'aucroc': 0.9853642683875161, 'aucpr': 0.35714840894379973}, fitting time: 80.50282025337219, inference time: 0.007203817367553711\n",
      "subsampling for dataset 13_fraud...\n",
      "Generating dependency anomalies...\n",
      "C-Vine...\n",
      "Finished copula generating...\n",
      "Finished copula fitting...\n",
      "Gaussian KDE...\n",
      "Finished Gaussian KDE...\n",
      "Generate dependency OK...\n",
      "current noise type: None\n",
      "{'Samples': 10000, 'Features': 29, 'Anomalies': 15, 'Anomalies Ratio(%)': 0.15}\n",
      "Train data shape after filter corrcoef:  (7000, 29)\n",
      "epoch : 1000/5000, loss = 3.785938\n",
      "epoch : 2000/5000, loss = 3.370025\n",
      "epoch : 3000/5000, loss = 2.659903\n",
      "epoch : 4000/5000, loss = 2.315043\n",
      "epoch : 5000/5000, loss = 2.036443\n",
      "(3000,)\n",
      "(3000, 1)\n",
      "Model: Customized, AUC-ROC: 0.9922537562604341, AUC-PR: 0.11145535648377605\n"
     ]
    },
    {
     "name": "stderr",
     "output_type": "stream",
     "text": [
      "1009it [30:47:25, 273.62s/it]"
     ]
    },
    {
     "name": "stdout",
     "output_type": "stream",
     "text": [
      "Current experiment parameters: ('13_fraud', 0.0, 1), model: Customized, metrics: {'aucroc': 0.9922537562604341, 'aucpr': 0.11145535648377605}, fitting time: 85.87056112289429, inference time: 0.007019758224487305\n",
      "subsampling for dataset 13_fraud...\n",
      "Generating dependency anomalies...\n",
      "C-Vine...\n",
      "Finished copula generating...\n",
      "Finished copula fitting...\n",
      "Gaussian KDE...\n",
      "Finished Gaussian KDE...\n",
      "Generate dependency OK...\n",
      "current noise type: None\n",
      "{'Samples': 10000, 'Features': 29, 'Anomalies': 15, 'Anomalies Ratio(%)': 0.15}\n",
      "Train data shape after filter corrcoef:  (7000, 29)\n",
      "epoch : 1000/5000, loss = 4.233384\n",
      "epoch : 2000/5000, loss = 3.418275\n",
      "epoch : 3000/5000, loss = 3.067151\n",
      "epoch : 4000/5000, loss = 2.696192\n",
      "epoch : 5000/5000, loss = 2.540075\n",
      "(3000,)\n",
      "(3000, 1)\n",
      "Model: Customized, AUC-ROC: 0.978220961281709, AUC-PR: 0.03527048571805605\n"
     ]
    },
    {
     "name": "stderr",
     "output_type": "stream",
     "text": [
      "1010it [32:16:19, 470.48s/it]"
     ]
    },
    {
     "name": "stdout",
     "output_type": "stream",
     "text": [
      "Current experiment parameters: ('13_fraud', 0.0, 2), model: Customized, metrics: {'aucroc': 0.978220961281709, 'aucpr': 0.03527048571805605}, fitting time: 82.70207285881042, inference time: 0.0063550472259521484\n",
      "subsampling for dataset 13_fraud...\n",
      "Generating dependency anomalies...\n",
      "C-Vine...\n",
      "Finished copula generating...\n",
      "Finished copula fitting...\n",
      "Gaussian KDE...\n",
      "Finished Gaussian KDE...\n",
      "Generate dependency OK...\n",
      "current noise type: None\n",
      "{'Samples': 10000, 'Features': 29, 'Anomalies': 13, 'Anomalies Ratio(%)': 0.13}\n",
      "Train data shape after filter corrcoef:  (7000, 29)\n",
      "epoch : 1000/5000, loss = 3.885218\n",
      "epoch : 2000/5000, loss = 3.307876\n",
      "epoch : 3000/5000, loss = 2.990101\n",
      "epoch : 4000/5000, loss = 2.695596\n",
      "epoch : 5000/5000, loss = 2.493180\n",
      "(3000,)\n",
      "(3000, 1)\n",
      "Model: Customized, AUC-ROC: 0.9957443257676902, AUC-PR: 0.23125\n"
     ]
    },
    {
     "name": "stderr",
     "output_type": "stream",
     "text": [
      "1011it [33:45:40, 727.92s/it]"
     ]
    },
    {
     "name": "stdout",
     "output_type": "stream",
     "text": [
      "Current experiment parameters: ('13_fraud', 0.0, 3), model: Customized, metrics: {'aucroc': 0.9957443257676902, 'aucpr': 0.23125}, fitting time: 85.08951902389526, inference time: 0.007353067398071289\n",
      "subsampling for dataset 3_backdoor...\n",
      "Generating dependency anomalies...\n",
      "C-Vine...\n",
      "Finished copula generating...\n"
     ]
    },
    {
     "name": "stderr",
     "output_type": "stream",
     "text": [
      "1033it [33:45:59, 274.76s/it]"
     ]
    },
    {
     "name": "stdout",
     "output_type": "stream",
     "text": [
      "Error when generating data: Constant column.\n",
      "subsampling for dataset 3_backdoor...\n",
      "Generating dependency anomalies...\n",
      "C-Vine...\n",
      "Finished copula generating...\n"
     ]
    },
    {
     "name": "stderr",
     "output_type": "stream",
     "text": [
      "1034it [33:46:11, 264.54s/it]"
     ]
    },
    {
     "name": "stdout",
     "output_type": "stream",
     "text": [
      "Error when generating data: Constant column.\n",
      "subsampling for dataset 3_backdoor...\n",
      "Generating dependency anomalies...\n",
      "C-Vine...\n",
      "Finished copula generating...\n"
     ]
    },
    {
     "name": "stderr",
     "output_type": "stream",
     "text": [
      "1035it [33:46:27, 251.47s/it]"
     ]
    },
    {
     "name": "stdout",
     "output_type": "stream",
     "text": [
      "Error when generating data: Constant column.\n",
      "subsampling for dataset 32_shuttle...\n",
      "Generating dependency anomalies...\n",
      "C-Vine...\n",
      "Finished copula generating...\n",
      "Finished copula fitting...\n",
      "Gaussian KDE...\n",
      "Finished Gaussian KDE...\n",
      "Generate dependency OK...\n",
      "current noise type: None\n",
      "{'Samples': 10000, 'Features': 9, 'Anomalies': 669, 'Anomalies Ratio(%)': 6.69}\n",
      "Train data shape after filter corrcoef:  (7000, 9)\n",
      "epoch : 1000/5000, loss = 1.381278\n",
      "epoch : 2000/5000, loss = 1.153275\n",
      "epoch : 3000/5000, loss = 0.909517\n",
      "epoch : 4000/5000, loss = 1.110464\n",
      "epoch : 5000/5000, loss = 0.942505\n",
      "(3000,)\n",
      "(3000, 1)\n",
      "Model: Customized, AUC-ROC: 0.9383397410944563, AUC-PR: 0.5905885752904272\n"
     ]
    },
    {
     "name": "stderr",
     "output_type": "stream",
     "text": [
      "1057it [34:28:40, 166.51s/it]"
     ]
    },
    {
     "name": "stdout",
     "output_type": "stream",
     "text": [
      "Current experiment parameters: ('32_shuttle', 0.0, 1), model: Customized, metrics: {'aucroc': 0.9383397410944563, 'aucpr': 0.5905885752904272}, fitting time: 75.31502985954285, inference time: 0.005546092987060547\n",
      "subsampling for dataset 32_shuttle...\n",
      "Generating dependency anomalies...\n",
      "C-Vine...\n",
      "Finished copula generating...\n"
     ]
    },
    {
     "name": "stderr",
     "output_type": "stream",
     "text": [
      "1058it [34:28:56, 160.64s/it]"
     ]
    },
    {
     "name": "stdout",
     "output_type": "stream",
     "text": [
      "Error when generating data: Marginal value out of bounds.\n",
      "subsampling for dataset 32_shuttle...\n",
      "Generating dependency anomalies...\n",
      "C-Vine...\n",
      "Finished copula generating...\n"
     ]
    },
    {
     "name": "stderr",
     "output_type": "stream",
     "text": [
      "1059it [34:29:11, 152.97s/it]"
     ]
    },
    {
     "name": "stdout",
     "output_type": "stream",
     "text": [
      "Error when generating data: Marginal value out of bounds.\n",
      "subsampling for dataset 9_census...\n",
      "Generating dependency anomalies...\n",
      "C-Vine...\n",
      "Finished copula generating...\n"
     ]
    },
    {
     "name": "stderr",
     "output_type": "stream",
     "text": [
      "1081it [34:29:52, 58.80s/it] "
     ]
    },
    {
     "name": "stdout",
     "output_type": "stream",
     "text": [
      "Error when generating data: Constant column.\n",
      "subsampling for dataset 9_census...\n",
      "Generating dependency anomalies...\n",
      "C-Vine...\n",
      "Finished copula generating...\n",
      "Finished copula fitting...\n",
      "Gaussian KDE...\n",
      "Finished Gaussian KDE...\n",
      "Generate dependency OK...\n",
      "current noise type: None\n",
      "{'Samples': 10000, 'Features': 50, 'Anomalies': 628, 'Anomalies Ratio(%)': 6.28}\n",
      "Train data shape after filter corrcoef:  (7000, 50)\n",
      "epoch : 1000/5000, loss = 8.265797\n",
      "epoch : 2000/5000, loss = 7.892219\n",
      "epoch : 3000/5000, loss = 6.712748\n",
      "epoch : 4000/5000, loss = 4.728445\n",
      "epoch : 5000/5000, loss = 5.029681\n",
      "(3000,)\n",
      "(3000, 1)\n",
      "Model: Customized, AUC-ROC: 0.9754396053388215, AUC-PR: 0.5759976837286394\n"
     ]
    },
    {
     "name": "stderr",
     "output_type": "stream",
     "text": [
      "1082it [37:20:54, 455.69s/it]"
     ]
    },
    {
     "name": "stdout",
     "output_type": "stream",
     "text": [
      "Current experiment parameters: ('9_census', 0.0, 2), model: Customized, metrics: {'aucroc': 0.9754396053388215, 'aucpr': 0.5759976837286394}, fitting time: 100.0499918460846, inference time: 0.007899999618530273\n",
      "subsampling for dataset 9_census...\n",
      "Generating dependency anomalies...\n",
      "C-Vine...\n",
      "Finished copula generating...\n"
     ]
    },
    {
     "name": "stderr",
     "output_type": "stream",
     "text": [
      "1083it [37:21:33, 433.74s/it]"
     ]
    },
    {
     "name": "stdout",
     "output_type": "stream",
     "text": [
      "Error when generating data: Constant column.\n",
      "subsampling for dataset 5_campaign...\n",
      "Generating dependency anomalies...\n",
      "C-Vine...\n",
      "Finished copula generating...\n",
      "Finished copula fitting...\n"
     ]
    }
   ],
   "source": [
    "#customized = SimpleAE()\n",
    "results = pipeline.run(clf=SimpleAE)"
   ]
  },
  {
   "cell_type": "code",
   "execution_count": null,
   "metadata": {},
   "outputs": [],
   "source": [
    "from adbench.baseline.FEAWAD.run import FEAWAD\n",
    "from adbench.baseline.DeepSAD.src.run import DeepSAD\n",
    "from adbench.baseline.PyOD import KNN\n",
    "results = pipeline.run()"
   ]
  },
  {
   "cell_type": "markdown",
   "metadata": {},
   "source": [
    "## Run your customized algorithm on customized dataset"
   ]
  },
  {
   "cell_type": "code",
   "execution_count": null,
   "metadata": {},
   "outputs": [],
   "source": [
    "# customized model on customized dataset\n",
    "import numpy as np\n",
    "dataset = {}\n",
    "dataset['X'] = np.random.randn(1000, 20)\n",
    "dataset['y'] = np.random.choice([0, 1], 1000)\n",
    "results = pipeline.run(dataset=dataset, clf=SimpleAE)"
   ]
  },
  {
   "cell_type": "markdown",
   "metadata": {},
   "source": [
    "# Import AD algorithms from ADBench"
   ]
  },
  {
   "cell_type": "code",
   "execution_count": 59,
   "metadata": {},
   "outputs": [
    {
     "name": "stdout",
     "output_type": "stream",
     "text": [
      "fit transform: X shape before:  (1000, 4)\n",
      "[[0. 1. 1. 1.]\n",
      " [1. 0. 1. 1.]\n",
      " [1. 1. 0. 1.]\n",
      " [1. 1. 1. 0.]]\n",
      "Train data shape after filter corrcoef:  (1000, 1)\n",
      "epoch : 1000/3000, loss = 1.000339\n",
      "epoch : 2000/3000, loss = 1.000902\n",
      "epoch : 3000/3000, loss = 1.001148\n",
      "(100, 1)\n"
     ]
    },
    {
     "data": {
      "text/plain": [
       "' from adbench.baseline.PReNet.run import PReNet\\nmodel = PReNet(seed=42)\\nmodel.fit(X_train, y_train)  # fit\\nscore = model.predict_score(X_test)  # predict '"
      ]
     },
     "execution_count": 59,
     "metadata": {},
     "output_type": "execute_result"
    }
   ],
   "source": [
    "import numpy as np\n",
    "X_train = np.random.randn(1000, 1)\n",
    "X_train = np.concatenate((X_train, X_train, X_train, X_train), axis=-1)\n",
    "y_train = np.random.choice([0, 1], 1000)\n",
    "X_test = np.random.randn(100, 4)\n",
    "y_test = np.random.choice([0, 1], 100)\n",
    "\n",
    "# Directly import AD algorithms from the existing toolkits like PyOD\n",
    "#from adbench.baseline.PyOD import PYOD\n",
    "#model = PYOD(seed=42, model_name='XGBOD')  # initialization\n",
    "model = SimpleAE(seed=42)\n",
    "model.fit(X_train, y_train)  # fit\n",
    "score = model.predict_score(X_test)  # predict\n",
    "print(score.shape)\n",
    "\n",
    "# Import deep learning AD algorithms from our ADBench\n",
    "\"\"\" from adbench.baseline.PReNet.run import PReNet\n",
    "model = PReNet(seed=42)\n",
    "model.fit(X_train, y_train)  # fit\n",
    "score = model.predict_score(X_test)  # predict \"\"\""
   ]
  }
 ],
 "metadata": {
  "kernelspec": {
   "display_name": "Python 3",
   "language": "python",
   "name": "python3"
  },
  "language_info": {
   "codemirror_mode": {
    "name": "ipython",
    "version": 3
   },
   "file_extension": ".py",
   "mimetype": "text/x-python",
   "name": "python",
   "nbconvert_exporter": "python",
   "pygments_lexer": "ipython3",
   "version": "3.10.13"
  },
  "toc": {
   "base_numbering": 1,
   "nav_menu": {},
   "number_sections": true,
   "sideBar": true,
   "skip_h1_title": false,
   "title_cell": "Table of Contents",
   "title_sidebar": "Contents",
   "toc_cell": false,
   "toc_position": {},
   "toc_section_display": true,
   "toc_window_display": false
  },
  "varInspector": {
   "cols": {
    "lenName": 16,
    "lenType": 16,
    "lenVar": 40
   },
   "kernels_config": {
    "python": {
     "delete_cmd_postfix": "",
     "delete_cmd_prefix": "del ",
     "library": "var_list.py",
     "varRefreshCmd": "print(var_dic_list())"
    },
    "r": {
     "delete_cmd_postfix": ") ",
     "delete_cmd_prefix": "rm(",
     "library": "var_list.r",
     "varRefreshCmd": "cat(var_dic_list()) "
    }
   },
   "types_to_exclude": [
    "module",
    "function",
    "builtin_function_or_method",
    "instance",
    "_Feature"
   ],
   "window_display": false
  }
 },
 "nbformat": 4,
 "nbformat_minor": 4
}
