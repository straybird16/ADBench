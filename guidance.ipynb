{
 "cells": [
  {
   "cell_type": "markdown",
   "metadata": {},
   "source": [
    "**Step-by-step Guidence on How to Install and Use ADBench**"
   ]
  },
  {
   "cell_type": "markdown",
   "metadata": {},
   "source": [
    "# Install ADBench"
   ]
  },
  {
   "cell_type": "code",
   "execution_count": 2,
   "metadata": {},
   "outputs": [
    {
     "name": "stdout",
     "output_type": "stream",
     "text": [
      "The autoreload extension is already loaded. To reload it, use:\n",
      "  %reload_ext autoreload\n"
     ]
    }
   ],
   "source": [
    "%load_ext autoreload\n",
    "%reload_ext autoreload\n",
    "%autoreload 2"
   ]
  },
  {
   "cell_type": "code",
   "execution_count": 4,
   "metadata": {
    "ExecuteTime": {
     "end_time": "2023-07-19T16:06:57.104897Z",
     "start_time": "2023-07-19T16:06:57.092930Z"
    }
   },
   "outputs": [],
   "source": [
    "# download datasets in ADBench from the remote github repo\n",
    "from adbench.myutils import Utils\n",
    "utils = Utils()\n",
    "# we recommend jihulab for China mainland user and github otherwise\n",
    "#utils.download_datasets(repo='github')"
   ]
  },
  {
   "cell_type": "markdown",
   "metadata": {
    "pycharm": {
     "name": "#%% md\n"
    }
   },
   "source": [
    "# Run ADBench "
   ]
  },
  {
   "cell_type": "markdown",
   "metadata": {
    "ExecuteTime": {
     "end_time": "2023-07-17T15:33:13.848925Z",
     "start_time": "2023-07-17T15:33:13.833498Z"
    }
   },
   "source": [
    "## Run ADBench experiments"
   ]
  },
  {
   "cell_type": "code",
   "execution_count": 6,
   "metadata": {
    "ExecuteTime": {
     "end_time": "2023-07-19T14:44:03.627289Z",
     "start_time": "2023-07-19T14:26:41.551958Z"
    },
    "pycharm": {
     "name": "#%%\n"
    }
   },
   "outputs": [
    {
     "data": {
      "text/plain": [
       "\"\\nParams:\\nsuffix: file name suffix;\\n\\nparallel: running either 'unsupervise', 'semi-supervise', or 'supervise' (AD) algorithms,\\ncorresponding to the Angle I: Availability of Ground Truth Labels (Supervision);\\n\\nrealistic_synthetic_mode: testing on 'local', 'global', 'dependency', and 'cluster' anomalies, \\ncorresponding to the Angle II: Types of Anomalies;\\n\\nnoise type: evaluating algorithms on 'duplicated_anomalies', 'irrelevant_features' and 'label_contamination',\\ncorresponding to the Angle III: Model Robustness with Noisy and Corrupted Data.\\n\""
      ]
     },
     "execution_count": 6,
     "metadata": {},
     "output_type": "execute_result"
    }
   ],
   "source": [
    "from adbench.run import RunPipeline\n",
    "\n",
    "'''\n",
    "Params:\n",
    "suffix: file name suffix;\n",
    "\n",
    "parallel: running either 'unsupervise', 'semi-supervise', or 'supervise' (AD) algorithms,\n",
    "corresponding to the Angle I: Availability of Ground Truth Labels (Supervision);\n",
    "\n",
    "realistic_synthetic_mode: testing on 'local', 'global', 'dependency', and 'cluster' anomalies, \n",
    "corresponding to the Angle II: Types of Anomalies;\n",
    "\n",
    "noise type: evaluating algorithms on 'duplicated_anomalies', 'irrelevant_features' and 'label_contamination',\n",
    "corresponding to the Angle III: Model Robustness with Noisy and Corrupted Data.\n",
    "'''"
   ]
  },
  {
   "cell_type": "code",
   "execution_count": 27,
   "metadata": {},
   "outputs": [],
   "source": [
    "# return the results including [params, model_name, metrics, time_fit, time_inference]\n",
    "# besides, results will be automatically saved in the dataframe and ouputted as csv file in adbench/result folder\n",
    "\n",
    "#pipeline = RunPipeline(suffix='ADBench', parallel='semi-supervise', realistic_synthetic_mode=None, noise_type=None)\n",
    "#results = pipeline.run()"
   ]
  },
  {
   "cell_type": "code",
   "execution_count": 28,
   "metadata": {},
   "outputs": [],
   "source": [
    "#pipeline = RunPipeline(suffix='ADBench', parallel='unsupervise', realistic_synthetic_mode='cluster', noise_type=None)\n",
    "#results = pipeline.run()"
   ]
  },
  {
   "cell_type": "code",
   "execution_count": 29,
   "metadata": {},
   "outputs": [],
   "source": [
    "#pipeline = RunPipeline(suffix='ADBench', parallel='supervise', realistic_synthetic_mode=None, noise_type='irrelevant_features')\n",
    "#results = pipeline.run()"
   ]
  },
  {
   "cell_type": "markdown",
   "metadata": {},
   "source": [
    "## Run your customized algorithm on ADBench datasets"
   ]
  },
  {
   "cell_type": "code",
   "execution_count": 30,
   "metadata": {},
   "outputs": [],
   "source": [
    "# customized model on ADBench's datasets\n",
    "from adbench.run import RunPipeline\n",
    "from adbench.baseline.SimpleAE.run import SimpleAE\n",
    "from adbench.baseline.VAE.run import VAE\n",
    "\n",
    "# notice that you should specify the corresponding category of your customized AD algorithm\n",
    "# for example, here we use Logistic Regression as customized clf, which belongs to the supervised algorithm\n",
    "# for your own algorithm, you can realize the same usage as other baselines by modifying the fit.py, model.py, and run.py files in the adbench/baseline/Customized\n",
    "pipeline = RunPipeline(suffix='ADBench', parallel='unsupervise', realistic_synthetic_mode=None, noise_type=None, num_seed=3)"
   ]
  },
  {
   "cell_type": "code",
   "execution_count": 31,
   "metadata": {},
   "outputs": [
    {
     "name": "stdout",
     "output_type": "stream",
     "text": [
      "{'Samples': 10000, 'Features': 10, 'Anomalies': 97, 'Anomalies Ratio(%)': 0.97}\n",
      "{'Samples': 10000, 'Features': 10, 'Anomalies': 116, 'Anomalies Ratio(%)': 1.16}\n",
      "{'Samples': 10000, 'Features': 10, 'Anomalies': 95, 'Anomalies Ratio(%)': 0.95}\n",
      "{'Samples': 10000, 'Features': 10, 'Anomalies': 618, 'Anomalies Ratio(%)': 6.18}\n",
      "{'Samples': 10000, 'Features': 10, 'Anomalies': 578, 'Anomalies Ratio(%)': 5.78}\n",
      "{'Samples': 10000, 'Features': 10, 'Anomalies': 597, 'Anomalies Ratio(%)': 5.97}\n",
      "{'Samples': 1941, 'Features': 27, 'Anomalies': 673, 'Anomalies Ratio(%)': 34.67}\n",
      "{'Samples': 1941, 'Features': 27, 'Anomalies': 673, 'Anomalies Ratio(%)': 34.67}\n",
      "{'Samples': 1941, 'Features': 27, 'Anomalies': 673, 'Anomalies Ratio(%)': 34.67}\n",
      "{'Samples': 10000, 'Features': 29, 'Anomalies': 15, 'Anomalies Ratio(%)': 0.15}\n",
      "{'Samples': 10000, 'Features': 29, 'Anomalies': 15, 'Anomalies Ratio(%)': 0.15}\n",
      "{'Samples': 10000, 'Features': 29, 'Anomalies': 13, 'Anomalies Ratio(%)': 0.13}\n",
      "{'Samples': 1000, 'Features': 7, 'Anomalies': 42, 'Anomalies Ratio(%)': 4.2}\n",
      "{'Samples': 1000, 'Features': 7, 'Anomalies': 42, 'Anomalies Ratio(%)': 4.2}\n",
      "{'Samples': 1000, 'Features': 7, 'Anomalies': 34, 'Anomalies Ratio(%)': 3.4}\n",
      "{'Samples': 1000, 'Features': 19, 'Anomalies': 170, 'Anomalies Ratio(%)': 17.0}\n",
      "{'Samples': 1000, 'Features': 19, 'Anomalies': 139, 'Anomalies Ratio(%)': 13.9}\n",
      "{'Samples': 1000, 'Features': 19, 'Anomalies': 169, 'Anomalies Ratio(%)': 16.9}\n",
      "{'Samples': 10000, 'Features': 3, 'Anomalies': 46, 'Anomalies Ratio(%)': 0.46}\n",
      "{'Samples': 10000, 'Features': 3, 'Anomalies': 35, 'Anomalies Ratio(%)': 0.35}\n",
      "{'Samples': 10000, 'Features': 3, 'Anomalies': 34, 'Anomalies Ratio(%)': 0.34}\n",
      "{'Samples': 1966, 'Features': 1555, 'Anomalies': 368, 'Anomalies Ratio(%)': 18.72}\n",
      "{'Samples': 1966, 'Features': 1555, 'Anomalies': 368, 'Anomalies Ratio(%)': 18.72}\n",
      "{'Samples': 1966, 'Features': 1555, 'Anomalies': 368, 'Anomalies Ratio(%)': 18.72}\n",
      "{'Samples': 1000, 'Features': 32, 'Anomalies': 369, 'Anomalies Ratio(%)': 36.9}\n",
      "{'Samples': 1000, 'Features': 32, 'Anomalies': 374, 'Anomalies Ratio(%)': 37.4}\n",
      "{'Samples': 1000, 'Features': 32, 'Anomalies': 349, 'Anomalies Ratio(%)': 34.9}\n",
      "{'Samples': 6435, 'Features': 36, 'Anomalies': 1333, 'Anomalies Ratio(%)': 20.71}\n",
      "{'Samples': 6435, 'Features': 36, 'Anomalies': 1333, 'Anomalies Ratio(%)': 20.71}\n",
      "{'Samples': 6435, 'Features': 36, 'Anomalies': 1333, 'Anomalies Ratio(%)': 20.71}\n",
      "{'Samples': 10000, 'Features': 27, 'Anomalies': 315, 'Anomalies Ratio(%)': 3.15}\n",
      "{'Samples': 10000, 'Features': 27, 'Anomalies': 334, 'Anomalies Ratio(%)': 3.34}\n",
      "{'Samples': 10000, 'Features': 27, 'Anomalies': 332, 'Anomalies Ratio(%)': 3.32}\n",
      "{'Samples': 1600, 'Features': 32, 'Anomalies': 100, 'Anomalies Ratio(%)': 6.25}\n",
      "{'Samples': 1600, 'Features': 32, 'Anomalies': 100, 'Anomalies Ratio(%)': 6.25}\n",
      "{'Samples': 1600, 'Features': 32, 'Anomalies': 100, 'Anomalies Ratio(%)': 6.25}\n",
      "{'Samples': 1000, 'Features': 18, 'Anomalies': 44, 'Anomalies Ratio(%)': 4.4}\n",
      "{'Samples': 1000, 'Features': 18, 'Anomalies': 38, 'Anomalies Ratio(%)': 3.8}\n",
      "{'Samples': 1000, 'Features': 18, 'Anomalies': 43, 'Anomalies Ratio(%)': 4.3}\n",
      "{'Samples': 10000, 'Features': 10, 'Anomalies': 3548, 'Anomalies Ratio(%)': 35.48}\n",
      "{'Samples': 10000, 'Features': 10, 'Anomalies': 3533, 'Anomalies Ratio(%)': 35.33}\n",
      "{'Samples': 10000, 'Features': 10, 'Anomalies': 3500, 'Anomalies Ratio(%)': 35.0}\n",
      "{'Samples': 10000, 'Features': 6, 'Anomalies': 230, 'Anomalies Ratio(%)': 2.3}\n",
      "{'Samples': 10000, 'Features': 6, 'Anomalies': 241, 'Anomalies Ratio(%)': 2.41}\n",
      "{'Samples': 10000, 'Features': 6, 'Anomalies': 227, 'Anomalies Ratio(%)': 2.27}\n",
      "{'Samples': 7603, 'Features': 100, 'Anomalies': 700, 'Anomalies Ratio(%)': 9.21}\n",
      "{'Samples': 7603, 'Features': 100, 'Anomalies': 700, 'Anomalies Ratio(%)': 9.21}\n",
      "{'Samples': 7603, 'Features': 100, 'Anomalies': 700, 'Anomalies Ratio(%)': 9.21}\n",
      "{'Samples': 3062, 'Features': 166, 'Anomalies': 97, 'Anomalies Ratio(%)': 3.17}\n",
      "{'Samples': 3062, 'Features': 166, 'Anomalies': 97, 'Anomalies Ratio(%)': 3.17}\n",
      "{'Samples': 3062, 'Features': 166, 'Anomalies': 97, 'Anomalies Ratio(%)': 3.17}\n",
      "{'Samples': 5216, 'Features': 64, 'Anomalies': 150, 'Anomalies Ratio(%)': 2.88}\n",
      "{'Samples': 5216, 'Features': 64, 'Anomalies': 150, 'Anomalies Ratio(%)': 2.88}\n",
      "{'Samples': 5216, 'Features': 64, 'Anomalies': 150, 'Anomalies Ratio(%)': 2.88}\n",
      "{'Samples': 5393, 'Features': 10, 'Anomalies': 510, 'Anomalies Ratio(%)': 9.46}\n",
      "{'Samples': 5393, 'Features': 10, 'Anomalies': 510, 'Anomalies Ratio(%)': 9.46}\n",
      "{'Samples': 5393, 'Features': 10, 'Anomalies': 510, 'Anomalies Ratio(%)': 9.46}\n",
      "{'Samples': 6870, 'Features': 16, 'Anomalies': 156, 'Anomalies Ratio(%)': 2.27}\n",
      "{'Samples': 6870, 'Features': 16, 'Anomalies': 156, 'Anomalies Ratio(%)': 2.27}\n",
      "{'Samples': 6870, 'Features': 16, 'Anomalies': 156, 'Anomalies Ratio(%)': 2.27}\n",
      "{'Samples': 1000, 'Features': 8, 'Anomalies': 367, 'Anomalies Ratio(%)': 36.7}\n",
      "{'Samples': 1000, 'Features': 8, 'Anomalies': 346, 'Anomalies Ratio(%)': 34.6}\n",
      "{'Samples': 1000, 'Features': 8, 'Anomalies': 308, 'Anomalies Ratio(%)': 30.8}\n",
      "{'Samples': 7200, 'Features': 6, 'Anomalies': 534, 'Anomalies Ratio(%)': 7.42}\n",
      "{'Samples': 7200, 'Features': 6, 'Anomalies': 534, 'Anomalies Ratio(%)': 7.42}\n",
      "{'Samples': 7200, 'Features': 6, 'Anomalies': 534, 'Anomalies Ratio(%)': 7.42}\n",
      "{'Samples': 6435, 'Features': 36, 'Anomalies': 2036, 'Anomalies Ratio(%)': 31.64}\n",
      "{'Samples': 6435, 'Features': 36, 'Anomalies': 2036, 'Anomalies Ratio(%)': 31.64}\n",
      "{'Samples': 6435, 'Features': 36, 'Anomalies': 2036, 'Anomalies Ratio(%)': 31.64}\n",
      "{'Samples': 5803, 'Features': 36, 'Anomalies': 71, 'Anomalies Ratio(%)': 1.22}\n",
      "{'Samples': 5803, 'Features': 36, 'Anomalies': 71, 'Anomalies Ratio(%)': 1.22}\n",
      "{'Samples': 5803, 'Features': 36, 'Anomalies': 71, 'Anomalies Ratio(%)': 1.22}\n",
      "{'Samples': 10000, 'Features': 9, 'Anomalies': 669, 'Anomalies Ratio(%)': 6.69}\n",
      "{'Samples': 10000, 'Features': 9, 'Anomalies': 697, 'Anomalies Ratio(%)': 6.97}\n",
      "{'Samples': 10000, 'Features': 9, 'Anomalies': 714, 'Anomalies Ratio(%)': 7.14}\n",
      "{'Samples': 10000, 'Features': 3, 'Anomalies': 2081, 'Anomalies Ratio(%)': 20.81}\n",
      "{'Samples': 10000, 'Features': 3, 'Anomalies': 2082, 'Anomalies Ratio(%)': 20.82}\n",
      "{'Samples': 10000, 'Features': 3, 'Anomalies': 2066, 'Anomalies Ratio(%)': 20.66}\n",
      "{'Samples': 10000, 'Features': 3, 'Anomalies': 4, 'Anomalies Ratio(%)': 0.04}\n",
      "{'Samples': 10000, 'Features': 3, 'Anomalies': 4, 'Anomalies Ratio(%)': 0.04}\n",
      "{'Samples': 10000, 'Features': 3, 'Anomalies': 5, 'Anomalies Ratio(%)': 0.05}\n",
      "{'Samples': 4207, 'Features': 57, 'Anomalies': 1679, 'Anomalies Ratio(%)': 39.91}\n",
      "{'Samples': 4207, 'Features': 57, 'Anomalies': 1679, 'Anomalies Ratio(%)': 39.91}\n",
      "{'Samples': 4207, 'Features': 57, 'Anomalies': 1679, 'Anomalies Ratio(%)': 39.91}\n",
      "{'Samples': 3686, 'Features': 400, 'Anomalies': 61, 'Anomalies Ratio(%)': 1.65}\n",
      "{'Samples': 3686, 'Features': 400, 'Anomalies': 61, 'Anomalies Ratio(%)': 1.65}\n",
      "{'Samples': 3686, 'Features': 400, 'Anomalies': 61, 'Anomalies Ratio(%)': 1.65}\n",
      "{'Samples': 1000, 'Features': 9, 'Anomalies': 90, 'Anomalies Ratio(%)': 9.0}\n",
      "{'Samples': 1000, 'Features': 9, 'Anomalies': 95, 'Anomalies Ratio(%)': 9.5}\n",
      "{'Samples': 1000, 'Features': 9, 'Anomalies': 100, 'Anomalies Ratio(%)': 10.0}\n",
      "{'Samples': 3772, 'Features': 6, 'Anomalies': 93, 'Anomalies Ratio(%)': 2.47}\n",
      "{'Samples': 3772, 'Features': 6, 'Anomalies': 93, 'Anomalies Ratio(%)': 2.47}\n",
      "{'Samples': 3772, 'Features': 6, 'Anomalies': 93, 'Anomalies Ratio(%)': 2.47}\n",
      "{'Samples': 1000, 'Features': 6, 'Anomalies': 123, 'Anomalies Ratio(%)': 12.3}\n",
      "{'Samples': 1000, 'Features': 6, 'Anomalies': 138, 'Anomalies Ratio(%)': 13.8}\n",
      "{'Samples': 1000, 'Features': 6, 'Anomalies': 133, 'Anomalies Ratio(%)': 13.3}\n",
      "{'Samples': 10000, 'Features': 196, 'Anomalies': 252, 'Anomalies Ratio(%)': 2.52}\n",
      "{'Samples': 10000, 'Features': 196, 'Anomalies': 246, 'Anomalies Ratio(%)': 2.46}\n",
      "{'Samples': 10000, 'Features': 196, 'Anomalies': 256, 'Anomalies Ratio(%)': 2.56}\n",
      "{'Samples': 1456, 'Features': 12, 'Anomalies': 50, 'Anomalies Ratio(%)': 3.43}\n",
      "{'Samples': 1456, 'Features': 12, 'Anomalies': 50, 'Anomalies Ratio(%)': 3.43}\n",
      "{'Samples': 1456, 'Features': 12, 'Anomalies': 50, 'Anomalies Ratio(%)': 3.43}\n",
      "{'Samples': 3443, 'Features': 21, 'Anomalies': 100, 'Anomalies Ratio(%)': 2.9}\n",
      "{'Samples': 3443, 'Features': 21, 'Anomalies': 100, 'Anomalies Ratio(%)': 2.9}\n",
      "{'Samples': 3443, 'Features': 21, 'Anomalies': 100, 'Anomalies Ratio(%)': 2.9}\n",
      "{'Samples': 1000, 'Features': 9, 'Anomalies': 35, 'Anomalies Ratio(%)': 3.5}\n",
      "{'Samples': 1000, 'Features': 9, 'Anomalies': 45, 'Anomalies Ratio(%)': 4.5}\n",
      "{'Samples': 1000, 'Features': 9, 'Anomalies': 48, 'Anomalies Ratio(%)': 4.8}\n",
      "{'Samples': 1000, 'Features': 30, 'Anomalies': 26, 'Anomalies Ratio(%)': 2.6}\n",
      "{'Samples': 1000, 'Features': 30, 'Anomalies': 29, 'Anomalies Ratio(%)': 2.9}\n",
      "{'Samples': 1000, 'Features': 30, 'Anomalies': 27, 'Anomalies Ratio(%)': 2.7}\n",
      "{'Samples': 4819, 'Features': 5, 'Anomalies': 257, 'Anomalies Ratio(%)': 5.33}\n",
      "{'Samples': 4819, 'Features': 5, 'Anomalies': 257, 'Anomalies Ratio(%)': 5.33}\n",
      "{'Samples': 4819, 'Features': 5, 'Anomalies': 257, 'Anomalies Ratio(%)': 5.33}\n",
      "{'Samples': 1000, 'Features': 13, 'Anomalies': 75, 'Anomalies Ratio(%)': 7.5}\n",
      "{'Samples': 1000, 'Features': 13, 'Anomalies': 80, 'Anomalies Ratio(%)': 8.0}\n",
      "{'Samples': 1000, 'Features': 13, 'Anomalies': 88, 'Anomalies Ratio(%)': 8.8}\n",
      "{'Samples': 1000, 'Features': 33, 'Anomalies': 239, 'Anomalies Ratio(%)': 23.9}\n",
      "{'Samples': 1000, 'Features': 33, 'Anomalies': 224, 'Anomalies Ratio(%)': 22.4}\n",
      "{'Samples': 1000, 'Features': 33, 'Anomalies': 225, 'Anomalies Ratio(%)': 22.5}\n",
      "{'Samples': 1484, 'Features': 8, 'Anomalies': 507, 'Anomalies Ratio(%)': 34.16}\n",
      "{'Samples': 1484, 'Features': 8, 'Anomalies': 507, 'Anomalies Ratio(%)': 34.16}\n",
      "{'Samples': 1484, 'Features': 8, 'Anomalies': 507, 'Anomalies Ratio(%)': 34.16}\n",
      "{'Samples': 1000, 'Features': 9, 'Anomalies': 348, 'Anomalies Ratio(%)': 34.8}\n",
      "{'Samples': 1000, 'Features': 9, 'Anomalies': 336, 'Anomalies Ratio(%)': 33.6}\n",
      "{'Samples': 1000, 'Features': 9, 'Anomalies': 364, 'Anomalies Ratio(%)': 36.4}\n",
      "{'Samples': 10000, 'Features': 62, 'Anomalies': 1134, 'Anomalies Ratio(%)': 11.34}\n",
      "{'Samples': 10000, 'Features': 62, 'Anomalies': 1129, 'Anomalies Ratio(%)': 11.29}\n",
      "{'Samples': 10000, 'Features': 62, 'Anomalies': 1129, 'Anomalies Ratio(%)': 11.29}\n",
      "{'Samples': 1831, 'Features': 21, 'Anomalies': 176, 'Anomalies Ratio(%)': 9.61}\n",
      "{'Samples': 1831, 'Features': 21, 'Anomalies': 176, 'Anomalies Ratio(%)': 9.61}\n",
      "{'Samples': 1831, 'Features': 21, 'Anomalies': 176, 'Anomalies Ratio(%)': 9.61}\n",
      "{'Samples': 2114, 'Features': 21, 'Anomalies': 466, 'Anomalies Ratio(%)': 22.04}\n",
      "{'Samples': 2114, 'Features': 21, 'Anomalies': 466, 'Anomalies Ratio(%)': 22.04}\n",
      "{'Samples': 2114, 'Features': 21, 'Anomalies': 466, 'Anomalies Ratio(%)': 22.04}\n",
      "{'Samples': 10000, 'Features': 39, 'Anomalies': 222, 'Anomalies Ratio(%)': 2.22}\n",
      "{'Samples': 10000, 'Features': 39, 'Anomalies': 238, 'Anomalies Ratio(%)': 2.38}\n",
      "{'Samples': 10000, 'Features': 39, 'Anomalies': 216, 'Anomalies Ratio(%)': 2.16}\n",
      "{'Samples': 10000, 'Features': 500, 'Anomalies': 618, 'Anomalies Ratio(%)': 6.18}\n",
      "{'Samples': 10000, 'Features': 500, 'Anomalies': 628, 'Anomalies Ratio(%)': 6.28}\n",
      "{'Samples': 10000, 'Features': 500, 'Anomalies': 652, 'Anomalies Ratio(%)': 6.52}\n",
      "{'Samples': 5263, 'Features': 512, 'Anomalies': 263, 'Anomalies Ratio(%)': 5.0}\n",
      "{'Samples': 5263, 'Features': 512, 'Anomalies': 263, 'Anomalies Ratio(%)': 5.0}\n",
      "{'Samples': 5263, 'Features': 512, 'Anomalies': 263, 'Anomalies Ratio(%)': 5.0}\n",
      "{'Samples': 5263, 'Features': 512, 'Anomalies': 263, 'Anomalies Ratio(%)': 5.0}\n",
      "{'Samples': 5263, 'Features': 512, 'Anomalies': 263, 'Anomalies Ratio(%)': 5.0}\n",
      "{'Samples': 5263, 'Features': 512, 'Anomalies': 263, 'Anomalies Ratio(%)': 5.0}\n",
      "{'Samples': 5263, 'Features': 512, 'Anomalies': 263, 'Anomalies Ratio(%)': 5.0}\n",
      "{'Samples': 5263, 'Features': 512, 'Anomalies': 263, 'Anomalies Ratio(%)': 5.0}\n",
      "{'Samples': 5263, 'Features': 512, 'Anomalies': 263, 'Anomalies Ratio(%)': 5.0}\n",
      "{'Samples': 5263, 'Features': 512, 'Anomalies': 263, 'Anomalies Ratio(%)': 5.0}\n",
      "{'Samples': 5263, 'Features': 512, 'Anomalies': 263, 'Anomalies Ratio(%)': 5.0}\n",
      "{'Samples': 5263, 'Features': 512, 'Anomalies': 263, 'Anomalies Ratio(%)': 5.0}\n",
      "{'Samples': 5263, 'Features': 512, 'Anomalies': 263, 'Anomalies Ratio(%)': 5.0}\n",
      "{'Samples': 5263, 'Features': 512, 'Anomalies': 263, 'Anomalies Ratio(%)': 5.0}\n",
      "{'Samples': 5263, 'Features': 512, 'Anomalies': 263, 'Anomalies Ratio(%)': 5.0}\n",
      "{'Samples': 5263, 'Features': 512, 'Anomalies': 263, 'Anomalies Ratio(%)': 5.0}\n",
      "{'Samples': 5263, 'Features': 512, 'Anomalies': 263, 'Anomalies Ratio(%)': 5.0}\n",
      "{'Samples': 5263, 'Features': 512, 'Anomalies': 263, 'Anomalies Ratio(%)': 5.0}\n",
      "{'Samples': 5263, 'Features': 512, 'Anomalies': 263, 'Anomalies Ratio(%)': 5.0}\n",
      "{'Samples': 5263, 'Features': 512, 'Anomalies': 263, 'Anomalies Ratio(%)': 5.0}\n",
      "{'Samples': 5263, 'Features': 512, 'Anomalies': 263, 'Anomalies Ratio(%)': 5.0}\n",
      "{'Samples': 5263, 'Features': 512, 'Anomalies': 263, 'Anomalies Ratio(%)': 5.0}\n",
      "{'Samples': 5263, 'Features': 512, 'Anomalies': 263, 'Anomalies Ratio(%)': 5.0}\n",
      "{'Samples': 5263, 'Features': 512, 'Anomalies': 263, 'Anomalies Ratio(%)': 5.0}\n",
      "{'Samples': 5263, 'Features': 512, 'Anomalies': 263, 'Anomalies Ratio(%)': 5.0}\n",
      "{'Samples': 5263, 'Features': 512, 'Anomalies': 263, 'Anomalies Ratio(%)': 5.0}\n",
      "{'Samples': 5263, 'Features': 512, 'Anomalies': 263, 'Anomalies Ratio(%)': 5.0}\n",
      "{'Samples': 5263, 'Features': 512, 'Anomalies': 263, 'Anomalies Ratio(%)': 5.0}\n",
      "{'Samples': 5263, 'Features': 512, 'Anomalies': 263, 'Anomalies Ratio(%)': 5.0}\n",
      "{'Samples': 5263, 'Features': 512, 'Anomalies': 263, 'Anomalies Ratio(%)': 5.0}\n",
      "{'Samples': 6315, 'Features': 512, 'Anomalies': 315, 'Anomalies Ratio(%)': 4.99}\n",
      "{'Samples': 6315, 'Features': 512, 'Anomalies': 315, 'Anomalies Ratio(%)': 4.99}\n",
      "{'Samples': 6315, 'Features': 512, 'Anomalies': 315, 'Anomalies Ratio(%)': 4.99}\n",
      "{'Samples': 6315, 'Features': 512, 'Anomalies': 315, 'Anomalies Ratio(%)': 4.99}\n",
      "{'Samples': 6315, 'Features': 512, 'Anomalies': 315, 'Anomalies Ratio(%)': 4.99}\n",
      "{'Samples': 6315, 'Features': 512, 'Anomalies': 315, 'Anomalies Ratio(%)': 4.99}\n",
      "{'Samples': 6315, 'Features': 512, 'Anomalies': 315, 'Anomalies Ratio(%)': 4.99}\n",
      "{'Samples': 6315, 'Features': 512, 'Anomalies': 315, 'Anomalies Ratio(%)': 4.99}\n",
      "{'Samples': 6315, 'Features': 512, 'Anomalies': 315, 'Anomalies Ratio(%)': 4.99}\n",
      "{'Samples': 6315, 'Features': 512, 'Anomalies': 315, 'Anomalies Ratio(%)': 4.99}\n",
      "{'Samples': 6315, 'Features': 512, 'Anomalies': 315, 'Anomalies Ratio(%)': 4.99}\n",
      "{'Samples': 6315, 'Features': 512, 'Anomalies': 315, 'Anomalies Ratio(%)': 4.99}\n",
      "{'Samples': 6315, 'Features': 512, 'Anomalies': 315, 'Anomalies Ratio(%)': 4.99}\n",
      "{'Samples': 6315, 'Features': 512, 'Anomalies': 315, 'Anomalies Ratio(%)': 4.99}\n",
      "{'Samples': 6315, 'Features': 512, 'Anomalies': 315, 'Anomalies Ratio(%)': 4.99}\n",
      "{'Samples': 6315, 'Features': 512, 'Anomalies': 315, 'Anomalies Ratio(%)': 4.99}\n",
      "{'Samples': 6315, 'Features': 512, 'Anomalies': 315, 'Anomalies Ratio(%)': 4.99}\n",
      "{'Samples': 6315, 'Features': 512, 'Anomalies': 315, 'Anomalies Ratio(%)': 4.99}\n",
      "{'Samples': 6315, 'Features': 512, 'Anomalies': 315, 'Anomalies Ratio(%)': 4.99}\n",
      "{'Samples': 6315, 'Features': 512, 'Anomalies': 315, 'Anomalies Ratio(%)': 4.99}\n",
      "{'Samples': 6315, 'Features': 512, 'Anomalies': 315, 'Anomalies Ratio(%)': 4.99}\n",
      "{'Samples': 6315, 'Features': 512, 'Anomalies': 315, 'Anomalies Ratio(%)': 4.99}\n",
      "{'Samples': 6315, 'Features': 512, 'Anomalies': 315, 'Anomalies Ratio(%)': 4.99}\n",
      "{'Samples': 6315, 'Features': 512, 'Anomalies': 315, 'Anomalies Ratio(%)': 4.99}\n",
      "{'Samples': 6315, 'Features': 512, 'Anomalies': 315, 'Anomalies Ratio(%)': 4.99}\n",
      "{'Samples': 6315, 'Features': 512, 'Anomalies': 315, 'Anomalies Ratio(%)': 4.99}\n",
      "{'Samples': 6315, 'Features': 512, 'Anomalies': 315, 'Anomalies Ratio(%)': 4.99}\n",
      "{'Samples': 6315, 'Features': 512, 'Anomalies': 315, 'Anomalies Ratio(%)': 4.99}\n",
      "{'Samples': 6315, 'Features': 512, 'Anomalies': 315, 'Anomalies Ratio(%)': 4.99}\n",
      "{'Samples': 6315, 'Features': 512, 'Anomalies': 315, 'Anomalies Ratio(%)': 4.99}\n",
      "{'Samples': 10000, 'Features': 512, 'Anomalies': 500, 'Anomalies Ratio(%)': 5.0}\n",
      "{'Samples': 10000, 'Features': 512, 'Anomalies': 500, 'Anomalies Ratio(%)': 5.0}\n",
      "{'Samples': 10000, 'Features': 512, 'Anomalies': 500, 'Anomalies Ratio(%)': 5.0}\n",
      "{'Samples': 10000, 'Features': 512, 'Anomalies': 500, 'Anomalies Ratio(%)': 5.0}\n",
      "{'Samples': 10000, 'Features': 512, 'Anomalies': 500, 'Anomalies Ratio(%)': 5.0}\n",
      "{'Samples': 10000, 'Features': 512, 'Anomalies': 500, 'Anomalies Ratio(%)': 5.0}\n",
      "{'Samples': 10000, 'Features': 512, 'Anomalies': 500, 'Anomalies Ratio(%)': 5.0}\n",
      "{'Samples': 10000, 'Features': 512, 'Anomalies': 500, 'Anomalies Ratio(%)': 5.0}\n",
      "{'Samples': 10000, 'Features': 512, 'Anomalies': 500, 'Anomalies Ratio(%)': 5.0}\n",
      "{'Samples': 10000, 'Features': 512, 'Anomalies': 500, 'Anomalies Ratio(%)': 5.0}\n",
      "{'Samples': 10000, 'Features': 512, 'Anomalies': 500, 'Anomalies Ratio(%)': 5.0}\n",
      "{'Samples': 10000, 'Features': 512, 'Anomalies': 500, 'Anomalies Ratio(%)': 5.0}\n",
      "{'Samples': 10000, 'Features': 512, 'Anomalies': 500, 'Anomalies Ratio(%)': 5.0}\n",
      "{'Samples': 10000, 'Features': 512, 'Anomalies': 500, 'Anomalies Ratio(%)': 5.0}\n",
      "{'Samples': 10000, 'Features': 512, 'Anomalies': 500, 'Anomalies Ratio(%)': 5.0}\n",
      "{'Samples': 10000, 'Features': 512, 'Anomalies': 500, 'Anomalies Ratio(%)': 5.0}\n",
      "{'Samples': 10000, 'Features': 512, 'Anomalies': 500, 'Anomalies Ratio(%)': 5.0}\n",
      "{'Samples': 10000, 'Features': 512, 'Anomalies': 500, 'Anomalies Ratio(%)': 5.0}\n",
      "{'Samples': 10000, 'Features': 512, 'Anomalies': 500, 'Anomalies Ratio(%)': 5.0}\n",
      "{'Samples': 10000, 'Features': 512, 'Anomalies': 500, 'Anomalies Ratio(%)': 5.0}\n",
      "{'Samples': 10000, 'Features': 512, 'Anomalies': 500, 'Anomalies Ratio(%)': 5.0}\n",
      "{'Samples': 10000, 'Features': 512, 'Anomalies': 500, 'Anomalies Ratio(%)': 5.0}\n",
      "{'Samples': 10000, 'Features': 512, 'Anomalies': 500, 'Anomalies Ratio(%)': 5.0}\n",
      "{'Samples': 10000, 'Features': 512, 'Anomalies': 500, 'Anomalies Ratio(%)': 5.0}\n",
      "{'Samples': 10000, 'Features': 512, 'Anomalies': 500, 'Anomalies Ratio(%)': 5.0}\n",
      "{'Samples': 10000, 'Features': 512, 'Anomalies': 500, 'Anomalies Ratio(%)': 5.0}\n",
      "{'Samples': 10000, 'Features': 512, 'Anomalies': 500, 'Anomalies Ratio(%)': 5.0}\n",
      "{'Samples': 10000, 'Features': 512, 'Anomalies': 500, 'Anomalies Ratio(%)': 5.0}\n",
      "{'Samples': 10000, 'Features': 512, 'Anomalies': 500, 'Anomalies Ratio(%)': 5.0}\n",
      "{'Samples': 10000, 'Features': 512, 'Anomalies': 500, 'Anomalies Ratio(%)': 5.0}\n",
      "{'Samples': 10000, 'Features': 512, 'Anomalies': 500, 'Anomalies Ratio(%)': 5.0}\n",
      "{'Samples': 10000, 'Features': 512, 'Anomalies': 500, 'Anomalies Ratio(%)': 5.0}\n",
      "{'Samples': 10000, 'Features': 512, 'Anomalies': 500, 'Anomalies Ratio(%)': 5.0}\n",
      "{'Samples': 10000, 'Features': 512, 'Anomalies': 500, 'Anomalies Ratio(%)': 5.0}\n",
      "{'Samples': 10000, 'Features': 512, 'Anomalies': 500, 'Anomalies Ratio(%)': 5.0}\n",
      "{'Samples': 10000, 'Features': 512, 'Anomalies': 500, 'Anomalies Ratio(%)': 5.0}\n",
      "{'Samples': 10000, 'Features': 512, 'Anomalies': 500, 'Anomalies Ratio(%)': 5.0}\n",
      "{'Samples': 10000, 'Features': 512, 'Anomalies': 500, 'Anomalies Ratio(%)': 5.0}\n",
      "{'Samples': 10000, 'Features': 512, 'Anomalies': 500, 'Anomalies Ratio(%)': 5.0}\n",
      "{'Samples': 10000, 'Features': 512, 'Anomalies': 500, 'Anomalies Ratio(%)': 5.0}\n",
      "{'Samples': 10000, 'Features': 512, 'Anomalies': 500, 'Anomalies Ratio(%)': 5.0}\n",
      "{'Samples': 10000, 'Features': 512, 'Anomalies': 500, 'Anomalies Ratio(%)': 5.0}\n",
      "{'Samples': 10000, 'Features': 512, 'Anomalies': 500, 'Anomalies Ratio(%)': 5.0}\n",
      "{'Samples': 10000, 'Features': 512, 'Anomalies': 500, 'Anomalies Ratio(%)': 5.0}\n",
      "{'Samples': 10000, 'Features': 512, 'Anomalies': 500, 'Anomalies Ratio(%)': 5.0}\n",
      "{'Samples': 10000, 'Features': 512, 'Anomalies': 500, 'Anomalies Ratio(%)': 5.0}\n",
      "{'Samples': 10000, 'Features': 512, 'Anomalies': 500, 'Anomalies Ratio(%)': 5.0}\n",
      "{'Samples': 10000, 'Features': 512, 'Anomalies': 500, 'Anomalies Ratio(%)': 5.0}\n",
      "{'Samples': 1000, 'Features': 512, 'Anomalies': 215, 'Anomalies Ratio(%)': 21.5}\n",
      "{'Samples': 1000, 'Features': 512, 'Anomalies': 215, 'Anomalies Ratio(%)': 21.5}\n",
      "{'Samples': 1000, 'Features': 512, 'Anomalies': 198, 'Anomalies Ratio(%)': 19.8}\n",
      "{'Samples': 1000, 'Features': 512, 'Anomalies': 251, 'Anomalies Ratio(%)': 25.1}\n",
      "{'Samples': 1000, 'Features': 512, 'Anomalies': 242, 'Anomalies Ratio(%)': 24.2}\n",
      "{'Samples': 1000, 'Features': 512, 'Anomalies': 242, 'Anomalies Ratio(%)': 24.2}\n",
      "{'Samples': 1000, 'Features': 512, 'Anomalies': 308, 'Anomalies Ratio(%)': 30.8}\n",
      "{'Samples': 1000, 'Features': 512, 'Anomalies': 304, 'Anomalies Ratio(%)': 30.4}\n",
      "{'Samples': 1000, 'Features': 512, 'Anomalies': 294, 'Anomalies Ratio(%)': 29.4}\n",
      "{'Samples': 1000, 'Features': 512, 'Anomalies': 254, 'Anomalies Ratio(%)': 25.4}\n",
      "{'Samples': 1000, 'Features': 512, 'Anomalies': 227, 'Anomalies Ratio(%)': 22.7}\n",
      "{'Samples': 1000, 'Features': 512, 'Anomalies': 213, 'Anomalies Ratio(%)': 21.3}\n",
      "{'Samples': 1000, 'Features': 512, 'Anomalies': 180, 'Anomalies Ratio(%)': 18.0}\n",
      "{'Samples': 1000, 'Features': 512, 'Anomalies': 169, 'Anomalies Ratio(%)': 16.9}\n",
      "{'Samples': 1000, 'Features': 512, 'Anomalies': 174, 'Anomalies Ratio(%)': 17.4}\n",
      "{'Samples': 1000, 'Features': 512, 'Anomalies': 138, 'Anomalies Ratio(%)': 13.8}\n",
      "{'Samples': 1000, 'Features': 512, 'Anomalies': 160, 'Anomalies Ratio(%)': 16.0}\n",
      "{'Samples': 1000, 'Features': 512, 'Anomalies': 142, 'Anomalies Ratio(%)': 14.2}\n",
      "{'Samples': 1000, 'Features': 512, 'Anomalies': 259, 'Anomalies Ratio(%)': 25.9}\n",
      "{'Samples': 1000, 'Features': 512, 'Anomalies': 273, 'Anomalies Ratio(%)': 27.3}\n",
      "{'Samples': 1000, 'Features': 512, 'Anomalies': 246, 'Anomalies Ratio(%)': 24.6}\n",
      "{'Samples': 1000, 'Features': 512, 'Anomalies': 284, 'Anomalies Ratio(%)': 28.4}\n",
      "{'Samples': 1000, 'Features': 512, 'Anomalies': 283, 'Anomalies Ratio(%)': 28.3}\n",
      "{'Samples': 1000, 'Features': 512, 'Anomalies': 281, 'Anomalies Ratio(%)': 28.1}\n",
      "{'Samples': 1000, 'Features': 512, 'Anomalies': 314, 'Anomalies Ratio(%)': 31.4}\n",
      "{'Samples': 1000, 'Features': 512, 'Anomalies': 300, 'Anomalies Ratio(%)': 30.0}\n",
      "{'Samples': 1000, 'Features': 512, 'Anomalies': 326, 'Anomalies Ratio(%)': 32.6}\n",
      "{'Samples': 1000, 'Features': 512, 'Anomalies': 240, 'Anomalies Ratio(%)': 24.0}\n",
      "{'Samples': 1000, 'Features': 512, 'Anomalies': 244, 'Anomalies Ratio(%)': 24.4}\n",
      "{'Samples': 1000, 'Features': 512, 'Anomalies': 266, 'Anomalies Ratio(%)': 26.6}\n",
      "{'Samples': 1000, 'Features': 512, 'Anomalies': 227, 'Anomalies Ratio(%)': 22.7}\n",
      "{'Samples': 1000, 'Features': 512, 'Anomalies': 231, 'Anomalies Ratio(%)': 23.1}\n",
      "{'Samples': 1000, 'Features': 512, 'Anomalies': 252, 'Anomalies Ratio(%)': 25.2}\n",
      "{'Samples': 1000, 'Features': 512, 'Anomalies': 271, 'Anomalies Ratio(%)': 27.1}\n",
      "{'Samples': 1000, 'Features': 512, 'Anomalies': 285, 'Anomalies Ratio(%)': 28.5}\n",
      "{'Samples': 1000, 'Features': 512, 'Anomalies': 288, 'Anomalies Ratio(%)': 28.8}\n",
      "{'Samples': 1000, 'Features': 512, 'Anomalies': 115, 'Anomalies Ratio(%)': 11.5}\n",
      "{'Samples': 1000, 'Features': 512, 'Anomalies': 135, 'Anomalies Ratio(%)': 13.5}\n",
      "{'Samples': 1000, 'Features': 512, 'Anomalies': 114, 'Anomalies Ratio(%)': 11.4}\n",
      "{'Samples': 1000, 'Features': 512, 'Anomalies': 184, 'Anomalies Ratio(%)': 18.4}\n",
      "{'Samples': 1000, 'Features': 512, 'Anomalies': 189, 'Anomalies Ratio(%)': 18.9}\n",
      "{'Samples': 1000, 'Features': 512, 'Anomalies': 175, 'Anomalies Ratio(%)': 17.5}\n",
      "{'Samples': 1000, 'Features': 512, 'Anomalies': 305, 'Anomalies Ratio(%)': 30.5}\n",
      "{'Samples': 1000, 'Features': 512, 'Anomalies': 304, 'Anomalies Ratio(%)': 30.4}\n",
      "{'Samples': 1000, 'Features': 512, 'Anomalies': 320, 'Anomalies Ratio(%)': 32.0}\n",
      "{'Samples': 5208, 'Features': 512, 'Anomalies': 260, 'Anomalies Ratio(%)': 4.99}\n",
      "{'Samples': 5208, 'Features': 512, 'Anomalies': 260, 'Anomalies Ratio(%)': 4.99}\n",
      "{'Samples': 5208, 'Features': 512, 'Anomalies': 260, 'Anomalies Ratio(%)': 4.99}\n",
      "{'Samples': 10000, 'Features': 512, 'Anomalies': 500, 'Anomalies Ratio(%)': 5.0}\n",
      "{'Samples': 10000, 'Features': 512, 'Anomalies': 500, 'Anomalies Ratio(%)': 5.0}\n",
      "{'Samples': 10000, 'Features': 512, 'Anomalies': 500, 'Anomalies Ratio(%)': 5.0}\n",
      "{'Samples': 10000, 'Features': 512, 'Anomalies': 500, 'Anomalies Ratio(%)': 5.0}\n",
      "{'Samples': 10000, 'Features': 512, 'Anomalies': 500, 'Anomalies Ratio(%)': 5.0}\n",
      "{'Samples': 10000, 'Features': 512, 'Anomalies': 500, 'Anomalies Ratio(%)': 5.0}\n",
      "{'Samples': 8944, 'Features': 512, 'Anomalies': 447, 'Anomalies Ratio(%)': 5.0}\n",
      "{'Samples': 8944, 'Features': 512, 'Anomalies': 447, 'Anomalies Ratio(%)': 5.0}\n",
      "{'Samples': 8944, 'Features': 512, 'Anomalies': 447, 'Anomalies Ratio(%)': 5.0}\n",
      "{'Samples': 7850, 'Features': 512, 'Anomalies': 392, 'Anomalies Ratio(%)': 4.99}\n",
      "{'Samples': 7850, 'Features': 512, 'Anomalies': 392, 'Anomalies Ratio(%)': 4.99}\n",
      "{'Samples': 7850, 'Features': 512, 'Anomalies': 392, 'Anomalies Ratio(%)': 4.99}\n",
      "{'Samples': 7244, 'Features': 512, 'Anomalies': 362, 'Anomalies Ratio(%)': 5.0}\n",
      "{'Samples': 7244, 'Features': 512, 'Anomalies': 362, 'Anomalies Ratio(%)': 5.0}\n",
      "{'Samples': 7244, 'Features': 512, 'Anomalies': 362, 'Anomalies Ratio(%)': 5.0}\n",
      "{'Samples': 6028, 'Features': 512, 'Anomalies': 301, 'Anomalies Ratio(%)': 4.99}\n",
      "{'Samples': 6028, 'Features': 512, 'Anomalies': 301, 'Anomalies Ratio(%)': 4.99}\n",
      "{'Samples': 6028, 'Features': 512, 'Anomalies': 301, 'Anomalies Ratio(%)': 4.99}\n",
      "{'Samples': 5889, 'Features': 512, 'Anomalies': 294, 'Anomalies Ratio(%)': 4.99}\n",
      "{'Samples': 5889, 'Features': 512, 'Anomalies': 294, 'Anomalies Ratio(%)': 4.99}\n",
      "{'Samples': 5889, 'Features': 512, 'Anomalies': 294, 'Anomalies Ratio(%)': 4.99}\n",
      "{'Samples': 5310, 'Features': 512, 'Anomalies': 265, 'Anomalies Ratio(%)': 4.99}\n",
      "{'Samples': 5310, 'Features': 512, 'Anomalies': 265, 'Anomalies Ratio(%)': 4.99}\n",
      "{'Samples': 5310, 'Features': 512, 'Anomalies': 265, 'Anomalies Ratio(%)': 4.99}\n",
      "{'Samples': 4904, 'Features': 512, 'Anomalies': 245, 'Anomalies Ratio(%)': 5.0}\n",
      "{'Samples': 4904, 'Features': 512, 'Anomalies': 245, 'Anomalies Ratio(%)': 5.0}\n",
      "{'Samples': 4904, 'Features': 512, 'Anomalies': 245, 'Anomalies Ratio(%)': 5.0}\n",
      "{'Samples': 3090, 'Features': 768, 'Anomalies': 154, 'Anomalies Ratio(%)': 4.98}\n",
      "{'Samples': 3090, 'Features': 768, 'Anomalies': 154, 'Anomalies Ratio(%)': 4.98}\n",
      "{'Samples': 3090, 'Features': 768, 'Anomalies': 154, 'Anomalies Ratio(%)': 4.98}\n",
      "{'Samples': 2514, 'Features': 768, 'Anomalies': 125, 'Anomalies Ratio(%)': 4.97}\n",
      "{'Samples': 2514, 'Features': 768, 'Anomalies': 125, 'Anomalies Ratio(%)': 4.97}\n",
      "{'Samples': 2514, 'Features': 768, 'Anomalies': 125, 'Anomalies Ratio(%)': 4.97}\n",
      "{'Samples': 2497, 'Features': 768, 'Anomalies': 124, 'Anomalies Ratio(%)': 4.97}\n",
      "{'Samples': 2497, 'Features': 768, 'Anomalies': 124, 'Anomalies Ratio(%)': 4.97}\n",
      "{'Samples': 2497, 'Features': 768, 'Anomalies': 124, 'Anomalies Ratio(%)': 4.97}\n",
      "{'Samples': 1000, 'Features': 768, 'Anomalies': 40, 'Anomalies Ratio(%)': 4.0}\n",
      "{'Samples': 1000, 'Features': 768, 'Anomalies': 44, 'Anomalies Ratio(%)': 4.4}\n",
      "{'Samples': 1000, 'Features': 768, 'Anomalies': 44, 'Anomalies Ratio(%)': 4.4}\n",
      "{'Samples': 1657, 'Features': 768, 'Anomalies': 82, 'Anomalies Ratio(%)': 4.95}\n",
      "{'Samples': 1657, 'Features': 768, 'Anomalies': 82, 'Anomalies Ratio(%)': 4.95}\n",
      "{'Samples': 1657, 'Features': 768, 'Anomalies': 82, 'Anomalies Ratio(%)': 4.95}\n",
      "{'Samples': 1532, 'Features': 768, 'Anomalies': 76, 'Anomalies Ratio(%)': 4.96}\n",
      "{'Samples': 1532, 'Features': 768, 'Anomalies': 76, 'Anomalies Ratio(%)': 4.96}\n",
      "{'Samples': 1532, 'Features': 768, 'Anomalies': 76, 'Anomalies Ratio(%)': 4.96}\n",
      "{'Samples': 10000, 'Features': 768, 'Anomalies': 500, 'Anomalies Ratio(%)': 5.0}\n",
      "{'Samples': 10000, 'Features': 768, 'Anomalies': 500, 'Anomalies Ratio(%)': 5.0}\n",
      "{'Samples': 10000, 'Features': 768, 'Anomalies': 500, 'Anomalies Ratio(%)': 5.0}\n",
      "{'Samples': 10000, 'Features': 768, 'Anomalies': 500, 'Anomalies Ratio(%)': 5.0}\n",
      "{'Samples': 10000, 'Features': 768, 'Anomalies': 500, 'Anomalies Ratio(%)': 5.0}\n",
      "{'Samples': 10000, 'Features': 768, 'Anomalies': 500, 'Anomalies Ratio(%)': 5.0}\n",
      "{'Samples': 10000, 'Features': 768, 'Anomalies': 500, 'Anomalies Ratio(%)': 5.0}\n",
      "{'Samples': 10000, 'Features': 768, 'Anomalies': 500, 'Anomalies Ratio(%)': 5.0}\n",
      "{'Samples': 10000, 'Features': 768, 'Anomalies': 500, 'Anomalies Ratio(%)': 5.0}\n",
      "{'Samples': 10000, 'Features': 768, 'Anomalies': 500, 'Anomalies Ratio(%)': 5.0}\n",
      "{'Samples': 10000, 'Features': 768, 'Anomalies': 500, 'Anomalies Ratio(%)': 5.0}\n",
      "{'Samples': 10000, 'Features': 768, 'Anomalies': 500, 'Anomalies Ratio(%)': 5.0}\n",
      "{'Samples': 10000, 'Features': 768, 'Anomalies': 500, 'Anomalies Ratio(%)': 5.0}\n",
      "{'Samples': 10000, 'Features': 768, 'Anomalies': 500, 'Anomalies Ratio(%)': 5.0}\n",
      "{'Samples': 10000, 'Features': 768, 'Anomalies': 500, 'Anomalies Ratio(%)': 5.0}\n",
      "{'Samples': 10000, 'Features': 768, 'Anomalies': 500, 'Anomalies Ratio(%)': 5.0}\n",
      "{'Samples': 10000, 'Features': 768, 'Anomalies': 500, 'Anomalies Ratio(%)': 5.0}\n",
      "{'Samples': 10000, 'Features': 768, 'Anomalies': 500, 'Anomalies Ratio(%)': 5.0}\n",
      "{'Samples': 10000, 'Features': 768, 'Anomalies': 500, 'Anomalies Ratio(%)': 5.0}\n",
      "{'Samples': 10000, 'Features': 768, 'Anomalies': 500, 'Anomalies Ratio(%)': 5.0}\n",
      "{'Samples': 10000, 'Features': 768, 'Anomalies': 500, 'Anomalies Ratio(%)': 5.0}\n"
     ]
    },
    {
     "name": "stderr",
     "output_type": "stream",
     "text": [
      "0it [00:00, ?it/s]d:\\conda\\venv\\adbench\\Lib\\site-packages\\numpy\\lib\\function_base.py:2854: RuntimeWarning: invalid value encountered in divide\n",
      "  c /= stddev[:, None]\n",
      "d:\\conda\\venv\\adbench\\Lib\\site-packages\\numpy\\lib\\function_base.py:2855: RuntimeWarning: invalid value encountered in divide\n",
      "  c /= stddev[None, :]\n"
     ]
    },
    {
     "name": "stdout",
     "output_type": "stream",
     "text": [
      "{'Samples': 1000, 'Features': 512, 'Anomalies': 138, 'Anomalies Ratio(%)': 13.8}\n",
      "Train data shape after filter corrcoef:  (700, 497)\n",
      "epoch : 1000/6000, loss = 2.851553\n",
      "epoch : 2000/6000, loss = 2.009420\n",
      "epoch : 3000/6000, loss = 1.584001\n",
      "epoch : 4000/6000, loss = 1.519829\n",
      "epoch : 5000/6000, loss = 1.244703\n",
      "epoch : 6000/6000, loss = 1.027380\n"
     ]
    },
    {
     "name": "stderr",
     "output_type": "stream",
     "text": [
      "1it [03:29, 209.04s/it]"
     ]
    },
    {
     "name": "stdout",
     "output_type": "stream",
     "text": [
      "Current experiment parameters: ('MVTec-AD_hazelnut', 0.0, 1), model: Customized, metrics: {'aucroc': 0.5622940013183916, 'aucpr': 0.2731238904797456}, fitting time: 208.71407747268677, inference time: 0.0019948482513427734\n",
      "{'Samples': 1000, 'Features': 13, 'Anomalies': 75, 'Anomalies Ratio(%)': 7.5}\n",
      "Train data shape after filter corrcoef:  (700, 13)\n",
      "epoch : 1000/6000, loss = 0.207535\n",
      "epoch : 2000/6000, loss = 0.142056\n",
      "epoch : 3000/6000, loss = 0.112448\n",
      "epoch : 4000/6000, loss = 0.091414\n",
      "epoch : 5000/6000, loss = 0.084034\n",
      "epoch : 6000/6000, loss = 0.073958\n"
     ]
    },
    {
     "name": "stderr",
     "output_type": "stream",
     "text": [
      "25it [06:17, 12.76s/it]"
     ]
    },
    {
     "name": "stdout",
     "output_type": "stream",
     "text": [
      "Current experiment parameters: ('45_wine', 0.0, 1), model: Customized, metrics: {'aucroc': 0.5393187882593, 'aucpr': 0.09123487672077912}, fitting time: 168.589289188385, inference time: 0.0009975433349609375\n",
      "{'Samples': 1000, 'Features': 13, 'Anomalies': 80, 'Anomalies Ratio(%)': 8.0}\n",
      "Train data shape after filter corrcoef:  (700, 13)\n",
      "epoch : 1000/6000, loss = 0.147162\n",
      "epoch : 2000/6000, loss = 0.117192\n",
      "epoch : 3000/6000, loss = 0.099919\n",
      "epoch : 4000/6000, loss = 0.089437\n",
      "epoch : 5000/6000, loss = 0.082366\n",
      "epoch : 6000/6000, loss = 0.075180\n"
     ]
    },
    {
     "name": "stderr",
     "output_type": "stream",
     "text": [
      "26it [09:05, 21.20s/it]"
     ]
    },
    {
     "name": "stdout",
     "output_type": "stream",
     "text": [
      "Current experiment parameters: ('45_wine', 0.0, 2), model: Customized, metrics: {'aucroc': 0.42768719806763283, 'aucpr': 0.07330443417260948}, fitting time: 166.9416949748993, inference time: 0.000997304916381836\n",
      "{'Samples': 1000, 'Features': 13, 'Anomalies': 88, 'Anomalies Ratio(%)': 8.8}\n",
      "Train data shape after filter corrcoef:  (700, 13)\n",
      "epoch : 1000/6000, loss = 0.146982\n",
      "epoch : 2000/6000, loss = 0.116274\n",
      "epoch : 3000/6000, loss = 0.096068\n",
      "epoch : 4000/6000, loss = 0.088913\n",
      "epoch : 5000/6000, loss = 0.078828\n",
      "epoch : 6000/6000, loss = 0.072598\n"
     ]
    },
    {
     "name": "stderr",
     "output_type": "stream",
     "text": [
      "27it [11:54, 31.93s/it]"
     ]
    },
    {
     "name": "stdout",
     "output_type": "stream",
     "text": [
      "Current experiment parameters: ('45_wine', 0.0, 3), model: Customized, metrics: {'aucroc': 0.47459292532285235, 'aucpr': 0.0884064133036601}, fitting time: 169.0311074256897, inference time: 0.001994609832763672\n",
      "{'Samples': 1000, 'Features': 6, 'Anomalies': 123, 'Anomalies Ratio(%)': 12.3}\n",
      "Train data shape after filter corrcoef:  (700, 6)\n",
      "epoch : 1000/6000, loss = 0.041454\n",
      "epoch : 2000/6000, loss = 0.037880\n",
      "epoch : 3000/6000, loss = 0.037831\n",
      "epoch : 4000/6000, loss = 0.036634\n",
      "epoch : 5000/6000, loss = 0.036816\n",
      "epoch : 6000/6000, loss = 0.035694\n"
     ]
    },
    {
     "name": "stderr",
     "output_type": "stream",
     "text": [
      "49it [14:43, 15.07s/it]"
     ]
    },
    {
     "name": "stdout",
     "output_type": "stream",
     "text": [
      "Current experiment parameters: ('39_vertebral', 0.0, 1), model: Customized, metrics: {'aucroc': 0.43243243243243246, 'aucpr': 0.1046600753870079}, fitting time: 168.39580607414246, inference time: 0.000997304916381836\n",
      "{'Samples': 1000, 'Features': 6, 'Anomalies': 138, 'Anomalies Ratio(%)': 13.8}\n",
      "Train data shape after filter corrcoef:  (700, 6)\n",
      "epoch : 1000/6000, loss = 0.065113\n",
      "epoch : 2000/6000, loss = 0.061004\n",
      "epoch : 3000/6000, loss = 0.040509\n",
      "epoch : 4000/6000, loss = 0.038384\n",
      "epoch : 5000/6000, loss = 0.038246\n",
      "epoch : 6000/6000, loss = 0.036801\n"
     ]
    },
    {
     "name": "stderr",
     "output_type": "stream",
     "text": [
      "50it [17:29, 21.60s/it]"
     ]
    },
    {
     "name": "stdout",
     "output_type": "stream",
     "text": [
      "Current experiment parameters: ('39_vertebral', 0.0, 2), model: Customized, metrics: {'aucroc': 0.48931161126283074, 'aucpr': 0.12669755057346427}, fitting time: 165.9732825756073, inference time: 0.000997304916381836\n",
      "{'Samples': 1000, 'Features': 6, 'Anomalies': 133, 'Anomalies Ratio(%)': 13.3}\n",
      "Train data shape after filter corrcoef:  (700, 6)\n",
      "epoch : 1000/6000, loss = 0.065846\n",
      "epoch : 2000/6000, loss = 0.064147\n",
      "epoch : 3000/6000, loss = 0.043941\n",
      "epoch : 4000/6000, loss = 0.039384\n",
      "epoch : 5000/6000, loss = 0.037413\n",
      "epoch : 6000/6000, loss = 0.037188\n"
     ]
    },
    {
     "name": "stderr",
     "output_type": "stream",
     "text": [
      "51it [20:16, 30.04s/it]"
     ]
    },
    {
     "name": "stdout",
     "output_type": "stream",
     "text": [
      "Current experiment parameters: ('39_vertebral', 0.0, 3), model: Customized, metrics: {'aucroc': 0.49250000000000005, 'aucpr': 0.1364485215187456}, fitting time: 166.61955642700195, inference time: 0.0009968280792236328\n",
      "{'Samples': 1000, 'Features': 33, 'Anomalies': 239, 'Anomalies Ratio(%)': 23.9}\n",
      "Train data shape after filter corrcoef:  (700, 29)\n",
      "epoch : 1000/6000, loss = 0.260634\n",
      "epoch : 2000/6000, loss = 0.193783\n",
      "epoch : 3000/6000, loss = 0.161752\n",
      "epoch : 4000/6000, loss = 0.139856\n",
      "epoch : 5000/6000, loss = 0.125483\n",
      "epoch : 6000/6000, loss = 0.111813\n"
     ]
    },
    {
     "name": "stderr",
     "output_type": "stream",
     "text": [
      "73it [23:06, 15.63s/it]"
     ]
    },
    {
     "name": "stdout",
     "output_type": "stream",
     "text": [
      "Current experiment parameters: ('46_WPBC', 0.0, 1), model: Customized, metrics: {'aucroc': 0.5852826510721247, 'aucpr': 0.2918408375240323}, fitting time: 169.98854851722717, inference time: 0.0009980201721191406\n",
      "{'Samples': 1000, 'Features': 33, 'Anomalies': 224, 'Anomalies Ratio(%)': 22.4}\n",
      "Train data shape after filter corrcoef:  (700, 29)\n",
      "epoch : 1000/6000, loss = 0.315867\n",
      "epoch : 2000/6000, loss = 0.228074\n",
      "epoch : 3000/6000, loss = 0.167544\n",
      "epoch : 4000/6000, loss = 0.145002\n",
      "epoch : 5000/6000, loss = 0.118337\n",
      "epoch : 6000/6000, loss = 0.100819\n"
     ]
    },
    {
     "name": "stderr",
     "output_type": "stream",
     "text": [
      "74it [25:57, 21.89s/it]"
     ]
    },
    {
     "name": "stdout",
     "output_type": "stream",
     "text": [
      "Current experiment parameters: ('46_WPBC', 0.0, 2), model: Customized, metrics: {'aucroc': 0.5646018832874256, 'aucpr': 0.28097460999393753}, fitting time: 170.68266487121582, inference time: 0.0009975433349609375\n",
      "{'Samples': 1000, 'Features': 33, 'Anomalies': 225, 'Anomalies Ratio(%)': 22.5}\n",
      "Train data shape after filter corrcoef:  (700, 29)\n",
      "epoch : 1000/6000, loss = 0.359800\n",
      "epoch : 2000/6000, loss = 0.217619\n",
      "epoch : 3000/6000, loss = 0.176784\n",
      "epoch : 4000/6000, loss = 0.144758\n",
      "epoch : 5000/6000, loss = 0.125735\n",
      "epoch : 6000/6000, loss = 0.108122\n"
     ]
    },
    {
     "name": "stderr",
     "output_type": "stream",
     "text": [
      "75it [28:46, 29.88s/it]"
     ]
    },
    {
     "name": "stdout",
     "output_type": "stream",
     "text": [
      "Current experiment parameters: ('46_WPBC', 0.0, 3), model: Customized, metrics: {'aucroc': 0.6866759634888437, 'aucpr': 0.4607974331354719}, fitting time: 168.61219668388367, inference time: 0.0019943714141845703\n",
      "{'Samples': 1000, 'Features': 9, 'Anomalies': 90, 'Anomalies Ratio(%)': 9.0}\n",
      "Train data shape after filter corrcoef:  (700, 9)\n",
      "epoch : 1000/6000, loss = 0.089442\n",
      "epoch : 2000/6000, loss = 0.077393\n",
      "epoch : 3000/6000, loss = 0.050228\n",
      "epoch : 4000/6000, loss = 0.041370\n",
      "epoch : 5000/6000, loss = 0.038593\n",
      "epoch : 6000/6000, loss = 0.036241\n"
     ]
    },
    {
     "name": "stderr",
     "output_type": "stream",
     "text": [
      "97it [31:32, 15.80s/it]"
     ]
    },
    {
     "name": "stdout",
     "output_type": "stream",
     "text": [
      "Current experiment parameters: ('37_Stamps', 0.0, 1), model: Customized, metrics: {'aucroc': 0.6446886446886446, 'aucpr': 0.12186614783555001}, fitting time: 166.2614884376526, inference time: 0.000997304916381836\n",
      "{'Samples': 1000, 'Features': 9, 'Anomalies': 95, 'Anomalies Ratio(%)': 9.5}\n",
      "Train data shape after filter corrcoef:  (700, 9)\n",
      "epoch : 1000/6000, loss = 0.148303\n",
      "epoch : 2000/6000, loss = 0.094358\n",
      "epoch : 3000/6000, loss = 0.082231\n",
      "epoch : 4000/6000, loss = 0.061423\n",
      "epoch : 5000/6000, loss = 0.050388\n",
      "epoch : 6000/6000, loss = 0.044660\n"
     ]
    },
    {
     "name": "stderr",
     "output_type": "stream",
     "text": [
      "98it [34:19, 21.73s/it]"
     ]
    },
    {
     "name": "stdout",
     "output_type": "stream",
     "text": [
      "Current experiment parameters: ('37_Stamps', 0.0, 2), model: Customized, metrics: {'aucroc': 0.5832457983193278, 'aucpr': 0.12285805969299615}, fitting time: 166.18269848823547, inference time: 0.000997304916381836\n",
      "{'Samples': 1000, 'Features': 9, 'Anomalies': 100, 'Anomalies Ratio(%)': 10.0}\n",
      "Train data shape after filter corrcoef:  (700, 9)\n",
      "epoch : 1000/6000, loss = 0.087669\n",
      "epoch : 2000/6000, loss = 0.047943\n",
      "epoch : 3000/6000, loss = 0.042324\n",
      "epoch : 4000/6000, loss = 0.039769\n",
      "epoch : 5000/6000, loss = 0.036912\n",
      "epoch : 6000/6000, loss = 0.036655\n"
     ]
    },
    {
     "name": "stderr",
     "output_type": "stream",
     "text": [
      "99it [37:05, 29.43s/it]"
     ]
    },
    {
     "name": "stdout",
     "output_type": "stream",
     "text": [
      "Current experiment parameters: ('37_Stamps', 0.0, 3), model: Customized, metrics: {'aucroc': 0.6732098765432099, 'aucpr': 0.1856656491222175}, fitting time: 165.96527647972107, inference time: 0.0009975433349609375\n",
      "{'Samples': 1000, 'Features': 9, 'Anomalies': 348, 'Anomalies Ratio(%)': 34.8}\n",
      "Train data shape after filter corrcoef:  (700, 9)\n",
      "epoch : 1000/6000, loss = 0.197136\n",
      "epoch : 2000/6000, loss = 0.144073\n",
      "epoch : 3000/6000, loss = 0.130955\n",
      "epoch : 4000/6000, loss = 0.122818\n",
      "epoch : 5000/6000, loss = 0.117572\n",
      "epoch : 6000/6000, loss = 0.114244\n"
     ]
    },
    {
     "name": "stderr",
     "output_type": "stream",
     "text": [
      "121it [39:59, 15.96s/it]"
     ]
    },
    {
     "name": "stdout",
     "output_type": "stream",
     "text": [
      "Current experiment parameters: ('4_breastw', 0.0, 1), model: Customized, metrics: {'aucroc': 0.9250392464678179, 'aucpr': 0.864324251136127}, fitting time: 173.57695531845093, inference time: 0.0020020008087158203\n",
      "{'Samples': 1000, 'Features': 9, 'Anomalies': 336, 'Anomalies Ratio(%)': 33.6}\n",
      "Train data shape after filter corrcoef:  (700, 9)\n",
      "epoch : 1000/6000, loss = 0.210052\n",
      "epoch : 2000/6000, loss = 0.133903\n",
      "epoch : 3000/6000, loss = 0.116350\n",
      "epoch : 4000/6000, loss = 0.103495\n",
      "epoch : 5000/6000, loss = 0.099072\n",
      "epoch : 6000/6000, loss = 0.092153\n"
     ]
    },
    {
     "name": "stderr",
     "output_type": "stream",
     "text": [
      "122it [42:49, 21.96s/it]"
     ]
    },
    {
     "name": "stdout",
     "output_type": "stream",
     "text": [
      "Current experiment parameters: ('4_breastw', 0.0, 2), model: Customized, metrics: {'aucroc': 0.92765809244241, 'aucpr': 0.8036013453166129}, fitting time: 169.45198392868042, inference time: 0.0009987354278564453\n",
      "{'Samples': 1000, 'Features': 9, 'Anomalies': 364, 'Anomalies Ratio(%)': 36.4}\n",
      "Train data shape after filter corrcoef:  (700, 9)\n",
      "epoch : 1000/6000, loss = 0.212244\n",
      "epoch : 2000/6000, loss = 0.191797\n",
      "epoch : 3000/6000, loss = 0.180760\n",
      "epoch : 4000/6000, loss = 0.139035\n",
      "epoch : 5000/6000, loss = 0.121403\n",
      "epoch : 6000/6000, loss = 0.106186\n"
     ]
    },
    {
     "name": "stderr",
     "output_type": "stream",
     "text": [
      "123it [45:36, 29.64s/it]"
     ]
    },
    {
     "name": "stdout",
     "output_type": "stream",
     "text": [
      "Current experiment parameters: ('4_breastw', 0.0, 3), model: Customized, metrics: {'aucroc': 0.9277582977088237, 'aucpr': 0.8373867995456518}, fitting time: 167.07334184646606, inference time: 0.001994609832763672\n",
      "{'Samples': 1000, 'Features': 768, 'Anomalies': 40, 'Anomalies Ratio(%)': 4.0}\n",
      "Train data shape after filter corrcoef:  (700, 741)\n",
      "epoch : 1000/6000, loss = 3.799639\n",
      "epoch : 2000/6000, loss = 2.943581\n",
      "epoch : 3000/6000, loss = 2.374110\n",
      "epoch : 4000/6000, loss = 2.066646\n",
      "epoch : 5000/6000, loss = 1.950200\n",
      "epoch : 6000/6000, loss = 1.711503\n"
     ]
    },
    {
     "name": "stderr",
     "output_type": "stream",
     "text": [
      "145it [49:32, 17.82s/it]"
     ]
    },
    {
     "name": "stdout",
     "output_type": "stream",
     "text": [
      "Current experiment parameters: ('20news_3', 0.0, 1), model: Customized, metrics: {'aucroc': 0.677662037037037, 'aucpr': 0.10351968206157926}, fitting time: 235.27887320518494, inference time: 0.002994060516357422\n",
      "{'Samples': 1000, 'Features': 512, 'Anomalies': 180, 'Anomalies Ratio(%)': 18.0}\n"
     ]
    },
    {
     "name": "stderr",
     "output_type": "stream",
     "text": [
      "d:\\conda\\venv\\adbench\\Lib\\site-packages\\numpy\\lib\\function_base.py:2854: RuntimeWarning: invalid value encountered in divide\n",
      "  c /= stddev[:, None]\n",
      "d:\\conda\\venv\\adbench\\Lib\\site-packages\\numpy\\lib\\function_base.py:2855: RuntimeWarning: invalid value encountered in divide\n",
      "  c /= stddev[None, :]\n"
     ]
    },
    {
     "name": "stdout",
     "output_type": "stream",
     "text": [
      "Train data shape after filter corrcoef:  (700, 490)\n",
      "epoch : 1000/6000, loss = 1.891340\n",
      "epoch : 2000/6000, loss = 1.147596\n",
      "epoch : 3000/6000, loss = 0.841710\n",
      "epoch : 4000/6000, loss = 0.707241\n",
      "epoch : 5000/6000, loss = 0.638917\n",
      "epoch : 6000/6000, loss = 0.552191\n"
     ]
    },
    {
     "name": "stderr",
     "output_type": "stream",
     "text": [
      "169it [53:03, 13.38s/it]"
     ]
    },
    {
     "name": "stdout",
     "output_type": "stream",
     "text": [
      "Current experiment parameters: ('MVTec-AD_grid', 0.0, 1), model: Customized, metrics: {'aucroc': 0.5049683830171635, 'aucpr': 0.302040678200424}, fitting time: 211.3838815689087, inference time: 0.0019960403442382812\n",
      "{'Samples': 1000, 'Features': 512, 'Anomalies': 305, 'Anomalies Ratio(%)': 30.5}\n"
     ]
    },
    {
     "name": "stderr",
     "output_type": "stream",
     "text": [
      "d:\\conda\\venv\\adbench\\Lib\\site-packages\\numpy\\lib\\function_base.py:2854: RuntimeWarning: invalid value encountered in divide\n",
      "  c /= stddev[:, None]\n",
      "d:\\conda\\venv\\adbench\\Lib\\site-packages\\numpy\\lib\\function_base.py:2855: RuntimeWarning: invalid value encountered in divide\n",
      "  c /= stddev[None, :]\n"
     ]
    },
    {
     "name": "stdout",
     "output_type": "stream",
     "text": [
      "Train data shape after filter corrcoef:  (700, 493)\n",
      "epoch : 1000/6000, loss = 1.693318\n",
      "epoch : 2000/6000, loss = 1.170397\n",
      "epoch : 3000/6000, loss = 0.866703\n",
      "epoch : 4000/6000, loss = 0.734251\n",
      "epoch : 5000/6000, loss = 0.633386\n",
      "epoch : 6000/6000, loss = 0.568105\n"
     ]
    },
    {
     "name": "stderr",
     "output_type": "stream",
     "text": [
      "193it [56:30, 11.42s/it]"
     ]
    },
    {
     "name": "stdout",
     "output_type": "stream",
     "text": [
      "Current experiment parameters: ('MVTec-AD_zipper', 0.0, 1), model: Customized, metrics: {'aucroc': 0.7714916662285083, 'aucpr': 0.5742450297191437}, fitting time: 206.93577313423157, inference time: 0.001994609832763672\n",
      "{'Samples': 1000, 'Features': 512, 'Anomalies': 184, 'Anomalies Ratio(%)': 18.4}\n"
     ]
    },
    {
     "name": "stderr",
     "output_type": "stream",
     "text": [
      "d:\\conda\\venv\\adbench\\Lib\\site-packages\\numpy\\lib\\function_base.py:2854: RuntimeWarning: invalid value encountered in divide\n",
      "  c /= stddev[:, None]\n",
      "d:\\conda\\venv\\adbench\\Lib\\site-packages\\numpy\\lib\\function_base.py:2855: RuntimeWarning: invalid value encountered in divide\n",
      "  c /= stddev[None, :]\n"
     ]
    },
    {
     "name": "stdout",
     "output_type": "stream",
     "text": [
      "Train data shape after filter corrcoef:  (700, 485)\n",
      "epoch : 1000/6000, loss = 1.666636\n",
      "epoch : 2000/6000, loss = 1.118659\n",
      "epoch : 3000/6000, loss = 0.892442\n",
      "epoch : 4000/6000, loss = 0.792434\n",
      "epoch : 5000/6000, loss = 0.654058\n",
      "epoch : 6000/6000, loss = 0.625547\n"
     ]
    },
    {
     "name": "stderr",
     "output_type": "stream",
     "text": [
      "217it [1:00:02, 10.45s/it]"
     ]
    },
    {
     "name": "stdout",
     "output_type": "stream",
     "text": [
      "Current experiment parameters: ('MVTec-AD_wood', 0.0, 1), model: Customized, metrics: {'aucroc': 0.3827829313543599, 'aucpr': 0.19126092130822647}, fitting time: 210.96415972709656, inference time: 0.001995563507080078\n",
      "{'Samples': 1000, 'Features': 8, 'Anomalies': 367, 'Anomalies Ratio(%)': 36.7}\n",
      "Train data shape after filter corrcoef:  (700, 8)\n",
      "epoch : 1000/6000, loss = 0.117243\n",
      "epoch : 2000/6000, loss = 0.102922\n",
      "epoch : 3000/6000, loss = 0.093192\n",
      "epoch : 4000/6000, loss = 0.074401\n",
      "epoch : 5000/6000, loss = 0.071801\n",
      "epoch : 6000/6000, loss = 0.069089\n"
     ]
    },
    {
     "name": "stderr",
     "output_type": "stream",
     "text": [
      "241it [1:02:49,  9.24s/it]"
     ]
    },
    {
     "name": "stdout",
     "output_type": "stream",
     "text": [
      "Current experiment parameters: ('29_Pima', 0.0, 1), model: Customized, metrics: {'aucroc': 0.6792822966507177, 'aucpr': 0.5405744831951966}, fitting time: 166.82101726531982, inference time: 0.0009975433349609375\n",
      "{'Samples': 1000, 'Features': 8, 'Anomalies': 346, 'Anomalies Ratio(%)': 34.6}\n",
      "Train data shape after filter corrcoef:  (700, 8)\n",
      "epoch : 1000/6000, loss = 0.163815\n",
      "epoch : 2000/6000, loss = 0.108368\n",
      "epoch : 3000/6000, loss = 0.102772\n",
      "epoch : 4000/6000, loss = 0.095601\n",
      "epoch : 5000/6000, loss = 0.092890\n",
      "epoch : 6000/6000, loss = 0.086514\n"
     ]
    },
    {
     "name": "stderr",
     "output_type": "stream",
     "text": [
      "242it [1:05:37, 12.46s/it]"
     ]
    },
    {
     "name": "stdout",
     "output_type": "stream",
     "text": [
      "Current experiment parameters: ('29_Pima', 0.0, 2), model: Customized, metrics: {'aucroc': 0.7377354788069075, 'aucpr': 0.5805453028161024}, fitting time: 168.3559033870697, inference time: 0.001994609832763672\n",
      "{'Samples': 1000, 'Features': 8, 'Anomalies': 308, 'Anomalies Ratio(%)': 30.8}\n",
      "Train data shape after filter corrcoef:  (700, 8)\n",
      "epoch : 1000/6000, loss = 0.111197\n",
      "epoch : 2000/6000, loss = 0.096453\n",
      "epoch : 3000/6000, loss = 0.092068\n",
      "epoch : 4000/6000, loss = 0.089030\n",
      "epoch : 5000/6000, loss = 0.086475\n",
      "epoch : 6000/6000, loss = 0.086788\n"
     ]
    },
    {
     "name": "stderr",
     "output_type": "stream",
     "text": [
      "243it [1:08:25, 16.81s/it]"
     ]
    },
    {
     "name": "stdout",
     "output_type": "stream",
     "text": [
      "Current experiment parameters: ('29_Pima', 0.0, 3), model: Customized, metrics: {'aucroc': 0.6998850334448161, 'aucpr': 0.4994398972223713}, fitting time: 167.13913774490356, inference time: 0.0009968280792236328\n",
      "{'Samples': 1000, 'Features': 512, 'Anomalies': 115, 'Anomalies Ratio(%)': 11.5}\n"
     ]
    },
    {
     "name": "stderr",
     "output_type": "stream",
     "text": [
      "d:\\conda\\venv\\adbench\\Lib\\site-packages\\numpy\\lib\\function_base.py:2854: RuntimeWarning: invalid value encountered in divide\n",
      "  c /= stddev[:, None]\n",
      "d:\\conda\\venv\\adbench\\Lib\\site-packages\\numpy\\lib\\function_base.py:2855: RuntimeWarning: invalid value encountered in divide\n",
      "  c /= stddev[None, :]\n"
     ]
    },
    {
     "name": "stdout",
     "output_type": "stream",
     "text": [
      "Train data shape after filter corrcoef:  (700, 476)\n",
      "epoch : 1000/6000, loss = 1.862775\n",
      "epoch : 2000/6000, loss = 1.387412\n",
      "epoch : 3000/6000, loss = 1.167984\n",
      "epoch : 4000/6000, loss = 0.953285\n",
      "epoch : 5000/6000, loss = 0.846174\n",
      "epoch : 6000/6000, loss = 0.716061\n"
     ]
    },
    {
     "name": "stderr",
     "output_type": "stream",
     "text": [
      "265it [1:11:53, 13.37s/it]"
     ]
    },
    {
     "name": "stdout",
     "output_type": "stream",
     "text": [
      "Current experiment parameters: ('MVTec-AD_transistor', 0.0, 1), model: Customized, metrics: {'aucroc': 0.5427493261455525, 'aucpr': 0.1465512750835221}, fitting time: 208.09866523742676, inference time: 0.002991914749145508\n",
      "{'Samples': 1000, 'Features': 512, 'Anomalies': 271, 'Anomalies Ratio(%)': 27.1}\n"
     ]
    },
    {
     "name": "stderr",
     "output_type": "stream",
     "text": [
      "d:\\conda\\venv\\adbench\\Lib\\site-packages\\numpy\\lib\\function_base.py:2854: RuntimeWarning: invalid value encountered in divide\n",
      "  c /= stddev[:, None]\n",
      "d:\\conda\\venv\\adbench\\Lib\\site-packages\\numpy\\lib\\function_base.py:2855: RuntimeWarning: invalid value encountered in divide\n",
      "  c /= stddev[None, :]\n"
     ]
    },
    {
     "name": "stdout",
     "output_type": "stream",
     "text": [
      "Train data shape after filter corrcoef:  (700, 423)\n",
      "epoch : 1000/6000, loss = 0.666822\n",
      "epoch : 2000/6000, loss = 0.410488\n",
      "epoch : 3000/6000, loss = 0.298231\n",
      "epoch : 4000/6000, loss = 0.236735\n",
      "epoch : 5000/6000, loss = 0.207390\n",
      "epoch : 6000/6000, loss = 0.177175\n"
     ]
    },
    {
     "name": "stderr",
     "output_type": "stream",
     "text": [
      "289it [1:15:21, 11.37s/it]"
     ]
    },
    {
     "name": "stdout",
     "output_type": "stream",
     "text": [
      "Current experiment parameters: ('MVTec-AD_toothbrush', 0.0, 1), model: Customized, metrics: {'aucroc': 0.3640565984553808, 'aucpr': 0.3240733764436598}, fitting time: 207.0753607749939, inference time: 0.0019943714141845703\n",
      "{'Samples': 1000, 'Features': 30, 'Anomalies': 26, 'Anomalies Ratio(%)': 2.6}\n",
      "Train data shape after filter corrcoef:  (700, 26)\n",
      "epoch : 1000/6000, loss = 0.198415\n",
      "epoch : 2000/6000, loss = 0.147747\n",
      "epoch : 3000/6000, loss = 0.136650\n",
      "epoch : 4000/6000, loss = 0.127019\n",
      "epoch : 5000/6000, loss = 0.120005\n",
      "epoch : 6000/6000, loss = 0.115960\n"
     ]
    },
    {
     "name": "stderr",
     "output_type": "stream",
     "text": [
      "313it [1:18:11,  9.77s/it]"
     ]
    },
    {
     "name": "stdout",
     "output_type": "stream",
     "text": [
      "Current experiment parameters: ('43_WDBC', 0.0, 1), model: Customized, metrics: {'aucroc': 0.358304794520548, 'aucpr': 0.031237383142052676}, fitting time: 170.28276371955872, inference time: 0.0009996891021728516\n",
      "{'Samples': 1000, 'Features': 30, 'Anomalies': 29, 'Anomalies Ratio(%)': 2.9}\n",
      "Train data shape after filter corrcoef:  (700, 26)\n",
      "epoch : 1000/6000, loss = 0.179207\n",
      "epoch : 2000/6000, loss = 0.146605\n",
      "epoch : 3000/6000, loss = 0.109914\n",
      "epoch : 4000/6000, loss = 0.101492\n",
      "epoch : 5000/6000, loss = 0.093565\n",
      "epoch : 6000/6000, loss = 0.087044\n"
     ]
    },
    {
     "name": "stderr",
     "output_type": "stream",
     "text": [
      "314it [1:21:00, 13.25s/it]"
     ]
    },
    {
     "name": "stdout",
     "output_type": "stream",
     "text": [
      "Current experiment parameters: ('43_WDBC', 0.0, 2), model: Customized, metrics: {'aucroc': 0.38907980145093546, 'aucpr': 0.026209821732804593}, fitting time: 168.34192323684692, inference time: 0.000997304916381836\n",
      "{'Samples': 1000, 'Features': 30, 'Anomalies': 27, 'Anomalies Ratio(%)': 2.7}\n",
      "Train data shape after filter corrcoef:  (700, 26)\n",
      "epoch : 1000/6000, loss = 0.158218\n",
      "epoch : 2000/6000, loss = 0.137114\n",
      "epoch : 3000/6000, loss = 0.112723\n",
      "epoch : 4000/6000, loss = 0.100566\n",
      "epoch : 5000/6000, loss = 0.092026\n",
      "epoch : 6000/6000, loss = 0.088837\n"
     ]
    },
    {
     "name": "stderr",
     "output_type": "stream",
     "text": [
      "315it [1:23:49, 17.97s/it]"
     ]
    },
    {
     "name": "stdout",
     "output_type": "stream",
     "text": [
      "Current experiment parameters: ('43_WDBC', 0.0, 3), model: Customized, metrics: {'aucroc': 0.4683219178082192, 'aucpr': 0.02821081570692828}, fitting time: 168.70099425315857, inference time: 0.000993967056274414\n",
      "{'Samples': 1000, 'Features': 512, 'Anomalies': 240, 'Anomalies Ratio(%)': 24.0}\n"
     ]
    },
    {
     "name": "stderr",
     "output_type": "stream",
     "text": [
      "d:\\conda\\venv\\adbench\\Lib\\site-packages\\numpy\\lib\\function_base.py:2854: RuntimeWarning: invalid value encountered in divide\n",
      "  c /= stddev[:, None]\n",
      "d:\\conda\\venv\\adbench\\Lib\\site-packages\\numpy\\lib\\function_base.py:2855: RuntimeWarning: invalid value encountered in divide\n",
      "  c /= stddev[None, :]\n"
     ]
    },
    {
     "name": "stdout",
     "output_type": "stream",
     "text": [
      "Train data shape after filter corrcoef:  (700, 511)\n",
      "epoch : 1000/6000, loss = 1.433454\n",
      "epoch : 2000/6000, loss = 1.044732\n",
      "epoch : 3000/6000, loss = 0.880562\n",
      "epoch : 4000/6000, loss = 0.759164\n",
      "epoch : 5000/6000, loss = 0.668723\n",
      "epoch : 6000/6000, loss = 0.612770\n"
     ]
    },
    {
     "name": "stderr",
     "output_type": "stream",
     "text": [
      "337it [1:27:24, 13.98s/it]"
     ]
    },
    {
     "name": "stdout",
     "output_type": "stream",
     "text": [
      "Current experiment parameters: ('MVTec-AD_screw', 0.0, 1), model: Customized, metrics: {'aucroc': 0.654909844054581, 'aucpr': 0.42696781328189753}, fitting time: 215.21153116226196, inference time: 0.001994609832763672\n",
      "{'Samples': 1000, 'Features': 512, 'Anomalies': 227, 'Anomalies Ratio(%)': 22.7}\n"
     ]
    },
    {
     "name": "stderr",
     "output_type": "stream",
     "text": [
      "d:\\conda\\venv\\adbench\\Lib\\site-packages\\numpy\\lib\\function_base.py:2854: RuntimeWarning: invalid value encountered in divide\n",
      "  c /= stddev[:, None]\n",
      "d:\\conda\\venv\\adbench\\Lib\\site-packages\\numpy\\lib\\function_base.py:2855: RuntimeWarning: invalid value encountered in divide\n",
      "  c /= stddev[None, :]\n"
     ]
    },
    {
     "name": "stdout",
     "output_type": "stream",
     "text": [
      "Train data shape after filter corrcoef:  (700, 503)\n",
      "epoch : 1000/6000, loss = 2.810582\n",
      "epoch : 2000/6000, loss = 2.009102\n",
      "epoch : 3000/6000, loss = 1.586475\n",
      "epoch : 4000/6000, loss = 1.341413\n",
      "epoch : 5000/6000, loss = 1.172622\n",
      "epoch : 6000/6000, loss = 0.976077\n"
     ]
    },
    {
     "name": "stderr",
     "output_type": "stream",
     "text": [
      "361it [1:30:55, 11.74s/it]"
     ]
    },
    {
     "name": "stdout",
     "output_type": "stream",
     "text": [
      "Current experiment parameters: ('MVTec-AD_tile', 0.0, 1), model: Customized, metrics: {'aucroc': 0.5432936105476673, 'aucpr': 0.3824510849973311}, fitting time: 210.6867160797119, inference time: 0.003003358840942383\n",
      "{'Samples': 1000, 'Features': 512, 'Anomalies': 251, 'Anomalies Ratio(%)': 25.1}\n"
     ]
    },
    {
     "name": "stderr",
     "output_type": "stream",
     "text": [
      "d:\\conda\\venv\\adbench\\Lib\\site-packages\\numpy\\lib\\function_base.py:2854: RuntimeWarning: invalid value encountered in divide\n",
      "  c /= stddev[:, None]\n",
      "d:\\conda\\venv\\adbench\\Lib\\site-packages\\numpy\\lib\\function_base.py:2855: RuntimeWarning: invalid value encountered in divide\n",
      "  c /= stddev[None, :]\n"
     ]
    },
    {
     "name": "stdout",
     "output_type": "stream",
     "text": [
      "Train data shape after filter corrcoef:  (700, 507)\n",
      "epoch : 1000/6000, loss = 3.116033\n",
      "epoch : 2000/6000, loss = 1.982693\n",
      "epoch : 3000/6000, loss = 1.412831\n",
      "epoch : 4000/6000, loss = 1.258615\n",
      "epoch : 5000/6000, loss = 1.079356\n",
      "epoch : 6000/6000, loss = 0.973997\n"
     ]
    },
    {
     "name": "stderr",
     "output_type": "stream",
     "text": [
      "385it [1:34:29, 10.66s/it]"
     ]
    },
    {
     "name": "stdout",
     "output_type": "stream",
     "text": [
      "Current experiment parameters: ('MVTec-AD_cable', 0.0, 1), model: Customized, metrics: {'aucroc': 0.5528888888888889, 'aucpr': 0.33262752107941224}, fitting time: 213.75952792167664, inference time: 0.001995563507080078\n",
      "{'Samples': 1000, 'Features': 512, 'Anomalies': 254, 'Anomalies Ratio(%)': 25.4}\n"
     ]
    },
    {
     "name": "stderr",
     "output_type": "stream",
     "text": [
      "d:\\conda\\venv\\adbench\\Lib\\site-packages\\numpy\\lib\\function_base.py:2854: RuntimeWarning: invalid value encountered in divide\n",
      "  c /= stddev[:, None]\n",
      "d:\\conda\\venv\\adbench\\Lib\\site-packages\\numpy\\lib\\function_base.py:2855: RuntimeWarning: invalid value encountered in divide\n",
      "  c /= stddev[None, :]\n"
     ]
    },
    {
     "name": "stdout",
     "output_type": "stream",
     "text": [
      "Train data shape after filter corrcoef:  (700, 480)\n",
      "epoch : 1000/6000, loss = 1.655297\n",
      "epoch : 2000/6000, loss = 1.207345\n",
      "epoch : 3000/6000, loss = 1.081252\n",
      "epoch : 4000/6000, loss = 0.984230\n",
      "epoch : 5000/6000, loss = 0.901851\n",
      "epoch : 6000/6000, loss = 0.788513\n"
     ]
    },
    {
     "name": "stderr",
     "output_type": "stream",
     "text": [
      "409it [1:37:54,  9.91s/it]"
     ]
    },
    {
     "name": "stdout",
     "output_type": "stream",
     "text": [
      "Current experiment parameters: ('MVTec-AD_carpet', 0.0, 1), model: Customized, metrics: {'aucroc': 0.5087523496240601, 'aucpr': 0.34024933965798193}, fitting time: 204.50028538703918, inference time: 0.001993417739868164\n",
      "{'Samples': 1000, 'Features': 512, 'Anomalies': 308, 'Anomalies Ratio(%)': 30.8}\n"
     ]
    },
    {
     "name": "stderr",
     "output_type": "stream",
     "text": [
      "d:\\conda\\venv\\adbench\\Lib\\site-packages\\numpy\\lib\\function_base.py:2854: RuntimeWarning: invalid value encountered in divide\n",
      "  c /= stddev[:, None]\n",
      "d:\\conda\\venv\\adbench\\Lib\\site-packages\\numpy\\lib\\function_base.py:2855: RuntimeWarning: invalid value encountered in divide\n",
      "  c /= stddev[None, :]\n"
     ]
    },
    {
     "name": "stdout",
     "output_type": "stream",
     "text": [
      "Train data shape after filter corrcoef:  (700, 500)\n",
      "epoch : 1000/6000, loss = 0.952539\n",
      "epoch : 2000/6000, loss = 0.680353\n",
      "epoch : 3000/6000, loss = 0.591214\n",
      "epoch : 4000/6000, loss = 0.547534\n",
      "epoch : 5000/6000, loss = 0.479731\n",
      "epoch : 6000/6000, loss = 0.421386\n"
     ]
    },
    {
     "name": "stderr",
     "output_type": "stream",
     "text": [
      "433it [1:41:25,  9.53s/it]"
     ]
    },
    {
     "name": "stdout",
     "output_type": "stream",
     "text": [
      "Current experiment parameters: ('MVTec-AD_capsule', 0.0, 1), model: Customized, metrics: {'aucroc': 0.6077550167224081, 'aucpr': 0.514416726917701}, fitting time: 210.5291609764099, inference time: 0.001994609832763672\n",
      "{'Samples': 1000, 'Features': 7, 'Anomalies': 42, 'Anomalies Ratio(%)': 4.2}\n",
      "Train data shape after filter corrcoef:  (700, 7)\n",
      "epoch : 1000/6000, loss = 0.058341\n",
      "epoch : 2000/6000, loss = 0.045733\n",
      "epoch : 3000/6000, loss = 0.042273\n",
      "epoch : 4000/6000, loss = 0.038742\n",
      "epoch : 5000/6000, loss = 0.035523\n",
      "epoch : 6000/6000, loss = 0.031973\n"
     ]
    },
    {
     "name": "stderr",
     "output_type": "stream",
     "text": [
      "457it [1:44:10,  8.67s/it]"
     ]
    },
    {
     "name": "stdout",
     "output_type": "stream",
     "text": [
      "Current experiment parameters: ('14_glass', 0.0, 1), model: Customized, metrics: {'aucroc': 0.7933529884749396, 'aucpr': 0.1131637694893772}, fitting time: 164.78648710250854, inference time: 0.0019736289978027344\n",
      "{'Samples': 1000, 'Features': 7, 'Anomalies': 42, 'Anomalies Ratio(%)': 4.2}\n",
      "Train data shape after filter corrcoef:  (700, 7)\n",
      "epoch : 1000/6000, loss = 0.075397\n",
      "epoch : 2000/6000, loss = 0.069876\n",
      "epoch : 3000/6000, loss = 0.066302\n",
      "epoch : 4000/6000, loss = 0.036961\n",
      "epoch : 5000/6000, loss = 0.029054\n",
      "epoch : 6000/6000, loss = 0.026658\n"
     ]
    },
    {
     "name": "stderr",
     "output_type": "stream",
     "text": [
      "458it [1:46:53, 11.59s/it]"
     ]
    },
    {
     "name": "stdout",
     "output_type": "stream",
     "text": [
      "Current experiment parameters: ('14_glass', 0.0, 2), model: Customized, metrics: {'aucroc': 0.7743232377378719, 'aucpr': 0.103974720001403}, fitting time: 162.50353026390076, inference time: 0.001994609832763672\n",
      "{'Samples': 1000, 'Features': 7, 'Anomalies': 34, 'Anomalies Ratio(%)': 3.4}\n",
      "Train data shape after filter corrcoef:  (700, 7)\n",
      "epoch : 1000/6000, loss = 0.073380\n",
      "epoch : 2000/6000, loss = 0.060962\n",
      "epoch : 3000/6000, loss = 0.043704\n",
      "epoch : 4000/6000, loss = 0.036479\n",
      "epoch : 5000/6000, loss = 0.029373\n",
      "epoch : 6000/6000, loss = 0.026767\n"
     ]
    },
    {
     "name": "stderr",
     "output_type": "stream",
     "text": [
      "459it [1:49:38, 15.62s/it]"
     ]
    },
    {
     "name": "stdout",
     "output_type": "stream",
     "text": [
      "Current experiment parameters: ('14_glass', 0.0, 3), model: Customized, metrics: {'aucroc': 0.7296551724137932, 'aucpr': 0.09615889901259941}, fitting time: 164.52312994003296, inference time: 0.0009989738464355469\n",
      "{'Samples': 1000, 'Features': 19, 'Anomalies': 170, 'Anomalies Ratio(%)': 17.0}\n",
      "Train data shape after filter corrcoef:  (700, 19)\n",
      "epoch : 1000/6000, loss = 0.117835\n",
      "epoch : 2000/6000, loss = 0.071770\n",
      "epoch : 3000/6000, loss = 0.066092\n",
      "epoch : 4000/6000, loss = 0.060001\n",
      "epoch : 5000/6000, loss = 0.055735\n",
      "epoch : 6000/6000, loss = 0.052179\n"
     ]
    },
    {
     "name": "stderr",
     "output_type": "stream",
     "text": [
      "481it [1:52:31, 12.12s/it]"
     ]
    },
    {
     "name": "stdout",
     "output_type": "stream",
     "text": [
      "Current experiment parameters: ('15_Hepatitis', 0.0, 1), model: Customized, metrics: {'aucroc': 0.3870383494763367, 'aucpr': 0.1606447042219722}, fitting time: 173.16702270507812, inference time: 0.001994609832763672\n",
      "{'Samples': 1000, 'Features': 19, 'Anomalies': 139, 'Anomalies Ratio(%)': 13.9}\n",
      "Train data shape after filter corrcoef:  (700, 19)\n",
      "epoch : 1000/6000, loss = 0.139459\n",
      "epoch : 2000/6000, loss = 0.079724\n",
      "epoch : 3000/6000, loss = 0.066727\n",
      "epoch : 4000/6000, loss = 0.067325\n",
      "epoch : 5000/6000, loss = 0.054915\n",
      "epoch : 6000/6000, loss = 0.056865\n"
     ]
    },
    {
     "name": "stderr",
     "output_type": "stream",
     "text": [
      "482it [1:55:25, 16.74s/it]"
     ]
    },
    {
     "name": "stdout",
     "output_type": "stream",
     "text": [
      "Current experiment parameters: ('15_Hepatitis', 0.0, 2), model: Customized, metrics: {'aucroc': 0.4570874861572536, 'aucpr': 0.12108173022664469}, fitting time: 173.68162035942078, inference time: 0.000997781753540039\n",
      "{'Samples': 1000, 'Features': 19, 'Anomalies': 169, 'Anomalies Ratio(%)': 16.9}\n",
      "Train data shape after filter corrcoef:  (700, 19)\n",
      "epoch : 1000/6000, loss = 0.169931\n",
      "epoch : 2000/6000, loss = 0.095552\n",
      "epoch : 3000/6000, loss = 0.074054\n",
      "epoch : 4000/6000, loss = 0.060451\n",
      "epoch : 5000/6000, loss = 0.058721\n",
      "epoch : 6000/6000, loss = 0.052946\n"
     ]
    },
    {
     "name": "stderr",
     "output_type": "stream",
     "text": [
      "483it [1:58:20, 22.94s/it]"
     ]
    },
    {
     "name": "stdout",
     "output_type": "stream",
     "text": [
      "Current experiment parameters: ('15_Hepatitis', 0.0, 3), model: Customized, metrics: {'aucroc': 0.5085439798409324, 'aucpr': 0.1986872457294778}, fitting time: 174.68100357055664, inference time: 0.001994609832763672\n",
      "{'Samples': 1000, 'Features': 512, 'Anomalies': 314, 'Anomalies Ratio(%)': 31.4}\n"
     ]
    },
    {
     "name": "stderr",
     "output_type": "stream",
     "text": [
      "d:\\conda\\venv\\adbench\\Lib\\site-packages\\numpy\\lib\\function_base.py:2854: RuntimeWarning: invalid value encountered in divide\n",
      "  c /= stddev[:, None]\n",
      "d:\\conda\\venv\\adbench\\Lib\\site-packages\\numpy\\lib\\function_base.py:2855: RuntimeWarning: invalid value encountered in divide\n",
      "  c /= stddev[None, :]\n"
     ]
    },
    {
     "name": "stdout",
     "output_type": "stream",
     "text": [
      "Train data shape after filter corrcoef:  (700, 502)\n",
      "epoch : 1000/6000, loss = 1.934752\n",
      "epoch : 2000/6000, loss = 1.283871\n",
      "epoch : 3000/6000, loss = 1.059658\n",
      "epoch : 4000/6000, loss = 0.830164\n",
      "epoch : 5000/6000, loss = 0.761232\n",
      "epoch : 6000/6000, loss = 0.765960\n"
     ]
    },
    {
     "name": "stderr",
     "output_type": "stream",
     "text": [
      "505it [2:01:47, 15.47s/it]"
     ]
    },
    {
     "name": "stdout",
     "output_type": "stream",
     "text": [
      "Current experiment parameters: ('MVTec-AD_pill', 0.0, 1), model: Customized, metrics: {'aucroc': 0.6361288989878123, 'aucpr': 0.4847750172645183}, fitting time: 206.67846012115479, inference time: 0.0029921531677246094\n",
      "{'Samples': 1000, 'Features': 9, 'Anomalies': 35, 'Anomalies Ratio(%)': 3.5}\n",
      "Train data shape after filter corrcoef:  (700, 9)\n",
      "epoch : 1000/6000, loss = 0.138048\n",
      "epoch : 2000/6000, loss = 0.132669\n",
      "epoch : 3000/6000, loss = 0.097658\n",
      "epoch : 4000/6000, loss = 0.078579\n",
      "epoch : 5000/6000, loss = 0.073284\n",
      "epoch : 6000/6000, loss = 0.059381\n"
     ]
    },
    {
     "name": "stderr",
     "output_type": "stream",
     "text": [
      "529it [2:04:34, 11.54s/it]"
     ]
    },
    {
     "name": "stdout",
     "output_type": "stream",
     "text": [
      "Current experiment parameters: ('42_WBC', 0.0, 1), model: Customized, metrics: {'aucroc': 0.8479310344827586, 'aucpr': 0.2749741987535539}, fitting time: 166.8179965019226, inference time: 0.0009975433349609375\n",
      "{'Samples': 1000, 'Features': 9, 'Anomalies': 45, 'Anomalies Ratio(%)': 4.5}\n",
      "Train data shape after filter corrcoef:  (700, 9)\n",
      "epoch : 1000/6000, loss = 0.139096\n",
      "epoch : 2000/6000, loss = 0.131916\n",
      "epoch : 3000/6000, loss = 0.109965\n",
      "epoch : 4000/6000, loss = 0.088573\n",
      "epoch : 5000/6000, loss = 0.075154\n",
      "epoch : 6000/6000, loss = 0.068911\n"
     ]
    },
    {
     "name": "stderr",
     "output_type": "stream",
     "text": [
      "530it [2:07:25, 15.81s/it]"
     ]
    },
    {
     "name": "stdout",
     "output_type": "stream",
     "text": [
      "Current experiment parameters: ('42_WBC', 0.0, 2), model: Customized, metrics: {'aucroc': 0.772977022977023, 'aucpr': 0.16043597698215753}, fitting time: 170.71360969543457, inference time: 0.0009975433349609375\n",
      "{'Samples': 1000, 'Features': 9, 'Anomalies': 48, 'Anomalies Ratio(%)': 4.8}\n",
      "Train data shape after filter corrcoef:  (700, 9)\n",
      "epoch : 1000/6000, loss = 0.117969\n",
      "epoch : 2000/6000, loss = 0.095219\n",
      "epoch : 3000/6000, loss = 0.086963\n",
      "epoch : 4000/6000, loss = 0.069869\n",
      "epoch : 5000/6000, loss = 0.057103\n",
      "epoch : 6000/6000, loss = 0.049555\n"
     ]
    },
    {
     "name": "stderr",
     "output_type": "stream",
     "text": [
      "531it [2:10:18, 21.60s/it]"
     ]
    },
    {
     "name": "stdout",
     "output_type": "stream",
     "text": [
      "Current experiment parameters: ('42_WBC', 0.0, 3), model: Customized, metrics: {'aucroc': 0.7877122877122877, 'aucpr': 0.1413471836980583}, fitting time: 172.82895469665527, inference time: 0.0009975433349609375\n",
      "{'Samples': 1000, 'Features': 512, 'Anomalies': 215, 'Anomalies Ratio(%)': 21.5}\n"
     ]
    },
    {
     "name": "stderr",
     "output_type": "stream",
     "text": [
      "d:\\conda\\venv\\adbench\\Lib\\site-packages\\numpy\\lib\\function_base.py:2854: RuntimeWarning: invalid value encountered in divide\n",
      "  c /= stddev[:, None]\n",
      "d:\\conda\\venv\\adbench\\Lib\\site-packages\\numpy\\lib\\function_base.py:2855: RuntimeWarning: invalid value encountered in divide\n",
      "  c /= stddev[None, :]\n"
     ]
    },
    {
     "name": "stdout",
     "output_type": "stream",
     "text": [
      "Train data shape after filter corrcoef:  (700, 505)\n",
      "epoch : 1000/6000, loss = 1.282436\n",
      "epoch : 2000/6000, loss = 0.754192\n",
      "epoch : 3000/6000, loss = 0.589083\n",
      "epoch : 4000/6000, loss = 0.486465\n",
      "epoch : 5000/6000, loss = 0.437307\n",
      "epoch : 6000/6000, loss = 0.386445\n"
     ]
    },
    {
     "name": "stderr",
     "output_type": "stream",
     "text": [
      "553it [2:13:48, 15.13s/it]"
     ]
    },
    {
     "name": "stdout",
     "output_type": "stream",
     "text": [
      "Current experiment parameters: ('MVTec-AD_bottle', 0.0, 1), model: Customized, metrics: {'aucroc': 0.5861865793780688, 'aucpr': 0.40365071856434553}, fitting time: 209.56474542617798, inference time: 0.002992391586303711\n",
      "{'Samples': 1000, 'Features': 512, 'Anomalies': 259, 'Anomalies Ratio(%)': 25.9}\n"
     ]
    },
    {
     "name": "stderr",
     "output_type": "stream",
     "text": [
      "d:\\conda\\venv\\adbench\\Lib\\site-packages\\numpy\\lib\\function_base.py:2854: RuntimeWarning: invalid value encountered in divide\n",
      "  c /= stddev[:, None]\n",
      "d:\\conda\\venv\\adbench\\Lib\\site-packages\\numpy\\lib\\function_base.py:2855: RuntimeWarning: invalid value encountered in divide\n",
      "  c /= stddev[None, :]\n"
     ]
    },
    {
     "name": "stdout",
     "output_type": "stream",
     "text": [
      "Train data shape after filter corrcoef:  (700, 489)\n",
      "epoch : 1000/6000, loss = 1.055302\n",
      "epoch : 2000/6000, loss = 0.734630\n",
      "epoch : 3000/6000, loss = 0.526620\n",
      "epoch : 4000/6000, loss = 0.386635\n",
      "epoch : 5000/6000, loss = 0.314261\n",
      "epoch : 6000/6000, loss = 0.266547\n"
     ]
    },
    {
     "name": "stderr",
     "output_type": "stream",
     "text": [
      "577it [2:17:15, 12.17s/it]"
     ]
    },
    {
     "name": "stdout",
     "output_type": "stream",
     "text": [
      "Current experiment parameters: ('MVTec-AD_leather', 0.0, 1), model: Customized, metrics: {'aucroc': 0.8746246246246246, 'aucpr': 0.8165562957738759}, fitting time: 206.88291573524475, inference time: 0.0019943714141845703\n",
      "{'Samples': 1000, 'Features': 18, 'Anomalies': 44, 'Anomalies Ratio(%)': 4.4}\n",
      "Train data shape after filter corrcoef:  (700, 18)\n",
      "epoch : 1000/6000, loss = 0.296195\n",
      "epoch : 2000/6000, loss = 0.144344\n",
      "epoch : 3000/6000, loss = 0.113947\n",
      "epoch : 4000/6000, loss = 0.099677\n",
      "epoch : 5000/6000, loss = 0.085636\n",
      "epoch : 6000/6000, loss = 0.077062\n"
     ]
    },
    {
     "name": "stderr",
     "output_type": "stream",
     "text": [
      "601it [2:20:10, 10.24s/it]"
     ]
    },
    {
     "name": "stdout",
     "output_type": "stream",
     "text": [
      "Current experiment parameters: ('21_Lymphography', 0.0, 1), model: Customized, metrics: {'aucroc': 0.29831144465290804, 'aucpr': 0.030811435262987373}, fitting time: 174.496497631073, inference time: 0.0009987354278564453\n",
      "{'Samples': 1000, 'Features': 18, 'Anomalies': 38, 'Anomalies Ratio(%)': 3.8}\n",
      "Train data shape after filter corrcoef:  (700, 18)\n",
      "epoch : 1000/6000, loss = 0.244149\n",
      "epoch : 2000/6000, loss = 0.116335\n",
      "epoch : 3000/6000, loss = 0.089433\n",
      "epoch : 4000/6000, loss = 0.073933\n",
      "epoch : 5000/6000, loss = 0.069169\n",
      "epoch : 6000/6000, loss = 0.063379\n"
     ]
    },
    {
     "name": "stderr",
     "output_type": "stream",
     "text": [
      "602it [2:23:07, 14.06s/it]"
     ]
    },
    {
     "name": "stdout",
     "output_type": "stream",
     "text": [
      "Current experiment parameters: ('21_Lymphography', 0.0, 2), model: Customized, metrics: {'aucroc': 0.2878263604907203, 'aucpr': 0.02605919624398881}, fitting time: 176.6018397808075, inference time: 0.001994609832763672\n",
      "{'Samples': 1000, 'Features': 18, 'Anomalies': 43, 'Anomalies Ratio(%)': 4.3}\n",
      "Train data shape after filter corrcoef:  (700, 18)\n",
      "epoch : 1000/6000, loss = 0.270294\n",
      "epoch : 2000/6000, loss = 0.154730\n",
      "epoch : 3000/6000, loss = 0.120355\n",
      "epoch : 4000/6000, loss = 0.092022\n",
      "epoch : 5000/6000, loss = 0.092738\n",
      "epoch : 6000/6000, loss = 0.076587\n"
     ]
    },
    {
     "name": "stderr",
     "output_type": "stream",
     "text": [
      "603it [2:26:05, 19.26s/it]"
     ]
    },
    {
     "name": "stdout",
     "output_type": "stream",
     "text": [
      "Current experiment parameters: ('21_Lymphography', 0.0, 3), model: Customized, metrics: {'aucroc': 0.5805414098097026, 'aucpr': 0.054224044977036534}, fitting time: 177.53377532958984, inference time: 0.0019936561584472656\n",
      "{'Samples': 1000, 'Features': 512, 'Anomalies': 284, 'Anomalies Ratio(%)': 28.4}\n"
     ]
    },
    {
     "name": "stderr",
     "output_type": "stream",
     "text": [
      "d:\\conda\\venv\\adbench\\Lib\\site-packages\\numpy\\lib\\function_base.py:2854: RuntimeWarning: invalid value encountered in divide\n",
      "  c /= stddev[:, None]\n",
      "d:\\conda\\venv\\adbench\\Lib\\site-packages\\numpy\\lib\\function_base.py:2855: RuntimeWarning: invalid value encountered in divide\n",
      "  c /= stddev[None, :]\n"
     ]
    },
    {
     "name": "stdout",
     "output_type": "stream",
     "text": [
      "Train data shape after filter corrcoef:  (700, 507)\n",
      "epoch : 1000/6000, loss = 2.182953\n",
      "epoch : 2000/6000, loss = 1.426357\n",
      "epoch : 3000/6000, loss = 1.054512\n",
      "epoch : 4000/6000, loss = 0.896911\n",
      "epoch : 5000/6000, loss = 0.760439\n",
      "epoch : 6000/6000, loss = 0.715374\n"
     ]
    },
    {
     "name": "stderr",
     "output_type": "stream",
     "text": [
      "625it [2:30:29, 15.65s/it]"
     ]
    },
    {
     "name": "stdout",
     "output_type": "stream",
     "text": [
      "Current experiment parameters: ('MVTec-AD_metal_nut', 0.0, 1), model: Customized, metrics: {'aucroc': 0.49909712722298216, 'aucpr': 0.33037518084507933}, fitting time: 264.1550781726837, inference time: 0.0030164718627929688\n",
      "{'Samples': 1000, 'Features': 32, 'Anomalies': 369, 'Anomalies Ratio(%)': 36.9}\n",
      "Train data shape after filter corrcoef:  (700, 32)\n",
      "epoch : 1000/6000, loss = 0.632831\n",
      "epoch : 2000/6000, loss = 0.393886\n",
      "epoch : 3000/6000, loss = 0.298279\n",
      "epoch : 4000/6000, loss = 0.221056\n",
      "epoch : 5000/6000, loss = 0.185361\n",
      "epoch : 6000/6000, loss = 0.156612\n"
     ]
    },
    {
     "name": "stderr",
     "output_type": "stream",
     "text": [
      "649it [2:33:59, 12.62s/it]"
     ]
    },
    {
     "name": "stdout",
     "output_type": "stream",
     "text": [
      "Current experiment parameters: ('18_Ionosphere', 0.0, 1), model: Customized, metrics: {'aucroc': 0.7009390342723677, 'aucpr': 0.6417836642747191}, fitting time: 209.20171642303467, inference time: 0.0029926300048828125\n",
      "{'Samples': 1000, 'Features': 32, 'Anomalies': 374, 'Anomalies Ratio(%)': 37.4}\n",
      "Train data shape after filter corrcoef:  (700, 32)\n",
      "epoch : 1000/6000, loss = 0.506770\n",
      "epoch : 2000/6000, loss = 0.309932\n",
      "epoch : 3000/6000, loss = 0.235890\n",
      "epoch : 4000/6000, loss = 0.188911\n",
      "epoch : 5000/6000, loss = 0.158286\n",
      "epoch : 6000/6000, loss = 0.140185\n"
     ]
    },
    {
     "name": "stderr",
     "output_type": "stream",
     "text": [
      "650it [2:38:09, 18.66s/it]"
     ]
    },
    {
     "name": "stdout",
     "output_type": "stream",
     "text": [
      "Current experiment parameters: ('18_Ionosphere', 0.0, 2), model: Customized, metrics: {'aucroc': 0.6231952887537995, 'aucpr': 0.6004589144956327}, fitting time: 250.10257983207703, inference time: 0.0019948482513427734\n",
      "{'Samples': 1000, 'Features': 32, 'Anomalies': 349, 'Anomalies Ratio(%)': 34.9}\n",
      "Train data shape after filter corrcoef:  (700, 32)\n",
      "epoch : 1000/6000, loss = 0.661410\n",
      "epoch : 2000/6000, loss = 0.426988\n",
      "epoch : 3000/6000, loss = 0.293707\n",
      "epoch : 4000/6000, loss = 0.229311\n",
      "epoch : 5000/6000, loss = 0.178475\n",
      "epoch : 6000/6000, loss = 0.165534\n"
     ]
    },
    {
     "name": "stderr",
     "output_type": "stream",
     "text": [
      "651it [2:43:15, 28.70s/it]"
     ]
    },
    {
     "name": "stdout",
     "output_type": "stream",
     "text": [
      "Current experiment parameters: ('18_Ionosphere', 0.0, 3), model: Customized, metrics: {'aucroc': 0.707985347985348, 'aucpr': 0.6701467177247111}, fitting time: 304.8791935443878, inference time: 0.0029900074005126953\n",
      "{'Samples': 1456, 'Features': 12, 'Anomalies': 50, 'Anomalies Ratio(%)': 3.43}\n",
      "Train data shape after filter corrcoef:  (1019, 12)\n",
      "epoch : 1000/6000, loss = 0.114999\n",
      "epoch : 2000/6000, loss = 0.090980\n",
      "epoch : 3000/6000, loss = 0.082576\n",
      "epoch : 4000/6000, loss = 0.078516\n",
      "epoch : 5000/6000, loss = 0.075047\n",
      "epoch : 6000/6000, loss = 0.075661\n"
     ]
    },
    {
     "name": "stderr",
     "output_type": "stream",
     "text": [
      "673it [2:48:48, 21.61s/it]"
     ]
    },
    {
     "name": "stdout",
     "output_type": "stream",
     "text": [
      "Current experiment parameters: ('40_vowels', 0.0, 1), model: Customized, metrics: {'aucroc': 0.9616113744075829, 'aucpr': 0.5164140568144565}, fitting time: 333.18307757377625, inference time: 0.0029926300048828125\n",
      "{'Samples': 1456, 'Features': 12, 'Anomalies': 50, 'Anomalies Ratio(%)': 3.43}\n",
      "Train data shape after filter corrcoef:  (1019, 12)\n",
      "epoch : 1000/6000, loss = 0.109611\n",
      "epoch : 2000/6000, loss = 0.090764\n",
      "epoch : 3000/6000, loss = 0.086278\n",
      "epoch : 4000/6000, loss = 0.083171\n",
      "epoch : 5000/6000, loss = 0.081306\n",
      "epoch : 6000/6000, loss = 0.080713\n"
     ]
    },
    {
     "name": "stderr",
     "output_type": "stream",
     "text": [
      "674it [2:54:08, 31.40s/it]"
     ]
    },
    {
     "name": "stdout",
     "output_type": "stream",
     "text": [
      "Current experiment parameters: ('40_vowels', 0.0, 2), model: Customized, metrics: {'aucroc': 0.8598736176935229, 'aucpr': 0.30435690587249514}, fitting time: 318.7575137615204, inference time: 0.0019958019256591797\n",
      "{'Samples': 1456, 'Features': 12, 'Anomalies': 50, 'Anomalies Ratio(%)': 3.43}\n",
      "Train data shape after filter corrcoef:  (1019, 12)\n",
      "epoch : 1000/6000, loss = 0.118869\n",
      "epoch : 2000/6000, loss = 0.113355\n",
      "epoch : 3000/6000, loss = 0.110199\n",
      "epoch : 4000/6000, loss = 0.108949\n",
      "epoch : 5000/6000, loss = 0.106061\n",
      "epoch : 6000/6000, loss = 0.105866\n"
     ]
    },
    {
     "name": "stderr",
     "output_type": "stream",
     "text": [
      "675it [2:58:36, 42.03s/it]"
     ]
    },
    {
     "name": "stdout",
     "output_type": "stream",
     "text": [
      "Current experiment parameters: ('40_vowels', 0.0, 3), model: Customized, metrics: {'aucroc': 0.9339652448657187, 'aucpr': 0.5288499101733891}, fitting time: 267.9070055484772, inference time: 0.0019953250885009766\n",
      "{'Samples': 1484, 'Features': 8, 'Anomalies': 507, 'Anomalies Ratio(%)': 34.16}\n",
      "Train data shape after filter corrcoef:  (1038, 8)\n",
      "epoch : 1000/6000, loss = 0.079513\n",
      "epoch : 2000/6000, loss = 0.066955\n",
      "epoch : 3000/6000, loss = 0.047479\n",
      "epoch : 4000/6000, loss = 0.040543\n",
      "epoch : 5000/6000, loss = 0.039632\n",
      "epoch : 6000/6000, loss = 0.039894\n"
     ]
    },
    {
     "name": "stderr",
     "output_type": "stream",
     "text": [
      "697it [3:03:52, 25.84s/it]"
     ]
    },
    {
     "name": "stdout",
     "output_type": "stream",
     "text": [
      "Current experiment parameters: ('47_yeast', 0.0, 1), model: Customized, metrics: {'aucroc': 0.4219477264590047, 'aucpr': 0.29344442708061413}, fitting time: 315.53332901000977, inference time: 0.0019936561584472656\n",
      "{'Samples': 1484, 'Features': 8, 'Anomalies': 507, 'Anomalies Ratio(%)': 34.16}\n",
      "Train data shape after filter corrcoef:  (1038, 8)\n",
      "epoch : 1000/6000, loss = 0.080306\n",
      "epoch : 2000/6000, loss = 0.078922\n",
      "epoch : 3000/6000, loss = 0.067092\n",
      "epoch : 4000/6000, loss = 0.054202\n",
      "epoch : 5000/6000, loss = 0.046620\n",
      "epoch : 6000/6000, loss = 0.043650\n"
     ]
    },
    {
     "name": "stderr",
     "output_type": "stream",
     "text": [
      "698it [3:09:02, 36.24s/it]"
     ]
    },
    {
     "name": "stdout",
     "output_type": "stream",
     "text": [
      "Current experiment parameters: ('47_yeast', 0.0, 2), model: Customized, metrics: {'aucroc': 0.47151360544217685, 'aucpr': 0.32961612249526673}, fitting time: 309.4464704990387, inference time: 0.0029926300048828125\n",
      "{'Samples': 1484, 'Features': 8, 'Anomalies': 507, 'Anomalies Ratio(%)': 34.16}\n",
      "Train data shape after filter corrcoef:  (1038, 8)\n",
      "epoch : 1000/6000, loss = 0.082255\n",
      "epoch : 2000/6000, loss = 0.080761\n",
      "epoch : 3000/6000, loss = 0.058233\n",
      "epoch : 4000/6000, loss = 0.044912\n",
      "epoch : 5000/6000, loss = 0.040709\n",
      "epoch : 6000/6000, loss = 0.040016\n"
     ]
    },
    {
     "name": "stderr",
     "output_type": "stream",
     "text": [
      "699it [3:14:05, 49.48s/it]"
     ]
    },
    {
     "name": "stdout",
     "output_type": "stream",
     "text": [
      "Current experiment parameters: ('47_yeast', 0.0, 3), model: Customized, metrics: {'aucroc': 0.43275599713569635, 'aucpr': 0.2987603756234274}, fitting time: 302.3640367984772, inference time: 0.000997304916381836\n",
      "{'Samples': 1532, 'Features': 768, 'Anomalies': 76, 'Anomalies Ratio(%)': 4.96}\n",
      "Train data shape after filter corrcoef:  (1072, 731)\n",
      "epoch : 1000/6000, loss = 3.086879\n",
      "epoch : 2000/6000, loss = 2.575295\n",
      "epoch : 3000/6000, loss = 2.351199\n",
      "epoch : 4000/6000, loss = 2.175848\n",
      "epoch : 5000/6000, loss = 2.063383\n",
      "epoch : 6000/6000, loss = 1.902869\n"
     ]
    },
    {
     "name": "stderr",
     "output_type": "stream",
     "text": [
      "721it [3:21:55, 32.36s/it]"
     ]
    },
    {
     "name": "stdout",
     "output_type": "stream",
     "text": [
      "Current experiment parameters: ('20news_5', 0.0, 1), model: Customized, metrics: {'aucroc': 0.5018406128743409, 'aucpr': 0.05678661154407004}, fitting time: 470.1446099281311, inference time: 0.0069811344146728516\n",
      "{'Samples': 1600, 'Features': 32, 'Anomalies': 100, 'Anomalies Ratio(%)': 6.25}\n",
      "Train data shape after filter corrcoef:  (1120, 32)\n",
      "epoch : 1000/6000, loss = 0.327325\n",
      "epoch : 2000/6000, loss = 0.292223\n",
      "epoch : 3000/6000, loss = 0.273148\n",
      "epoch : 4000/6000, loss = 0.247465\n",
      "epoch : 5000/6000, loss = 0.240342\n",
      "epoch : 6000/6000, loss = 0.229789\n"
     ]
    },
    {
     "name": "stderr",
     "output_type": "stream",
     "text": [
      "745it [3:27:26, 23.30s/it]"
     ]
    },
    {
     "name": "stdout",
     "output_type": "stream",
     "text": [
      "Current experiment parameters: ('20_letter', 0.0, 1), model: Customized, metrics: {'aucroc': 0.8631851851851853, 'aucpr': 0.37734445170740377}, fitting time: 329.9229893684387, inference time: 0.0029921531677246094\n",
      "{'Samples': 1600, 'Features': 32, 'Anomalies': 100, 'Anomalies Ratio(%)': 6.25}\n",
      "Train data shape after filter corrcoef:  (1120, 32)\n",
      "epoch : 1000/6000, loss = 0.447010\n",
      "epoch : 2000/6000, loss = 0.349363\n",
      "epoch : 3000/6000, loss = 0.294981\n",
      "epoch : 4000/6000, loss = 0.269477\n",
      "epoch : 5000/6000, loss = 0.253163\n",
      "epoch : 6000/6000, loss = 0.242438\n"
     ]
    },
    {
     "name": "stderr",
     "output_type": "stream",
     "text": [
      "746it [3:32:56, 31.96s/it]"
     ]
    },
    {
     "name": "stdout",
     "output_type": "stream",
     "text": [
      "Current experiment parameters: ('20_letter', 0.0, 2), model: Customized, metrics: {'aucroc': 0.8594814814814814, 'aucpr': 0.284297213384047}, fitting time: 329.80627274513245, inference time: 0.002991914749145508\n",
      "{'Samples': 1600, 'Features': 32, 'Anomalies': 100, 'Anomalies Ratio(%)': 6.25}\n",
      "Train data shape after filter corrcoef:  (1120, 32)\n",
      "epoch : 1000/6000, loss = 0.436500\n",
      "epoch : 2000/6000, loss = 0.315997\n",
      "epoch : 3000/6000, loss = 0.279732\n",
      "epoch : 4000/6000, loss = 0.262117\n",
      "epoch : 5000/6000, loss = 0.243664\n",
      "epoch : 6000/6000, loss = 0.230713\n"
     ]
    },
    {
     "name": "stderr",
     "output_type": "stream",
     "text": [
      "747it [3:38:30, 43.62s/it]"
     ]
    },
    {
     "name": "stdout",
     "output_type": "stream",
     "text": [
      "Current experiment parameters: ('20_letter', 0.0, 3), model: Customized, metrics: {'aucroc': 0.8994074074074073, 'aucpr': 0.4031486335386498}, fitting time: 332.8585522174835, inference time: 0.0035598278045654297\n",
      "{'Samples': 1657, 'Features': 768, 'Anomalies': 82, 'Anomalies Ratio(%)': 4.95}\n",
      "Train data shape after filter corrcoef:  (1159, 734)\n",
      "epoch : 1000/6000, loss = 3.974959\n",
      "epoch : 2000/6000, loss = 3.141970\n",
      "epoch : 3000/6000, loss = 2.746941\n",
      "epoch : 4000/6000, loss = 2.663811\n",
      "epoch : 5000/6000, loss = 2.475252\n",
      "epoch : 6000/6000, loss = 2.336009\n"
     ]
    },
    {
     "name": "stderr",
     "output_type": "stream",
     "text": [
      "769it [3:44:12, 28.22s/it]"
     ]
    },
    {
     "name": "stdout",
     "output_type": "stream",
     "text": [
      "Current experiment parameters: ('20news_4', 0.0, 1), model: Customized, metrics: {'aucroc': 0.5101057082452432, 'aucpr': 0.07176344820346353}, fitting time: 342.1168029308319, inference time: 0.005984306335449219\n",
      "{'Samples': 1831, 'Features': 21, 'Anomalies': 176, 'Anomalies Ratio(%)': 9.61}\n",
      "Train data shape after filter corrcoef:  (1281, 21)\n",
      "epoch : 1000/6000, loss = 0.158915\n",
      "epoch : 2000/6000, loss = 0.127395\n",
      "epoch : 3000/6000, loss = 0.108545\n",
      "epoch : 4000/6000, loss = 0.101508\n",
      "epoch : 5000/6000, loss = 0.097123\n",
      "epoch : 6000/6000, loss = 0.090499\n"
     ]
    },
    {
     "name": "stderr",
     "output_type": "stream",
     "text": [
      "793it [3:47:31, 19.05s/it]"
     ]
    },
    {
     "name": "stdout",
     "output_type": "stream",
     "text": [
      "Current experiment parameters: ('6_cardio', 0.0, 1), model: Customized, metrics: {'aucroc': 0.6161497285600395, 'aucpr': 0.20224694788239278}, fitting time: 199.1974618434906, inference time: 0.001994609832763672\n",
      "{'Samples': 1831, 'Features': 21, 'Anomalies': 176, 'Anomalies Ratio(%)': 9.61}\n",
      "Train data shape after filter corrcoef:  (1281, 21)\n",
      "epoch : 1000/6000, loss = 0.215646\n",
      "epoch : 2000/6000, loss = 0.188185\n",
      "epoch : 3000/6000, loss = 0.165542\n",
      "epoch : 4000/6000, loss = 0.147863\n",
      "epoch : 5000/6000, loss = 0.127448\n",
      "epoch : 6000/6000, loss = 0.116261\n"
     ]
    },
    {
     "name": "stderr",
     "output_type": "stream",
     "text": [
      "794it [3:50:51, 23.85s/it]"
     ]
    },
    {
     "name": "stdout",
     "output_type": "stream",
     "text": [
      "Current experiment parameters: ('6_cardio', 0.0, 2), model: Customized, metrics: {'aucroc': 0.5548764283816104, 'aucpr': 0.2198786020338686}, fitting time: 198.76062846183777, inference time: 0.0019948482513427734\n",
      "{'Samples': 1831, 'Features': 21, 'Anomalies': 176, 'Anomalies Ratio(%)': 9.61}\n",
      "Train data shape after filter corrcoef:  (1281, 21)\n",
      "epoch : 1000/6000, loss = 0.201197\n",
      "epoch : 2000/6000, loss = 0.178270\n",
      "epoch : 3000/6000, loss = 0.139676\n",
      "epoch : 4000/6000, loss = 0.121029\n",
      "epoch : 5000/6000, loss = 0.109863\n",
      "epoch : 6000/6000, loss = 0.091515\n"
     ]
    },
    {
     "name": "stderr",
     "output_type": "stream",
     "text": [
      "795it [3:54:08, 30.23s/it]"
     ]
    },
    {
     "name": "stdout",
     "output_type": "stream",
     "text": [
      "Current experiment parameters: ('6_cardio', 0.0, 3), model: Customized, metrics: {'aucroc': 0.5738582438024374, 'aucpr': 0.18470739366021524}, fitting time: 197.08909726142883, inference time: 0.000997304916381836\n",
      "{'Samples': 1941, 'Features': 27, 'Anomalies': 673, 'Anomalies Ratio(%)': 34.67}\n",
      "Train data shape after filter corrcoef:  (1358, 23)\n",
      "epoch : 1000/6000, loss = 0.204278\n",
      "epoch : 2000/6000, loss = 0.154921\n",
      "epoch : 3000/6000, loss = 0.125760\n",
      "epoch : 4000/6000, loss = 0.103358\n",
      "epoch : 5000/6000, loss = 0.084730\n",
      "epoch : 6000/6000, loss = 0.075380\n"
     ]
    },
    {
     "name": "stderr",
     "output_type": "stream",
     "text": [
      "817it [3:57:38, 19.16s/it]"
     ]
    },
    {
     "name": "stdout",
     "output_type": "stream",
     "text": [
      "Current experiment parameters: ('12_fault', 0.0, 1), model: Customized, metrics: {'aucroc': 0.6636651854161795, 'aucpr': 0.4685913431447435}, fitting time: 210.25088167190552, inference time: 0.001994609832763672\n",
      "{'Samples': 1941, 'Features': 27, 'Anomalies': 673, 'Anomalies Ratio(%)': 34.67}\n",
      "Train data shape after filter corrcoef:  (1358, 24)\n",
      "epoch : 1000/6000, loss = 0.233255\n",
      "epoch : 2000/6000, loss = 0.154351\n",
      "epoch : 3000/6000, loss = 0.126357\n",
      "epoch : 4000/6000, loss = 0.115087\n",
      "epoch : 5000/6000, loss = 0.107393\n",
      "epoch : 6000/6000, loss = 0.098515\n"
     ]
    },
    {
     "name": "stderr",
     "output_type": "stream",
     "text": [
      "818it [4:01:12, 25.69s/it]"
     ]
    },
    {
     "name": "stdout",
     "output_type": "stream",
     "text": [
      "Current experiment parameters: ('12_fault', 0.0, 2), model: Customized, metrics: {'aucroc': 0.6471765286764897, 'aucpr': 0.4490924493094925}, fitting time: 213.12544226646423, inference time: 0.0019948482513427734\n",
      "{'Samples': 1941, 'Features': 27, 'Anomalies': 673, 'Anomalies Ratio(%)': 34.67}\n",
      "Train data shape after filter corrcoef:  (1358, 24)\n",
      "epoch : 1000/6000, loss = 0.191167\n",
      "epoch : 2000/6000, loss = 0.146330\n",
      "epoch : 3000/6000, loss = 0.132041\n",
      "epoch : 4000/6000, loss = 0.122194\n",
      "epoch : 5000/6000, loss = 0.116697\n",
      "epoch : 6000/6000, loss = 0.113459\n"
     ]
    },
    {
     "name": "stderr",
     "output_type": "stream",
     "text": [
      "819it [4:04:45, 34.28s/it]"
     ]
    },
    {
     "name": "stdout",
     "output_type": "stream",
     "text": [
      "Current experiment parameters: ('12_fault', 0.0, 3), model: Customized, metrics: {'aucroc': 0.7336087939502612, 'aucpr': 0.5795383528061845}, fitting time: 212.74424362182617, inference time: 0.001995086669921875\n",
      "{'Samples': 1966, 'Features': 1555, 'Anomalies': 368, 'Anomalies Ratio(%)': 18.72}\n"
     ]
    },
    {
     "name": "stderr",
     "output_type": "stream",
     "text": [
      "d:\\conda\\venv\\adbench\\Lib\\site-packages\\numpy\\lib\\function_base.py:2854: RuntimeWarning: invalid value encountered in divide\n",
      "  c /= stddev[:, None]\n",
      "d:\\conda\\venv\\adbench\\Lib\\site-packages\\numpy\\lib\\function_base.py:2855: RuntimeWarning: invalid value encountered in divide\n",
      "  c /= stddev[None, :]\n"
     ]
    },
    {
     "name": "stdout",
     "output_type": "stream",
     "text": [
      "Train data shape after filter corrcoef:  (1376, 748)\n",
      "epoch : 1000/6000, loss = 5.023593\n",
      "epoch : 2000/6000, loss = 4.069473\n",
      "epoch : 3000/6000, loss = 3.475187\n",
      "epoch : 4000/6000, loss = 3.228566\n",
      "epoch : 5000/6000, loss = 2.977076\n",
      "epoch : 6000/6000, loss = 2.778067\n"
     ]
    },
    {
     "name": "stderr",
     "output_type": "stream",
     "text": [
      "841it [4:10:45, 23.69s/it]"
     ]
    },
    {
     "name": "stdout",
     "output_type": "stream",
     "text": [
      "Current experiment parameters: ('17_InternetAds', 0.0, 1), model: Customized, metrics: {'aucroc': 0.7071590909090908, 'aucpr': 0.38960747242327226}, fitting time: 359.1588170528412, inference time: 0.007978439331054688\n",
      "{'Samples': 1966, 'Features': 1555, 'Anomalies': 368, 'Anomalies Ratio(%)': 18.72}\n"
     ]
    },
    {
     "name": "stderr",
     "output_type": "stream",
     "text": [
      "d:\\conda\\venv\\adbench\\Lib\\site-packages\\numpy\\lib\\function_base.py:2854: RuntimeWarning: invalid value encountered in divide\n",
      "  c /= stddev[:, None]\n",
      "d:\\conda\\venv\\adbench\\Lib\\site-packages\\numpy\\lib\\function_base.py:2855: RuntimeWarning: invalid value encountered in divide\n",
      "  c /= stddev[None, :]\n"
     ]
    },
    {
     "name": "stdout",
     "output_type": "stream",
     "text": [
      "Train data shape after filter corrcoef:  (1376, 721)\n",
      "epoch : 1000/6000, loss = 5.056738\n",
      "epoch : 2000/6000, loss = 4.179682\n",
      "epoch : 3000/6000, loss = 3.642262\n",
      "epoch : 4000/6000, loss = 3.278301\n",
      "epoch : 5000/6000, loss = 3.010218\n",
      "epoch : 6000/6000, loss = 2.777613\n"
     ]
    },
    {
     "name": "stderr",
     "output_type": "stream",
     "text": [
      "842it [4:16:38, 35.85s/it]"
     ]
    },
    {
     "name": "stdout",
     "output_type": "stream",
     "text": [
      "Current experiment parameters: ('17_InternetAds', 0.0, 2), model: Customized, metrics: {'aucroc': 0.7319128787878788, 'aucpr': 0.43259206533330563}, fitting time: 352.7257204055786, inference time: 0.00598454475402832\n",
      "{'Samples': 1966, 'Features': 1555, 'Anomalies': 368, 'Anomalies Ratio(%)': 18.72}\n"
     ]
    },
    {
     "name": "stderr",
     "output_type": "stream",
     "text": [
      "d:\\conda\\venv\\adbench\\Lib\\site-packages\\numpy\\lib\\function_base.py:2854: RuntimeWarning: invalid value encountered in divide\n",
      "  c /= stddev[:, None]\n",
      "d:\\conda\\venv\\adbench\\Lib\\site-packages\\numpy\\lib\\function_base.py:2855: RuntimeWarning: invalid value encountered in divide\n",
      "  c /= stddev[None, :]\n"
     ]
    },
    {
     "name": "stdout",
     "output_type": "stream",
     "text": [
      "Train data shape after filter corrcoef:  (1376, 751)\n",
      "epoch : 1000/6000, loss = 5.492900\n",
      "epoch : 2000/6000, loss = 4.223181\n",
      "epoch : 3000/6000, loss = 3.592750\n",
      "epoch : 4000/6000, loss = 3.182515\n",
      "epoch : 5000/6000, loss = 2.928154\n",
      "epoch : 6000/6000, loss = 2.761047\n"
     ]
    },
    {
     "name": "stderr",
     "output_type": "stream",
     "text": [
      "843it [4:22:32, 51.82s/it]"
     ]
    },
    {
     "name": "stdout",
     "output_type": "stream",
     "text": [
      "Current experiment parameters: ('17_InternetAds', 0.0, 3), model: Customized, metrics: {'aucroc': 0.7740530303030303, 'aucpr': 0.5264047701558919}, fitting time: 354.1822590827942, inference time: 0.007978677749633789\n",
      "{'Samples': 2114, 'Features': 21, 'Anomalies': 466, 'Anomalies Ratio(%)': 22.04}\n",
      "Train data shape after filter corrcoef:  (1479, 21)\n",
      "epoch : 1000/6000, loss = 0.135552\n",
      "epoch : 2000/6000, loss = 0.106234\n",
      "epoch : 3000/6000, loss = 0.091734\n",
      "epoch : 4000/6000, loss = 0.087083\n",
      "epoch : 5000/6000, loss = 0.082213\n",
      "epoch : 6000/6000, loss = 0.087478\n"
     ]
    },
    {
     "name": "stderr",
     "output_type": "stream",
     "text": [
      "865it [4:25:56, 25.79s/it]"
     ]
    },
    {
     "name": "stdout",
     "output_type": "stream",
     "text": [
      "Current experiment parameters: ('7_Cardiotocography', 0.0, 1), model: Customized, metrics: {'aucroc': 0.5122943722943724, 'aucpr': 0.31074890929869775}, fitting time: 203.3154456615448, inference time: 0.001994609832763672\n",
      "{'Samples': 2114, 'Features': 21, 'Anomalies': 466, 'Anomalies Ratio(%)': 22.04}\n",
      "Train data shape after filter corrcoef:  (1479, 21)\n",
      "epoch : 1000/6000, loss = 0.225706\n",
      "epoch : 2000/6000, loss = 0.137285\n",
      "epoch : 3000/6000, loss = 0.125887\n",
      "epoch : 4000/6000, loss = 0.116460\n",
      "epoch : 5000/6000, loss = 0.111835\n",
      "epoch : 6000/6000, loss = 0.109298\n"
     ]
    },
    {
     "name": "stderr",
     "output_type": "stream",
     "text": [
      "866it [4:29:18, 32.52s/it]"
     ]
    },
    {
     "name": "stdout",
     "output_type": "stream",
     "text": [
      "Current experiment parameters: ('7_Cardiotocography', 0.0, 2), model: Customized, metrics: {'aucroc': 0.5071428571428571, 'aucpr': 0.2871158069465118}, fitting time: 201.74564790725708, inference time: 0.0019948482513427734\n",
      "{'Samples': 2114, 'Features': 21, 'Anomalies': 466, 'Anomalies Ratio(%)': 22.04}\n",
      "Train data shape after filter corrcoef:  (1479, 21)\n",
      "epoch : 1000/6000, loss = 0.157977\n",
      "epoch : 2000/6000, loss = 0.104804\n",
      "epoch : 3000/6000, loss = 0.090042\n",
      "epoch : 4000/6000, loss = 0.082461\n",
      "epoch : 5000/6000, loss = 0.076961\n",
      "epoch : 6000/6000, loss = 0.073849\n"
     ]
    },
    {
     "name": "stderr",
     "output_type": "stream",
     "text": [
      "867it [4:32:39, 41.24s/it]"
     ]
    },
    {
     "name": "stdout",
     "output_type": "stream",
     "text": [
      "Current experiment parameters: ('7_Cardiotocography', 0.0, 3), model: Customized, metrics: {'aucroc': 0.43021645021645016, 'aucpr': 0.20029649315302683}, fitting time: 200.85998964309692, inference time: 0.0019941329956054688\n",
      "{'Samples': 2497, 'Features': 768, 'Anomalies': 124, 'Anomalies Ratio(%)': 4.97}\n",
      "Train data shape after filter corrcoef:  (1747, 731)\n",
      "epoch : 1000/6000, loss = 2.996615\n",
      "epoch : 2000/6000, loss = 2.412429\n",
      "epoch : 3000/6000, loss = 2.202902\n",
      "epoch : 4000/6000, loss = 1.968748\n",
      "epoch : 5000/6000, loss = 1.897847\n",
      "epoch : 6000/6000, loss = 1.794231\n"
     ]
    },
    {
     "name": "stderr",
     "output_type": "stream",
     "text": [
      "889it [4:38:41, 25.88s/it]"
     ]
    },
    {
     "name": "stdout",
     "output_type": "stream",
     "text": [
      "Current experiment parameters: ('20news_2', 0.0, 1), model: Customized, metrics: {'aucroc': 0.5273871346802624, 'aucpr': 0.06686047031929204}, fitting time: 361.3369584083557, inference time: 0.006989955902099609\n",
      "{'Samples': 2514, 'Features': 768, 'Anomalies': 125, 'Anomalies Ratio(%)': 4.97}\n",
      "Train data shape after filter corrcoef:  (1759, 724)\n",
      "epoch : 1000/6000, loss = 3.420714\n",
      "epoch : 2000/6000, loss = 2.726253\n",
      "epoch : 3000/6000, loss = 2.444688\n",
      "epoch : 4000/6000, loss = 2.248981\n",
      "epoch : 5000/6000, loss = 2.097971\n",
      "epoch : 6000/6000, loss = 2.019285\n"
     ]
    },
    {
     "name": "stderr",
     "output_type": "stream",
     "text": [
      "913it [4:44:46, 20.64s/it]"
     ]
    },
    {
     "name": "stdout",
     "output_type": "stream",
     "text": [
      "Current experiment parameters: ('20news_1', 0.0, 1), model: Customized, metrics: {'aucroc': 0.6089701240549072, 'aucpr': 0.0737804116238988}, fitting time: 364.7502326965332, inference time: 0.0069811344146728516\n",
      "{'Samples': 3062, 'Features': 166, 'Anomalies': 97, 'Anomalies Ratio(%)': 3.17}\n",
      "Train data shape after filter corrcoef:  (2143, 160)\n",
      "epoch : 1000/6000, loss = 1.541568\n",
      "epoch : 2000/6000, loss = 1.013211\n",
      "epoch : 3000/6000, loss = 0.812035\n",
      "epoch : 4000/6000, loss = 0.681004\n",
      "epoch : 5000/6000, loss = 0.573251\n",
      "epoch : 6000/6000, loss = 0.524634\n"
     ]
    },
    {
     "name": "stderr",
     "output_type": "stream",
     "text": [
      "937it [4:49:33, 17.07s/it]"
     ]
    },
    {
     "name": "stdout",
     "output_type": "stream",
     "text": [
      "Current experiment parameters: ('25_musk', 0.0, 1), model: Customized, metrics: {'aucroc': 0.6588531576908174, 'aucpr': 0.17646409928941362}, fitting time: 287.170273065567, inference time: 0.003989219665527344\n",
      "{'Samples': 3062, 'Features': 166, 'Anomalies': 97, 'Anomalies Ratio(%)': 3.17}\n",
      "Train data shape after filter corrcoef:  (2143, 160)\n",
      "epoch : 1000/6000, loss = 1.586546\n",
      "epoch : 2000/6000, loss = 1.222585\n",
      "epoch : 3000/6000, loss = 1.059611\n",
      "epoch : 4000/6000, loss = 0.935875\n",
      "epoch : 5000/6000, loss = 0.861503\n",
      "epoch : 6000/6000, loss = 0.774713\n"
     ]
    },
    {
     "name": "stderr",
     "output_type": "stream",
     "text": [
      "938it [4:54:18, 23.48s/it]"
     ]
    },
    {
     "name": "stdout",
     "output_type": "stream",
     "text": [
      "Current experiment parameters: ('25_musk', 0.0, 2), model: Customized, metrics: {'aucroc': 0.45005811700891124, 'aucpr': 0.06387562781771951}, fitting time: 284.5033748149872, inference time: 0.002992868423461914\n",
      "{'Samples': 3062, 'Features': 166, 'Anomalies': 97, 'Anomalies Ratio(%)': 3.17}\n",
      "Train data shape after filter corrcoef:  (2143, 159)\n",
      "epoch : 1000/6000, loss = 1.566523\n",
      "epoch : 2000/6000, loss = 1.149307\n",
      "epoch : 3000/6000, loss = 0.973686\n",
      "epoch : 4000/6000, loss = 0.858331\n",
      "epoch : 5000/6000, loss = 0.780519\n",
      "epoch : 6000/6000, loss = 0.695920\n"
     ]
    },
    {
     "name": "stderr",
     "output_type": "stream",
     "text": [
      "939it [4:59:05, 32.21s/it]"
     ]
    },
    {
     "name": "stdout",
     "output_type": "stream",
     "text": [
      "Current experiment parameters: ('25_musk', 0.0, 3), model: Customized, metrics: {'aucroc': 0.4690430065865943, 'aucpr': 0.0858661146917627}, fitting time: 286.9877598285675, inference time: 0.0029921531677246094\n",
      "{'Samples': 3090, 'Features': 768, 'Anomalies': 154, 'Anomalies Ratio(%)': 4.98}\n",
      "Train data shape after filter corrcoef:  (2163, 724)\n",
      "epoch : 1000/6000, loss = 2.388999\n",
      "epoch : 2000/6000, loss = 1.985907\n",
      "epoch : 3000/6000, loss = 1.699350\n",
      "epoch : 4000/6000, loss = 1.593136\n",
      "epoch : 5000/6000, loss = 1.516465\n",
      "epoch : 6000/6000, loss = 1.449478\n"
     ]
    },
    {
     "name": "stderr",
     "output_type": "stream",
     "text": [
      "961it [5:05:54, 25.27s/it]"
     ]
    },
    {
     "name": "stdout",
     "output_type": "stream",
     "text": [
      "Current experiment parameters: ('20news_0', 0.0, 1), model: Customized, metrics: {'aucroc': 0.8184868973004984, 'aucpr': 0.18173172408486013}, fitting time: 408.8503797054291, inference time: 0.008975744247436523\n",
      "{'Samples': 3443, 'Features': 21, 'Anomalies': 100, 'Anomalies Ratio(%)': 2.9}\n",
      "Train data shape after filter corrcoef:  (2410, 21)\n",
      "epoch : 1000/6000, loss = 0.221082\n",
      "epoch : 2000/6000, loss = 0.195581\n",
      "epoch : 3000/6000, loss = 0.193055\n",
      "epoch : 4000/6000, loss = 0.191718\n",
      "epoch : 5000/6000, loss = 0.190430\n",
      "epoch : 6000/6000, loss = 0.189278\n"
     ]
    },
    {
     "name": "stderr",
     "output_type": "stream",
     "text": [
      "985it [5:09:45, 18.34s/it]"
     ]
    },
    {
     "name": "stdout",
     "output_type": "stream",
     "text": [
      "Current experiment parameters: ('41_Waveform', 0.0, 1), model: Customized, metrics: {'aucroc': 0.5873379860418744, 'aucpr': 0.047055307628896245}, fitting time: 230.64339184761047, inference time: 0.001994609832763672\n",
      "{'Samples': 3443, 'Features': 21, 'Anomalies': 100, 'Anomalies Ratio(%)': 2.9}\n",
      "Train data shape after filter corrcoef:  (2410, 21)\n",
      "epoch : 1000/6000, loss = 0.247586\n",
      "epoch : 2000/6000, loss = 0.222992\n",
      "epoch : 3000/6000, loss = 0.218632\n",
      "epoch : 4000/6000, loss = 0.200091\n",
      "epoch : 5000/6000, loss = 0.197951\n",
      "epoch : 6000/6000, loss = 0.196182\n"
     ]
    },
    {
     "name": "stderr",
     "output_type": "stream",
     "text": [
      "986it [5:13:34, 23.75s/it]"
     ]
    },
    {
     "name": "stdout",
     "output_type": "stream",
     "text": [
      "Current experiment parameters: ('41_Waveform', 0.0, 2), model: Customized, metrics: {'aucroc': 0.5544699235626455, 'aucpr': 0.0800744798625534}, fitting time: 228.71950769424438, inference time: 0.001994609832763672\n",
      "{'Samples': 3443, 'Features': 21, 'Anomalies': 100, 'Anomalies Ratio(%)': 2.9}\n",
      "Train data shape after filter corrcoef:  (2410, 21)\n",
      "epoch : 1000/6000, loss = 0.234025\n",
      "epoch : 2000/6000, loss = 0.226804\n",
      "epoch : 3000/6000, loss = 0.223336\n",
      "epoch : 4000/6000, loss = 0.219962\n",
      "epoch : 5000/6000, loss = 0.202915\n",
      "epoch : 6000/6000, loss = 0.200539\n"
     ]
    },
    {
     "name": "stderr",
     "output_type": "stream",
     "text": [
      "987it [5:17:26, 31.10s/it]"
     ]
    },
    {
     "name": "stdout",
     "output_type": "stream",
     "text": [
      "Current experiment parameters: ('41_Waveform', 0.0, 3), model: Customized, metrics: {'aucroc': 0.5873379860418743, 'aucpr': 0.07304500821275525}, fitting time: 231.0353443622589, inference time: 0.0019943714141845703\n",
      "{'Samples': 3686, 'Features': 400, 'Anomalies': 61, 'Anomalies Ratio(%)': 1.65}\n",
      "Train data shape after filter corrcoef:  (2580, 400)\n",
      "epoch : 1000/6000, loss = 7.226467\n",
      "epoch : 2000/6000, loss = 7.104087\n",
      "epoch : 3000/6000, loss = 7.042461\n",
      "epoch : 4000/6000, loss = 6.976318\n",
      "epoch : 5000/6000, loss = 6.905373\n",
      "epoch : 6000/6000, loss = 6.811888\n"
     ]
    },
    {
     "name": "stderr",
     "output_type": "stream",
     "text": [
      "1009it [5:23:19, 23.18s/it]"
     ]
    },
    {
     "name": "stdout",
     "output_type": "stream",
     "text": [
      "Current experiment parameters: ('36_speech', 0.0, 1), model: Customized, metrics: {'aucroc': 0.5087316176470589, 'aucpr': 0.020174657685296308}, fitting time: 352.88957619667053, inference time: 0.006982564926147461\n",
      "{'Samples': 3686, 'Features': 400, 'Anomalies': 61, 'Anomalies Ratio(%)': 1.65}\n",
      "Train data shape after filter corrcoef:  (2580, 400)\n",
      "epoch : 1000/6000, loss = 7.287441\n",
      "epoch : 2000/6000, loss = 7.114906\n",
      "epoch : 3000/6000, loss = 6.996104\n",
      "epoch : 4000/6000, loss = 6.918821\n",
      "epoch : 5000/6000, loss = 6.839139\n",
      "epoch : 6000/6000, loss = 6.733974\n"
     ]
    },
    {
     "name": "stderr",
     "output_type": "stream",
     "text": [
      "1010it [5:29:15, 34.19s/it]"
     ]
    },
    {
     "name": "stdout",
     "output_type": "stream",
     "text": [
      "Current experiment parameters: ('36_speech', 0.0, 2), model: Customized, metrics: {'aucroc': 0.5181270424836601, 'aucpr': 0.020725446734279524}, fitting time: 356.05009841918945, inference time: 0.007008552551269531\n",
      "{'Samples': 3686, 'Features': 400, 'Anomalies': 61, 'Anomalies Ratio(%)': 1.65}\n",
      "Train data shape after filter corrcoef:  (2580, 400)\n",
      "epoch : 1000/6000, loss = 7.260955\n",
      "epoch : 2000/6000, loss = 7.140851\n",
      "epoch : 3000/6000, loss = 7.042680\n",
      "epoch : 4000/6000, loss = 6.925944\n",
      "epoch : 5000/6000, loss = 6.870375\n",
      "epoch : 6000/6000, loss = 6.760151\n"
     ]
    },
    {
     "name": "stderr",
     "output_type": "stream",
     "text": [
      "1011it [5:35:11, 48.70s/it]"
     ]
    },
    {
     "name": "stdout",
     "output_type": "stream",
     "text": [
      "Current experiment parameters: ('36_speech', 0.0, 3), model: Customized, metrics: {'aucroc': 0.5126123366013072, 'aucpr': 0.01982770442026005}, fitting time: 355.46765208244324, inference time: 0.0069925785064697266\n",
      "{'Samples': 3772, 'Features': 6, 'Anomalies': 93, 'Anomalies Ratio(%)': 2.47}\n",
      "Train data shape after filter corrcoef:  (2640, 6)\n",
      "epoch : 1000/6000, loss = 0.025447\n",
      "epoch : 2000/6000, loss = 0.015568\n",
      "epoch : 3000/6000, loss = 0.014280\n",
      "epoch : 4000/6000, loss = 0.014083\n",
      "epoch : 5000/6000, loss = 0.013683\n",
      "epoch : 6000/6000, loss = 0.013682\n"
     ]
    },
    {
     "name": "stderr",
     "output_type": "stream",
     "text": [
      "1033it [5:38:45, 25.85s/it]"
     ]
    },
    {
     "name": "stdout",
     "output_type": "stream",
     "text": [
      "Current experiment parameters: ('38_thyroid', 0.0, 1), model: Customized, metrics: {'aucroc': 0.8449792960662525, 'aucpr': 0.11489676543885834}, fitting time: 213.83330416679382, inference time: 0.0019948482513427734\n",
      "{'Samples': 3772, 'Features': 6, 'Anomalies': 93, 'Anomalies Ratio(%)': 2.47}\n",
      "Train data shape after filter corrcoef:  (2640, 6)\n",
      "epoch : 1000/6000, loss = 0.024524\n",
      "epoch : 2000/6000, loss = 0.014022\n",
      "epoch : 3000/6000, loss = 0.013265\n",
      "epoch : 4000/6000, loss = 0.013118\n",
      "epoch : 5000/6000, loss = 0.013065\n",
      "epoch : 6000/6000, loss = 0.012770\n"
     ]
    },
    {
     "name": "stderr",
     "output_type": "stream",
     "text": [
      "1034it [5:42:17, 32.68s/it]"
     ]
    },
    {
     "name": "stdout",
     "output_type": "stream",
     "text": [
      "Current experiment parameters: ('38_thyroid', 0.0, 2), model: Customized, metrics: {'aucroc': 0.8466291407867494, 'aucpr': 0.14773212222997564}, fitting time: 211.70599341392517, inference time: 0.0019936561584472656\n",
      "{'Samples': 3772, 'Features': 6, 'Anomalies': 93, 'Anomalies Ratio(%)': 2.47}\n",
      "Train data shape after filter corrcoef:  (2640, 6)\n",
      "epoch : 1000/6000, loss = 0.024999\n",
      "epoch : 2000/6000, loss = 0.022763\n",
      "epoch : 3000/6000, loss = 0.014515\n",
      "epoch : 4000/6000, loss = 0.013535\n",
      "epoch : 5000/6000, loss = 0.013032\n",
      "epoch : 6000/6000, loss = 0.012913\n"
     ]
    },
    {
     "name": "stderr",
     "output_type": "stream",
     "text": [
      "1035it [5:45:54, 41.86s/it]"
     ]
    },
    {
     "name": "stdout",
     "output_type": "stream",
     "text": [
      "Current experiment parameters: ('38_thyroid', 0.0, 3), model: Customized, metrics: {'aucroc': 0.8877458592132506, 'aucpr': 0.167465544382014}, fitting time: 216.71961641311646, inference time: 0.0019943714141845703\n",
      "{'Samples': 4207, 'Features': 57, 'Anomalies': 1679, 'Anomalies Ratio(%)': 39.91}\n",
      "Train data shape after filter corrcoef:  (2944, 57)\n",
      "epoch : 1000/6000, loss = 0.199810\n",
      "epoch : 2000/6000, loss = 0.150716\n",
      "epoch : 3000/6000, loss = 0.145993\n",
      "epoch : 4000/6000, loss = 0.138086\n",
      "epoch : 5000/6000, loss = 0.125745\n",
      "epoch : 6000/6000, loss = 0.120236\n"
     ]
    },
    {
     "name": "stderr",
     "output_type": "stream",
     "text": [
      "1057it [5:49:59, 23.09s/it]"
     ]
    },
    {
     "name": "stdout",
     "output_type": "stream",
     "text": [
      "Current experiment parameters: ('35_SpamBase', 0.0, 1), model: Customized, metrics: {'aucroc': 0.546183888575193, 'aucpr': 0.40297162348654736}, fitting time: 243.89593195915222, inference time: 0.003989458084106445\n",
      "{'Samples': 4207, 'Features': 57, 'Anomalies': 1679, 'Anomalies Ratio(%)': 39.91}\n",
      "Train data shape after filter corrcoef:  (2944, 57)\n",
      "epoch : 1000/6000, loss = 0.170664\n",
      "epoch : 2000/6000, loss = 0.164426\n",
      "epoch : 3000/6000, loss = 0.163068\n",
      "epoch : 4000/6000, loss = 0.162450\n",
      "epoch : 5000/6000, loss = 0.159834\n",
      "epoch : 6000/6000, loss = 0.147432\n"
     ]
    },
    {
     "name": "stderr",
     "output_type": "stream",
     "text": [
      "1058it [5:53:57, 31.30s/it]"
     ]
    },
    {
     "name": "stdout",
     "output_type": "stream",
     "text": [
      "Current experiment parameters: ('35_SpamBase', 0.0, 2), model: Customized, metrics: {'aucroc': 0.5344255181211702, 'aucpr': 0.4069262446495267}, fitting time: 238.04859232902527, inference time: 0.0029921531677246094\n",
      "{'Samples': 4207, 'Features': 57, 'Anomalies': 1679, 'Anomalies Ratio(%)': 39.91}\n",
      "Train data shape after filter corrcoef:  (2944, 57)\n",
      "epoch : 1000/6000, loss = 0.153424\n",
      "epoch : 2000/6000, loss = 0.149074\n",
      "epoch : 3000/6000, loss = 0.146564\n",
      "epoch : 4000/6000, loss = 0.132766\n",
      "epoch : 5000/6000, loss = 0.125738\n",
      "epoch : 6000/6000, loss = 0.122190\n"
     ]
    },
    {
     "name": "stderr",
     "output_type": "stream",
     "text": [
      "1059it [5:58:01, 42.31s/it]"
     ]
    },
    {
     "name": "stdout",
     "output_type": "stream",
     "text": [
      "Current experiment parameters: ('35_SpamBase', 0.0, 3), model: Customized, metrics: {'aucroc': 0.5674550891942196, 'aucpr': 0.43176756176787334}, fitting time: 244.34576034545898, inference time: 0.0029914379119873047\n",
      "{'Samples': 4819, 'Features': 5, 'Anomalies': 257, 'Anomalies Ratio(%)': 5.33}\n",
      "Train data shape after filter corrcoef:  (3373, 5)\n",
      "epoch : 1000/6000, loss = 0.014252\n",
      "epoch : 2000/6000, loss = 0.012403\n",
      "epoch : 3000/6000, loss = 0.012199\n",
      "epoch : 4000/6000, loss = 0.012026\n",
      "epoch : 5000/6000, loss = 0.011966\n",
      "epoch : 6000/6000, loss = 0.010214\n"
     ]
    },
    {
     "name": "stderr",
     "output_type": "stream",
     "text": [
      "1081it [6:01:52, 22.61s/it]"
     ]
    },
    {
     "name": "stdout",
     "output_type": "stream",
     "text": [
      "Current experiment parameters: ('44_Wilt', 0.0, 1), model: Customized, metrics: {'aucroc': 0.3418458823864229, 'aucpr': 0.037246959947468856}, fitting time: 230.0589554309845, inference time: 0.001994609832763672\n",
      "{'Samples': 4819, 'Features': 5, 'Anomalies': 257, 'Anomalies Ratio(%)': 5.33}\n",
      "Train data shape after filter corrcoef:  (3373, 5)\n",
      "epoch : 1000/6000, loss = 0.023969\n",
      "epoch : 2000/6000, loss = 0.023872\n",
      "epoch : 3000/6000, loss = 0.019698\n",
      "epoch : 4000/6000, loss = 0.013012\n",
      "epoch : 5000/6000, loss = 0.012818\n",
      "epoch : 6000/6000, loss = 0.012705\n"
     ]
    },
    {
     "name": "stderr",
     "output_type": "stream",
     "text": [
      "1082it [6:05:41, 30.58s/it]"
     ]
    },
    {
     "name": "stdout",
     "output_type": "stream",
     "text": [
      "Current experiment parameters: ('44_Wilt', 0.0, 2), model: Customized, metrics: {'aucroc': 0.3085008490413896, 'aucpr': 0.03554689276552888}, fitting time: 228.7275140285492, inference time: 0.001994609832763672\n",
      "{'Samples': 4819, 'Features': 5, 'Anomalies': 257, 'Anomalies Ratio(%)': 5.33}\n",
      "Train data shape after filter corrcoef:  (3373, 5)\n",
      "epoch : 1000/6000, loss = 0.022042\n",
      "epoch : 2000/6000, loss = 0.012561\n",
      "epoch : 3000/6000, loss = 0.012350\n",
      "epoch : 4000/6000, loss = 0.012254\n",
      "epoch : 5000/6000, loss = 0.012251\n",
      "epoch : 6000/6000, loss = 0.012186\n"
     ]
    },
    {
     "name": "stderr",
     "output_type": "stream",
     "text": [
      "1083it [6:09:29, 40.92s/it]"
     ]
    },
    {
     "name": "stdout",
     "output_type": "stream",
     "text": [
      "Current experiment parameters: ('44_Wilt', 0.0, 3), model: Customized, metrics: {'aucroc': 0.28878791040953206, 'aucpr': 0.03447546681598504}, fitting time: 228.04134678840637, inference time: 0.0019953250885009766\n",
      "{'Samples': 4904, 'Features': 512, 'Anomalies': 245, 'Anomalies Ratio(%)': 5.0}\n"
     ]
    },
    {
     "name": "stderr",
     "output_type": "stream",
     "text": [
      "d:\\conda\\venv\\adbench\\Lib\\site-packages\\numpy\\lib\\function_base.py:2854: RuntimeWarning: invalid value encountered in divide\n",
      "  c /= stddev[:, None]\n",
      "d:\\conda\\venv\\adbench\\Lib\\site-packages\\numpy\\lib\\function_base.py:2855: RuntimeWarning: invalid value encountered in divide\n",
      "  c /= stddev[None, :]\n"
     ]
    },
    {
     "name": "stdout",
     "output_type": "stream",
     "text": [
      "Train data shape after filter corrcoef:  (3432, 511)\n",
      "epoch : 1000/6000, loss = 2.811707\n",
      "epoch : 2000/6000, loss = 2.539889\n",
      "epoch : 3000/6000, loss = 2.310009\n",
      "epoch : 4000/6000, loss = 2.142148\n",
      "epoch : 5000/6000, loss = 2.060209\n",
      "epoch : 6000/6000, loss = 1.994243\n"
     ]
    },
    {
     "name": "stderr",
     "output_type": "stream",
     "text": [
      "1105it [6:17:04, 28.33s/it]"
     ]
    },
    {
     "name": "stdout",
     "output_type": "stream",
     "text": [
      "Current experiment parameters: ('SVHN_9', 0.0, 1), model: Customized, metrics: {'aucroc': 0.5687565247651084, 'aucpr': 0.06540847196371274}, fitting time: 454.5235629081726, inference time: 0.009972572326660156\n",
      "{'Samples': 5208, 'Features': 512, 'Anomalies': 260, 'Anomalies Ratio(%)': 4.99}\n"
     ]
    },
    {
     "name": "stderr",
     "output_type": "stream",
     "text": [
      "d:\\conda\\venv\\adbench\\Lib\\site-packages\\numpy\\lib\\function_base.py:2854: RuntimeWarning: invalid value encountered in divide\n",
      "  c /= stddev[:, None]\n",
      "d:\\conda\\venv\\adbench\\Lib\\site-packages\\numpy\\lib\\function_base.py:2855: RuntimeWarning: invalid value encountered in divide\n",
      "  c /= stddev[None, :]\n"
     ]
    },
    {
     "name": "stdout",
     "output_type": "stream",
     "text": [
      "Train data shape after filter corrcoef:  (3645, 512)\n",
      "epoch : 1000/6000, loss = 3.121050\n",
      "epoch : 2000/6000, loss = 2.537337\n",
      "epoch : 3000/6000, loss = 2.208704\n",
      "epoch : 4000/6000, loss = 2.030213\n",
      "epoch : 5000/6000, loss = 1.910412\n",
      "epoch : 6000/6000, loss = 1.839094\n"
     ]
    },
    {
     "name": "stderr",
     "output_type": "stream",
     "text": [
      "1129it [6:24:59, 24.13s/it]"
     ]
    },
    {
     "name": "stdout",
     "output_type": "stream",
     "text": [
      "Current experiment parameters: ('SVHN_0', 0.0, 1), model: Customized, metrics: {'aucroc': 0.6251402918069584, 'aucpr': 0.07679514445332798}, fitting time: 474.7598445415497, inference time: 0.010970830917358398\n",
      "{'Samples': 5216, 'Features': 64, 'Anomalies': 150, 'Anomalies Ratio(%)': 2.88}\n",
      "Train data shape after filter corrcoef:  (3651, 64)\n"
     ]
    },
    {
     "name": "stderr",
     "output_type": "stream",
     "text": [
      "d:\\conda\\venv\\adbench\\Lib\\site-packages\\numpy\\lib\\function_base.py:2854: RuntimeWarning: invalid value encountered in divide\n",
      "  c /= stddev[:, None]\n",
      "d:\\conda\\venv\\adbench\\Lib\\site-packages\\numpy\\lib\\function_base.py:2855: RuntimeWarning: invalid value encountered in divide\n",
      "  c /= stddev[None, :]\n"
     ]
    },
    {
     "name": "stdout",
     "output_type": "stream",
     "text": [
      "epoch : 1000/6000, loss = 1.183985\n",
      "epoch : 2000/6000, loss = 0.911040\n",
      "epoch : 3000/6000, loss = 0.781110\n",
      "epoch : 4000/6000, loss = 0.716482\n",
      "epoch : 5000/6000, loss = 0.678045\n",
      "epoch : 6000/6000, loss = 0.654076\n"
     ]
    },
    {
     "name": "stderr",
     "output_type": "stream",
     "text": [
      "1153it [6:29:56, 19.28s/it]"
     ]
    },
    {
     "name": "stdout",
     "output_type": "stream",
     "text": [
      "Current experiment parameters: ('26_optdigits', 0.0, 1), model: Customized, metrics: {'aucroc': 0.37899122807017543, 'aucpr': 0.028455312121493076}, fitting time: 296.5631604194641, inference time: 0.003988981246948242\n",
      "{'Samples': 5216, 'Features': 64, 'Anomalies': 150, 'Anomalies Ratio(%)': 2.88}\n",
      "Train data shape after filter corrcoef:  (3651, 64)\n"
     ]
    },
    {
     "name": "stderr",
     "output_type": "stream",
     "text": [
      "d:\\conda\\venv\\adbench\\Lib\\site-packages\\numpy\\lib\\function_base.py:2854: RuntimeWarning: invalid value encountered in divide\n",
      "  c /= stddev[:, None]\n",
      "d:\\conda\\venv\\adbench\\Lib\\site-packages\\numpy\\lib\\function_base.py:2855: RuntimeWarning: invalid value encountered in divide\n",
      "  c /= stddev[None, :]\n"
     ]
    },
    {
     "name": "stdout",
     "output_type": "stream",
     "text": [
      "epoch : 1000/6000, loss = 1.177735\n",
      "epoch : 2000/6000, loss = 0.985832\n",
      "epoch : 3000/6000, loss = 0.898165\n",
      "epoch : 4000/6000, loss = 0.833872\n",
      "epoch : 5000/6000, loss = 0.793415\n",
      "epoch : 6000/6000, loss = 0.770952\n"
     ]
    },
    {
     "name": "stderr",
     "output_type": "stream",
     "text": [
      "1154it [6:34:50, 25.87s/it]"
     ]
    },
    {
     "name": "stdout",
     "output_type": "stream",
     "text": [
      "Current experiment parameters: ('26_optdigits', 0.0, 2), model: Customized, metrics: {'aucroc': 0.45786549707602336, 'aucpr': 0.02845912296512098}, fitting time: 293.9630837440491, inference time: 0.003989219665527344\n",
      "{'Samples': 5216, 'Features': 64, 'Anomalies': 150, 'Anomalies Ratio(%)': 2.88}\n",
      "Train data shape after filter corrcoef:  (3651, 64)\n"
     ]
    },
    {
     "name": "stderr",
     "output_type": "stream",
     "text": [
      "d:\\conda\\venv\\adbench\\Lib\\site-packages\\numpy\\lib\\function_base.py:2854: RuntimeWarning: invalid value encountered in divide\n",
      "  c /= stddev[:, None]\n",
      "d:\\conda\\venv\\adbench\\Lib\\site-packages\\numpy\\lib\\function_base.py:2855: RuntimeWarning: invalid value encountered in divide\n",
      "  c /= stddev[None, :]\n"
     ]
    },
    {
     "name": "stdout",
     "output_type": "stream",
     "text": [
      "epoch : 1000/6000, loss = 1.141515\n",
      "epoch : 2000/6000, loss = 0.908534\n",
      "epoch : 3000/6000, loss = 0.792577\n",
      "epoch : 4000/6000, loss = 0.725250\n",
      "epoch : 5000/6000, loss = 0.687254\n",
      "epoch : 6000/6000, loss = 0.656335\n"
     ]
    },
    {
     "name": "stderr",
     "output_type": "stream",
     "text": [
      "1155it [6:39:45, 34.78s/it]"
     ]
    },
    {
     "name": "stdout",
     "output_type": "stream",
     "text": [
      "Current experiment parameters: ('26_optdigits', 0.0, 3), model: Customized, metrics: {'aucroc': 0.43918128654970756, 'aucpr': 0.028449316113729844}, fitting time: 294.66324377059937, inference time: 0.003961086273193359\n",
      "{'Samples': 5263, 'Features': 512, 'Anomalies': 263, 'Anomalies Ratio(%)': 5.0}\n"
     ]
    },
    {
     "name": "stderr",
     "output_type": "stream",
     "text": [
      "d:\\conda\\venv\\adbench\\Lib\\site-packages\\numpy\\lib\\function_base.py:2854: RuntimeWarning: invalid value encountered in divide\n",
      "  c /= stddev[:, None]\n",
      "d:\\conda\\venv\\adbench\\Lib\\site-packages\\numpy\\lib\\function_base.py:2855: RuntimeWarning: invalid value encountered in divide\n",
      "  c /= stddev[None, :]\n"
     ]
    },
    {
     "name": "stdout",
     "output_type": "stream",
     "text": [
      "Train data shape after filter corrcoef:  (3684, 512)\n",
      "epoch : 1000/6000, loss = 4.207278\n",
      "epoch : 2000/6000, loss = 3.806918\n",
      "epoch : 3000/6000, loss = 3.347803\n",
      "epoch : 4000/6000, loss = 3.170192\n",
      "epoch : 5000/6000, loss = 3.062474\n",
      "epoch : 6000/6000, loss = 2.975414\n"
     ]
    },
    {
     "name": "stderr",
     "output_type": "stream",
     "text": [
      "1177it [6:47:45, 28.16s/it]"
     ]
    },
    {
     "name": "stdout",
     "output_type": "stream",
     "text": [
      "Current experiment parameters: ('CIFAR10_9', 0.0, 1), model: Customized, metrics: {'aucroc': 0.6770970464135022, 'aucpr': 0.12803655015152107}, fitting time: 479.1280629634857, inference time: 0.009973764419555664\n",
      "{'Samples': 5263, 'Features': 512, 'Anomalies': 263, 'Anomalies Ratio(%)': 5.0}\n"
     ]
    },
    {
     "name": "stderr",
     "output_type": "stream",
     "text": [
      "d:\\conda\\venv\\adbench\\Lib\\site-packages\\numpy\\lib\\function_base.py:2854: RuntimeWarning: invalid value encountered in divide\n",
      "  c /= stddev[:, None]\n",
      "d:\\conda\\venv\\adbench\\Lib\\site-packages\\numpy\\lib\\function_base.py:2855: RuntimeWarning: invalid value encountered in divide\n",
      "  c /= stddev[None, :]\n"
     ]
    },
    {
     "name": "stdout",
     "output_type": "stream",
     "text": [
      "Train data shape after filter corrcoef:  (3684, 512)\n",
      "epoch : 1000/6000, loss = 3.974537\n",
      "epoch : 2000/6000, loss = 3.361240\n",
      "epoch : 3000/6000, loss = 3.119679\n",
      "epoch : 4000/6000, loss = 2.964853\n",
      "epoch : 5000/6000, loss = 2.789182\n",
      "epoch : 6000/6000, loss = 2.690506\n"
     ]
    },
    {
     "name": "stderr",
     "output_type": "stream",
     "text": [
      "1201it [6:55:44, 24.54s/it]"
     ]
    },
    {
     "name": "stdout",
     "output_type": "stream",
     "text": [
      "Current experiment parameters: ('CIFAR10_8', 0.0, 1), model: Customized, metrics: {'aucroc': 0.7436118143459916, 'aucpr': 0.13852447476972207}, fitting time: 479.15615820884705, inference time: 0.010970592498779297\n",
      "{'Samples': 5263, 'Features': 512, 'Anomalies': 263, 'Anomalies Ratio(%)': 5.0}\n",
      "Train data shape after filter corrcoef:  (3684, 512)\n",
      "epoch : 1000/6000, loss = 4.419429\n",
      "epoch : 2000/6000, loss = 3.795144\n",
      "epoch : 3000/6000, loss = 3.377311\n",
      "epoch : 4000/6000, loss = 3.220656\n",
      "epoch : 5000/6000, loss = 3.119767\n",
      "epoch : 6000/6000, loss = 3.046202\n"
     ]
    },
    {
     "name": "stderr",
     "output_type": "stream",
     "text": [
      "1225it [7:03:44, 22.77s/it]"
     ]
    },
    {
     "name": "stdout",
     "output_type": "stream",
     "text": [
      "Current experiment parameters: ('CIFAR10_7', 0.0, 1), model: Customized, metrics: {'aucroc': 0.5367679324894514, 'aucpr': 0.08159942736714318}, fitting time: 479.40631556510925, inference time: 0.011965513229370117\n",
      "{'Samples': 5263, 'Features': 512, 'Anomalies': 263, 'Anomalies Ratio(%)': 5.0}\n",
      "Train data shape after filter corrcoef:  (3684, 512)\n",
      "epoch : 1000/6000, loss = 3.877935\n",
      "epoch : 2000/6000, loss = 3.509711\n",
      "epoch : 3000/6000, loss = 3.223881\n",
      "epoch : 4000/6000, loss = 3.083590\n",
      "epoch : 5000/6000, loss = 2.989931\n",
      "epoch : 6000/6000, loss = 2.844807\n"
     ]
    },
    {
     "name": "stderr",
     "output_type": "stream",
     "text": [
      "1249it [7:11:41, 21.74s/it]"
     ]
    },
    {
     "name": "stdout",
     "output_type": "stream",
     "text": [
      "Current experiment parameters: ('CIFAR10_6', 0.0, 1), model: Customized, metrics: {'aucroc': 0.7151054852320675, 'aucpr': 0.1396377662916428}, fitting time: 476.7614152431488, inference time: 0.012966156005859375\n",
      "{'Samples': 5263, 'Features': 512, 'Anomalies': 263, 'Anomalies Ratio(%)': 5.0}\n",
      "Train data shape after filter corrcoef:  (3684, 512)\n",
      "epoch : 1000/6000, loss = 4.011522\n",
      "epoch : 2000/6000, loss = 3.550864\n",
      "epoch : 3000/6000, loss = 3.315443\n",
      "epoch : 4000/6000, loss = 3.116965\n",
      "epoch : 5000/6000, loss = 2.984745\n",
      "epoch : 6000/6000, loss = 2.898705\n"
     ]
    },
    {
     "name": "stderr",
     "output_type": "stream",
     "text": [
      "1273it [7:19:41, 21.16s/it]"
     ]
    },
    {
     "name": "stdout",
     "output_type": "stream",
     "text": [
      "Current experiment parameters: ('CIFAR10_3', 0.0, 1), model: Customized, metrics: {'aucroc': 0.5653417721518987, 'aucpr': 0.09429103257765309}, fitting time: 480.1523127555847, inference time: 0.011968135833740234\n",
      "{'Samples': 5263, 'Features': 512, 'Anomalies': 263, 'Anomalies Ratio(%)': 5.0}\n"
     ]
    },
    {
     "name": "stderr",
     "output_type": "stream",
     "text": [
      "d:\\conda\\venv\\adbench\\Lib\\site-packages\\numpy\\lib\\function_base.py:2854: RuntimeWarning: invalid value encountered in divide\n",
      "  c /= stddev[:, None]\n",
      "d:\\conda\\venv\\adbench\\Lib\\site-packages\\numpy\\lib\\function_base.py:2855: RuntimeWarning: invalid value encountered in divide\n",
      "  c /= stddev[None, :]\n"
     ]
    },
    {
     "name": "stdout",
     "output_type": "stream",
     "text": [
      "Train data shape after filter corrcoef:  (3684, 512)\n",
      "epoch : 1000/6000, loss = 3.765733\n",
      "epoch : 2000/6000, loss = 3.260677\n",
      "epoch : 3000/6000, loss = 2.925863\n",
      "epoch : 4000/6000, loss = 2.782054\n",
      "epoch : 5000/6000, loss = 2.684515\n",
      "epoch : 6000/6000, loss = 2.620571\n"
     ]
    },
    {
     "name": "stderr",
     "output_type": "stream",
     "text": [
      "1297it [7:27:35, 20.70s/it]"
     ]
    },
    {
     "name": "stdout",
     "output_type": "stream",
     "text": [
      "Current experiment parameters: ('CIFAR10_4', 0.0, 1), model: Customized, metrics: {'aucroc': 0.7660084388185655, 'aucpr': 0.21334145848091213}, fitting time: 473.3006429672241, inference time: 0.011001825332641602\n",
      "{'Samples': 5263, 'Features': 512, 'Anomalies': 263, 'Anomalies Ratio(%)': 5.0}\n",
      "Train data shape after filter corrcoef:  (3684, 512)\n",
      "epoch : 1000/6000, loss = 4.212316\n",
      "epoch : 2000/6000, loss = 3.255801\n",
      "epoch : 3000/6000, loss = 2.917853\n",
      "epoch : 4000/6000, loss = 2.780529\n",
      "epoch : 5000/6000, loss = 2.690678\n",
      "epoch : 6000/6000, loss = 2.632831\n"
     ]
    },
    {
     "name": "stderr",
     "output_type": "stream",
     "text": [
      "1321it [7:35:32, 20.44s/it]"
     ]
    },
    {
     "name": "stdout",
     "output_type": "stream",
     "text": [
      "Current experiment parameters: ('CIFAR10_2', 0.0, 1), model: Customized, metrics: {'aucroc': 0.6279915611814347, 'aucpr': 0.07604119835577126}, fitting time: 476.56762766838074, inference time: 0.010970592498779297\n",
      "{'Samples': 5263, 'Features': 512, 'Anomalies': 263, 'Anomalies Ratio(%)': 5.0}\n",
      "Train data shape after filter corrcoef:  (3684, 512)\n",
      "epoch : 1000/6000, loss = 4.214041\n",
      "epoch : 2000/6000, loss = 3.619730\n",
      "epoch : 3000/6000, loss = 3.333273\n",
      "epoch : 4000/6000, loss = 3.155835\n",
      "epoch : 5000/6000, loss = 2.986158\n",
      "epoch : 6000/6000, loss = 2.898221\n"
     ]
    },
    {
     "name": "stderr",
     "output_type": "stream",
     "text": [
      "1345it [7:43:37, 20.37s/it]"
     ]
    },
    {
     "name": "stdout",
     "output_type": "stream",
     "text": [
      "Current experiment parameters: ('CIFAR10_1', 0.0, 1), model: Customized, metrics: {'aucroc': 0.6064303797468354, 'aucpr': 0.08182539147670215}, fitting time: 484.6692762374878, inference time: 0.010969161987304688\n",
      "{'Samples': 5263, 'Features': 512, 'Anomalies': 263, 'Anomalies Ratio(%)': 5.0}\n",
      "Train data shape after filter corrcoef:  (3684, 512)\n",
      "epoch : 1000/6000, loss = 4.004637\n",
      "epoch : 2000/6000, loss = 3.475926\n",
      "epoch : 3000/6000, loss = 3.089700\n",
      "epoch : 4000/6000, loss = 2.944108\n",
      "epoch : 5000/6000, loss = 2.791844\n",
      "epoch : 6000/6000, loss = 2.689103\n"
     ]
    },
    {
     "name": "stderr",
     "output_type": "stream",
     "text": [
      "1369it [7:51:37, 20.26s/it]"
     ]
    },
    {
     "name": "stdout",
     "output_type": "stream",
     "text": [
      "Current experiment parameters: ('CIFAR10_0', 0.0, 1), model: Customized, metrics: {'aucroc': 0.7300421940928269, 'aucpr': 0.1332083405588521}, fitting time: 480.1074457168579, inference time: 0.012964963912963867\n",
      "{'Samples': 5263, 'Features': 512, 'Anomalies': 263, 'Anomalies Ratio(%)': 5.0}\n",
      "Train data shape after filter corrcoef:  (3684, 512)\n",
      "epoch : 1000/6000, loss = 4.391493\n",
      "epoch : 2000/6000, loss = 3.740711\n",
      "epoch : 3000/6000, loss = 3.497522\n",
      "epoch : 4000/6000, loss = 3.242739\n",
      "epoch : 5000/6000, loss = 3.115655\n",
      "epoch : 6000/6000, loss = 3.035991\n"
     ]
    },
    {
     "name": "stderr",
     "output_type": "stream",
     "text": [
      "1393it [7:59:39, 20.19s/it]"
     ]
    },
    {
     "name": "stdout",
     "output_type": "stream",
     "text": [
      "Current experiment parameters: ('CIFAR10_5', 0.0, 1), model: Customized, metrics: {'aucroc': 0.5352236286919831, 'aucpr': 0.08920761751006631}, fitting time: 480.85964012145996, inference time: 0.010970830917358398\n",
      "{'Samples': 5310, 'Features': 512, 'Anomalies': 265, 'Anomalies Ratio(%)': 4.99}\n"
     ]
    },
    {
     "name": "stderr",
     "output_type": "stream",
     "text": [
      "d:\\conda\\venv\\adbench\\Lib\\site-packages\\numpy\\lib\\function_base.py:2854: RuntimeWarning: invalid value encountered in divide\n",
      "  c /= stddev[:, None]\n",
      "d:\\conda\\venv\\adbench\\Lib\\site-packages\\numpy\\lib\\function_base.py:2855: RuntimeWarning: invalid value encountered in divide\n",
      "  c /= stddev[None, :]\n"
     ]
    },
    {
     "name": "stdout",
     "output_type": "stream",
     "text": [
      "Train data shape after filter corrcoef:  (3717, 511)\n",
      "epoch : 1000/6000, loss = 2.784834\n",
      "epoch : 2000/6000, loss = 2.340514\n",
      "epoch : 3000/6000, loss = 2.164262\n",
      "epoch : 4000/6000, loss = 2.062428\n",
      "epoch : 5000/6000, loss = 1.999492\n",
      "epoch : 6000/6000, loss = 1.954824\n"
     ]
    },
    {
     "name": "stderr",
     "output_type": "stream",
     "text": [
      "1417it [8:07:42, 20.18s/it]"
     ]
    },
    {
     "name": "stdout",
     "output_type": "stream",
     "text": [
      "Current experiment parameters: ('SVHN_8', 0.0, 1), model: Customized, metrics: {'aucroc': 0.622769332452082, 'aucpr': 0.11171134205631628}, fitting time: 483.1450583934784, inference time: 0.011967897415161133\n",
      "{'Samples': 5393, 'Features': 10, 'Anomalies': 510, 'Anomalies Ratio(%)': 9.46}\n",
      "Train data shape after filter corrcoef:  (3775, 10)\n",
      "epoch : 1000/6000, loss = 0.017217\n",
      "epoch : 2000/6000, loss = 0.014993\n",
      "epoch : 3000/6000, loss = 0.008986\n",
      "epoch : 4000/6000, loss = 0.007141\n",
      "epoch : 5000/6000, loss = 0.006302\n",
      "epoch : 6000/6000, loss = 0.005776\n"
     ]
    },
    {
     "name": "stderr",
     "output_type": "stream",
     "text": [
      "1441it [8:11:52, 17.22s/it]"
     ]
    },
    {
     "name": "stdout",
     "output_type": "stream",
     "text": [
      "Current experiment parameters: ('27_PageBlocks', 0.0, 1), model: Customized, metrics: {'aucroc': 0.7260835619799684, 'aucpr': 0.36392693978430135}, fitting time: 249.08309650421143, inference time: 0.002991199493408203\n",
      "{'Samples': 5393, 'Features': 10, 'Anomalies': 510, 'Anomalies Ratio(%)': 9.46}\n",
      "Train data shape after filter corrcoef:  (3775, 10)\n",
      "epoch : 1000/6000, loss = 0.017514\n",
      "epoch : 2000/6000, loss = 0.015124\n",
      "epoch : 3000/6000, loss = 0.013904\n",
      "epoch : 4000/6000, loss = 0.013665\n",
      "epoch : 5000/6000, loss = 0.013351\n",
      "epoch : 6000/6000, loss = 0.012798\n"
     ]
    },
    {
     "name": "stderr",
     "output_type": "stream",
     "text": [
      "1442it [8:15:58, 21.28s/it]"
     ]
    },
    {
     "name": "stdout",
     "output_type": "stream",
     "text": [
      "Current experiment parameters: ('27_PageBlocks', 0.0, 2), model: Customized, metrics: {'aucroc': 0.671922193223137, 'aucpr': 0.3436748928974476}, fitting time: 246.49102520942688, inference time: 0.0029921531677246094\n",
      "{'Samples': 5393, 'Features': 10, 'Anomalies': 510, 'Anomalies Ratio(%)': 9.46}\n",
      "Train data shape after filter corrcoef:  (3775, 10)\n",
      "epoch : 1000/6000, loss = 0.016969\n",
      "epoch : 2000/6000, loss = 0.015736\n",
      "epoch : 3000/6000, loss = 0.014575\n",
      "epoch : 4000/6000, loss = 0.013348\n",
      "epoch : 5000/6000, loss = 0.007194\n",
      "epoch : 6000/6000, loss = 0.006309\n"
     ]
    },
    {
     "name": "stderr",
     "output_type": "stream",
     "text": [
      "1443it [8:20:02, 26.77s/it]"
     ]
    },
    {
     "name": "stdout",
     "output_type": "stream",
     "text": [
      "Current experiment parameters: ('27_PageBlocks', 0.0, 3), model: Customized, metrics: {'aucroc': 0.7501215730888486, 'aucpr': 0.41472164232575337}, fitting time: 243.4232268333435, inference time: 0.002992391586303711\n",
      "{'Samples': 5803, 'Features': 36, 'Anomalies': 71, 'Anomalies Ratio(%)': 1.22}\n",
      "Train data shape after filter corrcoef:  (4062, 36)\n",
      "epoch : 1000/6000, loss = 0.102914\n",
      "epoch : 2000/6000, loss = 0.091481\n",
      "epoch : 3000/6000, loss = 0.068886\n",
      "epoch : 4000/6000, loss = 0.064917\n",
      "epoch : 5000/6000, loss = 0.062517\n",
      "epoch : 6000/6000, loss = 0.060334\n"
     ]
    },
    {
     "name": "stderr",
     "output_type": "stream",
     "text": [
      "1465it [8:24:43, 20.66s/it]"
     ]
    },
    {
     "name": "stdout",
     "output_type": "stream",
     "text": [
      "Current experiment parameters: ('31_satimage-2', 0.0, 1), model: Customized, metrics: {'aucroc': 0.8129014396456257, 'aucpr': 0.10723452919147757}, fitting time: 280.75143337249756, inference time: 0.002994060516357422\n",
      "{'Samples': 5803, 'Features': 36, 'Anomalies': 71, 'Anomalies Ratio(%)': 1.22}\n",
      "Train data shape after filter corrcoef:  (4062, 36)\n",
      "epoch : 1000/6000, loss = 0.099891\n",
      "epoch : 2000/6000, loss = 0.088838\n",
      "epoch : 3000/6000, loss = 0.073362\n",
      "epoch : 4000/6000, loss = 0.065376\n",
      "epoch : 5000/6000, loss = 0.063084\n",
      "epoch : 6000/6000, loss = 0.060975\n"
     ]
    },
    {
     "name": "stderr",
     "output_type": "stream",
     "text": [
      "1466it [8:29:24, 27.83s/it]"
     ]
    },
    {
     "name": "stdout",
     "output_type": "stream",
     "text": [
      "Current experiment parameters: ('31_satimage-2', 0.0, 2), model: Customized, metrics: {'aucroc': 0.8392857142857143, 'aucpr': 0.1310128137097489}, fitting time: 280.64870738983154, inference time: 0.003989219665527344\n",
      "{'Samples': 5803, 'Features': 36, 'Anomalies': 71, 'Anomalies Ratio(%)': 1.22}\n",
      "Train data shape after filter corrcoef:  (4062, 36)\n",
      "epoch : 1000/6000, loss = 0.097764\n",
      "epoch : 2000/6000, loss = 0.072565\n",
      "epoch : 3000/6000, loss = 0.066389\n",
      "epoch : 4000/6000, loss = 0.064298\n",
      "epoch : 5000/6000, loss = 0.062088\n",
      "epoch : 6000/6000, loss = 0.061681\n"
     ]
    },
    {
     "name": "stderr",
     "output_type": "stream",
     "text": [
      "1467it [8:34:03, 37.36s/it]"
     ]
    },
    {
     "name": "stdout",
     "output_type": "stream",
     "text": [
      "Current experiment parameters: ('31_satimage-2', 0.0, 3), model: Customized, metrics: {'aucroc': 0.8447951273532669, 'aucpr': 0.27026424670129606}, fitting time: 278.9023780822754, inference time: 0.003989219665527344\n",
      "{'Samples': 5889, 'Features': 512, 'Anomalies': 294, 'Anomalies Ratio(%)': 4.99}\n"
     ]
    },
    {
     "name": "stderr",
     "output_type": "stream",
     "text": [
      "d:\\conda\\venv\\adbench\\Lib\\site-packages\\numpy\\lib\\function_base.py:2854: RuntimeWarning: invalid value encountered in divide\n",
      "  c /= stddev[:, None]\n",
      "d:\\conda\\venv\\adbench\\Lib\\site-packages\\numpy\\lib\\function_base.py:2855: RuntimeWarning: invalid value encountered in divide\n",
      "  c /= stddev[None, :]\n"
     ]
    },
    {
     "name": "stdout",
     "output_type": "stream",
     "text": [
      "Train data shape after filter corrcoef:  (4122, 512)\n",
      "epoch : 1000/6000, loss = 2.826047\n",
      "epoch : 2000/6000, loss = 2.346493\n",
      "epoch : 3000/6000, loss = 2.079444\n",
      "epoch : 4000/6000, loss = 1.963287\n",
      "epoch : 5000/6000, loss = 1.881461\n",
      "epoch : 6000/6000, loss = 1.843583\n"
     ]
    },
    {
     "name": "stderr",
     "output_type": "stream",
     "text": [
      "1489it [8:42:48, 30.03s/it]"
     ]
    },
    {
     "name": "stdout",
     "output_type": "stream",
     "text": [
      "Current experiment parameters: ('SVHN_7', 0.0, 1), model: Customized, metrics: {'aucroc': 0.7035167036656018, 'aucpr': 0.11349906531257489}, fitting time: 524.797828912735, inference time: 0.011968135833740234\n",
      "{'Samples': 6028, 'Features': 512, 'Anomalies': 301, 'Anomalies Ratio(%)': 4.99}\n"
     ]
    },
    {
     "name": "stderr",
     "output_type": "stream",
     "text": [
      "d:\\conda\\venv\\adbench\\Lib\\site-packages\\numpy\\lib\\function_base.py:2854: RuntimeWarning: invalid value encountered in divide\n",
      "  c /= stddev[:, None]\n",
      "d:\\conda\\venv\\adbench\\Lib\\site-packages\\numpy\\lib\\function_base.py:2855: RuntimeWarning: invalid value encountered in divide\n",
      "  c /= stddev[None, :]\n"
     ]
    },
    {
     "name": "stdout",
     "output_type": "stream",
     "text": [
      "Train data shape after filter corrcoef:  (4219, 512)\n",
      "epoch : 1000/6000, loss = 2.816243\n",
      "epoch : 2000/6000, loss = 2.558292\n",
      "epoch : 3000/6000, loss = 2.226652\n",
      "epoch : 4000/6000, loss = 2.128707\n",
      "epoch : 5000/6000, loss = 2.062738\n",
      "epoch : 6000/6000, loss = 2.016596\n"
     ]
    },
    {
     "name": "stderr",
     "output_type": "stream",
     "text": [
      "1513it [8:51:40, 26.43s/it]"
     ]
    },
    {
     "name": "stdout",
     "output_type": "stream",
     "text": [
      "Current experiment parameters: ('SVHN_6', 0.0, 1), model: Customized, metrics: {'aucroc': 0.5764915002262296, 'aucpr': 0.07639390818014914}, fitting time: 531.860258102417, inference time: 0.012965917587280273\n",
      "{'Samples': 6315, 'Features': 512, 'Anomalies': 315, 'Anomalies Ratio(%)': 4.99}\n"
     ]
    },
    {
     "name": "stderr",
     "output_type": "stream",
     "text": [
      "d:\\conda\\venv\\adbench\\Lib\\site-packages\\numpy\\lib\\function_base.py:2854: RuntimeWarning: invalid value encountered in divide\n",
      "  c /= stddev[:, None]\n",
      "d:\\conda\\venv\\adbench\\Lib\\site-packages\\numpy\\lib\\function_base.py:2855: RuntimeWarning: invalid value encountered in divide\n",
      "  c /= stddev[None, :]\n"
     ]
    },
    {
     "name": "stdout",
     "output_type": "stream",
     "text": [
      "Train data shape after filter corrcoef:  (4420, 512)\n",
      "epoch : 1000/6000, loss = 1.948560\n",
      "epoch : 2000/6000, loss = 1.729163\n",
      "epoch : 3000/6000, loss = 1.574527\n",
      "epoch : 4000/6000, loss = 1.454161\n",
      "epoch : 5000/6000, loss = 1.400045\n",
      "epoch : 6000/6000, loss = 1.354819\n"
     ]
    },
    {
     "name": "stderr",
     "output_type": "stream",
     "text": [
      "1537it [9:00:41, 24.88s/it]"
     ]
    },
    {
     "name": "stdout",
     "output_type": "stream",
     "text": [
      "Current experiment parameters: ('FashionMNIST_9', 0.0, 1), model: Customized, metrics: {'aucroc': 0.9340467836257309, 'aucpr': 0.4399537101034091}, fitting time: 540.2626507282257, inference time: 0.012964725494384766\n",
      "{'Samples': 6315, 'Features': 512, 'Anomalies': 315, 'Anomalies Ratio(%)': 4.99}\n"
     ]
    },
    {
     "name": "stderr",
     "output_type": "stream",
     "text": [
      "d:\\conda\\venv\\adbench\\Lib\\site-packages\\numpy\\lib\\function_base.py:2854: RuntimeWarning: invalid value encountered in divide\n",
      "  c /= stddev[:, None]\n",
      "d:\\conda\\venv\\adbench\\Lib\\site-packages\\numpy\\lib\\function_base.py:2855: RuntimeWarning: invalid value encountered in divide\n",
      "  c /= stddev[None, :]\n"
     ]
    },
    {
     "name": "stdout",
     "output_type": "stream",
     "text": [
      "Train data shape after filter corrcoef:  (4420, 512)\n",
      "epoch : 1000/6000, loss = 2.128043\n",
      "epoch : 2000/6000, loss = 1.842423\n",
      "epoch : 3000/6000, loss = 1.658657\n",
      "epoch : 4000/6000, loss = 1.542192\n",
      "epoch : 5000/6000, loss = 1.483539\n",
      "epoch : 6000/6000, loss = 1.443385\n"
     ]
    },
    {
     "name": "stderr",
     "output_type": "stream",
     "text": [
      "1561it [9:09:46, 24.10s/it]"
     ]
    },
    {
     "name": "stdout",
     "output_type": "stream",
     "text": [
      "Current experiment parameters: ('FashionMNIST_5', 0.0, 1), model: Customized, metrics: {'aucroc': 0.9205730994152046, 'aucpr': 0.45414461325117916}, fitting time: 544.6509177684784, inference time: 0.012965679168701172\n",
      "{'Samples': 6315, 'Features': 512, 'Anomalies': 315, 'Anomalies Ratio(%)': 4.99}\n"
     ]
    },
    {
     "name": "stderr",
     "output_type": "stream",
     "text": [
      "d:\\conda\\venv\\adbench\\Lib\\site-packages\\numpy\\lib\\function_base.py:2854: RuntimeWarning: invalid value encountered in divide\n",
      "  c /= stddev[:, None]\n",
      "d:\\conda\\venv\\adbench\\Lib\\site-packages\\numpy\\lib\\function_base.py:2855: RuntimeWarning: invalid value encountered in divide\n",
      "  c /= stddev[None, :]\n"
     ]
    },
    {
     "name": "stdout",
     "output_type": "stream",
     "text": [
      "Train data shape after filter corrcoef:  (4420, 512)\n",
      "epoch : 1000/6000, loss = 1.871477\n",
      "epoch : 2000/6000, loss = 1.558734\n",
      "epoch : 3000/6000, loss = 1.338969\n",
      "epoch : 4000/6000, loss = 1.251040\n",
      "epoch : 5000/6000, loss = 1.206265\n",
      "epoch : 6000/6000, loss = 1.176771\n"
     ]
    },
    {
     "name": "stderr",
     "output_type": "stream",
     "text": [
      "1585it [9:18:50, 23.61s/it]"
     ]
    },
    {
     "name": "stdout",
     "output_type": "stream",
     "text": [
      "Current experiment parameters: ('FashionMNIST_7', 0.0, 1), model: Customized, metrics: {'aucroc': 0.9571695906432749, 'aucpr': 0.6857271204647879}, fitting time: 543.5857663154602, inference time: 0.01396322250366211\n",
      "{'Samples': 6315, 'Features': 512, 'Anomalies': 315, 'Anomalies Ratio(%)': 4.99}\n"
     ]
    },
    {
     "name": "stderr",
     "output_type": "stream",
     "text": [
      "d:\\conda\\venv\\adbench\\Lib\\site-packages\\numpy\\lib\\function_base.py:2854: RuntimeWarning: invalid value encountered in divide\n",
      "  c /= stddev[:, None]\n",
      "d:\\conda\\venv\\adbench\\Lib\\site-packages\\numpy\\lib\\function_base.py:2855: RuntimeWarning: invalid value encountered in divide\n",
      "  c /= stddev[None, :]\n"
     ]
    },
    {
     "name": "stdout",
     "output_type": "stream",
     "text": [
      "Train data shape after filter corrcoef:  (4420, 512)\n",
      "epoch : 1000/6000, loss = 2.589092\n",
      "epoch : 2000/6000, loss = 2.141121\n",
      "epoch : 3000/6000, loss = 1.955814\n",
      "epoch : 4000/6000, loss = 1.837191\n",
      "epoch : 5000/6000, loss = 1.726706\n",
      "epoch : 6000/6000, loss = 1.666668\n"
     ]
    },
    {
     "name": "stderr",
     "output_type": "stream",
     "text": [
      "1609it [9:28:00, 23.38s/it]"
     ]
    },
    {
     "name": "stdout",
     "output_type": "stream",
     "text": [
      "Current experiment parameters: ('FashionMNIST_0', 0.0, 1), model: Customized, metrics: {'aucroc': 0.8441286549707603, 'aucpr': 0.25249793296453366}, fitting time: 549.375287771225, inference time: 0.013962984085083008\n",
      "{'Samples': 6315, 'Features': 512, 'Anomalies': 315, 'Anomalies Ratio(%)': 4.99}\n"
     ]
    },
    {
     "name": "stderr",
     "output_type": "stream",
     "text": [
      "d:\\conda\\venv\\adbench\\Lib\\site-packages\\numpy\\lib\\function_base.py:2854: RuntimeWarning: invalid value encountered in divide\n",
      "  c /= stddev[:, None]\n",
      "d:\\conda\\venv\\adbench\\Lib\\site-packages\\numpy\\lib\\function_base.py:2855: RuntimeWarning: invalid value encountered in divide\n",
      "  c /= stddev[None, :]\n"
     ]
    },
    {
     "name": "stdout",
     "output_type": "stream",
     "text": [
      "Train data shape after filter corrcoef:  (4420, 512)\n",
      "epoch : 1000/6000, loss = 1.967556\n",
      "epoch : 2000/6000, loss = 1.680504\n",
      "epoch : 3000/6000, loss = 1.547132\n",
      "epoch : 4000/6000, loss = 1.381120\n",
      "epoch : 5000/6000, loss = 1.311141\n",
      "epoch : 6000/6000, loss = 1.261378\n"
     ]
    },
    {
     "name": "stderr",
     "output_type": "stream",
     "text": [
      "1633it [9:37:05, 23.17s/it]"
     ]
    },
    {
     "name": "stdout",
     "output_type": "stream",
     "text": [
      "Current experiment parameters: ('FashionMNIST_1', 0.0, 1), model: Customized, metrics: {'aucroc': 0.9367017543859648, 'aucpr': 0.4011445536265434}, fitting time: 544.8553729057312, inference time: 0.012964725494384766\n",
      "{'Samples': 6315, 'Features': 512, 'Anomalies': 315, 'Anomalies Ratio(%)': 4.99}\n"
     ]
    },
    {
     "name": "stderr",
     "output_type": "stream",
     "text": [
      "d:\\conda\\venv\\adbench\\Lib\\site-packages\\numpy\\lib\\function_base.py:2854: RuntimeWarning: invalid value encountered in divide\n",
      "  c /= stddev[:, None]\n",
      "d:\\conda\\venv\\adbench\\Lib\\site-packages\\numpy\\lib\\function_base.py:2855: RuntimeWarning: invalid value encountered in divide\n",
      "  c /= stddev[None, :]\n"
     ]
    },
    {
     "name": "stdout",
     "output_type": "stream",
     "text": [
      "Train data shape after filter corrcoef:  (4420, 512)\n",
      "epoch : 1000/6000, loss = 2.785085\n",
      "epoch : 2000/6000, loss = 2.394932\n",
      "epoch : 3000/6000, loss = 2.159315\n",
      "epoch : 4000/6000, loss = 2.053855\n",
      "epoch : 5000/6000, loss = 1.985465\n",
      "epoch : 6000/6000, loss = 1.935949\n"
     ]
    },
    {
     "name": "stderr",
     "output_type": "stream",
     "text": [
      "1657it [9:46:18, 23.13s/it]"
     ]
    },
    {
     "name": "stdout",
     "output_type": "stream",
     "text": [
      "Current experiment parameters: ('FashionMNIST_8', 0.0, 1), model: Customized, metrics: {'aucroc': 0.7194093567251462, 'aucpr': 0.12483315206184192}, fitting time: 553.0993325710297, inference time: 0.013962745666503906\n",
      "{'Samples': 6315, 'Features': 512, 'Anomalies': 315, 'Anomalies Ratio(%)': 4.99}\n"
     ]
    },
    {
     "name": "stderr",
     "output_type": "stream",
     "text": [
      "d:\\conda\\venv\\adbench\\Lib\\site-packages\\numpy\\lib\\function_base.py:2854: RuntimeWarning: invalid value encountered in divide\n",
      "  c /= stddev[:, None]\n",
      "d:\\conda\\venv\\adbench\\Lib\\site-packages\\numpy\\lib\\function_base.py:2855: RuntimeWarning: invalid value encountered in divide\n",
      "  c /= stddev[None, :]\n"
     ]
    },
    {
     "name": "stdout",
     "output_type": "stream",
     "text": [
      "Train data shape after filter corrcoef:  (4420, 512)\n",
      "epoch : 1000/6000, loss = 2.604559\n",
      "epoch : 2000/6000, loss = 2.228375\n",
      "epoch : 3000/6000, loss = 1.978059\n",
      "epoch : 4000/6000, loss = 1.878895\n",
      "epoch : 5000/6000, loss = 1.811746\n",
      "epoch : 6000/6000, loss = 1.769595\n"
     ]
    },
    {
     "name": "stderr",
     "output_type": "stream",
     "text": [
      "1681it [9:55:26, 23.03s/it]"
     ]
    },
    {
     "name": "stdout",
     "output_type": "stream",
     "text": [
      "Current experiment parameters: ('FashionMNIST_4', 0.0, 1), model: Customized, metrics: {'aucroc': 0.7760877192982455, 'aucpr': 0.2014911827929201}, fitting time: 546.9797012805939, inference time: 0.013994216918945312\n",
      "{'Samples': 6315, 'Features': 512, 'Anomalies': 315, 'Anomalies Ratio(%)': 4.99}\n"
     ]
    },
    {
     "name": "stderr",
     "output_type": "stream",
     "text": [
      "d:\\conda\\venv\\adbench\\Lib\\site-packages\\numpy\\lib\\function_base.py:2854: RuntimeWarning: invalid value encountered in divide\n",
      "  c /= stddev[:, None]\n",
      "d:\\conda\\venv\\adbench\\Lib\\site-packages\\numpy\\lib\\function_base.py:2855: RuntimeWarning: invalid value encountered in divide\n",
      "  c /= stddev[None, :]\n"
     ]
    },
    {
     "name": "stdout",
     "output_type": "stream",
     "text": [
      "Train data shape after filter corrcoef:  (4420, 512)\n",
      "epoch : 1000/6000, loss = 2.669984\n",
      "epoch : 2000/6000, loss = 2.401465\n",
      "epoch : 3000/6000, loss = 2.079280\n",
      "epoch : 4000/6000, loss = 1.967505\n",
      "epoch : 5000/6000, loss = 1.811745\n",
      "epoch : 6000/6000, loss = 1.732560\n"
     ]
    },
    {
     "name": "stderr",
     "output_type": "stream",
     "text": [
      "1705it [10:04:37, 23.01s/it]"
     ]
    },
    {
     "name": "stdout",
     "output_type": "stream",
     "text": [
      "Current experiment parameters: ('FashionMNIST_2', 0.0, 1), model: Customized, metrics: {'aucroc': 0.8070233918128655, 'aucpr': 0.14592471783638694}, fitting time: 550.6800208091736, inference time: 0.013968229293823242\n",
      "{'Samples': 6315, 'Features': 512, 'Anomalies': 315, 'Anomalies Ratio(%)': 4.99}\n"
     ]
    },
    {
     "name": "stderr",
     "output_type": "stream",
     "text": [
      "d:\\conda\\venv\\adbench\\Lib\\site-packages\\numpy\\lib\\function_base.py:2854: RuntimeWarning: invalid value encountered in divide\n",
      "  c /= stddev[:, None]\n",
      "d:\\conda\\venv\\adbench\\Lib\\site-packages\\numpy\\lib\\function_base.py:2855: RuntimeWarning: invalid value encountered in divide\n",
      "  c /= stddev[None, :]\n"
     ]
    },
    {
     "name": "stdout",
     "output_type": "stream",
     "text": [
      "Train data shape after filter corrcoef:  (4420, 512)\n",
      "epoch : 1000/6000, loss = 2.420535\n",
      "epoch : 2000/6000, loss = 2.064480\n",
      "epoch : 3000/6000, loss = 1.891618\n",
      "epoch : 4000/6000, loss = 1.809665\n",
      "epoch : 5000/6000, loss = 1.749588\n",
      "epoch : 6000/6000, loss = 1.699704\n"
     ]
    },
    {
     "name": "stderr",
     "output_type": "stream",
     "text": [
      "1729it [10:13:45, 22.96s/it]"
     ]
    },
    {
     "name": "stdout",
     "output_type": "stream",
     "text": [
      "Current experiment parameters: ('FashionMNIST_3', 0.0, 1), model: Customized, metrics: {'aucroc': 0.8545380116959064, 'aucpr': 0.24107696836369463}, fitting time: 547.9759974479675, inference time: 0.01296544075012207\n",
      "{'Samples': 6315, 'Features': 512, 'Anomalies': 315, 'Anomalies Ratio(%)': 4.99}\n"
     ]
    },
    {
     "name": "stderr",
     "output_type": "stream",
     "text": [
      "d:\\conda\\venv\\adbench\\Lib\\site-packages\\numpy\\lib\\function_base.py:2854: RuntimeWarning: invalid value encountered in divide\n",
      "  c /= stddev[:, None]\n",
      "d:\\conda\\venv\\adbench\\Lib\\site-packages\\numpy\\lib\\function_base.py:2855: RuntimeWarning: invalid value encountered in divide\n",
      "  c /= stddev[None, :]\n"
     ]
    },
    {
     "name": "stdout",
     "output_type": "stream",
     "text": [
      "Train data shape after filter corrcoef:  (4420, 512)\n",
      "epoch : 1000/6000, loss = 2.926000\n",
      "epoch : 2000/6000, loss = 2.504186\n",
      "epoch : 3000/6000, loss = 2.258636\n",
      "epoch : 4000/6000, loss = 2.144389\n",
      "epoch : 5000/6000, loss = 2.071182\n",
      "epoch : 6000/6000, loss = 2.022618\n"
     ]
    },
    {
     "name": "stderr",
     "output_type": "stream",
     "text": [
      "1753it [10:22:53, 22.92s/it]"
     ]
    },
    {
     "name": "stdout",
     "output_type": "stream",
     "text": [
      "Current experiment parameters: ('FashionMNIST_6', 0.0, 1), model: Customized, metrics: {'aucroc': 0.7132397660818713, 'aucpr': 0.11433611969576807}, fitting time: 547.1791589260101, inference time: 0.013963699340820312\n",
      "{'Samples': 6435, 'Features': 36, 'Anomalies': 1333, 'Anomalies Ratio(%)': 20.71}\n",
      "Train data shape after filter corrcoef:  (4504, 36)\n",
      "epoch : 1000/6000, loss = 0.102545\n",
      "epoch : 2000/6000, loss = 0.081035\n",
      "epoch : 3000/6000, loss = 0.066754\n",
      "epoch : 4000/6000, loss = 0.063475\n",
      "epoch : 5000/6000, loss = 0.061136\n",
      "epoch : 6000/6000, loss = 0.060344\n"
     ]
    },
    {
     "name": "stderr",
     "output_type": "stream",
     "text": [
      "1777it [10:27:50, 19.73s/it]"
     ]
    },
    {
     "name": "stdout",
     "output_type": "stream",
     "text": [
      "Current experiment parameters: ('19_landsat', 0.0, 1), model: Customized, metrics: {'aucroc': 0.594634225996081, 'aucpr': 0.2602541190823526}, fitting time: 296.7187445163727, inference time: 0.003989458084106445\n",
      "{'Samples': 6435, 'Features': 36, 'Anomalies': 1333, 'Anomalies Ratio(%)': 20.71}\n",
      "Train data shape after filter corrcoef:  (4504, 36)\n",
      "epoch : 1000/6000, loss = 0.089981\n",
      "epoch : 2000/6000, loss = 0.069905\n",
      "epoch : 3000/6000, loss = 0.063528\n",
      "epoch : 4000/6000, loss = 0.064609\n",
      "epoch : 5000/6000, loss = 0.059939\n",
      "epoch : 6000/6000, loss = 0.058012\n"
     ]
    },
    {
     "name": "stderr",
     "output_type": "stream",
     "text": [
      "1778it [10:32:46, 24.62s/it]"
     ]
    },
    {
     "name": "stdout",
     "output_type": "stream",
     "text": [
      "Current experiment parameters: ('19_landsat', 0.0, 2), model: Customized, metrics: {'aucroc': 0.589893860222077, 'aucpr': 0.27307631821563116}, fitting time: 296.37366819381714, inference time: 0.0029921531677246094\n",
      "{'Samples': 6435, 'Features': 36, 'Anomalies': 1333, 'Anomalies Ratio(%)': 20.71}\n",
      "Train data shape after filter corrcoef:  (4504, 36)\n",
      "epoch : 1000/6000, loss = 0.119116\n",
      "epoch : 2000/6000, loss = 0.099093\n",
      "epoch : 3000/6000, loss = 0.088806\n",
      "epoch : 4000/6000, loss = 0.086586\n",
      "epoch : 5000/6000, loss = 0.083416\n",
      "epoch : 6000/6000, loss = 0.076627\n"
     ]
    },
    {
     "name": "stderr",
     "output_type": "stream",
     "text": [
      "1779it [10:37:43, 31.32s/it]"
     ]
    },
    {
     "name": "stdout",
     "output_type": "stream",
     "text": [
      "Current experiment parameters: ('19_landsat', 0.0, 3), model: Customized, metrics: {'aucroc': 0.5751192031352057, 'aucpr': 0.2756793390173633}, fitting time: 296.1901593208313, inference time: 0.003988981246948242\n",
      "{'Samples': 6435, 'Features': 36, 'Anomalies': 2036, 'Anomalies Ratio(%)': 31.64}\n",
      "Train data shape after filter corrcoef:  (4504, 36)\n",
      "epoch : 1000/6000, loss = 0.107244\n",
      "epoch : 2000/6000, loss = 0.089715\n",
      "epoch : 3000/6000, loss = 0.069889\n",
      "epoch : 4000/6000, loss = 0.064125\n",
      "epoch : 5000/6000, loss = 0.062533\n",
      "epoch : 6000/6000, loss = 0.061642\n"
     ]
    },
    {
     "name": "stderr",
     "output_type": "stream",
     "text": [
      "1801it [10:42:41, 23.57s/it]"
     ]
    },
    {
     "name": "stdout",
     "output_type": "stream",
     "text": [
      "Current experiment parameters: ('30_satellite', 0.0, 1), model: Customized, metrics: {'aucroc': 0.6370654168526508, 'aucpr': 0.48346616949711296}, fitting time: 297.76295471191406, inference time: 0.0039899349212646484\n",
      "{'Samples': 6435, 'Features': 36, 'Anomalies': 2036, 'Anomalies Ratio(%)': 31.64}\n",
      "Train data shape after filter corrcoef:  (4504, 36)\n",
      "epoch : 1000/6000, loss = 0.107208\n",
      "epoch : 2000/6000, loss = 0.073357\n",
      "epoch : 3000/6000, loss = 0.064543\n",
      "epoch : 4000/6000, loss = 0.060810\n",
      "epoch : 5000/6000, loss = 0.059703\n",
      "epoch : 6000/6000, loss = 0.058122\n"
     ]
    },
    {
     "name": "stderr",
     "output_type": "stream",
     "text": [
      "1802it [10:47:37, 31.08s/it]"
     ]
    },
    {
     "name": "stdout",
     "output_type": "stream",
     "text": [
      "Current experiment parameters: ('30_satellite', 0.0, 2), model: Customized, metrics: {'aucroc': 0.649273421613847, 'aucpr': 0.46550767266105725}, fitting time: 296.0834445953369, inference time: 0.0029935836791992188\n",
      "{'Samples': 6435, 'Features': 36, 'Anomalies': 2036, 'Anomalies Ratio(%)': 31.64}\n",
      "Train data shape after filter corrcoef:  (4504, 36)\n",
      "epoch : 1000/6000, loss = 0.121109\n",
      "epoch : 2000/6000, loss = 0.098374\n",
      "epoch : 3000/6000, loss = 0.089143\n",
      "epoch : 4000/6000, loss = 0.070119\n",
      "epoch : 5000/6000, loss = 0.063149\n",
      "epoch : 6000/6000, loss = 0.060997\n"
     ]
    },
    {
     "name": "stderr",
     "output_type": "stream",
     "text": [
      "1803it [10:52:34, 41.14s/it]"
     ]
    },
    {
     "name": "stdout",
     "output_type": "stream",
     "text": [
      "Current experiment parameters: ('30_satellite', 0.0, 3), model: Customized, metrics: {'aucroc': 0.6527860437434905, 'aucpr': 0.4828986871744385}, fitting time: 296.61901235580444, inference time: 0.00399017333984375\n",
      "{'Samples': 6870, 'Features': 16, 'Anomalies': 156, 'Anomalies Ratio(%)': 2.27}\n",
      "Train data shape after filter corrcoef:  (4809, 16)\n",
      "epoch : 1000/6000, loss = 0.105850\n",
      "epoch : 2000/6000, loss = 0.074995\n",
      "epoch : 3000/6000, loss = 0.066616\n",
      "epoch : 4000/6000, loss = 0.064204\n",
      "epoch : 5000/6000, loss = 0.059992\n",
      "epoch : 6000/6000, loss = 0.056930\n"
     ]
    },
    {
     "name": "stderr",
     "output_type": "stream",
     "text": [
      "1825it [10:57:41, 26.37s/it]"
     ]
    },
    {
     "name": "stdout",
     "output_type": "stream",
     "text": [
      "Current experiment parameters: ('28_pendigits', 0.0, 1), model: Customized, metrics: {'aucroc': 0.5718586912886391, 'aucpr': 0.030561629837845352}, fitting time: 306.58038210868835, inference time: 0.003988504409790039\n",
      "{'Samples': 6870, 'Features': 16, 'Anomalies': 156, 'Anomalies Ratio(%)': 2.27}\n",
      "Train data shape after filter corrcoef:  (4809, 16)\n",
      "epoch : 1000/6000, loss = 0.097352\n",
      "epoch : 2000/6000, loss = 0.083261\n",
      "epoch : 3000/6000, loss = 0.070153\n",
      "epoch : 4000/6000, loss = 0.064750\n",
      "epoch : 5000/6000, loss = 0.064892\n",
      "epoch : 6000/6000, loss = 0.060388\n"
     ]
    },
    {
     "name": "stderr",
     "output_type": "stream",
     "text": [
      "1826it [11:02:46, 35.86s/it]"
     ]
    },
    {
     "name": "stdout",
     "output_type": "stream",
     "text": [
      "Current experiment parameters: ('28_pendigits', 0.0, 2), model: Customized, metrics: {'aucroc': 0.6793509264932706, 'aucpr': 0.05492686245628024}, fitting time: 304.7113769054413, inference time: 0.003989458084106445\n",
      "{'Samples': 6870, 'Features': 16, 'Anomalies': 156, 'Anomalies Ratio(%)': 2.27}\n",
      "Train data shape after filter corrcoef:  (4809, 16)\n",
      "epoch : 1000/6000, loss = 0.115329\n",
      "epoch : 2000/6000, loss = 0.097572\n",
      "epoch : 3000/6000, loss = 0.092213\n",
      "epoch : 4000/6000, loss = 0.085277\n",
      "epoch : 5000/6000, loss = 0.073757\n",
      "epoch : 6000/6000, loss = 0.071009\n"
     ]
    },
    {
     "name": "stderr",
     "output_type": "stream",
     "text": [
      "1827it [11:07:53, 48.46s/it]"
     ]
    },
    {
     "name": "stdout",
     "output_type": "stream",
     "text": [
      "Current experiment parameters: ('28_pendigits', 0.0, 3), model: Customized, metrics: {'aucroc': 0.5216357835576496, 'aucpr': 0.02730192193960407}, fitting time: 306.9683153629303, inference time: 0.003989696502685547\n",
      "{'Samples': 7200, 'Features': 6, 'Anomalies': 534, 'Anomalies Ratio(%)': 7.42}\n",
      "Train data shape after filter corrcoef:  (5040, 6)\n",
      "epoch : 1000/6000, loss = 0.013007\n",
      "epoch : 2000/6000, loss = 0.011909\n",
      "epoch : 3000/6000, loss = 0.011467\n",
      "epoch : 4000/6000, loss = 0.011313\n",
      "epoch : 5000/6000, loss = 0.011186\n",
      "epoch : 6000/6000, loss = 0.010894\n"
     ]
    },
    {
     "name": "stderr",
     "output_type": "stream",
     "text": [
      "1849it [11:12:27, 27.07s/it]"
     ]
    },
    {
     "name": "stdout",
     "output_type": "stream",
     "text": [
      "Current experiment parameters: ('2_annthyroid', 0.0, 1), model: Customized, metrics: {'aucroc': 0.700840625, 'aucpr': 0.21121535828904361}, fitting time: 272.7438404560089, inference time: 0.003988981246948242\n",
      "{'Samples': 7200, 'Features': 6, 'Anomalies': 534, 'Anomalies Ratio(%)': 7.42}\n",
      "Train data shape after filter corrcoef:  (5040, 6)\n",
      "epoch : 1000/6000, loss = 0.020911\n",
      "epoch : 2000/6000, loss = 0.011749\n",
      "epoch : 3000/6000, loss = 0.011239\n",
      "epoch : 4000/6000, loss = 0.010925\n",
      "epoch : 5000/6000, loss = 0.010885\n",
      "epoch : 6000/6000, loss = 0.010666\n"
     ]
    },
    {
     "name": "stderr",
     "output_type": "stream",
     "text": [
      "1850it [11:16:50, 35.84s/it]"
     ]
    },
    {
     "name": "stdout",
     "output_type": "stream",
     "text": [
      "Current experiment parameters: ('2_annthyroid', 0.0, 2), model: Customized, metrics: {'aucroc': 0.6534093750000001, 'aucpr': 0.11599849428960561}, fitting time: 263.2372558116913, inference time: 0.003989219665527344\n",
      "{'Samples': 7200, 'Features': 6, 'Anomalies': 534, 'Anomalies Ratio(%)': 7.42}\n",
      "Train data shape after filter corrcoef:  (5040, 6)\n",
      "epoch : 1000/6000, loss = 0.022602\n",
      "epoch : 2000/6000, loss = 0.011207\n",
      "epoch : 3000/6000, loss = 0.010676\n",
      "epoch : 4000/6000, loss = 0.010417\n",
      "epoch : 5000/6000, loss = 0.010257\n",
      "epoch : 6000/6000, loss = 0.010273\n"
     ]
    },
    {
     "name": "stderr",
     "output_type": "stream",
     "text": [
      "1851it [11:21:21, 47.69s/it]"
     ]
    },
    {
     "name": "stdout",
     "output_type": "stream",
     "text": [
      "Current experiment parameters: ('2_annthyroid', 0.0, 3), model: Customized, metrics: {'aucroc': 0.65221875, 'aucpr': 0.10930602519956256}, fitting time: 271.016459941864, inference time: 0.003988742828369141\n",
      "{'Samples': 7244, 'Features': 512, 'Anomalies': 362, 'Anomalies Ratio(%)': 5.0}\n"
     ]
    },
    {
     "name": "stderr",
     "output_type": "stream",
     "text": [
      "d:\\conda\\venv\\adbench\\Lib\\site-packages\\numpy\\lib\\function_base.py:2854: RuntimeWarning: invalid value encountered in divide\n",
      "  c /= stddev[:, None]\n",
      "d:\\conda\\venv\\adbench\\Lib\\site-packages\\numpy\\lib\\function_base.py:2855: RuntimeWarning: invalid value encountered in divide\n",
      "  c /= stddev[None, :]\n"
     ]
    },
    {
     "name": "stdout",
     "output_type": "stream",
     "text": [
      "Train data shape after filter corrcoef:  (5070, 511)\n",
      "epoch : 1000/6000, loss = 2.390922\n",
      "epoch : 2000/6000, loss = 2.170374\n",
      "epoch : 3000/6000, loss = 2.069864\n",
      "epoch : 4000/6000, loss = 1.940952\n",
      "epoch : 5000/6000, loss = 1.845009\n",
      "epoch : 6000/6000, loss = 1.792341\n"
     ]
    },
    {
     "name": "stderr",
     "output_type": "stream",
     "text": [
      "1873it [11:31:21, 35.18s/it]"
     ]
    },
    {
     "name": "stdout",
     "output_type": "stream",
     "text": [
      "Current experiment parameters: ('SVHN_5', 0.0, 1), model: Customized, metrics: {'aucroc': 0.6921340826798765, 'aucpr': 0.1426202584369977}, fitting time: 599.6679406166077, inference time: 0.016954898834228516\n",
      "{'Samples': 7603, 'Features': 100, 'Anomalies': 700, 'Anomalies Ratio(%)': 9.21}\n"
     ]
    },
    {
     "name": "stderr",
     "output_type": "stream",
     "text": [
      "d:\\conda\\venv\\adbench\\Lib\\site-packages\\numpy\\lib\\function_base.py:2854: RuntimeWarning: invalid value encountered in divide\n",
      "  c /= stddev[:, None]\n",
      "d:\\conda\\venv\\adbench\\Lib\\site-packages\\numpy\\lib\\function_base.py:2855: RuntimeWarning: invalid value encountered in divide\n",
      "  c /= stddev[None, :]\n"
     ]
    },
    {
     "name": "stdout",
     "output_type": "stream",
     "text": [
      "Train data shape after filter corrcoef:  (5322, 100)\n",
      "epoch : 1000/6000, loss = 2.327226\n",
      "epoch : 2000/6000, loss = 1.859969\n",
      "epoch : 3000/6000, loss = 1.710352\n",
      "epoch : 4000/6000, loss = 1.624865\n",
      "epoch : 5000/6000, loss = 1.566455\n",
      "epoch : 6000/6000, loss = 1.510307\n"
     ]
    },
    {
     "name": "stderr",
     "output_type": "stream",
     "text": [
      "1897it [11:37:35, 25.60s/it]"
     ]
    },
    {
     "name": "stdout",
     "output_type": "stream",
     "text": [
      "Current experiment parameters: ('24_mnist', 0.0, 1), model: Customized, metrics: {'aucroc': 0.726016877055023, 'aucpr': 0.2593419547345986}, fitting time: 373.1543695926666, inference time: 0.005984306335449219\n",
      "{'Samples': 7603, 'Features': 100, 'Anomalies': 700, 'Anomalies Ratio(%)': 9.21}\n"
     ]
    },
    {
     "name": "stderr",
     "output_type": "stream",
     "text": [
      "d:\\conda\\venv\\adbench\\Lib\\site-packages\\numpy\\lib\\function_base.py:2854: RuntimeWarning: invalid value encountered in divide\n",
      "  c /= stddev[:, None]\n",
      "d:\\conda\\venv\\adbench\\Lib\\site-packages\\numpy\\lib\\function_base.py:2855: RuntimeWarning: invalid value encountered in divide\n",
      "  c /= stddev[None, :]\n"
     ]
    },
    {
     "name": "stdout",
     "output_type": "stream",
     "text": [
      "Train data shape after filter corrcoef:  (5322, 100)\n",
      "epoch : 1000/6000, loss = 2.163609\n",
      "epoch : 2000/6000, loss = 1.839033\n",
      "epoch : 3000/6000, loss = 1.650374\n",
      "epoch : 4000/6000, loss = 1.501495\n",
      "epoch : 5000/6000, loss = 1.417635\n",
      "epoch : 6000/6000, loss = 1.363812\n"
     ]
    },
    {
     "name": "stderr",
     "output_type": "stream",
     "text": [
      "1898it [11:43:57, 35.68s/it]"
     ]
    },
    {
     "name": "stdout",
     "output_type": "stream",
     "text": [
      "Current experiment parameters: ('24_mnist', 0.0, 2), model: Customized, metrics: {'aucroc': 0.7258536248879079, 'aucpr': 0.23611063722751244}, fitting time: 382.0146791934967, inference time: 0.006981372833251953\n",
      "{'Samples': 7603, 'Features': 100, 'Anomalies': 700, 'Anomalies Ratio(%)': 9.21}\n"
     ]
    },
    {
     "name": "stderr",
     "output_type": "stream",
     "text": [
      "d:\\conda\\venv\\adbench\\Lib\\site-packages\\numpy\\lib\\function_base.py:2854: RuntimeWarning: invalid value encountered in divide\n",
      "  c /= stddev[:, None]\n",
      "d:\\conda\\venv\\adbench\\Lib\\site-packages\\numpy\\lib\\function_base.py:2855: RuntimeWarning: invalid value encountered in divide\n",
      "  c /= stddev[None, :]\n"
     ]
    },
    {
     "name": "stdout",
     "output_type": "stream",
     "text": [
      "Train data shape after filter corrcoef:  (5322, 100)\n",
      "epoch : 1000/6000, loss = 2.147481\n",
      "epoch : 2000/6000, loss = 1.738328\n",
      "epoch : 3000/6000, loss = 1.517835\n",
      "epoch : 4000/6000, loss = 1.411402\n",
      "epoch : 5000/6000, loss = 1.307816\n",
      "epoch : 6000/6000, loss = 1.213288\n"
     ]
    },
    {
     "name": "stderr",
     "output_type": "stream",
     "text": [
      "1899it [11:50:14, 48.93s/it]"
     ]
    },
    {
     "name": "stdout",
     "output_type": "stream",
     "text": [
      "Current experiment parameters: ('24_mnist', 0.0, 3), model: Customized, metrics: {'aucroc': 0.7514497252305073, 'aucpr': 0.27770651776384736}, fitting time: 377.04197788238525, inference time: 0.005984306335449219\n",
      "{'Samples': 7850, 'Features': 512, 'Anomalies': 392, 'Anomalies Ratio(%)': 4.99}\n"
     ]
    },
    {
     "name": "stderr",
     "output_type": "stream",
     "text": [
      "d:\\conda\\venv\\adbench\\Lib\\site-packages\\numpy\\lib\\function_base.py:2854: RuntimeWarning: invalid value encountered in divide\n",
      "  c /= stddev[:, None]\n",
      "d:\\conda\\venv\\adbench\\Lib\\site-packages\\numpy\\lib\\function_base.py:2855: RuntimeWarning: invalid value encountered in divide\n",
      "  c /= stddev[None, :]\n"
     ]
    },
    {
     "name": "stdout",
     "output_type": "stream",
     "text": [
      "Train data shape after filter corrcoef:  (5495, 512)\n",
      "epoch : 1000/6000, loss = 2.594632\n",
      "epoch : 2000/6000, loss = 2.145245\n",
      "epoch : 3000/6000, loss = 1.987167\n",
      "epoch : 4000/6000, loss = 1.861931\n",
      "epoch : 5000/6000, loss = 1.741172\n",
      "epoch : 6000/6000, loss = 1.692774\n"
     ]
    },
    {
     "name": "stderr",
     "output_type": "stream",
     "text": [
      "1921it [12:01:56, 39.56s/it]"
     ]
    },
    {
     "name": "stdout",
     "output_type": "stream",
     "text": [
      "Current experiment parameters: ('SVHN_4', 0.0, 1), model: Customized, metrics: {'aucroc': 0.6196593500678117, 'aucpr': 0.07543043522553311}, fitting time: 700.6787583827972, inference time: 0.01795220375061035\n",
      "{'Samples': 8944, 'Features': 512, 'Anomalies': 447, 'Anomalies Ratio(%)': 5.0}\n"
     ]
    },
    {
     "name": "stderr",
     "output_type": "stream",
     "text": [
      "d:\\conda\\venv\\adbench\\Lib\\site-packages\\numpy\\lib\\function_base.py:2854: RuntimeWarning: invalid value encountered in divide\n",
      "  c /= stddev[:, None]\n",
      "d:\\conda\\venv\\adbench\\Lib\\site-packages\\numpy\\lib\\function_base.py:2855: RuntimeWarning: invalid value encountered in divide\n",
      "  c /= stddev[None, :]\n"
     ]
    },
    {
     "name": "stdout",
     "output_type": "stream",
     "text": [
      "Train data shape after filter corrcoef:  (6260, 512)\n",
      "epoch : 1000/6000, loss = 2.535357\n",
      "epoch : 2000/6000, loss = 2.315093\n",
      "epoch : 3000/6000, loss = 1.910177\n",
      "epoch : 4000/6000, loss = 1.806328\n",
      "epoch : 5000/6000, loss = 1.756495\n",
      "epoch : 6000/6000, loss = 1.720753\n"
     ]
    },
    {
     "name": "stderr",
     "output_type": "stream",
     "text": [
      "1945it [12:14:39, 35.98s/it]"
     ]
    },
    {
     "name": "stdout",
     "output_type": "stream",
     "text": [
      "Current experiment parameters: ('SVHN_3', 0.0, 1), model: Customized, metrics: {'aucroc': 0.6214427860696516, 'aucpr': 0.07595658725906308}, fitting time: 763.0195548534393, inference time: 0.02094411849975586\n",
      "{'Samples': 10000, 'Features': 512, 'Anomalies': 500, 'Anomalies Ratio(%)': 5.0}\n"
     ]
    },
    {
     "name": "stderr",
     "output_type": "stream",
     "text": [
      "d:\\conda\\venv\\adbench\\Lib\\site-packages\\numpy\\lib\\function_base.py:2854: RuntimeWarning: invalid value encountered in divide\n",
      "  c /= stddev[:, None]\n",
      "d:\\conda\\venv\\adbench\\Lib\\site-packages\\numpy\\lib\\function_base.py:2855: RuntimeWarning: invalid value encountered in divide\n",
      "  c /= stddev[None, :]\n"
     ]
    },
    {
     "name": "stdout",
     "output_type": "stream",
     "text": [
      "Train data shape after filter corrcoef:  (7000, 511)\n",
      "epoch : 1000/6000, loss = 2.461049\n",
      "epoch : 2000/6000, loss = 2.071221\n",
      "epoch : 3000/6000, loss = 1.972440\n",
      "epoch : 4000/6000, loss = 1.917131\n",
      "epoch : 5000/6000, loss = 1.877957\n",
      "epoch : 6000/6000, loss = 1.848429\n"
     ]
    },
    {
     "name": "stderr",
     "output_type": "stream",
     "text": [
      "1969it [12:28:21, 35.30s/it]"
     ]
    },
    {
     "name": "stdout",
     "output_type": "stream",
     "text": [
      "Current experiment parameters: ('SVHN_2', 0.0, 1), model: Customized, metrics: {'aucroc': 0.6424491228070176, 'aucpr': 0.09902604395162379}, fitting time: 821.8750698566437, inference time: 0.02290964126586914\n",
      "{'Samples': 10000, 'Features': 768, 'Anomalies': 500, 'Anomalies Ratio(%)': 5.0}\n",
      "Train data shape after filter corrcoef:  (7000, 739)\n",
      "epoch : 1000/6000, loss = 3.015916\n",
      "epoch : 2000/6000, loss = 2.501122\n",
      "epoch : 3000/6000, loss = 2.424917\n",
      "epoch : 4000/6000, loss = 2.167344\n",
      "epoch : 5000/6000, loss = 2.002821\n",
      "epoch : 6000/6000, loss = 1.957108\n"
     ]
    },
    {
     "name": "stderr",
     "output_type": "stream",
     "text": [
      "1993it [12:45:41, 38.21s/it]"
     ]
    },
    {
     "name": "stdout",
     "output_type": "stream",
     "text": [
      "Current experiment parameters: ('agnews_0', 0.0, 1), model: Customized, metrics: {'aucroc': 0.6018105263157895, 'aucpr': 0.08220506094016121}, fitting time: 1039.6473951339722, inference time: 0.02991938591003418\n",
      "{'Samples': 10000, 'Features': 768, 'Anomalies': 500, 'Anomalies Ratio(%)': 5.0}\n",
      "Train data shape after filter corrcoef:  (7000, 738)\n",
      "epoch : 1000/6000, loss = 2.875435\n",
      "epoch : 2000/6000, loss = 2.396579\n",
      "epoch : 3000/6000, loss = 2.085363\n",
      "epoch : 4000/6000, loss = 2.001719\n",
      "epoch : 5000/6000, loss = 1.828638\n",
      "epoch : 6000/6000, loss = 1.787547\n"
     ]
    },
    {
     "name": "stderr",
     "output_type": "stream",
     "text": [
      "2017it [13:03:02, 39.97s/it]"
     ]
    },
    {
     "name": "stdout",
     "output_type": "stream",
     "text": [
      "Current experiment parameters: ('agnews_1', 0.0, 1), model: Customized, metrics: {'aucroc': 0.668145029239766, 'aucpr': 0.08203867795130217}, fitting time: 1040.4887244701385, inference time: 0.0329129695892334\n",
      "{'Samples': 10000, 'Features': 768, 'Anomalies': 500, 'Anomalies Ratio(%)': 5.0}\n",
      "Train data shape after filter corrcoef:  (7000, 739)\n",
      "epoch : 1000/6000, loss = 3.063180\n",
      "epoch : 2000/6000, loss = 2.104478\n",
      "epoch : 3000/6000, loss = 1.974542\n",
      "epoch : 4000/6000, loss = 1.835510\n",
      "epoch : 5000/6000, loss = 1.801234\n",
      "epoch : 6000/6000, loss = 1.640167\n"
     ]
    },
    {
     "name": "stderr",
     "output_type": "stream",
     "text": [
      "2041it [13:20:34, 41.23s/it]"
     ]
    },
    {
     "name": "stdout",
     "output_type": "stream",
     "text": [
      "Current experiment parameters: ('agnews_2', 0.0, 1), model: Customized, metrics: {'aucroc': 0.7686666666666666, 'aucpr': 0.17996814978878828}, fitting time: 1051.1161477565765, inference time: 0.03291201591491699\n",
      "{'Samples': 10000, 'Features': 768, 'Anomalies': 500, 'Anomalies Ratio(%)': 5.0}\n",
      "Train data shape after filter corrcoef:  (7000, 740)\n",
      "epoch : 1000/6000, loss = 2.882000\n",
      "epoch : 2000/6000, loss = 2.347994\n",
      "epoch : 3000/6000, loss = 2.058765\n",
      "epoch : 4000/6000, loss = 1.994495\n",
      "epoch : 5000/6000, loss = 1.963125\n",
      "epoch : 6000/6000, loss = 1.829312\n"
     ]
    },
    {
     "name": "stderr",
     "output_type": "stream",
     "text": [
      "2065it [13:37:57, 41.94s/it]"
     ]
    },
    {
     "name": "stdout",
     "output_type": "stream",
     "text": [
      "Current experiment parameters: ('agnews_3', 0.0, 1), model: Customized, metrics: {'aucroc': 0.6740678362573099, 'aucpr': 0.10650438204040907}, fitting time: 1042.2360110282898, inference time: 0.03690147399902344\n",
      "{'Samples': 10000, 'Features': 768, 'Anomalies': 500, 'Anomalies Ratio(%)': 5.0}\n",
      "Train data shape after filter corrcoef:  (7000, 739)\n",
      "epoch : 1000/6000, loss = 2.772939\n",
      "epoch : 2000/6000, loss = 2.298411\n",
      "epoch : 3000/6000, loss = 2.043263\n",
      "epoch : 4000/6000, loss = 1.969456\n",
      "epoch : 5000/6000, loss = 1.935747\n",
      "epoch : 6000/6000, loss = 1.824935\n"
     ]
    },
    {
     "name": "stderr",
     "output_type": "stream",
     "text": [
      "2089it [13:56:06, 43.01s/it]"
     ]
    },
    {
     "name": "stdout",
     "output_type": "stream",
     "text": [
      "Current experiment parameters: ('amazon', 0.0, 1), model: Customized, metrics: {'aucroc': 0.5768327485380117, 'aucpr': 0.05777465344415305}, fitting time: 1088.4677147865295, inference time: 0.032993316650390625\n",
      "{'Samples': 10000, 'Features': 512, 'Anomalies': 500, 'Anomalies Ratio(%)': 5.0}\n"
     ]
    },
    {
     "name": "stderr",
     "output_type": "stream",
     "text": [
      "d:\\conda\\venv\\adbench\\Lib\\site-packages\\numpy\\lib\\function_base.py:2854: RuntimeWarning: invalid value encountered in divide\n",
      "  c /= stddev[:, None]\n",
      "d:\\conda\\venv\\adbench\\Lib\\site-packages\\numpy\\lib\\function_base.py:2855: RuntimeWarning: invalid value encountered in divide\n",
      "  c /= stddev[None, :]\n"
     ]
    },
    {
     "name": "stdout",
     "output_type": "stream",
     "text": [
      "Train data shape after filter corrcoef:  (7000, 512)\n",
      "epoch : 1000/6000, loss = 2.429169\n",
      "epoch : 2000/6000, loss = 2.040441\n",
      "epoch : 3000/6000, loss = 1.824352\n",
      "epoch : 4000/6000, loss = 1.728668\n",
      "epoch : 5000/6000, loss = 1.676414\n",
      "epoch : 6000/6000, loss = 1.644170\n"
     ]
    },
    {
     "name": "stderr",
     "output_type": "stream",
     "text": [
      "2113it [14:11:33, 41.67s/it]"
     ]
    },
    {
     "name": "stdout",
     "output_type": "stream",
     "text": [
      "Current experiment parameters: ('SVHN_1', 0.0, 1), model: Customized, metrics: {'aucroc': 0.6440210526315789, 'aucpr': 0.07643840905120211}, fitting time: 927.2663307189941, inference time: 0.02608036994934082\n",
      "{'Samples': 10000, 'Features': 10, 'Anomalies': 97, 'Anomalies Ratio(%)': 0.97}\n",
      "Train data shape after filter corrcoef:  (7000, 10)\n",
      "epoch : 1000/6000, loss = 0.056355\n",
      "epoch : 2000/6000, loss = 0.034289\n",
      "epoch : 3000/6000, loss = 0.030816\n",
      "epoch : 4000/6000, loss = 0.030194\n",
      "epoch : 5000/6000, loss = 0.029528\n",
      "epoch : 6000/6000, loss = 0.028594\n"
     ]
    },
    {
     "name": "stderr",
     "output_type": "stream",
     "text": [
      "2137it [14:17:45, 33.65s/it]"
     ]
    },
    {
     "name": "stdout",
     "output_type": "stream",
     "text": [
      "Current experiment parameters: ('10_cover', 0.0, 1), model: Customized, metrics: {'aucroc': 0.5227776552652654, 'aucpr': 0.018902630733448177}, fitting time: 371.5522429943085, inference time: 0.0049860477447509766\n",
      "{'Samples': 10000, 'Features': 10, 'Anomalies': 116, 'Anomalies Ratio(%)': 1.16}\n",
      "Train data shape after filter corrcoef:  (7000, 10)\n",
      "epoch : 1000/6000, loss = 0.062184\n",
      "epoch : 2000/6000, loss = 0.058904\n",
      "epoch : 3000/6000, loss = 0.035693\n",
      "epoch : 4000/6000, loss = 0.031513\n",
      "epoch : 5000/6000, loss = 0.030102\n",
      "epoch : 6000/6000, loss = 0.030253\n"
     ]
    },
    {
     "name": "stderr",
     "output_type": "stream",
     "text": [
      "2138it [14:23:50, 39.57s/it]"
     ]
    },
    {
     "name": "stdout",
     "output_type": "stream",
     "text": [
      "Current experiment parameters: ('10_cover', 0.0, 2), model: Customized, metrics: {'aucroc': 0.47152011563478685, 'aucpr': 0.013135959871993902}, fitting time: 363.8648054599762, inference time: 0.008976459503173828\n",
      "{'Samples': 10000, 'Features': 10, 'Anomalies': 95, 'Anomalies Ratio(%)': 0.95}\n",
      "Train data shape after filter corrcoef:  (7000, 10)\n",
      "epoch : 1000/6000, loss = 0.053697\n",
      "epoch : 2000/6000, loss = 0.037956\n",
      "epoch : 3000/6000, loss = 0.033587\n",
      "epoch : 4000/6000, loss = 0.032054\n",
      "epoch : 5000/6000, loss = 0.030921\n",
      "epoch : 6000/6000, loss = 0.030749\n"
     ]
    },
    {
     "name": "stderr",
     "output_type": "stream",
     "text": [
      "2139it [14:32:43, 51.90s/it]"
     ]
    },
    {
     "name": "stdout",
     "output_type": "stream",
     "text": [
      "Current experiment parameters: ('10_cover', 0.0, 3), model: Customized, metrics: {'aucroc': 0.45654681791963087, 'aucpr': 0.012302245220755929}, fitting time: 533.2226650714874, inference time: 0.010970592498779297\n",
      "{'Samples': 10000, 'Features': 512, 'Anomalies': 500, 'Anomalies Ratio(%)': 5.0}\n"
     ]
    },
    {
     "name": "stderr",
     "output_type": "stream",
     "text": [
      "d:\\conda\\venv\\adbench\\Lib\\site-packages\\numpy\\lib\\function_base.py:2854: RuntimeWarning: invalid value encountered in divide\n",
      "  c /= stddev[:, None]\n",
      "d:\\conda\\venv\\adbench\\Lib\\site-packages\\numpy\\lib\\function_base.py:2855: RuntimeWarning: invalid value encountered in divide\n",
      "  c /= stddev[None, :]\n"
     ]
    },
    {
     "name": "stdout",
     "output_type": "stream",
     "text": [
      "Train data shape after filter corrcoef:  (7000, 512)\n",
      "epoch : 1000/6000, loss = 2.482265\n",
      "epoch : 2000/6000, loss = 2.001020\n",
      "epoch : 3000/6000, loss = 1.863930\n",
      "epoch : 4000/6000, loss = 1.766488\n",
      "epoch : 5000/6000, loss = 1.624363\n",
      "epoch : 6000/6000, loss = 1.569445\n"
     ]
    },
    {
     "name": "stderr",
     "output_type": "stream",
     "text": [
      "2161it [14:50:59, 50.97s/it]"
     ]
    },
    {
     "name": "stdout",
     "output_type": "stream",
     "text": [
      "Current experiment parameters: ('MNIST-C_translate', 0.0, 1), model: Customized, metrics: {'aucroc': 0.8718549707602339, 'aucpr': 0.24386339470827875}, fitting time: 1095.0109372138977, inference time: 0.026929140090942383\n",
      "{'Samples': 10000, 'Features': 10, 'Anomalies': 618, 'Anomalies Ratio(%)': 6.18}\n",
      "Train data shape after filter corrcoef:  (7000, 10)\n",
      "epoch : 1000/6000, loss = 0.020665\n",
      "epoch : 2000/6000, loss = 0.014987\n",
      "epoch : 3000/6000, loss = 0.011320\n",
      "epoch : 4000/6000, loss = 0.010352\n",
      "epoch : 5000/6000, loss = 0.009471\n",
      "epoch : 6000/6000, loss = 0.008477\n"
     ]
    },
    {
     "name": "stderr",
     "output_type": "stream",
     "text": [
      "2185it [14:57:06, 36.48s/it]"
     ]
    },
    {
     "name": "stdout",
     "output_type": "stream",
     "text": [
      "Current experiment parameters: ('11_donors', 0.0, 1), model: Customized, metrics: {'aucroc': 0.7694032931688349, 'aucpr': 0.13445684086437315}, fitting time: 366.8954424858093, inference time: 0.006015777587890625\n",
      "{'Samples': 10000, 'Features': 10, 'Anomalies': 578, 'Anomalies Ratio(%)': 5.78}\n",
      "Train data shape after filter corrcoef:  (7000, 10)\n",
      "epoch : 1000/6000, loss = 0.027889\n",
      "epoch : 2000/6000, loss = 0.017664\n",
      "epoch : 3000/6000, loss = 0.014807\n",
      "epoch : 4000/6000, loss = 0.013250\n",
      "epoch : 5000/6000, loss = 0.012736\n",
      "epoch : 6000/6000, loss = 0.012395\n"
     ]
    },
    {
     "name": "stderr",
     "output_type": "stream",
     "text": [
      "2186it [15:03:13, 44.28s/it]"
     ]
    },
    {
     "name": "stdout",
     "output_type": "stream",
     "text": [
      "Current experiment parameters: ('11_donors', 0.0, 2), model: Customized, metrics: {'aucroc': 0.7637019982783686, 'aucpr': 0.12357797311018384}, fitting time: 366.34046816825867, inference time: 0.0059833526611328125\n",
      "{'Samples': 10000, 'Features': 10, 'Anomalies': 597, 'Anomalies Ratio(%)': 5.97}\n",
      "Train data shape after filter corrcoef:  (7000, 10)\n",
      "epoch : 1000/6000, loss = 0.018224\n",
      "epoch : 2000/6000, loss = 0.012523\n",
      "epoch : 3000/6000, loss = 0.010665\n",
      "epoch : 4000/6000, loss = 0.010989\n",
      "epoch : 5000/6000, loss = 0.008863\n",
      "epoch : 6000/6000, loss = 0.007872\n"
     ]
    },
    {
     "name": "stderr",
     "output_type": "stream",
     "text": [
      "2187it [15:09:22, 54.89s/it]"
     ]
    },
    {
     "name": "stdout",
     "output_type": "stream",
     "text": [
      "Current experiment parameters: ('11_donors', 0.0, 3), model: Customized, metrics: {'aucroc': 0.7972092783770564, 'aucpr': 0.14333509089750152}, fitting time: 368.83189582824707, inference time: 0.0060138702392578125\n",
      "{'Samples': 10000, 'Features': 29, 'Anomalies': 15, 'Anomalies Ratio(%)': 0.15}\n",
      "Train data shape after filter corrcoef:  (7000, 29)\n",
      "epoch : 1000/6000, loss = 0.097990\n",
      "epoch : 2000/6000, loss = 0.082064\n",
      "epoch : 3000/6000, loss = 0.074675\n",
      "epoch : 4000/6000, loss = 0.072896\n",
      "epoch : 5000/6000, loss = 0.070419\n",
      "epoch : 6000/6000, loss = 0.065759\n"
     ]
    },
    {
     "name": "stderr",
     "output_type": "stream",
     "text": [
      "2209it [15:15:41, 35.80s/it]"
     ]
    },
    {
     "name": "stdout",
     "output_type": "stream",
     "text": [
      "Current experiment parameters: ('13_fraud', 0.0, 1), model: Customized, metrics: {'aucroc': 0.8113317757009345, 'aucpr': 0.056574908579832675}, fitting time: 377.4457678794861, inference time: 0.00812530517578125\n",
      "{'Samples': 10000, 'Features': 29, 'Anomalies': 15, 'Anomalies Ratio(%)': 0.15}\n",
      "Train data shape after filter corrcoef:  (7000, 29)\n",
      "epoch : 1000/6000, loss = 0.088176\n",
      "epoch : 2000/6000, loss = 0.072168\n",
      "epoch : 3000/6000, loss = 0.071058\n",
      "epoch : 4000/6000, loss = 0.067621\n",
      "epoch : 5000/6000, loss = 0.058349\n",
      "epoch : 6000/6000, loss = 0.055889\n"
     ]
    },
    {
     "name": "stderr",
     "output_type": "stream",
     "text": [
      "2210it [15:21:53, 46.50s/it]"
     ]
    },
    {
     "name": "stdout",
     "output_type": "stream",
     "text": [
      "Current experiment parameters: ('13_fraud', 0.0, 2), model: Customized, metrics: {'aucroc': 0.9277462437395659, 'aucpr': 0.3567606500861857}, fitting time: 371.39467549324036, inference time: 0.00694727897644043\n",
      "{'Samples': 10000, 'Features': 29, 'Anomalies': 13, 'Anomalies Ratio(%)': 0.13}\n",
      "Train data shape after filter corrcoef:  (7000, 29)\n",
      "epoch : 1000/6000, loss = 0.112915\n",
      "epoch : 2000/6000, loss = 0.108803\n",
      "epoch : 3000/6000, loss = 0.093552\n",
      "epoch : 4000/6000, loss = 0.076107\n",
      "epoch : 5000/6000, loss = 0.072303\n",
      "epoch : 6000/6000, loss = 0.070043\n"
     ]
    },
    {
     "name": "stderr",
     "output_type": "stream",
     "text": [
      "2211it [15:28:07, 60.76s/it]"
     ]
    },
    {
     "name": "stdout",
     "output_type": "stream",
     "text": [
      "Current experiment parameters: ('13_fraud', 0.0, 3), model: Customized, metrics: {'aucroc': 0.8717456608811749, 'aucpr': 0.49231898238747557}, fitting time: 373.5767180919647, inference time: 0.005986213684082031\n",
      "{'Samples': 10000, 'Features': 3, 'Anomalies': 46, 'Anomalies Ratio(%)': 0.46}\n",
      "Train data shape after filter corrcoef:  (7000, 3)\n",
      "epoch : 1000/6000, loss = 0.011721\n",
      "epoch : 2000/6000, loss = 0.011689\n",
      "epoch : 3000/6000, loss = 0.011591\n",
      "epoch : 4000/6000, loss = 0.003088\n",
      "epoch : 5000/6000, loss = 0.002911\n",
      "epoch : 6000/6000, loss = 0.002845\n"
     ]
    },
    {
     "name": "stderr",
     "output_type": "stream",
     "text": [
      "2233it [15:33:22, 33.94s/it]"
     ]
    },
    {
     "name": "stdout",
     "output_type": "stream",
     "text": [
      "Current experiment parameters: ('16_http', 0.0, 1), model: Customized, metrics: {'aucroc': 0.999330207635633, 'aucpr': 0.7313244295387152}, fitting time: 314.76797127723694, inference time: 0.0049779415130615234\n",
      "{'Samples': 10000, 'Features': 3, 'Anomalies': 35, 'Anomalies Ratio(%)': 0.35}\n",
      "Train data shape after filter corrcoef:  (7000, 3)\n",
      "epoch : 1000/6000, loss = 0.003035\n",
      "epoch : 2000/6000, loss = 0.002900\n",
      "epoch : 3000/6000, loss = 0.002823\n",
      "epoch : 4000/6000, loss = 0.002792\n",
      "epoch : 5000/6000, loss = 0.002706\n",
      "epoch : 6000/6000, loss = 0.002744\n"
     ]
    },
    {
     "name": "stderr",
     "output_type": "stream",
     "text": [
      "2234it [15:38:48, 44.50s/it]"
     ]
    },
    {
     "name": "stdout",
     "output_type": "stream",
     "text": [
      "Current experiment parameters: ('16_http', 0.0, 2), model: Customized, metrics: {'aucroc': 0.9993311036789297, 'aucpr': 0.6793578643578644}, fitting time: 325.500853061676, inference time: 0.004986763000488281\n",
      "{'Samples': 10000, 'Features': 3, 'Anomalies': 34, 'Anomalies Ratio(%)': 0.34}\n",
      "Train data shape after filter corrcoef:  (7000, 3)\n",
      "epoch : 1000/6000, loss = 0.011402\n",
      "epoch : 2000/6000, loss = 0.011401\n",
      "epoch : 3000/6000, loss = 0.011399\n",
      "epoch : 4000/6000, loss = 0.011401\n",
      "epoch : 5000/6000, loss = 0.011403\n",
      "epoch : 6000/6000, loss = 0.011402\n"
     ]
    },
    {
     "name": "stderr",
     "output_type": "stream",
     "text": [
      "2235it [15:44:12, 58.21s/it]"
     ]
    },
    {
     "name": "stdout",
     "output_type": "stream",
     "text": [
      "Current experiment parameters: ('16_http', 0.0, 3), model: Customized, metrics: {'aucroc': 0.9956521739130435, 'aucpr': 0.2795949172609894}, fitting time: 323.5069251060486, inference time: 0.003989458084106445\n",
      "{'Samples': 10000, 'Features': 27, 'Anomalies': 315, 'Anomalies Ratio(%)': 3.15}\n",
      "Train data shape after filter corrcoef:  (7000, 27)\n",
      "epoch : 1000/6000, loss = 0.049873\n",
      "epoch : 2000/6000, loss = 0.043163\n",
      "epoch : 3000/6000, loss = 0.040058\n",
      "epoch : 4000/6000, loss = 0.029709\n",
      "epoch : 5000/6000, loss = 0.024010\n",
      "epoch : 6000/6000, loss = 0.021491\n"
     ]
    },
    {
     "name": "stderr",
     "output_type": "stream",
     "text": [
      "2257it [15:49:28, 31.61s/it]"
     ]
    },
    {
     "name": "stdout",
     "output_type": "stream",
     "text": [
      "Current experiment parameters: ('1_ALOI', 0.0, 1), model: Customized, metrics: {'aucroc': 0.5510975091886192, 'aucpr': 0.04840709306814775}, fitting time: 315.8345420360565, inference time: 0.005984306335449219\n",
      "{'Samples': 10000, 'Features': 27, 'Anomalies': 334, 'Anomalies Ratio(%)': 3.34}\n",
      "Train data shape after filter corrcoef:  (7000, 27)\n",
      "epoch : 1000/6000, loss = 0.051614\n",
      "epoch : 2000/6000, loss = 0.028498\n",
      "epoch : 3000/6000, loss = 0.021776\n",
      "epoch : 4000/6000, loss = 0.019392\n",
      "epoch : 5000/6000, loss = 0.015974\n",
      "epoch : 6000/6000, loss = 0.014118\n"
     ]
    },
    {
     "name": "stderr",
     "output_type": "stream",
     "text": [
      "2258it [15:54:46, 42.46s/it]"
     ]
    },
    {
     "name": "stdout",
     "output_type": "stream",
     "text": [
      "Current experiment parameters: ('1_ALOI', 0.0, 2), model: Customized, metrics: {'aucroc': 0.5994827586206897, 'aucpr': 0.06577434484155742}, fitting time: 317.55404448509216, inference time: 0.00598454475402832\n",
      "{'Samples': 10000, 'Features': 27, 'Anomalies': 332, 'Anomalies Ratio(%)': 3.32}\n",
      "Train data shape after filter corrcoef:  (7000, 27)\n",
      "epoch : 1000/6000, loss = 0.037961\n",
      "epoch : 2000/6000, loss = 0.030010\n",
      "epoch : 3000/6000, loss = 0.025980\n",
      "epoch : 4000/6000, loss = 0.024202\n",
      "epoch : 5000/6000, loss = 0.022381\n",
      "epoch : 6000/6000, loss = 0.021295\n"
     ]
    },
    {
     "name": "stderr",
     "output_type": "stream",
     "text": [
      "2259it [16:00:01, 56.45s/it]"
     ]
    },
    {
     "name": "stdout",
     "output_type": "stream",
     "text": [
      "Current experiment parameters: ('1_ALOI', 0.0, 3), model: Customized, metrics: {'aucroc': 0.5987517241379311, 'aucpr': 0.06255497158944862}, fitting time: 314.46430373191833, inference time: 0.004987478256225586\n",
      "{'Samples': 10000, 'Features': 10, 'Anomalies': 3548, 'Anomalies Ratio(%)': 35.48}\n",
      "Train data shape after filter corrcoef:  (7000, 10)\n",
      "epoch : 1000/6000, loss = 0.027022\n",
      "epoch : 2000/6000, loss = 0.021588\n",
      "epoch : 3000/6000, loss = 0.019397\n",
      "epoch : 4000/6000, loss = 0.018047\n",
      "epoch : 5000/6000, loss = 0.017390\n",
      "epoch : 6000/6000, loss = 0.016965\n"
     ]
    },
    {
     "name": "stderr",
     "output_type": "stream",
     "text": [
      "2281it [16:05:02, 30.06s/it]"
     ]
    },
    {
     "name": "stdout",
     "output_type": "stream",
     "text": [
      "Current experiment parameters: ('22_magic.gamma', 0.0, 1), model: Customized, metrics: {'aucroc': 0.6963766272602996, 'aucpr': 0.6422452081095656}, fitting time: 301.29650712013245, inference time: 0.005984067916870117\n",
      "{'Samples': 10000, 'Features': 10, 'Anomalies': 3533, 'Anomalies Ratio(%)': 35.33}\n",
      "Train data shape after filter corrcoef:  (7000, 10)\n",
      "epoch : 1000/6000, loss = 0.041240\n",
      "epoch : 2000/6000, loss = 0.025272\n",
      "epoch : 3000/6000, loss = 0.024670\n",
      "epoch : 4000/6000, loss = 0.024162\n",
      "epoch : 5000/6000, loss = 0.024290\n",
      "epoch : 6000/6000, loss = 0.023629\n"
     ]
    },
    {
     "name": "stderr",
     "output_type": "stream",
     "text": [
      "2282it [16:10:02, 40.45s/it]"
     ]
    },
    {
     "name": "stdout",
     "output_type": "stream",
     "text": [
      "Current experiment parameters: ('22_magic.gamma', 0.0, 2), model: Customized, metrics: {'aucroc': 0.7225675938533359, 'aucpr': 0.6534270844662697}, fitting time: 299.3636751174927, inference time: 0.005984067916870117\n",
      "{'Samples': 10000, 'Features': 10, 'Anomalies': 3500, 'Anomalies Ratio(%)': 35.0}\n",
      "Train data shape after filter corrcoef:  (7000, 10)\n",
      "epoch : 1000/6000, loss = 0.046185\n",
      "epoch : 2000/6000, loss = 0.027561\n",
      "epoch : 3000/6000, loss = 0.026923\n",
      "epoch : 4000/6000, loss = 0.026416\n",
      "epoch : 5000/6000, loss = 0.026294\n",
      "epoch : 6000/6000, loss = 0.026079\n"
     ]
    },
    {
     "name": "stderr",
     "output_type": "stream",
     "text": [
      "2283it [16:15:04, 54.10s/it]"
     ]
    },
    {
     "name": "stdout",
     "output_type": "stream",
     "text": [
      "Current experiment parameters: ('22_magic.gamma', 0.0, 3), model: Customized, metrics: {'aucroc': 0.7270256410256409, 'aucpr': 0.6659588026022367}, fitting time: 301.71638536453247, inference time: 0.005983591079711914\n",
      "{'Samples': 10000, 'Features': 6, 'Anomalies': 230, 'Anomalies Ratio(%)': 2.3}\n",
      "Train data shape after filter corrcoef:  (7000, 6)\n",
      "epoch : 1000/6000, loss = 0.010688\n",
      "epoch : 2000/6000, loss = 0.010102\n",
      "epoch : 3000/6000, loss = 0.009678\n",
      "epoch : 4000/6000, loss = 0.009234\n",
      "epoch : 5000/6000, loss = 0.009136\n",
      "epoch : 6000/6000, loss = 0.008904\n"
     ]
    },
    {
     "name": "stderr",
     "output_type": "stream",
     "text": [
      "2305it [16:19:47, 28.48s/it]"
     ]
    },
    {
     "name": "stdout",
     "output_type": "stream",
     "text": [
      "Current experiment parameters: ('23_mammography', 0.0, 1), model: Customized, metrics: {'aucroc': 0.743170209504596, 'aucpr': 0.06627973977717046}, fitting time: 282.71415662765503, inference time: 0.00498652458190918\n",
      "{'Samples': 10000, 'Features': 6, 'Anomalies': 241, 'Anomalies Ratio(%)': 2.41}\n",
      "Train data shape after filter corrcoef:  (7000, 6)\n",
      "epoch : 1000/6000, loss = 0.008130\n",
      "epoch : 2000/6000, loss = 0.007379\n",
      "epoch : 3000/6000, loss = 0.006914\n",
      "epoch : 4000/6000, loss = 0.006755\n",
      "epoch : 5000/6000, loss = 0.006748\n",
      "epoch : 6000/6000, loss = 0.006611\n"
     ]
    },
    {
     "name": "stderr",
     "output_type": "stream",
     "text": [
      "2306it [16:24:23, 38.09s/it]"
     ]
    },
    {
     "name": "stdout",
     "output_type": "stream",
     "text": [
      "Current experiment parameters: ('23_mammography', 0.0, 2), model: Customized, metrics: {'aucroc': 0.7739260777170613, 'aucpr': 0.17045467385623633}, fitting time: 275.93827176094055, inference time: 0.004986763000488281\n",
      "{'Samples': 10000, 'Features': 6, 'Anomalies': 227, 'Anomalies Ratio(%)': 2.27}\n",
      "Train data shape after filter corrcoef:  (7000, 6)\n",
      "epoch : 1000/6000, loss = 0.009859\n",
      "epoch : 2000/6000, loss = 0.008145\n",
      "epoch : 3000/6000, loss = 0.007685\n",
      "epoch : 4000/6000, loss = 0.007540\n",
      "epoch : 5000/6000, loss = 0.007225\n",
      "epoch : 6000/6000, loss = 0.007209\n"
     ]
    },
    {
     "name": "stderr",
     "output_type": "stream",
     "text": [
      "2307it [16:29:00, 50.62s/it]"
     ]
    },
    {
     "name": "stdout",
     "output_type": "stream",
     "text": [
      "Current experiment parameters: ('23_mammography', 0.0, 3), model: Customized, metrics: {'aucroc': 0.7596300457427173, 'aucpr': 0.12003892966094483}, fitting time: 276.55864238739014, inference time: 0.00498652458190918\n",
      "{'Samples': 10000, 'Features': 9, 'Anomalies': 669, 'Anomalies Ratio(%)': 6.69}\n",
      "Train data shape after filter corrcoef:  (7000, 9)\n",
      "epoch : 1000/6000, loss = 0.004031\n",
      "epoch : 2000/6000, loss = 0.003242\n",
      "epoch : 3000/6000, loss = 0.002742\n",
      "epoch : 4000/6000, loss = 0.002447\n",
      "epoch : 5000/6000, loss = 0.002362\n",
      "epoch : 6000/6000, loss = 0.002257\n"
     ]
    },
    {
     "name": "stderr",
     "output_type": "stream",
     "text": [
      "2329it [16:33:40, 27.04s/it]"
     ]
    },
    {
     "name": "stdout",
     "output_type": "stream",
     "text": [
      "Current experiment parameters: ('32_shuttle', 0.0, 1), model: Customized, metrics: {'aucroc': 0.5415615740518558, 'aucpr': 0.12564534255511892}, fitting time: 280.1849751472473, inference time: 0.004986763000488281\n",
      "{'Samples': 10000, 'Features': 9, 'Anomalies': 697, 'Anomalies Ratio(%)': 6.97}\n",
      "Train data shape after filter corrcoef:  (7000, 9)\n",
      "epoch : 1000/6000, loss = 0.009171\n",
      "epoch : 2000/6000, loss = 0.008433\n",
      "epoch : 3000/6000, loss = 0.008157\n",
      "epoch : 4000/6000, loss = 0.002455\n",
      "epoch : 5000/6000, loss = 0.001942\n",
      "epoch : 6000/6000, loss = 0.001731\n"
     ]
    },
    {
     "name": "stderr",
     "output_type": "stream",
     "text": [
      "2330it [16:38:24, 36.99s/it]"
     ]
    },
    {
     "name": "stdout",
     "output_type": "stream",
     "text": [
      "Current experiment parameters: ('32_shuttle', 0.0, 2), model: Customized, metrics: {'aucroc': 0.6184351958362405, 'aucpr': 0.14937637251967628}, fitting time: 282.9265863895416, inference time: 0.004988908767700195\n",
      "{'Samples': 10000, 'Features': 9, 'Anomalies': 714, 'Anomalies Ratio(%)': 7.14}\n",
      "Train data shape after filter corrcoef:  (7000, 9)\n",
      "epoch : 1000/6000, loss = 0.004141\n",
      "epoch : 2000/6000, loss = 0.003747\n",
      "epoch : 3000/6000, loss = 0.003492\n",
      "epoch : 4000/6000, loss = 0.003377\n",
      "epoch : 5000/6000, loss = 0.003165\n",
      "epoch : 6000/6000, loss = 0.003268\n"
     ]
    },
    {
     "name": "stderr",
     "output_type": "stream",
     "text": [
      "2331it [16:43:17, 50.49s/it]"
     ]
    },
    {
     "name": "stdout",
     "output_type": "stream",
     "text": [
      "Current experiment parameters: ('32_shuttle', 0.0, 3), model: Customized, metrics: {'aucroc': 0.6648781289625699, 'aucpr': 0.19202787645900396}, fitting time: 293.2059586048126, inference time: 0.005983829498291016\n",
      "{'Samples': 10000, 'Features': 3, 'Anomalies': 2081, 'Anomalies Ratio(%)': 20.81}\n",
      "Train data shape after filter corrcoef:  (7000, 3)\n",
      "epoch : 1000/6000, loss = 0.048854\n",
      "epoch : 2000/6000, loss = 0.046603\n",
      "epoch : 3000/6000, loss = 0.046054\n",
      "epoch : 4000/6000, loss = 0.045757\n",
      "epoch : 5000/6000, loss = 0.046028\n",
      "epoch : 6000/6000, loss = 0.045943\n"
     ]
    },
    {
     "name": "stderr",
     "output_type": "stream",
     "text": [
      "2353it [16:48:03, 27.12s/it]"
     ]
    },
    {
     "name": "stdout",
     "output_type": "stream",
     "text": [
      "Current experiment parameters: ('33_skin', 0.0, 1), model: Customized, metrics: {'aucroc': 0.743154029612363, 'aucpr': 0.38652689902606385}, fitting time: 285.260379076004, inference time: 0.004987478256225586\n",
      "{'Samples': 10000, 'Features': 3, 'Anomalies': 2082, 'Anomalies Ratio(%)': 20.82}\n",
      "Train data shape after filter corrcoef:  (7000, 3)\n",
      "epoch : 1000/6000, loss = 0.047873\n",
      "epoch : 2000/6000, loss = 0.046403\n",
      "epoch : 3000/6000, loss = 0.045969\n",
      "epoch : 4000/6000, loss = 0.045973\n",
      "epoch : 5000/6000, loss = 0.045878\n",
      "epoch : 6000/6000, loss = 0.046108\n"
     ]
    },
    {
     "name": "stderr",
     "output_type": "stream",
     "text": [
      "2354it [16:52:49, 37.18s/it]"
     ]
    },
    {
     "name": "stdout",
     "output_type": "stream",
     "text": [
      "Current experiment parameters: ('33_skin', 0.0, 2), model: Customized, metrics: {'aucroc': 0.7285059368421052, 'aucpr': 0.3683298494789582}, fitting time: 285.62141704559326, inference time: 0.003988504409790039\n",
      "{'Samples': 10000, 'Features': 3, 'Anomalies': 2066, 'Anomalies Ratio(%)': 20.66}\n",
      "Train data shape after filter corrcoef:  (7000, 3)\n",
      "epoch : 1000/6000, loss = 0.047639\n",
      "epoch : 2000/6000, loss = 0.046218\n",
      "epoch : 3000/6000, loss = 0.045733\n",
      "epoch : 4000/6000, loss = 0.045513\n",
      "epoch : 5000/6000, loss = 0.045460\n",
      "epoch : 6000/6000, loss = 0.045426\n"
     ]
    },
    {
     "name": "stderr",
     "output_type": "stream",
     "text": [
      "2355it [16:57:30, 50.03s/it]"
     ]
    },
    {
     "name": "stdout",
     "output_type": "stream",
     "text": [
      "Current experiment parameters: ('33_skin', 0.0, 3), model: Customized, metrics: {'aucroc': 0.68445716996476, 'aucpr': 0.3248254174088351}, fitting time: 281.09354758262634, inference time: 0.005954742431640625\n",
      "{'Samples': 10000, 'Features': 3, 'Anomalies': 4, 'Anomalies Ratio(%)': 0.04}\n",
      "Train data shape after filter corrcoef:  (7000, 3)\n",
      "epoch : 1000/6000, loss = 0.007755\n",
      "epoch : 2000/6000, loss = 0.007088\n",
      "epoch : 3000/6000, loss = 0.006858\n",
      "epoch : 4000/6000, loss = 0.006610\n",
      "epoch : 5000/6000, loss = 0.006610\n",
      "epoch : 6000/6000, loss = 0.006450\n"
     ]
    },
    {
     "name": "stderr",
     "output_type": "stream",
     "text": [
      "2377it [17:02:10, 26.78s/it]"
     ]
    },
    {
     "name": "stdout",
     "output_type": "stream",
     "text": [
      "Current experiment parameters: ('34_smtp', 0.0, 1), model: Customized, metrics: {'aucroc': 0.9953317772590864, 'aucpr': 0.06666666666666667}, fitting time: 279.48080134391785, inference time: 0.003990650177001953\n",
      "{'Samples': 10000, 'Features': 3, 'Anomalies': 4, 'Anomalies Ratio(%)': 0.04}\n",
      "Train data shape after filter corrcoef:  (7000, 3)\n",
      "epoch : 1000/6000, loss = 0.006453\n",
      "epoch : 2000/6000, loss = 0.005892\n",
      "epoch : 3000/6000, loss = 0.005456\n",
      "epoch : 4000/6000, loss = 0.005297\n",
      "epoch : 5000/6000, loss = 0.005304\n",
      "epoch : 6000/6000, loss = 0.005376\n"
     ]
    },
    {
     "name": "stderr",
     "output_type": "stream",
     "text": [
      "2378it [17:06:49, 36.61s/it]"
     ]
    },
    {
     "name": "stdout",
     "output_type": "stream",
     "text": [
      "Current experiment parameters: ('34_smtp', 0.0, 2), model: Customized, metrics: {'aucroc': 0.6282094031343781, 'aucpr': 0.0008960573476702509}, fitting time: 279.22080421447754, inference time: 0.004987478256225586\n",
      "{'Samples': 10000, 'Features': 3, 'Anomalies': 5, 'Anomalies Ratio(%)': 0.05}\n",
      "Train data shape after filter corrcoef:  (7000, 3)\n",
      "epoch : 1000/6000, loss = 0.039899\n",
      "epoch : 2000/6000, loss = 0.039892\n",
      "epoch : 3000/6000, loss = 0.039893\n",
      "epoch : 4000/6000, loss = 0.020263\n",
      "epoch : 5000/6000, loss = 0.004232\n",
      "epoch : 6000/6000, loss = 0.004134\n"
     ]
    },
    {
     "name": "stderr",
     "output_type": "stream",
     "text": [
      "2379it [17:11:31, 49.53s/it]"
     ]
    },
    {
     "name": "stdout",
     "output_type": "stream",
     "text": [
      "Current experiment parameters: ('34_smtp', 0.0, 3), model: Customized, metrics: {'aucroc': 1.0, 'aucpr': 1.0}, fitting time: 281.72134804725647, inference time: 0.0039904117584228516\n",
      "{'Samples': 10000, 'Features': 196, 'Anomalies': 252, 'Anomalies Ratio(%)': 2.52}\n"
     ]
    },
    {
     "name": "stderr",
     "output_type": "stream",
     "text": [
      "d:\\conda\\venv\\adbench\\Lib\\site-packages\\numpy\\lib\\function_base.py:2854: RuntimeWarning: invalid value encountered in divide\n",
      "  c /= stddev[:, None]\n",
      "d:\\conda\\venv\\adbench\\Lib\\site-packages\\numpy\\lib\\function_base.py:2855: RuntimeWarning: invalid value encountered in divide\n",
      "  c /= stddev[None, :]\n"
     ]
    },
    {
     "name": "stdout",
     "output_type": "stream",
     "text": [
      "Train data shape after filter corrcoef:  (7000, 192)\n",
      "epoch : 1000/6000, loss = 0.141261\n",
      "epoch : 2000/6000, loss = 0.074564\n",
      "epoch : 3000/6000, loss = 0.059093\n",
      "epoch : 4000/6000, loss = 0.052603\n",
      "epoch : 5000/6000, loss = 0.051296\n",
      "epoch : 6000/6000, loss = 0.046482\n"
     ]
    },
    {
     "name": "stderr",
     "output_type": "stream",
     "text": [
      "2401it [17:19:47, 32.71s/it]"
     ]
    },
    {
     "name": "stdout",
     "output_type": "stream",
     "text": [
      "Current experiment parameters: ('3_backdoor', 0.0, 1), model: Customized, metrics: {'aucroc': 0.8500116999064007, 'aucpr': 0.35338739621640214}, fitting time: 495.46161913871765, inference time: 0.010970592498779297\n",
      "{'Samples': 10000, 'Features': 196, 'Anomalies': 246, 'Anomalies Ratio(%)': 2.46}\n"
     ]
    },
    {
     "name": "stderr",
     "output_type": "stream",
     "text": [
      "d:\\conda\\venv\\adbench\\Lib\\site-packages\\numpy\\lib\\function_base.py:2854: RuntimeWarning: invalid value encountered in divide\n",
      "  c /= stddev[:, None]\n",
      "d:\\conda\\venv\\adbench\\Lib\\site-packages\\numpy\\lib\\function_base.py:2855: RuntimeWarning: invalid value encountered in divide\n",
      "  c /= stddev[None, :]\n"
     ]
    },
    {
     "name": "stdout",
     "output_type": "stream",
     "text": [
      "Train data shape after filter corrcoef:  (7000, 191)\n",
      "epoch : 1000/6000, loss = 0.124710\n",
      "epoch : 2000/6000, loss = 0.070877\n",
      "epoch : 3000/6000, loss = 0.056473\n",
      "epoch : 4000/6000, loss = 0.052752\n",
      "epoch : 5000/6000, loss = 0.048917\n",
      "epoch : 6000/6000, loss = 0.045817\n"
     ]
    },
    {
     "name": "stderr",
     "output_type": "stream",
     "text": [
      "2402it [17:28:06, 50.84s/it]"
     ]
    },
    {
     "name": "stdout",
     "output_type": "stream",
     "text": [
      "Current experiment parameters: ('3_backdoor', 0.0, 2), model: Customized, metrics: {'aucroc': 0.8422345790766843, 'aucpr': 0.44765358202630434}, fitting time: 498.23999428749084, inference time: 0.0109710693359375\n",
      "{'Samples': 10000, 'Features': 196, 'Anomalies': 256, 'Anomalies Ratio(%)': 2.56}\n"
     ]
    },
    {
     "name": "stderr",
     "output_type": "stream",
     "text": [
      "d:\\conda\\venv\\adbench\\Lib\\site-packages\\numpy\\lib\\function_base.py:2854: RuntimeWarning: invalid value encountered in divide\n",
      "  c /= stddev[:, None]\n",
      "d:\\conda\\venv\\adbench\\Lib\\site-packages\\numpy\\lib\\function_base.py:2855: RuntimeWarning: invalid value encountered in divide\n",
      "  c /= stddev[None, :]\n"
     ]
    },
    {
     "name": "stdout",
     "output_type": "stream",
     "text": [
      "Train data shape after filter corrcoef:  (7000, 191)\n",
      "epoch : 1000/6000, loss = 0.146257\n",
      "epoch : 2000/6000, loss = 0.072608\n",
      "epoch : 3000/6000, loss = 0.060466\n",
      "epoch : 4000/6000, loss = 0.056126\n",
      "epoch : 5000/6000, loss = 0.048469\n",
      "epoch : 6000/6000, loss = 0.048218\n"
     ]
    },
    {
     "name": "stderr",
     "output_type": "stream",
     "text": [
      "2403it [17:36:23, 74.32s/it]"
     ]
    },
    {
     "name": "stdout",
     "output_type": "stream",
     "text": [
      "Current experiment parameters: ('3_backdoor', 0.0, 3), model: Customized, metrics: {'aucroc': 0.8441825024103505, 'aucpr': 0.38044312574301853}, fitting time: 496.28522062301636, inference time: 0.010970354080200195\n",
      "{'Samples': 10000, 'Features': 62, 'Anomalies': 1134, 'Anomalies Ratio(%)': 11.34}\n",
      "Train data shape after filter corrcoef:  (7000, 60)\n",
      "epoch : 1000/6000, loss = 1.891052\n",
      "epoch : 2000/6000, loss = 1.417967\n",
      "epoch : 3000/6000, loss = 0.784039\n",
      "epoch : 4000/6000, loss = 0.609638\n",
      "epoch : 5000/6000, loss = 0.503416\n",
      "epoch : 6000/6000, loss = 0.401024\n"
     ]
    },
    {
     "name": "stderr",
     "output_type": "stream",
     "text": [
      "2425it [17:43:05, 39.39s/it]"
     ]
    },
    {
     "name": "stdout",
     "output_type": "stream",
     "text": [
      "Current experiment parameters: ('5_campaign', 0.0, 1), model: Customized, metrics: {'aucroc': 0.6703803626713843, 'aucpr': 0.20583893411329252}, fitting time: 401.85267901420593, inference time: 0.006981372833251953\n",
      "{'Samples': 10000, 'Features': 62, 'Anomalies': 1129, 'Anomalies Ratio(%)': 11.29}\n"
     ]
    },
    {
     "name": "stderr",
     "output_type": "stream",
     "text": [
      "d:\\conda\\venv\\adbench\\Lib\\site-packages\\numpy\\lib\\function_base.py:2854: RuntimeWarning: invalid value encountered in divide\n",
      "  c /= stddev[:, None]\n",
      "d:\\conda\\venv\\adbench\\Lib\\site-packages\\numpy\\lib\\function_base.py:2855: RuntimeWarning: invalid value encountered in divide\n",
      "  c /= stddev[None, :]\n"
     ]
    },
    {
     "name": "stdout",
     "output_type": "stream",
     "text": [
      "Train data shape after filter corrcoef:  (7000, 60)\n",
      "epoch : 1000/6000, loss = 2.133350\n",
      "epoch : 2000/6000, loss = 1.282724\n",
      "epoch : 3000/6000, loss = 0.889018\n",
      "epoch : 4000/6000, loss = 0.661123\n",
      "epoch : 5000/6000, loss = 0.534720\n",
      "epoch : 6000/6000, loss = 0.443368\n"
     ]
    },
    {
     "name": "stderr",
     "output_type": "stream",
     "text": [
      "2426it [17:49:44, 53.37s/it]"
     ]
    },
    {
     "name": "stdout",
     "output_type": "stream",
     "text": [
      "Current experiment parameters: ('5_campaign', 0.0, 2), model: Customized, metrics: {'aucroc': 0.6893076992148137, 'aucpr': 0.21723050248117026}, fitting time: 398.3470516204834, inference time: 0.005983829498291016\n",
      "{'Samples': 10000, 'Features': 62, 'Anomalies': 1129, 'Anomalies Ratio(%)': 11.29}\n",
      "Train data shape after filter corrcoef:  (7000, 60)\n",
      "epoch : 1000/6000, loss = 1.913347\n",
      "epoch : 2000/6000, loss = 1.097046\n",
      "epoch : 3000/6000, loss = 0.737882\n",
      "epoch : 4000/6000, loss = 0.594705\n",
      "epoch : 5000/6000, loss = 0.475858\n",
      "epoch : 6000/6000, loss = 0.367904\n"
     ]
    },
    {
     "name": "stderr",
     "output_type": "stream",
     "text": [
      "2427it [17:56:18, 71.31s/it]"
     ]
    },
    {
     "name": "stdout",
     "output_type": "stream",
     "text": [
      "Current experiment parameters: ('5_campaign', 0.0, 3), model: Customized, metrics: {'aucroc': 0.670474537152511, 'aucpr': 0.2191363546616774}, fitting time: 393.84807801246643, inference time: 0.007978677749633789\n",
      "{'Samples': 10000, 'Features': 39, 'Anomalies': 222, 'Anomalies Ratio(%)': 2.22}\n",
      "Train data shape after filter corrcoef:  (7000, 39)\n",
      "epoch : 1000/6000, loss = 1.982697\n",
      "epoch : 2000/6000, loss = 1.574554\n",
      "epoch : 3000/6000, loss = 1.348350\n",
      "epoch : 4000/6000, loss = 1.103379\n",
      "epoch : 5000/6000, loss = 0.964700\n",
      "epoch : 6000/6000, loss = 0.869950\n"
     ]
    },
    {
     "name": "stderr",
     "output_type": "stream",
     "text": [
      "2449it [18:02:49, 37.92s/it]"
     ]
    },
    {
     "name": "stdout",
     "output_type": "stream",
     "text": [
      "Current experiment parameters: ('8_celeba', 0.0, 1), model: Customized, metrics: {'aucroc': 0.7359689788357903, 'aucpr': 0.058262757809751875}, fitting time: 390.0123326778412, inference time: 0.007979393005371094\n",
      "{'Samples': 10000, 'Features': 39, 'Anomalies': 238, 'Anomalies Ratio(%)': 2.38}\n",
      "Train data shape after filter corrcoef:  (7000, 39)\n",
      "epoch : 1000/6000, loss = 2.125057\n",
      "epoch : 2000/6000, loss = 1.677612\n",
      "epoch : 3000/6000, loss = 1.509868\n",
      "epoch : 4000/6000, loss = 1.392227\n",
      "epoch : 5000/6000, loss = 1.287024\n",
      "epoch : 6000/6000, loss = 1.130253\n"
     ]
    },
    {
     "name": "stderr",
     "output_type": "stream",
     "text": [
      "2450it [18:09:16, 51.53s/it]"
     ]
    },
    {
     "name": "stdout",
     "output_type": "stream",
     "text": [
      "Current experiment parameters: ('8_celeba', 0.0, 2), model: Customized, metrics: {'aucroc': 0.564375670204223, 'aucpr': 0.03114036082351111}, fitting time: 387.3344919681549, inference time: 0.007977962493896484\n",
      "{'Samples': 10000, 'Features': 39, 'Anomalies': 216, 'Anomalies Ratio(%)': 2.16}\n",
      "Train data shape after filter corrcoef:  (7000, 39)\n",
      "epoch : 1000/6000, loss = 2.160136\n",
      "epoch : 2000/6000, loss = 1.705338\n",
      "epoch : 3000/6000, loss = 1.419720\n",
      "epoch : 4000/6000, loss = 1.259051\n",
      "epoch : 5000/6000, loss = 1.131899\n",
      "epoch : 6000/6000, loss = 0.989948\n"
     ]
    },
    {
     "name": "stderr",
     "output_type": "stream",
     "text": [
      "2451it [18:15:44, 69.23s/it]"
     ]
    },
    {
     "name": "stdout",
     "output_type": "stream",
     "text": [
      "Current experiment parameters: ('8_celeba', 0.0, 3), model: Customized, metrics: {'aucroc': 0.6180421963045473, 'aucpr': 0.036706040453026015}, fitting time: 387.38336086273193, inference time: 0.005986690521240234\n",
      "{'Samples': 10000, 'Features': 500, 'Anomalies': 618, 'Anomalies Ratio(%)': 6.18}\n"
     ]
    },
    {
     "name": "stderr",
     "output_type": "stream",
     "text": [
      "d:\\conda\\venv\\adbench\\Lib\\site-packages\\numpy\\lib\\function_base.py:2854: RuntimeWarning: invalid value encountered in divide\n",
      "  c /= stddev[:, None]\n",
      "d:\\conda\\venv\\adbench\\Lib\\site-packages\\numpy\\lib\\function_base.py:2855: RuntimeWarning: invalid value encountered in divide\n",
      "  c /= stddev[None, :]\n"
     ]
    },
    {
     "name": "stdout",
     "output_type": "stream",
     "text": [
      "Train data shape after filter corrcoef:  (7000, 454)\n",
      "epoch : 1000/6000, loss = 4.674440\n",
      "epoch : 2000/6000, loss = 4.157248\n",
      "epoch : 3000/6000, loss = 3.776461\n",
      "epoch : 4000/6000, loss = 3.517135\n",
      "epoch : 5000/6000, loss = 3.357366\n",
      "epoch : 6000/6000, loss = 3.218481\n"
     ]
    },
    {
     "name": "stderr",
     "output_type": "stream",
     "text": [
      "2473it [18:29:26, 49.37s/it]"
     ]
    },
    {
     "name": "stdout",
     "output_type": "stream",
     "text": [
      "Current experiment parameters: ('9_census', 0.0, 1), model: Customized, metrics: {'aucroc': 0.6691815083289328, 'aucpr': 0.08807629915603385}, fitting time: 819.7394914627075, inference time: 0.024932861328125\n",
      "{'Samples': 10000, 'Features': 500, 'Anomalies': 628, 'Anomalies Ratio(%)': 6.28}\n"
     ]
    },
    {
     "name": "stderr",
     "output_type": "stream",
     "text": [
      "d:\\conda\\venv\\adbench\\Lib\\site-packages\\numpy\\lib\\function_base.py:2854: RuntimeWarning: invalid value encountered in divide\n",
      "  c /= stddev[:, None]\n",
      "d:\\conda\\venv\\adbench\\Lib\\site-packages\\numpy\\lib\\function_base.py:2855: RuntimeWarning: invalid value encountered in divide\n",
      "  c /= stddev[None, :]\n"
     ]
    },
    {
     "name": "stdout",
     "output_type": "stream",
     "text": [
      "Train data shape after filter corrcoef:  (7000, 456)\n",
      "epoch : 1000/6000, loss = 4.748062\n",
      "epoch : 2000/6000, loss = 4.250493\n",
      "epoch : 3000/6000, loss = 4.004581\n",
      "epoch : 4000/6000, loss = 3.846735\n",
      "epoch : 5000/6000, loss = 3.734848\n",
      "epoch : 6000/6000, loss = 3.648731\n"
     ]
    },
    {
     "name": "stderr",
     "output_type": "stream",
     "text": [
      "2474it [18:43:04, 79.28s/it]"
     ]
    },
    {
     "name": "stdout",
     "output_type": "stream",
     "text": [
      "Current experiment parameters: ('9_census', 0.0, 2), model: Customized, metrics: {'aucroc': 0.6629339305711087, 'aucpr': 0.08906470831577354}, fitting time: 816.0353939533234, inference time: 0.023936033248901367\n",
      "{'Samples': 10000, 'Features': 500, 'Anomalies': 652, 'Anomalies Ratio(%)': 6.52}\n"
     ]
    },
    {
     "name": "stderr",
     "output_type": "stream",
     "text": [
      "d:\\conda\\venv\\adbench\\Lib\\site-packages\\numpy\\lib\\function_base.py:2854: RuntimeWarning: invalid value encountered in divide\n",
      "  c /= stddev[:, None]\n",
      "d:\\conda\\venv\\adbench\\Lib\\site-packages\\numpy\\lib\\function_base.py:2855: RuntimeWarning: invalid value encountered in divide\n",
      "  c /= stddev[None, :]\n"
     ]
    },
    {
     "name": "stdout",
     "output_type": "stream",
     "text": [
      "Train data shape after filter corrcoef:  (7000, 455)\n",
      "epoch : 1000/6000, loss = 4.619620\n",
      "epoch : 2000/6000, loss = 4.059179\n",
      "epoch : 3000/6000, loss = 3.726636\n",
      "epoch : 4000/6000, loss = 3.441850\n",
      "epoch : 5000/6000, loss = 3.179457\n",
      "epoch : 6000/6000, loss = 3.009118\n"
     ]
    },
    {
     "name": "stderr",
     "output_type": "stream",
     "text": [
      "2475it [18:56:51, 118.61s/it]"
     ]
    },
    {
     "name": "stdout",
     "output_type": "stream",
     "text": [
      "Current experiment parameters: ('9_census', 0.0, 3), model: Customized, metrics: {'aucroc': 0.681197050860287, 'aucpr': 0.10034230399043247}, fitting time: 823.9861381053925, inference time: 0.027924776077270508\n",
      "{'Samples': 10000, 'Features': 512, 'Anomalies': 500, 'Anomalies Ratio(%)': 5.0}\n"
     ]
    },
    {
     "name": "stderr",
     "output_type": "stream",
     "text": [
      "d:\\conda\\venv\\adbench\\Lib\\site-packages\\numpy\\lib\\function_base.py:2854: RuntimeWarning: invalid value encountered in divide\n",
      "  c /= stddev[:, None]\n",
      "d:\\conda\\venv\\adbench\\Lib\\site-packages\\numpy\\lib\\function_base.py:2855: RuntimeWarning: invalid value encountered in divide\n",
      "  c /= stddev[None, :]\n"
     ]
    },
    {
     "name": "stdout",
     "output_type": "stream",
     "text": [
      "Train data shape after filter corrcoef:  (7000, 511)\n",
      "epoch : 1000/6000, loss = 2.627120\n",
      "epoch : 2000/6000, loss = 2.073501\n",
      "epoch : 3000/6000, loss = 1.874695\n",
      "epoch : 4000/6000, loss = 1.785366\n",
      "epoch : 5000/6000, loss = 1.729599\n",
      "epoch : 6000/6000, loss = 1.690147\n"
     ]
    },
    {
     "name": "stderr",
     "output_type": "stream",
     "text": [
      "2497it [19:10:19, 67.57s/it] "
     ]
    },
    {
     "name": "stdout",
     "output_type": "stream",
     "text": [
      "Current experiment parameters: ('MNIST-C_zigzag', 0.0, 1), model: Customized, metrics: {'aucroc': 0.9061333333333333, 'aucpr': 0.33584050358578493}, fitting time: 807.5839893817902, inference time: 0.027951955795288086\n",
      "{'Samples': 10000, 'Features': 768, 'Anomalies': 500, 'Anomalies Ratio(%)': 5.0}\n",
      "Train data shape after filter corrcoef:  (7000, 743)\n",
      "epoch : 1000/6000, loss = 2.654726\n",
      "epoch : 2000/6000, loss = 2.166330\n",
      "epoch : 3000/6000, loss = 1.880714\n",
      "epoch : 4000/6000, loss = 1.841685\n",
      "epoch : 5000/6000, loss = 1.812277\n",
      "epoch : 6000/6000, loss = 1.701807\n"
     ]
    },
    {
     "name": "stderr",
     "output_type": "stream",
     "text": [
      "2521it [19:27:39, 55.63s/it]"
     ]
    },
    {
     "name": "stdout",
     "output_type": "stream",
     "text": [
      "Current experiment parameters: ('imdb', 0.0, 1), model: Customized, metrics: {'aucroc': 0.4876959064327485, 'aucpr': 0.04481683772031015}, fitting time: 1039.4003608226776, inference time: 0.02892279624938965\n",
      "{'Samples': 10000, 'Features': 512, 'Anomalies': 500, 'Anomalies Ratio(%)': 5.0}\n"
     ]
    },
    {
     "name": "stderr",
     "output_type": "stream",
     "text": [
      "d:\\conda\\venv\\adbench\\Lib\\site-packages\\numpy\\lib\\function_base.py:2854: RuntimeWarning: invalid value encountered in divide\n",
      "  c /= stddev[:, None]\n",
      "d:\\conda\\venv\\adbench\\Lib\\site-packages\\numpy\\lib\\function_base.py:2855: RuntimeWarning: invalid value encountered in divide\n",
      "  c /= stddev[None, :]\n"
     ]
    },
    {
     "name": "stdout",
     "output_type": "stream",
     "text": [
      "Train data shape after filter corrcoef:  (7000, 512)\n",
      "epoch : 1000/6000, loss = 2.649309\n",
      "epoch : 2000/6000, loss = 2.118259\n",
      "epoch : 3000/6000, loss = 1.841961\n",
      "epoch : 4000/6000, loss = 1.649255\n",
      "epoch : 5000/6000, loss = 1.583352\n",
      "epoch : 6000/6000, loss = 1.539487\n"
     ]
    },
    {
     "name": "stderr",
     "output_type": "stream",
     "text": [
      "2545it [19:41:18, 46.75s/it]"
     ]
    },
    {
     "name": "stdout",
     "output_type": "stream",
     "text": [
      "Current experiment parameters: ('MNIST-C_canny_edges', 0.0, 1), model: Customized, metrics: {'aucroc': 0.7427625730994152, 'aucpr': 0.10962963175729636}, fitting time: 818.7501039505005, inference time: 0.020943403244018555\n",
      "{'Samples': 10000, 'Features': 512, 'Anomalies': 500, 'Anomalies Ratio(%)': 5.0}\n"
     ]
    },
    {
     "name": "stderr",
     "output_type": "stream",
     "text": [
      "d:\\conda\\venv\\adbench\\Lib\\site-packages\\numpy\\lib\\function_base.py:2854: RuntimeWarning: invalid value encountered in divide\n",
      "  c /= stddev[:, None]\n",
      "d:\\conda\\venv\\adbench\\Lib\\site-packages\\numpy\\lib\\function_base.py:2855: RuntimeWarning: invalid value encountered in divide\n",
      "  c /= stddev[None, :]\n"
     ]
    },
    {
     "name": "stdout",
     "output_type": "stream",
     "text": [
      "Train data shape after filter corrcoef:  (7000, 512)\n",
      "epoch : 1000/6000, loss = 2.385565\n",
      "epoch : 2000/6000, loss = 1.971733\n",
      "epoch : 3000/6000, loss = 1.836419\n",
      "epoch : 4000/6000, loss = 1.764910\n",
      "epoch : 5000/6000, loss = 1.627157\n",
      "epoch : 6000/6000, loss = 1.558445\n"
     ]
    },
    {
     "name": "stderr",
     "output_type": "stream",
     "text": [
      "2569it [19:54:55, 42.04s/it]"
     ]
    },
    {
     "name": "stdout",
     "output_type": "stream",
     "text": [
      "Current experiment parameters: ('MNIST-C_dotted_line', 0.0, 1), model: Customized, metrics: {'aucroc': 0.9111111111111111, 'aucpr': 0.35298419459356056}, fitting time: 816.9479539394379, inference time: 0.023935556411743164\n",
      "{'Samples': 10000, 'Features': 512, 'Anomalies': 500, 'Anomalies Ratio(%)': 5.0}\n"
     ]
    },
    {
     "name": "stderr",
     "output_type": "stream",
     "text": [
      "d:\\conda\\venv\\adbench\\Lib\\site-packages\\numpy\\lib\\function_base.py:2854: RuntimeWarning: invalid value encountered in divide\n",
      "  c /= stddev[:, None]\n",
      "d:\\conda\\venv\\adbench\\Lib\\site-packages\\numpy\\lib\\function_base.py:2855: RuntimeWarning: invalid value encountered in divide\n",
      "  c /= stddev[None, :]\n"
     ]
    },
    {
     "name": "stdout",
     "output_type": "stream",
     "text": [
      "Train data shape after filter corrcoef:  (7000, 512)\n",
      "epoch : 1000/6000, loss = 2.351214\n",
      "epoch : 2000/6000, loss = 1.910836\n",
      "epoch : 3000/6000, loss = 1.778567\n",
      "epoch : 4000/6000, loss = 1.624541\n",
      "epoch : 5000/6000, loss = 1.546252\n",
      "epoch : 6000/6000, loss = 1.498192\n"
     ]
    },
    {
     "name": "stderr",
     "output_type": "stream",
     "text": [
      "2593it [20:08:33, 39.28s/it]"
     ]
    },
    {
     "name": "stdout",
     "output_type": "stream",
     "text": [
      "Current experiment parameters: ('MNIST-C_fog', 0.0, 1), model: Customized, metrics: {'aucroc': 0.7035321637426901, 'aucpr': 0.0906832256489151}, fitting time: 817.4594926834106, inference time: 0.022938966751098633\n",
      "{'Samples': 10000, 'Features': 512, 'Anomalies': 500, 'Anomalies Ratio(%)': 5.0}\n"
     ]
    },
    {
     "name": "stderr",
     "output_type": "stream",
     "text": [
      "d:\\conda\\venv\\adbench\\Lib\\site-packages\\numpy\\lib\\function_base.py:2854: RuntimeWarning: invalid value encountered in divide\n",
      "  c /= stddev[:, None]\n",
      "d:\\conda\\venv\\adbench\\Lib\\site-packages\\numpy\\lib\\function_base.py:2855: RuntimeWarning: invalid value encountered in divide\n",
      "  c /= stddev[None, :]\n"
     ]
    },
    {
     "name": "stdout",
     "output_type": "stream",
     "text": [
      "Train data shape after filter corrcoef:  (7000, 512)\n",
      "epoch : 1000/6000, loss = 2.386149\n",
      "epoch : 2000/6000, loss = 2.092659\n",
      "epoch : 3000/6000, loss = 1.988211\n",
      "epoch : 4000/6000, loss = 1.825176\n",
      "epoch : 5000/6000, loss = 1.742057\n",
      "epoch : 6000/6000, loss = 1.692020\n"
     ]
    },
    {
     "name": "stderr",
     "output_type": "stream",
     "text": [
      "2617it [20:22:12, 37.57s/it]"
     ]
    },
    {
     "name": "stdout",
     "output_type": "stream",
     "text": [
      "Current experiment parameters: ('MNIST-C_glass_blur', 0.0, 1), model: Customized, metrics: {'aucroc': 0.8669005847953215, 'aucpr': 0.2276123063843439}, fitting time: 818.6394317150116, inference time: 0.021941423416137695\n",
      "{'Samples': 10000, 'Features': 512, 'Anomalies': 500, 'Anomalies Ratio(%)': 5.0}\n"
     ]
    },
    {
     "name": "stderr",
     "output_type": "stream",
     "text": [
      "d:\\conda\\venv\\adbench\\Lib\\site-packages\\numpy\\lib\\function_base.py:2854: RuntimeWarning: invalid value encountered in divide\n",
      "  c /= stddev[:, None]\n",
      "d:\\conda\\venv\\adbench\\Lib\\site-packages\\numpy\\lib\\function_base.py:2855: RuntimeWarning: invalid value encountered in divide\n",
      "  c /= stddev[None, :]\n"
     ]
    },
    {
     "name": "stdout",
     "output_type": "stream",
     "text": [
      "Train data shape after filter corrcoef:  (7000, 512)\n",
      "epoch : 1000/6000, loss = 2.419649\n",
      "epoch : 2000/6000, loss = 1.945771\n",
      "epoch : 3000/6000, loss = 1.807358\n",
      "epoch : 4000/6000, loss = 1.733852\n",
      "epoch : 5000/6000, loss = 1.613852\n",
      "epoch : 6000/6000, loss = 1.558803\n"
     ]
    },
    {
     "name": "stderr",
     "output_type": "stream",
     "text": [
      "2641it [20:35:54, 36.51s/it]"
     ]
    },
    {
     "name": "stdout",
     "output_type": "stream",
     "text": [
      "Current experiment parameters: ('MNIST-C_identity', 0.0, 1), model: Customized, metrics: {'aucroc': 0.497366081871345, 'aucpr': 0.04892292605265046}, fitting time: 822.060286283493, inference time: 0.02293848991394043\n",
      "{'Samples': 10000, 'Features': 512, 'Anomalies': 500, 'Anomalies Ratio(%)': 5.0}\n"
     ]
    },
    {
     "name": "stderr",
     "output_type": "stream",
     "text": [
      "d:\\conda\\venv\\adbench\\Lib\\site-packages\\numpy\\lib\\function_base.py:2854: RuntimeWarning: invalid value encountered in divide\n",
      "  c /= stddev[:, None]\n",
      "d:\\conda\\venv\\adbench\\Lib\\site-packages\\numpy\\lib\\function_base.py:2855: RuntimeWarning: invalid value encountered in divide\n",
      "  c /= stddev[None, :]\n"
     ]
    },
    {
     "name": "stdout",
     "output_type": "stream",
     "text": [
      "Train data shape after filter corrcoef:  (7000, 511)\n",
      "epoch : 1000/6000, loss = 2.293405\n",
      "epoch : 2000/6000, loss = 2.033198\n",
      "epoch : 3000/6000, loss = 1.901675\n",
      "epoch : 4000/6000, loss = 1.721840\n",
      "epoch : 5000/6000, loss = 1.647383\n",
      "epoch : 6000/6000, loss = 1.604009\n"
     ]
    },
    {
     "name": "stderr",
     "output_type": "stream",
     "text": [
      "2665it [20:49:28, 35.70s/it]"
     ]
    },
    {
     "name": "stdout",
     "output_type": "stream",
     "text": [
      "Current experiment parameters: ('MNIST-C_impulse_noise', 0.0, 1), model: Customized, metrics: {'aucroc': 0.7644959064327487, 'aucpr': 0.15481535537629293}, fitting time: 813.5522427558899, inference time: 0.022938013076782227\n",
      "{'Samples': 10000, 'Features': 512, 'Anomalies': 500, 'Anomalies Ratio(%)': 5.0}\n"
     ]
    },
    {
     "name": "stderr",
     "output_type": "stream",
     "text": [
      "d:\\conda\\venv\\adbench\\Lib\\site-packages\\numpy\\lib\\function_base.py:2854: RuntimeWarning: invalid value encountered in divide\n",
      "  c /= stddev[:, None]\n",
      "d:\\conda\\venv\\adbench\\Lib\\site-packages\\numpy\\lib\\function_base.py:2855: RuntimeWarning: invalid value encountered in divide\n",
      "  c /= stddev[None, :]\n"
     ]
    },
    {
     "name": "stdout",
     "output_type": "stream",
     "text": [
      "Train data shape after filter corrcoef:  (7000, 511)\n",
      "epoch : 1000/6000, loss = 2.442703\n",
      "epoch : 2000/6000, loss = 2.185697\n",
      "epoch : 3000/6000, loss = 1.998557\n",
      "epoch : 4000/6000, loss = 1.833797\n",
      "epoch : 5000/6000, loss = 1.757464\n",
      "epoch : 6000/6000, loss = 1.707508\n"
     ]
    },
    {
     "name": "stderr",
     "output_type": "stream",
     "text": [
      "2689it [21:03:05, 35.17s/it]"
     ]
    },
    {
     "name": "stdout",
     "output_type": "stream",
     "text": [
      "Current experiment parameters: ('MNIST-C_motion_blur', 0.0, 1), model: Customized, metrics: {'aucroc': 0.8910502923976608, 'aucpr': 0.27377414283497525}, fitting time: 815.9007530212402, inference time: 0.022939205169677734\n",
      "{'Samples': 10000, 'Features': 512, 'Anomalies': 500, 'Anomalies Ratio(%)': 5.0}\n"
     ]
    },
    {
     "name": "stderr",
     "output_type": "stream",
     "text": [
      "d:\\conda\\venv\\adbench\\Lib\\site-packages\\numpy\\lib\\function_base.py:2854: RuntimeWarning: invalid value encountered in divide\n",
      "  c /= stddev[:, None]\n",
      "d:\\conda\\venv\\adbench\\Lib\\site-packages\\numpy\\lib\\function_base.py:2855: RuntimeWarning: invalid value encountered in divide\n",
      "  c /= stddev[None, :]\n"
     ]
    },
    {
     "name": "stdout",
     "output_type": "stream",
     "text": [
      "Train data shape after filter corrcoef:  (7000, 511)\n",
      "epoch : 1000/6000, loss = 2.473966\n",
      "epoch : 2000/6000, loss = 2.208520\n",
      "epoch : 3000/6000, loss = 2.092196\n",
      "epoch : 4000/6000, loss = 2.017989\n",
      "epoch : 5000/6000, loss = 1.863225\n",
      "epoch : 6000/6000, loss = 1.783219\n"
     ]
    },
    {
     "name": "stderr",
     "output_type": "stream",
     "text": [
      "2713it [21:16:41, 34.81s/it]"
     ]
    },
    {
     "name": "stdout",
     "output_type": "stream",
     "text": [
      "Current experiment parameters: ('MNIST-C_rotate', 0.0, 1), model: Customized, metrics: {'aucroc': 0.69366783625731, 'aucpr': 0.09278599140083746}, fitting time: 815.6954219341278, inference time: 0.024932861328125\n",
      "{'Samples': 10000, 'Features': 512, 'Anomalies': 500, 'Anomalies Ratio(%)': 5.0}\n"
     ]
    },
    {
     "name": "stderr",
     "output_type": "stream",
     "text": [
      "d:\\conda\\venv\\adbench\\Lib\\site-packages\\numpy\\lib\\function_base.py:2854: RuntimeWarning: invalid value encountered in divide\n",
      "  c /= stddev[:, None]\n",
      "d:\\conda\\venv\\adbench\\Lib\\site-packages\\numpy\\lib\\function_base.py:2855: RuntimeWarning: invalid value encountered in divide\n",
      "  c /= stddev[None, :]\n"
     ]
    },
    {
     "name": "stdout",
     "output_type": "stream",
     "text": [
      "Train data shape after filter corrcoef:  (7000, 512)\n",
      "epoch : 1000/6000, loss = 2.586550\n",
      "epoch : 2000/6000, loss = 2.131568\n",
      "epoch : 3000/6000, loss = 1.860237\n",
      "epoch : 4000/6000, loss = 1.767036\n",
      "epoch : 5000/6000, loss = 1.621459\n",
      "epoch : 6000/6000, loss = 1.560088\n"
     ]
    },
    {
     "name": "stderr",
     "output_type": "stream",
     "text": [
      "2737it [21:30:22, 34.63s/it]"
     ]
    },
    {
     "name": "stdout",
     "output_type": "stream",
     "text": [
      "Current experiment parameters: ('MNIST-C_scale', 0.0, 1), model: Customized, metrics: {'aucroc': 0.4813730994152047, 'aucpr': 0.04487247908618783}, fitting time: 820.99214220047, inference time: 0.021941661834716797\n",
      "{'Samples': 10000, 'Features': 512, 'Anomalies': 500, 'Anomalies Ratio(%)': 5.0}\n"
     ]
    },
    {
     "name": "stderr",
     "output_type": "stream",
     "text": [
      "d:\\conda\\venv\\adbench\\Lib\\site-packages\\numpy\\lib\\function_base.py:2854: RuntimeWarning: invalid value encountered in divide\n",
      "  c /= stddev[:, None]\n",
      "d:\\conda\\venv\\adbench\\Lib\\site-packages\\numpy\\lib\\function_base.py:2855: RuntimeWarning: invalid value encountered in divide\n",
      "  c /= stddev[None, :]\n"
     ]
    },
    {
     "name": "stdout",
     "output_type": "stream",
     "text": [
      "Train data shape after filter corrcoef:  (7000, 512)\n",
      "epoch : 1000/6000, loss = 2.442132\n",
      "epoch : 2000/6000, loss = 1.936784\n",
      "epoch : 3000/6000, loss = 1.802961\n",
      "epoch : 4000/6000, loss = 1.733212\n",
      "epoch : 5000/6000, loss = 1.606573\n",
      "epoch : 6000/6000, loss = 1.548559\n"
     ]
    },
    {
     "name": "stderr",
     "output_type": "stream",
     "text": [
      "2761it [21:43:59, 34.45s/it]"
     ]
    },
    {
     "name": "stdout",
     "output_type": "stream",
     "text": [
      "Current experiment parameters: ('MNIST-C_shear', 0.0, 1), model: Customized, metrics: {'aucroc': 0.7793824561403507, 'aucpr': 0.19016804189647402}, fitting time: 816.1071662902832, inference time: 0.029919862747192383\n",
      "{'Samples': 10000, 'Features': 512, 'Anomalies': 500, 'Anomalies Ratio(%)': 5.0}\n"
     ]
    },
    {
     "name": "stderr",
     "output_type": "stream",
     "text": [
      "d:\\conda\\venv\\adbench\\Lib\\site-packages\\numpy\\lib\\function_base.py:2854: RuntimeWarning: invalid value encountered in divide\n",
      "  c /= stddev[:, None]\n",
      "d:\\conda\\venv\\adbench\\Lib\\site-packages\\numpy\\lib\\function_base.py:2855: RuntimeWarning: invalid value encountered in divide\n",
      "  c /= stddev[None, :]\n"
     ]
    },
    {
     "name": "stdout",
     "output_type": "stream",
     "text": [
      "Train data shape after filter corrcoef:  (7000, 512)\n",
      "epoch : 1000/6000, loss = 2.491530\n",
      "epoch : 2000/6000, loss = 1.972339\n",
      "epoch : 3000/6000, loss = 1.827781\n",
      "epoch : 4000/6000, loss = 1.755543\n",
      "epoch : 5000/6000, loss = 1.633967\n",
      "epoch : 6000/6000, loss = 1.563424\n"
     ]
    },
    {
     "name": "stderr",
     "output_type": "stream",
     "text": [
      "2785it [21:57:38, 34.35s/it]"
     ]
    },
    {
     "name": "stdout",
     "output_type": "stream",
     "text": [
      "Current experiment parameters: ('MNIST-C_shot_noise', 0.0, 1), model: Customized, metrics: {'aucroc': 0.8257964912280702, 'aucpr': 0.18427037765851917}, fitting time: 818.9007337093353, inference time: 0.0249330997467041\n",
      "{'Samples': 10000, 'Features': 512, 'Anomalies': 500, 'Anomalies Ratio(%)': 5.0}\n"
     ]
    },
    {
     "name": "stderr",
     "output_type": "stream",
     "text": [
      "d:\\conda\\venv\\adbench\\Lib\\site-packages\\numpy\\lib\\function_base.py:2854: RuntimeWarning: invalid value encountered in divide\n",
      "  c /= stddev[:, None]\n",
      "d:\\conda\\venv\\adbench\\Lib\\site-packages\\numpy\\lib\\function_base.py:2855: RuntimeWarning: invalid value encountered in divide\n",
      "  c /= stddev[None, :]\n"
     ]
    },
    {
     "name": "stdout",
     "output_type": "stream",
     "text": [
      "Train data shape after filter corrcoef:  (7000, 511)\n",
      "epoch : 1000/6000, loss = 2.627653\n",
      "epoch : 2000/6000, loss = 2.073965\n",
      "epoch : 3000/6000, loss = 1.899395\n",
      "epoch : 4000/6000, loss = 1.809050\n",
      "epoch : 5000/6000, loss = 1.750342\n",
      "epoch : 6000/6000, loss = 1.710924\n"
     ]
    },
    {
     "name": "stderr",
     "output_type": "stream",
     "text": [
      "2809it [22:11:07, 34.16s/it]"
     ]
    },
    {
     "name": "stdout",
     "output_type": "stream",
     "text": [
      "Current experiment parameters: ('MNIST-C_spatter', 0.0, 1), model: Customized, metrics: {'aucroc': 0.8853543859649123, 'aucpr': 0.3040013245141303}, fitting time: 808.413943529129, inference time: 0.02493429183959961\n",
      "{'Samples': 10000, 'Features': 512, 'Anomalies': 500, 'Anomalies Ratio(%)': 5.0}\n"
     ]
    },
    {
     "name": "stderr",
     "output_type": "stream",
     "text": [
      "d:\\conda\\venv\\adbench\\Lib\\site-packages\\numpy\\lib\\function_base.py:2854: RuntimeWarning: invalid value encountered in divide\n",
      "  c /= stddev[:, None]\n",
      "d:\\conda\\venv\\adbench\\Lib\\site-packages\\numpy\\lib\\function_base.py:2855: RuntimeWarning: invalid value encountered in divide\n",
      "  c /= stddev[None, :]\n"
     ]
    },
    {
     "name": "stdout",
     "output_type": "stream",
     "text": [
      "Train data shape after filter corrcoef:  (7000, 512)\n",
      "epoch : 1000/6000, loss = 2.428288\n",
      "epoch : 2000/6000, loss = 1.996448\n",
      "epoch : 3000/6000, loss = 1.698323\n",
      "epoch : 4000/6000, loss = 1.600074\n",
      "epoch : 5000/6000, loss = 1.546313\n",
      "epoch : 6000/6000, loss = 1.506663\n"
     ]
    },
    {
     "name": "stderr",
     "output_type": "stream",
     "text": [
      "2833it [22:24:45, 34.13s/it]"
     ]
    },
    {
     "name": "stdout",
     "output_type": "stream",
     "text": [
      "Current experiment parameters: ('MNIST-C_stripe', 0.0, 1), model: Customized, metrics: {'aucroc': 0.8367742690058478, 'aucpr': 0.2112653358828212}, fitting time: 817.3960218429565, inference time: 0.02692699432373047\n",
      "{'Samples': 10000, 'Features': 512, 'Anomalies': 500, 'Anomalies Ratio(%)': 5.0}\n"
     ]
    },
    {
     "name": "stderr",
     "output_type": "stream",
     "text": [
      "d:\\conda\\venv\\adbench\\Lib\\site-packages\\numpy\\lib\\function_base.py:2854: RuntimeWarning: invalid value encountered in divide\n",
      "  c /= stddev[:, None]\n",
      "d:\\conda\\venv\\adbench\\Lib\\site-packages\\numpy\\lib\\function_base.py:2855: RuntimeWarning: invalid value encountered in divide\n",
      "  c /= stddev[None, :]\n"
     ]
    },
    {
     "name": "stdout",
     "output_type": "stream",
     "text": [
      "Train data shape after filter corrcoef:  (7000, 511)\n",
      "epoch : 1000/6000, loss = 2.567411\n",
      "epoch : 2000/6000, loss = 2.174452\n",
      "epoch : 3000/6000, loss = 1.925496\n",
      "epoch : 4000/6000, loss = 1.833932\n",
      "epoch : 5000/6000, loss = 1.771283\n",
      "epoch : 6000/6000, loss = 1.669966\n"
     ]
    },
    {
     "name": "stderr",
     "output_type": "stream",
     "text": [
      "2857it [22:38:20, 34.08s/it]"
     ]
    },
    {
     "name": "stdout",
     "output_type": "stream",
     "text": [
      "Current experiment parameters: ('MNIST-C_brightness', 0.0, 1), model: Customized, metrics: {'aucroc': 0.7870970760233917, 'aucpr': 0.13335558277370999}, fitting time: 814.9074091911316, inference time: 0.023936033248901367\n",
      "{'Samples': 10000, 'Features': 768, 'Anomalies': 500, 'Anomalies Ratio(%)': 5.0}\n",
      "Train data shape after filter corrcoef:  (7000, 748)\n",
      "epoch : 1000/6000, loss = 3.109235\n",
      "epoch : 2000/6000, loss = 2.437121\n",
      "epoch : 3000/6000, loss = 2.329293\n",
      "epoch : 4000/6000, loss = 2.148625\n",
      "epoch : 5000/6000, loss = 2.093614\n",
      "epoch : 6000/6000, loss = 2.064108\n"
     ]
    },
    {
     "name": "stderr",
     "output_type": "stream",
     "text": [
      "2904it [22:55:45, 28.42s/it]"
     ]
    },
    {
     "name": "stdout",
     "output_type": "stream",
     "text": [
      "Current experiment parameters: ('yelp', 0.0, 1), model: Customized, metrics: {'aucroc': 0.6993380116959064, 'aucpr': 0.09997182949313657}, fitting time: 1044.078246831894, inference time: 0.03387928009033203\n"
     ]
    },
    {
     "name": "stderr",
     "output_type": "stream",
     "text": [
      "\n"
     ]
    }
   ],
   "source": [
    "#results = pipeline.run(clf=SimpleAE)\n",
    "results = pipeline.run(clf=VAE)"
   ]
  },
  {
   "cell_type": "markdown",
   "metadata": {},
   "source": [
    "## Run ADBench algos on all datasets with every kinds of synthetic anomalies (unsupervised) "
   ]
  },
  {
   "cell_type": "code",
   "execution_count": null,
   "metadata": {},
   "outputs": [],
   "source": [
    "for mode in ['local', 'global', 'dependency', 'cluster']:\n",
    "    pipeline = RunPipeline(suffix='ADBench', parallel='unsupervise', realistic_synthetic_mode=mode, noise_type=None)\n",
    "    results = pipeline.run()"
   ]
  },
  {
   "cell_type": "markdown",
   "metadata": {},
   "source": [
    "## Run your customized algorithm on customized dataset"
   ]
  },
  {
   "cell_type": "code",
   "execution_count": null,
   "metadata": {},
   "outputs": [],
   "source": [
    "# customized model on customized dataset\n",
    "import numpy as np\n",
    "dataset = {}\n",
    "dataset['X'] = np.random.randn(1000, 20)\n",
    "dataset['y'] = np.random.choice([0, 1], 1000)\n",
    "results = pipeline.run(dataset=dataset, clf=SimpleAE)"
   ]
  },
  {
   "cell_type": "markdown",
   "metadata": {},
   "source": [
    "# Import AD algorithms from ADBench"
   ]
  },
  {
   "cell_type": "code",
   "execution_count": 59,
   "metadata": {},
   "outputs": [
    {
     "name": "stdout",
     "output_type": "stream",
     "text": [
      "fit transform: X shape before:  (1000, 4)\n",
      "[[0. 1. 1. 1.]\n",
      " [1. 0. 1. 1.]\n",
      " [1. 1. 0. 1.]\n",
      " [1. 1. 1. 0.]]\n",
      "Train data shape after filter corrcoef:  (1000, 1)\n",
      "epoch : 1000/3000, loss = 1.000339\n",
      "epoch : 2000/3000, loss = 1.000902\n",
      "epoch : 3000/3000, loss = 1.001148\n",
      "(100, 1)\n"
     ]
    },
    {
     "data": {
      "text/plain": [
       "' from adbench.baseline.PReNet.run import PReNet\\nmodel = PReNet(seed=42)\\nmodel.fit(X_train, y_train)  # fit\\nscore = model.predict_score(X_test)  # predict '"
      ]
     },
     "execution_count": 59,
     "metadata": {},
     "output_type": "execute_result"
    }
   ],
   "source": [
    "import numpy as np\n",
    "X_train = np.random.randn(1000, 1)\n",
    "X_train = np.concatenate((X_train, X_train, X_train, X_train), axis=-1)\n",
    "y_train = np.random.choice([0, 1], 1000)\n",
    "X_test = np.random.randn(100, 4)\n",
    "y_test = np.random.choice([0, 1], 100)\n",
    "\n",
    "# Directly import AD algorithms from the existing toolkits like PyOD\n",
    "#from adbench.baseline.PyOD import PYOD\n",
    "#model = PYOD(seed=42, model_name='XGBOD')  # initialization\n",
    "model = SimpleAE(seed=42)\n",
    "model.fit(X_train, y_train)  # fit\n",
    "score = model.predict_score(X_test)  # predict\n",
    "print(score.shape)\n",
    "\n",
    "# Import deep learning AD algorithms from our ADBench\n",
    "\"\"\" from adbench.baseline.PReNet.run import PReNet\n",
    "model = PReNet(seed=42)\n",
    "model.fit(X_train, y_train)  # fit\n",
    "score = model.predict_score(X_test)  # predict \"\"\""
   ]
  }
 ],
 "metadata": {
  "kernelspec": {
   "display_name": "Python 3",
   "language": "python",
   "name": "python3"
  },
  "language_info": {
   "codemirror_mode": {
    "name": "ipython",
    "version": 3
   },
   "file_extension": ".py",
   "mimetype": "text/x-python",
   "name": "python",
   "nbconvert_exporter": "python",
   "pygments_lexer": "ipython3",
   "version": "3.11.5"
  },
  "toc": {
   "base_numbering": 1,
   "nav_menu": {},
   "number_sections": true,
   "sideBar": true,
   "skip_h1_title": false,
   "title_cell": "Table of Contents",
   "title_sidebar": "Contents",
   "toc_cell": false,
   "toc_position": {},
   "toc_section_display": true,
   "toc_window_display": false
  },
  "varInspector": {
   "cols": {
    "lenName": 16,
    "lenType": 16,
    "lenVar": 40
   },
   "kernels_config": {
    "python": {
     "delete_cmd_postfix": "",
     "delete_cmd_prefix": "del ",
     "library": "var_list.py",
     "varRefreshCmd": "print(var_dic_list())"
    },
    "r": {
     "delete_cmd_postfix": ") ",
     "delete_cmd_prefix": "rm(",
     "library": "var_list.r",
     "varRefreshCmd": "cat(var_dic_list()) "
    }
   },
   "types_to_exclude": [
    "module",
    "function",
    "builtin_function_or_method",
    "instance",
    "_Feature"
   ],
   "window_display": false
  }
 },
 "nbformat": 4,
 "nbformat_minor": 4
}
