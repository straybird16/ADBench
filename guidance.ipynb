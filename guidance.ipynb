{
 "cells": [
  {
   "cell_type": "markdown",
   "metadata": {},
   "source": [
    "**Step-by-step Guidence on How to Install and Use ADBench**"
   ]
  },
  {
   "cell_type": "markdown",
   "metadata": {},
   "source": [
    "# Install ADBench"
   ]
  },
  {
   "cell_type": "code",
   "execution_count": 1,
   "metadata": {},
   "outputs": [],
   "source": [
    "%load_ext autoreload\n",
    "%reload_ext autoreload\n",
    "%autoreload 2"
   ]
  },
  {
   "cell_type": "code",
   "execution_count": 2,
   "metadata": {
    "ExecuteTime": {
     "end_time": "2023-07-19T16:06:57.104897Z",
     "start_time": "2023-07-19T16:06:57.092930Z"
    }
   },
   "outputs": [],
   "source": [
    "# download datasets in ADBench from the remote github repo\n",
    "from adbench.myutils import Utils\n",
    "utils = Utils()\n",
    "# we recommend jihulab for China mainland user and github otherwise\n",
    "#utils.download_datasets(repo='github')"
   ]
  },
  {
   "cell_type": "markdown",
   "metadata": {
    "pycharm": {
     "name": "#%% md\n"
    }
   },
   "source": [
    "# Run ADBench "
   ]
  },
  {
   "cell_type": "markdown",
   "metadata": {
    "ExecuteTime": {
     "end_time": "2023-07-17T15:33:13.848925Z",
     "start_time": "2023-07-17T15:33:13.833498Z"
    }
   },
   "source": [
    "## Run ADBench experiments"
   ]
  },
  {
   "cell_type": "code",
   "execution_count": 3,
   "metadata": {
    "ExecuteTime": {
     "end_time": "2023-07-19T14:44:03.627289Z",
     "start_time": "2023-07-19T14:26:41.551958Z"
    },
    "pycharm": {
     "name": "#%%\n"
    }
   },
   "outputs": [
    {
     "data": {
      "text/plain": [
       "\"\\nParams:\\nsuffix: file name suffix;\\n\\nparallel: running either 'unsupervise', 'semi-supervise', or 'supervise' (AD) algorithms,\\ncorresponding to the Angle I: Availability of Ground Truth Labels (Supervision);\\n\\nrealistic_synthetic_mode: testing on 'local', 'global', 'dependency', and 'cluster' anomalies, \\ncorresponding to the Angle II: Types of Anomalies;\\n\\nnoise type: evaluating algorithms on 'duplicated_anomalies', 'irrelevant_features' and 'label_contamination',\\ncorresponding to the Angle III: Model Robustness with Noisy and Corrupted Data.\\n\""
      ]
     },
     "execution_count": 3,
     "metadata": {},
     "output_type": "execute_result"
    }
   ],
   "source": [
    "from adbench.run import RunPipeline\n",
    "\n",
    "'''\n",
    "Params:\n",
    "suffix: file name suffix;\n",
    "\n",
    "parallel: running either 'unsupervise', 'semi-supervise', or 'supervise' (AD) algorithms,\n",
    "corresponding to the Angle I: Availability of Ground Truth Labels (Supervision);\n",
    "\n",
    "realistic_synthetic_mode: testing on 'local', 'global', 'dependency', and 'cluster' anomalies, \n",
    "corresponding to the Angle II: Types of Anomalies;\n",
    "\n",
    "noise type: evaluating algorithms on 'duplicated_anomalies', 'irrelevant_features' and 'label_contamination',\n",
    "corresponding to the Angle III: Model Robustness with Noisy and Corrupted Data.\n",
    "'''"
   ]
  },
  {
   "cell_type": "code",
   "execution_count": 4,
   "metadata": {},
   "outputs": [],
   "source": [
    "#pipeline = RunPipeline(suffix='ADBench', parallel='unsupervise', realistic_synthetic_mode='cluster', noise_type=None)\n",
    "#results = pipeline.run()"
   ]
  },
  {
   "cell_type": "code",
   "execution_count": 5,
   "metadata": {},
   "outputs": [],
   "source": [
    "#pipeline = RunPipeline(suffix='ADBench', parallel='supervise', realistic_synthetic_mode=None, noise_type='irrelevant_features')\n",
    "#results = pipeline.run()"
   ]
  },
  {
   "cell_type": "markdown",
   "metadata": {},
   "source": [
    "## Run your customized algorithm on ADBench datasets"
   ]
  },
  {
   "cell_type": "code",
   "execution_count": 6,
   "metadata": {},
   "outputs": [],
   "source": [
    "# customized model on ADBench's datasets\n",
    "from adbench.run import RunPipeline\n",
    "from adbench.baseline.SimpleAE.run import SimpleAE\n",
    "from adbench.baseline.VAE.run import VAE\n",
    "from adbench.baseline.DOCAE.run import DOCAE\n",
    "from adbench.baseline.AADOCAE.run import AADOCAE\n",
    "\n",
    "# notice that you should specify the corresponding category of your customized AD algorithm\n",
    "# for example, here we use Logistic Regression as customized clf, which belongs to the supervised algorithm\n",
    "# for your own algorithm, you can realize the same usage as other baselines by modifying the fit.py, model.py, and run.py files in the adbench/baseline/Customized\n",
    "pipeline = RunPipeline(suffix='ADBench', parallel='unsupervise', realistic_synthetic_mode=None, noise_type=None, num_seed=3)"
   ]
  },
  {
   "cell_type": "markdown",
   "metadata": {},
   "source": [
    "## Run ADBench algos on all datasets with every kinds of synthetic anomalies (unsupervised) "
   ]
  },
  {
   "cell_type": "markdown",
   "metadata": {},
   "source": [
    "epoch : 1/3000, loss = 1487.138672\n",
    "epoch : 100/3000, loss = 10.363136\n",
    "epoch : 200/3000, loss = 2.878419\n",
    "epoch : 300/3000, loss = 2.028150\n",
    "epoch : 400/3000, loss = 1.230358\n",
    "epoch : 500/3000, loss = 1.005102\n",
    "epoch : 600/3000, loss = 0.697317\n",
    "epoch : 700/3000, loss = 0.598053\n",
    "epoch : 800/3000, loss = 0.733529\n",
    "epoch : 900/3000, loss = 5.462417\n",
    "epoch : 1000/3000, loss = 0.432301\n",
    "epoch : 1100/3000, loss = 0.493422\n",
    "epoch : 1200/3000, loss = 0.384208\n",
    "epoch : 1300/3000, loss = 0.371852\n",
    "epoch : 1400/3000, loss = 0.322503\n",
    "epoch : 1500/3000, loss = 0.389983\n",
    "epoch : 1600/3000, loss = 0.384546\n",
    "epoch : 1700/3000, loss = 0.484489\n",
    "epoch : 1800/3000, loss = 0.672034\n",
    "epoch : 1900/3000, loss = 0.854956\n",
    "epoch : 2000/3000, loss = 0.265423\n",
    "epoch : 2100/3000, loss = 0.451732\n",
    "epoch : 2200/3000, loss = 0.374019\n",
    "epoch : 2300/3000, loss = 0.538315\n",
    "epoch : 2400/3000, loss = 0.618200\n",
    "epoch : 2500/3000, loss = 0.277787\n",
    "epoch : 2600/3000, loss = 0.199320\n",
    "epoch : 2700/3000, loss = 0.215055\n",
    "epoch : 2800/3000, loss = 0.177954\n",
    "epoch : 2900/3000, loss = 0.276497"
   ]
  },
  {
   "cell_type": "code",
   "execution_count": 19,
   "metadata": {},
   "outputs": [
    {
     "name": "stdout",
     "output_type": "stream",
     "text": [
      "{'Samples': 10000, 'Features': 10, 'Anomalies': 97, 'Anomalies Ratio(%)': 0.97}\n",
      "{'Samples': 10000, 'Features': 10, 'Anomalies': 116, 'Anomalies Ratio(%)': 1.16}\n",
      "{'Samples': 10000, 'Features': 10, 'Anomalies': 95, 'Anomalies Ratio(%)': 0.95}\n",
      "{'Samples': 10000, 'Features': 10, 'Anomalies': 618, 'Anomalies Ratio(%)': 6.18}\n",
      "{'Samples': 10000, 'Features': 10, 'Anomalies': 578, 'Anomalies Ratio(%)': 5.78}\n",
      "{'Samples': 10000, 'Features': 10, 'Anomalies': 597, 'Anomalies Ratio(%)': 5.97}\n",
      "{'Samples': 1941, 'Features': 27, 'Anomalies': 673, 'Anomalies Ratio(%)': 34.67}\n",
      "{'Samples': 1941, 'Features': 27, 'Anomalies': 673, 'Anomalies Ratio(%)': 34.67}\n",
      "{'Samples': 1941, 'Features': 27, 'Anomalies': 673, 'Anomalies Ratio(%)': 34.67}\n",
      "{'Samples': 10000, 'Features': 29, 'Anomalies': 15, 'Anomalies Ratio(%)': 0.15}\n",
      "{'Samples': 10000, 'Features': 29, 'Anomalies': 15, 'Anomalies Ratio(%)': 0.15}\n",
      "{'Samples': 10000, 'Features': 29, 'Anomalies': 13, 'Anomalies Ratio(%)': 0.13}\n",
      "{'Samples': 1000, 'Features': 7, 'Anomalies': 42, 'Anomalies Ratio(%)': 4.2}\n",
      "{'Samples': 1000, 'Features': 7, 'Anomalies': 42, 'Anomalies Ratio(%)': 4.2}\n",
      "{'Samples': 1000, 'Features': 7, 'Anomalies': 34, 'Anomalies Ratio(%)': 3.4}\n",
      "{'Samples': 1000, 'Features': 19, 'Anomalies': 170, 'Anomalies Ratio(%)': 17.0}\n",
      "{'Samples': 1000, 'Features': 19, 'Anomalies': 139, 'Anomalies Ratio(%)': 13.9}\n",
      "{'Samples': 1000, 'Features': 19, 'Anomalies': 169, 'Anomalies Ratio(%)': 16.9}\n",
      "{'Samples': 10000, 'Features': 3, 'Anomalies': 46, 'Anomalies Ratio(%)': 0.46}\n",
      "{'Samples': 10000, 'Features': 3, 'Anomalies': 35, 'Anomalies Ratio(%)': 0.35}\n",
      "{'Samples': 10000, 'Features': 3, 'Anomalies': 34, 'Anomalies Ratio(%)': 0.34}\n",
      "{'Samples': 1966, 'Features': 1555, 'Anomalies': 368, 'Anomalies Ratio(%)': 18.72}\n",
      "{'Samples': 1966, 'Features': 1555, 'Anomalies': 368, 'Anomalies Ratio(%)': 18.72}\n",
      "{'Samples': 1966, 'Features': 1555, 'Anomalies': 368, 'Anomalies Ratio(%)': 18.72}\n",
      "{'Samples': 1000, 'Features': 32, 'Anomalies': 369, 'Anomalies Ratio(%)': 36.9}\n",
      "{'Samples': 1000, 'Features': 32, 'Anomalies': 374, 'Anomalies Ratio(%)': 37.4}\n",
      "{'Samples': 1000, 'Features': 32, 'Anomalies': 349, 'Anomalies Ratio(%)': 34.9}\n",
      "{'Samples': 6435, 'Features': 36, 'Anomalies': 1333, 'Anomalies Ratio(%)': 20.71}\n",
      "{'Samples': 6435, 'Features': 36, 'Anomalies': 1333, 'Anomalies Ratio(%)': 20.71}\n",
      "{'Samples': 6435, 'Features': 36, 'Anomalies': 1333, 'Anomalies Ratio(%)': 20.71}\n",
      "{'Samples': 10000, 'Features': 27, 'Anomalies': 315, 'Anomalies Ratio(%)': 3.15}\n",
      "{'Samples': 10000, 'Features': 27, 'Anomalies': 334, 'Anomalies Ratio(%)': 3.34}\n",
      "{'Samples': 10000, 'Features': 27, 'Anomalies': 332, 'Anomalies Ratio(%)': 3.32}\n",
      "{'Samples': 1600, 'Features': 32, 'Anomalies': 100, 'Anomalies Ratio(%)': 6.25}\n",
      "{'Samples': 1600, 'Features': 32, 'Anomalies': 100, 'Anomalies Ratio(%)': 6.25}\n",
      "{'Samples': 1600, 'Features': 32, 'Anomalies': 100, 'Anomalies Ratio(%)': 6.25}\n",
      "{'Samples': 1000, 'Features': 18, 'Anomalies': 44, 'Anomalies Ratio(%)': 4.4}\n",
      "{'Samples': 1000, 'Features': 18, 'Anomalies': 38, 'Anomalies Ratio(%)': 3.8}\n",
      "{'Samples': 1000, 'Features': 18, 'Anomalies': 43, 'Anomalies Ratio(%)': 4.3}\n",
      "{'Samples': 10000, 'Features': 10, 'Anomalies': 3548, 'Anomalies Ratio(%)': 35.48}\n",
      "{'Samples': 10000, 'Features': 10, 'Anomalies': 3533, 'Anomalies Ratio(%)': 35.33}\n",
      "{'Samples': 10000, 'Features': 10, 'Anomalies': 3500, 'Anomalies Ratio(%)': 35.0}\n",
      "{'Samples': 10000, 'Features': 6, 'Anomalies': 230, 'Anomalies Ratio(%)': 2.3}\n",
      "{'Samples': 10000, 'Features': 6, 'Anomalies': 241, 'Anomalies Ratio(%)': 2.41}\n",
      "{'Samples': 10000, 'Features': 6, 'Anomalies': 227, 'Anomalies Ratio(%)': 2.27}\n",
      "{'Samples': 7603, 'Features': 100, 'Anomalies': 700, 'Anomalies Ratio(%)': 9.21}\n",
      "{'Samples': 7603, 'Features': 100, 'Anomalies': 700, 'Anomalies Ratio(%)': 9.21}\n",
      "{'Samples': 7603, 'Features': 100, 'Anomalies': 700, 'Anomalies Ratio(%)': 9.21}\n",
      "{'Samples': 3062, 'Features': 166, 'Anomalies': 97, 'Anomalies Ratio(%)': 3.17}\n",
      "{'Samples': 3062, 'Features': 166, 'Anomalies': 97, 'Anomalies Ratio(%)': 3.17}\n",
      "{'Samples': 3062, 'Features': 166, 'Anomalies': 97, 'Anomalies Ratio(%)': 3.17}\n",
      "{'Samples': 5216, 'Features': 64, 'Anomalies': 150, 'Anomalies Ratio(%)': 2.88}\n",
      "{'Samples': 5216, 'Features': 64, 'Anomalies': 150, 'Anomalies Ratio(%)': 2.88}\n",
      "{'Samples': 5216, 'Features': 64, 'Anomalies': 150, 'Anomalies Ratio(%)': 2.88}\n",
      "{'Samples': 5393, 'Features': 10, 'Anomalies': 510, 'Anomalies Ratio(%)': 9.46}\n",
      "{'Samples': 5393, 'Features': 10, 'Anomalies': 510, 'Anomalies Ratio(%)': 9.46}\n",
      "{'Samples': 5393, 'Features': 10, 'Anomalies': 510, 'Anomalies Ratio(%)': 9.46}\n",
      "{'Samples': 6870, 'Features': 16, 'Anomalies': 156, 'Anomalies Ratio(%)': 2.27}\n",
      "{'Samples': 6870, 'Features': 16, 'Anomalies': 156, 'Anomalies Ratio(%)': 2.27}\n",
      "{'Samples': 6870, 'Features': 16, 'Anomalies': 156, 'Anomalies Ratio(%)': 2.27}\n",
      "{'Samples': 1000, 'Features': 8, 'Anomalies': 367, 'Anomalies Ratio(%)': 36.7}\n",
      "{'Samples': 1000, 'Features': 8, 'Anomalies': 346, 'Anomalies Ratio(%)': 34.6}\n",
      "{'Samples': 1000, 'Features': 8, 'Anomalies': 308, 'Anomalies Ratio(%)': 30.8}\n",
      "{'Samples': 7200, 'Features': 6, 'Anomalies': 534, 'Anomalies Ratio(%)': 7.42}\n",
      "{'Samples': 7200, 'Features': 6, 'Anomalies': 534, 'Anomalies Ratio(%)': 7.42}\n",
      "{'Samples': 7200, 'Features': 6, 'Anomalies': 534, 'Anomalies Ratio(%)': 7.42}\n",
      "{'Samples': 6435, 'Features': 36, 'Anomalies': 2036, 'Anomalies Ratio(%)': 31.64}\n",
      "{'Samples': 6435, 'Features': 36, 'Anomalies': 2036, 'Anomalies Ratio(%)': 31.64}\n",
      "{'Samples': 6435, 'Features': 36, 'Anomalies': 2036, 'Anomalies Ratio(%)': 31.64}\n",
      "{'Samples': 5803, 'Features': 36, 'Anomalies': 71, 'Anomalies Ratio(%)': 1.22}\n",
      "{'Samples': 5803, 'Features': 36, 'Anomalies': 71, 'Anomalies Ratio(%)': 1.22}\n",
      "{'Samples': 5803, 'Features': 36, 'Anomalies': 71, 'Anomalies Ratio(%)': 1.22}\n",
      "{'Samples': 10000, 'Features': 9, 'Anomalies': 669, 'Anomalies Ratio(%)': 6.69}\n",
      "{'Samples': 10000, 'Features': 9, 'Anomalies': 697, 'Anomalies Ratio(%)': 6.97}\n",
      "{'Samples': 10000, 'Features': 9, 'Anomalies': 714, 'Anomalies Ratio(%)': 7.14}\n",
      "{'Samples': 10000, 'Features': 3, 'Anomalies': 2081, 'Anomalies Ratio(%)': 20.81}\n",
      "{'Samples': 10000, 'Features': 3, 'Anomalies': 2082, 'Anomalies Ratio(%)': 20.82}\n",
      "{'Samples': 10000, 'Features': 3, 'Anomalies': 2066, 'Anomalies Ratio(%)': 20.66}\n",
      "{'Samples': 10000, 'Features': 3, 'Anomalies': 4, 'Anomalies Ratio(%)': 0.04}\n",
      "{'Samples': 10000, 'Features': 3, 'Anomalies': 4, 'Anomalies Ratio(%)': 0.04}\n",
      "{'Samples': 10000, 'Features': 3, 'Anomalies': 5, 'Anomalies Ratio(%)': 0.05}\n",
      "{'Samples': 4207, 'Features': 57, 'Anomalies': 1679, 'Anomalies Ratio(%)': 39.91}\n",
      "{'Samples': 4207, 'Features': 57, 'Anomalies': 1679, 'Anomalies Ratio(%)': 39.91}\n",
      "{'Samples': 4207, 'Features': 57, 'Anomalies': 1679, 'Anomalies Ratio(%)': 39.91}\n",
      "{'Samples': 3686, 'Features': 400, 'Anomalies': 61, 'Anomalies Ratio(%)': 1.65}\n",
      "{'Samples': 3686, 'Features': 400, 'Anomalies': 61, 'Anomalies Ratio(%)': 1.65}\n",
      "{'Samples': 3686, 'Features': 400, 'Anomalies': 61, 'Anomalies Ratio(%)': 1.65}\n",
      "{'Samples': 1000, 'Features': 9, 'Anomalies': 90, 'Anomalies Ratio(%)': 9.0}\n",
      "{'Samples': 1000, 'Features': 9, 'Anomalies': 95, 'Anomalies Ratio(%)': 9.5}\n",
      "{'Samples': 1000, 'Features': 9, 'Anomalies': 100, 'Anomalies Ratio(%)': 10.0}\n",
      "{'Samples': 3772, 'Features': 6, 'Anomalies': 93, 'Anomalies Ratio(%)': 2.47}\n",
      "{'Samples': 3772, 'Features': 6, 'Anomalies': 93, 'Anomalies Ratio(%)': 2.47}\n",
      "{'Samples': 3772, 'Features': 6, 'Anomalies': 93, 'Anomalies Ratio(%)': 2.47}\n",
      "{'Samples': 1000, 'Features': 6, 'Anomalies': 123, 'Anomalies Ratio(%)': 12.3}\n",
      "{'Samples': 1000, 'Features': 6, 'Anomalies': 138, 'Anomalies Ratio(%)': 13.8}\n",
      "{'Samples': 1000, 'Features': 6, 'Anomalies': 133, 'Anomalies Ratio(%)': 13.3}\n",
      "{'Samples': 10000, 'Features': 196, 'Anomalies': 252, 'Anomalies Ratio(%)': 2.52}\n",
      "{'Samples': 10000, 'Features': 196, 'Anomalies': 246, 'Anomalies Ratio(%)': 2.46}\n",
      "{'Samples': 10000, 'Features': 196, 'Anomalies': 256, 'Anomalies Ratio(%)': 2.56}\n",
      "{'Samples': 1456, 'Features': 12, 'Anomalies': 50, 'Anomalies Ratio(%)': 3.43}\n",
      "{'Samples': 1456, 'Features': 12, 'Anomalies': 50, 'Anomalies Ratio(%)': 3.43}\n",
      "{'Samples': 1456, 'Features': 12, 'Anomalies': 50, 'Anomalies Ratio(%)': 3.43}\n",
      "{'Samples': 3443, 'Features': 21, 'Anomalies': 100, 'Anomalies Ratio(%)': 2.9}\n",
      "{'Samples': 3443, 'Features': 21, 'Anomalies': 100, 'Anomalies Ratio(%)': 2.9}\n",
      "{'Samples': 3443, 'Features': 21, 'Anomalies': 100, 'Anomalies Ratio(%)': 2.9}\n",
      "{'Samples': 1000, 'Features': 9, 'Anomalies': 35, 'Anomalies Ratio(%)': 3.5}\n",
      "{'Samples': 1000, 'Features': 9, 'Anomalies': 45, 'Anomalies Ratio(%)': 4.5}\n",
      "{'Samples': 1000, 'Features': 9, 'Anomalies': 48, 'Anomalies Ratio(%)': 4.8}\n",
      "{'Samples': 1000, 'Features': 30, 'Anomalies': 26, 'Anomalies Ratio(%)': 2.6}\n",
      "{'Samples': 1000, 'Features': 30, 'Anomalies': 29, 'Anomalies Ratio(%)': 2.9}\n",
      "{'Samples': 1000, 'Features': 30, 'Anomalies': 27, 'Anomalies Ratio(%)': 2.7}\n",
      "{'Samples': 4819, 'Features': 5, 'Anomalies': 257, 'Anomalies Ratio(%)': 5.33}\n",
      "{'Samples': 4819, 'Features': 5, 'Anomalies': 257, 'Anomalies Ratio(%)': 5.33}\n",
      "{'Samples': 4819, 'Features': 5, 'Anomalies': 257, 'Anomalies Ratio(%)': 5.33}\n",
      "{'Samples': 1000, 'Features': 13, 'Anomalies': 75, 'Anomalies Ratio(%)': 7.5}\n",
      "{'Samples': 1000, 'Features': 13, 'Anomalies': 80, 'Anomalies Ratio(%)': 8.0}\n",
      "{'Samples': 1000, 'Features': 13, 'Anomalies': 88, 'Anomalies Ratio(%)': 8.8}\n",
      "{'Samples': 1000, 'Features': 33, 'Anomalies': 239, 'Anomalies Ratio(%)': 23.9}\n",
      "{'Samples': 1000, 'Features': 33, 'Anomalies': 224, 'Anomalies Ratio(%)': 22.4}\n",
      "{'Samples': 1000, 'Features': 33, 'Anomalies': 225, 'Anomalies Ratio(%)': 22.5}\n",
      "{'Samples': 1484, 'Features': 8, 'Anomalies': 507, 'Anomalies Ratio(%)': 34.16}\n",
      "{'Samples': 1484, 'Features': 8, 'Anomalies': 507, 'Anomalies Ratio(%)': 34.16}\n",
      "{'Samples': 1484, 'Features': 8, 'Anomalies': 507, 'Anomalies Ratio(%)': 34.16}\n",
      "{'Samples': 1000, 'Features': 9, 'Anomalies': 348, 'Anomalies Ratio(%)': 34.8}\n",
      "{'Samples': 1000, 'Features': 9, 'Anomalies': 336, 'Anomalies Ratio(%)': 33.6}\n",
      "{'Samples': 1000, 'Features': 9, 'Anomalies': 364, 'Anomalies Ratio(%)': 36.4}\n",
      "{'Samples': 10000, 'Features': 62, 'Anomalies': 1134, 'Anomalies Ratio(%)': 11.34}\n",
      "{'Samples': 10000, 'Features': 62, 'Anomalies': 1129, 'Anomalies Ratio(%)': 11.29}\n",
      "{'Samples': 10000, 'Features': 62, 'Anomalies': 1129, 'Anomalies Ratio(%)': 11.29}\n",
      "{'Samples': 1831, 'Features': 21, 'Anomalies': 176, 'Anomalies Ratio(%)': 9.61}\n",
      "{'Samples': 1831, 'Features': 21, 'Anomalies': 176, 'Anomalies Ratio(%)': 9.61}\n",
      "{'Samples': 1831, 'Features': 21, 'Anomalies': 176, 'Anomalies Ratio(%)': 9.61}\n",
      "{'Samples': 2114, 'Features': 21, 'Anomalies': 466, 'Anomalies Ratio(%)': 22.04}\n",
      "{'Samples': 2114, 'Features': 21, 'Anomalies': 466, 'Anomalies Ratio(%)': 22.04}\n",
      "{'Samples': 2114, 'Features': 21, 'Anomalies': 466, 'Anomalies Ratio(%)': 22.04}\n",
      "{'Samples': 10000, 'Features': 39, 'Anomalies': 222, 'Anomalies Ratio(%)': 2.22}\n",
      "{'Samples': 10000, 'Features': 39, 'Anomalies': 238, 'Anomalies Ratio(%)': 2.38}\n",
      "{'Samples': 10000, 'Features': 39, 'Anomalies': 216, 'Anomalies Ratio(%)': 2.16}\n",
      "{'Samples': 10000, 'Features': 500, 'Anomalies': 618, 'Anomalies Ratio(%)': 6.18}\n",
      "{'Samples': 10000, 'Features': 500, 'Anomalies': 628, 'Anomalies Ratio(%)': 6.28}\n",
      "{'Samples': 10000, 'Features': 500, 'Anomalies': 652, 'Anomalies Ratio(%)': 6.52}\n",
      "{'Samples': 5263, 'Features': 512, 'Anomalies': 263, 'Anomalies Ratio(%)': 5.0}\n",
      "{'Samples': 5263, 'Features': 512, 'Anomalies': 263, 'Anomalies Ratio(%)': 5.0}\n",
      "{'Samples': 5263, 'Features': 512, 'Anomalies': 263, 'Anomalies Ratio(%)': 5.0}\n",
      "{'Samples': 5263, 'Features': 512, 'Anomalies': 263, 'Anomalies Ratio(%)': 5.0}\n",
      "{'Samples': 5263, 'Features': 512, 'Anomalies': 263, 'Anomalies Ratio(%)': 5.0}\n",
      "{'Samples': 5263, 'Features': 512, 'Anomalies': 263, 'Anomalies Ratio(%)': 5.0}\n",
      "{'Samples': 5263, 'Features': 512, 'Anomalies': 263, 'Anomalies Ratio(%)': 5.0}\n",
      "{'Samples': 5263, 'Features': 512, 'Anomalies': 263, 'Anomalies Ratio(%)': 5.0}\n",
      "{'Samples': 5263, 'Features': 512, 'Anomalies': 263, 'Anomalies Ratio(%)': 5.0}\n",
      "{'Samples': 5263, 'Features': 512, 'Anomalies': 263, 'Anomalies Ratio(%)': 5.0}\n",
      "{'Samples': 5263, 'Features': 512, 'Anomalies': 263, 'Anomalies Ratio(%)': 5.0}\n",
      "{'Samples': 5263, 'Features': 512, 'Anomalies': 263, 'Anomalies Ratio(%)': 5.0}\n",
      "{'Samples': 5263, 'Features': 512, 'Anomalies': 263, 'Anomalies Ratio(%)': 5.0}\n",
      "{'Samples': 5263, 'Features': 512, 'Anomalies': 263, 'Anomalies Ratio(%)': 5.0}\n",
      "{'Samples': 5263, 'Features': 512, 'Anomalies': 263, 'Anomalies Ratio(%)': 5.0}\n",
      "{'Samples': 5263, 'Features': 512, 'Anomalies': 263, 'Anomalies Ratio(%)': 5.0}\n",
      "{'Samples': 5263, 'Features': 512, 'Anomalies': 263, 'Anomalies Ratio(%)': 5.0}\n",
      "{'Samples': 5263, 'Features': 512, 'Anomalies': 263, 'Anomalies Ratio(%)': 5.0}\n",
      "{'Samples': 5263, 'Features': 512, 'Anomalies': 263, 'Anomalies Ratio(%)': 5.0}\n",
      "{'Samples': 5263, 'Features': 512, 'Anomalies': 263, 'Anomalies Ratio(%)': 5.0}\n",
      "{'Samples': 5263, 'Features': 512, 'Anomalies': 263, 'Anomalies Ratio(%)': 5.0}\n",
      "{'Samples': 5263, 'Features': 512, 'Anomalies': 263, 'Anomalies Ratio(%)': 5.0}\n",
      "{'Samples': 5263, 'Features': 512, 'Anomalies': 263, 'Anomalies Ratio(%)': 5.0}\n",
      "{'Samples': 5263, 'Features': 512, 'Anomalies': 263, 'Anomalies Ratio(%)': 5.0}\n",
      "{'Samples': 5263, 'Features': 512, 'Anomalies': 263, 'Anomalies Ratio(%)': 5.0}\n",
      "{'Samples': 5263, 'Features': 512, 'Anomalies': 263, 'Anomalies Ratio(%)': 5.0}\n",
      "{'Samples': 5263, 'Features': 512, 'Anomalies': 263, 'Anomalies Ratio(%)': 5.0}\n",
      "{'Samples': 5263, 'Features': 512, 'Anomalies': 263, 'Anomalies Ratio(%)': 5.0}\n",
      "{'Samples': 5263, 'Features': 512, 'Anomalies': 263, 'Anomalies Ratio(%)': 5.0}\n",
      "{'Samples': 5263, 'Features': 512, 'Anomalies': 263, 'Anomalies Ratio(%)': 5.0}\n",
      "{'Samples': 6315, 'Features': 512, 'Anomalies': 315, 'Anomalies Ratio(%)': 4.99}\n",
      "{'Samples': 6315, 'Features': 512, 'Anomalies': 315, 'Anomalies Ratio(%)': 4.99}\n",
      "{'Samples': 6315, 'Features': 512, 'Anomalies': 315, 'Anomalies Ratio(%)': 4.99}\n",
      "{'Samples': 6315, 'Features': 512, 'Anomalies': 315, 'Anomalies Ratio(%)': 4.99}\n",
      "{'Samples': 6315, 'Features': 512, 'Anomalies': 315, 'Anomalies Ratio(%)': 4.99}\n",
      "{'Samples': 6315, 'Features': 512, 'Anomalies': 315, 'Anomalies Ratio(%)': 4.99}\n",
      "{'Samples': 6315, 'Features': 512, 'Anomalies': 315, 'Anomalies Ratio(%)': 4.99}\n",
      "{'Samples': 6315, 'Features': 512, 'Anomalies': 315, 'Anomalies Ratio(%)': 4.99}\n",
      "{'Samples': 6315, 'Features': 512, 'Anomalies': 315, 'Anomalies Ratio(%)': 4.99}\n",
      "{'Samples': 6315, 'Features': 512, 'Anomalies': 315, 'Anomalies Ratio(%)': 4.99}\n",
      "{'Samples': 6315, 'Features': 512, 'Anomalies': 315, 'Anomalies Ratio(%)': 4.99}\n",
      "{'Samples': 6315, 'Features': 512, 'Anomalies': 315, 'Anomalies Ratio(%)': 4.99}\n",
      "{'Samples': 6315, 'Features': 512, 'Anomalies': 315, 'Anomalies Ratio(%)': 4.99}\n",
      "{'Samples': 6315, 'Features': 512, 'Anomalies': 315, 'Anomalies Ratio(%)': 4.99}\n",
      "{'Samples': 6315, 'Features': 512, 'Anomalies': 315, 'Anomalies Ratio(%)': 4.99}\n",
      "{'Samples': 6315, 'Features': 512, 'Anomalies': 315, 'Anomalies Ratio(%)': 4.99}\n",
      "{'Samples': 6315, 'Features': 512, 'Anomalies': 315, 'Anomalies Ratio(%)': 4.99}\n",
      "{'Samples': 6315, 'Features': 512, 'Anomalies': 315, 'Anomalies Ratio(%)': 4.99}\n",
      "{'Samples': 6315, 'Features': 512, 'Anomalies': 315, 'Anomalies Ratio(%)': 4.99}\n",
      "{'Samples': 6315, 'Features': 512, 'Anomalies': 315, 'Anomalies Ratio(%)': 4.99}\n",
      "{'Samples': 6315, 'Features': 512, 'Anomalies': 315, 'Anomalies Ratio(%)': 4.99}\n",
      "{'Samples': 6315, 'Features': 512, 'Anomalies': 315, 'Anomalies Ratio(%)': 4.99}\n",
      "{'Samples': 6315, 'Features': 512, 'Anomalies': 315, 'Anomalies Ratio(%)': 4.99}\n",
      "{'Samples': 6315, 'Features': 512, 'Anomalies': 315, 'Anomalies Ratio(%)': 4.99}\n",
      "{'Samples': 6315, 'Features': 512, 'Anomalies': 315, 'Anomalies Ratio(%)': 4.99}\n",
      "{'Samples': 6315, 'Features': 512, 'Anomalies': 315, 'Anomalies Ratio(%)': 4.99}\n",
      "{'Samples': 6315, 'Features': 512, 'Anomalies': 315, 'Anomalies Ratio(%)': 4.99}\n",
      "{'Samples': 6315, 'Features': 512, 'Anomalies': 315, 'Anomalies Ratio(%)': 4.99}\n",
      "{'Samples': 6315, 'Features': 512, 'Anomalies': 315, 'Anomalies Ratio(%)': 4.99}\n",
      "{'Samples': 6315, 'Features': 512, 'Anomalies': 315, 'Anomalies Ratio(%)': 4.99}\n",
      "{'Samples': 10000, 'Features': 512, 'Anomalies': 500, 'Anomalies Ratio(%)': 5.0}\n",
      "{'Samples': 10000, 'Features': 512, 'Anomalies': 500, 'Anomalies Ratio(%)': 5.0}\n",
      "{'Samples': 10000, 'Features': 512, 'Anomalies': 500, 'Anomalies Ratio(%)': 5.0}\n",
      "{'Samples': 10000, 'Features': 512, 'Anomalies': 500, 'Anomalies Ratio(%)': 5.0}\n",
      "{'Samples': 10000, 'Features': 512, 'Anomalies': 500, 'Anomalies Ratio(%)': 5.0}\n",
      "{'Samples': 10000, 'Features': 512, 'Anomalies': 500, 'Anomalies Ratio(%)': 5.0}\n",
      "{'Samples': 10000, 'Features': 512, 'Anomalies': 500, 'Anomalies Ratio(%)': 5.0}\n",
      "{'Samples': 10000, 'Features': 512, 'Anomalies': 500, 'Anomalies Ratio(%)': 5.0}\n",
      "{'Samples': 10000, 'Features': 512, 'Anomalies': 500, 'Anomalies Ratio(%)': 5.0}\n",
      "{'Samples': 10000, 'Features': 512, 'Anomalies': 500, 'Anomalies Ratio(%)': 5.0}\n",
      "{'Samples': 10000, 'Features': 512, 'Anomalies': 500, 'Anomalies Ratio(%)': 5.0}\n",
      "{'Samples': 10000, 'Features': 512, 'Anomalies': 500, 'Anomalies Ratio(%)': 5.0}\n",
      "{'Samples': 10000, 'Features': 512, 'Anomalies': 500, 'Anomalies Ratio(%)': 5.0}\n",
      "{'Samples': 10000, 'Features': 512, 'Anomalies': 500, 'Anomalies Ratio(%)': 5.0}\n",
      "{'Samples': 10000, 'Features': 512, 'Anomalies': 500, 'Anomalies Ratio(%)': 5.0}\n",
      "{'Samples': 10000, 'Features': 512, 'Anomalies': 500, 'Anomalies Ratio(%)': 5.0}\n",
      "{'Samples': 10000, 'Features': 512, 'Anomalies': 500, 'Anomalies Ratio(%)': 5.0}\n",
      "{'Samples': 10000, 'Features': 512, 'Anomalies': 500, 'Anomalies Ratio(%)': 5.0}\n",
      "{'Samples': 10000, 'Features': 512, 'Anomalies': 500, 'Anomalies Ratio(%)': 5.0}\n",
      "{'Samples': 10000, 'Features': 512, 'Anomalies': 500, 'Anomalies Ratio(%)': 5.0}\n",
      "{'Samples': 10000, 'Features': 512, 'Anomalies': 500, 'Anomalies Ratio(%)': 5.0}\n",
      "{'Samples': 10000, 'Features': 512, 'Anomalies': 500, 'Anomalies Ratio(%)': 5.0}\n",
      "{'Samples': 10000, 'Features': 512, 'Anomalies': 500, 'Anomalies Ratio(%)': 5.0}\n",
      "{'Samples': 10000, 'Features': 512, 'Anomalies': 500, 'Anomalies Ratio(%)': 5.0}\n",
      "{'Samples': 10000, 'Features': 512, 'Anomalies': 500, 'Anomalies Ratio(%)': 5.0}\n",
      "{'Samples': 10000, 'Features': 512, 'Anomalies': 500, 'Anomalies Ratio(%)': 5.0}\n",
      "{'Samples': 10000, 'Features': 512, 'Anomalies': 500, 'Anomalies Ratio(%)': 5.0}\n",
      "{'Samples': 10000, 'Features': 512, 'Anomalies': 500, 'Anomalies Ratio(%)': 5.0}\n",
      "{'Samples': 10000, 'Features': 512, 'Anomalies': 500, 'Anomalies Ratio(%)': 5.0}\n",
      "{'Samples': 10000, 'Features': 512, 'Anomalies': 500, 'Anomalies Ratio(%)': 5.0}\n",
      "{'Samples': 10000, 'Features': 512, 'Anomalies': 500, 'Anomalies Ratio(%)': 5.0}\n",
      "{'Samples': 10000, 'Features': 512, 'Anomalies': 500, 'Anomalies Ratio(%)': 5.0}\n",
      "{'Samples': 10000, 'Features': 512, 'Anomalies': 500, 'Anomalies Ratio(%)': 5.0}\n",
      "{'Samples': 10000, 'Features': 512, 'Anomalies': 500, 'Anomalies Ratio(%)': 5.0}\n",
      "{'Samples': 10000, 'Features': 512, 'Anomalies': 500, 'Anomalies Ratio(%)': 5.0}\n",
      "{'Samples': 10000, 'Features': 512, 'Anomalies': 500, 'Anomalies Ratio(%)': 5.0}\n",
      "{'Samples': 10000, 'Features': 512, 'Anomalies': 500, 'Anomalies Ratio(%)': 5.0}\n",
      "{'Samples': 10000, 'Features': 512, 'Anomalies': 500, 'Anomalies Ratio(%)': 5.0}\n",
      "{'Samples': 10000, 'Features': 512, 'Anomalies': 500, 'Anomalies Ratio(%)': 5.0}\n",
      "{'Samples': 10000, 'Features': 512, 'Anomalies': 500, 'Anomalies Ratio(%)': 5.0}\n",
      "{'Samples': 10000, 'Features': 512, 'Anomalies': 500, 'Anomalies Ratio(%)': 5.0}\n",
      "{'Samples': 10000, 'Features': 512, 'Anomalies': 500, 'Anomalies Ratio(%)': 5.0}\n",
      "{'Samples': 10000, 'Features': 512, 'Anomalies': 500, 'Anomalies Ratio(%)': 5.0}\n",
      "{'Samples': 10000, 'Features': 512, 'Anomalies': 500, 'Anomalies Ratio(%)': 5.0}\n",
      "{'Samples': 10000, 'Features': 512, 'Anomalies': 500, 'Anomalies Ratio(%)': 5.0}\n",
      "{'Samples': 10000, 'Features': 512, 'Anomalies': 500, 'Anomalies Ratio(%)': 5.0}\n",
      "{'Samples': 10000, 'Features': 512, 'Anomalies': 500, 'Anomalies Ratio(%)': 5.0}\n",
      "{'Samples': 10000, 'Features': 512, 'Anomalies': 500, 'Anomalies Ratio(%)': 5.0}\n",
      "{'Samples': 1000, 'Features': 512, 'Anomalies': 215, 'Anomalies Ratio(%)': 21.5}\n",
      "{'Samples': 1000, 'Features': 512, 'Anomalies': 215, 'Anomalies Ratio(%)': 21.5}\n",
      "{'Samples': 1000, 'Features': 512, 'Anomalies': 198, 'Anomalies Ratio(%)': 19.8}\n",
      "{'Samples': 1000, 'Features': 512, 'Anomalies': 251, 'Anomalies Ratio(%)': 25.1}\n",
      "{'Samples': 1000, 'Features': 512, 'Anomalies': 242, 'Anomalies Ratio(%)': 24.2}\n",
      "{'Samples': 1000, 'Features': 512, 'Anomalies': 242, 'Anomalies Ratio(%)': 24.2}\n",
      "{'Samples': 1000, 'Features': 512, 'Anomalies': 308, 'Anomalies Ratio(%)': 30.8}\n",
      "{'Samples': 1000, 'Features': 512, 'Anomalies': 304, 'Anomalies Ratio(%)': 30.4}\n",
      "{'Samples': 1000, 'Features': 512, 'Anomalies': 294, 'Anomalies Ratio(%)': 29.4}\n",
      "{'Samples': 1000, 'Features': 512, 'Anomalies': 254, 'Anomalies Ratio(%)': 25.4}\n",
      "{'Samples': 1000, 'Features': 512, 'Anomalies': 227, 'Anomalies Ratio(%)': 22.7}\n",
      "{'Samples': 1000, 'Features': 512, 'Anomalies': 213, 'Anomalies Ratio(%)': 21.3}\n",
      "{'Samples': 1000, 'Features': 512, 'Anomalies': 180, 'Anomalies Ratio(%)': 18.0}\n",
      "{'Samples': 1000, 'Features': 512, 'Anomalies': 169, 'Anomalies Ratio(%)': 16.9}\n",
      "{'Samples': 1000, 'Features': 512, 'Anomalies': 174, 'Anomalies Ratio(%)': 17.4}\n",
      "{'Samples': 1000, 'Features': 512, 'Anomalies': 138, 'Anomalies Ratio(%)': 13.8}\n",
      "{'Samples': 1000, 'Features': 512, 'Anomalies': 160, 'Anomalies Ratio(%)': 16.0}\n",
      "{'Samples': 1000, 'Features': 512, 'Anomalies': 142, 'Anomalies Ratio(%)': 14.2}\n",
      "{'Samples': 1000, 'Features': 512, 'Anomalies': 259, 'Anomalies Ratio(%)': 25.9}\n",
      "{'Samples': 1000, 'Features': 512, 'Anomalies': 273, 'Anomalies Ratio(%)': 27.3}\n",
      "{'Samples': 1000, 'Features': 512, 'Anomalies': 246, 'Anomalies Ratio(%)': 24.6}\n",
      "{'Samples': 1000, 'Features': 512, 'Anomalies': 284, 'Anomalies Ratio(%)': 28.4}\n",
      "{'Samples': 1000, 'Features': 512, 'Anomalies': 283, 'Anomalies Ratio(%)': 28.3}\n",
      "{'Samples': 1000, 'Features': 512, 'Anomalies': 281, 'Anomalies Ratio(%)': 28.1}\n",
      "{'Samples': 1000, 'Features': 512, 'Anomalies': 314, 'Anomalies Ratio(%)': 31.4}\n",
      "{'Samples': 1000, 'Features': 512, 'Anomalies': 300, 'Anomalies Ratio(%)': 30.0}\n",
      "{'Samples': 1000, 'Features': 512, 'Anomalies': 326, 'Anomalies Ratio(%)': 32.6}\n",
      "{'Samples': 1000, 'Features': 512, 'Anomalies': 240, 'Anomalies Ratio(%)': 24.0}\n",
      "{'Samples': 1000, 'Features': 512, 'Anomalies': 244, 'Anomalies Ratio(%)': 24.4}\n",
      "{'Samples': 1000, 'Features': 512, 'Anomalies': 266, 'Anomalies Ratio(%)': 26.6}\n",
      "{'Samples': 1000, 'Features': 512, 'Anomalies': 227, 'Anomalies Ratio(%)': 22.7}\n",
      "{'Samples': 1000, 'Features': 512, 'Anomalies': 231, 'Anomalies Ratio(%)': 23.1}\n",
      "{'Samples': 1000, 'Features': 512, 'Anomalies': 252, 'Anomalies Ratio(%)': 25.2}\n",
      "{'Samples': 1000, 'Features': 512, 'Anomalies': 271, 'Anomalies Ratio(%)': 27.1}\n",
      "{'Samples': 1000, 'Features': 512, 'Anomalies': 285, 'Anomalies Ratio(%)': 28.5}\n",
      "{'Samples': 1000, 'Features': 512, 'Anomalies': 288, 'Anomalies Ratio(%)': 28.8}\n",
      "{'Samples': 1000, 'Features': 512, 'Anomalies': 115, 'Anomalies Ratio(%)': 11.5}\n",
      "{'Samples': 1000, 'Features': 512, 'Anomalies': 135, 'Anomalies Ratio(%)': 13.5}\n",
      "{'Samples': 1000, 'Features': 512, 'Anomalies': 114, 'Anomalies Ratio(%)': 11.4}\n",
      "{'Samples': 1000, 'Features': 512, 'Anomalies': 184, 'Anomalies Ratio(%)': 18.4}\n",
      "{'Samples': 1000, 'Features': 512, 'Anomalies': 189, 'Anomalies Ratio(%)': 18.9}\n",
      "{'Samples': 1000, 'Features': 512, 'Anomalies': 175, 'Anomalies Ratio(%)': 17.5}\n",
      "{'Samples': 1000, 'Features': 512, 'Anomalies': 305, 'Anomalies Ratio(%)': 30.5}\n",
      "{'Samples': 1000, 'Features': 512, 'Anomalies': 304, 'Anomalies Ratio(%)': 30.4}\n",
      "{'Samples': 1000, 'Features': 512, 'Anomalies': 320, 'Anomalies Ratio(%)': 32.0}\n",
      "{'Samples': 5208, 'Features': 512, 'Anomalies': 260, 'Anomalies Ratio(%)': 4.99}\n",
      "{'Samples': 5208, 'Features': 512, 'Anomalies': 260, 'Anomalies Ratio(%)': 4.99}\n",
      "{'Samples': 5208, 'Features': 512, 'Anomalies': 260, 'Anomalies Ratio(%)': 4.99}\n",
      "{'Samples': 10000, 'Features': 512, 'Anomalies': 500, 'Anomalies Ratio(%)': 5.0}\n",
      "{'Samples': 10000, 'Features': 512, 'Anomalies': 500, 'Anomalies Ratio(%)': 5.0}\n",
      "{'Samples': 10000, 'Features': 512, 'Anomalies': 500, 'Anomalies Ratio(%)': 5.0}\n",
      "{'Samples': 10000, 'Features': 512, 'Anomalies': 500, 'Anomalies Ratio(%)': 5.0}\n",
      "{'Samples': 10000, 'Features': 512, 'Anomalies': 500, 'Anomalies Ratio(%)': 5.0}\n",
      "{'Samples': 10000, 'Features': 512, 'Anomalies': 500, 'Anomalies Ratio(%)': 5.0}\n",
      "{'Samples': 8944, 'Features': 512, 'Anomalies': 447, 'Anomalies Ratio(%)': 5.0}\n",
      "{'Samples': 8944, 'Features': 512, 'Anomalies': 447, 'Anomalies Ratio(%)': 5.0}\n",
      "{'Samples': 8944, 'Features': 512, 'Anomalies': 447, 'Anomalies Ratio(%)': 5.0}\n",
      "{'Samples': 7850, 'Features': 512, 'Anomalies': 392, 'Anomalies Ratio(%)': 4.99}\n",
      "{'Samples': 7850, 'Features': 512, 'Anomalies': 392, 'Anomalies Ratio(%)': 4.99}\n",
      "{'Samples': 7850, 'Features': 512, 'Anomalies': 392, 'Anomalies Ratio(%)': 4.99}\n",
      "{'Samples': 7244, 'Features': 512, 'Anomalies': 362, 'Anomalies Ratio(%)': 5.0}\n",
      "{'Samples': 7244, 'Features': 512, 'Anomalies': 362, 'Anomalies Ratio(%)': 5.0}\n",
      "{'Samples': 7244, 'Features': 512, 'Anomalies': 362, 'Anomalies Ratio(%)': 5.0}\n",
      "{'Samples': 6028, 'Features': 512, 'Anomalies': 301, 'Anomalies Ratio(%)': 4.99}\n",
      "{'Samples': 6028, 'Features': 512, 'Anomalies': 301, 'Anomalies Ratio(%)': 4.99}\n",
      "{'Samples': 6028, 'Features': 512, 'Anomalies': 301, 'Anomalies Ratio(%)': 4.99}\n",
      "{'Samples': 5889, 'Features': 512, 'Anomalies': 294, 'Anomalies Ratio(%)': 4.99}\n",
      "{'Samples': 5889, 'Features': 512, 'Anomalies': 294, 'Anomalies Ratio(%)': 4.99}\n",
      "{'Samples': 5889, 'Features': 512, 'Anomalies': 294, 'Anomalies Ratio(%)': 4.99}\n",
      "{'Samples': 5310, 'Features': 512, 'Anomalies': 265, 'Anomalies Ratio(%)': 4.99}\n",
      "{'Samples': 5310, 'Features': 512, 'Anomalies': 265, 'Anomalies Ratio(%)': 4.99}\n",
      "{'Samples': 5310, 'Features': 512, 'Anomalies': 265, 'Anomalies Ratio(%)': 4.99}\n",
      "{'Samples': 4904, 'Features': 512, 'Anomalies': 245, 'Anomalies Ratio(%)': 5.0}\n",
      "{'Samples': 4904, 'Features': 512, 'Anomalies': 245, 'Anomalies Ratio(%)': 5.0}\n",
      "{'Samples': 4904, 'Features': 512, 'Anomalies': 245, 'Anomalies Ratio(%)': 5.0}\n",
      "{'Samples': 3090, 'Features': 768, 'Anomalies': 154, 'Anomalies Ratio(%)': 4.98}\n",
      "{'Samples': 3090, 'Features': 768, 'Anomalies': 154, 'Anomalies Ratio(%)': 4.98}\n",
      "{'Samples': 3090, 'Features': 768, 'Anomalies': 154, 'Anomalies Ratio(%)': 4.98}\n",
      "{'Samples': 2514, 'Features': 768, 'Anomalies': 125, 'Anomalies Ratio(%)': 4.97}\n",
      "{'Samples': 2514, 'Features': 768, 'Anomalies': 125, 'Anomalies Ratio(%)': 4.97}\n",
      "{'Samples': 2514, 'Features': 768, 'Anomalies': 125, 'Anomalies Ratio(%)': 4.97}\n",
      "{'Samples': 2497, 'Features': 768, 'Anomalies': 124, 'Anomalies Ratio(%)': 4.97}\n",
      "{'Samples': 2497, 'Features': 768, 'Anomalies': 124, 'Anomalies Ratio(%)': 4.97}\n",
      "{'Samples': 2497, 'Features': 768, 'Anomalies': 124, 'Anomalies Ratio(%)': 4.97}\n",
      "{'Samples': 1000, 'Features': 768, 'Anomalies': 40, 'Anomalies Ratio(%)': 4.0}\n",
      "{'Samples': 1000, 'Features': 768, 'Anomalies': 44, 'Anomalies Ratio(%)': 4.4}\n",
      "{'Samples': 1000, 'Features': 768, 'Anomalies': 44, 'Anomalies Ratio(%)': 4.4}\n",
      "{'Samples': 1657, 'Features': 768, 'Anomalies': 82, 'Anomalies Ratio(%)': 4.95}\n",
      "{'Samples': 1657, 'Features': 768, 'Anomalies': 82, 'Anomalies Ratio(%)': 4.95}\n",
      "{'Samples': 1657, 'Features': 768, 'Anomalies': 82, 'Anomalies Ratio(%)': 4.95}\n",
      "{'Samples': 1532, 'Features': 768, 'Anomalies': 76, 'Anomalies Ratio(%)': 4.96}\n",
      "{'Samples': 1532, 'Features': 768, 'Anomalies': 76, 'Anomalies Ratio(%)': 4.96}\n",
      "{'Samples': 1532, 'Features': 768, 'Anomalies': 76, 'Anomalies Ratio(%)': 4.96}\n",
      "{'Samples': 10000, 'Features': 768, 'Anomalies': 500, 'Anomalies Ratio(%)': 5.0}\n",
      "{'Samples': 10000, 'Features': 768, 'Anomalies': 500, 'Anomalies Ratio(%)': 5.0}\n",
      "{'Samples': 10000, 'Features': 768, 'Anomalies': 500, 'Anomalies Ratio(%)': 5.0}\n",
      "{'Samples': 10000, 'Features': 768, 'Anomalies': 500, 'Anomalies Ratio(%)': 5.0}\n",
      "{'Samples': 10000, 'Features': 768, 'Anomalies': 500, 'Anomalies Ratio(%)': 5.0}\n",
      "{'Samples': 10000, 'Features': 768, 'Anomalies': 500, 'Anomalies Ratio(%)': 5.0}\n",
      "{'Samples': 10000, 'Features': 768, 'Anomalies': 500, 'Anomalies Ratio(%)': 5.0}\n",
      "{'Samples': 10000, 'Features': 768, 'Anomalies': 500, 'Anomalies Ratio(%)': 5.0}\n",
      "{'Samples': 10000, 'Features': 768, 'Anomalies': 500, 'Anomalies Ratio(%)': 5.0}\n",
      "{'Samples': 10000, 'Features': 768, 'Anomalies': 500, 'Anomalies Ratio(%)': 5.0}\n",
      "{'Samples': 10000, 'Features': 768, 'Anomalies': 500, 'Anomalies Ratio(%)': 5.0}\n",
      "{'Samples': 10000, 'Features': 768, 'Anomalies': 500, 'Anomalies Ratio(%)': 5.0}\n",
      "{'Samples': 10000, 'Features': 768, 'Anomalies': 500, 'Anomalies Ratio(%)': 5.0}\n",
      "{'Samples': 10000, 'Features': 768, 'Anomalies': 500, 'Anomalies Ratio(%)': 5.0}\n",
      "{'Samples': 10000, 'Features': 768, 'Anomalies': 500, 'Anomalies Ratio(%)': 5.0}\n",
      "{'Samples': 10000, 'Features': 768, 'Anomalies': 500, 'Anomalies Ratio(%)': 5.0}\n",
      "{'Samples': 10000, 'Features': 768, 'Anomalies': 500, 'Anomalies Ratio(%)': 5.0}\n",
      "{'Samples': 10000, 'Features': 768, 'Anomalies': 500, 'Anomalies Ratio(%)': 5.0}\n",
      "{'Samples': 10000, 'Features': 768, 'Anomalies': 500, 'Anomalies Ratio(%)': 5.0}\n",
      "{'Samples': 10000, 'Features': 768, 'Anomalies': 500, 'Anomalies Ratio(%)': 5.0}\n",
      "{'Samples': 10000, 'Features': 768, 'Anomalies': 500, 'Anomalies Ratio(%)': 5.0}\n"
     ]
    },
    {
     "name": "stderr",
     "output_type": "stream",
     "text": [
      "0it [00:00, ?it/s]"
     ]
    },
    {
     "name": "stdout",
     "output_type": "stream",
     "text": [
      "{'Samples': 2000, 'Features': 9, 'Anomalies': 178, 'Anomalies Ratio(%)': 8.9}\n",
      "epoch : 1/5000, loss = 4.404217\n",
      "epoch : 1000/5000, loss = 0.075488\n",
      "epoch : 2000/5000, loss = 0.024597\n",
      "epoch : 3000/5000, loss = 0.010971\n",
      "epoch : 4000/5000, loss = 0.014233\n",
      "epoch : 5000/5000, loss = 0.010509\n",
      "self.error_median=0.0014, self.error_range=0.0012, self.latent_error_median_=0.0013, self.latent_error_range_=0.0021\n",
      "Model result scaling scheme:  True\n",
      "Latent dim= 9. Weight Decay = 0.000001\n",
      "Using cuda\n",
      "self.error_mu=0.0031, self.error_std=0.0236, self.latent_error_mu_=0.0021, self.latent_error_sigma_=0.0032; alpha = 1.0000\n"
     ]
    },
    {
     "name": "stderr",
     "output_type": "stream",
     "text": [
      "1it [13:48, 828.46s/it]"
     ]
    },
    {
     "name": "stdout",
     "output_type": "stream",
     "text": [
      "Current experiment parameters: ('37_Stamps', 0.0, 1), model: Customized, metrics: {'aucroc': 0.8857576489255287, 'aucpr': 0.36992646992042305}, fitting time: 827.9862198829651, inference time: 0.008974313735961914\n",
      "\n",
      "Model performance:\n",
      "Reconstruction AUCROC=0.9068; AUCPR=0.4047\n",
      "Deviation AUCROC=0.7686; AUCPR=0.2316\n",
      "Max(rec, dev) AUCROC=0.8762; AUCPR=0.3486\n",
      "\n",
      "Sum of squared error AUCROC=0.8734; AUCPR=0.3473\n",
      "\n",
      "Transformer selector AUCROC=0.5262; AUCPR=0.2429\n",
      "\n",
      "{'Samples': 2000, 'Features': 9, 'Anomalies': 195, 'Anomalies Ratio(%)': 9.75}\n",
      "epoch : 1/5000, loss = 4.553422\n",
      "epoch : 1000/5000, loss = 0.049751\n",
      "epoch : 2000/5000, loss = 0.028901\n",
      "epoch : 3000/5000, loss = 0.010712\n",
      "epoch : 4000/5000, loss = 0.009565\n",
      "epoch : 5000/5000, loss = 0.008847\n",
      "self.error_median=0.0008, self.error_range=0.0007, self.latent_error_median_=0.0011, self.latent_error_range_=0.0018\n",
      "Model result scaling scheme:  True\n",
      "Latent dim= 9. Weight Decay = 0.000001\n",
      "Using cuda\n",
      "self.error_mu=0.0020, self.error_std=0.0229, self.latent_error_mu_=0.0017, self.latent_error_sigma_=0.0023; alpha = 1.0000\n"
     ]
    },
    {
     "name": "stderr",
     "output_type": "stream",
     "text": [
      "2it [24:40, 724.61s/it]"
     ]
    },
    {
     "name": "stdout",
     "output_type": "stream",
     "text": [
      "Current experiment parameters: ('37_Stamps', 0.0, 2), model: Customized, metrics: {'aucroc': 0.8424735971497647, 'aucpr': 0.32880270947026247}, fitting time: 651.4773170948029, inference time: 0.0020089149475097656\n",
      "\n",
      "Model performance:\n",
      "Reconstruction AUCROC=0.8259; AUCPR=0.3489\n",
      "Deviation AUCROC=0.7649; AUCPR=0.2112\n",
      "Max(rec, dev) AUCROC=0.8113; AUCPR=0.2767\n",
      "\n",
      "Sum of squared error AUCROC=0.8260; AUCPR=0.2921\n",
      "\n",
      "Transformer selector AUCROC=0.5068; AUCPR=0.0946\n",
      "\n",
      "{'Samples': 2000, 'Features': 9, 'Anomalies': 188, 'Anomalies Ratio(%)': 9.4}\n",
      "epoch : 1/5000, loss = 4.446896\n",
      "epoch : 1000/5000, loss = 0.046943\n",
      "epoch : 2000/5000, loss = 0.017042\n",
      "epoch : 3000/5000, loss = 0.018011\n",
      "epoch : 4000/5000, loss = 0.010463\n",
      "epoch : 5000/5000, loss = 0.005738\n",
      "self.error_median=0.0002, self.error_range=0.0003, self.latent_error_median_=0.0012, self.latent_error_range_=0.0018\n",
      "Model result scaling scheme:  True\n",
      "Latent dim= 9. Weight Decay = 0.000001\n",
      "Using cuda\n",
      "self.error_mu=0.0005, self.error_std=0.0045, self.latent_error_mu_=0.0020, self.latent_error_sigma_=0.0040; alpha = 1.0000\n"
     ]
    },
    {
     "name": "stderr",
     "output_type": "stream",
     "text": [
      "3it [36:48, 726.24s/it]"
     ]
    },
    {
     "name": "stdout",
     "output_type": "stream",
     "text": [
      "Current experiment parameters: ('37_Stamps', 0.0, 3), model: Customized, metrics: {'aucroc': 0.8327534138655461, 'aucpr': 0.34262627026705855}, fitting time: 727.7617542743683, inference time: 0.0049860477447509766\n",
      "\n",
      "Model performance:\n",
      "Reconstruction AUCROC=0.8334; AUCPR=0.3607\n",
      "Deviation AUCROC=0.7722; AUCPR=0.2469\n",
      "Max(rec, dev) AUCROC=0.7799; AUCPR=0.2636\n",
      "\n",
      "Sum of squared error AUCROC=0.7910; AUCPR=0.2777\n",
      "\n",
      "Transformer selector AUCROC=0.6107; AUCPR=0.1191\n",
      "\n",
      "{'Samples': 2000, 'Features': 30, 'Anomalies': 50, 'Anomalies Ratio(%)': 2.5}\n",
      "epoch : 1/5000, loss = 9.648456\n",
      "epoch : 1000/5000, loss = 0.256123\n",
      "epoch : 2000/5000, loss = 0.166156\n",
      "epoch : 3000/5000, loss = 0.160582\n",
      "epoch : 4000/5000, loss = 0.119073\n",
      "epoch : 5000/5000, loss = 0.108136\n",
      "self.error_median=0.0104, self.error_range=0.0511, self.latent_error_median_=0.0018, self.latent_error_range_=0.0052\n",
      "Model result scaling scheme:  True\n",
      "Latent dim= 16. Weight Decay = 0.000001\n",
      "Using cuda\n",
      "self.error_mu=0.0494, self.error_std=0.1266, self.latent_error_mu_=0.0051, self.latent_error_sigma_=0.0099; alpha = 1.0000\n"
     ]
    },
    {
     "name": "stderr",
     "output_type": "stream",
     "text": [
      "25it [51:31, 84.84s/it]"
     ]
    },
    {
     "name": "stdout",
     "output_type": "stream",
     "text": [
      "Current experiment parameters: ('43_WDBC', 0.0, 1), model: Customized, metrics: {'aucroc': 0.9973789173789174, 'aucpr': 0.839709283091636}, fitting time: 882.7790071964264, inference time: 0.002994060516357422\n",
      "\n",
      "Model performance:\n",
      "Reconstruction AUCROC=0.9982; AUCPR=0.9121\n",
      "Deviation AUCROC=0.9834; AUCPR=0.4671\n",
      "Max(rec, dev) AUCROC=0.9982; AUCPR=0.9121\n",
      "\n",
      "Sum of squared error AUCROC=0.9982; AUCPR=0.9121\n",
      "\n",
      "Transformer selector AUCROC=0.4422; AUCPR=0.0256\n",
      "\n",
      "{'Samples': 2000, 'Features': 30, 'Anomalies': 60, 'Anomalies Ratio(%)': 3.0}\n",
      "epoch : 1/5000, loss = 10.407529\n",
      "epoch : 1000/5000, loss = 0.210326\n",
      "epoch : 2000/5000, loss = 0.169561\n",
      "epoch : 3000/5000, loss = 0.159992\n",
      "epoch : 4000/5000, loss = 0.137284\n",
      "epoch : 5000/5000, loss = 0.104073\n",
      "self.error_median=0.0116, self.error_range=0.0493, self.latent_error_median_=0.0021, self.latent_error_range_=0.0061\n",
      "Model result scaling scheme:  True\n",
      "Latent dim= 16. Weight Decay = 0.000001\n",
      "Using cuda\n",
      "self.error_mu=0.0485, self.error_std=0.1092, self.latent_error_mu_=0.0052, self.latent_error_sigma_=0.0085; alpha = 1.0000\n"
     ]
    },
    {
     "name": "stderr",
     "output_type": "stream",
     "text": [
      "26it [1:02:59, 119.34s/it]"
     ]
    },
    {
     "name": "stdout",
     "output_type": "stream",
     "text": [
      "Current experiment parameters: ('43_WDBC', 0.0, 2), model: Customized, metrics: {'aucroc': 0.9979954180985109, 'aucpr': 0.9583631942055575}, fitting time: 687.1948273181915, inference time: 0.006980419158935547\n",
      "\n",
      "Model performance:\n",
      "Reconstruction AUCROC=0.9991; AUCPR=0.9786\n",
      "Deviation AUCROC=0.9616; AUCPR=0.4425\n",
      "Max(rec, dev) AUCROC=0.9991; AUCPR=0.9786\n",
      "\n",
      "Sum of squared error AUCROC=0.9991; AUCPR=0.9786\n",
      "\n",
      "Transformer selector AUCROC=0.4910; AUCPR=0.0972\n",
      "\n",
      "{'Samples': 2000, 'Features': 30, 'Anomalies': 53, 'Anomalies Ratio(%)': 2.65}\n",
      "epoch : 1/5000, loss = 9.157150\n",
      "epoch : 1000/5000, loss = 0.207436\n",
      "epoch : 2000/5000, loss = 0.173696\n",
      "epoch : 3000/5000, loss = 0.136713\n",
      "epoch : 4000/5000, loss = 0.114207\n",
      "epoch : 5000/5000, loss = 0.119109\n",
      "self.error_median=0.0110, self.error_range=0.0463, self.latent_error_median_=0.0020, self.latent_error_range_=0.0063\n",
      "Model result scaling scheme:  True\n",
      "Latent dim= 16. Weight Decay = 0.000001\n",
      "Using cuda\n",
      "self.error_mu=0.0445, self.error_std=0.1051, self.latent_error_mu_=0.0053, self.latent_error_sigma_=0.0096; alpha = 1.0000\n"
     ]
    },
    {
     "name": "stderr",
     "output_type": "stream",
     "text": [
      "27it [1:17:44, 177.19s/it]"
     ]
    },
    {
     "name": "stdout",
     "output_type": "stream",
     "text": [
      "Current experiment parameters: ('43_WDBC', 0.0, 3), model: Customized, metrics: {'aucroc': 0.996896404109589, 'aucpr': 0.901344123117221}, fitting time: 884.3761065006256, inference time: 0.001994609832763672\n",
      "\n",
      "Model performance:\n",
      "Reconstruction AUCROC=0.9991; AUCPR=0.9702\n",
      "Deviation AUCROC=0.9458; AUCPR=0.3660\n",
      "Max(rec, dev) AUCROC=0.9991; AUCPR=0.9702\n",
      "\n",
      "Sum of squared error AUCROC=0.9993; AUCPR=0.9728\n",
      "\n",
      "Transformer selector AUCROC=0.4985; AUCPR=0.0258\n",
      "\n",
      "{'Samples': 2000, 'Features': 9, 'Anomalies': 83, 'Anomalies Ratio(%)': 4.15}\n",
      "epoch : 1/5000, loss = 1.255434\n",
      "epoch : 1000/5000, loss = 0.827075\n",
      "epoch : 2000/5000, loss = 0.354669\n",
      "epoch : 3000/5000, loss = 0.088586\n",
      "epoch : 4000/5000, loss = 0.301162\n",
      "epoch : 5000/5000, loss = 0.543168\n",
      "self.error_median=0.0186, self.error_range=0.0448, self.latent_error_median_=0.1340, self.latent_error_range_=0.1481\n",
      "Model result scaling scheme:  True\n",
      "Latent dim= 9. Weight Decay = 0.000001\n",
      "Using cuda\n",
      "self.error_mu=0.0479, self.error_std=0.0927, self.latent_error_mu_=0.1806, self.latent_error_sigma_=0.1736; alpha = 1.0000\n"
     ]
    },
    {
     "name": "stderr",
     "output_type": "stream",
     "text": [
      "49it [1:30:45, 77.48s/it] "
     ]
    },
    {
     "name": "stdout",
     "output_type": "stream",
     "text": [
      "Current experiment parameters: ('42_WBC', 0.0, 1), model: Customized, metrics: {'aucroc': 0.6734608695652173, 'aucpr': 0.06309960983024457}, fitting time: 780.5604412555695, inference time: 0.0019941329956054688\n",
      "\n",
      "Model performance:\n",
      "Reconstruction AUCROC=0.7320; AUCPR=0.0769\n",
      "Deviation AUCROC=0.5148; AUCPR=0.0406\n",
      "Max(rec, dev) AUCROC=0.5230; AUCPR=0.0412\n",
      "\n",
      "Sum of squared error AUCROC=0.5459; AUCPR=0.0438\n",
      "\n",
      "Transformer selector AUCROC=0.4753; AUCPR=0.0402\n",
      "\n",
      "{'Samples': 2000, 'Features': 9, 'Anomalies': 91, 'Anomalies Ratio(%)': 4.55}\n",
      "epoch : 1/5000, loss = 1.537696\n",
      "epoch : 1000/5000, loss = 0.041655\n",
      "epoch : 2000/5000, loss = 0.014819\n",
      "epoch : 3000/5000, loss = 0.006515\n",
      "epoch : 4000/5000, loss = 0.005698\n",
      "epoch : 5000/5000, loss = 0.009962\n",
      "self.error_median=0.0026, self.error_range=0.0042, self.latent_error_median_=0.0005, self.latent_error_range_=0.0009\n",
      "Model result scaling scheme:  True\n",
      "Latent dim= 9. Weight Decay = 0.000001\n",
      "Using cuda\n",
      "self.error_mu=0.0041, self.error_std=0.0043, self.latent_error_mu_=0.0011, self.latent_error_sigma_=0.0018; alpha = 1.0000\n"
     ]
    },
    {
     "name": "stderr",
     "output_type": "stream",
     "text": [
      "50it [1:44:52, 111.11s/it]"
     ]
    },
    {
     "name": "stdout",
     "output_type": "stream",
     "text": [
      "Current experiment parameters: ('42_WBC', 0.0, 2), model: Customized, metrics: {'aucroc': 0.7245168379548833, 'aucpr': 0.09588350716326505}, fitting time: 846.5533068180084, inference time: 0.0052127838134765625\n",
      "\n",
      "Model performance:\n",
      "Reconstruction AUCROC=0.6941; AUCPR=0.1014\n",
      "Deviation AUCROC=0.7280; AUCPR=0.0888\n",
      "Max(rec, dev) AUCROC=0.6925; AUCPR=0.1012\n",
      "\n",
      "Sum of squared error AUCROC=0.6934; AUCPR=0.0969\n",
      "\n",
      "Transformer selector AUCROC=0.5231; AUCPR=0.0708\n",
      "\n",
      "{'Samples': 2000, 'Features': 9, 'Anomalies': 93, 'Anomalies Ratio(%)': 4.65}\n",
      "epoch : 1/5000, loss = 1.845413\n",
      "epoch : 1000/5000, loss = 0.032384\n",
      "epoch : 2000/5000, loss = 0.012129\n",
      "epoch : 3000/5000, loss = 0.028898\n",
      "epoch : 4000/5000, loss = 0.007354\n",
      "epoch : 5000/5000, loss = 0.004426\n",
      "self.error_median=0.0003, self.error_range=0.0005, self.latent_error_median_=0.0007, self.latent_error_range_=0.0011\n",
      "Model result scaling scheme:  True\n",
      "Latent dim= 9. Weight Decay = 0.000001\n",
      "Using cuda\n",
      "self.error_mu=0.0004, self.error_std=0.0006, self.latent_error_mu_=0.0013, self.latent_error_sigma_=0.0019; alpha = 1.0000\n"
     ]
    },
    {
     "name": "stderr",
     "output_type": "stream",
     "text": [
      "51it [2:03:02, 168.63s/it]"
     ]
    },
    {
     "name": "stdout",
     "output_type": "stream",
     "text": [
      "Current experiment parameters: ('42_WBC', 0.0, 3), model: Customized, metrics: {'aucroc': 0.8501498501498502, 'aucpr': 0.22626105623407167}, fitting time: 1089.8418431282043, inference time: 0.0010099411010742188\n",
      "\n",
      "Model performance:\n",
      "Reconstruction AUCROC=0.8620; AUCPR=0.2460\n",
      "Deviation AUCROC=0.7133; AUCPR=0.1066\n",
      "Max(rec, dev) AUCROC=0.7920; AUCPR=0.1948\n",
      "\n",
      "Sum of squared error AUCROC=0.8132; AUCPR=0.1971\n",
      "\n",
      "Transformer selector AUCROC=0.6168; AUCPR=0.0567\n",
      "\n",
      "{'Samples': 2000, 'Features': 33, 'Anomalies': 467, 'Anomalies Ratio(%)': 23.35}\n",
      "epoch : 1/5000, loss = 14.243273\n",
      "epoch : 1000/5000, loss = 0.699531\n",
      "epoch : 2000/5000, loss = 0.734390\n",
      "epoch : 3000/5000, loss = 0.440031\n",
      "epoch : 4000/5000, loss = 0.365377\n",
      "epoch : 5000/5000, loss = 0.334462\n",
      "self.error_median=0.0504, self.error_range=0.2707, self.latent_error_median_=0.0079, self.latent_error_range_=0.0117\n",
      "Model result scaling scheme:  True\n",
      "Latent dim= 16. Weight Decay = 0.000001\n",
      "Using cuda\n",
      "self.error_mu=0.1540, self.error_std=0.2046, self.latent_error_mu_=0.0107, self.latent_error_sigma_=0.0086; alpha = 1.0000\n",
      "Current experiment parameters: ('46_WPBC', 0.0, 1), model: Customized, metrics: {'aucroc': 0.9758850931677019, 'aucpr': 0.8975266154055151}, fitting time: 373.49851655960083, inference time: 0.0019690990447998047\n"
     ]
    },
    {
     "name": "stderr",
     "output_type": "stream",
     "text": [
      "73it [2:09:16, 70.26s/it] "
     ]
    },
    {
     "name": "stdout",
     "output_type": "stream",
     "text": [
      "\n",
      "Model performance:\n",
      "Reconstruction AUCROC=0.9945; AUCPR=0.9767\n",
      "Deviation AUCROC=0.8754; AUCPR=0.6214\n",
      "Max(rec, dev) AUCROC=0.9945; AUCPR=0.9767\n",
      "\n",
      "Sum of squared error AUCROC=0.9945; AUCPR=0.9766\n",
      "\n",
      "Transformer selector AUCROC=0.5368; AUCPR=0.2249\n",
      "\n",
      "{'Samples': 2000, 'Features': 33, 'Anomalies': 450, 'Anomalies Ratio(%)': 22.5}\n",
      "epoch : 1/5000, loss = 12.785690\n",
      "epoch : 1000/5000, loss = 0.392507\n",
      "epoch : 2000/5000, loss = 0.435490\n",
      "epoch : 3000/5000, loss = 0.346410\n",
      "epoch : 4000/5000, loss = 0.336700\n",
      "epoch : 5000/5000, loss = 0.277955\n",
      "self.error_median=0.0265, self.error_range=0.2541, self.latent_error_median_=0.0039, self.latent_error_range_=0.0140\n",
      "Model result scaling scheme:  True\n",
      "Latent dim= 16. Weight Decay = 0.000001\n",
      "Using cuda\n",
      "self.error_mu=0.1257, self.error_std=0.1922, self.latent_error_mu_=0.0086, self.latent_error_sigma_=0.0105; alpha = 1.0000\n",
      "Current experiment parameters: ('46_WPBC', 0.0, 2), model: Customized, metrics: {'aucroc': 0.990457984866587, 'aucpr': 0.9650995865950379}, fitting time: 370.7735812664032, inference time: 0.0019674301147460938\n",
      "\n",
      "Model performance:\n",
      "Reconstruction AUCROC=0.9967; AUCPR=0.9888\n",
      "Deviation AUCROC=0.9557; AUCPR=0.8271\n",
      "Max(rec, dev) AUCROC=0.9967; AUCPR=0.9888\n",
      "\n",
      "Sum of squared error AUCROC=0.9967; AUCPR=0.9888\n",
      "\n"
     ]
    },
    {
     "name": "stderr",
     "output_type": "stream",
     "text": [
      "74it [2:15:27, 82.41s/it]"
     ]
    },
    {
     "name": "stdout",
     "output_type": "stream",
     "text": [
      "Transformer selector AUCROC=0.5048; AUCPR=0.2044\n",
      "\n",
      "{'Samples': 2000, 'Features': 33, 'Anomalies': 443, 'Anomalies Ratio(%)': 22.15}\n",
      "epoch : 1/5000, loss = 13.490017\n",
      "epoch : 1000/5000, loss = 0.666275\n",
      "epoch : 2000/5000, loss = 0.481444\n",
      "epoch : 3000/5000, loss = 0.396306\n",
      "epoch : 4000/5000, loss = 0.345641\n",
      "epoch : 5000/5000, loss = 0.301452\n",
      "self.error_median=0.0423, self.error_range=0.2323, self.latent_error_median_=0.0069, self.latent_error_range_=0.0128\n",
      "Model result scaling scheme:  True\n",
      "Latent dim= 16. Weight Decay = 0.000001\n",
      "Using cuda\n",
      "self.error_mu=0.1353, self.error_std=0.1910, self.latent_error_mu_=0.0105, self.latent_error_sigma_=0.0094; alpha = 1.0000\n",
      "Current experiment parameters: ('46_WPBC', 0.0, 3), model: Customized, metrics: {'aucroc': 0.9769445025840833, 'aucpr': 0.9041425217496583}, fitting time: 369.94229531288147, inference time: 0.0019998550415039062\n"
     ]
    },
    {
     "name": "stderr",
     "output_type": "stream",
     "text": [
      "75it [2:21:37, 98.12s/it]"
     ]
    },
    {
     "name": "stdout",
     "output_type": "stream",
     "text": [
      "\n",
      "Model performance:\n",
      "Reconstruction AUCROC=0.9957; AUCPR=0.9813\n",
      "Deviation AUCROC=0.8878; AUCPR=0.6434\n",
      "Max(rec, dev) AUCROC=0.9957; AUCPR=0.9813\n",
      "\n",
      "Sum of squared error AUCROC=0.9957; AUCPR=0.9812\n",
      "\n",
      "Transformer selector AUCROC=0.5084; AUCPR=0.2055\n",
      "\n",
      "{'Samples': 2000, 'Features': 18, 'Anomalies': 74, 'Anomalies Ratio(%)': 3.7}\n",
      "epoch : 1/5000, loss = 10.149013\n",
      "epoch : 1000/5000, loss = 0.461145\n",
      "epoch : 2000/5000, loss = 0.290097\n",
      "epoch : 3000/5000, loss = 0.186519\n",
      "epoch : 4000/5000, loss = 0.151153\n",
      "epoch : 5000/5000, loss = 0.107993\n",
      "self.error_median=0.0150, self.error_range=0.0366, self.latent_error_median_=0.0081, self.latent_error_range_=0.0103\n",
      "Model result scaling scheme:  True\n",
      "Latent dim= 16. Weight Decay = 0.000001\n",
      "Using cuda\n",
      "self.error_mu=0.0400, self.error_std=0.0780, self.latent_error_mu_=0.0114, self.latent_error_sigma_=0.0118; alpha = 1.0000\n",
      "Current experiment parameters: ('21_Lymphography', 0.0, 1), model: Customized, metrics: {'aucroc': 0.9107423718150361, 'aucpr': 0.2332401372839346}, fitting time: 372.26425433158875, inference time: 0.0019791126251220703\n"
     ]
    },
    {
     "name": "stderr",
     "output_type": "stream",
     "text": [
      "97it [2:27:49, 46.83s/it]"
     ]
    },
    {
     "name": "stdout",
     "output_type": "stream",
     "text": [
      "\n",
      "Model performance:\n",
      "Reconstruction AUCROC=0.9203; AUCPR=0.2578\n",
      "Deviation AUCROC=0.8360; AUCPR=0.1784\n",
      "Max(rec, dev) AUCROC=0.9203; AUCPR=0.2578\n",
      "\n",
      "Sum of squared error AUCROC=0.9196; AUCPR=0.2576\n",
      "\n",
      "Transformer selector AUCROC=0.4649; AUCPR=0.0383\n",
      "\n",
      "{'Samples': 2000, 'Features': 18, 'Anomalies': 74, 'Anomalies Ratio(%)': 3.7}\n",
      "epoch : 1/5000, loss = 10.287679\n",
      "epoch : 1000/5000, loss = 0.556739\n",
      "epoch : 2000/5000, loss = 0.223059\n",
      "epoch : 3000/5000, loss = 0.142924\n",
      "epoch : 4000/5000, loss = 0.129638\n",
      "epoch : 5000/5000, loss = 0.057191\n",
      "self.error_median=0.0057, self.error_range=0.0154, self.latent_error_median_=0.0052, self.latent_error_range_=0.0081\n",
      "Model result scaling scheme:  True\n",
      "Latent dim= 16. Weight Decay = 0.000001\n",
      "Using cuda\n",
      "self.error_mu=0.0182, self.error_std=0.0434, self.latent_error_mu_=0.0080, self.latent_error_sigma_=0.0075; alpha = 1.0000\n",
      "Current experiment parameters: ('21_Lymphography', 0.0, 2), model: Customized, metrics: {'aucroc': 0.931582258571878, 'aucpr': 0.2869825558669485}, fitting time: 370.30586290359497, inference time: 0.0019948482513427734\n",
      "\n",
      "Model performance:\n",
      "Reconstruction AUCROC=0.9375; AUCPR=0.2948\n",
      "Deviation AUCROC=0.8682; AUCPR=0.1438\n",
      "Max(rec, dev) AUCROC=0.9363; AUCPR=0.2945\n",
      "\n",
      "Sum of squared error AUCROC=0.9360; AUCPR=0.2936\n",
      "\n"
     ]
    },
    {
     "name": "stderr",
     "output_type": "stream",
     "text": [
      "98it [2:34:00, 59.59s/it]"
     ]
    },
    {
     "name": "stdout",
     "output_type": "stream",
     "text": [
      "Transformer selector AUCROC=0.4960; AUCPR=0.0345\n",
      "\n",
      "{'Samples': 2000, 'Features': 18, 'Anomalies': 80, 'Anomalies Ratio(%)': 4.0}\n",
      "epoch : 1/5000, loss = 7.258557\n",
      "epoch : 1000/5000, loss = 0.336396\n",
      "epoch : 2000/5000, loss = 0.204510\n",
      "epoch : 3000/5000, loss = 0.218766\n",
      "epoch : 4000/5000, loss = 0.154315\n",
      "epoch : 5000/5000, loss = 0.072598\n",
      "self.error_median=0.0038, self.error_range=0.0194, self.latent_error_median_=0.0058, self.latent_error_range_=0.0093\n",
      "Model result scaling scheme:  True\n",
      "Latent dim= 16. Weight Decay = 0.000001\n",
      "Using cuda\n",
      "self.error_mu=0.0188, self.error_std=0.0476, self.latent_error_mu_=0.0096, self.latent_error_sigma_=0.0093; alpha = 1.0000\n",
      "Current experiment parameters: ('21_Lymphography', 0.0, 3), model: Customized, metrics: {'aucroc': 0.9656394675925927, 'aucpr': 0.5692466538507843}, fitting time: 370.8757812976837, inference time: 0.0019817352294921875\n"
     ]
    },
    {
     "name": "stderr",
     "output_type": "stream",
     "text": [
      "99it [2:40:11, 76.19s/it]"
     ]
    },
    {
     "name": "stdout",
     "output_type": "stream",
     "text": [
      "\n",
      "Model performance:\n",
      "Reconstruction AUCROC=0.9702; AUCPR=0.5725\n",
      "Deviation AUCROC=0.8906; AUCPR=0.3065\n",
      "Max(rec, dev) AUCROC=0.9693; AUCPR=0.5721\n",
      "\n",
      "Sum of squared error AUCROC=0.9685; AUCPR=0.5728\n",
      "\n",
      "Transformer selector AUCROC=0.6250; AUCPR=0.0507\n",
      "\n",
      "{'Samples': 2000, 'Features': 9, 'Anomalies': 691, 'Anomalies Ratio(%)': 34.55}\n",
      "epoch : 1/5000, loss = 0.777879\n",
      "epoch : 1000/5000, loss = 0.024015\n",
      "epoch : 2000/5000, loss = 0.041211\n",
      "epoch : 3000/5000, loss = 1.258126\n",
      "epoch : 4000/5000, loss = 1.634239\n",
      "epoch : 5000/5000, loss = 0.013617\n",
      "self.error_median=0.0007, self.error_range=0.0023, self.latent_error_median_=0.0010, self.latent_error_range_=0.0020\n",
      "Model result scaling scheme:  True\n",
      "Latent dim= 9. Weight Decay = 0.000001\n",
      "Using cuda\n",
      "self.error_mu=0.0029, self.error_std=0.0126, self.latent_error_mu_=0.0023, self.latent_error_sigma_=0.0057; alpha = 1.0000\n",
      "Current experiment parameters: ('4_breastw', 0.0, 1), model: Customized, metrics: {'aucroc': 0.7626704035598825, 'aucpr': 0.5714174680976307}, fitting time: 377.02690529823303, inference time: 0.001992940902709961\n"
     ]
    },
    {
     "name": "stderr",
     "output_type": "stream",
     "text": [
      "121it [2:46:28, 39.22s/it]"
     ]
    },
    {
     "name": "stdout",
     "output_type": "stream",
     "text": [
      "\n",
      "Model performance:\n",
      "Reconstruction AUCROC=0.7793; AUCPR=0.5921\n",
      "Deviation AUCROC=0.7004; AUCPR=0.5211\n",
      "Max(rec, dev) AUCROC=0.7591; AUCPR=0.5743\n",
      "\n",
      "Sum of squared error AUCROC=0.7631; AUCPR=0.5758\n",
      "\n",
      "Transformer selector AUCROC=0.5501; AUCPR=0.3906\n",
      "\n",
      "{'Samples': 2000, 'Features': 9, 'Anomalies': 680, 'Anomalies Ratio(%)': 34.0}\n",
      "epoch : 1/5000, loss = 0.956902\n",
      "epoch : 1000/5000, loss = 0.017372\n",
      "epoch : 2000/5000, loss = 0.003737\n",
      "epoch : 3000/5000, loss = 0.002964\n",
      "epoch : 4000/5000, loss = 0.001779\n",
      "epoch : 5000/5000, loss = 0.005305\n",
      "self.error_median=0.0003, self.error_range=0.0006, self.latent_error_median_=0.0007, self.latent_error_range_=0.0010\n",
      "Model result scaling scheme:  True\n",
      "Latent dim= 9. Weight Decay = 0.000001\n",
      "Using cuda\n",
      "self.error_mu=0.0005, self.error_std=0.0008, self.latent_error_mu_=0.0012, self.latent_error_sigma_=0.0018; alpha = 1.0000\n",
      "Current experiment parameters: ('4_breastw', 0.0, 2), model: Customized, metrics: {'aucroc': 0.7305407011289364, 'aucpr': 0.5103013101442039}, fitting time: 377.0859971046448, inference time: 0.0019969940185546875\n"
     ]
    },
    {
     "name": "stderr",
     "output_type": "stream",
     "text": [
      "122it [2:52:45, 52.43s/it]"
     ]
    },
    {
     "name": "stdout",
     "output_type": "stream",
     "text": [
      "\n",
      "Model performance:\n",
      "Reconstruction AUCROC=0.7652; AUCPR=0.5433\n",
      "Deviation AUCROC=0.6184; AUCPR=0.4202\n",
      "Max(rec, dev) AUCROC=0.6699; AUCPR=0.4662\n",
      "\n",
      "Sum of squared error AUCROC=0.6938; AUCPR=0.4832\n",
      "\n",
      "Transformer selector AUCROC=0.5241; AUCPR=0.3250\n",
      "\n",
      "{'Samples': 2000, 'Features': 9, 'Anomalies': 700, 'Anomalies Ratio(%)': 35.0}\n",
      "epoch : 1/5000, loss = 1.299960\n",
      "epoch : 1000/5000, loss = 0.014237\n",
      "epoch : 2000/5000, loss = 0.003683\n",
      "epoch : 3000/5000, loss = 0.004817\n",
      "epoch : 4000/5000, loss = 0.006114\n",
      "epoch : 5000/5000, loss = 0.002058\n",
      "self.error_median=0.0002, self.error_range=0.0003, self.latent_error_median_=0.0003, self.latent_error_range_=0.0007\n",
      "Model result scaling scheme:  True\n",
      "Latent dim= 9. Weight Decay = 0.000001\n",
      "Using cuda\n",
      "self.error_mu=0.0003, self.error_std=0.0003, self.latent_error_mu_=0.0007, self.latent_error_sigma_=0.0013; alpha = 1.0000\n",
      "Current experiment parameters: ('4_breastw', 0.0, 3), model: Customized, metrics: {'aucroc': 0.7653357753357752, 'aucpr': 0.5701113609360863}, fitting time: 376.5068426132202, inference time: 0.00296783447265625\n"
     ]
    },
    {
     "name": "stderr",
     "output_type": "stream",
     "text": [
      "123it [2:59:02, 69.57s/it]"
     ]
    },
    {
     "name": "stdout",
     "output_type": "stream",
     "text": [
      "\n",
      "Model performance:\n",
      "Reconstruction AUCROC=0.7616; AUCPR=0.5876\n",
      "Deviation AUCROC=0.7096; AUCPR=0.4913\n",
      "Max(rec, dev) AUCROC=0.7396; AUCPR=0.5459\n",
      "\n",
      "Sum of squared error AUCROC=0.7536; AUCPR=0.5524\n",
      "\n",
      "Transformer selector AUCROC=0.5911; AUCPR=0.4609\n",
      "\n",
      "{'Samples': 2000, 'Features': 13, 'Anomalies': 147, 'Anomalies Ratio(%)': 7.35}\n",
      "epoch : 1/5000, loss = 4.898500\n",
      "epoch : 1000/5000, loss = 0.212844\n",
      "epoch : 2000/5000, loss = 0.090132\n",
      "epoch : 3000/5000, loss = 0.046785\n",
      "epoch : 4000/5000, loss = 0.042032\n",
      "epoch : 5000/5000, loss = 0.031022\n",
      "self.error_median=0.0028, self.error_range=0.0084, self.latent_error_median_=0.0030, self.latent_error_range_=0.0053\n",
      "Model result scaling scheme:  True\n",
      "Latent dim= 13. Weight Decay = 0.000001\n",
      "Using cuda\n",
      "self.error_mu=0.0101, self.error_std=0.0245, self.latent_error_mu_=0.0046, self.latent_error_sigma_=0.0048; alpha = 1.0000\n",
      "Current experiment parameters: ('45_wine', 0.0, 1), model: Customized, metrics: {'aucroc': 0.9499672988881622, 'aucpr': 0.6571171269532887}, fitting time: 375.7206838130951, inference time: 0.0009975433349609375\n"
     ]
    },
    {
     "name": "stderr",
     "output_type": "stream",
     "text": [
      "145it [3:05:18, 36.81s/it]"
     ]
    },
    {
     "name": "stdout",
     "output_type": "stream",
     "text": [
      "\n",
      "Model performance:\n",
      "Reconstruction AUCROC=0.9373; AUCPR=0.6132\n",
      "Deviation AUCROC=0.9151; AUCPR=0.3957\n",
      "Max(rec, dev) AUCROC=0.9401; AUCPR=0.6124\n",
      "\n",
      "Sum of squared error AUCROC=0.9424; AUCPR=0.6180\n",
      "\n",
      "Transformer selector AUCROC=0.5098; AUCPR=0.0760\n",
      "\n",
      "{'Samples': 2000, 'Features': 13, 'Anomalies': 150, 'Anomalies Ratio(%)': 7.5}\n",
      "epoch : 1/5000, loss = 6.484954\n",
      "epoch : 1000/5000, loss = 0.174815\n",
      "epoch : 2000/5000, loss = 0.068046\n",
      "epoch : 3000/5000, loss = 0.041871\n",
      "epoch : 4000/5000, loss = 0.023416\n",
      "epoch : 5000/5000, loss = 0.013247\n",
      "self.error_median=0.0011, self.error_range=0.0013, self.latent_error_median_=0.0030, self.latent_error_range_=0.0044\n",
      "Model result scaling scheme:  True\n",
      "Latent dim= 13. Weight Decay = 0.000001\n",
      "Using cuda\n",
      "self.error_mu=0.0021, self.error_std=0.0044, self.latent_error_mu_=0.0044, self.latent_error_sigma_=0.0041; alpha = 1.0000\n",
      "Current experiment parameters: ('45_wine', 0.0, 2), model: Customized, metrics: {'aucroc': 0.9652852852852852, 'aucpr': 0.613416601406547}, fitting time: 379.4152863025665, inference time: 0.001967906951904297\n"
     ]
    },
    {
     "name": "stderr",
     "output_type": "stream",
     "text": [
      "146it [3:11:38, 50.17s/it]"
     ]
    },
    {
     "name": "stdout",
     "output_type": "stream",
     "text": [
      "\n",
      "Model performance:\n",
      "Reconstruction AUCROC=0.9668; AUCPR=0.6210\n",
      "Deviation AUCROC=0.9266; AUCPR=0.4823\n",
      "Max(rec, dev) AUCROC=0.9491; AUCPR=0.5809\n",
      "\n",
      "Sum of squared error AUCROC=0.9590; AUCPR=0.5953\n",
      "\n",
      "Transformer selector AUCROC=0.5132; AUCPR=0.0709\n",
      "\n",
      "{'Samples': 2000, 'Features': 13, 'Anomalies': 162, 'Anomalies Ratio(%)': 8.1}\n",
      "epoch : 1/5000, loss = 7.001602\n",
      "epoch : 1000/5000, loss = 0.180268\n",
      "epoch : 2000/5000, loss = 0.084787\n",
      "epoch : 3000/5000, loss = 0.048129\n",
      "epoch : 4000/5000, loss = 0.026338\n",
      "epoch : 5000/5000, loss = 0.019499\n",
      "self.error_median=0.0019, self.error_range=0.0043, self.latent_error_median_=0.0029, self.latent_error_range_=0.0044\n",
      "Model result scaling scheme:  True\n",
      "Latent dim= 13. Weight Decay = 0.000001\n",
      "Using cuda\n",
      "self.error_mu=0.0056, self.error_std=0.0139, self.latent_error_mu_=0.0041, self.latent_error_sigma_=0.0038; alpha = 1.0000\n",
      "Current experiment parameters: ('45_wine', 0.0, 3), model: Customized, metrics: {'aucroc': 0.9449979628875144, 'aucpr': 0.6092331217195126}, fitting time: 376.71922612190247, inference time: 0.0019638538360595703\n"
     ]
    },
    {
     "name": "stderr",
     "output_type": "stream",
     "text": [
      "147it [3:17:55, 67.39s/it]"
     ]
    },
    {
     "name": "stdout",
     "output_type": "stream",
     "text": [
      "\n",
      "Model performance:\n",
      "Reconstruction AUCROC=0.9392; AUCPR=0.6131\n",
      "Deviation AUCROC=0.9055; AUCPR=0.4142\n",
      "Max(rec, dev) AUCROC=0.9411; AUCPR=0.6091\n",
      "\n",
      "Sum of squared error AUCROC=0.9432; AUCPR=0.6111\n",
      "\n",
      "Transformer selector AUCROC=0.5476; AUCPR=0.1403\n",
      "\n",
      "{'Samples': 2000, 'Features': 32, 'Anomalies': 716, 'Anomalies Ratio(%)': 35.8}\n",
      "epoch : 1/5000, loss = 28.454638\n",
      "epoch : 1000/5000, loss = 1.205888\n",
      "epoch : 2000/5000, loss = 0.870088\n",
      "epoch : 3000/5000, loss = 0.685830\n",
      "epoch : 4000/5000, loss = 0.561166\n",
      "epoch : 5000/5000, loss = 0.534823\n",
      "self.error_median=0.0857, self.error_range=0.5900, self.latent_error_median_=0.0120, self.latent_error_range_=0.0273\n",
      "Model result scaling scheme:  True\n",
      "Latent dim= 16. Weight Decay = 0.000001\n",
      "Using cuda\n",
      "self.error_mu=0.2723, self.error_std=0.3197, self.latent_error_mu_=0.0168, self.latent_error_sigma_=0.0153; alpha = 1.0000\n",
      "Current experiment parameters: ('18_Ionosphere', 0.0, 1), model: Customized, metrics: {'aucroc': 0.9770220477197222, 'aucpr': 0.9139542173297832}, fitting time: 374.6824862957001, inference time: 0.002992391586303711\n"
     ]
    },
    {
     "name": "stderr",
     "output_type": "stream",
     "text": [
      "169it [3:24:10, 35.99s/it]"
     ]
    },
    {
     "name": "stdout",
     "output_type": "stream",
     "text": [
      "\n",
      "Model performance:\n",
      "Reconstruction AUCROC=0.9906; AUCPR=0.9595\n",
      "Deviation AUCROC=0.9042; AUCPR=0.7593\n",
      "Max(rec, dev) AUCROC=0.9906; AUCPR=0.9595\n",
      "\n",
      "Sum of squared error AUCROC=0.9906; AUCPR=0.9595\n",
      "\n",
      "Transformer selector AUCROC=0.3122; AUCPR=0.2794\n",
      "\n",
      "{'Samples': 2000, 'Features': 32, 'Anomalies': 748, 'Anomalies Ratio(%)': 37.4}\n",
      "epoch : 1/5000, loss = 28.046436\n",
      "epoch : 1000/5000, loss = 1.091942\n",
      "epoch : 2000/5000, loss = 0.854012\n",
      "epoch : 3000/5000, loss = 0.727469\n",
      "epoch : 4000/5000, loss = 0.599788\n",
      "epoch : 5000/5000, loss = 0.538748\n",
      "self.error_median=0.0771, self.error_range=0.5314, self.latent_error_median_=0.0121, self.latent_error_range_=0.0242\n",
      "Model result scaling scheme:  True\n",
      "Latent dim= 16. Weight Decay = 0.000001\n",
      "Using cuda\n",
      "self.error_mu=0.2578, self.error_std=0.2981, self.latent_error_mu_=0.0154, self.latent_error_sigma_=0.0138; alpha = 1.0000\n",
      "Current experiment parameters: ('18_Ionosphere', 0.0, 2), model: Customized, metrics: {'aucroc': 0.9777973024316109, 'aucpr': 0.9316697480841796}, fitting time: 374.49835753440857, inference time: 0.001994609832763672\n"
     ]
    },
    {
     "name": "stderr",
     "output_type": "stream",
     "text": [
      "170it [3:30:24, 49.18s/it]"
     ]
    },
    {
     "name": "stdout",
     "output_type": "stream",
     "text": [
      "\n",
      "Model performance:\n",
      "Reconstruction AUCROC=0.9937; AUCPR=0.9876\n",
      "Deviation AUCROC=0.9030; AUCPR=0.7569\n",
      "Max(rec, dev) AUCROC=0.9937; AUCPR=0.9876\n",
      "\n",
      "Sum of squared error AUCROC=0.9937; AUCPR=0.9875\n",
      "\n",
      "Transformer selector AUCROC=0.3948; AUCPR=0.2951\n",
      "\n",
      "{'Samples': 2000, 'Features': 32, 'Anomalies': 691, 'Anomalies Ratio(%)': 34.55}\n",
      "epoch : 1/5000, loss = 28.691074\n",
      "epoch : 1000/5000, loss = 1.015967\n",
      "epoch : 2000/5000, loss = 0.833378\n",
      "epoch : 3000/5000, loss = 0.653394\n",
      "epoch : 4000/5000, loss = 0.563910\n",
      "epoch : 5000/5000, loss = 0.489415\n",
      "self.error_median=0.0766, self.error_range=0.4946, self.latent_error_median_=0.0084, self.latent_error_range_=0.0212\n",
      "Model result scaling scheme:  True\n",
      "Latent dim= 16. Weight Decay = 0.000001\n",
      "Using cuda\n",
      "self.error_mu=0.2446, self.error_std=0.2886, self.latent_error_mu_=0.0127, self.latent_error_sigma_=0.0124; alpha = 1.0000\n",
      "Current experiment parameters: ('18_Ionosphere', 0.0, 3), model: Customized, metrics: {'aucroc': 0.9768165111676561, 'aucpr': 0.926330072420629}, fitting time: 373.105712890625, inference time: 0.0019943714141845703\n"
     ]
    },
    {
     "name": "stderr",
     "output_type": "stream",
     "text": [
      "171it [3:36:38, 66.25s/it]"
     ]
    },
    {
     "name": "stdout",
     "output_type": "stream",
     "text": [
      "\n",
      "Model performance:\n",
      "Reconstruction AUCROC=0.9925; AUCPR=0.9765\n",
      "Deviation AUCROC=0.9296; AUCPR=0.8031\n",
      "Max(rec, dev) AUCROC=0.9925; AUCPR=0.9765\n",
      "\n",
      "Sum of squared error AUCROC=0.9924; AUCPR=0.9763\n",
      "\n",
      "Transformer selector AUCROC=0.3923; AUCPR=0.2713\n",
      "\n",
      "{'Samples': 2000, 'Features': 8, 'Anomalies': 732, 'Anomalies Ratio(%)': 36.6}\n",
      "epoch : 1/5000, loss = 3.098619\n",
      "epoch : 1000/5000, loss = 0.082495\n",
      "epoch : 2000/5000, loss = 0.034624\n",
      "epoch : 3000/5000, loss = 0.008077\n",
      "epoch : 4000/5000, loss = 0.010579\n",
      "epoch : 5000/5000, loss = 0.006245\n",
      "self.error_median=0.0004, self.error_range=0.0006, self.latent_error_median_=0.0016, self.latent_error_range_=0.0039\n",
      "Model result scaling scheme:  True\n",
      "Latent dim= 8. Weight Decay = 0.000001\n",
      "Using cuda\n",
      "self.error_mu=0.0007, self.error_std=0.0013, self.latent_error_mu_=0.0028, self.latent_error_sigma_=0.0030; alpha = 1.0000\n",
      "Current experiment parameters: ('29_Pima', 0.0, 1), model: Customized, metrics: {'aucroc': 0.7180023923444976, 'aucpr': 0.5205941288975426}, fitting time: 375.8685076236725, inference time: 0.0019958019256591797\n"
     ]
    },
    {
     "name": "stderr",
     "output_type": "stream",
     "text": [
      "193it [3:42:54, 35.61s/it]"
     ]
    },
    {
     "name": "stdout",
     "output_type": "stream",
     "text": [
      "\n",
      "Model performance:\n",
      "Reconstruction AUCROC=0.7525; AUCPR=0.5677\n",
      "Deviation AUCROC=0.6458; AUCPR=0.4389\n",
      "Max(rec, dev) AUCROC=0.6463; AUCPR=0.4327\n",
      "\n",
      "Sum of squared error AUCROC=0.6607; AUCPR=0.4466\n",
      "\n",
      "Transformer selector AUCROC=0.4677; AUCPR=0.3573\n",
      "\n",
      "{'Samples': 2000, 'Features': 8, 'Anomalies': 682, 'Anomalies Ratio(%)': 34.1}\n",
      "epoch : 1/5000, loss = 3.525131\n",
      "epoch : 1000/5000, loss = 0.060485\n",
      "epoch : 2000/5000, loss = 0.014092\n",
      "epoch : 3000/5000, loss = 0.004377\n",
      "epoch : 4000/5000, loss = 0.005194\n",
      "epoch : 5000/5000, loss = 0.004819\n",
      "self.error_median=0.0006, self.error_range=0.0005, self.latent_error_median_=0.0011, self.latent_error_range_=0.0020\n",
      "Model result scaling scheme:  True\n",
      "Latent dim= 8. Weight Decay = 0.000001\n",
      "Using cuda\n",
      "self.error_mu=0.0007, self.error_std=0.0003, self.latent_error_mu_=0.0017, self.latent_error_sigma_=0.0017; alpha = 1.0000\n",
      "Current experiment parameters: ('29_Pima', 0.0, 2), model: Customized, metrics: {'aucroc': 0.6562519296079037, 'aucpr': 0.4515131604223422}, fitting time: 376.7268490791321, inference time: 0.0019948482513427734\n"
     ]
    },
    {
     "name": "stderr",
     "output_type": "stream",
     "text": [
      "194it [3:49:11, 48.89s/it]"
     ]
    },
    {
     "name": "stdout",
     "output_type": "stream",
     "text": [
      "\n",
      "Model performance:\n",
      "Reconstruction AUCROC=0.6706; AUCPR=0.4828\n",
      "Deviation AUCROC=0.6110; AUCPR=0.3746\n",
      "Max(rec, dev) AUCROC=0.6171; AUCPR=0.3905\n",
      "\n",
      "Sum of squared error AUCROC=0.6308; AUCPR=0.4024\n",
      "\n",
      "Transformer selector AUCROC=0.5293; AUCPR=0.3490\n",
      "\n",
      "{'Samples': 2000, 'Features': 8, 'Anomalies': 653, 'Anomalies Ratio(%)': 32.65}\n",
      "epoch : 1/5000, loss = 3.964570\n",
      "epoch : 1000/5000, loss = 0.084140\n",
      "epoch : 2000/5000, loss = 0.019503\n",
      "epoch : 3000/5000, loss = 0.008915\n",
      "epoch : 4000/5000, loss = 0.006942\n",
      "epoch : 5000/5000, loss = 0.007090\n",
      "self.error_median=0.0015, self.error_range=0.0011, self.latent_error_median_=0.0013, self.latent_error_range_=0.0024\n",
      "Model result scaling scheme:  True\n",
      "Latent dim= 8. Weight Decay = 0.000001\n",
      "Using cuda\n",
      "self.error_mu=0.0016, self.error_std=0.0007, self.latent_error_mu_=0.0020, self.latent_error_sigma_=0.0020; alpha = 1.0000\n",
      "Current experiment parameters: ('29_Pima', 0.0, 3), model: Customized, metrics: {'aucroc': 0.6367700545564761, 'aucpr': 0.48108877868333677}, fitting time: 377.47246980667114, inference time: 0.001971006393432617\n"
     ]
    },
    {
     "name": "stderr",
     "output_type": "stream",
     "text": [
      "195it [3:55:29, 66.20s/it]"
     ]
    },
    {
     "name": "stdout",
     "output_type": "stream",
     "text": [
      "\n",
      "Model performance:\n",
      "Reconstruction AUCROC=0.6492; AUCPR=0.5167\n",
      "Deviation AUCROC=0.6033; AUCPR=0.3720\n",
      "Max(rec, dev) AUCROC=0.6047; AUCPR=0.4299\n",
      "\n",
      "Sum of squared error AUCROC=0.6221; AUCPR=0.4422\n",
      "\n",
      "Transformer selector AUCROC=0.4857; AUCPR=0.2945\n",
      "\n",
      "{'Samples': 2000, 'Features': 6, 'Anomalies': 263, 'Anomalies Ratio(%)': 13.15}\n",
      "epoch : 1/5000, loss = 2.390423\n",
      "epoch : 1000/5000, loss = 0.039088\n",
      "epoch : 2000/5000, loss = 0.009841\n",
      "epoch : 3000/5000, loss = 0.004663\n",
      "epoch : 4000/5000, loss = 0.003271\n",
      "epoch : 5000/5000, loss = 0.006139\n",
      "self.error_median=0.0002, self.error_range=0.0006, self.latent_error_median_=0.0015, self.latent_error_range_=0.0026\n",
      "Model result scaling scheme:  True\n",
      "Latent dim= 6. Weight Decay = 0.000001\n",
      "Using cuda\n",
      "self.error_mu=0.0007, self.error_std=0.0030, self.latent_error_mu_=0.0023, self.latent_error_sigma_=0.0025; alpha = 1.0000\n",
      "Current experiment parameters: ('39_vertebral', 0.0, 1), model: Customized, metrics: {'aucroc': 0.7375300663281421, 'aucpr': 0.3227686044798565}, fitting time: 376.65340781211853, inference time: 0.0019943714141845703\n"
     ]
    },
    {
     "name": "stderr",
     "output_type": "stream",
     "text": [
      "217it [4:01:45, 35.61s/it]"
     ]
    },
    {
     "name": "stdout",
     "output_type": "stream",
     "text": [
      "\n",
      "Model performance:\n",
      "Reconstruction AUCROC=0.7760; AUCPR=0.3659\n",
      "Deviation AUCROC=0.6410; AUCPR=0.2042\n",
      "Max(rec, dev) AUCROC=0.6507; AUCPR=0.2330\n",
      "\n",
      "Sum of squared error AUCROC=0.6677; AUCPR=0.2471\n",
      "\n",
      "Transformer selector AUCROC=0.5232; AUCPR=0.1386\n",
      "\n",
      "{'Samples': 2000, 'Features': 6, 'Anomalies': 260, 'Anomalies Ratio(%)': 13.0}\n",
      "epoch : 1/5000, loss = 2.546145\n",
      "epoch : 1000/5000, loss = 0.013776\n",
      "epoch : 2000/5000, loss = 0.008889\n",
      "epoch : 3000/5000, loss = 0.006911\n",
      "epoch : 4000/5000, loss = 0.002252\n",
      "epoch : 5000/5000, loss = 0.002032\n",
      "self.error_median=0.0002, self.error_range=0.0002, self.latent_error_median_=0.0005, self.latent_error_range_=0.0009\n",
      "Model result scaling scheme:  True\n",
      "Latent dim= 6. Weight Decay = 0.000001\n",
      "Using cuda\n",
      "self.error_mu=0.0002, self.error_std=0.0001, self.latent_error_mu_=0.0008, self.latent_error_sigma_=0.0009; alpha = 1.0000\n",
      "Current experiment parameters: ('39_vertebral', 0.0, 2), model: Customized, metrics: {'aucroc': 0.8151340996168582, 'aucpr': 0.5430912874172606}, fitting time: 376.92023372650146, inference time: 0.002966642379760742\n"
     ]
    },
    {
     "name": "stderr",
     "output_type": "stream",
     "text": [
      "218it [4:08:03, 48.90s/it]"
     ]
    },
    {
     "name": "stdout",
     "output_type": "stream",
     "text": [
      "\n",
      "Model performance:\n",
      "Reconstruction AUCROC=0.8174; AUCPR=0.5858\n",
      "Deviation AUCROC=0.7137; AUCPR=0.2295\n",
      "Max(rec, dev) AUCROC=0.7573; AUCPR=0.3314\n",
      "\n",
      "Sum of squared error AUCROC=0.7680; AUCPR=0.3680\n",
      "\n",
      "Transformer selector AUCROC=0.5061; AUCPR=0.1664\n",
      "\n",
      "{'Samples': 2000, 'Features': 6, 'Anomalies': 259, 'Anomalies Ratio(%)': 12.95}\n",
      "epoch : 1/5000, loss = 2.776717\n",
      "epoch : 1000/5000, loss = 0.022621\n",
      "epoch : 2000/5000, loss = 0.004293\n",
      "epoch : 3000/5000, loss = 0.004611\n",
      "epoch : 4000/5000, loss = 0.004288\n",
      "epoch : 5000/5000, loss = 0.002761\n",
      "self.error_median=0.0004, self.error_range=0.0003, self.latent_error_median_=0.0007, self.latent_error_range_=0.0011\n",
      "Model result scaling scheme:  True\n",
      "Latent dim= 6. Weight Decay = 0.000001\n",
      "Using cuda\n",
      "self.error_mu=0.0004, self.error_std=0.0002, self.latent_error_mu_=0.0009, self.latent_error_sigma_=0.0008; alpha = 1.0000\n",
      "Current experiment parameters: ('39_vertebral', 0.0, 3), model: Customized, metrics: {'aucroc': 0.7818302387267905, 'aucpr': 0.4871827476001077}, fitting time: 377.2788405418396, inference time: 0.0020024776458740234\n"
     ]
    },
    {
     "name": "stderr",
     "output_type": "stream",
     "text": [
      "219it [4:14:20, 66.20s/it]"
     ]
    },
    {
     "name": "stdout",
     "output_type": "stream",
     "text": [
      "\n",
      "Model performance:\n",
      "Reconstruction AUCROC=0.7824; AUCPR=0.5299\n",
      "Deviation AUCROC=0.6868; AUCPR=0.2291\n",
      "Max(rec, dev) AUCROC=0.7174; AUCPR=0.3138\n",
      "\n",
      "Sum of squared error AUCROC=0.7401; AUCPR=0.3632\n",
      "\n",
      "Transformer selector AUCROC=0.3633; AUCPR=0.0995\n",
      "\n",
      "{'Samples': 2000, 'Features': 19, 'Anomalies': 342, 'Anomalies Ratio(%)': 17.1}\n",
      "epoch : 1/5000, loss = 14.330391\n",
      "epoch : 1000/5000, loss = 0.631867\n",
      "epoch : 2000/5000, loss = 0.368009\n",
      "epoch : 3000/5000, loss = 0.181579\n",
      "epoch : 4000/5000, loss = 0.170880\n",
      "epoch : 5000/5000, loss = 0.112246\n",
      "self.error_median=0.0181, self.error_range=0.0467, self.latent_error_median_=0.0113, self.latent_error_range_=0.0131\n",
      "Model result scaling scheme:  True\n",
      "Latent dim= 16. Weight Decay = 0.000001\n",
      "Using cuda\n",
      "self.error_mu=0.0426, self.error_std=0.0646, self.latent_error_mu_=0.0142, self.latent_error_sigma_=0.0089; alpha = 1.0000\n",
      "Current experiment parameters: ('15_Hepatitis', 0.0, 1), model: Customized, metrics: {'aucroc': 0.8934187650172882, 'aucpr': 0.6666776639937055}, fitting time: 377.3294446468353, inference time: 0.001994609832763672\n"
     ]
    },
    {
     "name": "stderr",
     "output_type": "stream",
     "text": [
      "241it [4:20:38, 35.64s/it]"
     ]
    },
    {
     "name": "stdout",
     "output_type": "stream",
     "text": [
      "\n",
      "Model performance:\n",
      "Reconstruction AUCROC=0.9114; AUCPR=0.7065\n",
      "Deviation AUCROC=0.7450; AUCPR=0.3517\n",
      "Max(rec, dev) AUCROC=0.9107; AUCPR=0.7061\n",
      "\n",
      "Sum of squared error AUCROC=0.9094; AUCPR=0.7050\n",
      "\n",
      "Transformer selector AUCROC=0.5113; AUCPR=0.1780\n",
      "\n",
      "{'Samples': 2000, 'Features': 19, 'Anomalies': 296, 'Anomalies Ratio(%)': 14.8}\n",
      "epoch : 1/5000, loss = 15.538362\n",
      "epoch : 1000/5000, loss = 0.025700\n",
      "epoch : 2000/5000, loss = 0.422358\n",
      "epoch : 3000/5000, loss = 0.311067\n",
      "epoch : 4000/5000, loss = 0.208168\n",
      "epoch : 5000/5000, loss = 0.109217\n",
      "self.error_median=0.0290, self.error_range=0.1063, self.latent_error_median_=0.0145, self.latent_error_range_=0.0155\n",
      "Model result scaling scheme:  True\n",
      "Latent dim= 16. Weight Decay = 0.000001\n",
      "Using cuda\n",
      "self.error_mu=0.1076, self.error_std=0.3078, self.latent_error_mu_=0.0186, self.latent_error_sigma_=0.0150; alpha = 1.0000\n",
      "Current experiment parameters: ('15_Hepatitis', 0.0, 2), model: Customized, metrics: {'aucroc': 0.7830647111853823, 'aucpr': 0.2888273843223802}, fitting time: 375.22648763656616, inference time: 0.0019943714141845703\n"
     ]
    },
    {
     "name": "stderr",
     "output_type": "stream",
     "text": [
      "242it [4:26:53, 48.85s/it]"
     ]
    },
    {
     "name": "stdout",
     "output_type": "stream",
     "text": [
      "\n",
      "Model performance:\n",
      "Reconstruction AUCROC=0.8148; AUCPR=0.3126\n",
      "Deviation AUCROC=0.6962; AUCPR=0.2390\n",
      "Max(rec, dev) AUCROC=0.8147; AUCPR=0.3125\n",
      "\n",
      "Sum of squared error AUCROC=0.8131; AUCPR=0.3116\n",
      "\n",
      "Transformer selector AUCROC=0.5624; AUCPR=0.1538\n",
      "\n",
      "{'Samples': 2000, 'Features': 19, 'Anomalies': 298, 'Anomalies Ratio(%)': 14.9}\n",
      "epoch : 1/5000, loss = 21.636574\n",
      "epoch : 1000/5000, loss = 0.510267\n",
      "epoch : 2000/5000, loss = 0.251781\n",
      "epoch : 3000/5000, loss = 0.164296\n",
      "epoch : 4000/5000, loss = 0.117621\n",
      "epoch : 5000/5000, loss = 0.077573\n",
      "self.error_median=0.0104, self.error_range=0.0342, self.latent_error_median_=0.0087, self.latent_error_range_=0.0098\n",
      "Model result scaling scheme:  True\n",
      "Latent dim= 16. Weight Decay = 0.000001\n",
      "Using cuda\n",
      "self.error_mu=0.0299, self.error_std=0.0518, self.latent_error_mu_=0.0104, self.latent_error_sigma_=0.0067; alpha = 1.0000\n"
     ]
    },
    {
     "name": "stderr",
     "output_type": "stream",
     "text": [
      "243it [4:33:06, 65.93s/it]"
     ]
    },
    {
     "name": "stdout",
     "output_type": "stream",
     "text": [
      "Current experiment parameters: ('15_Hepatitis', 0.0, 3), model: Customized, metrics: {'aucroc': 0.8727764462719056, 'aucpr': 0.47057597874995466}, fitting time: 372.97184443473816, inference time: 0.001994609832763672\n",
      "\n",
      "Model performance:\n",
      "Reconstruction AUCROC=0.8927; AUCPR=0.5102\n",
      "Deviation AUCROC=0.7170; AUCPR=0.2499\n",
      "Max(rec, dev) AUCROC=0.8926; AUCPR=0.5102\n",
      "\n",
      "Sum of squared error AUCROC=0.8916; AUCPR=0.5083\n",
      "\n",
      "Transformer selector AUCROC=0.4871; AUCPR=0.1497\n",
      "\n",
      "{'Samples': 2000, 'Features': 7, 'Anomalies': 85, 'Anomalies Ratio(%)': 4.25}\n",
      "epoch : 1/5000, loss = 3.993356\n",
      "epoch : 1000/5000, loss = 0.056607\n",
      "epoch : 2000/5000, loss = 0.023297\n",
      "epoch : 3000/5000, loss = 0.012807\n",
      "epoch : 4000/5000, loss = 0.008168\n",
      "epoch : 5000/5000, loss = 0.004998\n",
      "self.error_median=0.0002, self.error_range=0.0003, self.latent_error_median_=0.0009, self.latent_error_range_=0.0022\n",
      "Model result scaling scheme:  True\n",
      "Latent dim= 7. Weight Decay = 0.000001\n",
      "Using cuda\n",
      "self.error_mu=0.0004, self.error_std=0.0033, self.latent_error_mu_=0.0019, self.latent_error_sigma_=0.0051; alpha = 1.0000\n",
      "Current experiment parameters: ('14_glass', 0.0, 1), model: Customized, metrics: {'aucroc': 0.7447652173913043, 'aucpr': 0.14912140924244052}, fitting time: 377.3340265750885, inference time: 0.0019931793212890625\n"
     ]
    },
    {
     "name": "stderr",
     "output_type": "stream",
     "text": [
      "265it [4:39:24, 35.53s/it]"
     ]
    },
    {
     "name": "stdout",
     "output_type": "stream",
     "text": [
      "\n",
      "Model performance:\n",
      "Reconstruction AUCROC=0.7681; AUCPR=0.1688\n",
      "Deviation AUCROC=0.6342; AUCPR=0.0758\n",
      "Max(rec, dev) AUCROC=0.6424; AUCPR=0.0983\n",
      "\n",
      "Sum of squared error AUCROC=0.6658; AUCPR=0.1048\n",
      "\n",
      "Transformer selector AUCROC=0.5560; AUCPR=0.0645\n",
      "\n",
      "{'Samples': 2000, 'Features': 7, 'Anomalies': 86, 'Anomalies Ratio(%)': 4.3}\n",
      "epoch : 1/5000, loss = 4.053780\n",
      "epoch : 1000/5000, loss = 0.043008\n",
      "epoch : 2000/5000, loss = 0.014005\n",
      "epoch : 3000/5000, loss = 0.006843\n",
      "epoch : 4000/5000, loss = 0.006536\n",
      "epoch : 5000/5000, loss = 0.004479\n",
      "self.error_median=0.0008, self.error_range=0.0006, self.latent_error_median_=0.0007, self.latent_error_range_=0.0018\n",
      "Model result scaling scheme:  True\n",
      "Latent dim= 7. Weight Decay = 0.000001\n",
      "Using cuda\n",
      "self.error_mu=0.0009, self.error_std=0.0004, self.latent_error_mu_=0.0014, self.latent_error_sigma_=0.0019; alpha = 1.0000\n",
      "Current experiment parameters: ('14_glass', 0.0, 2), model: Customized, metrics: {'aucroc': 0.7780085767890647, 'aucpr': 0.11116758004536147}, fitting time: 379.6057002544403, inference time: 0.0019943714141845703\n"
     ]
    },
    {
     "name": "stderr",
     "output_type": "stream",
     "text": [
      "266it [4:45:44, 48.93s/it]"
     ]
    },
    {
     "name": "stdout",
     "output_type": "stream",
     "text": [
      "\n",
      "Model performance:\n",
      "Reconstruction AUCROC=0.7880; AUCPR=0.1377\n",
      "Deviation AUCROC=0.6654; AUCPR=0.0637\n",
      "Max(rec, dev) AUCROC=0.7016; AUCPR=0.0762\n",
      "\n",
      "Sum of squared error AUCROC=0.7272; AUCPR=0.0846\n",
      "\n",
      "Transformer selector AUCROC=0.4050; AUCPR=0.0409\n",
      "\n",
      "{'Samples': 2000, 'Features': 7, 'Anomalies': 76, 'Anomalies Ratio(%)': 3.8}\n",
      "epoch : 1/5000, loss = 4.392237\n",
      "epoch : 1000/5000, loss = 0.055939\n",
      "epoch : 2000/5000, loss = 0.015198\n",
      "epoch : 3000/5000, loss = 0.011171\n",
      "epoch : 4000/5000, loss = 0.010576\n",
      "epoch : 5000/5000, loss = 0.004275\n",
      "self.error_median=0.0007, self.error_range=0.0005, self.latent_error_median_=0.0006, self.latent_error_range_=0.0017\n",
      "Model result scaling scheme:  True\n",
      "Latent dim= 7. Weight Decay = 0.000001\n",
      "Using cuda\n",
      "self.error_mu=0.0008, self.error_std=0.0024, self.latent_error_mu_=0.0014, self.latent_error_sigma_=0.0023; alpha = 1.0000\n",
      "Current experiment parameters: ('14_glass', 0.0, 3), model: Customized, metrics: {'aucroc': 0.7391304347826088, 'aucpr': 0.10806561668747883}, fitting time: 380.05375504493713, inference time: 0.0019893646240234375\n"
     ]
    },
    {
     "name": "stderr",
     "output_type": "stream",
     "text": [
      "267it [4:52:04, 66.37s/it]"
     ]
    },
    {
     "name": "stdout",
     "output_type": "stream",
     "text": [
      "\n",
      "Model performance:\n",
      "Reconstruction AUCROC=0.7161; AUCPR=0.1233\n",
      "Deviation AUCROC=0.7223; AUCPR=0.0774\n",
      "Max(rec, dev) AUCROC=0.7058; AUCPR=0.0827\n",
      "\n",
      "Sum of squared error AUCROC=0.7316; AUCPR=0.0893\n",
      "\n",
      "Transformer selector AUCROC=0.5092; AUCPR=0.0409\n",
      "\n",
      "{'Samples': 2000, 'Features': 12, 'Anomalies': 61, 'Anomalies Ratio(%)': 3.05}\n",
      "epoch : 1/5000, loss = 9.321304\n",
      "epoch : 1000/5000, loss = 0.189164\n",
      "epoch : 2000/5000, loss = 0.125304\n",
      "epoch : 3000/5000, loss = 0.086444\n",
      "epoch : 4000/5000, loss = 0.048296\n",
      "epoch : 5000/5000, loss = 0.039087\n",
      "self.error_median=0.0069, self.error_range=0.0172, self.latent_error_median_=0.0033, self.latent_error_range_=0.0052\n",
      "Model result scaling scheme:  True\n",
      "Latent dim= 12. Weight Decay = 0.000001\n",
      "Using cuda\n",
      "self.error_mu=0.0158, self.error_std=0.0236, self.latent_error_mu_=0.0050, self.latent_error_sigma_=0.0055; alpha = 1.0000\n",
      "Current experiment parameters: ('40_vowels', 0.0, 1), model: Customized, metrics: {'aucroc': 0.8919434898816342, 'aucpr': 0.20142977871096607}, fitting time: 379.35326528549194, inference time: 0.0019943714141845703\n"
     ]
    },
    {
     "name": "stderr",
     "output_type": "stream",
     "text": [
      "289it [4:58:24, 35.76s/it]"
     ]
    },
    {
     "name": "stdout",
     "output_type": "stream",
     "text": [
      "\n",
      "Model performance:\n",
      "Reconstruction AUCROC=0.8986; AUCPR=0.2071\n",
      "Deviation AUCROC=0.8225; AUCPR=0.0858\n",
      "Max(rec, dev) AUCROC=0.8960; AUCPR=0.2061\n",
      "\n",
      "Sum of squared error AUCROC=0.8951; AUCPR=0.2052\n",
      "\n",
      "Transformer selector AUCROC=0.5383; AUCPR=0.0961\n",
      "\n",
      "{'Samples': 2000, 'Features': 12, 'Anomalies': 67, 'Anomalies Ratio(%)': 3.35}\n",
      "epoch : 1/5000, loss = 4.722917\n",
      "epoch : 1000/5000, loss = 0.122333\n",
      "epoch : 2000/5000, loss = 0.058242\n",
      "epoch : 3000/5000, loss = 0.032992\n",
      "epoch : 4000/5000, loss = 0.020501\n",
      "epoch : 5000/5000, loss = 0.017169\n",
      "self.error_median=0.0015, self.error_range=0.0038, self.latent_error_median_=0.0024, self.latent_error_range_=0.0036\n",
      "Model result scaling scheme:  True\n",
      "Latent dim= 12. Weight Decay = 0.000001\n",
      "Using cuda\n",
      "self.error_mu=0.0054, self.error_std=0.0137, self.latent_error_mu_=0.0034, self.latent_error_sigma_=0.0030; alpha = 1.0000\n",
      "Current experiment parameters: ('40_vowels', 0.0, 2), model: Customized, metrics: {'aucroc': 0.9356034482758622, 'aucpr': 0.3295487727660881}, fitting time: 380.2088840007782, inference time: 0.0019865036010742188\n"
     ]
    },
    {
     "name": "stderr",
     "output_type": "stream",
     "text": [
      "290it [5:04:44, 49.16s/it]"
     ]
    },
    {
     "name": "stdout",
     "output_type": "stream",
     "text": [
      "\n",
      "Model performance:\n",
      "Reconstruction AUCROC=0.9281; AUCPR=0.3119\n",
      "Deviation AUCROC=0.9006; AUCPR=0.1712\n",
      "Max(rec, dev) AUCROC=0.9312; AUCPR=0.3098\n",
      "\n",
      "Sum of squared error AUCROC=0.9328; AUCPR=0.3144\n",
      "\n",
      "Transformer selector AUCROC=0.3397; AUCPR=0.0280\n",
      "\n",
      "{'Samples': 2000, 'Features': 12, 'Anomalies': 73, 'Anomalies Ratio(%)': 3.65}\n",
      "epoch : 1/5000, loss = 8.948066\n",
      "epoch : 1000/5000, loss = 0.141670\n",
      "epoch : 2000/5000, loss = 0.055654\n",
      "epoch : 3000/5000, loss = 0.030523\n",
      "epoch : 4000/5000, loss = 0.012542\n",
      "epoch : 5000/5000, loss = 0.012266\n",
      "self.error_median=0.0030, self.error_range=0.0029, self.latent_error_median_=0.0023, self.latent_error_range_=0.0036\n",
      "Model result scaling scheme:  True\n",
      "Latent dim= 12. Weight Decay = 0.000001\n",
      "Using cuda\n",
      "self.error_mu=0.0089, self.error_std=0.0396, self.latent_error_mu_=0.0033, self.latent_error_sigma_=0.0031; alpha = 1.0000\n",
      "Current experiment parameters: ('40_vowels', 0.0, 3), model: Customized, metrics: {'aucroc': 0.9149103491664046, 'aucpr': 0.2335501713806391}, fitting time: 379.5589189529419, inference time: 0.001994609832763672\n",
      "\n",
      "Model performance:\n",
      "Reconstruction AUCROC=0.8984; AUCPR=0.2204\n",
      "Deviation AUCROC=0.9148; AUCPR=0.3742\n",
      "Max(rec, dev) AUCROC=0.9086; AUCPR=0.2282\n",
      "\n",
      "Sum of squared error AUCROC=0.9137; AUCPR=0.2308\n",
      "\n",
      "Transformer selector AUCROC=0.4825; AUCPR=0.0339\n",
      "\n"
     ]
    },
    {
     "name": "stderr",
     "output_type": "stream",
     "text": [
      "291it [5:11:04, 66.57s/it]"
     ]
    },
    {
     "name": "stdout",
     "output_type": "stream",
     "text": [
      "{'Samples': 2000, 'Features': 8, 'Anomalies': 709, 'Anomalies Ratio(%)': 35.45}\n",
      "epoch : 1/5000, loss = 0.823833\n",
      "epoch : 1000/5000, loss = 0.072726\n",
      "epoch : 2000/5000, loss = 0.029251\n",
      "epoch : 3000/5000, loss = 0.009792\n",
      "epoch : 4000/5000, loss = 0.006826\n",
      "epoch : 5000/5000, loss = 0.009102\n",
      "self.error_median=0.0024, self.error_range=0.0011, self.latent_error_median_=0.0007, self.latent_error_range_=0.0014\n",
      "Model result scaling scheme:  True\n",
      "Latent dim= 8. Weight Decay = 0.000001\n",
      "Using cuda\n",
      "self.error_mu=0.0028, self.error_std=0.0019, self.latent_error_mu_=0.0013, self.latent_error_sigma_=0.0028; alpha = 1.0000\n",
      "Current experiment parameters: ('47_yeast', 0.0, 1), model: Customized, metrics: {'aucroc': 0.7760672562506824, 'aucpr': 0.6127506925249606}, fitting time: 380.3121132850647, inference time: 0.0019981861114501953\n"
     ]
    },
    {
     "name": "stderr",
     "output_type": "stream",
     "text": [
      "313it [5:17:24, 35.86s/it]"
     ]
    },
    {
     "name": "stdout",
     "output_type": "stream",
     "text": [
      "\n",
      "Model performance:\n",
      "Reconstruction AUCROC=0.7462; AUCPR=0.6506\n",
      "Deviation AUCROC=0.7239; AUCPR=0.5099\n",
      "Max(rec, dev) AUCROC=0.7342; AUCPR=0.6111\n",
      "\n",
      "Sum of squared error AUCROC=0.7511; AUCPR=0.6064\n",
      "\n",
      "Transformer selector AUCROC=0.5076; AUCPR=0.4894\n",
      "\n",
      "{'Samples': 2000, 'Features': 8, 'Anomalies': 685, 'Anomalies Ratio(%)': 34.25}\n",
      "epoch : 1/5000, loss = 3.173788\n",
      "epoch : 1000/5000, loss = 0.038476\n",
      "epoch : 2000/5000, loss = 0.016002\n",
      "epoch : 3000/5000, loss = 0.008820\n",
      "epoch : 4000/5000, loss = 0.003827\n",
      "epoch : 5000/5000, loss = 0.002406\n",
      "self.error_median=0.0001, self.error_range=0.0001, self.latent_error_median_=0.0005, self.latent_error_range_=0.0012\n",
      "Model result scaling scheme:  True\n",
      "Latent dim= 8. Weight Decay = 0.000001\n",
      "Using cuda\n",
      "self.error_mu=0.0001, self.error_std=0.0001, self.latent_error_mu_=0.0010, self.latent_error_sigma_=0.0015; alpha = 1.0000\n",
      "Current experiment parameters: ('47_yeast', 0.0, 2), model: Customized, metrics: {'aucroc': 0.8819635690027787, 'aucpr': 0.7550646275312323}, fitting time: 379.84555554389954, inference time: 0.001971721649169922\n"
     ]
    },
    {
     "name": "stderr",
     "output_type": "stream",
     "text": [
      "314it [5:23:44, 49.25s/it]"
     ]
    },
    {
     "name": "stdout",
     "output_type": "stream",
     "text": [
      "\n",
      "Model performance:\n",
      "Reconstruction AUCROC=0.8979; AUCPR=0.7912\n",
      "Deviation AUCROC=0.7651; AUCPR=0.5568\n",
      "Max(rec, dev) AUCROC=0.7709; AUCPR=0.5663\n",
      "\n",
      "Sum of squared error AUCROC=0.7895; AUCPR=0.5973\n",
      "\n",
      "Transformer selector AUCROC=0.5592; AUCPR=0.3800\n",
      "\n",
      "{'Samples': 2000, 'Features': 8, 'Anomalies': 676, 'Anomalies Ratio(%)': 33.8}\n",
      "epoch : 1/5000, loss = 3.030452\n",
      "epoch : 1000/5000, loss = 0.028455\n",
      "epoch : 2000/5000, loss = 0.014363\n",
      "epoch : 3000/5000, loss = 0.004879\n",
      "epoch : 4000/5000, loss = 0.003221\n",
      "epoch : 5000/5000, loss = 0.002385\n",
      "self.error_median=0.0002, self.error_range=0.0002, self.latent_error_median_=0.0006, self.latent_error_range_=0.0011\n",
      "Model result scaling scheme:  True\n",
      "Latent dim= 8. Weight Decay = 0.000001\n",
      "Using cuda\n",
      "self.error_mu=0.0003, self.error_std=0.0001, self.latent_error_mu_=0.0009, self.latent_error_sigma_=0.0012; alpha = 1.0000\n",
      "Current experiment parameters: ('47_yeast', 0.0, 3), model: Customized, metrics: {'aucroc': 0.7718479730987332, 'aucpr': 0.6320993727915065}, fitting time: 379.0387291908264, inference time: 0.00202178955078125\n"
     ]
    },
    {
     "name": "stderr",
     "output_type": "stream",
     "text": [
      "315it [5:30:04, 66.62s/it]"
     ]
    },
    {
     "name": "stdout",
     "output_type": "stream",
     "text": [
      "\n",
      "Model performance:\n",
      "Reconstruction AUCROC=0.7642; AUCPR=0.6558\n",
      "Deviation AUCROC=0.6949; AUCPR=0.4635\n",
      "Max(rec, dev) AUCROC=0.7008; AUCPR=0.4817\n",
      "\n",
      "Sum of squared error AUCROC=0.7230; AUCPR=0.5124\n",
      "\n",
      "Transformer selector AUCROC=0.5347; AUCPR=0.3500\n",
      "\n",
      "{'Samples': 2000, 'Features': 32, 'Anomalies': 127, 'Anomalies Ratio(%)': 6.35}\n",
      "epoch : 1/5000, loss = 21.535801\n",
      "epoch : 1000/5000, loss = 0.416882\n",
      "epoch : 2000/5000, loss = 0.316132\n",
      "epoch : 3000/5000, loss = 0.252604\n",
      "epoch : 4000/5000, loss = 0.211232\n",
      "epoch : 5000/5000, loss = 0.183764\n",
      "self.error_median=0.0204, self.error_range=0.0886, self.latent_error_median_=0.0040, self.latent_error_range_=0.0097\n",
      "Model result scaling scheme:  True\n",
      "Latent dim= 16. Weight Decay = 0.000001\n",
      "Using cuda\n",
      "self.error_mu=0.0858, self.error_std=0.1838, self.latent_error_mu_=0.0085, self.latent_error_sigma_=0.0120; alpha = 1.0000\n",
      "Current experiment parameters: ('20_letter', 0.0, 1), model: Customized, metrics: {'aucroc': 0.9986420678029593, 'aucpr': 0.9787027637884198}, fitting time: 373.43365001678467, inference time: 0.001994609832763672\n"
     ]
    },
    {
     "name": "stderr",
     "output_type": "stream",
     "text": [
      "337it [5:36:17, 35.68s/it]"
     ]
    },
    {
     "name": "stdout",
     "output_type": "stream",
     "text": [
      "\n",
      "Model performance:\n",
      "Reconstruction AUCROC=0.9993; AUCPR=0.9876\n",
      "Deviation AUCROC=0.9657; AUCPR=0.6730\n",
      "Max(rec, dev) AUCROC=0.9993; AUCPR=0.9876\n",
      "\n",
      "Sum of squared error AUCROC=0.9993; AUCPR=0.9876\n",
      "\n",
      "Transformer selector AUCROC=0.3883; AUCPR=0.0483\n",
      "\n",
      "{'Samples': 2000, 'Features': 32, 'Anomalies': 139, 'Anomalies Ratio(%)': 6.95}\n",
      "epoch : 1/5000, loss = 116.792999\n",
      "epoch : 1000/5000, loss = 0.491539\n",
      "epoch : 2000/5000, loss = 0.342804\n",
      "epoch : 3000/5000, loss = 0.317740\n",
      "epoch : 4000/5000, loss = 0.237325\n",
      "epoch : 5000/5000, loss = 0.208246\n",
      "self.error_median=0.0239, self.error_range=0.1109, self.latent_error_median_=0.0044, self.latent_error_range_=0.0110\n",
      "Model result scaling scheme:  True\n",
      "Latent dim= 16. Weight Decay = 0.000001\n",
      "Using cuda\n",
      "self.error_mu=0.0994, self.error_std=0.2017, self.latent_error_mu_=0.0087, self.latent_error_sigma_=0.0119; alpha = 1.0000\n",
      "Current experiment parameters: ('20_letter', 0.0, 2), model: Customized, metrics: {'aucroc': 0.9976958525345622, 'aucpr': 0.9727682347906805}, fitting time: 372.4022810459137, inference time: 0.002002239227294922\n"
     ]
    },
    {
     "name": "stderr",
     "output_type": "stream",
     "text": [
      "338it [5:42:30, 48.79s/it]"
     ]
    },
    {
     "name": "stdout",
     "output_type": "stream",
     "text": [
      "\n",
      "Model performance:\n",
      "Reconstruction AUCROC=0.9987; AUCPR=0.9833\n",
      "Deviation AUCROC=0.9660; AUCPR=0.6761\n",
      "Max(rec, dev) AUCROC=0.9987; AUCPR=0.9833\n",
      "\n",
      "Sum of squared error AUCROC=0.9986; AUCPR=0.9827\n",
      "\n",
      "Transformer selector AUCROC=0.4391; AUCPR=0.0588\n",
      "\n",
      "{'Samples': 2000, 'Features': 32, 'Anomalies': 128, 'Anomalies Ratio(%)': 6.4}\n",
      "epoch : 1/5000, loss = 21.400496\n",
      "epoch : 1000/5000, loss = 0.400027\n",
      "epoch : 2000/5000, loss = 0.298707\n",
      "epoch : 3000/5000, loss = 0.234611\n",
      "epoch : 4000/5000, loss = 0.200812\n",
      "epoch : 5000/5000, loss = 0.179476\n",
      "self.error_median=0.0223, self.error_range=0.0854, self.latent_error_median_=0.0040, self.latent_error_range_=0.0095\n",
      "Model result scaling scheme:  True\n",
      "Latent dim= 16. Weight Decay = 0.000001\n",
      "Using cuda\n",
      "self.error_mu=0.0809, self.error_std=0.1583, self.latent_error_mu_=0.0074, self.latent_error_sigma_=0.0091; alpha = 1.0000\n",
      "Current experiment parameters: ('20_letter', 0.0, 3), model: Customized, metrics: {'aucroc': 0.9952706499344446, 'aucpr': 0.919667602812544}, fitting time: 372.77333664894104, inference time: 0.0019652843475341797\n"
     ]
    },
    {
     "name": "stderr",
     "output_type": "stream",
     "text": [
      "339it [5:48:43, 65.86s/it]"
     ]
    },
    {
     "name": "stdout",
     "output_type": "stream",
     "text": [
      "\n",
      "Model performance:\n",
      "Reconstruction AUCROC=0.9973; AUCPR=0.9534\n",
      "Deviation AUCROC=0.9601; AUCPR=0.5087\n",
      "Max(rec, dev) AUCROC=0.9973; AUCPR=0.9534\n",
      "\n",
      "Sum of squared error AUCROC=0.9973; AUCPR=0.9534\n",
      "\n",
      "Transformer selector AUCROC=0.4744; AUCPR=0.0560\n",
      "\n",
      "{'Samples': 1831, 'Features': 21, 'Anomalies': 176, 'Anomalies Ratio(%)': 9.61}\n",
      "epoch : 1/5000, loss = 10.127053\n",
      "epoch : 1000/5000, loss = 0.341129\n",
      "epoch : 2000/5000, loss = 0.243072\n",
      "epoch : 3000/5000, loss = 0.158295\n",
      "epoch : 4000/5000, loss = 0.128490\n",
      "epoch : 5000/5000, loss = 0.166999\n",
      "self.error_median=0.0312, self.error_range=0.0798, self.latent_error_median_=0.0084, self.latent_error_range_=0.0092\n",
      "Model result scaling scheme:  True\n",
      "Latent dim= 16. Weight Decay = 0.000001\n",
      "Using cuda\n",
      "self.error_mu=0.0689, self.error_std=0.0936, self.latent_error_mu_=0.0116, self.latent_error_sigma_=0.0102; alpha = 1.0000\n",
      "Current experiment parameters: ('6_cardio', 0.0, 1), model: Customized, metrics: {'aucroc': 0.929957101097149, 'aucpr': 0.5120004200485515}, fitting time: 373.25578260421753, inference time: 0.0019943714141845703\n"
     ]
    },
    {
     "name": "stderr",
     "output_type": "stream",
     "text": [
      "361it [5:54:57, 35.39s/it]"
     ]
    },
    {
     "name": "stdout",
     "output_type": "stream",
     "text": [
      "\n",
      "Model performance:\n",
      "Reconstruction AUCROC=0.9543; AUCPR=0.6416\n",
      "Deviation AUCROC=0.8324; AUCPR=0.3031\n",
      "Max(rec, dev) AUCROC=0.9543; AUCPR=0.6416\n",
      "\n",
      "Sum of squared error AUCROC=0.9539; AUCPR=0.6404\n",
      "\n",
      "Transformer selector AUCROC=0.5666; AUCPR=0.1002\n",
      "\n",
      "{'Samples': 1831, 'Features': 21, 'Anomalies': 176, 'Anomalies Ratio(%)': 9.61}\n",
      "epoch : 1/5000, loss = 7.133309\n",
      "epoch : 1000/5000, loss = 0.410843\n",
      "epoch : 2000/5000, loss = 0.230754\n",
      "epoch : 3000/5000, loss = 0.162868\n",
      "epoch : 4000/5000, loss = 0.117897\n",
      "epoch : 5000/5000, loss = 0.098819\n",
      "self.error_median=0.0119, self.error_range=0.0405, self.latent_error_median_=0.0052, self.latent_error_range_=0.0076\n",
      "Model result scaling scheme:  True\n",
      "Latent dim= 16. Weight Decay = 0.000001\n",
      "Using cuda\n",
      "self.error_mu=0.0373, self.error_std=0.0656, self.latent_error_mu_=0.0078, self.latent_error_sigma_=0.0077; alpha = 1.0000\n",
      "Current experiment parameters: ('6_cardio', 0.0, 2), model: Customized, metrics: {'aucroc': 0.9761208762005997, 'aucpr': 0.7391906095524422}, fitting time: 372.86179399490356, inference time: 0.0020017623901367188\n"
     ]
    },
    {
     "name": "stderr",
     "output_type": "stream",
     "text": [
      "362it [6:01:10, 48.53s/it]"
     ]
    },
    {
     "name": "stdout",
     "output_type": "stream",
     "text": [
      "\n",
      "Model performance:\n",
      "Reconstruction AUCROC=0.9811; AUCPR=0.7793\n",
      "Deviation AUCROC=0.9264; AUCPR=0.5709\n",
      "Max(rec, dev) AUCROC=0.9811; AUCPR=0.7793\n",
      "\n",
      "Sum of squared error AUCROC=0.9807; AUCPR=0.7763\n",
      "\n",
      "Transformer selector AUCROC=0.5752; AUCPR=0.1040\n",
      "\n",
      "{'Samples': 1831, 'Features': 21, 'Anomalies': 176, 'Anomalies Ratio(%)': 9.61}\n",
      "epoch : 1/5000, loss = 9.013626\n",
      "epoch : 1000/5000, loss = 0.298259\n",
      "epoch : 2000/5000, loss = 0.210899\n",
      "epoch : 3000/5000, loss = 0.151165\n",
      "epoch : 4000/5000, loss = 0.138863\n",
      "epoch : 5000/5000, loss = 0.090098\n",
      "self.error_median=0.0127, self.error_range=0.0383, self.latent_error_median_=0.0043, self.latent_error_range_=0.0063\n",
      "Model result scaling scheme:  True\n",
      "Latent dim= 16. Weight Decay = 0.000001\n",
      "Using cuda\n",
      "self.error_mu=0.0392, self.error_std=0.0710, self.latent_error_mu_=0.0063, self.latent_error_sigma_=0.0061; alpha = 1.0000\n",
      "Current experiment parameters: ('6_cardio', 0.0, 3), model: Customized, metrics: {'aucroc': 0.9705781860977184, 'aucpr': 0.7365843130216664}, fitting time: 372.72679901123047, inference time: 0.00201416015625\n"
     ]
    },
    {
     "name": "stderr",
     "output_type": "stream",
     "text": [
      "363it [6:07:23, 65.61s/it]"
     ]
    },
    {
     "name": "stdout",
     "output_type": "stream",
     "text": [
      "\n",
      "Model performance:\n",
      "Reconstruction AUCROC=0.9770; AUCPR=0.7700\n",
      "Deviation AUCROC=0.9147; AUCPR=0.4587\n",
      "Max(rec, dev) AUCROC=0.9770; AUCPR=0.7700\n",
      "\n",
      "Sum of squared error AUCROC=0.9766; AUCPR=0.7690\n",
      "\n",
      "Transformer selector AUCROC=0.4220; AUCPR=0.0818\n",
      "\n",
      "{'Samples': 2000, 'Features': 27, 'Anomalies': 693, 'Anomalies Ratio(%)': 34.65}\n",
      "epoch : 1/5000, loss = 12.224133\n",
      "epoch : 1000/5000, loss = 0.713765\n",
      "epoch : 2000/5000, loss = 0.660219\n",
      "epoch : 3000/5000, loss = 0.362518\n",
      "epoch : 4000/5000, loss = 0.257076\n",
      "epoch : 5000/5000, loss = 0.458591\n",
      "self.error_median=0.0271, self.error_range=0.2459, self.latent_error_median_=0.0798, self.latent_error_range_=0.0814\n",
      "Model result scaling scheme:  True\n",
      "Latent dim= 16. Weight Decay = 0.000001\n",
      "Using cuda\n",
      "self.error_mu=0.1273, self.error_std=0.1773, self.latent_error_mu_=0.0905, self.latent_error_sigma_=0.0452; alpha = 1.0000\n",
      "Current experiment parameters: ('12_fault', 0.0, 1), model: Customized, metrics: {'aucroc': 0.9787578492935636, 'aucpr': 0.9368848694224698}, fitting time: 372.95992708206177, inference time: 0.001995086669921875\n"
     ]
    },
    {
     "name": "stderr",
     "output_type": "stream",
     "text": [
      "385it [6:13:36, 35.29s/it]"
     ]
    },
    {
     "name": "stdout",
     "output_type": "stream",
     "text": [
      "\n",
      "Model performance:\n",
      "Reconstruction AUCROC=0.9917; AUCPR=0.9732\n",
      "Deviation AUCROC=0.9017; AUCPR=0.7276\n",
      "Max(rec, dev) AUCROC=0.9869; AUCPR=0.9649\n",
      "\n",
      "Sum of squared error AUCROC=0.9895; AUCPR=0.9680\n",
      "\n",
      "Transformer selector AUCROC=0.5789; AUCPR=0.5819\n",
      "\n",
      "{'Samples': 2000, 'Features': 27, 'Anomalies': 698, 'Anomalies Ratio(%)': 34.9}\n",
      "epoch : 1/5000, loss = 9.716219\n",
      "epoch : 1000/5000, loss = 0.796408\n",
      "epoch : 2000/5000, loss = 0.462136\n",
      "epoch : 3000/5000, loss = 0.360684\n",
      "epoch : 4000/5000, loss = 0.295384\n",
      "epoch : 5000/5000, loss = 0.236870\n",
      "self.error_median=0.0235, self.error_range=0.1763, self.latent_error_median_=0.0070, self.latent_error_range_=0.0161\n",
      "Model result scaling scheme:  True\n",
      "Latent dim= 16. Weight Decay = 0.000001\n",
      "Using cuda\n",
      "self.error_mu=0.1018, self.error_std=0.1480, self.latent_error_mu_=0.0104, self.latent_error_sigma_=0.0094; alpha = 1.0000\n",
      "Current experiment parameters: ('12_fault', 0.0, 2), model: Customized, metrics: {'aucroc': 0.9780467210807768, 'aucpr': 0.9273781115169902}, fitting time: 373.110857963562, inference time: 0.0019948482513427734\n"
     ]
    },
    {
     "name": "stderr",
     "output_type": "stream",
     "text": [
      "386it [6:19:49, 48.44s/it]"
     ]
    },
    {
     "name": "stdout",
     "output_type": "stream",
     "text": [
      "\n",
      "Model performance:\n",
      "Reconstruction AUCROC=0.9773; AUCPR=0.9443\n",
      "Deviation AUCROC=0.9606; AUCPR=0.8698\n",
      "Max(rec, dev) AUCROC=0.9773; AUCPR=0.9443\n",
      "\n",
      "Sum of squared error AUCROC=0.9773; AUCPR=0.9441\n",
      "\n",
      "Transformer selector AUCROC=0.5858; AUCPR=0.3609\n",
      "\n",
      "{'Samples': 2000, 'Features': 27, 'Anomalies': 699, 'Anomalies Ratio(%)': 34.95}\n",
      "epoch : 1/5000, loss = 11.273815\n",
      "epoch : 1000/5000, loss = 0.613155\n",
      "epoch : 2000/5000, loss = 0.386209\n",
      "epoch : 3000/5000, loss = 0.217597\n",
      "epoch : 4000/5000, loss = 0.164506\n",
      "epoch : 5000/5000, loss = 0.146511\n",
      "self.error_median=0.0110, self.error_range=0.1068, self.latent_error_median_=0.0056, self.latent_error_range_=0.0149\n",
      "Model result scaling scheme:  True\n",
      "Latent dim= 16. Weight Decay = 0.000001\n",
      "Using cuda\n",
      "self.error_mu=0.0765, self.error_std=0.3878, self.latent_error_mu_=0.0092, self.latent_error_sigma_=0.0089; alpha = 1.0000\n",
      "Current experiment parameters: ('12_fault', 0.0, 3), model: Customized, metrics: {'aucroc': 0.9863247863247864, 'aucpr': 0.95521426293064}, fitting time: 376.98562479019165, inference time: 0.001993894577026367\n"
     ]
    },
    {
     "name": "stderr",
     "output_type": "stream",
     "text": [
      "387it [6:26:06, 65.75s/it]"
     ]
    },
    {
     "name": "stdout",
     "output_type": "stream",
     "text": [
      "\n",
      "Model performance:\n",
      "Reconstruction AUCROC=0.9868; AUCPR=0.9544\n",
      "Deviation AUCROC=0.9725; AUCPR=0.9289\n",
      "Max(rec, dev) AUCROC=0.9868; AUCPR=0.9544\n",
      "\n",
      "Sum of squared error AUCROC=0.9869; AUCPR=0.9549\n",
      "\n",
      "Transformer selector AUCROC=0.5912; AUCPR=0.3696\n",
      "\n"
     ]
    },
    {
     "name": "stderr",
     "output_type": "stream",
     "text": [
      "d:\\conda\\venv\\adbench\\Lib\\site-packages\\copulas\\multivariate\\vine.py:73: UserWarning: Vines have not been fully tested on Python >= 3.8 and might produce wrong results.\n",
      "  warnings.warn(\n",
      "d:\\conda\\venv\\adbench\\Lib\\site-packages\\copulas\\bivariate\\base.py:162: RuntimeWarning: Data does not appear to be uniform.\n",
      "  warnings.warn('Data does not appear to be uniform.', category=RuntimeWarning)\n",
      "409it [6:26:09, 24.84s/it]"
     ]
    },
    {
     "name": "stdout",
     "output_type": "stream",
     "text": [
      "Error when generating data: Constant column.\n"
     ]
    },
    {
     "name": "stderr",
     "output_type": "stream",
     "text": [
      "410it [6:26:12, 23.97s/it]"
     ]
    },
    {
     "name": "stdout",
     "output_type": "stream",
     "text": [
      "Error when generating data: Constant column.\n"
     ]
    },
    {
     "name": "stderr",
     "output_type": "stream",
     "text": [
      "411it [6:26:14, 22.85s/it]"
     ]
    },
    {
     "name": "stdout",
     "output_type": "stream",
     "text": [
      "Error when generating data: Constant column.\n",
      "{'Samples': 2114, 'Features': 21, 'Anomalies': 466, 'Anomalies Ratio(%)': 22.04}\n",
      "epoch : 1/5000, loss = 7.973547\n",
      "epoch : 1000/5000, loss = 0.253378\n",
      "epoch : 2000/5000, loss = 0.212471\n",
      "epoch : 3000/5000, loss = 0.125937\n",
      "epoch : 4000/5000, loss = 0.088657\n",
      "epoch : 5000/5000, loss = 0.064942\n",
      "self.error_median=0.0074, self.error_range=0.0291, self.latent_error_median_=0.0042, self.latent_error_range_=0.0070\n",
      "Model result scaling scheme:  True\n",
      "Latent dim= 16. Weight Decay = 0.000001\n",
      "Using cuda\n",
      "self.error_mu=0.0272, self.error_std=0.0567, self.latent_error_mu_=0.0061, self.latent_error_sigma_=0.0062; alpha = 1.0000\n",
      "Current experiment parameters: ('7_Cardiotocography', 0.0, 1), model: Customized, metrics: {'aucroc': 0.9519769119769119, 'aucpr': 0.82462651168922}, fitting time: 363.04842233657837, inference time: 0.0019843578338623047\n"
     ]
    },
    {
     "name": "stderr",
     "output_type": "stream",
     "text": [
      "433it [6:32:18, 18.90s/it]"
     ]
    },
    {
     "name": "stdout",
     "output_type": "stream",
     "text": [
      "\n",
      "Model performance:\n",
      "Reconstruction AUCROC=0.9652; AUCPR=0.8646\n",
      "Deviation AUCROC=0.8698; AUCPR=0.5816\n",
      "Max(rec, dev) AUCROC=0.9651; AUCPR=0.8646\n",
      "\n",
      "Sum of squared error AUCROC=0.9640; AUCPR=0.8620\n",
      "\n",
      "Transformer selector AUCROC=0.4895; AUCPR=0.2019\n",
      "\n",
      "{'Samples': 2114, 'Features': 21, 'Anomalies': 466, 'Anomalies Ratio(%)': 22.04}\n",
      "epoch : 1/5000, loss = 6.306753\n",
      "epoch : 1000/5000, loss = 0.354123\n",
      "epoch : 2000/5000, loss = 0.189237\n",
      "epoch : 3000/5000, loss = 0.140814\n",
      "epoch : 4000/5000, loss = 0.098657\n",
      "epoch : 5000/5000, loss = 0.078109\n",
      "self.error_median=0.0096, self.error_range=0.0465, self.latent_error_median_=0.0041, self.latent_error_range_=0.0067\n",
      "Model result scaling scheme:  True\n",
      "Latent dim= 16. Weight Decay = 0.000001\n",
      "Using cuda\n",
      "self.error_mu=0.0332, self.error_std=0.0570, self.latent_error_mu_=0.0061, self.latent_error_sigma_=0.0055; alpha = 1.0000\n",
      "Current experiment parameters: ('7_Cardiotocography', 0.0, 2), model: Customized, metrics: {'aucroc': 0.9508080808080808, 'aucpr': 0.7911736587496683}, fitting time: 366.7174491882324, inference time: 0.001995086669921875\n"
     ]
    },
    {
     "name": "stderr",
     "output_type": "stream",
     "text": [
      "434it [6:38:25, 32.44s/it]"
     ]
    },
    {
     "name": "stdout",
     "output_type": "stream",
     "text": [
      "\n",
      "Model performance:\n",
      "Reconstruction AUCROC=0.9705; AUCPR=0.8847\n",
      "Deviation AUCROC=0.8598; AUCPR=0.5119\n",
      "Max(rec, dev) AUCROC=0.9705; AUCPR=0.8847\n",
      "\n",
      "Sum of squared error AUCROC=0.9700; AUCPR=0.8822\n",
      "\n",
      "Transformer selector AUCROC=0.5019; AUCPR=0.3622\n",
      "\n",
      "{'Samples': 2114, 'Features': 21, 'Anomalies': 466, 'Anomalies Ratio(%)': 22.04}\n",
      "epoch : 1/5000, loss = 7.113643\n",
      "epoch : 1000/5000, loss = 1.008609\n",
      "epoch : 2000/5000, loss = 0.232827\n",
      "epoch : 3000/5000, loss = 0.151207\n",
      "epoch : 4000/5000, loss = 0.112892\n",
      "epoch : 5000/5000, loss = 0.081878\n",
      "self.error_median=0.0108, self.error_range=0.0426, self.latent_error_median_=0.0049, self.latent_error_range_=0.0088\n",
      "Model result scaling scheme:  True\n",
      "Latent dim= 16. Weight Decay = 0.000001\n",
      "Using cuda\n",
      "self.error_mu=0.0326, self.error_std=0.0551, self.latent_error_mu_=0.0077, self.latent_error_sigma_=0.0075; alpha = 1.0000\n",
      "Current experiment parameters: ('7_Cardiotocography', 0.0, 3), model: Customized, metrics: {'aucroc': 0.9522943722943723, 'aucpr': 0.7829931033516906}, fitting time: 366.3010754585266, inference time: 0.001994609832763672\n"
     ]
    },
    {
     "name": "stderr",
     "output_type": "stream",
     "text": [
      "435it [6:44:31, 50.03s/it]"
     ]
    },
    {
     "name": "stdout",
     "output_type": "stream",
     "text": [
      "\n",
      "Model performance:\n",
      "Reconstruction AUCROC=0.9619; AUCPR=0.8221\n",
      "Deviation AUCROC=0.9062; AUCPR=0.6267\n",
      "Max(rec, dev) AUCROC=0.9618; AUCPR=0.8219\n",
      "\n",
      "Sum of squared error AUCROC=0.9614; AUCPR=0.8204\n",
      "\n",
      "Transformer selector AUCROC=0.5072; AUCPR=0.2099\n",
      "\n",
      "{'Samples': 3062, 'Features': 50, 'Anomalies': 97, 'Anomalies Ratio(%)': 3.17}\n",
      "epoch : 1/5000, loss = 35.666035\n",
      "epoch : 1000/5000, loss = 0.839644\n",
      "epoch : 2000/5000, loss = 0.619388\n",
      "epoch : 3000/5000, loss = 0.529891\n",
      "epoch : 4000/5000, loss = 0.574379\n",
      "epoch : 5000/5000, loss = 0.463810\n",
      "self.error_median=0.0708, self.error_range=0.2103, self.latent_error_median_=0.0100, self.latent_error_range_=0.0131\n",
      "Model result scaling scheme:  True\n",
      "Latent dim= 16. Weight Decay = 0.000001\n",
      "Using cuda\n",
      "self.error_mu=0.1966, self.error_std=0.3794, self.latent_error_mu_=0.0141, self.latent_error_sigma_=0.0125; alpha = 1.0000\n",
      "Current experiment parameters: ('25_musk', 0.0, 1), model: Customized, metrics: {'aucroc': 0.998798915149167, 'aucpr': 0.9107728377367919}, fitting time: 352.3223204612732, inference time: 0.001994609832763672\n"
     ]
    },
    {
     "name": "stderr",
     "output_type": "stream",
     "text": [
      "457it [6:50:24, 28.84s/it]"
     ]
    },
    {
     "name": "stdout",
     "output_type": "stream",
     "text": [
      "\n",
      "Model performance:\n",
      "Reconstruction AUCROC=0.9989; AUCPR=0.9140\n",
      "Deviation AUCROC=0.9641; AUCPR=0.6376\n",
      "Max(rec, dev) AUCROC=0.9989; AUCPR=0.9140\n",
      "\n",
      "Sum of squared error AUCROC=0.9989; AUCPR=0.9140\n",
      "\n",
      "Transformer selector AUCROC=0.5543; AUCPR=0.0334\n",
      "\n",
      "{'Samples': 3062, 'Features': 50, 'Anomalies': 97, 'Anomalies Ratio(%)': 3.17}\n",
      "epoch : 1/5000, loss = 32.267376\n",
      "epoch : 1000/5000, loss = 1.519214\n",
      "epoch : 2000/5000, loss = 0.898813\n",
      "epoch : 3000/5000, loss = 0.711319\n",
      "epoch : 4000/5000, loss = 0.619714\n",
      "epoch : 5000/5000, loss = 0.578389\n",
      "self.error_median=0.1351, self.error_range=0.2258, self.latent_error_median_=0.0202, self.latent_error_range_=0.0146\n",
      "Model result scaling scheme:  True\n",
      "Latent dim= 16. Weight Decay = 0.000001\n",
      "Using cuda\n",
      "self.error_mu=0.2443, self.error_std=0.3460, self.latent_error_mu_=0.0222, self.latent_error_sigma_=0.0102; alpha = 1.0000\n",
      "Current experiment parameters: ('25_musk', 0.0, 2), model: Customized, metrics: {'aucroc': 0.9987601704765595, 'aucpr': 0.9545476915547491}, fitting time: 349.1359190940857, inference time: 0.0019943714141845703\n"
     ]
    },
    {
     "name": "stderr",
     "output_type": "stream",
     "text": [
      "458it [6:56:13, 41.30s/it]"
     ]
    },
    {
     "name": "stdout",
     "output_type": "stream",
     "text": [
      "\n",
      "Model performance:\n",
      "Reconstruction AUCROC=0.9995; AUCPR=0.9880\n",
      "Deviation AUCROC=0.8109; AUCPR=0.1528\n",
      "Max(rec, dev) AUCROC=0.9995; AUCPR=0.9880\n",
      "\n",
      "Sum of squared error AUCROC=0.9995; AUCPR=0.9880\n",
      "\n",
      "Transformer selector AUCROC=0.5103; AUCPR=0.0310\n",
      "\n"
     ]
    },
    {
     "name": "stderr",
     "output_type": "stream",
     "text": [
      "d:\\conda\\venv\\adbench\\Lib\\site-packages\\copulas\\multivariate\\vine.py:73: UserWarning: Vines have not been fully tested on Python >= 3.8 and might produce wrong results.\n",
      "  warnings.warn(\n",
      "d:\\conda\\venv\\adbench\\Lib\\site-packages\\copulas\\bivariate\\base.py:162: RuntimeWarning: Data does not appear to be uniform.\n",
      "  warnings.warn('Data does not appear to be uniform.', category=RuntimeWarning)\n",
      "459it [7:07:28, 74.68s/it]"
     ]
    },
    {
     "name": "stdout",
     "output_type": "stream",
     "text": [
      "Error when generating data: f(a) and f(b) must have different signs\n",
      "{'Samples': 3443, 'Features': 21, 'Anomalies': 100, 'Anomalies Ratio(%)': 2.9}\n",
      "epoch : 1/5000, loss = 13.443998\n",
      "epoch : 1000/5000, loss = 0.322548\n",
      "epoch : 2000/5000, loss = 0.213987\n",
      "epoch : 3000/5000, loss = 0.170303\n",
      "epoch : 4000/5000, loss = 0.141835\n",
      "epoch : 5000/5000, loss = 0.118184\n",
      "self.error_median=0.0302, self.error_range=0.0596, self.latent_error_median_=0.0056, self.latent_error_range_=0.0061\n",
      "Model result scaling scheme:  True\n",
      "Latent dim= 16. Weight Decay = 0.000001\n",
      "Using cuda\n",
      "self.error_mu=0.0523, self.error_std=0.0661, self.latent_error_mu_=0.0073, self.latent_error_sigma_=0.0057; alpha = 1.0000\n",
      "Current experiment parameters: ('41_Waveform', 0.0, 1), model: Customized, metrics: {'aucroc': 0.9875373878364906, 'aucpr': 0.6855501667848551}, fitting time: 351.7744810581207, inference time: 0.0019931793212890625\n"
     ]
    },
    {
     "name": "stderr",
     "output_type": "stream",
     "text": [
      "481it [7:13:20, 38.11s/it]"
     ]
    },
    {
     "name": "stdout",
     "output_type": "stream",
     "text": [
      "\n",
      "Model performance:\n",
      "Reconstruction AUCROC=0.9905; AUCPR=0.8054\n",
      "Deviation AUCROC=0.9359; AUCPR=0.3052\n",
      "Max(rec, dev) AUCROC=0.9905; AUCPR=0.8054\n",
      "\n",
      "Sum of squared error AUCROC=0.9905; AUCPR=0.8043\n",
      "\n",
      "Transformer selector AUCROC=0.4701; AUCPR=0.0292\n",
      "\n",
      "{'Samples': 3443, 'Features': 21, 'Anomalies': 100, 'Anomalies Ratio(%)': 2.9}\n",
      "epoch : 1/5000, loss = 13.216715\n",
      "epoch : 1000/5000, loss = 0.249612\n",
      "epoch : 2000/5000, loss = 0.174605\n",
      "epoch : 3000/5000, loss = 0.124991\n",
      "epoch : 4000/5000, loss = 0.096919\n",
      "epoch : 5000/5000, loss = 0.075673\n",
      "self.error_median=0.0158, self.error_range=0.0343, self.latent_error_median_=0.0045, self.latent_error_range_=0.0051\n",
      "Model result scaling scheme:  True\n",
      "Latent dim= 16. Weight Decay = 0.000001\n",
      "Using cuda\n",
      "self.error_mu=0.0313, self.error_std=0.0450, self.latent_error_mu_=0.0059, self.latent_error_sigma_=0.0047; alpha = 1.0000\n",
      "Current experiment parameters: ('41_Waveform', 0.0, 2), model: Customized, metrics: {'aucroc': 0.9907610501827849, 'aucpr': 0.8180645086767137}, fitting time: 353.0003299713135, inference time: 0.0019876956939697266\n"
     ]
    },
    {
     "name": "stderr",
     "output_type": "stream",
     "text": [
      "482it [7:19:14, 50.36s/it]"
     ]
    },
    {
     "name": "stdout",
     "output_type": "stream",
     "text": [
      "\n",
      "Model performance:\n",
      "Reconstruction AUCROC=0.9912; AUCPR=0.7935\n",
      "Deviation AUCROC=0.9322; AUCPR=0.4885\n",
      "Max(rec, dev) AUCROC=0.9912; AUCPR=0.7935\n",
      "\n",
      "Sum of squared error AUCROC=0.9914; AUCPR=0.7961\n",
      "\n",
      "Transformer selector AUCROC=0.4515; AUCPR=0.0700\n",
      "\n",
      "{'Samples': 3443, 'Features': 21, 'Anomalies': 100, 'Anomalies Ratio(%)': 2.9}\n",
      "epoch : 1/5000, loss = 56.325661\n",
      "epoch : 1000/5000, loss = 0.546161\n",
      "epoch : 2000/5000, loss = 0.207695\n",
      "epoch : 3000/5000, loss = 0.167811\n",
      "epoch : 4000/5000, loss = 0.140158\n",
      "epoch : 5000/5000, loss = 0.089610\n",
      "self.error_median=0.0213, self.error_range=0.0398, self.latent_error_median_=0.0062, self.latent_error_range_=0.0071\n",
      "Model result scaling scheme:  True\n",
      "Latent dim= 16. Weight Decay = 0.000001\n",
      "Using cuda\n",
      "self.error_mu=0.0379, self.error_std=0.0482, self.latent_error_mu_=0.0079, self.latent_error_sigma_=0.0058; alpha = 1.0000\n",
      "Current experiment parameters: ('41_Waveform', 0.0, 3), model: Customized, metrics: {'aucroc': 0.9888002658690596, 'aucpr': 0.7177399667095088}, fitting time: 354.4807834625244, inference time: 0.0029921531677246094\n",
      "\n",
      "Model performance:\n",
      "Reconstruction AUCROC=0.9905; AUCPR=0.8145\n",
      "Deviation AUCROC=0.9053; AUCPR=0.3131\n",
      "Max(rec, dev) AUCROC=0.9905; AUCPR=0.8145\n",
      "\n",
      "Sum of squared error AUCROC=0.9905; AUCPR=0.8145\n",
      "\n"
     ]
    },
    {
     "name": "stderr",
     "output_type": "stream",
     "text": [
      "483it [7:25:08, 66.39s/it]"
     ]
    },
    {
     "name": "stdout",
     "output_type": "stream",
     "text": [
      "Transformer selector AUCROC=0.5545; AUCPR=0.0456\n",
      "\n",
      "{'Samples': 3686, 'Features': 50, 'Anomalies': 61, 'Anomalies Ratio(%)': 1.65}\n",
      "epoch : 1/5000, loss = 39.125725\n",
      "epoch : 1000/5000, loss = 0.233394\n",
      "epoch : 2000/5000, loss = 0.170435\n",
      "epoch : 3000/5000, loss = 0.094635\n",
      "epoch : 4000/5000, loss = 0.162674\n",
      "epoch : 5000/5000, loss = 0.158280\n",
      "self.error_median=0.0288, self.error_range=0.0818, self.latent_error_median_=0.0026, self.latent_error_range_=0.0074\n",
      "Model result scaling scheme:  True\n",
      "Latent dim= 16. Weight Decay = 0.000001\n",
      "Using cuda\n",
      "self.error_mu=0.0744, self.error_std=0.1699, self.latent_error_mu_=0.0053, self.latent_error_sigma_=0.0082; alpha = 1.0000\n",
      "Current experiment parameters: ('36_speech', 0.0, 1), model: Customized, metrics: {'aucroc': 0.9984170751633986, 'aucpr': 0.9025298574211619}, fitting time: 350.2215533256531, inference time: 0.0009686946868896484\n"
     ]
    },
    {
     "name": "stderr",
     "output_type": "stream",
     "text": [
      "505it [7:30:59, 34.94s/it]"
     ]
    },
    {
     "name": "stdout",
     "output_type": "stream",
     "text": [
      "\n",
      "Model performance:\n",
      "Reconstruction AUCROC=1.0000; AUCPR=1.0000\n",
      "Deviation AUCROC=0.9006; AUCPR=0.0859\n",
      "Max(rec, dev) AUCROC=1.0000; AUCPR=1.0000\n",
      "\n",
      "Sum of squared error AUCROC=1.0000; AUCPR=1.0000\n",
      "\n",
      "Transformer selector AUCROC=0.4046; AUCPR=0.0132\n",
      "\n",
      "{'Samples': 3686, 'Features': 50, 'Anomalies': 61, 'Anomalies Ratio(%)': 1.65}\n",
      "epoch : 1/5000, loss = 40.982754\n",
      "epoch : 1000/5000, loss = 0.246293\n",
      "epoch : 2000/5000, loss = 0.217642\n",
      "epoch : 3000/5000, loss = 0.180640\n",
      "epoch : 4000/5000, loss = 0.165187\n",
      "epoch : 5000/5000, loss = 0.146409\n",
      "self.error_median=0.0293, self.error_range=0.0767, self.latent_error_median_=0.0029, self.latent_error_range_=0.0074\n",
      "Model result scaling scheme:  True\n",
      "Latent dim= 16. Weight Decay = 0.000001\n",
      "Using cuda\n",
      "self.error_mu=0.0698, self.error_std=0.1474, self.latent_error_mu_=0.0052, self.latent_error_sigma_=0.0066; alpha = 1.0000\n",
      "Current experiment parameters: ('36_speech', 0.0, 2), model: Customized, metrics: {'aucroc': 0.9997446895424836, 'aucpr': 0.9835457038565913}, fitting time: 346.63893938064575, inference time: 0.0019943714141845703\n"
     ]
    },
    {
     "name": "stderr",
     "output_type": "stream",
     "text": [
      "506it [7:36:46, 47.08s/it]"
     ]
    },
    {
     "name": "stdout",
     "output_type": "stream",
     "text": [
      "\n",
      "Model performance:\n",
      "Reconstruction AUCROC=1.0000; AUCPR=1.0000\n",
      "Deviation AUCROC=0.9437; AUCPR=0.2153\n",
      "Max(rec, dev) AUCROC=1.0000; AUCPR=1.0000\n",
      "\n",
      "Sum of squared error AUCROC=1.0000; AUCPR=1.0000\n",
      "\n",
      "Transformer selector AUCROC=0.3832; AUCPR=0.0129\n",
      "\n",
      "{'Samples': 3686, 'Features': 50, 'Anomalies': 61, 'Anomalies Ratio(%)': 1.65}\n",
      "epoch : 1/5000, loss = 36.693302\n",
      "epoch : 1000/5000, loss = 0.313055\n",
      "epoch : 2000/5000, loss = 0.214812\n",
      "epoch : 3000/5000, loss = 0.192217\n",
      "epoch : 4000/5000, loss = 0.173708\n",
      "epoch : 5000/5000, loss = 0.148328\n",
      "self.error_median=0.0265, self.error_range=0.0819, self.latent_error_median_=0.0028, self.latent_error_range_=0.0068\n",
      "Model result scaling scheme:  True\n",
      "Latent dim= 16. Weight Decay = 0.000001\n",
      "Using cuda\n",
      "self.error_mu=0.0706, self.error_std=0.1646, self.latent_error_mu_=0.0054, self.latent_error_sigma_=0.0072; alpha = 1.0000\n",
      "Current experiment parameters: ('36_speech', 0.0, 3), model: Customized, metrics: {'aucroc': 1.0, 'aucpr': 1.0}, fitting time: 346.4838843345642, inference time: 0.001994609832763672\n"
     ]
    },
    {
     "name": "stderr",
     "output_type": "stream",
     "text": [
      "507it [7:42:33, 62.86s/it]"
     ]
    },
    {
     "name": "stdout",
     "output_type": "stream",
     "text": [
      "\n",
      "Model performance:\n",
      "Reconstruction AUCROC=1.0000; AUCPR=1.0000\n",
      "Deviation AUCROC=0.9716; AUCPR=0.3320\n",
      "Max(rec, dev) AUCROC=1.0000; AUCPR=1.0000\n",
      "\n",
      "Sum of squared error AUCROC=1.0000; AUCPR=1.0000\n",
      "\n",
      "Transformer selector AUCROC=0.3640; AUCPR=0.0125\n",
      "\n",
      "{'Samples': 3772, 'Features': 6, 'Anomalies': 93, 'Anomalies Ratio(%)': 2.47}\n",
      "epoch : 1/5000, loss = 1.677252\n",
      "epoch : 1000/5000, loss = 0.019768\n",
      "epoch : 2000/5000, loss = 0.008504\n",
      "epoch : 3000/5000, loss = 0.002907\n",
      "epoch : 4000/5000, loss = 0.002728\n",
      "epoch : 5000/5000, loss = 0.006998\n",
      "self.error_median=0.0018, self.error_range=0.0012, self.latent_error_median_=0.0003, self.latent_error_range_=0.0008\n",
      "Model result scaling scheme:  True\n",
      "Latent dim= 6. Weight Decay = 0.000001\n",
      "Using cuda\n",
      "self.error_mu=0.0019, self.error_std=0.0009, self.latent_error_mu_=0.0006, self.latent_error_sigma_=0.0009; alpha = 1.0000\n",
      "Current experiment parameters: ('38_thyroid', 0.0, 1), model: Customized, metrics: {'aucroc': 0.6646286231884058, 'aucpr': 0.04637081304868958}, fitting time: 353.6224341392517, inference time: 0.0019991397857666016\n"
     ]
    },
    {
     "name": "stderr",
     "output_type": "stream",
     "text": [
      "529it [7:48:26, 33.70s/it]"
     ]
    },
    {
     "name": "stdout",
     "output_type": "stream",
     "text": [
      "\n",
      "Model performance:\n",
      "Reconstruction AUCROC=0.6074; AUCPR=0.0442\n",
      "Deviation AUCROC=0.6457; AUCPR=0.0424\n",
      "Max(rec, dev) AUCROC=0.5961; AUCPR=0.0414\n",
      "\n",
      "Sum of squared error AUCROC=0.6161; AUCPR=0.0430\n",
      "\n",
      "Transformer selector AUCROC=0.5126; AUCPR=0.0245\n",
      "\n",
      "{'Samples': 3772, 'Features': 6, 'Anomalies': 93, 'Anomalies Ratio(%)': 2.47}\n",
      "epoch : 1/5000, loss = 1.758118\n",
      "epoch : 1000/5000, loss = 0.011503\n",
      "epoch : 2000/5000, loss = 0.003349\n",
      "epoch : 3000/5000, loss = 0.002857\n",
      "epoch : 4000/5000, loss = 0.001561\n",
      "epoch : 5000/5000, loss = 0.002188\n",
      "self.error_median=0.0008, self.error_range=0.0004, self.latent_error_median_=0.0002, self.latent_error_range_=0.0005\n",
      "Model result scaling scheme:  True\n",
      "Latent dim= 6. Weight Decay = 0.000001\n",
      "Using cuda\n",
      "self.error_mu=0.0008, self.error_std=0.0003, self.latent_error_mu_=0.0004, self.latent_error_sigma_=0.0008; alpha = 1.0000\n",
      "Current experiment parameters: ('38_thyroid', 0.0, 2), model: Customized, metrics: {'aucroc': 0.6592908902691511, 'aucpr': 0.07780018549127507}, fitting time: 354.9157729148865, inference time: 0.0009915828704833984\n"
     ]
    },
    {
     "name": "stderr",
     "output_type": "stream",
     "text": [
      "530it [7:54:22, 46.21s/it]"
     ]
    },
    {
     "name": "stdout",
     "output_type": "stream",
     "text": [
      "\n",
      "Model performance:\n",
      "Reconstruction AUCROC=0.6398; AUCPR=0.0921\n",
      "Deviation AUCROC=0.6227; AUCPR=0.0415\n",
      "Max(rec, dev) AUCROC=0.6126; AUCPR=0.0763\n",
      "\n",
      "Sum of squared error AUCROC=0.6285; AUCPR=0.0718\n",
      "\n",
      "Transformer selector AUCROC=0.4682; AUCPR=0.0231\n",
      "\n",
      "{'Samples': 3772, 'Features': 6, 'Anomalies': 93, 'Anomalies Ratio(%)': 2.47}\n",
      "epoch : 1/5000, loss = 2.066577\n",
      "epoch : 1000/5000, loss = 0.016465\n",
      "epoch : 2000/5000, loss = 0.005145\n",
      "epoch : 3000/5000, loss = 0.004194\n",
      "epoch : 4000/5000, loss = 0.001467\n",
      "epoch : 5000/5000, loss = 0.001766\n",
      "self.error_median=0.0003, self.error_range=0.0002, self.latent_error_median_=0.0003, self.latent_error_range_=0.0006\n",
      "Model result scaling scheme:  True\n",
      "Latent dim= 6. Weight Decay = 0.000001\n",
      "Using cuda\n",
      "self.error_mu=0.0003, self.error_std=0.0001, self.latent_error_mu_=0.0005, self.latent_error_sigma_=0.0008; alpha = 1.0000\n",
      "Current experiment parameters: ('38_thyroid', 0.0, 3), model: Customized, metrics: {'aucroc': 0.697657867494824, 'aucpr': 0.05817453137513601}, fitting time: 353.5663843154907, inference time: 0.001992940902709961\n"
     ]
    },
    {
     "name": "stderr",
     "output_type": "stream",
     "text": [
      "531it [8:00:15, 62.40s/it]"
     ]
    },
    {
     "name": "stdout",
     "output_type": "stream",
     "text": [
      "\n",
      "Model performance:\n",
      "Reconstruction AUCROC=0.7026; AUCPR=0.0892\n",
      "Deviation AUCROC=0.6439; AUCPR=0.0348\n",
      "Max(rec, dev) AUCROC=0.6642; AUCPR=0.0393\n",
      "\n",
      "Sum of squared error AUCROC=0.6730; AUCPR=0.0417\n",
      "\n",
      "Transformer selector AUCROC=0.3816; AUCPR=0.0207\n",
      "\n",
      "{'Samples': 4207, 'Features': 50, 'Anomalies': 1679, 'Anomalies Ratio(%)': 39.91}\n",
      "epoch : 1/5000, loss = 1.281949\n",
      "epoch : 1000/5000, loss = 0.236566\n",
      "epoch : 2000/5000, loss = 0.228375\n",
      "epoch : 3000/5000, loss = 0.175742\n",
      "epoch : 4000/5000, loss = 0.124601\n",
      "epoch : 5000/5000, loss = 0.140362\n",
      "self.error_median=0.0132, self.error_range=0.0548, self.latent_error_median_=0.0011, self.latent_error_range_=0.0036\n",
      "Model result scaling scheme:  True\n",
      "Latent dim= 16. Weight Decay = 0.000001\n",
      "Using cuda\n",
      "self.error_mu=0.0491, self.error_std=0.1124, self.latent_error_mu_=0.0030, self.latent_error_sigma_=0.0048; alpha = 1.0000\n",
      "Current experiment parameters: ('35_SpamBase', 0.0, 1), model: Customized, metrics: {'aucroc': 0.892946023380806, 'aucpr': 0.8268246683900828}, fitting time: 350.8152446746826, inference time: 0.001995563507080078\n"
     ]
    },
    {
     "name": "stderr",
     "output_type": "stream",
     "text": [
      "553it [8:06:06, 33.45s/it]"
     ]
    },
    {
     "name": "stdout",
     "output_type": "stream",
     "text": [
      "\n",
      "Model performance:\n",
      "Reconstruction AUCROC=0.9409; AUCPR=0.9017\n",
      "Deviation AUCROC=0.7984; AUCPR=0.6956\n",
      "Max(rec, dev) AUCROC=0.9409; AUCPR=0.9017\n",
      "\n",
      "Sum of squared error AUCROC=0.9401; AUCPR=0.9008\n",
      "\n",
      "Transformer selector AUCROC=0.6778; AUCPR=0.4658\n",
      "\n",
      "{'Samples': 4207, 'Features': 50, 'Anomalies': 1679, 'Anomalies Ratio(%)': 39.91}\n",
      "epoch : 1/5000, loss = 2.063261\n",
      "epoch : 1000/5000, loss = 0.239411\n",
      "epoch : 2000/5000, loss = 0.189582\n",
      "epoch : 3000/5000, loss = 0.147822\n",
      "epoch : 4000/5000, loss = 0.167357\n",
      "epoch : 5000/5000, loss = 0.158038\n",
      "self.error_median=0.0305, self.error_range=0.0672, self.latent_error_median_=0.0019, self.latent_error_range_=0.0035\n",
      "Model result scaling scheme:  True\n",
      "Latent dim= 16. Weight Decay = 0.000001\n",
      "Using cuda\n",
      "self.error_mu=0.0683, self.error_std=0.1266, self.latent_error_mu_=0.0031, self.latent_error_sigma_=0.0041; alpha = 1.0000\n",
      "Current experiment parameters: ('35_SpamBase', 0.0, 2), model: Customized, metrics: {'aucroc': 0.7333610431436518, 'aucpr': 0.6723898230507076}, fitting time: 350.2189004421234, inference time: 0.001993894577026367\n"
     ]
    },
    {
     "name": "stderr",
     "output_type": "stream",
     "text": [
      "554it [8:11:57, 45.79s/it]"
     ]
    },
    {
     "name": "stdout",
     "output_type": "stream",
     "text": [
      "\n",
      "Model performance:\n",
      "Reconstruction AUCROC=0.8560; AUCPR=0.8087\n",
      "Deviation AUCROC=0.5263; AUCPR=0.4603\n",
      "Max(rec, dev) AUCROC=0.8560; AUCPR=0.8087\n",
      "\n",
      "Sum of squared error AUCROC=0.8547; AUCPR=0.8077\n",
      "\n",
      "Transformer selector AUCROC=0.5827; AUCPR=0.4315\n",
      "\n",
      "{'Samples': 4207, 'Features': 50, 'Anomalies': 1679, 'Anomalies Ratio(%)': 39.91}\n",
      "epoch : 1/5000, loss = 1.389672\n",
      "epoch : 1000/5000, loss = 0.175954\n",
      "epoch : 2000/5000, loss = 0.151690\n",
      "epoch : 3000/5000, loss = 0.146322\n",
      "epoch : 4000/5000, loss = 0.129747\n",
      "epoch : 5000/5000, loss = 0.105435\n",
      "self.error_median=0.0108, self.error_range=0.0468, self.latent_error_median_=0.0010, self.latent_error_range_=0.0029\n",
      "Model result scaling scheme:  True\n",
      "Latent dim= 16. Weight Decay = 0.000001\n",
      "Using cuda\n",
      "self.error_mu=0.0448, self.error_std=0.1091, self.latent_error_mu_=0.0027, self.latent_error_sigma_=0.0046; alpha = 1.0000\n"
     ]
    },
    {
     "name": "stderr",
     "output_type": "stream",
     "text": [
      "555it [8:17:48, 61.88s/it]"
     ]
    },
    {
     "name": "stdout",
     "output_type": "stream",
     "text": [
      "Current experiment parameters: ('35_SpamBase', 0.0, 3), model: Customized, metrics: {'aucroc': 0.9055749001401174, 'aucpr': 0.8290286918303388}, fitting time: 351.1967282295227, inference time: 0.001994609832763672\n",
      "\n",
      "Model performance:\n",
      "Reconstruction AUCROC=0.9493; AUCPR=0.9117\n",
      "Deviation AUCROC=0.8256; AUCPR=0.7080\n",
      "Max(rec, dev) AUCROC=0.9493; AUCPR=0.9117\n",
      "\n",
      "Sum of squared error AUCROC=0.9484; AUCPR=0.9103\n",
      "\n",
      "Transformer selector AUCROC=0.5884; AUCPR=0.4037\n",
      "\n",
      "{'Samples': 4819, 'Features': 5, 'Anomalies': 257, 'Anomalies Ratio(%)': 5.33}\n",
      "epoch : 1/5000, loss = 1.871586\n",
      "epoch : 1000/5000, loss = 0.008547\n",
      "epoch : 2000/5000, loss = 0.002733\n",
      "epoch : 3000/5000, loss = 0.003789\n",
      "epoch : 4000/5000, loss = 0.001311\n",
      "epoch : 5000/5000, loss = 0.000986\n",
      "self.error_median=0.0000, self.error_range=0.0000, self.latent_error_median_=0.0002, self.latent_error_range_=0.0005\n",
      "Model result scaling scheme:  True\n",
      "Latent dim= 5. Weight Decay = 0.000001\n",
      "Using cuda\n",
      "self.error_mu=0.0001, self.error_std=0.0000, self.latent_error_mu_=0.0004, self.latent_error_sigma_=0.0006; alpha = 1.0000\n",
      "Current experiment parameters: ('44_Wilt', 0.0, 1), model: Customized, metrics: {'aucroc': 0.6276929790443305, 'aucpr': 0.09570138322504243}, fitting time: 351.65751099586487, inference time: 0.002004861831665039\n"
     ]
    },
    {
     "name": "stderr",
     "output_type": "stream",
     "text": [
      "577it [8:23:40, 33.28s/it]"
     ]
    },
    {
     "name": "stdout",
     "output_type": "stream",
     "text": [
      "\n",
      "Model performance:\n",
      "Reconstruction AUCROC=0.6463; AUCPR=0.1162\n",
      "Deviation AUCROC=0.5731; AUCPR=0.0641\n",
      "Max(rec, dev) AUCROC=0.5726; AUCPR=0.0645\n",
      "\n",
      "Sum of squared error AUCROC=0.5797; AUCPR=0.0663\n",
      "\n",
      "Transformer selector AUCROC=0.5562; AUCPR=0.0655\n",
      "\n",
      "{'Samples': 4819, 'Features': 5, 'Anomalies': 257, 'Anomalies Ratio(%)': 5.33}\n",
      "epoch : 1/5000, loss = 1.913295\n",
      "epoch : 1000/5000, loss = 0.013657\n",
      "epoch : 2000/5000, loss = 0.002633\n",
      "epoch : 3000/5000, loss = 0.004922\n",
      "epoch : 4000/5000, loss = 0.002238\n",
      "epoch : 5000/5000, loss = 0.001309\n",
      "self.error_median=0.0003, self.error_range=0.0002, self.latent_error_median_=0.0002, self.latent_error_range_=0.0005\n",
      "Model result scaling scheme:  True\n",
      "Latent dim= 5. Weight Decay = 0.000001\n",
      "Using cuda\n",
      "self.error_mu=0.0003, self.error_std=0.0001, self.latent_error_mu_=0.0004, self.latent_error_sigma_=0.0005; alpha = 1.0000\n",
      "Current experiment parameters: ('44_Wilt', 0.0, 2), model: Customized, metrics: {'aucroc': 0.5438513276351113, 'aucpr': 0.05747689751635487}, fitting time: 350.0626699924469, inference time: 0.0019943714141845703\n"
     ]
    },
    {
     "name": "stderr",
     "output_type": "stream",
     "text": [
      "578it [8:29:31, 45.61s/it]"
     ]
    },
    {
     "name": "stdout",
     "output_type": "stream",
     "text": [
      "\n",
      "Model performance:\n",
      "Reconstruction AUCROC=0.5470; AUCPR=0.0587\n",
      "Deviation AUCROC=0.5117; AUCPR=0.0536\n",
      "Max(rec, dev) AUCROC=0.5226; AUCPR=0.0545\n",
      "\n",
      "Sum of squared error AUCROC=0.5255; AUCPR=0.0549\n",
      "\n",
      "Transformer selector AUCROC=0.5190; AUCPR=0.0548\n",
      "\n",
      "{'Samples': 4819, 'Features': 5, 'Anomalies': 257, 'Anomalies Ratio(%)': 5.33}\n",
      "epoch : 1/5000, loss = 1.736656\n",
      "epoch : 1000/5000, loss = 0.007693\n",
      "epoch : 2000/5000, loss = 0.002351\n",
      "epoch : 3000/5000, loss = 0.002076\n",
      "epoch : 4000/5000, loss = 0.001440\n",
      "epoch : 5000/5000, loss = 0.001452\n",
      "self.error_median=0.0003, self.error_range=0.0002, self.latent_error_median_=0.0002, self.latent_error_range_=0.0004\n",
      "Model result scaling scheme:  True\n",
      "Latent dim= 5. Weight Decay = 0.000001\n",
      "Using cuda\n",
      "self.error_mu=0.0003, self.error_std=0.0002, self.latent_error_mu_=0.0003, self.latent_error_sigma_=0.0006; alpha = 1.0000\n",
      "Current experiment parameters: ('44_Wilt', 0.0, 3), model: Customized, metrics: {'aucroc': 0.6023545483004942, 'aucpr': 0.08181794076064736}, fitting time: 349.2130045890808, inference time: 0.001994609832763672\n"
     ]
    },
    {
     "name": "stderr",
     "output_type": "stream",
     "text": [
      "579it [8:35:20, 61.61s/it]"
     ]
    },
    {
     "name": "stdout",
     "output_type": "stream",
     "text": [
      "\n",
      "Model performance:\n",
      "Reconstruction AUCROC=0.5816; AUCPR=0.0753\n",
      "Deviation AUCROC=0.5932; AUCPR=0.0768\n",
      "Max(rec, dev) AUCROC=0.5585; AUCPR=0.0794\n",
      "\n",
      "Sum of squared error AUCROC=0.5847; AUCPR=0.0823\n",
      "\n",
      "Transformer selector AUCROC=0.4852; AUCPR=0.0846\n",
      "\n"
     ]
    },
    {
     "name": "stderr",
     "output_type": "stream",
     "text": [
      "d:\\conda\\venv\\adbench\\Lib\\site-packages\\copulas\\multivariate\\vine.py:73: UserWarning: Vines have not been fully tested on Python >= 3.8 and might produce wrong results.\n",
      "  warnings.warn(\n",
      "d:\\conda\\venv\\adbench\\Lib\\site-packages\\copulas\\bivariate\\base.py:162: RuntimeWarning: Data does not appear to be uniform.\n",
      "  warnings.warn('Data does not appear to be uniform.', category=RuntimeWarning)\n",
      "601it [8:36:11, 24.66s/it]"
     ]
    },
    {
     "name": "stdout",
     "output_type": "stream",
     "text": [
      "Error when generating data: Constant column.\n"
     ]
    },
    {
     "name": "stderr",
     "output_type": "stream",
     "text": [
      "602it [8:37:03, 25.72s/it]"
     ]
    },
    {
     "name": "stdout",
     "output_type": "stream",
     "text": [
      "Error when generating data: Constant column.\n"
     ]
    },
    {
     "name": "stderr",
     "output_type": "stream",
     "text": [
      "603it [8:37:54, 27.04s/it]"
     ]
    },
    {
     "name": "stdout",
     "output_type": "stream",
     "text": [
      "Error when generating data: Constant column.\n"
     ]
    },
    {
     "name": "stderr",
     "output_type": "stream",
     "text": [
      "625it [8:43:33, 19.79s/it]"
     ]
    },
    {
     "name": "stdout",
     "output_type": "stream",
     "text": [
      "Error when generating data: f(a) and f(b) must have different signs\n"
     ]
    },
    {
     "name": "stderr",
     "output_type": "stream",
     "text": [
      "626it [8:45:24, 23.33s/it]"
     ]
    },
    {
     "name": "stdout",
     "output_type": "stream",
     "text": [
      "Error when generating data: f(a) and f(b) must have different signs\n",
      "{'Samples': 5393, 'Features': 10, 'Anomalies': 510, 'Anomalies Ratio(%)': 9.46}\n",
      "epoch : 1/5000, loss = 2.245073\n",
      "epoch : 1000/5000, loss = 0.032281\n",
      "epoch : 2000/5000, loss = 0.021853\n",
      "epoch : 3000/5000, loss = 0.007029\n",
      "epoch : 4000/5000, loss = 0.007845\n",
      "epoch : 5000/5000, loss = 0.005211\n",
      "self.error_median=0.0002, self.error_range=0.0005, self.latent_error_median_=0.0008, self.latent_error_range_=0.0014\n",
      "Model result scaling scheme:  True\n",
      "Latent dim= 10. Weight Decay = 0.000001\n",
      "Using cuda\n",
      "self.error_mu=0.0007, self.error_std=0.0066, self.latent_error_mu_=0.0014, self.latent_error_sigma_=0.0027; alpha = 1.0000\n",
      "Current experiment parameters: ('27_PageBlocks', 0.0, 3), model: Customized, metrics: {'aucroc': 0.7045350108188896, 'aucpr': 0.21274256636632224}, fitting time: 347.2541687488556, inference time: 0.0009899139404296875\n"
     ]
    },
    {
     "name": "stderr",
     "output_type": "stream",
     "text": [
      "627it [8:51:11, 40.40s/it]"
     ]
    },
    {
     "name": "stdout",
     "output_type": "stream",
     "text": [
      "\n",
      "Model performance:\n",
      "Reconstruction AUCROC=0.7551; AUCPR=0.2483\n",
      "Deviation AUCROC=0.5812; AUCPR=0.1372\n",
      "Max(rec, dev) AUCROC=0.6248; AUCPR=0.1699\n",
      "\n",
      "Sum of squared error AUCROC=0.6454; AUCPR=0.1794\n",
      "\n",
      "Transformer selector AUCROC=0.5152; AUCPR=0.0917\n",
      "\n",
      "{'Samples': 5803, 'Features': 36, 'Anomalies': 71, 'Anomalies Ratio(%)': 1.22}\n",
      "epoch : 1/5000, loss = 23.639589\n",
      "epoch : 1000/5000, loss = 0.249453\n",
      "epoch : 2000/5000, loss = 0.173598\n",
      "epoch : 3000/5000, loss = 0.196418\n",
      "epoch : 4000/5000, loss = 0.155127\n",
      "epoch : 5000/5000, loss = 0.118981\n",
      "self.error_median=0.0194, self.error_range=0.0624, self.latent_error_median_=0.0042, self.latent_error_range_=0.0075\n",
      "Model result scaling scheme:  True\n",
      "Latent dim= 16. Weight Decay = 0.000001\n",
      "Using cuda\n",
      "self.error_mu=0.0555, self.error_std=0.1222, self.latent_error_mu_=0.0062, self.latent_error_sigma_=0.0074; alpha = 1.0000\n",
      "Current experiment parameters: ('31_satimage-2', 0.0, 1), model: Customized, metrics: {'aucroc': 0.997452934662237, 'aucpr': 0.6738969332645659}, fitting time: 347.7838020324707, inference time: 0.0019745826721191406\n"
     ]
    },
    {
     "name": "stderr",
     "output_type": "stream",
     "text": [
      "649it [8:56:59, 25.08s/it]"
     ]
    },
    {
     "name": "stdout",
     "output_type": "stream",
     "text": [
      "\n",
      "Model performance:\n",
      "Reconstruction AUCROC=0.9989; AUCPR=0.8339\n",
      "Deviation AUCROC=0.9397; AUCPR=0.1430\n",
      "Max(rec, dev) AUCROC=0.9989; AUCPR=0.8339\n",
      "\n",
      "Sum of squared error AUCROC=0.9989; AUCPR=0.8339\n",
      "\n",
      "Transformer selector AUCROC=0.4957; AUCPR=0.0116\n",
      "\n",
      "{'Samples': 5803, 'Features': 36, 'Anomalies': 71, 'Anomalies Ratio(%)': 1.22}\n",
      "epoch : 1/5000, loss = 181.958344\n",
      "epoch : 1000/5000, loss = 0.403362\n",
      "epoch : 2000/5000, loss = 0.183329\n",
      "epoch : 3000/5000, loss = 0.162579\n",
      "epoch : 4000/5000, loss = 0.145773\n",
      "epoch : 5000/5000, loss = 0.124987\n",
      "self.error_median=0.0210, self.error_range=0.0661, self.latent_error_median_=0.0044, self.latent_error_range_=0.0077\n",
      "Model result scaling scheme:  True\n",
      "Latent dim= 16. Weight Decay = 0.000001\n",
      "Using cuda\n",
      "self.error_mu=0.0573, self.error_std=0.1273, self.latent_error_mu_=0.0065, self.latent_error_sigma_=0.0080; alpha = 1.0000\n",
      "Current experiment parameters: ('31_satimage-2', 0.0, 2), model: Customized, metrics: {'aucroc': 0.9969822812846069, 'aucpr': 0.6532387831425868}, fitting time: 347.6556303501129, inference time: 0.0019614696502685547\n"
     ]
    },
    {
     "name": "stderr",
     "output_type": "stream",
     "text": [
      "650it [9:02:47, 37.64s/it]"
     ]
    },
    {
     "name": "stdout",
     "output_type": "stream",
     "text": [
      "\n",
      "Model performance:\n",
      "Reconstruction AUCROC=0.9995; AUCPR=0.9347\n",
      "Deviation AUCROC=0.9823; AUCPR=0.2560\n",
      "Max(rec, dev) AUCROC=0.9995; AUCPR=0.9347\n",
      "\n",
      "Sum of squared error AUCROC=0.9994; AUCPR=0.9325\n",
      "\n",
      "Transformer selector AUCROC=0.4512; AUCPR=0.0107\n",
      "\n",
      "{'Samples': 5803, 'Features': 36, 'Anomalies': 71, 'Anomalies Ratio(%)': 1.22}\n",
      "epoch : 1/5000, loss = 30.402981\n",
      "epoch : 1000/5000, loss = 0.361123\n",
      "epoch : 2000/5000, loss = 0.218513\n",
      "epoch : 3000/5000, loss = 0.178184\n",
      "epoch : 4000/5000, loss = 0.138866\n",
      "epoch : 5000/5000, loss = 0.135168\n",
      "self.error_median=0.0238, self.error_range=0.0725, self.latent_error_median_=0.0055, self.latent_error_range_=0.0109\n",
      "Model result scaling scheme:  True\n",
      "Latent dim= 16. Weight Decay = 0.000001\n",
      "Using cuda\n",
      "self.error_mu=0.0631, self.error_std=0.1303, self.latent_error_mu_=0.0085, self.latent_error_sigma_=0.0093; alpha = 1.0000\n",
      "Current experiment parameters: ('31_satimage-2', 0.0, 3), model: Customized, metrics: {'aucroc': 0.9992524916943522, 'aucpr': 0.9378872257591757}, fitting time: 345.4421498775482, inference time: 0.001965045928955078\n"
     ]
    },
    {
     "name": "stderr",
     "output_type": "stream",
     "text": [
      "651it [9:08:33, 53.85s/it]"
     ]
    },
    {
     "name": "stdout",
     "output_type": "stream",
     "text": [
      "\n",
      "Model performance:\n",
      "Reconstruction AUCROC=1.0000; AUCPR=1.0000\n",
      "Deviation AUCROC=0.9271; AUCPR=0.1723\n",
      "Max(rec, dev) AUCROC=1.0000; AUCPR=1.0000\n",
      "\n",
      "Sum of squared error AUCROC=1.0000; AUCPR=1.0000\n",
      "\n",
      "Transformer selector AUCROC=0.4737; AUCPR=0.0113\n",
      "\n",
      "{'Samples': 6435, 'Features': 36, 'Anomalies': 2036, 'Anomalies Ratio(%)': 31.64}\n",
      "epoch : 1/5000, loss = 23.702023\n",
      "epoch : 1000/5000, loss = 1.115363\n",
      "epoch : 2000/5000, loss = 0.776834\n",
      "epoch : 3000/5000, loss = 0.554424\n",
      "epoch : 4000/5000, loss = 0.609910\n",
      "epoch : 5000/5000, loss = 0.509166\n",
      "self.error_median=0.0434, self.error_range=0.6620, self.latent_error_median_=0.0079, self.latent_error_range_=0.0182\n",
      "Model result scaling scheme:  True\n",
      "Latent dim= 16. Weight Decay = 0.000001\n",
      "Using cuda\n",
      "self.error_mu=0.2652, self.error_std=0.3491, self.latent_error_mu_=0.0117, self.latent_error_sigma_=0.0104; alpha = 1.0000\n"
     ]
    },
    {
     "name": "stderr",
     "output_type": "stream",
     "text": [
      "673it [9:14:22, 30.17s/it]"
     ]
    },
    {
     "name": "stdout",
     "output_type": "stream",
     "text": [
      "Current experiment parameters: ('30_satellite', 0.0, 1), model: Customized, metrics: {'aucroc': 0.9979764915935129, 'aucpr': 0.9945319459183048}, fitting time: 348.68723225593567, inference time: 0.0019714832305908203\n",
      "\n",
      "Model performance:\n",
      "Reconstruction AUCROC=0.9997; AUCPR=0.9993\n",
      "Deviation AUCROC=0.9736; AUCPR=0.9376\n",
      "Max(rec, dev) AUCROC=0.9997; AUCPR=0.9993\n",
      "\n",
      "Sum of squared error AUCROC=0.9997; AUCPR=0.9993\n",
      "\n",
      "Transformer selector AUCROC=0.4436; AUCPR=0.2674\n",
      "\n",
      "{'Samples': 6435, 'Features': 36, 'Anomalies': 2036, 'Anomalies Ratio(%)': 31.64}\n",
      "epoch : 1/5000, loss = 29.015202\n",
      "epoch : 1000/5000, loss = 0.926357\n",
      "epoch : 2000/5000, loss = 0.790032\n",
      "epoch : 3000/5000, loss = 0.649343\n",
      "epoch : 4000/5000, loss = 0.553711\n",
      "epoch : 5000/5000, loss = 0.418987\n",
      "self.error_median=0.0385, self.error_range=0.6074, self.latent_error_median_=0.0084, self.latent_error_range_=0.0202\n",
      "Model result scaling scheme:  True\n",
      "Latent dim= 16. Weight Decay = 0.000001\n",
      "Using cuda\n",
      "self.error_mu=0.2448, self.error_std=0.3293, self.latent_error_mu_=0.0128, self.latent_error_sigma_=0.0118; alpha = 1.0000\n"
     ]
    },
    {
     "name": "stderr",
     "output_type": "stream",
     "text": [
      "674it [9:20:09, 42.51s/it]"
     ]
    },
    {
     "name": "stdout",
     "output_type": "stream",
     "text": [
      "Current experiment parameters: ('30_satellite', 0.0, 2), model: Customized, metrics: {'aucroc': 0.996525814610921, 'aucpr': 0.9866708759229527}, fitting time: 346.98151564598083, inference time: 0.0019731521606445312\n",
      "\n",
      "Model performance:\n",
      "Reconstruction AUCROC=0.9995; AUCPR=0.9989\n",
      "Deviation AUCROC=0.9755; AUCPR=0.9332\n",
      "Max(rec, dev) AUCROC=0.9995; AUCPR=0.9989\n",
      "\n",
      "Sum of squared error AUCROC=0.9995; AUCPR=0.9989\n",
      "\n",
      "Transformer selector AUCROC=0.1720; AUCPR=0.1968\n",
      "\n",
      "{'Samples': 6435, 'Features': 36, 'Anomalies': 2036, 'Anomalies Ratio(%)': 31.64}\n",
      "epoch : 1/5000, loss = 26.019657\n",
      "epoch : 1000/5000, loss = 0.810922\n",
      "epoch : 2000/5000, loss = 0.757576\n",
      "epoch : 3000/5000, loss = 0.623840\n",
      "epoch : 4000/5000, loss = 0.550287\n",
      "epoch : 5000/5000, loss = 0.515799\n",
      "self.error_median=0.0419, self.error_range=0.6199, self.latent_error_median_=0.0093, self.latent_error_range_=0.0198\n",
      "Model result scaling scheme:  True\n",
      "Latent dim= 16. Weight Decay = 0.000001\n",
      "Using cuda\n",
      "self.error_mu=0.2466, self.error_std=0.3261, self.latent_error_mu_=0.0132, self.latent_error_sigma_=0.0118; alpha = 1.0000\n"
     ]
    },
    {
     "name": "stderr",
     "output_type": "stream",
     "text": [
      "675it [9:25:58, 58.64s/it]"
     ]
    },
    {
     "name": "stdout",
     "output_type": "stream",
     "text": [
      "Current experiment parameters: ('30_satellite', 0.0, 3), model: Customized, metrics: {'aucroc': 0.9945134652581461, 'aucpr': 0.9818829855227842}, fitting time: 348.62593626976013, inference time: 0.0019731521606445312\n",
      "\n",
      "Model performance:\n",
      "Reconstruction AUCROC=0.9992; AUCPR=0.9978\n",
      "Deviation AUCROC=0.9611; AUCPR=0.9001\n",
      "Max(rec, dev) AUCROC=0.9992; AUCPR=0.9978\n",
      "\n",
      "Sum of squared error AUCROC=0.9992; AUCPR=0.9978\n",
      "\n",
      "Transformer selector AUCROC=0.5153; AUCPR=0.2925\n",
      "\n",
      "{'Samples': 6435, 'Features': 36, 'Anomalies': 1333, 'Anomalies Ratio(%)': 20.71}\n",
      "epoch : 1/5000, loss = 21.528143\n",
      "epoch : 1000/5000, loss = 0.687766\n",
      "epoch : 2000/5000, loss = 0.659208\n",
      "epoch : 3000/5000, loss = 0.531794\n",
      "epoch : 4000/5000, loss = 0.456835\n",
      "epoch : 5000/5000, loss = 0.425892\n",
      "self.error_median=0.0267, self.error_range=0.4718, self.latent_error_median_=0.0047, self.latent_error_range_=0.0165\n",
      "Model result scaling scheme:  True\n",
      "Latent dim= 16. Weight Decay = 0.000001\n",
      "Using cuda\n",
      "self.error_mu=0.2057, self.error_std=0.3440, self.latent_error_mu_=0.0098, self.latent_error_sigma_=0.0110; alpha = 1.0000\n",
      "Current experiment parameters: ('19_landsat', 0.0, 1), model: Customized, metrics: {'aucroc': 0.9949689745264534, 'aucpr': 0.959643408520322}, fitting time: 347.18043851852417, inference time: 0.001956939697265625\n"
     ]
    },
    {
     "name": "stderr",
     "output_type": "stream",
     "text": [
      "697it [9:31:45, 31.93s/it]"
     ]
    },
    {
     "name": "stdout",
     "output_type": "stream",
     "text": [
      "\n",
      "Model performance:\n",
      "Reconstruction AUCROC=0.9993; AUCPR=0.9965\n",
      "Deviation AUCROC=0.9560; AUCPR=0.8038\n",
      "Max(rec, dev) AUCROC=0.9993; AUCPR=0.9965\n",
      "\n",
      "Sum of squared error AUCROC=0.9993; AUCPR=0.9965\n",
      "\n",
      "Transformer selector AUCROC=0.4816; AUCPR=0.1803\n",
      "\n",
      "{'Samples': 6435, 'Features': 36, 'Anomalies': 1333, 'Anomalies Ratio(%)': 20.71}\n",
      "epoch : 1/5000, loss = 29.340805\n",
      "epoch : 1000/5000, loss = 0.773979\n",
      "epoch : 2000/5000, loss = 0.635521\n",
      "epoch : 3000/5000, loss = 0.543734\n",
      "epoch : 4000/5000, loss = 0.412221\n",
      "epoch : 5000/5000, loss = 0.398137\n",
      "self.error_median=0.0271, self.error_range=0.4679, self.latent_error_median_=0.0056, self.latent_error_range_=0.0205\n",
      "Model result scaling scheme:  True\n",
      "Latent dim= 16. Weight Decay = 0.000001\n",
      "Using cuda\n",
      "self.error_mu=0.2049, self.error_std=0.3421, self.latent_error_mu_=0.0126, self.latent_error_sigma_=0.0150; alpha = 1.0000\n",
      "Current experiment parameters: ('19_landsat', 0.0, 2), model: Customized, metrics: {'aucroc': 0.9957070542129327, 'aucpr': 0.9701247909852689}, fitting time: 347.1560790538788, inference time: 0.002002239227294922\n"
     ]
    },
    {
     "name": "stderr",
     "output_type": "stream",
     "text": [
      "698it [9:37:33, 44.20s/it]"
     ]
    },
    {
     "name": "stdout",
     "output_type": "stream",
     "text": [
      "\n",
      "Model performance:\n",
      "Reconstruction AUCROC=0.9987; AUCPR=0.9931\n",
      "Deviation AUCROC=0.9719; AUCPR=0.8798\n",
      "Max(rec, dev) AUCROC=0.9987; AUCPR=0.9931\n",
      "\n",
      "Sum of squared error AUCROC=0.9987; AUCPR=0.9930\n",
      "\n",
      "Transformer selector AUCROC=0.3853; AUCPR=0.1564\n",
      "\n",
      "{'Samples': 6435, 'Features': 36, 'Anomalies': 1333, 'Anomalies Ratio(%)': 20.71}\n",
      "epoch : 1/5000, loss = 18.205988\n",
      "epoch : 1000/5000, loss = 0.730199\n",
      "epoch : 2000/5000, loss = 0.624690\n",
      "epoch : 3000/5000, loss = 0.502846\n",
      "epoch : 4000/5000, loss = 0.425045\n",
      "epoch : 5000/5000, loss = 0.455328\n",
      "self.error_median=0.0318, self.error_range=0.4796, self.latent_error_median_=0.0072, self.latent_error_range_=0.0196\n",
      "Model result scaling scheme:  True\n",
      "Latent dim= 16. Weight Decay = 0.000001\n",
      "Using cuda\n",
      "self.error_mu=0.2146, self.error_std=0.3497, self.latent_error_mu_=0.0124, self.latent_error_sigma_=0.0120; alpha = 1.0000\n",
      "Current experiment parameters: ('19_landsat', 0.0, 3), model: Customized, metrics: {'aucroc': 0.9969807315480078, 'aucpr': 0.9854127654115439}, fitting time: 346.38200664520264, inference time: 0.001972198486328125\n"
     ]
    },
    {
     "name": "stderr",
     "output_type": "stream",
     "text": [
      "699it [9:43:19, 60.13s/it]"
     ]
    },
    {
     "name": "stdout",
     "output_type": "stream",
     "text": [
      "\n",
      "Model performance:\n",
      "Reconstruction AUCROC=0.9998; AUCPR=0.9994\n",
      "Deviation AUCROC=0.9368; AUCPR=0.7543\n",
      "Max(rec, dev) AUCROC=0.9998; AUCPR=0.9994\n",
      "\n",
      "Sum of squared error AUCROC=0.9998; AUCPR=0.9994\n",
      "\n",
      "Transformer selector AUCROC=0.4935; AUCPR=0.1962\n",
      "\n",
      "{'Samples': 6870, 'Features': 16, 'Anomalies': 156, 'Anomalies Ratio(%)': 2.27}\n",
      "epoch : 1/5000, loss = 12.824055\n",
      "epoch : 1000/5000, loss = 0.291052\n",
      "epoch : 2000/5000, loss = 0.198594\n",
      "epoch : 3000/5000, loss = 0.121077\n",
      "epoch : 4000/5000, loss = 0.065292\n",
      "epoch : 5000/5000, loss = 0.049759\n",
      "self.error_median=0.0062, self.error_range=0.0178, self.latent_error_median_=0.0052, self.latent_error_range_=0.0101\n",
      "Model result scaling scheme:  True\n",
      "Latent dim= 16. Weight Decay = 0.000001\n",
      "Using cuda\n",
      "self.error_mu=0.0175, self.error_std=0.0313, self.latent_error_mu_=0.0076, self.latent_error_sigma_=0.0069; alpha = 1.0000\n"
     ]
    },
    {
     "name": "stderr",
     "output_type": "stream",
     "text": [
      "721it [9:49:11, 32.61s/it]"
     ]
    },
    {
     "name": "stdout",
     "output_type": "stream",
     "text": [
      "Current experiment parameters: ('28_pendigits', 0.0, 1), model: Customized, metrics: {'aucroc': 0.9644932282532908, 'aucpr': 0.43424826362503366}, fitting time: 351.12755131721497, inference time: 0.0019943714141845703\n",
      "\n",
      "Model performance:\n",
      "Reconstruction AUCROC=0.9618; AUCPR=0.3968\n",
      "Deviation AUCROC=0.9324; AUCPR=0.2848\n",
      "Max(rec, dev) AUCROC=0.9611; AUCPR=0.3965\n",
      "\n",
      "Sum of squared error AUCROC=0.9618; AUCPR=0.4009\n",
      "\n",
      "Transformer selector AUCROC=0.4858; AUCPR=0.0205\n",
      "\n",
      "{'Samples': 6870, 'Features': 16, 'Anomalies': 156, 'Anomalies Ratio(%)': 2.27}\n",
      "epoch : 1/5000, loss = 5.679036\n",
      "epoch : 1000/5000, loss = 0.338320\n",
      "epoch : 2000/5000, loss = 0.192340\n",
      "epoch : 3000/5000, loss = 0.112178\n",
      "epoch : 4000/5000, loss = 0.126997\n",
      "epoch : 5000/5000, loss = 0.070682\n",
      "self.error_median=0.0107, self.error_range=0.0344, self.latent_error_median_=0.0060, self.latent_error_range_=0.0102\n",
      "Model result scaling scheme:  True\n",
      "Latent dim= 16. Weight Decay = 0.000001\n",
      "Using cuda\n",
      "self.error_mu=0.0276, self.error_std=0.0438, self.latent_error_mu_=0.0086, self.latent_error_sigma_=0.0082; alpha = 1.0000\n"
     ]
    },
    {
     "name": "stderr",
     "output_type": "stream",
     "text": [
      "722it [9:55:03, 45.02s/it]"
     ]
    },
    {
     "name": "stdout",
     "output_type": "stream",
     "text": [
      "Current experiment parameters: ('28_pendigits', 0.0, 2), model: Customized, metrics: {'aucroc': 0.9782691373153881, 'aucpr': 0.5512407722336831}, fitting time: 351.54023027420044, inference time: 0.001971721649169922\n",
      "\n",
      "Model performance:\n",
      "Reconstruction AUCROC=0.9713; AUCPR=0.6000\n",
      "Deviation AUCROC=0.9513; AUCPR=0.2417\n",
      "Max(rec, dev) AUCROC=0.9711; AUCPR=0.6000\n",
      "\n",
      "Sum of squared error AUCROC=0.9731; AUCPR=0.5993\n",
      "\n",
      "Transformer selector AUCROC=0.5172; AUCPR=0.0220\n",
      "\n"
     ]
    },
    {
     "name": "stderr",
     "output_type": "stream",
     "text": [
      "d:\\conda\\venv\\adbench\\Lib\\site-packages\\copulas\\multivariate\\vine.py:73: UserWarning: Vines have not been fully tested on Python >= 3.8 and might produce wrong results.\n",
      "  warnings.warn(\n",
      "d:\\conda\\venv\\adbench\\Lib\\site-packages\\copulas\\bivariate\\base.py:162: RuntimeWarning: Data does not appear to be uniform.\n",
      "  warnings.warn('Data does not appear to be uniform.', category=RuntimeWarning)\n",
      "723it [10:08:06, 83.88s/it]"
     ]
    },
    {
     "name": "stdout",
     "output_type": "stream",
     "text": [
      "Error when generating data: f(a) and f(b) must have different signs\n",
      "{'Samples': 7200, 'Features': 6, 'Anomalies': 534, 'Anomalies Ratio(%)': 7.42}\n",
      "epoch : 1/5000, loss = 1.339064\n",
      "epoch : 1000/5000, loss = 0.016244\n",
      "epoch : 2000/5000, loss = 0.007567\n",
      "epoch : 3000/5000, loss = 0.007094\n",
      "epoch : 4000/5000, loss = 0.004297\n",
      "epoch : 5000/5000, loss = 0.001455\n",
      "self.error_median=0.0000, self.error_range=0.0000, self.latent_error_median_=0.0004, self.latent_error_range_=0.0008\n",
      "Model result scaling scheme:  True\n",
      "Latent dim= 6. Weight Decay = 0.000001\n",
      "Using cuda\n",
      "self.error_mu=0.0001, self.error_std=0.0007, self.latent_error_mu_=0.0007, self.latent_error_sigma_=0.0017; alpha = 1.0000\n",
      "Current experiment parameters: ('2_annthyroid', 0.0, 1), model: Customized, metrics: {'aucroc': 0.778959375, 'aucpr': 0.25294523005749225}, fitting time: 349.93364357948303, inference time: 0.0019919872283935547\n"
     ]
    },
    {
     "name": "stderr",
     "output_type": "stream",
     "text": [
      "745it [10:13:56, 41.52s/it]"
     ]
    },
    {
     "name": "stdout",
     "output_type": "stream",
     "text": [
      "\n",
      "Model performance:\n",
      "Reconstruction AUCROC=0.8183; AUCPR=0.3051\n",
      "Deviation AUCROC=0.6592; AUCPR=0.1392\n",
      "Max(rec, dev) AUCROC=0.6594; AUCPR=0.1412\n",
      "\n",
      "Sum of squared error AUCROC=0.6652; AUCPR=0.1455\n",
      "\n",
      "Transformer selector AUCROC=0.5198; AUCPR=0.0830\n",
      "\n",
      "{'Samples': 7200, 'Features': 6, 'Anomalies': 534, 'Anomalies Ratio(%)': 7.42}\n",
      "epoch : 1/5000, loss = 1.497899\n",
      "epoch : 1000/5000, loss = 0.010392\n",
      "epoch : 2000/5000, loss = 0.007453\n",
      "epoch : 3000/5000, loss = 0.001751\n",
      "epoch : 4000/5000, loss = 0.001058\n",
      "epoch : 5000/5000, loss = 0.001403\n",
      "self.error_median=0.0003, self.error_range=0.0002, self.latent_error_median_=0.0002, self.latent_error_range_=0.0004\n",
      "Model result scaling scheme:  True\n",
      "Latent dim= 6. Weight Decay = 0.000001\n",
      "Using cuda\n",
      "self.error_mu=0.0003, self.error_std=0.0002, self.latent_error_mu_=0.0003, self.latent_error_sigma_=0.0007; alpha = 1.0000\n",
      "Current experiment parameters: ('2_annthyroid', 0.0, 2), model: Customized, metrics: {'aucroc': 0.6304, 'aucpr': 0.11463093475639677}, fitting time: 350.4406569004059, inference time: 0.0019948482513427734\n"
     ]
    },
    {
     "name": "stderr",
     "output_type": "stream",
     "text": [
      "746it [10:19:47, 53.55s/it]"
     ]
    },
    {
     "name": "stdout",
     "output_type": "stream",
     "text": [
      "\n",
      "Model performance:\n",
      "Reconstruction AUCROC=0.5809; AUCPR=0.1286\n",
      "Deviation AUCROC=0.6242; AUCPR=0.0957\n",
      "Max(rec, dev) AUCROC=0.5701; AUCPR=0.1004\n",
      "\n",
      "Sum of squared error AUCROC=0.6083; AUCPR=0.1058\n",
      "\n",
      "Transformer selector AUCROC=0.4957; AUCPR=0.0790\n",
      "\n",
      "{'Samples': 7200, 'Features': 6, 'Anomalies': 534, 'Anomalies Ratio(%)': 7.42}\n",
      "epoch : 1/5000, loss = 1.403080\n",
      "epoch : 1000/5000, loss = 0.009592\n",
      "epoch : 2000/5000, loss = 0.006889\n",
      "epoch : 3000/5000, loss = 0.003744\n",
      "epoch : 4000/5000, loss = 0.003568\n",
      "epoch : 5000/5000, loss = 0.001460\n",
      "self.error_median=0.0001, self.error_range=0.0001, self.latent_error_median_=0.0003, self.latent_error_range_=0.0006\n",
      "Model result scaling scheme:  True\n",
      "Latent dim= 6. Weight Decay = 0.000001\n",
      "Using cuda\n",
      "self.error_mu=0.0005, self.error_std=0.0113, self.latent_error_mu_=0.0005, self.latent_error_sigma_=0.0014; alpha = 1.0000\n",
      "Current experiment parameters: ('2_annthyroid', 0.0, 3), model: Customized, metrics: {'aucroc': 0.732553125, 'aucpr': 0.1623514629033041}, fitting time: 352.408322095871, inference time: 0.0019943714141845703\n"
     ]
    },
    {
     "name": "stderr",
     "output_type": "stream",
     "text": [
      "747it [10:25:39, 69.29s/it]"
     ]
    },
    {
     "name": "stdout",
     "output_type": "stream",
     "text": [
      "\n",
      "Model performance:\n",
      "Reconstruction AUCROC=0.7547; AUCPR=0.1855\n",
      "Deviation AUCROC=0.6181; AUCPR=0.1006\n",
      "Max(rec, dev) AUCROC=0.6401; AUCPR=0.1113\n",
      "\n",
      "Sum of squared error AUCROC=0.6568; AUCPR=0.1177\n",
      "\n",
      "Transformer selector AUCROC=0.4918; AUCPR=0.0688\n",
      "\n"
     ]
    },
    {
     "name": "stderr",
     "output_type": "stream",
     "text": [
      "d:\\conda\\venv\\adbench\\Lib\\site-packages\\copulas\\multivariate\\vine.py:73: UserWarning: Vines have not been fully tested on Python >= 3.8 and might produce wrong results.\n",
      "  warnings.warn(\n",
      "d:\\conda\\venv\\adbench\\Lib\\site-packages\\copulas\\bivariate\\base.py:162: RuntimeWarning: Data does not appear to be uniform.\n",
      "  warnings.warn('Data does not appear to be uniform.', category=RuntimeWarning)\n",
      "769it [10:26:37, 27.75s/it]"
     ]
    },
    {
     "name": "stdout",
     "output_type": "stream",
     "text": [
      "Error when generating data: Constant column.\n"
     ]
    },
    {
     "name": "stderr",
     "output_type": "stream",
     "text": [
      "770it [10:27:28, 28.62s/it]"
     ]
    },
    {
     "name": "stdout",
     "output_type": "stream",
     "text": [
      "Error when generating data: Constant column.\n"
     ]
    },
    {
     "name": "stderr",
     "output_type": "stream",
     "text": [
      "771it [10:28:32, 30.52s/it]"
     ]
    },
    {
     "name": "stdout",
     "output_type": "stream",
     "text": [
      "Error when generating data: Constant column.\n",
      "{'Samples': 10000, 'Features': 50, 'Anomalies': 1134, 'Anomalies Ratio(%)': 11.34}\n",
      "epoch : 1/5000, loss = 18.905409\n",
      "epoch : 1000/5000, loss = 2.181846\n",
      "epoch : 2000/5000, loss = 1.561584\n",
      "epoch : 3000/5000, loss = 1.256309\n",
      "epoch : 4000/5000, loss = 1.139389\n",
      "epoch : 5000/5000, loss = 1.058817\n",
      "self.error_median=0.2433, self.error_range=0.5202, self.latent_error_median_=0.0198, self.latent_error_range_=0.0195\n",
      "Model result scaling scheme:  True\n",
      "Latent dim= 16. Weight Decay = 0.000001\n",
      "Using cuda\n",
      "self.error_mu=0.4116, self.error_std=0.4709, self.latent_error_mu_=0.0227, self.latent_error_sigma_=0.0129; alpha = 1.0000\n",
      "Current experiment parameters: ('5_campaign', 0.0, 1), model: Customized, metrics: {'aucroc': 0.9303726227333038, 'aucpr': 0.6357899814949511}, fitting time: 334.4642117023468, inference time: 0.0029630661010742188\n"
     ]
    },
    {
     "name": "stderr",
     "output_type": "stream",
     "text": [
      "793it [10:34:07, 20.98s/it]"
     ]
    },
    {
     "name": "stdout",
     "output_type": "stream",
     "text": [
      "\n",
      "Model performance:\n",
      "Reconstruction AUCROC=0.9694; AUCPR=0.8536\n",
      "Deviation AUCROC=0.6586; AUCPR=0.1666\n",
      "Max(rec, dev) AUCROC=0.9694; AUCPR=0.8536\n",
      "\n",
      "Sum of squared error AUCROC=0.9693; AUCPR=0.8535\n",
      "\n",
      "Transformer selector AUCROC=0.6559; AUCPR=0.1423\n",
      "\n"
     ]
    },
    {
     "name": "stderr",
     "output_type": "stream",
     "text": [
      "d:\\conda\\venv\\adbench\\Lib\\site-packages\\copulas\\multivariate\\vine.py:73: UserWarning: Vines have not been fully tested on Python >= 3.8 and might produce wrong results.\n",
      "  warnings.warn(\n",
      "d:\\conda\\venv\\adbench\\Lib\\site-packages\\copulas\\bivariate\\base.py:162: RuntimeWarning: Data does not appear to be uniform.\n",
      "  warnings.warn('Data does not appear to be uniform.', category=RuntimeWarning)\n",
      "794it [10:35:51, 24.20s/it]"
     ]
    },
    {
     "name": "stdout",
     "output_type": "stream",
     "text": [
      "Error when generating data: Constant column.\n"
     ]
    },
    {
     "name": "stderr",
     "output_type": "stream",
     "text": [
      "d:\\conda\\venv\\adbench\\Lib\\site-packages\\copulas\\bivariate\\frank.py:139: RuntimeWarning: overflow encountered in multiply\n",
      "  num = self._g(U) * self._g(V) + self._g(U)\n",
      "d:\\conda\\venv\\adbench\\Lib\\site-packages\\copulas\\bivariate\\frank.py:140: RuntimeWarning: overflow encountered in multiply\n",
      "  den = self._g(U) * self._g(V) + self._g(1)\n",
      "d:\\conda\\venv\\adbench\\Lib\\site-packages\\copulas\\bivariate\\frank.py:141: RuntimeWarning: invalid value encountered in divide\n",
      "  return num / den\n",
      "795it [10:37:41, 28.72s/it]"
     ]
    },
    {
     "name": "stdout",
     "output_type": "stream",
     "text": [
      "Error when generating data: Unable to compute tau.\n",
      "{'Samples': 10000, 'Features': 10, 'Anomalies': 97, 'Anomalies Ratio(%)': 0.97}\n",
      "epoch : 1/5000, loss = 6.988689\n",
      "epoch : 1000/5000, loss = 0.087786\n",
      "epoch : 2000/5000, loss = 0.049766\n",
      "epoch : 3000/5000, loss = 0.027526\n",
      "epoch : 4000/5000, loss = 0.018770\n",
      "epoch : 5000/5000, loss = 0.010561\n",
      "self.error_median=0.0012, self.error_range=0.0019, self.latent_error_median_=0.0013, self.latent_error_range_=0.0030\n",
      "Model result scaling scheme:  True\n",
      "Latent dim= 10. Weight Decay = 0.000001\n",
      "Using cuda\n",
      "self.error_mu=0.0031, self.error_std=0.0073, self.latent_error_mu_=0.0023, self.latent_error_sigma_=0.0029; alpha = 1.0000\n",
      "Current experiment parameters: ('10_cover', 0.0, 1), model: Customized, metrics: {'aucroc': 0.9007532585104284, 'aucpr': 0.09488467697661652}, fitting time: 340.95342803001404, inference time: 0.0019943714141845703\n"
     ]
    },
    {
     "name": "stderr",
     "output_type": "stream",
     "text": [
      "817it [10:43:22, 20.49s/it]"
     ]
    },
    {
     "name": "stdout",
     "output_type": "stream",
     "text": [
      "\n",
      "Model performance:\n",
      "Reconstruction AUCROC=0.9065; AUCPR=0.1078\n",
      "Deviation AUCROC=0.8223; AUCPR=0.0258\n",
      "Max(rec, dev) AUCROC=0.8774; AUCPR=0.0989\n",
      "\n",
      "Sum of squared error AUCROC=0.8888; AUCPR=0.0995\n",
      "\n",
      "Transformer selector AUCROC=0.5123; AUCPR=0.0139\n",
      "\n",
      "{'Samples': 10000, 'Features': 10, 'Anomalies': 116, 'Anomalies Ratio(%)': 1.16}\n",
      "epoch : 1/5000, loss = 5.922055\n",
      "epoch : 1000/5000, loss = 0.071731\n",
      "epoch : 2000/5000, loss = 0.038155\n",
      "epoch : 3000/5000, loss = 0.016275\n",
      "epoch : 4000/5000, loss = 0.009155\n",
      "epoch : 5000/5000, loss = 0.013749\n",
      "self.error_median=0.0038, self.error_range=0.0034, self.latent_error_median_=0.0011, self.latent_error_range_=0.0022\n",
      "Model result scaling scheme:  True\n",
      "Latent dim= 10. Weight Decay = 0.000001\n",
      "Using cuda\n",
      "self.error_mu=0.0054, self.error_std=0.0094, self.latent_error_mu_=0.0018, self.latent_error_sigma_=0.0022; alpha = 1.0000\n",
      "Current experiment parameters: ('10_cover', 0.0, 2), model: Customized, metrics: {'aucroc': 0.9043700313177547, 'aucpr': 0.07701612265731815}, fitting time: 340.07592725753784, inference time: 0.002004384994506836\n"
     ]
    },
    {
     "name": "stderr",
     "output_type": "stream",
     "text": [
      "818it [10:49:02, 32.93s/it]"
     ]
    },
    {
     "name": "stdout",
     "output_type": "stream",
     "text": [
      "\n",
      "Model performance:\n",
      "Reconstruction AUCROC=0.8832; AUCPR=0.0799\n",
      "Deviation AUCROC=0.8612; AUCPR=0.0436\n",
      "Max(rec, dev) AUCROC=0.8772; AUCPR=0.0783\n",
      "\n",
      "Sum of squared error AUCROC=0.8919; AUCPR=0.0781\n",
      "\n",
      "Transformer selector AUCROC=0.5648; AUCPR=0.0221\n",
      "\n",
      "{'Samples': 10000, 'Features': 10, 'Anomalies': 95, 'Anomalies Ratio(%)': 0.95}\n",
      "epoch : 1/5000, loss = 5.771779\n",
      "epoch : 1000/5000, loss = 0.066106\n",
      "epoch : 2000/5000, loss = 0.034015\n",
      "epoch : 3000/5000, loss = 0.011488\n",
      "epoch : 4000/5000, loss = 0.005967\n",
      "epoch : 5000/5000, loss = 0.008747\n",
      "self.error_median=0.0032, self.error_range=0.0011, self.latent_error_median_=0.0009, self.latent_error_range_=0.0019\n",
      "Model result scaling scheme:  True\n",
      "Latent dim= 10. Weight Decay = 0.000001\n",
      "Using cuda\n",
      "self.error_mu=0.0033, self.error_std=0.0013, self.latent_error_mu_=0.0015, self.latent_error_sigma_=0.0019; alpha = 1.0000\n"
     ]
    },
    {
     "name": "stderr",
     "output_type": "stream",
     "text": [
      "819it [10:54:44, 49.16s/it]"
     ]
    },
    {
     "name": "stdout",
     "output_type": "stream",
     "text": [
      "Current experiment parameters: ('10_cover', 0.0, 3), model: Customized, metrics: {'aucroc': 0.8504734666410306, 'aucpr': 0.16751626935888916}, fitting time: 340.8828251361847, inference time: 0.0020017623901367188\n",
      "\n",
      "Model performance:\n",
      "Reconstruction AUCROC=0.8363; AUCPR=0.2356\n",
      "Deviation AUCROC=0.8345; AUCPR=0.0321\n",
      "Max(rec, dev) AUCROC=0.8322; AUCPR=0.1592\n",
      "\n",
      "Sum of squared error AUCROC=0.8438; AUCPR=0.1417\n",
      "\n",
      "Transformer selector AUCROC=0.5399; AUCPR=0.0097\n",
      "\n",
      "{'Samples': 10000, 'Features': 3, 'Anomalies': 4, 'Anomalies Ratio(%)': 0.04}\n",
      "epoch : 1/5000, loss = 0.780263\n",
      "epoch : 1000/5000, loss = 0.002325\n",
      "epoch : 2000/5000, loss = 0.001441\n",
      "epoch : 3000/5000, loss = 0.000728\n",
      "epoch : 4000/5000, loss = 0.000828\n",
      "epoch : 5000/5000, loss = 0.001057\n",
      "self.error_median=0.0003, self.error_range=0.0002, self.latent_error_median_=0.0001, self.latent_error_range_=0.0001\n",
      "Model result scaling scheme:  True\n",
      "Latent dim= 3. Weight Decay = 0.000001\n",
      "Using cuda\n",
      "self.error_mu=0.0003, self.error_std=0.0002, self.latent_error_mu_=0.0002, self.latent_error_sigma_=0.0003; alpha = 1.0000\n",
      "Current experiment parameters: ('34_smtp', 0.0, 1), model: Customized, metrics: {'aucroc': 0.8419473157719239, 'aucpr': 0.002105263157894737}, fitting time: 351.17979073524475, inference time: 0.0020041465759277344\n"
     ]
    },
    {
     "name": "stderr",
     "output_type": "stream",
     "text": [
      "841it [11:00:35, 28.48s/it]"
     ]
    },
    {
     "name": "stdout",
     "output_type": "stream",
     "text": [
      "\n",
      "Model performance:\n",
      "Reconstruction AUCROC=0.8069; AUCPR=0.0017\n",
      "Deviation AUCROC=0.8489; AUCPR=0.0022\n",
      "Max(rec, dev) AUCROC=0.8006; AUCPR=0.0017\n",
      "\n",
      "Sum of squared error AUCROC=0.8176; AUCPR=0.0018\n",
      "\n",
      "Transformer selector AUCROC=0.0980; AUCPR=0.0004\n",
      "\n",
      "{'Samples': 10000, 'Features': 3, 'Anomalies': 4, 'Anomalies Ratio(%)': 0.04}\n",
      "epoch : 1/5000, loss = 1.922868\n",
      "epoch : 1000/5000, loss = 0.007172\n",
      "epoch : 2000/5000, loss = 0.002369\n",
      "epoch : 3000/5000, loss = 0.000967\n",
      "epoch : 4000/5000, loss = 0.001152\n",
      "epoch : 5000/5000, loss = 0.000402\n",
      "self.error_median=0.0000, self.error_range=0.0000, self.latent_error_median_=0.0002, self.latent_error_range_=0.0002\n",
      "Model result scaling scheme:  True\n",
      "Latent dim= 3. Weight Decay = 0.000001\n",
      "Using cuda\n",
      "self.error_mu=0.0000, self.error_std=0.0001, self.latent_error_mu_=0.0003, self.latent_error_sigma_=0.0004; alpha = 1.0000\n",
      "Current experiment parameters: ('34_smtp', 0.0, 2), model: Customized, metrics: {'aucroc': 0.46082027342447485, 'aucpr': 0.0006180469715698393}, fitting time: 355.86240315437317, inference time: 0.0019941329956054688\n"
     ]
    },
    {
     "name": "stderr",
     "output_type": "stream",
     "text": [
      "842it [11:06:31, 41.22s/it]"
     ]
    },
    {
     "name": "stdout",
     "output_type": "stream",
     "text": [
      "\n",
      "Model performance:\n",
      "Reconstruction AUCROC=0.5468; AUCPR=0.0007\n",
      "Deviation AUCROC=0.3635; AUCPR=0.0005\n",
      "Max(rec, dev) AUCROC=0.3635; AUCPR=0.0005\n",
      "\n",
      "Sum of squared error AUCROC=0.3625; AUCPR=0.0005\n",
      "\n",
      "Transformer selector AUCROC=0.2651; AUCPR=0.0005\n",
      "\n",
      "{'Samples': 10000, 'Features': 3, 'Anomalies': 5, 'Anomalies Ratio(%)': 0.05}\n",
      "epoch : 1/5000, loss = 1.271247\n",
      "epoch : 1000/5000, loss = 0.004672\n",
      "epoch : 2000/5000, loss = 0.004958\n",
      "epoch : 3000/5000, loss = 0.000956\n",
      "epoch : 4000/5000, loss = 0.000917\n",
      "epoch : 5000/5000, loss = 0.000760\n",
      "self.error_median=0.0001, self.error_range=0.0001, self.latent_error_median_=0.0002, self.latent_error_range_=0.0002\n",
      "Model result scaling scheme:  True\n",
      "Latent dim= 3. Weight Decay = 0.000001\n",
      "Using cuda\n",
      "self.error_mu=0.0001, self.error_std=0.0001, self.latent_error_mu_=0.0003, self.latent_error_sigma_=0.0003; alpha = 1.0000\n",
      "Current experiment parameters: ('34_smtp', 0.0, 3), model: Customized, metrics: {'aucroc': 0.32555036691127415, 'aucpr': 0.0007889245021861947}, fitting time: 354.91184639930725, inference time: 0.0019941329956054688\n"
     ]
    },
    {
     "name": "stderr",
     "output_type": "stream",
     "text": [
      "843it [11:12:26, 57.75s/it]"
     ]
    },
    {
     "name": "stdout",
     "output_type": "stream",
     "text": [
      "\n",
      "Model performance:\n",
      "Reconstruction AUCROC=0.4078; AUCPR=0.0008\n",
      "Deviation AUCROC=0.3297; AUCPR=0.0007\n",
      "Max(rec, dev) AUCROC=0.2215; AUCPR=0.0006\n",
      "\n",
      "Sum of squared error AUCROC=0.2977; AUCPR=0.0007\n",
      "\n",
      "Transformer selector AUCROC=0.7148; AUCPR=0.0028\n",
      "\n",
      "{'Samples': 10000, 'Features': 3, 'Anomalies': 2081, 'Anomalies Ratio(%)': 20.81}\n",
      "epoch : 1/5000, loss = 2.831675\n",
      "epoch : 1000/5000, loss = 0.005076\n",
      "epoch : 2000/5000, loss = 0.005366\n",
      "epoch : 3000/5000, loss = 0.002865\n",
      "epoch : 4000/5000, loss = 0.001405\n",
      "epoch : 5000/5000, loss = 0.001336\n",
      "self.error_median=0.0000, self.error_range=0.0000, self.latent_error_median_=0.0005, self.latent_error_range_=0.0007\n",
      "Model result scaling scheme:  True\n",
      "Latent dim= 3. Weight Decay = 0.000001\n",
      "Using cuda\n",
      "self.error_mu=0.0000, self.error_std=0.0001, self.latent_error_mu_=0.0006, self.latent_error_sigma_=0.0005; alpha = 1.0000\n",
      "Current experiment parameters: ('33_skin', 0.0, 1), model: Customized, metrics: {'aucroc': 0.5910527551152551, 'aucpr': 0.2798012861071199}, fitting time: 355.46887159347534, inference time: 0.000997304916381836\n"
     ]
    },
    {
     "name": "stderr",
     "output_type": "stream",
     "text": [
      "865it [11:18:22, 31.83s/it]"
     ]
    },
    {
     "name": "stdout",
     "output_type": "stream",
     "text": [
      "\n",
      "Model performance:\n",
      "Reconstruction AUCROC=0.5932; AUCPR=0.2853\n",
      "Deviation AUCROC=0.5563; AUCPR=0.2335\n",
      "Max(rec, dev) AUCROC=0.5565; AUCPR=0.2335\n",
      "\n",
      "Sum of squared error AUCROC=0.5577; AUCPR=0.2365\n",
      "\n",
      "Transformer selector AUCROC=0.4677; AUCPR=0.1964\n",
      "\n"
     ]
    },
    {
     "name": "stderr",
     "output_type": "stream",
     "text": [
      "d:\\conda\\venv\\adbench\\Lib\\site-packages\\copulas\\multivariate\\vine.py:73: UserWarning: Vines have not been fully tested on Python >= 3.8 and might produce wrong results.\n",
      "  warnings.warn(\n",
      "d:\\conda\\venv\\adbench\\Lib\\site-packages\\copulas\\bivariate\\base.py:162: RuntimeWarning: Data does not appear to be uniform.\n",
      "  warnings.warn('Data does not appear to be uniform.', category=RuntimeWarning)\n",
      "866it [11:18:32, 30.96s/it]"
     ]
    },
    {
     "name": "stdout",
     "output_type": "stream",
     "text": [
      "Error when generating data: Marginal value out of bounds.\n",
      "{'Samples': 10000, 'Features': 3, 'Anomalies': 2066, 'Anomalies Ratio(%)': 20.66}\n",
      "epoch : 1/5000, loss = 1.745659\n",
      "epoch : 1000/5000, loss = 0.005240\n",
      "epoch : 2000/5000, loss = 0.002852\n",
      "epoch : 3000/5000, loss = 0.001652\n",
      "epoch : 4000/5000, loss = 0.004225\n",
      "epoch : 5000/5000, loss = 0.002543\n",
      "self.error_median=0.0008, self.error_range=0.0003, self.latent_error_median_=0.0004, self.latent_error_range_=0.0006\n",
      "Model result scaling scheme:  True\n",
      "Latent dim= 3. Weight Decay = 0.000001\n",
      "Using cuda\n",
      "self.error_mu=0.0008, self.error_std=0.0002, self.latent_error_mu_=0.0005, self.latent_error_sigma_=0.0004; alpha = 1.0000\n",
      "Current experiment parameters: ('33_skin', 0.0, 3), model: Customized, metrics: {'aucroc': 0.5910795608566006, 'aucpr': 0.2707315161502478}, fitting time: 350.723690032959, inference time: 0.0019965171813964844\n"
     ]
    },
    {
     "name": "stderr",
     "output_type": "stream",
     "text": [
      "867it [11:24:23, 47.81s/it]"
     ]
    },
    {
     "name": "stdout",
     "output_type": "stream",
     "text": [
      "\n",
      "Model performance:\n",
      "Reconstruction AUCROC=0.5414; AUCPR=0.2661\n",
      "Deviation AUCROC=0.5481; AUCPR=0.2371\n",
      "Max(rec, dev) AUCROC=0.5377; AUCPR=0.2467\n",
      "\n",
      "Sum of squared error AUCROC=0.5757; AUCPR=0.2607\n",
      "\n",
      "Transformer selector AUCROC=0.4845; AUCPR=0.2337\n",
      "\n",
      "{'Samples': 10000, 'Features': 9, 'Anomalies': 669, 'Anomalies Ratio(%)': 6.69}\n",
      "epoch : 1/5000, loss = 5.355889\n",
      "epoch : 1000/5000, loss = 0.040731\n",
      "epoch : 2000/5000, loss = 0.023845\n",
      "epoch : 3000/5000, loss = 0.015122\n",
      "epoch : 4000/5000, loss = 0.006537\n",
      "epoch : 5000/5000, loss = 0.005797\n",
      "self.error_median=0.0013, self.error_range=0.0006, self.latent_error_median_=0.0009, self.latent_error_range_=0.0020\n",
      "Model result scaling scheme:  True\n",
      "Latent dim= 9. Weight Decay = 0.000001\n",
      "Using cuda\n",
      "self.error_mu=0.0017, self.error_std=0.0125, self.latent_error_mu_=0.0016, self.latent_error_sigma_=0.0021; alpha = 1.0000\n",
      "Current experiment parameters: ('32_shuttle', 0.0, 1), model: Customized, metrics: {'aucroc': 0.8110625863181413, 'aucpr': 0.2890861926805321}, fitting time: 340.22602701187134, inference time: 0.0019960403442382812\n"
     ]
    },
    {
     "name": "stderr",
     "output_type": "stream",
     "text": [
      "889it [11:30:03, 27.66s/it]"
     ]
    },
    {
     "name": "stdout",
     "output_type": "stream",
     "text": [
      "\n",
      "Model performance:\n",
      "Reconstruction AUCROC=0.8081; AUCPR=0.3454\n",
      "Deviation AUCROC=0.7471; AUCPR=0.1468\n",
      "Max(rec, dev) AUCROC=0.7659; AUCPR=0.1710\n",
      "\n",
      "Sum of squared error AUCROC=0.7865; AUCPR=0.1932\n",
      "\n",
      "Transformer selector AUCROC=0.4409; AUCPR=0.0722\n",
      "\n"
     ]
    },
    {
     "name": "stderr",
     "output_type": "stream",
     "text": [
      "d:\\conda\\venv\\adbench\\Lib\\site-packages\\copulas\\multivariate\\vine.py:73: UserWarning: Vines have not been fully tested on Python >= 3.8 and might produce wrong results.\n",
      "  warnings.warn(\n",
      "d:\\conda\\venv\\adbench\\Lib\\site-packages\\copulas\\bivariate\\base.py:162: RuntimeWarning: Data does not appear to be uniform.\n",
      "  warnings.warn('Data does not appear to be uniform.', category=RuntimeWarning)\n",
      "d:\\conda\\venv\\adbench\\Lib\\site-packages\\copulas\\bivariate\\frank.py:98: RuntimeWarning: divide by zero encountered in log\n",
      "  return -1.0 / self.theta * np.log(1 + num / den)\n",
      "890it [11:30:33, 27.76s/it]"
     ]
    },
    {
     "name": "stdout",
     "output_type": "stream",
     "text": [
      "Error when generating data: Marginal value out of bounds.\n"
     ]
    },
    {
     "name": "stderr",
     "output_type": "stream",
     "text": [
      "891it [11:31:04, 27.92s/it]"
     ]
    },
    {
     "name": "stdout",
     "output_type": "stream",
     "text": [
      "Error when generating data: Marginal value out of bounds.\n",
      "{'Samples': 10000, 'Features': 39, 'Anomalies': 222, 'Anomalies Ratio(%)': 2.22}\n",
      "epoch : 1/5000, loss = 49.421028\n",
      "epoch : 1000/5000, loss = 1.580787\n",
      "epoch : 2000/5000, loss = 1.209081\n",
      "epoch : 3000/5000, loss = 0.795075\n",
      "epoch : 4000/5000, loss = 0.664200\n",
      "epoch : 5000/5000, loss = 0.610637\n",
      "self.error_median=0.1923, self.error_range=0.4789, self.latent_error_median_=0.0209, self.latent_error_range_=0.0296\n",
      "Model result scaling scheme:  True\n",
      "Latent dim= 16. Weight Decay = 0.000001\n",
      "Using cuda\n",
      "self.error_mu=0.3144, self.error_std=0.3735, self.latent_error_mu_=0.0286, self.latent_error_sigma_=0.0245; alpha = 1.0000\n",
      "Current experiment parameters: ('8_celeba', 0.0, 1), model: Customized, metrics: {'aucroc': 0.9432957951463278, 'aucpr': 0.19290046299958707}, fitting time: 333.10693311691284, inference time: 0.001964569091796875\n"
     ]
    },
    {
     "name": "stderr",
     "output_type": "stream",
     "text": [
      "913it [11:36:38, 19.97s/it]"
     ]
    },
    {
     "name": "stdout",
     "output_type": "stream",
     "text": [
      "\n",
      "Model performance:\n",
      "Reconstruction AUCROC=0.9817; AUCPR=0.6248\n",
      "Deviation AUCROC=0.7128; AUCPR=0.0371\n",
      "Max(rec, dev) AUCROC=0.9817; AUCPR=0.6248\n",
      "\n",
      "Sum of squared error AUCROC=0.9815; AUCPR=0.6233\n",
      "\n",
      "Transformer selector AUCROC=0.4711; AUCPR=0.0226\n",
      "\n",
      "{'Samples': 10000, 'Features': 39, 'Anomalies': 238, 'Anomalies Ratio(%)': 2.38}\n",
      "epoch : 1/5000, loss = 48.879566\n",
      "epoch : 1000/5000, loss = 1.681417\n",
      "epoch : 2000/5000, loss = 1.214834\n",
      "epoch : 3000/5000, loss = 0.887596\n",
      "epoch : 4000/5000, loss = 0.763452\n",
      "epoch : 5000/5000, loss = 0.516936\n",
      "self.error_median=0.1817, self.error_range=0.4626, self.latent_error_median_=0.0200, self.latent_error_range_=0.0262\n",
      "Model result scaling scheme:  True\n",
      "Latent dim= 16. Weight Decay = 0.000001\n",
      "Using cuda\n",
      "self.error_mu=0.3024, self.error_std=0.3587, self.latent_error_mu_=0.0249, self.latent_error_sigma_=0.0170; alpha = 1.0000\n"
     ]
    },
    {
     "name": "stderr",
     "output_type": "stream",
     "text": [
      "914it [11:42:11, 32.15s/it]"
     ]
    },
    {
     "name": "stdout",
     "output_type": "stream",
     "text": [
      "Current experiment parameters: ('8_celeba', 0.0, 2), model: Customized, metrics: {'aucroc': 0.9639688592462937, 'aucpr': 0.46189524095320933}, fitting time: 332.6986746788025, inference time: 0.001994609832763672\n",
      "\n",
      "Model performance:\n",
      "Reconstruction AUCROC=0.9784; AUCPR=0.7447\n",
      "Deviation AUCROC=0.7899; AUCPR=0.0875\n",
      "Max(rec, dev) AUCROC=0.9784; AUCPR=0.7447\n",
      "\n",
      "Sum of squared error AUCROC=0.9784; AUCPR=0.7438\n",
      "\n",
      "Transformer selector AUCROC=0.4621; AUCPR=0.0203\n",
      "\n",
      "{'Samples': 10000, 'Features': 39, 'Anomalies': 216, 'Anomalies Ratio(%)': 2.16}\n",
      "epoch : 1/5000, loss = 54.427147\n",
      "epoch : 1000/5000, loss = 1.517613\n",
      "epoch : 2000/5000, loss = 1.076187\n",
      "epoch : 3000/5000, loss = 0.780133\n",
      "epoch : 4000/5000, loss = 0.609535\n",
      "epoch : 5000/5000, loss = 0.582707\n",
      "self.error_median=0.1549, self.error_range=0.4510, self.latent_error_median_=0.0182, self.latent_error_range_=0.0233\n",
      "Model result scaling scheme:  True\n",
      "Latent dim= 16. Weight Decay = 0.000001\n",
      "Using cuda\n",
      "self.error_mu=0.2787, self.error_std=0.3441, self.latent_error_mu_=0.0233, self.latent_error_sigma_=0.0168; alpha = 1.0000\n"
     ]
    },
    {
     "name": "stderr",
     "output_type": "stream",
     "text": [
      "915it [11:47:44, 48.00s/it]"
     ]
    },
    {
     "name": "stdout",
     "output_type": "stream",
     "text": [
      "Current experiment parameters: ('8_celeba', 0.0, 3), model: Customized, metrics: {'aucroc': 0.9597693618136549, 'aucpr': 0.4362787126490725}, fitting time: 332.78534269332886, inference time: 0.001965761184692383\n",
      "\n",
      "Model performance:\n",
      "Reconstruction AUCROC=0.9749; AUCPR=0.6618\n",
      "Deviation AUCROC=0.8215; AUCPR=0.0820\n",
      "Max(rec, dev) AUCROC=0.9749; AUCPR=0.6618\n",
      "\n",
      "Sum of squared error AUCROC=0.9749; AUCPR=0.6612\n",
      "\n",
      "Transformer selector AUCROC=0.4982; AUCPR=0.0429\n",
      "\n",
      "{'Samples': 10000, 'Features': 6, 'Anomalies': 230, 'Anomalies Ratio(%)': 2.3}\n",
      "epoch : 1/5000, loss = 1.011501\n",
      "epoch : 1000/5000, loss = 0.009865\n",
      "epoch : 2000/5000, loss = 0.006709\n",
      "epoch : 3000/5000, loss = 0.004749\n",
      "epoch : 4000/5000, loss = 0.003048\n",
      "epoch : 5000/5000, loss = 0.004343\n",
      "self.error_median=0.0009, self.error_range=0.0013, self.latent_error_median_=0.0004, self.latent_error_range_=0.0004\n",
      "Model result scaling scheme:  True\n",
      "Latent dim= 6. Weight Decay = 0.000001\n",
      "Using cuda\n",
      "self.error_mu=0.0013, self.error_std=0.0102, self.latent_error_mu_=0.0006, self.latent_error_sigma_=0.0010; alpha = 1.0000\n",
      "Current experiment parameters: ('23_mammography', 0.0, 1), model: Customized, metrics: {'aucroc': 0.7636311492837682, 'aucpr': 0.07463952737366102}, fitting time: 340.4930651187897, inference time: 0.0019943714141845703\n"
     ]
    },
    {
     "name": "stderr",
     "output_type": "stream",
     "text": [
      "937it [11:53:25, 27.74s/it]"
     ]
    },
    {
     "name": "stdout",
     "output_type": "stream",
     "text": [
      "\n",
      "Model performance:\n",
      "Reconstruction AUCROC=0.7497; AUCPR=0.0961\n",
      "Deviation AUCROC=0.6992; AUCPR=0.0500\n",
      "Max(rec, dev) AUCROC=0.7479; AUCPR=0.0916\n",
      "\n",
      "Sum of squared error AUCROC=0.7558; AUCPR=0.0881\n",
      "\n",
      "Transformer selector AUCROC=0.5096; AUCPR=0.0290\n",
      "\n",
      "{'Samples': 10000, 'Features': 6, 'Anomalies': 241, 'Anomalies Ratio(%)': 2.41}\n",
      "epoch : 1/5000, loss = 0.948020\n",
      "epoch : 1000/5000, loss = 0.006985\n",
      "epoch : 2000/5000, loss = 0.004327\n",
      "epoch : 3000/5000, loss = 0.002881\n",
      "epoch : 4000/5000, loss = 0.001171\n",
      "epoch : 5000/5000, loss = 0.001252\n",
      "self.error_median=0.0002, self.error_range=0.0003, self.latent_error_median_=0.0002, self.latent_error_range_=0.0003\n",
      "Model result scaling scheme:  True\n",
      "Latent dim= 6. Weight Decay = 0.000001\n",
      "Using cuda\n",
      "self.error_mu=0.0003, self.error_std=0.0005, self.latent_error_mu_=0.0004, self.latent_error_sigma_=0.0008; alpha = 1.0000\n",
      "Current experiment parameters: ('23_mammography', 0.0, 2), model: Customized, metrics: {'aucroc': 0.7218759486945963, 'aucpr': 0.05810603323641718}, fitting time: 341.1273944377899, inference time: 0.0019943714141845703\n"
     ]
    },
    {
     "name": "stderr",
     "output_type": "stream",
     "text": [
      "938it [11:59:06, 39.94s/it]"
     ]
    },
    {
     "name": "stdout",
     "output_type": "stream",
     "text": [
      "\n",
      "Model performance:\n",
      "Reconstruction AUCROC=0.6945; AUCPR=0.0545\n",
      "Deviation AUCROC=0.7059; AUCPR=0.0559\n",
      "Max(rec, dev) AUCROC=0.6954; AUCPR=0.0557\n",
      "\n",
      "Sum of squared error AUCROC=0.7109; AUCPR=0.0570\n",
      "\n",
      "Transformer selector AUCROC=0.5509; AUCPR=0.0254\n",
      "\n",
      "{'Samples': 10000, 'Features': 6, 'Anomalies': 227, 'Anomalies Ratio(%)': 2.27}\n",
      "epoch : 1/5000, loss = 0.835789\n",
      "epoch : 1000/5000, loss = 0.015568\n",
      "epoch : 2000/5000, loss = 0.014811\n",
      "epoch : 3000/5000, loss = 0.005770\n",
      "epoch : 4000/5000, loss = 0.005463\n",
      "epoch : 5000/5000, loss = 0.003821\n",
      "self.error_median=0.0002, self.error_range=0.0007, self.latent_error_median_=0.0004, self.latent_error_range_=0.0007\n",
      "Model result scaling scheme:  True\n",
      "Latent dim= 6. Weight Decay = 0.000001\n",
      "Using cuda\n",
      "self.error_mu=0.0014, self.error_std=0.0085, self.latent_error_mu_=0.0008, self.latent_error_sigma_=0.0011; alpha = 1.0000\n",
      "Current experiment parameters: ('23_mammography', 0.0, 3), model: Customized, metrics: {'aucroc': 0.8299494422598508, 'aucpr': 0.15553530555688214}, fitting time: 350.4917848110199, inference time: 0.001993894577026367\n"
     ]
    },
    {
     "name": "stderr",
     "output_type": "stream",
     "text": [
      "939it [12:04:57, 56.30s/it]"
     ]
    },
    {
     "name": "stdout",
     "output_type": "stream",
     "text": [
      "\n",
      "Model performance:\n",
      "Reconstruction AUCROC=0.8454; AUCPR=0.1630\n",
      "Deviation AUCROC=0.7354; AUCPR=0.0549\n",
      "Max(rec, dev) AUCROC=0.8257; AUCPR=0.1539\n",
      "\n",
      "Sum of squared error AUCROC=0.8276; AUCPR=0.1540\n",
      "\n",
      "Transformer selector AUCROC=0.4960; AUCPR=0.0275\n",
      "\n",
      "{'Samples': 10000, 'Features': 10, 'Anomalies': 3548, 'Anomalies Ratio(%)': 35.48}\n",
      "epoch : 1/5000, loss = 4.507220\n",
      "epoch : 1000/5000, loss = 0.086603\n",
      "epoch : 2000/5000, loss = 0.037965\n",
      "epoch : 3000/5000, loss = 0.020970\n",
      "epoch : 4000/5000, loss = 0.012076\n",
      "epoch : 5000/5000, loss = 0.005827\n",
      "self.error_median=0.0005, self.error_range=0.0006, self.latent_error_median_=0.0018, self.latent_error_range_=0.0031\n",
      "Model result scaling scheme:  True\n",
      "Latent dim= 10. Weight Decay = 0.000001\n",
      "Using cuda\n",
      "self.error_mu=0.0007, self.error_std=0.0016, self.latent_error_mu_=0.0024, self.latent_error_sigma_=0.0024; alpha = 1.0000\n",
      "Current experiment parameters: ('22_magic.gamma', 0.0, 1), model: Customized, metrics: {'aucroc': 0.8023708871869756, 'aucpr': 0.6247490430783733}, fitting time: 349.0487263202667, inference time: 0.0019898414611816406\n"
     ]
    },
    {
     "name": "stderr",
     "output_type": "stream",
     "text": [
      "961it [12:10:46, 31.11s/it]"
     ]
    },
    {
     "name": "stdout",
     "output_type": "stream",
     "text": [
      "\n",
      "Model performance:\n",
      "Reconstruction AUCROC=0.8236; AUCPR=0.7072\n",
      "Deviation AUCROC=0.7345; AUCPR=0.4811\n",
      "Max(rec, dev) AUCROC=0.7354; AUCPR=0.4838\n",
      "\n",
      "Sum of squared error AUCROC=0.7473; AUCPR=0.4995\n",
      "\n",
      "Transformer selector AUCROC=0.4706; AUCPR=0.3913\n",
      "\n",
      "{'Samples': 10000, 'Features': 10, 'Anomalies': 3533, 'Anomalies Ratio(%)': 35.33}\n",
      "epoch : 1/5000, loss = 4.249319\n",
      "epoch : 1000/5000, loss = 0.041994\n",
      "epoch : 2000/5000, loss = 0.035100\n",
      "epoch : 3000/5000, loss = 0.085618\n",
      "epoch : 4000/5000, loss = 0.008115\n",
      "epoch : 5000/5000, loss = 0.005594\n",
      "self.error_median=0.0006, self.error_range=0.0007, self.latent_error_median_=0.0016, self.latent_error_range_=0.0021\n",
      "Model result scaling scheme:  True\n",
      "Latent dim= 10. Weight Decay = 0.000001\n",
      "Using cuda\n",
      "self.error_mu=0.0008, self.error_std=0.0010, self.latent_error_mu_=0.0019, self.latent_error_sigma_=0.0019; alpha = 1.0000\n"
     ]
    },
    {
     "name": "stderr",
     "output_type": "stream",
     "text": [
      "962it [12:16:28, 43.19s/it]"
     ]
    },
    {
     "name": "stdout",
     "output_type": "stream",
     "text": [
      "Current experiment parameters: ('22_magic.gamma', 0.0, 2), model: Customized, metrics: {'aucroc': 0.8349107663878623, 'aucpr': 0.7035491867461758}, fitting time: 341.527179479599, inference time: 0.0019991397857666016\n",
      "\n",
      "Model performance:\n",
      "Reconstruction AUCROC=0.8188; AUCPR=0.7230\n",
      "Deviation AUCROC=0.7862; AUCPR=0.5806\n",
      "Max(rec, dev) AUCROC=0.7877; AUCPR=0.5871\n",
      "\n",
      "Sum of squared error AUCROC=0.8058; AUCPR=0.6234\n",
      "\n",
      "Transformer selector AUCROC=0.5445; AUCPR=0.3369\n",
      "\n",
      "{'Samples': 10000, 'Features': 10, 'Anomalies': 3500, 'Anomalies Ratio(%)': 35.0}\n",
      "epoch : 1/5000, loss = 3.352955\n",
      "epoch : 1000/5000, loss = 0.048348\n",
      "epoch : 2000/5000, loss = 0.014407\n",
      "epoch : 3000/5000, loss = 0.009358\n",
      "epoch : 4000/5000, loss = 0.005112\n",
      "epoch : 5000/5000, loss = 0.006749\n",
      "self.error_median=0.0015, self.error_range=0.0010, self.latent_error_median_=0.0010, self.latent_error_range_=0.0017\n",
      "Model result scaling scheme:  True\n",
      "Latent dim= 10. Weight Decay = 0.000001\n",
      "Using cuda\n",
      "self.error_mu=0.0016, self.error_std=0.0017, self.latent_error_mu_=0.0013, self.latent_error_sigma_=0.0015; alpha = 1.0000\n",
      "Current experiment parameters: ('22_magic.gamma', 0.0, 3), model: Customized, metrics: {'aucroc': 0.7819736263736263, 'aucpr': 0.5890048372224619}, fitting time: 342.4529478549957, inference time: 0.001983642578125\n"
     ]
    },
    {
     "name": "stderr",
     "output_type": "stream",
     "text": [
      "963it [12:22:11, 58.96s/it]"
     ]
    },
    {
     "name": "stdout",
     "output_type": "stream",
     "text": [
      "\n",
      "Model performance:\n",
      "Reconstruction AUCROC=0.7198; AUCPR=0.5854\n",
      "Deviation AUCROC=0.7689; AUCPR=0.5278\n",
      "Max(rec, dev) AUCROC=0.7366; AUCPR=0.5457\n",
      "\n",
      "Sum of squared error AUCROC=0.7709; AUCPR=0.5689\n",
      "\n",
      "Transformer selector AUCROC=0.5154; AUCPR=0.3275\n",
      "\n"
     ]
    },
    {
     "name": "stderr",
     "output_type": "stream",
     "text": [
      "d:\\conda\\venv\\adbench\\Lib\\site-packages\\copulas\\multivariate\\vine.py:73: UserWarning: Vines have not been fully tested on Python >= 3.8 and might produce wrong results.\n",
      "  warnings.warn(\n",
      "d:\\conda\\venv\\adbench\\Lib\\site-packages\\copulas\\bivariate\\base.py:162: RuntimeWarning: Data does not appear to be uniform.\n",
      "  warnings.warn('Data does not appear to be uniform.', category=RuntimeWarning)\n",
      "985it [12:31:09, 37.45s/it]"
     ]
    },
    {
     "name": "stdout",
     "output_type": "stream",
     "text": [
      "Error when generating data: f(a) and f(b) must have different signs\n"
     ]
    },
    {
     "name": "stderr",
     "output_type": "stream",
     "text": [
      "986it [12:56:27, 95.05s/it]"
     ]
    },
    {
     "name": "stdout",
     "output_type": "stream",
     "text": [
      "Error when generating data: f(a) and f(b) must have different signs\n"
     ]
    },
    {
     "name": "stderr",
     "output_type": "stream",
     "text": [
      "987it [15:40:02, 606.78s/it]"
     ]
    },
    {
     "name": "stdout",
     "output_type": "stream",
     "text": [
      "Error when generating data: f(a) and f(b) must have different signs\n",
      "{'Samples': 10000, 'Features': 3, 'Anomalies': 46, 'Anomalies Ratio(%)': 0.46}\n",
      "epoch : 1/5000, loss = 1.057807\n",
      "epoch : 1000/5000, loss = 0.003498\n",
      "epoch : 2000/5000, loss = 0.001210\n",
      "epoch : 3000/5000, loss = 0.000639\n",
      "epoch : 4000/5000, loss = 0.000762\n",
      "epoch : 5000/5000, loss = 0.000274\n",
      "self.error_median=0.0000, self.error_range=0.0000, self.latent_error_median_=0.0001, self.latent_error_range_=0.0001\n",
      "Model result scaling scheme:  True\n",
      "Latent dim= 3. Weight Decay = 0.000001\n",
      "Using cuda\n",
      "self.error_mu=0.0000, self.error_std=0.0000, self.latent_error_mu_=0.0001, self.latent_error_sigma_=0.0002; alpha = 1.0000\n",
      "Current experiment parameters: ('16_http', 0.0, 1), model: Customized, metrics: {'aucroc': 0.5411204669409625, 'aucpr': 0.03091719845939981}, fitting time: 351.11925864219666, inference time: 0.0020122528076171875\n"
     ]
    },
    {
     "name": "stderr",
     "output_type": "stream",
     "text": [
      "1009it [15:45:54, 238.54s/it]"
     ]
    },
    {
     "name": "stdout",
     "output_type": "stream",
     "text": [
      "\n",
      "Model performance:\n",
      "Reconstruction AUCROC=0.5628; AUCPR=0.0303\n",
      "Deviation AUCROC=0.5602; AUCPR=0.0120\n",
      "Max(rec, dev) AUCROC=0.5587; AUCPR=0.0134\n",
      "\n",
      "Sum of squared error AUCROC=0.5566; AUCPR=0.0134\n",
      "\n",
      "Transformer selector AUCROC=0.4351; AUCPR=0.0043\n",
      "\n",
      "{'Samples': 10000, 'Features': 3, 'Anomalies': 35, 'Anomalies Ratio(%)': 0.35}\n",
      "epoch : 1/5000, loss = 2.674760\n",
      "epoch : 1000/5000, loss = 0.008494\n",
      "epoch : 2000/5000, loss = 0.003228\n",
      "epoch : 3000/5000, loss = 0.000727\n",
      "epoch : 4000/5000, loss = 0.001729\n",
      "epoch : 5000/5000, loss = 0.000758\n",
      "self.error_median=0.0002, self.error_range=0.0001, self.latent_error_median_=0.0001, self.latent_error_range_=0.0002\n",
      "Model result scaling scheme:  True\n",
      "Latent dim= 3. Weight Decay = 0.000001\n",
      "Using cuda\n",
      "self.error_mu=0.0002, self.error_std=0.0001, self.latent_error_mu_=0.0002, self.latent_error_sigma_=0.0004; alpha = 1.0000\n",
      "Current experiment parameters: ('16_http', 0.0, 2), model: Customized, metrics: {'aucroc': 0.4859197324414716, 'aucpr': 0.011306816028854704}, fitting time: 350.29477763175964, inference time: 0.0019948482513427734\n"
     ]
    },
    {
     "name": "stderr",
     "output_type": "stream",
     "text": [
      "1010it [15:51:45, 242.90s/it]"
     ]
    },
    {
     "name": "stdout",
     "output_type": "stream",
     "text": [
      "\n",
      "Model performance:\n",
      "Reconstruction AUCROC=0.5218; AUCPR=0.0077\n",
      "Deviation AUCROC=0.5294; AUCPR=0.0110\n",
      "Max(rec, dev) AUCROC=0.4941; AUCPR=0.0110\n",
      "\n",
      "Sum of squared error AUCROC=0.5064; AUCPR=0.0110\n",
      "\n",
      "Transformer selector AUCROC=0.4624; AUCPR=0.0531\n",
      "\n",
      "{'Samples': 10000, 'Features': 3, 'Anomalies': 34, 'Anomalies Ratio(%)': 0.34}\n",
      "epoch : 1/5000, loss = 2.576243\n",
      "epoch : 1000/5000, loss = 0.006290\n",
      "epoch : 2000/5000, loss = 0.002093\n",
      "epoch : 3000/5000, loss = 0.000784\n",
      "epoch : 4000/5000, loss = 0.001750\n",
      "epoch : 5000/5000, loss = 0.000370\n",
      "self.error_median=0.0000, self.error_range=0.0000, self.latent_error_median_=0.0001, self.latent_error_range_=0.0002\n",
      "Model result scaling scheme:  True\n",
      "Latent dim= 3. Weight Decay = 0.000001\n",
      "Using cuda\n",
      "self.error_mu=0.0000, self.error_std=0.0002, self.latent_error_mu_=0.0002, self.latent_error_sigma_=0.0003; alpha = 1.0000\n",
      "Current experiment parameters: ('16_http', 0.0, 3), model: Customized, metrics: {'aucroc': 0.47207357859531773, 'aucpr': 0.0033462369714252057}, fitting time: 351.1334743499756, inference time: 0.0\n"
     ]
    },
    {
     "name": "stderr",
     "output_type": "stream",
     "text": [
      "1011it [15:57:36, 248.62s/it]"
     ]
    },
    {
     "name": "stdout",
     "output_type": "stream",
     "text": [
      "\n",
      "Model performance:\n",
      "Reconstruction AUCROC=0.4831; AUCPR=0.0034\n",
      "Deviation AUCROC=0.4812; AUCPR=0.0039\n",
      "Max(rec, dev) AUCROC=0.4812; AUCPR=0.0039\n",
      "\n",
      "Sum of squared error AUCROC=0.4808; AUCPR=0.0039\n",
      "\n",
      "Transformer selector AUCROC=0.5696; AUCPR=0.0049\n",
      "\n",
      "{'Samples': 10000, 'Features': 29, 'Anomalies': 15, 'Anomalies Ratio(%)': 0.15}\n",
      "epoch : 1/5000, loss = 29.454203\n",
      "epoch : 1000/5000, loss = 0.120096\n",
      "epoch : 2000/5000, loss = 0.052804\n",
      "epoch : 3000/5000, loss = 0.047474\n",
      "epoch : 4000/5000, loss = 0.042282\n",
      "epoch : 5000/5000, loss = 0.038946\n",
      "self.error_median=0.0044, self.error_range=0.0198, self.latent_error_median_=0.0013, self.latent_error_range_=0.0039\n",
      "Model result scaling scheme:  True\n",
      "Latent dim= 16. Weight Decay = 0.000001\n",
      "Using cuda\n",
      "self.error_mu=0.0174, self.error_std=0.0417, self.latent_error_mu_=0.0029, self.latent_error_sigma_=0.0053; alpha = 1.0000\n",
      "Current experiment parameters: ('13_fraud', 0.0, 1), model: Customized, metrics: {'aucroc': 0.9904038718291055, 'aucpr': 0.08064851814851814}, fitting time: 335.6466634273529, inference time: 0.0019712448120117188\n"
     ]
    },
    {
     "name": "stderr",
     "output_type": "stream",
     "text": [
      "1033it [16:03:12, 103.18s/it]"
     ]
    },
    {
     "name": "stdout",
     "output_type": "stream",
     "text": [
      "\n",
      "Model performance:\n",
      "Reconstruction AUCROC=0.9936; AUCPR=0.1125\n",
      "Deviation AUCROC=0.8026; AUCPR=0.0044\n",
      "Max(rec, dev) AUCROC=0.9936; AUCPR=0.1125\n",
      "\n",
      "Sum of squared error AUCROC=0.9932; AUCPR=0.1083\n",
      "\n",
      "Transformer selector AUCROC=0.3550; AUCPR=0.0013\n",
      "\n",
      "{'Samples': 10000, 'Features': 29, 'Anomalies': 15, 'Anomalies Ratio(%)': 0.15}\n",
      "epoch : 1/5000, loss = 30.211554\n",
      "epoch : 1000/5000, loss = 0.091492\n",
      "epoch : 2000/5000, loss = 0.051975\n",
      "epoch : 3000/5000, loss = 0.044343\n",
      "epoch : 4000/5000, loss = 0.041397\n",
      "epoch : 5000/5000, loss = 0.039489\n",
      "self.error_median=0.0052, self.error_range=0.0203, self.latent_error_median_=0.0009, self.latent_error_range_=0.0028\n",
      "Model result scaling scheme:  True\n",
      "Latent dim= 16. Weight Decay = 0.000001\n",
      "Using cuda\n",
      "self.error_mu=0.0175, self.error_std=0.0377, self.latent_error_mu_=0.0021, self.latent_error_sigma_=0.0050; alpha = 1.0000\n",
      "Current experiment parameters: ('13_fraud', 0.0, 2), model: Customized, metrics: {'aucroc': 0.9873121869782971, 'aucpr': 0.07372830068482242}, fitting time: 336.06317257881165, inference time: 0.002986431121826172\n"
     ]
    },
    {
     "name": "stderr",
     "output_type": "stream",
     "text": [
      "1034it [16:08:49, 112.27s/it]"
     ]
    },
    {
     "name": "stdout",
     "output_type": "stream",
     "text": [
      "\n",
      "Model performance:\n",
      "Reconstruction AUCROC=0.9932; AUCPR=0.1292\n",
      "Deviation AUCROC=0.8721; AUCPR=0.0073\n",
      "Max(rec, dev) AUCROC=0.9932; AUCPR=0.1292\n",
      "\n",
      "Sum of squared error AUCROC=0.9931; AUCPR=0.1277\n",
      "\n",
      "Transformer selector AUCROC=0.1832; AUCPR=0.0012\n",
      "\n",
      "{'Samples': 10000, 'Features': 29, 'Anomalies': 13, 'Anomalies Ratio(%)': 0.13}\n",
      "epoch : 1/5000, loss = 22.990595\n",
      "epoch : 1000/5000, loss = 0.191922\n",
      "epoch : 2000/5000, loss = 0.056112\n",
      "epoch : 3000/5000, loss = 0.048829\n",
      "epoch : 4000/5000, loss = 0.044552\n",
      "epoch : 5000/5000, loss = 0.026765\n",
      "self.error_median=0.0046, self.error_range=0.0214, self.latent_error_median_=0.0009, self.latent_error_range_=0.0027\n",
      "Model result scaling scheme:  True\n",
      "Latent dim= 16. Weight Decay = 0.000001\n",
      "Using cuda\n",
      "self.error_mu=0.0165, self.error_std=0.0343, self.latent_error_mu_=0.0022, self.latent_error_sigma_=0.0039; alpha = 1.0000\n"
     ]
    },
    {
     "name": "stderr",
     "output_type": "stream",
     "text": [
      "1035it [16:14:24, 124.01s/it]"
     ]
    },
    {
     "name": "stdout",
     "output_type": "stream",
     "text": [
      "Current experiment parameters: ('13_fraud', 0.0, 3), model: Customized, metrics: {'aucroc': 0.9780540720961282, 'aucpr': 0.060548004626952}, fitting time: 334.69100046157837, inference time: 0.002961397171020508\n",
      "\n",
      "Model performance:\n",
      "Reconstruction AUCROC=0.9881; AUCPR=0.1036\n",
      "Deviation AUCROC=0.9315; AUCPR=0.0159\n",
      "Max(rec, dev) AUCROC=0.9881; AUCPR=0.1036\n",
      "\n",
      "Sum of squared error AUCROC=0.9879; AUCPR=0.1014\n",
      "\n",
      "Transformer selector AUCROC=0.1807; AUCPR=0.0010\n",
      "\n",
      "{'Samples': 10000, 'Features': 10, 'Anomalies': 618, 'Anomalies Ratio(%)': 6.18}\n",
      "epoch : 1/5000, loss = 4.596013\n",
      "epoch : 1000/5000, loss = 0.072896\n",
      "epoch : 2000/5000, loss = 0.045675\n",
      "epoch : 3000/5000, loss = 0.032882\n",
      "epoch : 4000/5000, loss = 0.065832\n",
      "epoch : 5000/5000, loss = 0.012600\n",
      "self.error_median=0.0008, self.error_range=0.0013, self.latent_error_median_=0.0033, self.latent_error_range_=0.0036\n",
      "Model result scaling scheme:  True\n",
      "Latent dim= 10. Weight Decay = 0.000001\n",
      "Using cuda\n",
      "self.error_mu=0.0029, self.error_std=0.0289, self.latent_error_mu_=0.0039, self.latent_error_sigma_=0.0031; alpha = 1.0000\n",
      "Current experiment parameters: ('11_donors', 0.0, 1), model: Customized, metrics: {'aucroc': 0.8462810234746291, 'aucpr': 0.31356600586820993}, fitting time: 340.3012602329254, inference time: 0.001994609832763672\n"
     ]
    },
    {
     "name": "stderr",
     "output_type": "stream",
     "text": [
      "1057it [16:20:05, 56.37s/it] "
     ]
    },
    {
     "name": "stdout",
     "output_type": "stream",
     "text": [
      "\n",
      "Model performance:\n",
      "Reconstruction AUCROC=0.8803; AUCPR=0.3599\n",
      "Deviation AUCROC=0.6742; AUCPR=0.1244\n",
      "Max(rec, dev) AUCROC=0.7356; AUCPR=0.2099\n",
      "\n",
      "Sum of squared error AUCROC=0.7736; AUCPR=0.2359\n",
      "\n",
      "Transformer selector AUCROC=0.5459; AUCPR=0.1017\n",
      "\n"
     ]
    },
    {
     "name": "stderr",
     "output_type": "stream",
     "text": [
      "d:\\conda\\venv\\adbench\\Lib\\site-packages\\copulas\\multivariate\\vine.py:73: UserWarning: Vines have not been fully tested on Python >= 3.8 and might produce wrong results.\n",
      "  warnings.warn(\n",
      "d:\\conda\\venv\\adbench\\Lib\\site-packages\\copulas\\bivariate\\base.py:162: RuntimeWarning: Data does not appear to be uniform.\n",
      "  warnings.warn('Data does not appear to be uniform.', category=RuntimeWarning)\n",
      "d:\\conda\\venv\\adbench\\Lib\\site-packages\\copulas\\bivariate\\frank.py:98: RuntimeWarning: divide by zero encountered in log\n",
      "  return -1.0 / self.theta * np.log(1 + num / den)\n",
      "d:\\conda\\venv\\adbench\\Lib\\site-packages\\copulas\\bivariate\\clayton.py:86: RuntimeWarning: overflow encountered in power\n",
      "  np.power(U[i], -self.theta) + np.power(V[i], -self.theta) - 1,\n",
      "1058it [16:20:38, 55.46s/it]"
     ]
    },
    {
     "name": "stdout",
     "output_type": "stream",
     "text": [
      "Error when generating data: Marginal value out of bounds.\n",
      "{'Samples': 10000, 'Features': 10, 'Anomalies': 597, 'Anomalies Ratio(%)': 5.97}\n",
      "epoch : 1/5000, loss = 5.663138\n",
      "epoch : 1000/5000, loss = 0.066543\n",
      "epoch : 2000/5000, loss = 0.022374\n",
      "epoch : 3000/5000, loss = 0.018570\n",
      "epoch : 4000/5000, loss = 0.015785\n",
      "epoch : 5000/5000, loss = 0.011840\n",
      "self.error_median=0.0005, self.error_range=0.0012, self.latent_error_median_=0.0021, self.latent_error_range_=0.0025\n",
      "Model result scaling scheme:  True\n",
      "Latent dim= 10. Weight Decay = 0.000001\n",
      "Using cuda\n",
      "self.error_mu=0.0027, self.error_std=0.0276, self.latent_error_mu_=0.0028, self.latent_error_sigma_=0.0022; alpha = 1.0000\n",
      "Current experiment parameters: ('11_donors', 0.0, 3), model: Customized, metrics: {'aucroc': 0.8306139706392004, 'aucpr': 0.2632204175251722}, fitting time: 340.1811237335205, inference time: 0.0019948482513427734\n"
     ]
    },
    {
     "name": "stderr",
     "output_type": "stream",
     "text": [
      "1059it [16:26:19, 70.47s/it]"
     ]
    },
    {
     "name": "stdout",
     "output_type": "stream",
     "text": [
      "\n",
      "Model performance:\n",
      "Reconstruction AUCROC=0.8777; AUCPR=0.3086\n",
      "Deviation AUCROC=0.6581; AUCPR=0.1044\n",
      "Max(rec, dev) AUCROC=0.7359; AUCPR=0.2078\n",
      "\n",
      "Sum of squared error AUCROC=0.7716; AUCPR=0.2210\n",
      "\n",
      "Transformer selector AUCROC=0.4486; AUCPR=0.0749\n",
      "\n"
     ]
    },
    {
     "name": "stderr",
     "output_type": "stream",
     "text": [
      "d:\\conda\\venv\\adbench\\Lib\\site-packages\\copulas\\multivariate\\vine.py:73: UserWarning: Vines have not been fully tested on Python >= 3.8 and might produce wrong results.\n",
      "  warnings.warn(\n",
      "d:\\conda\\venv\\adbench\\Lib\\site-packages\\copulas\\bivariate\\base.py:162: RuntimeWarning: Data does not appear to be uniform.\n",
      "  warnings.warn('Data does not appear to be uniform.', category=RuntimeWarning)\n",
      "1081it [16:26:59, 27.68s/it]"
     ]
    },
    {
     "name": "stdout",
     "output_type": "stream",
     "text": [
      "Error when generating data: Constant column.\n"
     ]
    },
    {
     "name": "stderr",
     "output_type": "stream",
     "text": [
      "1082it [16:27:24, 27.60s/it]"
     ]
    },
    {
     "name": "stdout",
     "output_type": "stream",
     "text": [
      "Error when generating data: Constant column.\n"
     ]
    },
    {
     "name": "stderr",
     "output_type": "stream",
     "text": [
      "1083it [16:27:58, 27.93s/it]"
     ]
    },
    {
     "name": "stdout",
     "output_type": "stream",
     "text": [
      "Error when generating data: Constant column.\n"
     ]
    },
    {
     "name": "stderr",
     "output_type": "stream",
     "text": [
      "1105it [16:29:22, 12.89s/it]"
     ]
    },
    {
     "name": "stdout",
     "output_type": "stream",
     "text": [
      "Error when generating data: Constant column.\n",
      "{'Samples': 10000, 'Features': 50, 'Anomalies': 628, 'Anomalies Ratio(%)': 6.28}\n",
      "epoch : 1/5000, loss = 7.594857\n",
      "epoch : 1000/5000, loss = 0.507692\n",
      "epoch : 2000/5000, loss = 0.296495\n",
      "epoch : 3000/5000, loss = 0.303261\n",
      "epoch : 4000/5000, loss = 0.241559\n",
      "epoch : 5000/5000, loss = 0.234792\n",
      "self.error_median=0.0048, self.error_range=0.0609, self.latent_error_median_=0.0044, self.latent_error_range_=0.0111\n",
      "Model result scaling scheme:  True\n",
      "Latent dim= 16. Weight Decay = 0.000001\n",
      "Using cuda\n",
      "self.error_mu=0.0773, self.error_std=0.2077, self.latent_error_mu_=0.0085, self.latent_error_sigma_=0.0122; alpha = 1.0000\n",
      "Current experiment parameters: ('9_census', 0.0, 2), model: Customized, metrics: {'aucroc': 0.9564102176084259, 'aucpr': 0.5839067363085827}, fitting time: 333.0905730724335, inference time: 0.001994609832763672\n"
     ]
    },
    {
     "name": "stderr",
     "output_type": "stream",
     "text": [
      "1106it [16:34:57, 25.43s/it]"
     ]
    },
    {
     "name": "stdout",
     "output_type": "stream",
     "text": [
      "\n",
      "Model performance:\n",
      "Reconstruction AUCROC=0.9698; AUCPR=0.6559\n",
      "Deviation AUCROC=0.8414; AUCPR=0.2076\n",
      "Max(rec, dev) AUCROC=0.9698; AUCPR=0.6559\n",
      "\n",
      "Sum of squared error AUCROC=0.9695; AUCPR=0.6543\n",
      "\n",
      "Transformer selector AUCROC=0.6097; AUCPR=0.0716\n",
      "\n"
     ]
    },
    {
     "name": "stderr",
     "output_type": "stream",
     "text": [
      "d:\\conda\\venv\\adbench\\Lib\\site-packages\\copulas\\multivariate\\vine.py:73: UserWarning: Vines have not been fully tested on Python >= 3.8 and might produce wrong results.\n",
      "  warnings.warn(\n",
      "d:\\conda\\venv\\adbench\\Lib\\site-packages\\copulas\\bivariate\\base.py:162: RuntimeWarning: Data does not appear to be uniform.\n",
      "  warnings.warn('Data does not appear to be uniform.', category=RuntimeWarning)\n",
      "1128it [16:36:13, 52.99s/it]"
     ]
    },
    {
     "name": "stdout",
     "output_type": "stream",
     "text": [
      "Error when generating data: Constant column.\n",
      "{'Samples': 10000, 'Features': 10, 'Anomalies': 97, 'Anomalies Ratio(%)': 0.97}\n",
      "{'Samples': 10000, 'Features': 10, 'Anomalies': 116, 'Anomalies Ratio(%)': 1.16}\n",
      "{'Samples': 10000, 'Features': 10, 'Anomalies': 95, 'Anomalies Ratio(%)': 0.95}\n"
     ]
    },
    {
     "name": "stderr",
     "output_type": "stream",
     "text": [
      "\n"
     ]
    },
    {
     "name": "stdout",
     "output_type": "stream",
     "text": [
      "{'Samples': 10000, 'Features': 10, 'Anomalies': 618, 'Anomalies Ratio(%)': 6.18}\n",
      "{'Samples': 10000, 'Features': 10, 'Anomalies': 578, 'Anomalies Ratio(%)': 5.78}\n",
      "{'Samples': 10000, 'Features': 10, 'Anomalies': 597, 'Anomalies Ratio(%)': 5.97}\n",
      "{'Samples': 1941, 'Features': 27, 'Anomalies': 673, 'Anomalies Ratio(%)': 34.67}\n",
      "{'Samples': 1941, 'Features': 27, 'Anomalies': 673, 'Anomalies Ratio(%)': 34.67}\n",
      "{'Samples': 1941, 'Features': 27, 'Anomalies': 673, 'Anomalies Ratio(%)': 34.67}\n",
      "{'Samples': 10000, 'Features': 29, 'Anomalies': 15, 'Anomalies Ratio(%)': 0.15}\n",
      "{'Samples': 10000, 'Features': 29, 'Anomalies': 15, 'Anomalies Ratio(%)': 0.15}\n",
      "{'Samples': 10000, 'Features': 29, 'Anomalies': 13, 'Anomalies Ratio(%)': 0.13}\n",
      "{'Samples': 1000, 'Features': 7, 'Anomalies': 42, 'Anomalies Ratio(%)': 4.2}\n",
      "{'Samples': 1000, 'Features': 7, 'Anomalies': 42, 'Anomalies Ratio(%)': 4.2}\n",
      "{'Samples': 1000, 'Features': 7, 'Anomalies': 34, 'Anomalies Ratio(%)': 3.4}\n",
      "{'Samples': 1000, 'Features': 19, 'Anomalies': 170, 'Anomalies Ratio(%)': 17.0}\n",
      "{'Samples': 1000, 'Features': 19, 'Anomalies': 139, 'Anomalies Ratio(%)': 13.9}\n",
      "{'Samples': 1000, 'Features': 19, 'Anomalies': 169, 'Anomalies Ratio(%)': 16.9}\n",
      "{'Samples': 10000, 'Features': 3, 'Anomalies': 46, 'Anomalies Ratio(%)': 0.46}\n",
      "{'Samples': 10000, 'Features': 3, 'Anomalies': 35, 'Anomalies Ratio(%)': 0.35}\n",
      "{'Samples': 10000, 'Features': 3, 'Anomalies': 34, 'Anomalies Ratio(%)': 0.34}\n",
      "{'Samples': 1966, 'Features': 1555, 'Anomalies': 368, 'Anomalies Ratio(%)': 18.72}\n",
      "{'Samples': 1966, 'Features': 1555, 'Anomalies': 368, 'Anomalies Ratio(%)': 18.72}\n",
      "{'Samples': 1966, 'Features': 1555, 'Anomalies': 368, 'Anomalies Ratio(%)': 18.72}\n",
      "{'Samples': 1000, 'Features': 32, 'Anomalies': 369, 'Anomalies Ratio(%)': 36.9}\n",
      "{'Samples': 1000, 'Features': 32, 'Anomalies': 374, 'Anomalies Ratio(%)': 37.4}\n",
      "{'Samples': 1000, 'Features': 32, 'Anomalies': 349, 'Anomalies Ratio(%)': 34.9}\n",
      "{'Samples': 6435, 'Features': 36, 'Anomalies': 1333, 'Anomalies Ratio(%)': 20.71}\n",
      "{'Samples': 6435, 'Features': 36, 'Anomalies': 1333, 'Anomalies Ratio(%)': 20.71}\n",
      "{'Samples': 6435, 'Features': 36, 'Anomalies': 1333, 'Anomalies Ratio(%)': 20.71}\n",
      "{'Samples': 10000, 'Features': 27, 'Anomalies': 315, 'Anomalies Ratio(%)': 3.15}\n",
      "{'Samples': 10000, 'Features': 27, 'Anomalies': 334, 'Anomalies Ratio(%)': 3.34}\n",
      "{'Samples': 10000, 'Features': 27, 'Anomalies': 332, 'Anomalies Ratio(%)': 3.32}\n",
      "{'Samples': 1600, 'Features': 32, 'Anomalies': 100, 'Anomalies Ratio(%)': 6.25}\n",
      "{'Samples': 1600, 'Features': 32, 'Anomalies': 100, 'Anomalies Ratio(%)': 6.25}\n",
      "{'Samples': 1600, 'Features': 32, 'Anomalies': 100, 'Anomalies Ratio(%)': 6.25}\n",
      "{'Samples': 1000, 'Features': 18, 'Anomalies': 44, 'Anomalies Ratio(%)': 4.4}\n",
      "{'Samples': 1000, 'Features': 18, 'Anomalies': 38, 'Anomalies Ratio(%)': 3.8}\n",
      "{'Samples': 1000, 'Features': 18, 'Anomalies': 43, 'Anomalies Ratio(%)': 4.3}\n",
      "{'Samples': 10000, 'Features': 10, 'Anomalies': 3548, 'Anomalies Ratio(%)': 35.48}\n",
      "{'Samples': 10000, 'Features': 10, 'Anomalies': 3533, 'Anomalies Ratio(%)': 35.33}\n",
      "{'Samples': 10000, 'Features': 10, 'Anomalies': 3500, 'Anomalies Ratio(%)': 35.0}\n",
      "{'Samples': 10000, 'Features': 6, 'Anomalies': 230, 'Anomalies Ratio(%)': 2.3}\n",
      "{'Samples': 10000, 'Features': 6, 'Anomalies': 241, 'Anomalies Ratio(%)': 2.41}\n",
      "{'Samples': 10000, 'Features': 6, 'Anomalies': 227, 'Anomalies Ratio(%)': 2.27}\n",
      "{'Samples': 7603, 'Features': 100, 'Anomalies': 700, 'Anomalies Ratio(%)': 9.21}\n",
      "{'Samples': 7603, 'Features': 100, 'Anomalies': 700, 'Anomalies Ratio(%)': 9.21}\n",
      "{'Samples': 7603, 'Features': 100, 'Anomalies': 700, 'Anomalies Ratio(%)': 9.21}\n",
      "{'Samples': 3062, 'Features': 166, 'Anomalies': 97, 'Anomalies Ratio(%)': 3.17}\n",
      "{'Samples': 3062, 'Features': 166, 'Anomalies': 97, 'Anomalies Ratio(%)': 3.17}\n",
      "{'Samples': 3062, 'Features': 166, 'Anomalies': 97, 'Anomalies Ratio(%)': 3.17}\n",
      "{'Samples': 5216, 'Features': 64, 'Anomalies': 150, 'Anomalies Ratio(%)': 2.88}\n",
      "{'Samples': 5216, 'Features': 64, 'Anomalies': 150, 'Anomalies Ratio(%)': 2.88}\n",
      "{'Samples': 5216, 'Features': 64, 'Anomalies': 150, 'Anomalies Ratio(%)': 2.88}\n",
      "{'Samples': 5393, 'Features': 10, 'Anomalies': 510, 'Anomalies Ratio(%)': 9.46}\n",
      "{'Samples': 5393, 'Features': 10, 'Anomalies': 510, 'Anomalies Ratio(%)': 9.46}\n",
      "{'Samples': 5393, 'Features': 10, 'Anomalies': 510, 'Anomalies Ratio(%)': 9.46}\n",
      "{'Samples': 6870, 'Features': 16, 'Anomalies': 156, 'Anomalies Ratio(%)': 2.27}\n",
      "{'Samples': 6870, 'Features': 16, 'Anomalies': 156, 'Anomalies Ratio(%)': 2.27}\n",
      "{'Samples': 6870, 'Features': 16, 'Anomalies': 156, 'Anomalies Ratio(%)': 2.27}\n",
      "{'Samples': 1000, 'Features': 8, 'Anomalies': 367, 'Anomalies Ratio(%)': 36.7}\n",
      "{'Samples': 1000, 'Features': 8, 'Anomalies': 346, 'Anomalies Ratio(%)': 34.6}\n",
      "{'Samples': 1000, 'Features': 8, 'Anomalies': 308, 'Anomalies Ratio(%)': 30.8}\n",
      "{'Samples': 7200, 'Features': 6, 'Anomalies': 534, 'Anomalies Ratio(%)': 7.42}\n",
      "{'Samples': 7200, 'Features': 6, 'Anomalies': 534, 'Anomalies Ratio(%)': 7.42}\n",
      "{'Samples': 7200, 'Features': 6, 'Anomalies': 534, 'Anomalies Ratio(%)': 7.42}\n",
      "{'Samples': 6435, 'Features': 36, 'Anomalies': 2036, 'Anomalies Ratio(%)': 31.64}\n",
      "{'Samples': 6435, 'Features': 36, 'Anomalies': 2036, 'Anomalies Ratio(%)': 31.64}\n",
      "{'Samples': 6435, 'Features': 36, 'Anomalies': 2036, 'Anomalies Ratio(%)': 31.64}\n",
      "{'Samples': 5803, 'Features': 36, 'Anomalies': 71, 'Anomalies Ratio(%)': 1.22}\n",
      "{'Samples': 5803, 'Features': 36, 'Anomalies': 71, 'Anomalies Ratio(%)': 1.22}\n",
      "{'Samples': 5803, 'Features': 36, 'Anomalies': 71, 'Anomalies Ratio(%)': 1.22}\n",
      "{'Samples': 10000, 'Features': 9, 'Anomalies': 669, 'Anomalies Ratio(%)': 6.69}\n",
      "{'Samples': 10000, 'Features': 9, 'Anomalies': 697, 'Anomalies Ratio(%)': 6.97}\n",
      "{'Samples': 10000, 'Features': 9, 'Anomalies': 714, 'Anomalies Ratio(%)': 7.14}\n",
      "{'Samples': 10000, 'Features': 3, 'Anomalies': 2081, 'Anomalies Ratio(%)': 20.81}\n",
      "{'Samples': 10000, 'Features': 3, 'Anomalies': 2082, 'Anomalies Ratio(%)': 20.82}\n",
      "{'Samples': 10000, 'Features': 3, 'Anomalies': 2066, 'Anomalies Ratio(%)': 20.66}\n",
      "{'Samples': 10000, 'Features': 3, 'Anomalies': 4, 'Anomalies Ratio(%)': 0.04}\n",
      "{'Samples': 10000, 'Features': 3, 'Anomalies': 4, 'Anomalies Ratio(%)': 0.04}\n",
      "{'Samples': 10000, 'Features': 3, 'Anomalies': 5, 'Anomalies Ratio(%)': 0.05}\n",
      "{'Samples': 4207, 'Features': 57, 'Anomalies': 1679, 'Anomalies Ratio(%)': 39.91}\n",
      "{'Samples': 4207, 'Features': 57, 'Anomalies': 1679, 'Anomalies Ratio(%)': 39.91}\n",
      "{'Samples': 4207, 'Features': 57, 'Anomalies': 1679, 'Anomalies Ratio(%)': 39.91}\n",
      "{'Samples': 3686, 'Features': 400, 'Anomalies': 61, 'Anomalies Ratio(%)': 1.65}\n",
      "{'Samples': 3686, 'Features': 400, 'Anomalies': 61, 'Anomalies Ratio(%)': 1.65}\n",
      "{'Samples': 3686, 'Features': 400, 'Anomalies': 61, 'Anomalies Ratio(%)': 1.65}\n",
      "{'Samples': 1000, 'Features': 9, 'Anomalies': 90, 'Anomalies Ratio(%)': 9.0}\n",
      "{'Samples': 1000, 'Features': 9, 'Anomalies': 95, 'Anomalies Ratio(%)': 9.5}\n",
      "{'Samples': 1000, 'Features': 9, 'Anomalies': 100, 'Anomalies Ratio(%)': 10.0}\n",
      "{'Samples': 3772, 'Features': 6, 'Anomalies': 93, 'Anomalies Ratio(%)': 2.47}\n",
      "{'Samples': 3772, 'Features': 6, 'Anomalies': 93, 'Anomalies Ratio(%)': 2.47}\n",
      "{'Samples': 3772, 'Features': 6, 'Anomalies': 93, 'Anomalies Ratio(%)': 2.47}\n",
      "{'Samples': 1000, 'Features': 6, 'Anomalies': 123, 'Anomalies Ratio(%)': 12.3}\n",
      "{'Samples': 1000, 'Features': 6, 'Anomalies': 138, 'Anomalies Ratio(%)': 13.8}\n",
      "{'Samples': 1000, 'Features': 6, 'Anomalies': 133, 'Anomalies Ratio(%)': 13.3}\n",
      "{'Samples': 10000, 'Features': 196, 'Anomalies': 252, 'Anomalies Ratio(%)': 2.52}\n",
      "{'Samples': 10000, 'Features': 196, 'Anomalies': 246, 'Anomalies Ratio(%)': 2.46}\n",
      "{'Samples': 10000, 'Features': 196, 'Anomalies': 256, 'Anomalies Ratio(%)': 2.56}\n",
      "{'Samples': 1456, 'Features': 12, 'Anomalies': 50, 'Anomalies Ratio(%)': 3.43}\n",
      "{'Samples': 1456, 'Features': 12, 'Anomalies': 50, 'Anomalies Ratio(%)': 3.43}\n",
      "{'Samples': 1456, 'Features': 12, 'Anomalies': 50, 'Anomalies Ratio(%)': 3.43}\n",
      "{'Samples': 3443, 'Features': 21, 'Anomalies': 100, 'Anomalies Ratio(%)': 2.9}\n",
      "{'Samples': 3443, 'Features': 21, 'Anomalies': 100, 'Anomalies Ratio(%)': 2.9}\n",
      "{'Samples': 3443, 'Features': 21, 'Anomalies': 100, 'Anomalies Ratio(%)': 2.9}\n",
      "{'Samples': 1000, 'Features': 9, 'Anomalies': 35, 'Anomalies Ratio(%)': 3.5}\n",
      "{'Samples': 1000, 'Features': 9, 'Anomalies': 45, 'Anomalies Ratio(%)': 4.5}\n",
      "{'Samples': 1000, 'Features': 9, 'Anomalies': 48, 'Anomalies Ratio(%)': 4.8}\n",
      "{'Samples': 1000, 'Features': 30, 'Anomalies': 26, 'Anomalies Ratio(%)': 2.6}\n",
      "{'Samples': 1000, 'Features': 30, 'Anomalies': 29, 'Anomalies Ratio(%)': 2.9}\n",
      "{'Samples': 1000, 'Features': 30, 'Anomalies': 27, 'Anomalies Ratio(%)': 2.7}\n",
      "{'Samples': 4819, 'Features': 5, 'Anomalies': 257, 'Anomalies Ratio(%)': 5.33}\n",
      "{'Samples': 4819, 'Features': 5, 'Anomalies': 257, 'Anomalies Ratio(%)': 5.33}\n",
      "{'Samples': 4819, 'Features': 5, 'Anomalies': 257, 'Anomalies Ratio(%)': 5.33}\n",
      "{'Samples': 1000, 'Features': 13, 'Anomalies': 75, 'Anomalies Ratio(%)': 7.5}\n",
      "{'Samples': 1000, 'Features': 13, 'Anomalies': 80, 'Anomalies Ratio(%)': 8.0}\n",
      "{'Samples': 1000, 'Features': 13, 'Anomalies': 88, 'Anomalies Ratio(%)': 8.8}\n",
      "{'Samples': 1000, 'Features': 33, 'Anomalies': 239, 'Anomalies Ratio(%)': 23.9}\n",
      "{'Samples': 1000, 'Features': 33, 'Anomalies': 224, 'Anomalies Ratio(%)': 22.4}\n",
      "{'Samples': 1000, 'Features': 33, 'Anomalies': 225, 'Anomalies Ratio(%)': 22.5}\n",
      "{'Samples': 1484, 'Features': 8, 'Anomalies': 507, 'Anomalies Ratio(%)': 34.16}\n",
      "{'Samples': 1484, 'Features': 8, 'Anomalies': 507, 'Anomalies Ratio(%)': 34.16}\n",
      "{'Samples': 1484, 'Features': 8, 'Anomalies': 507, 'Anomalies Ratio(%)': 34.16}\n",
      "{'Samples': 1000, 'Features': 9, 'Anomalies': 348, 'Anomalies Ratio(%)': 34.8}\n",
      "{'Samples': 1000, 'Features': 9, 'Anomalies': 336, 'Anomalies Ratio(%)': 33.6}\n",
      "{'Samples': 1000, 'Features': 9, 'Anomalies': 364, 'Anomalies Ratio(%)': 36.4}\n",
      "{'Samples': 10000, 'Features': 62, 'Anomalies': 1134, 'Anomalies Ratio(%)': 11.34}\n",
      "{'Samples': 10000, 'Features': 62, 'Anomalies': 1129, 'Anomalies Ratio(%)': 11.29}\n",
      "{'Samples': 10000, 'Features': 62, 'Anomalies': 1129, 'Anomalies Ratio(%)': 11.29}\n",
      "{'Samples': 1831, 'Features': 21, 'Anomalies': 176, 'Anomalies Ratio(%)': 9.61}\n",
      "{'Samples': 1831, 'Features': 21, 'Anomalies': 176, 'Anomalies Ratio(%)': 9.61}\n",
      "{'Samples': 1831, 'Features': 21, 'Anomalies': 176, 'Anomalies Ratio(%)': 9.61}\n",
      "{'Samples': 2114, 'Features': 21, 'Anomalies': 466, 'Anomalies Ratio(%)': 22.04}\n",
      "{'Samples': 2114, 'Features': 21, 'Anomalies': 466, 'Anomalies Ratio(%)': 22.04}\n",
      "{'Samples': 2114, 'Features': 21, 'Anomalies': 466, 'Anomalies Ratio(%)': 22.04}\n",
      "{'Samples': 10000, 'Features': 39, 'Anomalies': 222, 'Anomalies Ratio(%)': 2.22}\n",
      "{'Samples': 10000, 'Features': 39, 'Anomalies': 238, 'Anomalies Ratio(%)': 2.38}\n",
      "{'Samples': 10000, 'Features': 39, 'Anomalies': 216, 'Anomalies Ratio(%)': 2.16}\n",
      "{'Samples': 10000, 'Features': 500, 'Anomalies': 618, 'Anomalies Ratio(%)': 6.18}\n",
      "{'Samples': 10000, 'Features': 500, 'Anomalies': 628, 'Anomalies Ratio(%)': 6.28}\n",
      "{'Samples': 10000, 'Features': 500, 'Anomalies': 652, 'Anomalies Ratio(%)': 6.52}\n",
      "{'Samples': 5263, 'Features': 512, 'Anomalies': 263, 'Anomalies Ratio(%)': 5.0}\n",
      "{'Samples': 5263, 'Features': 512, 'Anomalies': 263, 'Anomalies Ratio(%)': 5.0}\n",
      "{'Samples': 5263, 'Features': 512, 'Anomalies': 263, 'Anomalies Ratio(%)': 5.0}\n",
      "{'Samples': 5263, 'Features': 512, 'Anomalies': 263, 'Anomalies Ratio(%)': 5.0}\n",
      "{'Samples': 5263, 'Features': 512, 'Anomalies': 263, 'Anomalies Ratio(%)': 5.0}\n",
      "{'Samples': 5263, 'Features': 512, 'Anomalies': 263, 'Anomalies Ratio(%)': 5.0}\n",
      "{'Samples': 5263, 'Features': 512, 'Anomalies': 263, 'Anomalies Ratio(%)': 5.0}\n",
      "{'Samples': 5263, 'Features': 512, 'Anomalies': 263, 'Anomalies Ratio(%)': 5.0}\n",
      "{'Samples': 5263, 'Features': 512, 'Anomalies': 263, 'Anomalies Ratio(%)': 5.0}\n",
      "{'Samples': 5263, 'Features': 512, 'Anomalies': 263, 'Anomalies Ratio(%)': 5.0}\n",
      "{'Samples': 5263, 'Features': 512, 'Anomalies': 263, 'Anomalies Ratio(%)': 5.0}\n",
      "{'Samples': 5263, 'Features': 512, 'Anomalies': 263, 'Anomalies Ratio(%)': 5.0}\n",
      "{'Samples': 5263, 'Features': 512, 'Anomalies': 263, 'Anomalies Ratio(%)': 5.0}\n",
      "{'Samples': 5263, 'Features': 512, 'Anomalies': 263, 'Anomalies Ratio(%)': 5.0}\n",
      "{'Samples': 5263, 'Features': 512, 'Anomalies': 263, 'Anomalies Ratio(%)': 5.0}\n",
      "{'Samples': 5263, 'Features': 512, 'Anomalies': 263, 'Anomalies Ratio(%)': 5.0}\n",
      "{'Samples': 5263, 'Features': 512, 'Anomalies': 263, 'Anomalies Ratio(%)': 5.0}\n",
      "{'Samples': 5263, 'Features': 512, 'Anomalies': 263, 'Anomalies Ratio(%)': 5.0}\n",
      "{'Samples': 5263, 'Features': 512, 'Anomalies': 263, 'Anomalies Ratio(%)': 5.0}\n",
      "{'Samples': 5263, 'Features': 512, 'Anomalies': 263, 'Anomalies Ratio(%)': 5.0}\n",
      "{'Samples': 5263, 'Features': 512, 'Anomalies': 263, 'Anomalies Ratio(%)': 5.0}\n",
      "{'Samples': 5263, 'Features': 512, 'Anomalies': 263, 'Anomalies Ratio(%)': 5.0}\n",
      "{'Samples': 5263, 'Features': 512, 'Anomalies': 263, 'Anomalies Ratio(%)': 5.0}\n",
      "{'Samples': 5263, 'Features': 512, 'Anomalies': 263, 'Anomalies Ratio(%)': 5.0}\n",
      "{'Samples': 5263, 'Features': 512, 'Anomalies': 263, 'Anomalies Ratio(%)': 5.0}\n",
      "{'Samples': 5263, 'Features': 512, 'Anomalies': 263, 'Anomalies Ratio(%)': 5.0}\n",
      "{'Samples': 5263, 'Features': 512, 'Anomalies': 263, 'Anomalies Ratio(%)': 5.0}\n",
      "{'Samples': 5263, 'Features': 512, 'Anomalies': 263, 'Anomalies Ratio(%)': 5.0}\n",
      "{'Samples': 5263, 'Features': 512, 'Anomalies': 263, 'Anomalies Ratio(%)': 5.0}\n",
      "{'Samples': 5263, 'Features': 512, 'Anomalies': 263, 'Anomalies Ratio(%)': 5.0}\n",
      "{'Samples': 6315, 'Features': 512, 'Anomalies': 315, 'Anomalies Ratio(%)': 4.99}\n",
      "{'Samples': 6315, 'Features': 512, 'Anomalies': 315, 'Anomalies Ratio(%)': 4.99}\n",
      "{'Samples': 6315, 'Features': 512, 'Anomalies': 315, 'Anomalies Ratio(%)': 4.99}\n",
      "{'Samples': 6315, 'Features': 512, 'Anomalies': 315, 'Anomalies Ratio(%)': 4.99}\n",
      "{'Samples': 6315, 'Features': 512, 'Anomalies': 315, 'Anomalies Ratio(%)': 4.99}\n",
      "{'Samples': 6315, 'Features': 512, 'Anomalies': 315, 'Anomalies Ratio(%)': 4.99}\n",
      "{'Samples': 6315, 'Features': 512, 'Anomalies': 315, 'Anomalies Ratio(%)': 4.99}\n",
      "{'Samples': 6315, 'Features': 512, 'Anomalies': 315, 'Anomalies Ratio(%)': 4.99}\n",
      "{'Samples': 6315, 'Features': 512, 'Anomalies': 315, 'Anomalies Ratio(%)': 4.99}\n",
      "{'Samples': 6315, 'Features': 512, 'Anomalies': 315, 'Anomalies Ratio(%)': 4.99}\n",
      "{'Samples': 6315, 'Features': 512, 'Anomalies': 315, 'Anomalies Ratio(%)': 4.99}\n",
      "{'Samples': 6315, 'Features': 512, 'Anomalies': 315, 'Anomalies Ratio(%)': 4.99}\n",
      "{'Samples': 6315, 'Features': 512, 'Anomalies': 315, 'Anomalies Ratio(%)': 4.99}\n",
      "{'Samples': 6315, 'Features': 512, 'Anomalies': 315, 'Anomalies Ratio(%)': 4.99}\n",
      "{'Samples': 6315, 'Features': 512, 'Anomalies': 315, 'Anomalies Ratio(%)': 4.99}\n",
      "{'Samples': 6315, 'Features': 512, 'Anomalies': 315, 'Anomalies Ratio(%)': 4.99}\n",
      "{'Samples': 6315, 'Features': 512, 'Anomalies': 315, 'Anomalies Ratio(%)': 4.99}\n",
      "{'Samples': 6315, 'Features': 512, 'Anomalies': 315, 'Anomalies Ratio(%)': 4.99}\n",
      "{'Samples': 6315, 'Features': 512, 'Anomalies': 315, 'Anomalies Ratio(%)': 4.99}\n",
      "{'Samples': 6315, 'Features': 512, 'Anomalies': 315, 'Anomalies Ratio(%)': 4.99}\n",
      "{'Samples': 6315, 'Features': 512, 'Anomalies': 315, 'Anomalies Ratio(%)': 4.99}\n",
      "{'Samples': 6315, 'Features': 512, 'Anomalies': 315, 'Anomalies Ratio(%)': 4.99}\n",
      "{'Samples': 6315, 'Features': 512, 'Anomalies': 315, 'Anomalies Ratio(%)': 4.99}\n",
      "{'Samples': 6315, 'Features': 512, 'Anomalies': 315, 'Anomalies Ratio(%)': 4.99}\n",
      "{'Samples': 6315, 'Features': 512, 'Anomalies': 315, 'Anomalies Ratio(%)': 4.99}\n",
      "{'Samples': 6315, 'Features': 512, 'Anomalies': 315, 'Anomalies Ratio(%)': 4.99}\n",
      "{'Samples': 6315, 'Features': 512, 'Anomalies': 315, 'Anomalies Ratio(%)': 4.99}\n",
      "{'Samples': 6315, 'Features': 512, 'Anomalies': 315, 'Anomalies Ratio(%)': 4.99}\n",
      "{'Samples': 6315, 'Features': 512, 'Anomalies': 315, 'Anomalies Ratio(%)': 4.99}\n",
      "{'Samples': 6315, 'Features': 512, 'Anomalies': 315, 'Anomalies Ratio(%)': 4.99}\n",
      "{'Samples': 10000, 'Features': 512, 'Anomalies': 500, 'Anomalies Ratio(%)': 5.0}\n",
      "{'Samples': 10000, 'Features': 512, 'Anomalies': 500, 'Anomalies Ratio(%)': 5.0}\n",
      "{'Samples': 10000, 'Features': 512, 'Anomalies': 500, 'Anomalies Ratio(%)': 5.0}\n",
      "{'Samples': 10000, 'Features': 512, 'Anomalies': 500, 'Anomalies Ratio(%)': 5.0}\n",
      "{'Samples': 10000, 'Features': 512, 'Anomalies': 500, 'Anomalies Ratio(%)': 5.0}\n",
      "{'Samples': 10000, 'Features': 512, 'Anomalies': 500, 'Anomalies Ratio(%)': 5.0}\n",
      "{'Samples': 10000, 'Features': 512, 'Anomalies': 500, 'Anomalies Ratio(%)': 5.0}\n",
      "{'Samples': 10000, 'Features': 512, 'Anomalies': 500, 'Anomalies Ratio(%)': 5.0}\n",
      "{'Samples': 10000, 'Features': 512, 'Anomalies': 500, 'Anomalies Ratio(%)': 5.0}\n",
      "{'Samples': 10000, 'Features': 512, 'Anomalies': 500, 'Anomalies Ratio(%)': 5.0}\n",
      "{'Samples': 10000, 'Features': 512, 'Anomalies': 500, 'Anomalies Ratio(%)': 5.0}\n",
      "{'Samples': 10000, 'Features': 512, 'Anomalies': 500, 'Anomalies Ratio(%)': 5.0}\n",
      "{'Samples': 10000, 'Features': 512, 'Anomalies': 500, 'Anomalies Ratio(%)': 5.0}\n",
      "{'Samples': 10000, 'Features': 512, 'Anomalies': 500, 'Anomalies Ratio(%)': 5.0}\n",
      "{'Samples': 10000, 'Features': 512, 'Anomalies': 500, 'Anomalies Ratio(%)': 5.0}\n",
      "{'Samples': 10000, 'Features': 512, 'Anomalies': 500, 'Anomalies Ratio(%)': 5.0}\n",
      "{'Samples': 10000, 'Features': 512, 'Anomalies': 500, 'Anomalies Ratio(%)': 5.0}\n",
      "{'Samples': 10000, 'Features': 512, 'Anomalies': 500, 'Anomalies Ratio(%)': 5.0}\n",
      "{'Samples': 10000, 'Features': 512, 'Anomalies': 500, 'Anomalies Ratio(%)': 5.0}\n",
      "{'Samples': 10000, 'Features': 512, 'Anomalies': 500, 'Anomalies Ratio(%)': 5.0}\n",
      "{'Samples': 10000, 'Features': 512, 'Anomalies': 500, 'Anomalies Ratio(%)': 5.0}\n",
      "{'Samples': 10000, 'Features': 512, 'Anomalies': 500, 'Anomalies Ratio(%)': 5.0}\n",
      "{'Samples': 10000, 'Features': 512, 'Anomalies': 500, 'Anomalies Ratio(%)': 5.0}\n",
      "{'Samples': 10000, 'Features': 512, 'Anomalies': 500, 'Anomalies Ratio(%)': 5.0}\n",
      "{'Samples': 10000, 'Features': 512, 'Anomalies': 500, 'Anomalies Ratio(%)': 5.0}\n",
      "{'Samples': 10000, 'Features': 512, 'Anomalies': 500, 'Anomalies Ratio(%)': 5.0}\n",
      "{'Samples': 10000, 'Features': 512, 'Anomalies': 500, 'Anomalies Ratio(%)': 5.0}\n",
      "{'Samples': 10000, 'Features': 512, 'Anomalies': 500, 'Anomalies Ratio(%)': 5.0}\n",
      "{'Samples': 10000, 'Features': 512, 'Anomalies': 500, 'Anomalies Ratio(%)': 5.0}\n",
      "{'Samples': 10000, 'Features': 512, 'Anomalies': 500, 'Anomalies Ratio(%)': 5.0}\n",
      "{'Samples': 10000, 'Features': 512, 'Anomalies': 500, 'Anomalies Ratio(%)': 5.0}\n",
      "{'Samples': 10000, 'Features': 512, 'Anomalies': 500, 'Anomalies Ratio(%)': 5.0}\n",
      "{'Samples': 10000, 'Features': 512, 'Anomalies': 500, 'Anomalies Ratio(%)': 5.0}\n",
      "{'Samples': 10000, 'Features': 512, 'Anomalies': 500, 'Anomalies Ratio(%)': 5.0}\n",
      "{'Samples': 10000, 'Features': 512, 'Anomalies': 500, 'Anomalies Ratio(%)': 5.0}\n",
      "{'Samples': 10000, 'Features': 512, 'Anomalies': 500, 'Anomalies Ratio(%)': 5.0}\n",
      "{'Samples': 10000, 'Features': 512, 'Anomalies': 500, 'Anomalies Ratio(%)': 5.0}\n",
      "{'Samples': 10000, 'Features': 512, 'Anomalies': 500, 'Anomalies Ratio(%)': 5.0}\n",
      "{'Samples': 10000, 'Features': 512, 'Anomalies': 500, 'Anomalies Ratio(%)': 5.0}\n",
      "{'Samples': 10000, 'Features': 512, 'Anomalies': 500, 'Anomalies Ratio(%)': 5.0}\n",
      "{'Samples': 10000, 'Features': 512, 'Anomalies': 500, 'Anomalies Ratio(%)': 5.0}\n",
      "{'Samples': 10000, 'Features': 512, 'Anomalies': 500, 'Anomalies Ratio(%)': 5.0}\n",
      "{'Samples': 10000, 'Features': 512, 'Anomalies': 500, 'Anomalies Ratio(%)': 5.0}\n",
      "{'Samples': 10000, 'Features': 512, 'Anomalies': 500, 'Anomalies Ratio(%)': 5.0}\n",
      "{'Samples': 10000, 'Features': 512, 'Anomalies': 500, 'Anomalies Ratio(%)': 5.0}\n",
      "{'Samples': 10000, 'Features': 512, 'Anomalies': 500, 'Anomalies Ratio(%)': 5.0}\n",
      "{'Samples': 10000, 'Features': 512, 'Anomalies': 500, 'Anomalies Ratio(%)': 5.0}\n",
      "{'Samples': 10000, 'Features': 512, 'Anomalies': 500, 'Anomalies Ratio(%)': 5.0}\n",
      "{'Samples': 1000, 'Features': 512, 'Anomalies': 215, 'Anomalies Ratio(%)': 21.5}\n",
      "{'Samples': 1000, 'Features': 512, 'Anomalies': 215, 'Anomalies Ratio(%)': 21.5}\n",
      "{'Samples': 1000, 'Features': 512, 'Anomalies': 198, 'Anomalies Ratio(%)': 19.8}\n",
      "{'Samples': 1000, 'Features': 512, 'Anomalies': 251, 'Anomalies Ratio(%)': 25.1}\n",
      "{'Samples': 1000, 'Features': 512, 'Anomalies': 242, 'Anomalies Ratio(%)': 24.2}\n",
      "{'Samples': 1000, 'Features': 512, 'Anomalies': 242, 'Anomalies Ratio(%)': 24.2}\n",
      "{'Samples': 1000, 'Features': 512, 'Anomalies': 308, 'Anomalies Ratio(%)': 30.8}\n",
      "{'Samples': 1000, 'Features': 512, 'Anomalies': 304, 'Anomalies Ratio(%)': 30.4}\n",
      "{'Samples': 1000, 'Features': 512, 'Anomalies': 294, 'Anomalies Ratio(%)': 29.4}\n",
      "{'Samples': 1000, 'Features': 512, 'Anomalies': 254, 'Anomalies Ratio(%)': 25.4}\n",
      "{'Samples': 1000, 'Features': 512, 'Anomalies': 227, 'Anomalies Ratio(%)': 22.7}\n",
      "{'Samples': 1000, 'Features': 512, 'Anomalies': 213, 'Anomalies Ratio(%)': 21.3}\n",
      "{'Samples': 1000, 'Features': 512, 'Anomalies': 180, 'Anomalies Ratio(%)': 18.0}\n",
      "{'Samples': 1000, 'Features': 512, 'Anomalies': 169, 'Anomalies Ratio(%)': 16.9}\n",
      "{'Samples': 1000, 'Features': 512, 'Anomalies': 174, 'Anomalies Ratio(%)': 17.4}\n",
      "{'Samples': 1000, 'Features': 512, 'Anomalies': 138, 'Anomalies Ratio(%)': 13.8}\n",
      "{'Samples': 1000, 'Features': 512, 'Anomalies': 160, 'Anomalies Ratio(%)': 16.0}\n",
      "{'Samples': 1000, 'Features': 512, 'Anomalies': 142, 'Anomalies Ratio(%)': 14.2}\n",
      "{'Samples': 1000, 'Features': 512, 'Anomalies': 259, 'Anomalies Ratio(%)': 25.9}\n",
      "{'Samples': 1000, 'Features': 512, 'Anomalies': 273, 'Anomalies Ratio(%)': 27.3}\n",
      "{'Samples': 1000, 'Features': 512, 'Anomalies': 246, 'Anomalies Ratio(%)': 24.6}\n",
      "{'Samples': 1000, 'Features': 512, 'Anomalies': 284, 'Anomalies Ratio(%)': 28.4}\n",
      "{'Samples': 1000, 'Features': 512, 'Anomalies': 283, 'Anomalies Ratio(%)': 28.3}\n",
      "{'Samples': 1000, 'Features': 512, 'Anomalies': 281, 'Anomalies Ratio(%)': 28.1}\n",
      "{'Samples': 1000, 'Features': 512, 'Anomalies': 314, 'Anomalies Ratio(%)': 31.4}\n",
      "{'Samples': 1000, 'Features': 512, 'Anomalies': 300, 'Anomalies Ratio(%)': 30.0}\n",
      "{'Samples': 1000, 'Features': 512, 'Anomalies': 326, 'Anomalies Ratio(%)': 32.6}\n",
      "{'Samples': 1000, 'Features': 512, 'Anomalies': 240, 'Anomalies Ratio(%)': 24.0}\n",
      "{'Samples': 1000, 'Features': 512, 'Anomalies': 244, 'Anomalies Ratio(%)': 24.4}\n",
      "{'Samples': 1000, 'Features': 512, 'Anomalies': 266, 'Anomalies Ratio(%)': 26.6}\n",
      "{'Samples': 1000, 'Features': 512, 'Anomalies': 227, 'Anomalies Ratio(%)': 22.7}\n",
      "{'Samples': 1000, 'Features': 512, 'Anomalies': 231, 'Anomalies Ratio(%)': 23.1}\n",
      "{'Samples': 1000, 'Features': 512, 'Anomalies': 252, 'Anomalies Ratio(%)': 25.2}\n",
      "{'Samples': 1000, 'Features': 512, 'Anomalies': 271, 'Anomalies Ratio(%)': 27.1}\n",
      "{'Samples': 1000, 'Features': 512, 'Anomalies': 285, 'Anomalies Ratio(%)': 28.5}\n",
      "{'Samples': 1000, 'Features': 512, 'Anomalies': 288, 'Anomalies Ratio(%)': 28.8}\n",
      "{'Samples': 1000, 'Features': 512, 'Anomalies': 115, 'Anomalies Ratio(%)': 11.5}\n",
      "{'Samples': 1000, 'Features': 512, 'Anomalies': 135, 'Anomalies Ratio(%)': 13.5}\n",
      "{'Samples': 1000, 'Features': 512, 'Anomalies': 114, 'Anomalies Ratio(%)': 11.4}\n",
      "{'Samples': 1000, 'Features': 512, 'Anomalies': 184, 'Anomalies Ratio(%)': 18.4}\n",
      "{'Samples': 1000, 'Features': 512, 'Anomalies': 189, 'Anomalies Ratio(%)': 18.9}\n",
      "{'Samples': 1000, 'Features': 512, 'Anomalies': 175, 'Anomalies Ratio(%)': 17.5}\n",
      "{'Samples': 1000, 'Features': 512, 'Anomalies': 305, 'Anomalies Ratio(%)': 30.5}\n",
      "{'Samples': 1000, 'Features': 512, 'Anomalies': 304, 'Anomalies Ratio(%)': 30.4}\n",
      "{'Samples': 1000, 'Features': 512, 'Anomalies': 320, 'Anomalies Ratio(%)': 32.0}\n",
      "{'Samples': 5208, 'Features': 512, 'Anomalies': 260, 'Anomalies Ratio(%)': 4.99}\n",
      "{'Samples': 5208, 'Features': 512, 'Anomalies': 260, 'Anomalies Ratio(%)': 4.99}\n",
      "{'Samples': 5208, 'Features': 512, 'Anomalies': 260, 'Anomalies Ratio(%)': 4.99}\n",
      "{'Samples': 10000, 'Features': 512, 'Anomalies': 500, 'Anomalies Ratio(%)': 5.0}\n",
      "{'Samples': 10000, 'Features': 512, 'Anomalies': 500, 'Anomalies Ratio(%)': 5.0}\n",
      "{'Samples': 10000, 'Features': 512, 'Anomalies': 500, 'Anomalies Ratio(%)': 5.0}\n",
      "{'Samples': 10000, 'Features': 512, 'Anomalies': 500, 'Anomalies Ratio(%)': 5.0}\n",
      "{'Samples': 10000, 'Features': 512, 'Anomalies': 500, 'Anomalies Ratio(%)': 5.0}\n",
      "{'Samples': 10000, 'Features': 512, 'Anomalies': 500, 'Anomalies Ratio(%)': 5.0}\n",
      "{'Samples': 8944, 'Features': 512, 'Anomalies': 447, 'Anomalies Ratio(%)': 5.0}\n",
      "{'Samples': 8944, 'Features': 512, 'Anomalies': 447, 'Anomalies Ratio(%)': 5.0}\n",
      "{'Samples': 8944, 'Features': 512, 'Anomalies': 447, 'Anomalies Ratio(%)': 5.0}\n",
      "{'Samples': 7850, 'Features': 512, 'Anomalies': 392, 'Anomalies Ratio(%)': 4.99}\n",
      "{'Samples': 7850, 'Features': 512, 'Anomalies': 392, 'Anomalies Ratio(%)': 4.99}\n",
      "{'Samples': 7850, 'Features': 512, 'Anomalies': 392, 'Anomalies Ratio(%)': 4.99}\n",
      "{'Samples': 7244, 'Features': 512, 'Anomalies': 362, 'Anomalies Ratio(%)': 5.0}\n",
      "{'Samples': 7244, 'Features': 512, 'Anomalies': 362, 'Anomalies Ratio(%)': 5.0}\n",
      "{'Samples': 7244, 'Features': 512, 'Anomalies': 362, 'Anomalies Ratio(%)': 5.0}\n",
      "{'Samples': 6028, 'Features': 512, 'Anomalies': 301, 'Anomalies Ratio(%)': 4.99}\n",
      "{'Samples': 6028, 'Features': 512, 'Anomalies': 301, 'Anomalies Ratio(%)': 4.99}\n",
      "{'Samples': 6028, 'Features': 512, 'Anomalies': 301, 'Anomalies Ratio(%)': 4.99}\n",
      "{'Samples': 5889, 'Features': 512, 'Anomalies': 294, 'Anomalies Ratio(%)': 4.99}\n",
      "{'Samples': 5889, 'Features': 512, 'Anomalies': 294, 'Anomalies Ratio(%)': 4.99}\n",
      "{'Samples': 5889, 'Features': 512, 'Anomalies': 294, 'Anomalies Ratio(%)': 4.99}\n",
      "{'Samples': 5310, 'Features': 512, 'Anomalies': 265, 'Anomalies Ratio(%)': 4.99}\n",
      "{'Samples': 5310, 'Features': 512, 'Anomalies': 265, 'Anomalies Ratio(%)': 4.99}\n",
      "{'Samples': 5310, 'Features': 512, 'Anomalies': 265, 'Anomalies Ratio(%)': 4.99}\n",
      "{'Samples': 4904, 'Features': 512, 'Anomalies': 245, 'Anomalies Ratio(%)': 5.0}\n",
      "{'Samples': 4904, 'Features': 512, 'Anomalies': 245, 'Anomalies Ratio(%)': 5.0}\n",
      "{'Samples': 4904, 'Features': 512, 'Anomalies': 245, 'Anomalies Ratio(%)': 5.0}\n",
      "{'Samples': 3090, 'Features': 768, 'Anomalies': 154, 'Anomalies Ratio(%)': 4.98}\n",
      "{'Samples': 3090, 'Features': 768, 'Anomalies': 154, 'Anomalies Ratio(%)': 4.98}\n",
      "{'Samples': 3090, 'Features': 768, 'Anomalies': 154, 'Anomalies Ratio(%)': 4.98}\n",
      "{'Samples': 2514, 'Features': 768, 'Anomalies': 125, 'Anomalies Ratio(%)': 4.97}\n",
      "{'Samples': 2514, 'Features': 768, 'Anomalies': 125, 'Anomalies Ratio(%)': 4.97}\n",
      "{'Samples': 2514, 'Features': 768, 'Anomalies': 125, 'Anomalies Ratio(%)': 4.97}\n",
      "{'Samples': 2497, 'Features': 768, 'Anomalies': 124, 'Anomalies Ratio(%)': 4.97}\n",
      "{'Samples': 2497, 'Features': 768, 'Anomalies': 124, 'Anomalies Ratio(%)': 4.97}\n",
      "{'Samples': 2497, 'Features': 768, 'Anomalies': 124, 'Anomalies Ratio(%)': 4.97}\n",
      "{'Samples': 1000, 'Features': 768, 'Anomalies': 40, 'Anomalies Ratio(%)': 4.0}\n",
      "{'Samples': 1000, 'Features': 768, 'Anomalies': 44, 'Anomalies Ratio(%)': 4.4}\n",
      "{'Samples': 1000, 'Features': 768, 'Anomalies': 44, 'Anomalies Ratio(%)': 4.4}\n",
      "{'Samples': 1657, 'Features': 768, 'Anomalies': 82, 'Anomalies Ratio(%)': 4.95}\n",
      "{'Samples': 1657, 'Features': 768, 'Anomalies': 82, 'Anomalies Ratio(%)': 4.95}\n",
      "{'Samples': 1657, 'Features': 768, 'Anomalies': 82, 'Anomalies Ratio(%)': 4.95}\n",
      "{'Samples': 1532, 'Features': 768, 'Anomalies': 76, 'Anomalies Ratio(%)': 4.96}\n",
      "{'Samples': 1532, 'Features': 768, 'Anomalies': 76, 'Anomalies Ratio(%)': 4.96}\n",
      "{'Samples': 1532, 'Features': 768, 'Anomalies': 76, 'Anomalies Ratio(%)': 4.96}\n",
      "{'Samples': 10000, 'Features': 768, 'Anomalies': 500, 'Anomalies Ratio(%)': 5.0}\n",
      "{'Samples': 10000, 'Features': 768, 'Anomalies': 500, 'Anomalies Ratio(%)': 5.0}\n",
      "{'Samples': 10000, 'Features': 768, 'Anomalies': 500, 'Anomalies Ratio(%)': 5.0}\n",
      "{'Samples': 10000, 'Features': 768, 'Anomalies': 500, 'Anomalies Ratio(%)': 5.0}\n",
      "{'Samples': 10000, 'Features': 768, 'Anomalies': 500, 'Anomalies Ratio(%)': 5.0}\n",
      "{'Samples': 10000, 'Features': 768, 'Anomalies': 500, 'Anomalies Ratio(%)': 5.0}\n",
      "{'Samples': 10000, 'Features': 768, 'Anomalies': 500, 'Anomalies Ratio(%)': 5.0}\n",
      "{'Samples': 10000, 'Features': 768, 'Anomalies': 500, 'Anomalies Ratio(%)': 5.0}\n",
      "{'Samples': 10000, 'Features': 768, 'Anomalies': 500, 'Anomalies Ratio(%)': 5.0}\n",
      "{'Samples': 10000, 'Features': 768, 'Anomalies': 500, 'Anomalies Ratio(%)': 5.0}\n",
      "{'Samples': 10000, 'Features': 768, 'Anomalies': 500, 'Anomalies Ratio(%)': 5.0}\n",
      "{'Samples': 10000, 'Features': 768, 'Anomalies': 500, 'Anomalies Ratio(%)': 5.0}\n",
      "{'Samples': 10000, 'Features': 768, 'Anomalies': 500, 'Anomalies Ratio(%)': 5.0}\n",
      "{'Samples': 10000, 'Features': 768, 'Anomalies': 500, 'Anomalies Ratio(%)': 5.0}\n",
      "{'Samples': 10000, 'Features': 768, 'Anomalies': 500, 'Anomalies Ratio(%)': 5.0}\n",
      "{'Samples': 10000, 'Features': 768, 'Anomalies': 500, 'Anomalies Ratio(%)': 5.0}\n",
      "{'Samples': 10000, 'Features': 768, 'Anomalies': 500, 'Anomalies Ratio(%)': 5.0}\n",
      "{'Samples': 10000, 'Features': 768, 'Anomalies': 500, 'Anomalies Ratio(%)': 5.0}\n",
      "{'Samples': 10000, 'Features': 768, 'Anomalies': 500, 'Anomalies Ratio(%)': 5.0}\n",
      "{'Samples': 10000, 'Features': 768, 'Anomalies': 500, 'Anomalies Ratio(%)': 5.0}\n",
      "{'Samples': 10000, 'Features': 768, 'Anomalies': 500, 'Anomalies Ratio(%)': 5.0}\n"
     ]
    },
    {
     "name": "stderr",
     "output_type": "stream",
     "text": [
      "0it [00:00, ?it/s]"
     ]
    },
    {
     "name": "stdout",
     "output_type": "stream",
     "text": [
      "{'Samples': 1000, 'Features': 9, 'Anomalies': 90, 'Anomalies Ratio(%)': 9.0}\n",
      "epoch : 1/5000, loss = 0.988600\n",
      "epoch : 1000/5000, loss = 0.183288\n",
      "epoch : 2000/5000, loss = 0.039542\n",
      "epoch : 3000/5000, loss = 0.165425\n",
      "epoch : 4000/5000, loss = 0.050601\n",
      "epoch : 5000/5000, loss = 0.021198\n",
      "self.error_median=0.0036, self.error_range=0.0075, self.latent_error_median_=0.0005, self.latent_error_range_=0.0008\n",
      "Model result scaling scheme:  True\n",
      "Latent dim= 9. Weight Decay = 0.000001\n",
      "Using cuda\n",
      "self.error_mu=0.0087, self.error_std=0.0184, self.latent_error_mu_=0.0022, self.latent_error_sigma_=0.0057; alpha = 1.0000\n",
      "Current experiment parameters: ('37_Stamps', 0.0, 1), model: Customized, metrics: {'aucroc': 0.9934879934879935, 'aucpr': 0.8488722054697416}, fitting time: 376.5961856842041, inference time: 0.0019943714141845703\n"
     ]
    },
    {
     "name": "stderr",
     "output_type": "stream",
     "text": [
      "1it [06:17, 377.22s/it]"
     ]
    },
    {
     "name": "stdout",
     "output_type": "stream",
     "text": [
      "\n",
      "Model performance:\n",
      "Reconstruction AUCROC=0.8046; AUCPR=0.3670\n",
      "Deviation AUCROC=0.9965; AUCPR=0.9101\n",
      "Max(rec, dev) AUCROC=0.9404; AUCPR=0.4948\n",
      "\n",
      "Sum of squared error AUCROC=0.9505; AUCPR=0.5310\n",
      "\n",
      "Transformer selector AUCROC=0.7846; AUCPR=0.7595\n",
      "\n",
      "{'Samples': 1000, 'Features': 9, 'Anomalies': 95, 'Anomalies Ratio(%)': 9.5}\n",
      "epoch : 1/5000, loss = 1.163825\n",
      "epoch : 1000/5000, loss = 0.025788\n",
      "epoch : 2000/5000, loss = 0.010902\n",
      "epoch : 3000/5000, loss = 0.008029\n",
      "epoch : 4000/5000, loss = 0.004683\n",
      "epoch : 5000/5000, loss = 0.005930\n",
      "self.error_median=0.0012, self.error_range=0.0012, self.latent_error_median_=0.0003, self.latent_error_range_=0.0004\n",
      "Model result scaling scheme:  True\n",
      "Latent dim= 9. Weight Decay = 0.000001\n",
      "Using cuda\n",
      "self.error_mu=0.0025, self.error_std=0.0036, self.latent_error_mu_=0.0009, self.latent_error_sigma_=0.0018; alpha = 1.0000\n",
      "Current experiment parameters: ('37_Stamps', 0.0, 2), model: Customized, metrics: {'aucroc': 1.0, 'aucpr': 1.0}, fitting time: 377.1037859916687, inference time: 0.0019943714141845703\n",
      "\n",
      "Model performance:\n",
      "Reconstruction AUCROC=1.0000; AUCPR=1.0000\n",
      "Deviation AUCROC=0.9982; AUCPR=0.9781\n",
      "Max(rec, dev) AUCROC=1.0000; AUCPR=1.0000\n",
      "\n",
      "Sum of squared error AUCROC=1.0000; AUCPR=1.0000\n",
      "\n"
     ]
    },
    {
     "name": "stderr",
     "output_type": "stream",
     "text": [
      "2it [12:34, 377.50s/it]"
     ]
    },
    {
     "name": "stdout",
     "output_type": "stream",
     "text": [
      "Transformer selector AUCROC=0.8934; AUCPR=0.8195\n",
      "\n",
      "{'Samples': 1000, 'Features': 9, 'Anomalies': 100, 'Anomalies Ratio(%)': 10.0}\n",
      "epoch : 1/5000, loss = 1.835373\n",
      "epoch : 1000/5000, loss = 0.038192\n",
      "epoch : 2000/5000, loss = 0.017702\n",
      "epoch : 3000/5000, loss = 0.008241\n",
      "epoch : 4000/5000, loss = 0.018515\n",
      "epoch : 5000/5000, loss = 0.008835\n",
      "self.error_median=0.0005, self.error_range=0.0009, self.latent_error_median_=0.0005, self.latent_error_range_=0.0008\n",
      "Model result scaling scheme:  True\n",
      "Latent dim= 9. Weight Decay = 0.000001\n",
      "Using cuda\n",
      "self.error_mu=0.0009, self.error_std=0.0017, self.latent_error_mu_=0.0017, self.latent_error_sigma_=0.0041; alpha = 1.0000\n",
      "Current experiment parameters: ('37_Stamps', 0.0, 3), model: Customized, metrics: {'aucroc': 0.9918518518518519, 'aucpr': 0.8475410055733841}, fitting time: 374.60097193717957, inference time: 0.001995086669921875\n"
     ]
    },
    {
     "name": "stderr",
     "output_type": "stream",
     "text": [
      "3it [18:50, 376.48s/it]"
     ]
    },
    {
     "name": "stdout",
     "output_type": "stream",
     "text": [
      "\n",
      "Model performance:\n",
      "Reconstruction AUCROC=0.8494; AUCPR=0.3894\n",
      "Deviation AUCROC=0.9967; AUCPR=0.9352\n",
      "Max(rec, dev) AUCROC=0.9927; AUCPR=0.8350\n",
      "\n",
      "Sum of squared error AUCROC=0.9921; AUCPR=0.8344\n",
      "\n",
      "Transformer selector AUCROC=1.0000; AUCPR=1.0000\n",
      "\n",
      "{'Samples': 1000, 'Features': 30, 'Anomalies': 26, 'Anomalies Ratio(%)': 2.6}\n",
      "epoch : 1/5000, loss = 82.183182\n",
      "epoch : 1000/5000, loss = 0.158749\n",
      "epoch : 2000/5000, loss = 0.068551\n",
      "epoch : 3000/5000, loss = 0.032902\n",
      "epoch : 4000/5000, loss = 0.040331\n",
      "epoch : 5000/5000, loss = 0.027007\n",
      "self.error_median=0.0088, self.error_range=0.0092, self.latent_error_median_=0.0015, self.latent_error_range_=0.0019\n",
      "Model result scaling scheme:  True\n",
      "Latent dim= 16. Weight Decay = 0.000001\n",
      "Using cuda\n",
      "self.error_mu=0.0111, self.error_std=0.0075, self.latent_error_mu_=0.0026, self.latent_error_sigma_=0.0046; alpha = 1.0000\n",
      "Current experiment parameters: ('43_WDBC', 0.0, 1), model: Customized, metrics: {'aucroc': 0.9982876712328766, 'aucpr': 0.9317956349206349}, fitting time: 376.96999859809875, inference time: 0.001994609832763672\n"
     ]
    },
    {
     "name": "stderr",
     "output_type": "stream",
     "text": [
      "25it [25:07, 40.57s/it]"
     ]
    },
    {
     "name": "stdout",
     "output_type": "stream",
     "text": [
      "\n",
      "Model performance:\n",
      "Reconstruction AUCROC=0.8729; AUCPR=0.2347\n",
      "Deviation AUCROC=1.0000; AUCPR=1.0000\n",
      "Max(rec, dev) AUCROC=0.9559; AUCPR=0.3097\n",
      "\n",
      "Sum of squared error AUCROC=0.9726; AUCPR=0.4571\n",
      "\n",
      "Transformer selector AUCROC=0.9884; AUCPR=0.8718\n",
      "\n",
      "{'Samples': 1000, 'Features': 30, 'Anomalies': 29, 'Anomalies Ratio(%)': 2.9}\n",
      "epoch : 1/5000, loss = 3.291070\n",
      "epoch : 1000/5000, loss = 0.175009\n",
      "epoch : 2000/5000, loss = 0.155772\n",
      "epoch : 3000/5000, loss = 0.096845\n",
      "epoch : 4000/5000, loss = 0.097911\n",
      "epoch : 5000/5000, loss = 0.121894\n",
      "self.error_median=0.0201, self.error_range=0.0201, self.latent_error_median_=0.0119, self.latent_error_range_=0.0106\n",
      "Model result scaling scheme:  True\n",
      "Latent dim= 16. Weight Decay = 0.000001\n",
      "Using cuda\n",
      "self.error_mu=0.0245, self.error_std=0.0175, self.latent_error_mu_=0.0176, self.latent_error_sigma_=0.0250; alpha = 1.0000\n",
      "Current experiment parameters: ('43_WDBC', 0.0, 2), model: Customized, metrics: {'aucroc': 1.0, 'aucpr': 1.0000000000000002}, fitting time: 375.47673988342285, inference time: 0.0019919872283935547\n"
     ]
    },
    {
     "name": "stderr",
     "output_type": "stream",
     "text": [
      "26it [31:23, 59.77s/it]"
     ]
    },
    {
     "name": "stdout",
     "output_type": "stream",
     "text": [
      "\n",
      "Model performance:\n",
      "Reconstruction AUCROC=0.9408; AUCPR=0.5871\n",
      "Deviation AUCROC=1.0000; AUCPR=1.0000\n",
      "Max(rec, dev) AUCROC=0.9996; AUCPR=0.9889\n",
      "\n",
      "Sum of squared error AUCROC=0.9996; AUCPR=0.9889\n",
      "\n",
      "Transformer selector AUCROC=1.0000; AUCPR=1.0000\n",
      "\n",
      "{'Samples': 1000, 'Features': 30, 'Anomalies': 27, 'Anomalies Ratio(%)': 2.7}\n",
      "epoch : 1/5000, loss = 3.811552\n",
      "epoch : 1000/5000, loss = 5.098083\n",
      "epoch : 2000/5000, loss = 0.154600\n",
      "epoch : 3000/5000, loss = 0.075364\n",
      "epoch : 4000/5000, loss = 0.057519\n",
      "epoch : 5000/5000, loss = 0.065589\n",
      "self.error_median=0.0208, self.error_range=0.0213, self.latent_error_median_=0.0034, self.latent_error_range_=0.0041\n",
      "Model result scaling scheme:  True\n",
      "Latent dim= 16. Weight Decay = 0.000001\n",
      "Using cuda\n",
      "self.error_mu=0.0259, self.error_std=0.0201, self.latent_error_mu_=0.0066, self.latent_error_sigma_=0.0142; alpha = 1.0000\n",
      "Current experiment parameters: ('43_WDBC', 0.0, 3), model: Customized, metrics: {'aucroc': 1.0, 'aucpr': 1.0}, fitting time: 376.20914673805237, inference time: 0.00202178955078125\n"
     ]
    },
    {
     "name": "stderr",
     "output_type": "stream",
     "text": [
      "27it [37:40, 83.73s/it]"
     ]
    },
    {
     "name": "stdout",
     "output_type": "stream",
     "text": [
      "\n",
      "Model performance:\n",
      "Reconstruction AUCROC=0.9717; AUCPR=0.4359\n",
      "Deviation AUCROC=1.0000; AUCPR=1.0000\n",
      "Max(rec, dev) AUCROC=0.9906; AUCPR=0.6211\n",
      "\n",
      "Sum of squared error AUCROC=0.9961; AUCPR=0.7603\n",
      "\n",
      "Transformer selector AUCROC=0.9829; AUCPR=0.8181\n",
      "\n",
      "{'Samples': 1000, 'Features': 9, 'Anomalies': 35, 'Anomalies Ratio(%)': 3.5}\n",
      "epoch : 1/5000, loss = 1.821833\n",
      "epoch : 1000/5000, loss = 0.174121\n",
      "epoch : 2000/5000, loss = 0.049885\n",
      "epoch : 3000/5000, loss = 0.016893\n",
      "epoch : 4000/5000, loss = 0.012043\n",
      "epoch : 5000/5000, loss = 0.007749\n",
      "self.error_median=0.0006, self.error_range=0.0013, self.latent_error_median_=0.0010, self.latent_error_range_=0.0017\n",
      "Model result scaling scheme:  True\n",
      "Latent dim= 9. Weight Decay = 0.000001\n",
      "Using cuda\n",
      "self.error_mu=0.0013, self.error_std=0.0022, self.latent_error_mu_=0.0020, self.latent_error_sigma_=0.0030; alpha = 1.0000\n",
      "Current experiment parameters: ('42_WBC', 0.0, 1), model: Customized, metrics: {'aucroc': 0.97, 'aucpr': 0.4378900012955741}, fitting time: 375.9791462421417, inference time: 0.001994609832763672\n"
     ]
    },
    {
     "name": "stderr",
     "output_type": "stream",
     "text": [
      "49it [43:57, 36.85s/it]"
     ]
    },
    {
     "name": "stdout",
     "output_type": "stream",
     "text": [
      "\n",
      "Model performance:\n",
      "Reconstruction AUCROC=0.8197; AUCPR=0.2143\n",
      "Deviation AUCROC=0.9941; AUCPR=0.7627\n",
      "Max(rec, dev) AUCROC=0.9852; AUCPR=0.5798\n",
      "\n",
      "Sum of squared error AUCROC=0.9831; AUCPR=0.5580\n",
      "\n",
      "Transformer selector AUCROC=0.9855; AUCPR=0.7422\n",
      "\n",
      "{'Samples': 1000, 'Features': 9, 'Anomalies': 45, 'Anomalies Ratio(%)': 4.5}\n",
      "epoch : 1/5000, loss = 1.221722\n",
      "epoch : 1000/5000, loss = 0.023292\n",
      "epoch : 2000/5000, loss = 0.007336\n",
      "epoch : 3000/5000, loss = 0.005763\n",
      "epoch : 4000/5000, loss = 0.003420\n",
      "epoch : 5000/5000, loss = 0.003087\n",
      "self.error_median=0.0003, self.error_range=0.0005, self.latent_error_median_=0.0003, self.latent_error_range_=0.0005\n",
      "Model result scaling scheme:  True\n",
      "Latent dim= 9. Weight Decay = 0.000001\n",
      "Using cuda\n",
      "self.error_mu=0.0007, self.error_std=0.0011, self.latent_error_mu_=0.0008, self.latent_error_sigma_=0.0017; alpha = 1.0000\n",
      "Current experiment parameters: ('42_WBC', 0.0, 2), model: Customized, metrics: {'aucroc': 0.9692807192807192, 'aucpr': 0.48812740432959456}, fitting time: 376.8275399208069, inference time: 0.001992464065551758\n",
      "\n",
      "Model performance:\n",
      "Reconstruction AUCROC=0.9136; AUCPR=0.2828\n",
      "Deviation AUCROC=0.9940; AUCPR=0.8990\n",
      "Max(rec, dev) AUCROC=0.9730; AUCPR=0.5182\n",
      "\n",
      "Sum of squared error AUCROC=0.9703; AUCPR=0.4938\n",
      "\n",
      "Transformer selector AUCROC=1.0000; AUCPR=1.0000\n",
      "\n"
     ]
    },
    {
     "name": "stderr",
     "output_type": "stream",
     "text": [
      "50it [50:14, 51.73s/it]"
     ]
    },
    {
     "name": "stdout",
     "output_type": "stream",
     "text": [
      "{'Samples': 1000, 'Features': 9, 'Anomalies': 48, 'Anomalies Ratio(%)': 4.8}\n",
      "epoch : 1/5000, loss = 0.721081\n",
      "epoch : 1000/5000, loss = 0.011744\n",
      "epoch : 2000/5000, loss = 0.004192\n",
      "epoch : 3000/5000, loss = 0.002325\n",
      "epoch : 4000/5000, loss = 0.002380\n",
      "epoch : 5000/5000, loss = 0.001420\n",
      "self.error_median=0.0001, self.error_range=0.0001, self.latent_error_median_=0.0002, self.latent_error_range_=0.0003\n",
      "Model result scaling scheme:  True\n",
      "Latent dim= 9. Weight Decay = 0.000001\n",
      "Using cuda\n",
      "self.error_mu=0.0001, self.error_std=0.0001, self.latent_error_mu_=0.0004, self.latent_error_sigma_=0.0010; alpha = 1.0000\n",
      "Current experiment parameters: ('42_WBC', 0.0, 3), model: Customized, metrics: {'aucroc': 0.9355644355644356, 'aucpr': 0.3395119094037222}, fitting time: 377.3804717063904, inference time: 0.001994609832763672\n"
     ]
    },
    {
     "name": "stderr",
     "output_type": "stream",
     "text": [
      "51it [56:32, 70.89s/it]"
     ]
    },
    {
     "name": "stdout",
     "output_type": "stream",
     "text": [
      "\n",
      "Model performance:\n",
      "Reconstruction AUCROC=0.7952; AUCPR=0.2031\n",
      "Deviation AUCROC=0.9873; AUCPR=0.7524\n",
      "Max(rec, dev) AUCROC=0.9708; AUCPR=0.5020\n",
      "\n",
      "Sum of squared error AUCROC=0.9673; AUCPR=0.4828\n",
      "\n",
      "Transformer selector AUCROC=1.0000; AUCPR=1.0000\n",
      "\n",
      "{'Samples': 1000, 'Features': 33, 'Anomalies': 239, 'Anomalies Ratio(%)': 23.9}\n"
     ]
    },
    {
     "name": "stderr",
     "output_type": "stream",
     "text": [
      "d:\\conda\\venv\\adbench\\Lib\\site-packages\\sklearn\\cluster\\_kmeans.py:1440: UserWarning: KMeans is known to have a memory leak on Windows with MKL, when there are less chunks than available threads. You can avoid it by setting the environment variable OMP_NUM_THREADS=3.\n",
      "  warnings.warn(\n",
      "d:\\conda\\venv\\adbench\\Lib\\site-packages\\sklearn\\cluster\\_kmeans.py:1440: UserWarning: KMeans is known to have a memory leak on Windows with MKL, when there are less chunks than available threads. You can avoid it by setting the environment variable OMP_NUM_THREADS=3.\n",
      "  warnings.warn(\n",
      "d:\\conda\\venv\\adbench\\Lib\\site-packages\\sklearn\\cluster\\_kmeans.py:1440: UserWarning: KMeans is known to have a memory leak on Windows with MKL, when there are less chunks than available threads. You can avoid it by setting the environment variable OMP_NUM_THREADS=3.\n",
      "  warnings.warn(\n",
      "d:\\conda\\venv\\adbench\\Lib\\site-packages\\sklearn\\cluster\\_kmeans.py:1440: UserWarning: KMeans is known to have a memory leak on Windows with MKL, when there are less chunks than available threads. You can avoid it by setting the environment variable OMP_NUM_THREADS=3.\n",
      "  warnings.warn(\n",
      "d:\\conda\\venv\\adbench\\Lib\\site-packages\\sklearn\\cluster\\_kmeans.py:1440: UserWarning: KMeans is known to have a memory leak on Windows with MKL, when there are less chunks than available threads. You can avoid it by setting the environment variable OMP_NUM_THREADS=3.\n",
      "  warnings.warn(\n",
      "d:\\conda\\venv\\adbench\\Lib\\site-packages\\sklearn\\cluster\\_kmeans.py:1440: UserWarning: KMeans is known to have a memory leak on Windows with MKL, when there are less chunks than available threads. You can avoid it by setting the environment variable OMP_NUM_THREADS=3.\n",
      "  warnings.warn(\n",
      "d:\\conda\\venv\\adbench\\Lib\\site-packages\\sklearn\\cluster\\_kmeans.py:1440: UserWarning: KMeans is known to have a memory leak on Windows with MKL, when there are less chunks than available threads. You can avoid it by setting the environment variable OMP_NUM_THREADS=3.\n",
      "  warnings.warn(\n",
      "d:\\conda\\venv\\adbench\\Lib\\site-packages\\sklearn\\cluster\\_kmeans.py:1440: UserWarning: KMeans is known to have a memory leak on Windows with MKL, when there are less chunks than available threads. You can avoid it by setting the environment variable OMP_NUM_THREADS=3.\n",
      "  warnings.warn(\n",
      "d:\\conda\\venv\\adbench\\Lib\\site-packages\\sklearn\\cluster\\_kmeans.py:1440: UserWarning: KMeans is known to have a memory leak on Windows with MKL, when there are less chunks than available threads. You can avoid it by setting the environment variable OMP_NUM_THREADS=3.\n",
      "  warnings.warn(\n",
      "d:\\conda\\venv\\adbench\\Lib\\site-packages\\sklearn\\cluster\\_kmeans.py:1440: UserWarning: KMeans is known to have a memory leak on Windows with MKL, when there are less chunks than available threads. You can avoid it by setting the environment variable OMP_NUM_THREADS=3.\n",
      "  warnings.warn(\n"
     ]
    },
    {
     "name": "stdout",
     "output_type": "stream",
     "text": [
      "epoch : 1/5000, loss = 20.170183\n",
      "epoch : 1000/5000, loss = 0.233711\n",
      "epoch : 2000/5000, loss = 0.121213\n",
      "epoch : 3000/5000, loss = 0.120636\n",
      "epoch : 4000/5000, loss = 0.089648\n",
      "epoch : 5000/5000, loss = 0.071724\n",
      "self.error_median=0.0181, self.error_range=0.0231, self.latent_error_median_=0.0035, self.latent_error_range_=0.0037\n",
      "Model result scaling scheme:  True\n",
      "Latent dim= 16. Weight Decay = 0.000001\n",
      "Using cuda\n",
      "self.error_mu=0.0231, self.error_std=0.0181, self.latent_error_mu_=0.0058, self.latent_error_sigma_=0.0065; alpha = 1.0000\n",
      "Current experiment parameters: ('46_WPBC', 0.0, 1), model: Customized, metrics: {'aucroc': 0.9085648148148149, 'aucpr': 0.7490255765115215}, fitting time: 375.539662361145, inference time: 0.0009970664978027344\n"
     ]
    },
    {
     "name": "stderr",
     "output_type": "stream",
     "text": [
      "73it [1:02:48, 35.99s/it]"
     ]
    },
    {
     "name": "stdout",
     "output_type": "stream",
     "text": [
      "\n",
      "Model performance:\n",
      "Reconstruction AUCROC=0.7725; AUCPR=0.4473\n",
      "Deviation AUCROC=0.9222; AUCPR=0.8668\n",
      "Max(rec, dev) AUCROC=0.7725; AUCPR=0.4473\n",
      "\n",
      "Sum of squared error AUCROC=0.7958; AUCPR=0.4770\n",
      "\n",
      "Transformer selector AUCROC=1.0000; AUCPR=1.0000\n",
      "\n",
      "{'Samples': 1000, 'Features': 33, 'Anomalies': 224, 'Anomalies Ratio(%)': 22.4}\n",
      "epoch : 1/5000, loss = 8.343891\n",
      "epoch : 1000/5000, loss = 0.325314\n",
      "epoch : 2000/5000, loss = 3.584217\n",
      "epoch : 3000/5000, loss = 0.192692\n",
      "epoch : 4000/5000, loss = 0.141379\n",
      "epoch : 5000/5000, loss = 0.119613\n",
      "self.error_median=0.0299, self.error_range=0.0346, self.latent_error_median_=0.0102, self.latent_error_range_=0.0040\n",
      "Model result scaling scheme:  True\n",
      "Latent dim= 16. Weight Decay = 0.000001\n",
      "Using cuda\n",
      "self.error_mu=0.0353, self.error_std=0.0214, self.latent_error_mu_=0.0107, self.latent_error_sigma_=0.0033; alpha = 1.0000\n",
      "Current experiment parameters: ('46_WPBC', 0.0, 2), model: Customized, metrics: {'aucroc': 0.7152008199346613, 'aucpr': 0.5180810934886053}, fitting time: 376.75656485557556, inference time: 0.0019943714141845703\n",
      "\n",
      "Model performance:\n",
      "Reconstruction AUCROC=0.8869; AUCPR=0.5996\n",
      "Deviation AUCROC=0.4843; AUCPR=0.3629\n",
      "Max(rec, dev) AUCROC=0.8869; AUCPR=0.5996\n",
      "\n",
      "Sum of squared error AUCROC=0.8847; AUCPR=0.6027\n",
      "\n"
     ]
    },
    {
     "name": "stderr",
     "output_type": "stream",
     "text": [
      "74it [1:09:05, 49.78s/it]"
     ]
    },
    {
     "name": "stdout",
     "output_type": "stream",
     "text": [
      "Transformer selector AUCROC=1.0000; AUCPR=1.0000\n",
      "\n",
      "{'Samples': 1000, 'Features': 33, 'Anomalies': 225, 'Anomalies Ratio(%)': 22.5}\n",
      "epoch : 1/5000, loss = 13.547201\n",
      "epoch : 1000/5000, loss = 0.592135\n",
      "epoch : 2000/5000, loss = 0.179737\n",
      "epoch : 3000/5000, loss = 0.093702\n",
      "epoch : 4000/5000, loss = 0.083160\n",
      "epoch : 5000/5000, loss = 0.054445\n",
      "self.error_median=0.0137, self.error_range=0.0148, self.latent_error_median_=0.0047, self.latent_error_range_=0.0024\n",
      "Model result scaling scheme:  True\n",
      "Latent dim= 16. Weight Decay = 0.000001\n",
      "Using cuda\n",
      "self.error_mu=0.0174, self.error_std=0.0138, self.latent_error_mu_=0.0057, self.latent_error_sigma_=0.0035; alpha = 1.0000\n",
      "Current experiment parameters: ('46_WPBC', 0.0, 3), model: Customized, metrics: {'aucroc': 0.7685091277890467, 'aucpr': 0.537571292468539}, fitting time: 377.9702332019806, inference time: 0.001994609832763672\n"
     ]
    },
    {
     "name": "stderr",
     "output_type": "stream",
     "text": [
      "75it [1:15:23, 67.72s/it]"
     ]
    },
    {
     "name": "stdout",
     "output_type": "stream",
     "text": [
      "\n",
      "Model performance:\n",
      "Reconstruction AUCROC=0.6410; AUCPR=0.3123\n",
      "Deviation AUCROC=0.8215; AUCPR=0.6870\n",
      "Max(rec, dev) AUCROC=0.6436; AUCPR=0.3133\n",
      "\n",
      "Sum of squared error AUCROC=0.6676; AUCPR=0.3334\n",
      "\n",
      "Transformer selector AUCROC=1.0000; AUCPR=1.0000\n",
      "\n",
      "{'Samples': 1000, 'Features': 18, 'Anomalies': 44, 'Anomalies Ratio(%)': 4.4}\n",
      "epoch : 1/5000, loss = 5.163238\n",
      "epoch : 1000/5000, loss = 0.174167\n",
      "epoch : 2000/5000, loss = 0.105430\n",
      "epoch : 3000/5000, loss = 2.095454\n",
      "epoch : 4000/5000, loss = 0.087548\n",
      "epoch : 5000/5000, loss = 0.053232\n",
      "self.error_median=0.0158, self.error_range=0.0186, self.latent_error_median_=0.0011, self.latent_error_range_=0.0014\n",
      "Model result scaling scheme:  True\n",
      "Latent dim= 16. Weight Decay = 0.000001\n",
      "Using cuda\n",
      "self.error_mu=0.0220, self.error_std=0.0233, self.latent_error_mu_=0.0031, self.latent_error_sigma_=0.0077; alpha = 1.0000\n",
      "Current experiment parameters: ('21_Lymphography', 0.0, 1), model: Customized, metrics: {'aucroc': 0.9898150629857947, 'aucpr': 0.7285412802381128}, fitting time: 374.92303490638733, inference time: 0.0020427703857421875\n",
      "\n",
      "Model performance:\n",
      "Reconstruction AUCROC=0.8389; AUCPR=0.5025\n",
      "Deviation AUCROC=0.9912; AUCPR=0.7468\n",
      "Max(rec, dev) AUCROC=0.8992; AUCPR=0.5154\n",
      "\n",
      "Sum of squared error AUCROC=0.9263; AUCPR=0.5556\n",
      "\n",
      "Transformer selector AUCROC=1.0000; AUCPR=1.0000\n",
      "\n"
     ]
    },
    {
     "name": "stderr",
     "output_type": "stream",
     "text": [
      "97it [1:21:39, 35.72s/it]"
     ]
    },
    {
     "name": "stdout",
     "output_type": "stream",
     "text": [
      "{'Samples': 1000, 'Features': 18, 'Anomalies': 38, 'Anomalies Ratio(%)': 3.8}\n",
      "epoch : 1/5000, loss = 2.965156\n",
      "epoch : 1000/5000, loss = 0.268121\n",
      "epoch : 2000/5000, loss = 1.358632\n",
      "epoch : 3000/5000, loss = 0.101670\n",
      "epoch : 4000/5000, loss = 0.122574\n",
      "epoch : 5000/5000, loss = 0.120118\n",
      "self.error_median=0.0213, self.error_range=0.0233, self.latent_error_median_=0.0021, self.latent_error_range_=0.0032\n",
      "Model result scaling scheme:  True\n",
      "Latent dim= 16. Weight Decay = 0.000001\n",
      "Using cuda\n",
      "self.error_mu=0.0303, self.error_std=0.0397, self.latent_error_mu_=0.0067, self.latent_error_sigma_=0.0199; alpha = 1.0000\n",
      "Current experiment parameters: ('21_Lymphography', 0.0, 2), model: Customized, metrics: {'aucroc': 1.0, 'aucpr': 1.0}, fitting time: 375.54144978523254, inference time: 0.001994609832763672\n"
     ]
    },
    {
     "name": "stderr",
     "output_type": "stream",
     "text": [
      "98it [1:27:55, 49.13s/it]"
     ]
    },
    {
     "name": "stdout",
     "output_type": "stream",
     "text": [
      "\n",
      "Model performance:\n",
      "Reconstruction AUCROC=0.9755; AUCPR=0.8159\n",
      "Deviation AUCROC=1.0000; AUCPR=1.0000\n",
      "Max(rec, dev) AUCROC=0.9943; AUCPR=0.8981\n",
      "\n",
      "Sum of squared error AUCROC=0.9972; AUCPR=0.9415\n",
      "\n",
      "Transformer selector AUCROC=1.0000; AUCPR=1.0000\n",
      "\n",
      "{'Samples': 1000, 'Features': 18, 'Anomalies': 43, 'Anomalies Ratio(%)': 4.3}\n",
      "epoch : 1/5000, loss = 7.918454\n",
      "epoch : 1000/5000, loss = 0.435805\n",
      "epoch : 2000/5000, loss = 0.211168\n",
      "epoch : 3000/5000, loss = 0.118288\n",
      "epoch : 4000/5000, loss = 0.073221\n",
      "epoch : 5000/5000, loss = 0.068010\n",
      "self.error_median=0.0169, self.error_range=0.0197, self.latent_error_median_=0.0014, self.latent_error_range_=0.0026\n",
      "Model result scaling scheme:  True\n",
      "Latent dim= 16. Weight Decay = 0.000001\n",
      "Using cuda\n",
      "self.error_mu=0.0236, self.error_std=0.0236, self.latent_error_mu_=0.0053, self.latent_error_sigma_=0.0164; alpha = 1.0000\n",
      "Current experiment parameters: ('21_Lymphography', 0.0, 3), model: Customized, metrics: {'aucroc': 1.0, 'aucpr': 0.9999999999999998}, fitting time: 375.367960691452, inference time: 0.002985715866088867\n",
      "\n",
      "Model performance:\n",
      "Reconstruction AUCROC=0.9472; AUCPR=0.6362\n",
      "Deviation AUCROC=1.0000; AUCPR=1.0000\n",
      "Max(rec, dev) AUCROC=0.9828; AUCPR=0.7523\n",
      "\n",
      "Sum of squared error AUCROC=0.9904; AUCPR=0.8318\n",
      "\n",
      "Transformer selector AUCROC=1.0000; AUCPR=1.0000\n",
      "\n"
     ]
    },
    {
     "name": "stderr",
     "output_type": "stream",
     "text": [
      "99it [1:34:11, 66.54s/it]d:\\conda\\venv\\adbench\\Lib\\site-packages\\sklearn\\cluster\\_kmeans.py:1440: UserWarning: KMeans is known to have a memory leak on Windows with MKL, when there are less chunks than available threads. You can avoid it by setting the environment variable OMP_NUM_THREADS=3.\n",
      "  warnings.warn(\n",
      "d:\\conda\\venv\\adbench\\Lib\\site-packages\\sklearn\\cluster\\_kmeans.py:1440: UserWarning: KMeans is known to have a memory leak on Windows with MKL, when there are less chunks than available threads. You can avoid it by setting the environment variable OMP_NUM_THREADS=3.\n",
      "  warnings.warn(\n",
      "d:\\conda\\venv\\adbench\\Lib\\site-packages\\sklearn\\cluster\\_kmeans.py:1440: UserWarning: KMeans is known to have a memory leak on Windows with MKL, when there are less chunks than available threads. You can avoid it by setting the environment variable OMP_NUM_THREADS=3.\n",
      "  warnings.warn(\n",
      "d:\\conda\\venv\\adbench\\Lib\\site-packages\\sklearn\\cluster\\_kmeans.py:1440: UserWarning: KMeans is known to have a memory leak on Windows with MKL, when there are less chunks than available threads. You can avoid it by setting the environment variable OMP_NUM_THREADS=3.\n",
      "  warnings.warn(\n",
      "d:\\conda\\venv\\adbench\\Lib\\site-packages\\sklearn\\cluster\\_kmeans.py:1440: UserWarning: KMeans is known to have a memory leak on Windows with MKL, when there are less chunks than available threads. You can avoid it by setting the environment variable OMP_NUM_THREADS=3.\n",
      "  warnings.warn(\n",
      "d:\\conda\\venv\\adbench\\Lib\\site-packages\\sklearn\\cluster\\_kmeans.py:1440: UserWarning: KMeans is known to have a memory leak on Windows with MKL, when there are less chunks than available threads. You can avoid it by setting the environment variable OMP_NUM_THREADS=3.\n",
      "  warnings.warn(\n",
      "d:\\conda\\venv\\adbench\\Lib\\site-packages\\sklearn\\cluster\\_kmeans.py:1440: UserWarning: KMeans is known to have a memory leak on Windows with MKL, when there are less chunks than available threads. You can avoid it by setting the environment variable OMP_NUM_THREADS=3.\n",
      "  warnings.warn(\n",
      "d:\\conda\\venv\\adbench\\Lib\\site-packages\\sklearn\\cluster\\_kmeans.py:1440: UserWarning: KMeans is known to have a memory leak on Windows with MKL, when there are less chunks than available threads. You can avoid it by setting the environment variable OMP_NUM_THREADS=3.\n",
      "  warnings.warn(\n",
      "d:\\conda\\venv\\adbench\\Lib\\site-packages\\sklearn\\cluster\\_kmeans.py:1440: UserWarning: KMeans is known to have a memory leak on Windows with MKL, when there are less chunks than available threads. You can avoid it by setting the environment variable OMP_NUM_THREADS=3.\n",
      "  warnings.warn(\n",
      "d:\\conda\\venv\\adbench\\Lib\\site-packages\\sklearn\\cluster\\_kmeans.py:1440: UserWarning: KMeans is known to have a memory leak on Windows with MKL, when there are less chunks than available threads. You can avoid it by setting the environment variable OMP_NUM_THREADS=3.\n",
      "  warnings.warn(\n"
     ]
    },
    {
     "name": "stdout",
     "output_type": "stream",
     "text": [
      "{'Samples': 1000, 'Features': 9, 'Anomalies': 348, 'Anomalies Ratio(%)': 34.8}\n",
      "epoch : 1/5000, loss = 1.305703\n",
      "epoch : 1000/5000, loss = 0.032608\n",
      "epoch : 2000/5000, loss = 0.023798\n",
      "epoch : 3000/5000, loss = 0.113923\n",
      "epoch : 4000/5000, loss = 0.015712\n",
      "epoch : 5000/5000, loss = 0.007898\n",
      "self.error_median=0.0012, self.error_range=0.0030, self.latent_error_median_=0.0005, self.latent_error_range_=0.0006\n",
      "Model result scaling scheme:  True\n",
      "Latent dim= 9. Weight Decay = 0.000001\n",
      "Using cuda\n",
      "self.error_mu=0.0025, self.error_std=0.0045, self.latent_error_mu_=0.0011, self.latent_error_sigma_=0.0029; alpha = 1.0000\n",
      "Current experiment parameters: ('4_breastw', 0.0, 1), model: Customized, metrics: {'aucroc': 0.7894917582417582, 'aucpr': 0.6909363841988805}, fitting time: 376.3561735153198, inference time: 0.0019953250885009766\n",
      "\n",
      "Model performance:\n",
      "Reconstruction AUCROC=0.6292; AUCPR=0.5042\n",
      "Deviation AUCROC=0.8676; AUCPR=0.8082\n",
      "Max(rec, dev) AUCROC=0.6733; AUCPR=0.5296\n",
      "\n",
      "Sum of squared error AUCROC=0.6873; AUCPR=0.5458\n",
      "\n"
     ]
    },
    {
     "name": "stderr",
     "output_type": "stream",
     "text": [
      "121it [1:40:27, 35.60s/it]"
     ]
    },
    {
     "name": "stdout",
     "output_type": "stream",
     "text": [
      "Transformer selector AUCROC=0.9643; AUCPR=0.9347\n",
      "\n"
     ]
    },
    {
     "name": "stderr",
     "output_type": "stream",
     "text": [
      "d:\\conda\\venv\\adbench\\Lib\\site-packages\\sklearn\\cluster\\_kmeans.py:1440: UserWarning: KMeans is known to have a memory leak on Windows with MKL, when there are less chunks than available threads. You can avoid it by setting the environment variable OMP_NUM_THREADS=3.\n",
      "  warnings.warn(\n",
      "d:\\conda\\venv\\adbench\\Lib\\site-packages\\sklearn\\cluster\\_kmeans.py:1440: UserWarning: KMeans is known to have a memory leak on Windows with MKL, when there are less chunks than available threads. You can avoid it by setting the environment variable OMP_NUM_THREADS=3.\n",
      "  warnings.warn(\n",
      "d:\\conda\\venv\\adbench\\Lib\\site-packages\\sklearn\\cluster\\_kmeans.py:1440: UserWarning: KMeans is known to have a memory leak on Windows with MKL, when there are less chunks than available threads. You can avoid it by setting the environment variable OMP_NUM_THREADS=3.\n",
      "  warnings.warn(\n",
      "d:\\conda\\venv\\adbench\\Lib\\site-packages\\sklearn\\cluster\\_kmeans.py:1440: UserWarning: KMeans is known to have a memory leak on Windows with MKL, when there are less chunks than available threads. You can avoid it by setting the environment variable OMP_NUM_THREADS=3.\n",
      "  warnings.warn(\n",
      "d:\\conda\\venv\\adbench\\Lib\\site-packages\\sklearn\\cluster\\_kmeans.py:1440: UserWarning: KMeans is known to have a memory leak on Windows with MKL, when there are less chunks than available threads. You can avoid it by setting the environment variable OMP_NUM_THREADS=3.\n",
      "  warnings.warn(\n",
      "d:\\conda\\venv\\adbench\\Lib\\site-packages\\sklearn\\cluster\\_kmeans.py:1440: UserWarning: KMeans is known to have a memory leak on Windows with MKL, when there are less chunks than available threads. You can avoid it by setting the environment variable OMP_NUM_THREADS=3.\n",
      "  warnings.warn(\n",
      "d:\\conda\\venv\\adbench\\Lib\\site-packages\\sklearn\\cluster\\_kmeans.py:1440: UserWarning: KMeans is known to have a memory leak on Windows with MKL, when there are less chunks than available threads. You can avoid it by setting the environment variable OMP_NUM_THREADS=3.\n",
      "  warnings.warn(\n",
      "d:\\conda\\venv\\adbench\\Lib\\site-packages\\sklearn\\cluster\\_kmeans.py:1440: UserWarning: KMeans is known to have a memory leak on Windows with MKL, when there are less chunks than available threads. You can avoid it by setting the environment variable OMP_NUM_THREADS=3.\n",
      "  warnings.warn(\n",
      "d:\\conda\\venv\\adbench\\Lib\\site-packages\\sklearn\\cluster\\_kmeans.py:1440: UserWarning: KMeans is known to have a memory leak on Windows with MKL, when there are less chunks than available threads. You can avoid it by setting the environment variable OMP_NUM_THREADS=3.\n",
      "  warnings.warn(\n",
      "d:\\conda\\venv\\adbench\\Lib\\site-packages\\sklearn\\cluster\\_kmeans.py:1440: UserWarning: KMeans is known to have a memory leak on Windows with MKL, when there are less chunks than available threads. You can avoid it by setting the environment variable OMP_NUM_THREADS=3.\n",
      "  warnings.warn(\n"
     ]
    },
    {
     "name": "stdout",
     "output_type": "stream",
     "text": [
      "{'Samples': 1000, 'Features': 9, 'Anomalies': 336, 'Anomalies Ratio(%)': 33.6}\n",
      "epoch : 1/5000, loss = 0.892731\n",
      "epoch : 1000/5000, loss = 0.022164\n",
      "epoch : 2000/5000, loss = 0.026173\n",
      "epoch : 3000/5000, loss = 0.003948\n",
      "epoch : 4000/5000, loss = 0.003281\n",
      "epoch : 5000/5000, loss = -0.001083\n",
      "self.error_median=0.0005, self.error_range=0.0012, self.latent_error_median_=0.0002, self.latent_error_range_=0.0005\n",
      "Model result scaling scheme:  True\n",
      "Latent dim= 9. Weight Decay = 0.000001\n",
      "Using cuda\n",
      "self.error_mu=0.0069, self.error_std=0.1068, self.latent_error_mu_=0.0006, self.latent_error_sigma_=0.0023; alpha = 1.0000\n",
      "Current experiment parameters: ('4_breastw', 0.0, 2), model: Customized, metrics: {'aucroc': 0.8377033683267825, 'aucpr': 0.7140623274491602}, fitting time: 376.7512834072113, inference time: 0.0019936561584472656\n"
     ]
    },
    {
     "name": "stderr",
     "output_type": "stream",
     "text": [
      "122it [1:46:45, 48.95s/it]"
     ]
    },
    {
     "name": "stdout",
     "output_type": "stream",
     "text": [
      "\n",
      "Model performance:\n",
      "Reconstruction AUCROC=0.8636; AUCPR=0.7214\n",
      "Deviation AUCROC=0.6674; AUCPR=0.6313\n",
      "Max(rec, dev) AUCROC=0.8620; AUCPR=0.7221\n",
      "\n",
      "Sum of squared error AUCROC=0.8573; AUCPR=0.7195\n",
      "\n",
      "Transformer selector AUCROC=0.0256; AUCPR=0.1947\n",
      "\n"
     ]
    },
    {
     "name": "stderr",
     "output_type": "stream",
     "text": [
      "d:\\conda\\venv\\adbench\\Lib\\site-packages\\sklearn\\cluster\\_kmeans.py:1440: UserWarning: KMeans is known to have a memory leak on Windows with MKL, when there are less chunks than available threads. You can avoid it by setting the environment variable OMP_NUM_THREADS=3.\n",
      "  warnings.warn(\n",
      "d:\\conda\\venv\\adbench\\Lib\\site-packages\\sklearn\\cluster\\_kmeans.py:1440: UserWarning: KMeans is known to have a memory leak on Windows with MKL, when there are less chunks than available threads. You can avoid it by setting the environment variable OMP_NUM_THREADS=3.\n",
      "  warnings.warn(\n",
      "d:\\conda\\venv\\adbench\\Lib\\site-packages\\sklearn\\cluster\\_kmeans.py:1440: UserWarning: KMeans is known to have a memory leak on Windows with MKL, when there are less chunks than available threads. You can avoid it by setting the environment variable OMP_NUM_THREADS=3.\n",
      "  warnings.warn(\n",
      "d:\\conda\\venv\\adbench\\Lib\\site-packages\\sklearn\\cluster\\_kmeans.py:1440: UserWarning: KMeans is known to have a memory leak on Windows with MKL, when there are less chunks than available threads. You can avoid it by setting the environment variable OMP_NUM_THREADS=3.\n",
      "  warnings.warn(\n",
      "d:\\conda\\venv\\adbench\\Lib\\site-packages\\sklearn\\cluster\\_kmeans.py:1440: UserWarning: KMeans is known to have a memory leak on Windows with MKL, when there are less chunks than available threads. You can avoid it by setting the environment variable OMP_NUM_THREADS=3.\n",
      "  warnings.warn(\n",
      "d:\\conda\\venv\\adbench\\Lib\\site-packages\\sklearn\\cluster\\_kmeans.py:1440: UserWarning: KMeans is known to have a memory leak on Windows with MKL, when there are less chunks than available threads. You can avoid it by setting the environment variable OMP_NUM_THREADS=3.\n",
      "  warnings.warn(\n",
      "d:\\conda\\venv\\adbench\\Lib\\site-packages\\sklearn\\cluster\\_kmeans.py:1440: UserWarning: KMeans is known to have a memory leak on Windows with MKL, when there are less chunks than available threads. You can avoid it by setting the environment variable OMP_NUM_THREADS=3.\n",
      "  warnings.warn(\n",
      "d:\\conda\\venv\\adbench\\Lib\\site-packages\\sklearn\\cluster\\_kmeans.py:1440: UserWarning: KMeans is known to have a memory leak on Windows with MKL, when there are less chunks than available threads. You can avoid it by setting the environment variable OMP_NUM_THREADS=3.\n",
      "  warnings.warn(\n",
      "d:\\conda\\venv\\adbench\\Lib\\site-packages\\sklearn\\cluster\\_kmeans.py:1440: UserWarning: KMeans is known to have a memory leak on Windows with MKL, when there are less chunks than available threads. You can avoid it by setting the environment variable OMP_NUM_THREADS=3.\n",
      "  warnings.warn(\n",
      "d:\\conda\\venv\\adbench\\Lib\\site-packages\\sklearn\\cluster\\_kmeans.py:1440: UserWarning: KMeans is known to have a memory leak on Windows with MKL, when there are less chunks than available threads. You can avoid it by setting the environment variable OMP_NUM_THREADS=3.\n",
      "  warnings.warn(\n"
     ]
    },
    {
     "name": "stdout",
     "output_type": "stream",
     "text": [
      "{'Samples': 1000, 'Features': 9, 'Anomalies': 364, 'Anomalies Ratio(%)': 36.4}\n",
      "epoch : 1/5000, loss = 1.779077\n",
      "epoch : 1000/5000, loss = 0.020921\n",
      "epoch : 2000/5000, loss = 0.008495\n",
      "epoch : 3000/5000, loss = 0.004595\n",
      "epoch : 4000/5000, loss = 0.002838\n",
      "epoch : 5000/5000, loss = 0.006761\n",
      "self.error_median=0.0007, self.error_range=0.0014, self.latent_error_median_=0.0007, self.latent_error_range_=0.0008\n",
      "Model result scaling scheme:  True\n",
      "Latent dim= 9. Weight Decay = 0.000001\n",
      "Using cuda\n",
      "self.error_mu=0.0013, self.error_std=0.0027, self.latent_error_mu_=0.0014, self.latent_error_sigma_=0.0042; alpha = 1.0000\n",
      "Current experiment parameters: ('4_breastw', 0.0, 3), model: Customized, metrics: {'aucroc': 0.8037369710360729, 'aucpr': 0.6222193012554509}, fitting time: 376.9446077346802, inference time: 0.002020597457885742\n"
     ]
    },
    {
     "name": "stderr",
     "output_type": "stream",
     "text": [
      "123it [1:53:02, 66.32s/it]"
     ]
    },
    {
     "name": "stdout",
     "output_type": "stream",
     "text": [
      "\n",
      "Model performance:\n",
      "Reconstruction AUCROC=0.5508; AUCPR=0.4245\n",
      "Deviation AUCROC=0.9350; AUCPR=0.8292\n",
      "Max(rec, dev) AUCROC=0.7543; AUCPR=0.5432\n",
      "\n",
      "Sum of squared error AUCROC=0.7545; AUCPR=0.5556\n",
      "\n",
      "Transformer selector AUCROC=1.0000; AUCPR=1.0000\n",
      "\n",
      "{'Samples': 1000, 'Features': 13, 'Anomalies': 75, 'Anomalies Ratio(%)': 7.5}\n",
      "epoch : 1/5000, loss = 2.283156\n",
      "epoch : 1000/5000, loss = 0.094212\n",
      "epoch : 2000/5000, loss = 0.050207\n",
      "epoch : 3000/5000, loss = 0.031199\n",
      "epoch : 4000/5000, loss = 0.017699\n",
      "epoch : 5000/5000, loss = 0.040111\n",
      "self.error_median=0.0074, self.error_range=0.0089, self.latent_error_median_=0.0038, self.latent_error_range_=0.0033\n",
      "Model result scaling scheme:  True\n",
      "Latent dim= 13. Weight Decay = 0.000001\n",
      "Using cuda\n",
      "self.error_mu=0.0095, self.error_std=0.0078, self.latent_error_mu_=0.0057, self.latent_error_sigma_=0.0060; alpha = 1.0000\n",
      "Current experiment parameters: ('45_wine', 0.0, 1), model: Customized, metrics: {'aucroc': 0.993407628315806, 'aucpr': 0.8649849421161612}, fitting time: 376.15113139152527, inference time: 0.0009987354278564453\n"
     ]
    },
    {
     "name": "stderr",
     "output_type": "stream",
     "text": [
      "145it [1:59:19, 35.61s/it]"
     ]
    },
    {
     "name": "stdout",
     "output_type": "stream",
     "text": [
      "\n",
      "Model performance:\n",
      "Reconstruction AUCROC=0.8581; AUCPR=0.3080\n",
      "Deviation AUCROC=1.0000; AUCPR=1.0000\n",
      "Max(rec, dev) AUCROC=0.9634; AUCPR=0.5429\n",
      "\n",
      "Sum of squared error AUCROC=0.9757; AUCPR=0.6567\n",
      "\n",
      "Transformer selector AUCROC=1.0000; AUCPR=1.0000\n",
      "\n",
      "{'Samples': 1000, 'Features': 13, 'Anomalies': 80, 'Anomalies Ratio(%)': 8.0}\n",
      "epoch : 1/5000, loss = 2.007284\n",
      "epoch : 1000/5000, loss = 0.057313\n",
      "epoch : 2000/5000, loss = -0.055444\n",
      "epoch : 3000/5000, loss = 0.435433\n",
      "epoch : 4000/5000, loss = 0.049059\n",
      "epoch : 5000/5000, loss = 0.030234\n",
      "self.error_median=0.0092, self.error_range=0.0115, self.latent_error_median_=0.0007, self.latent_error_range_=0.0010\n",
      "Model result scaling scheme:  True\n",
      "Latent dim= 13. Weight Decay = 0.000001\n",
      "Using cuda\n",
      "self.error_mu=0.0126, self.error_std=0.0126, self.latent_error_mu_=0.0026, self.latent_error_sigma_=0.0063; alpha = 1.0000\n",
      "Current experiment parameters: ('45_wine', 0.0, 2), model: Customized, metrics: {'aucroc': 1.0, 'aucpr': 0.9999999999999998}, fitting time: 375.90216851234436, inference time: 0.002005338668823242\n"
     ]
    },
    {
     "name": "stderr",
     "output_type": "stream",
     "text": [
      "146it [2:05:35, 48.88s/it]"
     ]
    },
    {
     "name": "stdout",
     "output_type": "stream",
     "text": [
      "\n",
      "Model performance:\n",
      "Reconstruction AUCROC=0.9550; AUCPR=0.8575\n",
      "Deviation AUCROC=1.0000; AUCPR=1.0000\n",
      "Max(rec, dev) AUCROC=0.9881; AUCPR=0.8986\n",
      "\n",
      "Sum of squared error AUCROC=0.9940; AUCPR=0.9466\n",
      "\n",
      "Transformer selector AUCROC=0.3969; AUCPR=0.3783\n",
      "\n",
      "{'Samples': 1000, 'Features': 13, 'Anomalies': 88, 'Anomalies Ratio(%)': 8.8}\n",
      "epoch : 1/5000, loss = 6.047775\n",
      "epoch : 1000/5000, loss = 0.052163\n",
      "epoch : 2000/5000, loss = 0.029774\n",
      "epoch : 3000/5000, loss = 0.018812\n",
      "epoch : 4000/5000, loss = 0.012215\n",
      "epoch : 5000/5000, loss = 0.011369\n",
      "self.error_median=0.0029, self.error_range=0.0038, self.latent_error_median_=0.0006, self.latent_error_range_=0.0009\n",
      "Model result scaling scheme:  True\n",
      "Latent dim= 13. Weight Decay = 0.000001\n",
      "Using cuda\n",
      "self.error_mu=0.0044, self.error_std=0.0047, self.latent_error_mu_=0.0019, self.latent_error_sigma_=0.0039; alpha = 1.0000\n",
      "Current experiment parameters: ('45_wine', 0.0, 3), model: Customized, metrics: {'aucroc': 1.0, 'aucpr': 0.9999999999999999}, fitting time: 376.9708526134491, inference time: 0.001994609832763672\n"
     ]
    },
    {
     "name": "stderr",
     "output_type": "stream",
     "text": [
      "147it [2:11:53, 66.20s/it]"
     ]
    },
    {
     "name": "stdout",
     "output_type": "stream",
     "text": [
      "\n",
      "Model performance:\n",
      "Reconstruction AUCROC=0.9883; AUCPR=0.9224\n",
      "Deviation AUCROC=1.0000; AUCPR=1.0000\n",
      "Max(rec, dev) AUCROC=0.9982; AUCPR=0.9825\n",
      "\n",
      "Sum of squared error AUCROC=0.9999; AUCPR=0.9986\n",
      "\n",
      "Transformer selector AUCROC=0.0844; AUCPR=0.0477\n",
      "\n"
     ]
    },
    {
     "name": "stderr",
     "output_type": "stream",
     "text": [
      "d:\\conda\\venv\\adbench\\Lib\\site-packages\\sklearn\\cluster\\_kmeans.py:1440: UserWarning: KMeans is known to have a memory leak on Windows with MKL, when there are less chunks than available threads. You can avoid it by setting the environment variable OMP_NUM_THREADS=3.\n",
      "  warnings.warn(\n",
      "d:\\conda\\venv\\adbench\\Lib\\site-packages\\sklearn\\cluster\\_kmeans.py:1440: UserWarning: KMeans is known to have a memory leak on Windows with MKL, when there are less chunks than available threads. You can avoid it by setting the environment variable OMP_NUM_THREADS=3.\n",
      "  warnings.warn(\n",
      "d:\\conda\\venv\\adbench\\Lib\\site-packages\\sklearn\\cluster\\_kmeans.py:1440: UserWarning: KMeans is known to have a memory leak on Windows with MKL, when there are less chunks than available threads. You can avoid it by setting the environment variable OMP_NUM_THREADS=3.\n",
      "  warnings.warn(\n",
      "d:\\conda\\venv\\adbench\\Lib\\site-packages\\sklearn\\cluster\\_kmeans.py:1440: UserWarning: KMeans is known to have a memory leak on Windows with MKL, when there are less chunks than available threads. You can avoid it by setting the environment variable OMP_NUM_THREADS=3.\n",
      "  warnings.warn(\n",
      "d:\\conda\\venv\\adbench\\Lib\\site-packages\\sklearn\\cluster\\_kmeans.py:1440: UserWarning: KMeans is known to have a memory leak on Windows with MKL, when there are less chunks than available threads. You can avoid it by setting the environment variable OMP_NUM_THREADS=3.\n",
      "  warnings.warn(\n",
      "d:\\conda\\venv\\adbench\\Lib\\site-packages\\sklearn\\cluster\\_kmeans.py:1440: UserWarning: KMeans is known to have a memory leak on Windows with MKL, when there are less chunks than available threads. You can avoid it by setting the environment variable OMP_NUM_THREADS=3.\n",
      "  warnings.warn(\n",
      "d:\\conda\\venv\\adbench\\Lib\\site-packages\\sklearn\\cluster\\_kmeans.py:1440: UserWarning: KMeans is known to have a memory leak on Windows with MKL, when there are less chunks than available threads. You can avoid it by setting the environment variable OMP_NUM_THREADS=3.\n",
      "  warnings.warn(\n",
      "d:\\conda\\venv\\adbench\\Lib\\site-packages\\sklearn\\cluster\\_kmeans.py:1440: UserWarning: KMeans is known to have a memory leak on Windows with MKL, when there are less chunks than available threads. You can avoid it by setting the environment variable OMP_NUM_THREADS=3.\n",
      "  warnings.warn(\n",
      "d:\\conda\\venv\\adbench\\Lib\\site-packages\\sklearn\\cluster\\_kmeans.py:1440: UserWarning: KMeans is known to have a memory leak on Windows with MKL, when there are less chunks than available threads. You can avoid it by setting the environment variable OMP_NUM_THREADS=3.\n",
      "  warnings.warn(\n",
      "d:\\conda\\venv\\adbench\\Lib\\site-packages\\sklearn\\cluster\\_kmeans.py:1440: UserWarning: KMeans is known to have a memory leak on Windows with MKL, when there are less chunks than available threads. You can avoid it by setting the environment variable OMP_NUM_THREADS=3.\n",
      "  warnings.warn(\n"
     ]
    },
    {
     "name": "stdout",
     "output_type": "stream",
     "text": [
      "{'Samples': 1000, 'Features': 32, 'Anomalies': 369, 'Anomalies Ratio(%)': 36.9}\n",
      "epoch : 1/5000, loss = 23.053259\n",
      "epoch : 1000/5000, loss = 0.537260\n",
      "epoch : 2000/5000, loss = 0.082050\n",
      "epoch : 3000/5000, loss = 0.048897\n",
      "epoch : 4000/5000, loss = 0.036265\n",
      "epoch : 5000/5000, loss = 0.033883\n",
      "self.error_median=0.0072, self.error_range=0.0088, self.latent_error_median_=0.0055, self.latent_error_range_=0.0022\n",
      "Model result scaling scheme:  True\n",
      "Latent dim= 16. Weight Decay = 0.000001\n",
      "Using cuda\n",
      "self.error_mu=0.0085, self.error_std=0.0059, self.latent_error_mu_=0.0062, self.latent_error_sigma_=0.0031; alpha = 1.0000\n",
      "Current experiment parameters: ('18_Ionosphere', 0.0, 1), model: Customized, metrics: {'aucroc': 0.7885981219314553, 'aucpr': 0.76835127461921}, fitting time: 376.5413177013397, inference time: 0.002026796340942383\n",
      "\n",
      "Model performance:\n",
      "Reconstruction AUCROC=0.8338; AUCPR=0.7356\n",
      "Deviation AUCROC=0.6176; AUCPR=0.6737\n",
      "Max(rec, dev) AUCROC=0.9169; AUCPR=0.8254\n",
      "\n",
      "Sum of squared error AUCROC=0.9183; AUCPR=0.8324\n",
      "\n"
     ]
    },
    {
     "name": "stderr",
     "output_type": "stream",
     "text": [
      "169it [2:18:10, 35.60s/it]"
     ]
    },
    {
     "name": "stdout",
     "output_type": "stream",
     "text": [
      "Transformer selector AUCROC=1.0000; AUCPR=1.0000\n",
      "\n"
     ]
    },
    {
     "name": "stderr",
     "output_type": "stream",
     "text": [
      "d:\\conda\\venv\\adbench\\Lib\\site-packages\\sklearn\\cluster\\_kmeans.py:1440: UserWarning: KMeans is known to have a memory leak on Windows with MKL, when there are less chunks than available threads. You can avoid it by setting the environment variable OMP_NUM_THREADS=3.\n",
      "  warnings.warn(\n",
      "d:\\conda\\venv\\adbench\\Lib\\site-packages\\sklearn\\cluster\\_kmeans.py:1440: UserWarning: KMeans is known to have a memory leak on Windows with MKL, when there are less chunks than available threads. You can avoid it by setting the environment variable OMP_NUM_THREADS=3.\n",
      "  warnings.warn(\n",
      "d:\\conda\\venv\\adbench\\Lib\\site-packages\\sklearn\\cluster\\_kmeans.py:1440: UserWarning: KMeans is known to have a memory leak on Windows with MKL, when there are less chunks than available threads. You can avoid it by setting the environment variable OMP_NUM_THREADS=3.\n",
      "  warnings.warn(\n",
      "d:\\conda\\venv\\adbench\\Lib\\site-packages\\sklearn\\cluster\\_kmeans.py:1440: UserWarning: KMeans is known to have a memory leak on Windows with MKL, when there are less chunks than available threads. You can avoid it by setting the environment variable OMP_NUM_THREADS=3.\n",
      "  warnings.warn(\n",
      "d:\\conda\\venv\\adbench\\Lib\\site-packages\\sklearn\\cluster\\_kmeans.py:1440: UserWarning: KMeans is known to have a memory leak on Windows with MKL, when there are less chunks than available threads. You can avoid it by setting the environment variable OMP_NUM_THREADS=3.\n",
      "  warnings.warn(\n",
      "d:\\conda\\venv\\adbench\\Lib\\site-packages\\sklearn\\cluster\\_kmeans.py:1440: UserWarning: KMeans is known to have a memory leak on Windows with MKL, when there are less chunks than available threads. You can avoid it by setting the environment variable OMP_NUM_THREADS=3.\n",
      "  warnings.warn(\n",
      "d:\\conda\\venv\\adbench\\Lib\\site-packages\\sklearn\\cluster\\_kmeans.py:1440: UserWarning: KMeans is known to have a memory leak on Windows with MKL, when there are less chunks than available threads. You can avoid it by setting the environment variable OMP_NUM_THREADS=3.\n",
      "  warnings.warn(\n",
      "d:\\conda\\venv\\adbench\\Lib\\site-packages\\sklearn\\cluster\\_kmeans.py:1440: UserWarning: KMeans is known to have a memory leak on Windows with MKL, when there are less chunks than available threads. You can avoid it by setting the environment variable OMP_NUM_THREADS=3.\n",
      "  warnings.warn(\n",
      "d:\\conda\\venv\\adbench\\Lib\\site-packages\\sklearn\\cluster\\_kmeans.py:1440: UserWarning: KMeans is known to have a memory leak on Windows with MKL, when there are less chunks than available threads. You can avoid it by setting the environment variable OMP_NUM_THREADS=3.\n",
      "  warnings.warn(\n",
      "d:\\conda\\venv\\adbench\\Lib\\site-packages\\sklearn\\cluster\\_kmeans.py:1440: UserWarning: KMeans is known to have a memory leak on Windows with MKL, when there are less chunks than available threads. You can avoid it by setting the environment variable OMP_NUM_THREADS=3.\n",
      "  warnings.warn(\n"
     ]
    },
    {
     "name": "stdout",
     "output_type": "stream",
     "text": [
      "{'Samples': 1000, 'Features': 32, 'Anomalies': 374, 'Anomalies Ratio(%)': 37.4}\n",
      "epoch : 1/5000, loss = 17.240807\n",
      "epoch : 1000/5000, loss = 0.391586\n",
      "epoch : 2000/5000, loss = 0.114255\n",
      "epoch : 3000/5000, loss = 0.073588\n",
      "epoch : 4000/5000, loss = 0.052490\n",
      "epoch : 5000/5000, loss = 0.040473\n",
      "self.error_median=0.0070, self.error_range=0.0078, self.latent_error_median_=0.0074, self.latent_error_range_=0.0041\n",
      "Model result scaling scheme:  True\n",
      "Latent dim= 16. Weight Decay = 0.000001\n",
      "Using cuda\n",
      "self.error_mu=0.0089, self.error_std=0.0078, self.latent_error_mu_=0.0094, self.latent_error_sigma_=0.0049; alpha = 1.0000\n"
     ]
    },
    {
     "name": "stderr",
     "output_type": "stream",
     "text": [
      "170it [2:24:27, 48.90s/it]"
     ]
    },
    {
     "name": "stdout",
     "output_type": "stream",
     "text": [
      "Current experiment parameters: ('18_Ionosphere', 0.0, 2), model: Customized, metrics: {'aucroc': 0.677241641337386, 'aucpr': 0.7023449076011267}, fitting time: 376.86912512779236, inference time: 0.001965045928955078\n",
      "\n",
      "Model performance:\n",
      "Reconstruction AUCROC=0.7407; AUCPR=0.6040\n",
      "Deviation AUCROC=0.5297; AUCPR=0.6335\n",
      "Max(rec, dev) AUCROC=0.7681; AUCPR=0.7249\n",
      "\n",
      "Sum of squared error AUCROC=0.7652; AUCPR=0.7112\n",
      "\n",
      "Transformer selector AUCROC=1.0000; AUCPR=1.0000\n",
      "\n"
     ]
    },
    {
     "name": "stderr",
     "output_type": "stream",
     "text": [
      "d:\\conda\\venv\\adbench\\Lib\\site-packages\\sklearn\\cluster\\_kmeans.py:1440: UserWarning: KMeans is known to have a memory leak on Windows with MKL, when there are less chunks than available threads. You can avoid it by setting the environment variable OMP_NUM_THREADS=3.\n",
      "  warnings.warn(\n",
      "d:\\conda\\venv\\adbench\\Lib\\site-packages\\sklearn\\cluster\\_kmeans.py:1440: UserWarning: KMeans is known to have a memory leak on Windows with MKL, when there are less chunks than available threads. You can avoid it by setting the environment variable OMP_NUM_THREADS=3.\n",
      "  warnings.warn(\n",
      "d:\\conda\\venv\\adbench\\Lib\\site-packages\\sklearn\\cluster\\_kmeans.py:1440: UserWarning: KMeans is known to have a memory leak on Windows with MKL, when there are less chunks than available threads. You can avoid it by setting the environment variable OMP_NUM_THREADS=3.\n",
      "  warnings.warn(\n",
      "d:\\conda\\venv\\adbench\\Lib\\site-packages\\sklearn\\cluster\\_kmeans.py:1440: UserWarning: KMeans is known to have a memory leak on Windows with MKL, when there are less chunks than available threads. You can avoid it by setting the environment variable OMP_NUM_THREADS=3.\n",
      "  warnings.warn(\n",
      "d:\\conda\\venv\\adbench\\Lib\\site-packages\\sklearn\\cluster\\_kmeans.py:1440: UserWarning: KMeans is known to have a memory leak on Windows with MKL, when there are less chunks than available threads. You can avoid it by setting the environment variable OMP_NUM_THREADS=3.\n",
      "  warnings.warn(\n",
      "d:\\conda\\venv\\adbench\\Lib\\site-packages\\sklearn\\cluster\\_kmeans.py:1440: UserWarning: KMeans is known to have a memory leak on Windows with MKL, when there are less chunks than available threads. You can avoid it by setting the environment variable OMP_NUM_THREADS=3.\n",
      "  warnings.warn(\n",
      "d:\\conda\\venv\\adbench\\Lib\\site-packages\\sklearn\\cluster\\_kmeans.py:1440: UserWarning: KMeans is known to have a memory leak on Windows with MKL, when there are less chunks than available threads. You can avoid it by setting the environment variable OMP_NUM_THREADS=3.\n",
      "  warnings.warn(\n",
      "d:\\conda\\venv\\adbench\\Lib\\site-packages\\sklearn\\cluster\\_kmeans.py:1440: UserWarning: KMeans is known to have a memory leak on Windows with MKL, when there are less chunks than available threads. You can avoid it by setting the environment variable OMP_NUM_THREADS=3.\n",
      "  warnings.warn(\n",
      "d:\\conda\\venv\\adbench\\Lib\\site-packages\\sklearn\\cluster\\_kmeans.py:1440: UserWarning: KMeans is known to have a memory leak on Windows with MKL, when there are less chunks than available threads. You can avoid it by setting the environment variable OMP_NUM_THREADS=3.\n",
      "  warnings.warn(\n",
      "d:\\conda\\venv\\adbench\\Lib\\site-packages\\sklearn\\cluster\\_kmeans.py:1440: UserWarning: KMeans is known to have a memory leak on Windows with MKL, when there are less chunks than available threads. You can avoid it by setting the environment variable OMP_NUM_THREADS=3.\n",
      "  warnings.warn(\n"
     ]
    },
    {
     "name": "stdout",
     "output_type": "stream",
     "text": [
      "{'Samples': 1000, 'Features': 32, 'Anomalies': 349, 'Anomalies Ratio(%)': 34.9}\n",
      "epoch : 1/5000, loss = 24.921741\n",
      "epoch : 1000/5000, loss = 0.529060\n",
      "epoch : 2000/5000, loss = 0.241193\n",
      "epoch : 3000/5000, loss = 0.116628\n",
      "epoch : 4000/5000, loss = 0.071218\n",
      "epoch : 5000/5000, loss = 0.038443\n",
      "self.error_median=0.0062, self.error_range=0.0077, self.latent_error_median_=0.0102, self.latent_error_range_=0.0070\n",
      "Model result scaling scheme:  True\n",
      "Latent dim= 16. Weight Decay = 0.000001\n",
      "Using cuda\n",
      "self.error_mu=0.0086, self.error_std=0.0075, self.latent_error_mu_=0.0102, self.latent_error_sigma_=0.0046; alpha = 1.0000\n",
      "Current experiment parameters: ('18_Ionosphere', 0.0, 3), model: Customized, metrics: {'aucroc': 0.5295726495726496, 'aucpr': 0.5543816768496617}, fitting time: 375.1521964073181, inference time: 0.002009868621826172\n"
     ]
    },
    {
     "name": "stderr",
     "output_type": "stream",
     "text": [
      "171it [2:30:43, 66.11s/it]"
     ]
    },
    {
     "name": "stdout",
     "output_type": "stream",
     "text": [
      "\n",
      "Model performance:\n",
      "Reconstruction AUCROC=0.7923; AUCPR=0.6891\n",
      "Deviation AUCROC=0.3913; AUCPR=0.4816\n",
      "Max(rec, dev) AUCROC=0.5481; AUCPR=0.5768\n",
      "\n",
      "Sum of squared error AUCROC=0.5477; AUCPR=0.5694\n",
      "\n",
      "Transformer selector AUCROC=1.0000; AUCPR=1.0000\n",
      "\n"
     ]
    },
    {
     "name": "stderr",
     "output_type": "stream",
     "text": [
      "d:\\conda\\venv\\adbench\\Lib\\site-packages\\sklearn\\cluster\\_kmeans.py:1440: UserWarning: KMeans is known to have a memory leak on Windows with MKL, when there are less chunks than available threads. You can avoid it by setting the environment variable OMP_NUM_THREADS=3.\n",
      "  warnings.warn(\n",
      "d:\\conda\\venv\\adbench\\Lib\\site-packages\\sklearn\\cluster\\_kmeans.py:1440: UserWarning: KMeans is known to have a memory leak on Windows with MKL, when there are less chunks than available threads. You can avoid it by setting the environment variable OMP_NUM_THREADS=3.\n",
      "  warnings.warn(\n",
      "d:\\conda\\venv\\adbench\\Lib\\site-packages\\sklearn\\cluster\\_kmeans.py:1440: UserWarning: KMeans is known to have a memory leak on Windows with MKL, when there are less chunks than available threads. You can avoid it by setting the environment variable OMP_NUM_THREADS=3.\n",
      "  warnings.warn(\n",
      "d:\\conda\\venv\\adbench\\Lib\\site-packages\\sklearn\\cluster\\_kmeans.py:1440: UserWarning: KMeans is known to have a memory leak on Windows with MKL, when there are less chunks than available threads. You can avoid it by setting the environment variable OMP_NUM_THREADS=3.\n",
      "  warnings.warn(\n",
      "d:\\conda\\venv\\adbench\\Lib\\site-packages\\sklearn\\cluster\\_kmeans.py:1440: UserWarning: KMeans is known to have a memory leak on Windows with MKL, when there are less chunks than available threads. You can avoid it by setting the environment variable OMP_NUM_THREADS=3.\n",
      "  warnings.warn(\n",
      "d:\\conda\\venv\\adbench\\Lib\\site-packages\\sklearn\\cluster\\_kmeans.py:1440: UserWarning: KMeans is known to have a memory leak on Windows with MKL, when there are less chunks than available threads. You can avoid it by setting the environment variable OMP_NUM_THREADS=3.\n",
      "  warnings.warn(\n",
      "d:\\conda\\venv\\adbench\\Lib\\site-packages\\sklearn\\cluster\\_kmeans.py:1440: UserWarning: KMeans is known to have a memory leak on Windows with MKL, when there are less chunks than available threads. You can avoid it by setting the environment variable OMP_NUM_THREADS=3.\n",
      "  warnings.warn(\n",
      "d:\\conda\\venv\\adbench\\Lib\\site-packages\\sklearn\\cluster\\_kmeans.py:1440: UserWarning: KMeans is known to have a memory leak on Windows with MKL, when there are less chunks than available threads. You can avoid it by setting the environment variable OMP_NUM_THREADS=3.\n",
      "  warnings.warn(\n",
      "d:\\conda\\venv\\adbench\\Lib\\site-packages\\sklearn\\cluster\\_kmeans.py:1440: UserWarning: KMeans is known to have a memory leak on Windows with MKL, when there are less chunks than available threads. You can avoid it by setting the environment variable OMP_NUM_THREADS=3.\n",
      "  warnings.warn(\n",
      "d:\\conda\\venv\\adbench\\Lib\\site-packages\\sklearn\\cluster\\_kmeans.py:1440: UserWarning: KMeans is known to have a memory leak on Windows with MKL, when there are less chunks than available threads. You can avoid it by setting the environment variable OMP_NUM_THREADS=3.\n",
      "  warnings.warn(\n"
     ]
    },
    {
     "name": "stdout",
     "output_type": "stream",
     "text": [
      "{'Samples': 1000, 'Features': 8, 'Anomalies': 367, 'Anomalies Ratio(%)': 36.7}\n",
      "epoch : 1/5000, loss = 5.456339\n",
      "epoch : 1000/5000, loss = 0.063798\n",
      "epoch : 2000/5000, loss = 0.026888\n",
      "epoch : 3000/5000, loss = 0.025450\n",
      "epoch : 4000/5000, loss = 0.019378\n",
      "epoch : 5000/5000, loss = 0.012228\n",
      "self.error_median=0.0019, self.error_range=0.0034, self.latent_error_median_=0.0020, self.latent_error_range_=0.0010\n",
      "Model result scaling scheme:  True\n",
      "Latent dim= 8. Weight Decay = 0.000001\n",
      "Using cuda\n",
      "self.error_mu=0.0031, self.error_std=0.0045, self.latent_error_mu_=0.0023, self.latent_error_sigma_=0.0019; alpha = 1.0000\n"
     ]
    },
    {
     "name": "stderr",
     "output_type": "stream",
     "text": [
      "193it [2:36:58, 35.53s/it]"
     ]
    },
    {
     "name": "stdout",
     "output_type": "stream",
     "text": [
      "Current experiment parameters: ('29_Pima', 0.0, 1), model: Customized, metrics: {'aucroc': 0.4654066985645933, 'aucpr': 0.43255181268446796}, fitting time: 374.59881138801575, inference time: 0.0009975433349609375\n",
      "\n",
      "Model performance:\n",
      "Reconstruction AUCROC=0.6075; AUCPR=0.4630\n",
      "Deviation AUCROC=0.3512; AUCPR=0.3958\n",
      "Max(rec, dev) AUCROC=0.5564; AUCPR=0.4616\n",
      "\n",
      "Sum of squared error AUCROC=0.5564; AUCPR=0.4591\n",
      "\n",
      "Transformer selector AUCROC=0.9535; AUCPR=0.9295\n",
      "\n"
     ]
    },
    {
     "name": "stderr",
     "output_type": "stream",
     "text": [
      "d:\\conda\\venv\\adbench\\Lib\\site-packages\\sklearn\\cluster\\_kmeans.py:1440: UserWarning: KMeans is known to have a memory leak on Windows with MKL, when there are less chunks than available threads. You can avoid it by setting the environment variable OMP_NUM_THREADS=3.\n",
      "  warnings.warn(\n",
      "d:\\conda\\venv\\adbench\\Lib\\site-packages\\sklearn\\cluster\\_kmeans.py:1440: UserWarning: KMeans is known to have a memory leak on Windows with MKL, when there are less chunks than available threads. You can avoid it by setting the environment variable OMP_NUM_THREADS=3.\n",
      "  warnings.warn(\n",
      "d:\\conda\\venv\\adbench\\Lib\\site-packages\\sklearn\\cluster\\_kmeans.py:1440: UserWarning: KMeans is known to have a memory leak on Windows with MKL, when there are less chunks than available threads. You can avoid it by setting the environment variable OMP_NUM_THREADS=3.\n",
      "  warnings.warn(\n",
      "d:\\conda\\venv\\adbench\\Lib\\site-packages\\sklearn\\cluster\\_kmeans.py:1440: UserWarning: KMeans is known to have a memory leak on Windows with MKL, when there are less chunks than available threads. You can avoid it by setting the environment variable OMP_NUM_THREADS=3.\n",
      "  warnings.warn(\n",
      "d:\\conda\\venv\\adbench\\Lib\\site-packages\\sklearn\\cluster\\_kmeans.py:1440: UserWarning: KMeans is known to have a memory leak on Windows with MKL, when there are less chunks than available threads. You can avoid it by setting the environment variable OMP_NUM_THREADS=3.\n",
      "  warnings.warn(\n",
      "d:\\conda\\venv\\adbench\\Lib\\site-packages\\sklearn\\cluster\\_kmeans.py:1440: UserWarning: KMeans is known to have a memory leak on Windows with MKL, when there are less chunks than available threads. You can avoid it by setting the environment variable OMP_NUM_THREADS=3.\n",
      "  warnings.warn(\n",
      "d:\\conda\\venv\\adbench\\Lib\\site-packages\\sklearn\\cluster\\_kmeans.py:1440: UserWarning: KMeans is known to have a memory leak on Windows with MKL, when there are less chunks than available threads. You can avoid it by setting the environment variable OMP_NUM_THREADS=3.\n",
      "  warnings.warn(\n",
      "d:\\conda\\venv\\adbench\\Lib\\site-packages\\sklearn\\cluster\\_kmeans.py:1440: UserWarning: KMeans is known to have a memory leak on Windows with MKL, when there are less chunks than available threads. You can avoid it by setting the environment variable OMP_NUM_THREADS=3.\n",
      "  warnings.warn(\n",
      "d:\\conda\\venv\\adbench\\Lib\\site-packages\\sklearn\\cluster\\_kmeans.py:1440: UserWarning: KMeans is known to have a memory leak on Windows with MKL, when there are less chunks than available threads. You can avoid it by setting the environment variable OMP_NUM_THREADS=3.\n",
      "  warnings.warn(\n",
      "d:\\conda\\venv\\adbench\\Lib\\site-packages\\sklearn\\cluster\\_kmeans.py:1440: UserWarning: KMeans is known to have a memory leak on Windows with MKL, when there are less chunks than available threads. You can avoid it by setting the environment variable OMP_NUM_THREADS=3.\n",
      "  warnings.warn(\n"
     ]
    },
    {
     "name": "stdout",
     "output_type": "stream",
     "text": [
      "{'Samples': 1000, 'Features': 8, 'Anomalies': 346, 'Anomalies Ratio(%)': 34.6}\n",
      "epoch : 1/5000, loss = 2.419533\n",
      "epoch : 1000/5000, loss = 0.035917\n",
      "epoch : 2000/5000, loss = 0.014992\n",
      "epoch : 3000/5000, loss = 0.009121\n",
      "epoch : 4000/5000, loss = 0.007039\n",
      "epoch : 5000/5000, loss = 0.004718\n",
      "self.error_median=0.0003, self.error_range=0.0008, self.latent_error_median_=0.0010, self.latent_error_range_=0.0015\n",
      "Model result scaling scheme:  True\n",
      "Latent dim= 8. Weight Decay = 0.000001\n",
      "Using cuda\n",
      "self.error_mu=0.0008, self.error_std=0.0016, self.latent_error_mu_=0.0015, self.latent_error_sigma_=0.0018; alpha = 1.0000\n",
      "Current experiment parameters: ('29_Pima', 0.0, 2), model: Customized, metrics: {'aucroc': 0.8697998430141287, 'aucpr': 0.715296392615653}, fitting time: 377.8693437576294, inference time: 0.0019943714141845703\n",
      "\n",
      "Model performance:\n",
      "Reconstruction AUCROC=0.7312; AUCPR=0.5456\n",
      "Deviation AUCROC=0.9706; AUCPR=0.9193\n",
      "Max(rec, dev) AUCROC=0.9248; AUCPR=0.7976\n",
      "\n",
      "Sum of squared error AUCROC=0.9166; AUCPR=0.7951\n",
      "\n"
     ]
    },
    {
     "name": "stderr",
     "output_type": "stream",
     "text": [
      "194it [2:43:16, 48.87s/it]"
     ]
    },
    {
     "name": "stdout",
     "output_type": "stream",
     "text": [
      "Transformer selector AUCROC=0.9828; AUCPR=0.9790\n",
      "\n"
     ]
    },
    {
     "name": "stderr",
     "output_type": "stream",
     "text": [
      "d:\\conda\\venv\\adbench\\Lib\\site-packages\\sklearn\\cluster\\_kmeans.py:1440: UserWarning: KMeans is known to have a memory leak on Windows with MKL, when there are less chunks than available threads. You can avoid it by setting the environment variable OMP_NUM_THREADS=3.\n",
      "  warnings.warn(\n",
      "d:\\conda\\venv\\adbench\\Lib\\site-packages\\sklearn\\cluster\\_kmeans.py:1440: UserWarning: KMeans is known to have a memory leak on Windows with MKL, when there are less chunks than available threads. You can avoid it by setting the environment variable OMP_NUM_THREADS=3.\n",
      "  warnings.warn(\n",
      "d:\\conda\\venv\\adbench\\Lib\\site-packages\\sklearn\\cluster\\_kmeans.py:1440: UserWarning: KMeans is known to have a memory leak on Windows with MKL, when there are less chunks than available threads. You can avoid it by setting the environment variable OMP_NUM_THREADS=3.\n",
      "  warnings.warn(\n",
      "d:\\conda\\venv\\adbench\\Lib\\site-packages\\sklearn\\cluster\\_kmeans.py:1440: UserWarning: KMeans is known to have a memory leak on Windows with MKL, when there are less chunks than available threads. You can avoid it by setting the environment variable OMP_NUM_THREADS=3.\n",
      "  warnings.warn(\n",
      "d:\\conda\\venv\\adbench\\Lib\\site-packages\\sklearn\\cluster\\_kmeans.py:1440: UserWarning: KMeans is known to have a memory leak on Windows with MKL, when there are less chunks than available threads. You can avoid it by setting the environment variable OMP_NUM_THREADS=3.\n",
      "  warnings.warn(\n",
      "d:\\conda\\venv\\adbench\\Lib\\site-packages\\sklearn\\cluster\\_kmeans.py:1440: UserWarning: KMeans is known to have a memory leak on Windows with MKL, when there are less chunks than available threads. You can avoid it by setting the environment variable OMP_NUM_THREADS=3.\n",
      "  warnings.warn(\n",
      "d:\\conda\\venv\\adbench\\Lib\\site-packages\\sklearn\\cluster\\_kmeans.py:1440: UserWarning: KMeans is known to have a memory leak on Windows with MKL, when there are less chunks than available threads. You can avoid it by setting the environment variable OMP_NUM_THREADS=3.\n",
      "  warnings.warn(\n",
      "d:\\conda\\venv\\adbench\\Lib\\site-packages\\sklearn\\cluster\\_kmeans.py:1440: UserWarning: KMeans is known to have a memory leak on Windows with MKL, when there are less chunks than available threads. You can avoid it by setting the environment variable OMP_NUM_THREADS=3.\n",
      "  warnings.warn(\n",
      "d:\\conda\\venv\\adbench\\Lib\\site-packages\\sklearn\\cluster\\_kmeans.py:1440: UserWarning: KMeans is known to have a memory leak on Windows with MKL, when there are less chunks than available threads. You can avoid it by setting the environment variable OMP_NUM_THREADS=3.\n",
      "  warnings.warn(\n",
      "d:\\conda\\venv\\adbench\\Lib\\site-packages\\sklearn\\cluster\\_kmeans.py:1440: UserWarning: KMeans is known to have a memory leak on Windows with MKL, when there are less chunks than available threads. You can avoid it by setting the environment variable OMP_NUM_THREADS=3.\n",
      "  warnings.warn(\n"
     ]
    },
    {
     "name": "stdout",
     "output_type": "stream",
     "text": [
      "{'Samples': 1000, 'Features': 8, 'Anomalies': 308, 'Anomalies Ratio(%)': 30.8}\n",
      "epoch : 1/5000, loss = 2.598777\n",
      "epoch : 1000/5000, loss = 0.037158\n",
      "epoch : 2000/5000, loss = 0.037047\n",
      "epoch : 3000/5000, loss = 0.010741\n",
      "epoch : 4000/5000, loss = 0.009560\n",
      "epoch : 5000/5000, loss = 0.004325\n",
      "self.error_median=0.0004, self.error_range=0.0010, self.latent_error_median_=0.0008, self.latent_error_range_=0.0011\n",
      "Model result scaling scheme:  True\n",
      "Latent dim= 8. Weight Decay = 0.000001\n",
      "Using cuda\n",
      "self.error_mu=0.0008, self.error_std=0.0009, self.latent_error_mu_=0.0012, self.latent_error_sigma_=0.0012; alpha = 1.0000\n",
      "Current experiment parameters: ('29_Pima', 0.0, 3), model: Customized, metrics: {'aucroc': 0.9485785953177257, 'aucpr': 0.9007954696984082}, fitting time: 379.5826470851898, inference time: 0.0019941329956054688\n"
     ]
    },
    {
     "name": "stderr",
     "output_type": "stream",
     "text": [
      "195it [2:49:36, 66.32s/it]"
     ]
    },
    {
     "name": "stdout",
     "output_type": "stream",
     "text": [
      "\n",
      "Model performance:\n",
      "Reconstruction AUCROC=0.9223; AUCPR=0.8618\n",
      "Deviation AUCROC=0.9084; AUCPR=0.8547\n",
      "Max(rec, dev) AUCROC=0.9425; AUCPR=0.8892\n",
      "\n",
      "Sum of squared error AUCROC=0.9474; AUCPR=0.8997\n",
      "\n",
      "Transformer selector AUCROC=0.9824; AUCPR=0.9859\n",
      "\n",
      "{'Samples': 1000, 'Features': 6, 'Anomalies': 123, 'Anomalies Ratio(%)': 12.3}\n",
      "epoch : 1/5000, loss = -1.072895\n",
      "epoch : 1000/5000, loss = 0.027250\n",
      "epoch : 2000/5000, loss = 0.008271\n",
      "epoch : 3000/5000, loss = 0.008566\n",
      "epoch : 4000/5000, loss = 0.002996\n",
      "epoch : 5000/5000, loss = 0.002665\n",
      "self.error_median=0.0001, self.error_range=0.0002, self.latent_error_median_=0.0002, self.latent_error_range_=0.0003\n",
      "Model result scaling scheme:  True\n",
      "Latent dim= 6. Weight Decay = 0.000001\n",
      "Using cuda\n",
      "self.error_mu=0.0002, self.error_std=0.0004, self.latent_error_mu_=0.0008, self.latent_error_sigma_=0.0015; alpha = 1.0000\n",
      "Current experiment parameters: ('39_vertebral', 0.0, 1), model: Customized, metrics: {'aucroc': 0.9967115404377762, 'aucpr': 0.9719323498459709}, fitting time: 375.7255175113678, inference time: 0.000997304916381836\n"
     ]
    },
    {
     "name": "stderr",
     "output_type": "stream",
     "text": [
      "217it [2:55:53, 35.64s/it]"
     ]
    },
    {
     "name": "stdout",
     "output_type": "stream",
     "text": [
      "\n",
      "Model performance:\n",
      "Reconstruction AUCROC=0.9470; AUCPR=0.7452\n",
      "Deviation AUCROC=0.9975; AUCPR=0.9804\n",
      "Max(rec, dev) AUCROC=0.9975; AUCPR=0.9804\n",
      "\n",
      "Sum of squared error AUCROC=0.9975; AUCPR=0.9804\n",
      "\n",
      "Transformer selector AUCROC=0.9988; AUCPR=0.9911\n",
      "\n",
      "{'Samples': 1000, 'Features': 6, 'Anomalies': 138, 'Anomalies Ratio(%)': 13.8}\n",
      "epoch : 1/5000, loss = 0.961046\n",
      "epoch : 1000/5000, loss = 0.010389\n",
      "epoch : 2000/5000, loss = 0.003707\n",
      "epoch : 3000/5000, loss = 0.001488\n",
      "epoch : 4000/5000, loss = 0.000983\n",
      "epoch : 5000/5000, loss = 0.000744\n",
      "self.error_median=0.0000, self.error_range=0.0000, self.latent_error_median_=0.0001, self.latent_error_range_=0.0001\n",
      "Model result scaling scheme:  True\n",
      "Latent dim= 6. Weight Decay = 0.000001\n",
      "Using cuda\n",
      "self.error_mu=0.0000, self.error_std=0.0000, self.latent_error_mu_=0.0003, self.latent_error_sigma_=0.0007; alpha = 1.0000\n",
      "Current experiment parameters: ('39_vertebral', 0.0, 2), model: Customized, metrics: {'aucroc': 0.9942555796214333, 'aucpr': 0.9457625194589534}, fitting time: 374.93156147003174, inference time: 0.001995086669921875\n"
     ]
    },
    {
     "name": "stderr",
     "output_type": "stream",
     "text": [
      "218it [3:02:08, 48.86s/it]"
     ]
    },
    {
     "name": "stdout",
     "output_type": "stream",
     "text": [
      "\n",
      "Model performance:\n",
      "Reconstruction AUCROC=0.9556; AUCPR=0.7618\n",
      "Deviation AUCROC=0.9965; AUCPR=0.9502\n",
      "Max(rec, dev) AUCROC=0.9965; AUCPR=0.9502\n",
      "\n",
      "Sum of squared error AUCROC=0.9965; AUCPR=0.9502\n",
      "\n",
      "Transformer selector AUCROC=0.9974; AUCPR=0.9738\n",
      "\n",
      "{'Samples': 1000, 'Features': 6, 'Anomalies': 133, 'Anomalies Ratio(%)': 13.3}\n",
      "epoch : 1/5000, loss = 1.302681\n",
      "epoch : 1000/5000, loss = 0.031165\n",
      "epoch : 2000/5000, loss = 0.008748\n",
      "epoch : 3000/5000, loss = 0.003466\n",
      "epoch : 4000/5000, loss = 0.015392\n",
      "epoch : 5000/5000, loss = 0.005613\n",
      "self.error_median=0.0004, self.error_range=0.0012, self.latent_error_median_=0.0002, self.latent_error_range_=0.0005\n",
      "Model result scaling scheme:  True\n",
      "Latent dim= 6. Weight Decay = 0.000001\n",
      "Using cuda\n",
      "self.error_mu=0.0008, self.error_std=0.0013, self.latent_error_mu_=0.0018, self.latent_error_sigma_=0.0043; alpha = 1.0000\n",
      "Current experiment parameters: ('39_vertebral', 0.0, 3), model: Customized, metrics: {'aucroc': 0.9930769230769231, 'aucpr': 0.9061628596675831}, fitting time: 375.6595780849457, inference time: 0.0019752979278564453\n"
     ]
    },
    {
     "name": "stderr",
     "output_type": "stream",
     "text": [
      "219it [3:08:25, 66.10s/it]"
     ]
    },
    {
     "name": "stdout",
     "output_type": "stream",
     "text": [
      "\n",
      "Model performance:\n",
      "Reconstruction AUCROC=0.8348; AUCPR=0.4014\n",
      "Deviation AUCROC=0.9931; AUCPR=0.9062\n",
      "Max(rec, dev) AUCROC=0.9899; AUCPR=0.8745\n",
      "\n",
      "Sum of squared error AUCROC=0.9900; AUCPR=0.8763\n",
      "\n",
      "Transformer selector AUCROC=0.9143; AUCPR=0.7228\n",
      "\n",
      "{'Samples': 1000, 'Features': 19, 'Anomalies': 170, 'Anomalies Ratio(%)': 17.0}\n",
      "epoch : 1/5000, loss = 663.520813\n",
      "epoch : 1000/5000, loss = 0.309729\n",
      "epoch : 2000/5000, loss = 0.111746\n",
      "epoch : 3000/5000, loss = 0.087441\n",
      "epoch : 4000/5000, loss = 0.113302\n",
      "epoch : 5000/5000, loss = 0.076044\n",
      "self.error_median=0.0172, self.error_range=0.0236, self.latent_error_median_=0.0016, self.latent_error_range_=0.0020\n",
      "Model result scaling scheme:  True\n",
      "Latent dim= 16. Weight Decay = 0.000001\n",
      "Using cuda\n",
      "self.error_mu=0.0242, self.error_std=0.0327, self.latent_error_mu_=0.0038, self.latent_error_sigma_=0.0061; alpha = 1.0000\n",
      "Current experiment parameters: ('15_Hepatitis', 0.0, 1), model: Customized, metrics: {'aucroc': 0.9996850145680761, 'aucpr': 0.9984461416542486}, fitting time: 376.6222176551819, inference time: 0.001994609832763672\n",
      "\n",
      "Model performance:\n",
      "Reconstruction AUCROC=0.7994; AUCPR=0.5178\n",
      "Deviation AUCROC=1.0000; AUCPR=1.0000\n",
      "Max(rec, dev) AUCROC=0.8031; AUCPR=0.5187\n",
      "\n",
      "Sum of squared error AUCROC=0.8464; AUCPR=0.5563\n",
      "\n"
     ]
    },
    {
     "name": "stderr",
     "output_type": "stream",
     "text": [
      "241it [3:14:41, 35.58s/it]"
     ]
    },
    {
     "name": "stdout",
     "output_type": "stream",
     "text": [
      "Transformer selector AUCROC=1.0000; AUCPR=1.0000\n",
      "\n",
      "{'Samples': 1000, 'Features': 19, 'Anomalies': 139, 'Anomalies Ratio(%)': 13.9}\n",
      "epoch : 1/5000, loss = 4.577021\n",
      "epoch : 1000/5000, loss = 0.169710\n",
      "epoch : 2000/5000, loss = 0.079313\n",
      "epoch : 3000/5000, loss = 0.196243\n",
      "epoch : 4000/5000, loss = 0.132722\n",
      "epoch : 5000/5000, loss = 0.139721\n",
      "self.error_median=0.0237, self.error_range=0.0296, self.latent_error_median_=0.0102, self.latent_error_range_=0.0097\n",
      "Model result scaling scheme:  True\n",
      "Latent dim= 16. Weight Decay = 0.000001\n",
      "Using cuda\n",
      "self.error_mu=0.0357, self.error_std=0.0540, self.latent_error_mu_=0.0147, self.latent_error_sigma_=0.0127; alpha = 1.0000\n",
      "Current experiment parameters: ('15_Hepatitis', 0.0, 2), model: Customized, metrics: {'aucroc': 0.9946474713916574, 'aucpr': 0.9630594436084878}, fitting time: 377.52466011047363, inference time: 0.0019936561584472656\n",
      "\n",
      "Model performance:\n",
      "Reconstruction AUCROC=0.9133; AUCPR=0.7960\n",
      "Deviation AUCROC=0.9963; AUCPR=0.9604\n",
      "Max(rec, dev) AUCROC=0.9564; AUCPR=0.8252\n",
      "\n",
      "Sum of squared error AUCROC=0.9685; AUCPR=0.8554\n",
      "\n"
     ]
    },
    {
     "name": "stderr",
     "output_type": "stream",
     "text": [
      "242it [3:20:59, 48.90s/it]"
     ]
    },
    {
     "name": "stdout",
     "output_type": "stream",
     "text": [
      "Transformer selector AUCROC=1.0000; AUCPR=1.0000\n",
      "\n",
      "{'Samples': 1000, 'Features': 19, 'Anomalies': 169, 'Anomalies Ratio(%)': 16.9}\n",
      "epoch : 1/5000, loss = -25.738951\n",
      "epoch : 1000/5000, loss = 0.116455\n",
      "epoch : 2000/5000, loss = 0.092543\n",
      "epoch : 3000/5000, loss = 0.055611\n",
      "epoch : 4000/5000, loss = 0.089028\n",
      "epoch : 5000/5000, loss = 0.058318\n",
      "self.error_median=0.0118, self.error_range=0.0138, self.latent_error_median_=0.0022, self.latent_error_range_=0.0028\n",
      "Model result scaling scheme:  True\n",
      "Latent dim= 16. Weight Decay = 0.000001\n",
      "Using cuda\n",
      "self.error_mu=0.0148, self.error_std=0.0125, self.latent_error_mu_=0.0043, self.latent_error_sigma_=0.0053; alpha = 1.0000\n",
      "Current experiment parameters: ('15_Hepatitis', 0.0, 3), model: Customized, metrics: {'aucroc': 0.988818017166706, 'aucpr': 0.9106411518456667}, fitting time: 377.0360062122345, inference time: 0.001994609832763672\n"
     ]
    },
    {
     "name": "stderr",
     "output_type": "stream",
     "text": [
      "243it [3:27:17, 66.19s/it]"
     ]
    },
    {
     "name": "stdout",
     "output_type": "stream",
     "text": [
      "\n",
      "Model performance:\n",
      "Reconstruction AUCROC=0.7888; AUCPR=0.4286\n",
      "Deviation AUCROC=0.9970; AUCPR=0.9787\n",
      "Max(rec, dev) AUCROC=0.8405; AUCPR=0.4630\n",
      "\n",
      "Sum of squared error AUCROC=0.8859; AUCPR=0.5330\n",
      "\n",
      "Transformer selector AUCROC=1.0000; AUCPR=1.0000\n",
      "\n",
      "{'Samples': 1000, 'Features': 7, 'Anomalies': 42, 'Anomalies Ratio(%)': 4.2}\n",
      "epoch : 1/5000, loss = -0.206229\n",
      "epoch : 1000/5000, loss = 0.047082\n",
      "epoch : 2000/5000, loss = 0.013737\n",
      "epoch : 3000/5000, loss = 0.276405\n",
      "epoch : 4000/5000, loss = 0.004519\n",
      "epoch : 5000/5000, loss = 0.002158\n",
      "self.error_median=0.0001, self.error_range=0.0002, self.latent_error_median_=0.0001, self.latent_error_range_=0.0004\n",
      "Model result scaling scheme:  True\n",
      "Latent dim= 7. Weight Decay = 0.000001\n",
      "Using cuda\n",
      "self.error_mu=0.0004, self.error_std=0.0020, self.latent_error_mu_=0.0006, self.latent_error_sigma_=0.0019; alpha = 1.0000\n",
      "Current experiment parameters: ('14_glass', 0.0, 1), model: Customized, metrics: {'aucroc': 0.9729295095148753, 'aucpr': 0.5007044411220611}, fitting time: 374.96167755126953, inference time: 0.001994609832763672\n"
     ]
    },
    {
     "name": "stderr",
     "output_type": "stream",
     "text": [
      "265it [3:33:32, 35.57s/it]"
     ]
    },
    {
     "name": "stdout",
     "output_type": "stream",
     "text": [
      "\n",
      "Model performance:\n",
      "Reconstruction AUCROC=0.8309; AUCPR=0.2294\n",
      "Deviation AUCROC=0.9871; AUCPR=0.6442\n",
      "Max(rec, dev) AUCROC=0.9871; AUCPR=0.6442\n",
      "\n",
      "Sum of squared error AUCROC=0.9874; AUCPR=0.6494\n",
      "\n",
      "Transformer selector AUCROC=1.0000; AUCPR=1.0000\n",
      "\n",
      "{'Samples': 1000, 'Features': 7, 'Anomalies': 42, 'Anomalies Ratio(%)': 4.2}\n",
      "epoch : 1/5000, loss = 0.647915\n",
      "epoch : 1000/5000, loss = 0.010557\n",
      "epoch : 2000/5000, loss = 0.002486\n",
      "epoch : 3000/5000, loss = 0.001156\n",
      "epoch : 4000/5000, loss = 0.000568\n",
      "epoch : 5000/5000, loss = 0.000956\n",
      "self.error_median=0.0000, self.error_range=0.0001, self.latent_error_median_=0.0001, self.latent_error_range_=0.0002\n",
      "Model result scaling scheme:  True\n",
      "Latent dim= 7. Weight Decay = 0.000001\n",
      "Using cuda\n",
      "self.error_mu=0.0001, self.error_std=0.0002, self.latent_error_mu_=0.0003, self.latent_error_sigma_=0.0011; alpha = 1.0000\n",
      "Current experiment parameters: ('14_glass', 0.0, 2), model: Customized, metrics: {'aucroc': 0.9852586437952291, 'aucpr': 0.6269617610829804}, fitting time: 375.92506313323975, inference time: 0.001993417739868164\n"
     ]
    },
    {
     "name": "stderr",
     "output_type": "stream",
     "text": [
      "266it [3:39:48, 48.83s/it]"
     ]
    },
    {
     "name": "stdout",
     "output_type": "stream",
     "text": [
      "\n",
      "Model performance:\n",
      "Reconstruction AUCROC=0.9078; AUCPR=0.2119\n",
      "Deviation AUCROC=1.0000; AUCPR=1.0000\n",
      "Max(rec, dev) AUCROC=0.9976; AUCPR=0.9255\n",
      "\n",
      "Sum of squared error AUCROC=0.9976; AUCPR=0.9255\n",
      "\n",
      "Transformer selector AUCROC=1.0000; AUCPR=1.0000\n",
      "\n",
      "{'Samples': 1000, 'Features': 7, 'Anomalies': 34, 'Anomalies Ratio(%)': 3.4}\n",
      "epoch : 1/5000, loss = 0.606832\n",
      "epoch : 1000/5000, loss = 0.005802\n",
      "epoch : 2000/5000, loss = 0.002748\n",
      "epoch : 3000/5000, loss = 0.002329\n",
      "epoch : 4000/5000, loss = 0.001072\n",
      "epoch : 5000/5000, loss = 0.000904\n",
      "self.error_median=0.0000, self.error_range=0.0001, self.latent_error_median_=0.0001, self.latent_error_range_=0.0002\n",
      "Model result scaling scheme:  True\n",
      "Latent dim= 7. Weight Decay = 0.000001\n",
      "Using cuda\n",
      "self.error_mu=0.0001, self.error_std=0.0002, self.latent_error_mu_=0.0003, self.latent_error_sigma_=0.0011; alpha = 1.0000\n",
      "Current experiment parameters: ('14_glass', 0.0, 3), model: Customized, metrics: {'aucroc': 0.9951724137931034, 'aucpr': 0.8243578643578643}, fitting time: 379.1459894180298, inference time: 0.0019948482513427734\n"
     ]
    },
    {
     "name": "stderr",
     "output_type": "stream",
     "text": [
      "267it [3:46:08, 66.25s/it]"
     ]
    },
    {
     "name": "stdout",
     "output_type": "stream",
     "text": [
      "\n",
      "Model performance:\n",
      "Reconstruction AUCROC=0.9510; AUCPR=0.3610\n",
      "Deviation AUCROC=1.0000; AUCPR=1.0000\n",
      "Max(rec, dev) AUCROC=1.0000; AUCPR=1.0000\n",
      "\n",
      "Sum of squared error AUCROC=1.0000; AUCPR=1.0000\n",
      "\n",
      "Transformer selector AUCROC=0.4772; AUCPR=0.4205\n",
      "\n",
      "{'Samples': 1456, 'Features': 12, 'Anomalies': 50, 'Anomalies Ratio(%)': 3.43}\n",
      "epoch : 1/5000, loss = 6.353150\n",
      "epoch : 1000/5000, loss = 0.099666\n",
      "epoch : 2000/5000, loss = 0.065135\n",
      "epoch : 3000/5000, loss = 0.031598\n",
      "epoch : 4000/5000, loss = 0.045372\n",
      "epoch : 5000/5000, loss = 0.019853\n",
      "self.error_median=0.0062, self.error_range=0.0083, self.latent_error_median_=0.0013, self.latent_error_range_=0.0015\n",
      "Model result scaling scheme:  True\n",
      "Latent dim= 12. Weight Decay = 0.000001\n",
      "Using cuda\n",
      "self.error_mu=0.0078, self.error_std=0.0057, self.latent_error_mu_=0.0022, self.latent_error_sigma_=0.0036; alpha = 1.0000\n",
      "Current experiment parameters: ('40_vowels', 0.0, 1), model: Customized, metrics: {'aucroc': 1.0, 'aucpr': 1.0}, fitting time: 377.6268193721771, inference time: 0.0019664764404296875\n"
     ]
    },
    {
     "name": "stderr",
     "output_type": "stream",
     "text": [
      "289it [3:52:27, 35.67s/it]"
     ]
    },
    {
     "name": "stdout",
     "output_type": "stream",
     "text": [
      "\n",
      "Model performance:\n",
      "Reconstruction AUCROC=0.8112; AUCPR=0.1747\n",
      "Deviation AUCROC=1.0000; AUCPR=1.0000\n",
      "Max(rec, dev) AUCROC=0.9439; AUCPR=0.3400\n",
      "\n",
      "Sum of squared error AUCROC=0.9706; AUCPR=0.5376\n",
      "\n",
      "Transformer selector AUCROC=0.5400; AUCPR=0.2555\n",
      "\n",
      "{'Samples': 1456, 'Features': 12, 'Anomalies': 50, 'Anomalies Ratio(%)': 3.43}\n",
      "epoch : 1/5000, loss = 6.849020\n",
      "epoch : 1000/5000, loss = 0.061993\n",
      "epoch : 2000/5000, loss = 0.031957\n",
      "epoch : 3000/5000, loss = 0.021637\n",
      "epoch : 4000/5000, loss = 0.012865\n",
      "epoch : 5000/5000, loss = 0.007462\n",
      "self.error_median=0.0015, self.error_range=0.0022, self.latent_error_median_=0.0013, self.latent_error_range_=0.0011\n",
      "Model result scaling scheme:  True\n",
      "Latent dim= 12. Weight Decay = 0.000001\n",
      "Using cuda\n",
      "self.error_mu=0.0020, self.error_std=0.0018, self.latent_error_mu_=0.0018, self.latent_error_sigma_=0.0025; alpha = 1.0000\n",
      "Current experiment parameters: ('40_vowels', 0.0, 2), model: Customized, metrics: {'aucroc': 0.9996840442338073, 'aucpr': 0.9913888888888889}, fitting time: 378.56219244003296, inference time: 0.0019948482513427734\n"
     ]
    },
    {
     "name": "stderr",
     "output_type": "stream",
     "text": [
      "290it [3:58:46, 49.03s/it]"
     ]
    },
    {
     "name": "stdout",
     "output_type": "stream",
     "text": [
      "\n",
      "Model performance:\n",
      "Reconstruction AUCROC=0.9166; AUCPR=0.4592\n",
      "Deviation AUCROC=1.0000; AUCPR=1.0000\n",
      "Max(rec, dev) AUCROC=0.9964; AUCPR=0.9087\n",
      "\n",
      "Sum of squared error AUCROC=0.9975; AUCPR=0.9358\n",
      "\n",
      "Transformer selector AUCROC=0.5567; AUCPR=0.0583\n",
      "\n",
      "{'Samples': 1456, 'Features': 12, 'Anomalies': 50, 'Anomalies Ratio(%)': 3.43}\n",
      "epoch : 1/5000, loss = 6.797708\n",
      "epoch : 1000/5000, loss = 0.060723\n",
      "epoch : 2000/5000, loss = 0.033784\n",
      "epoch : 3000/5000, loss = 0.023520\n",
      "epoch : 4000/5000, loss = 0.016392\n",
      "epoch : 5000/5000, loss = 0.009831\n",
      "self.error_median=0.0023, self.error_range=0.0033, self.latent_error_median_=0.0013, self.latent_error_range_=0.0012\n",
      "Model result scaling scheme:  True\n",
      "Latent dim= 12. Weight Decay = 0.000001\n",
      "Using cuda\n",
      "self.error_mu=0.0032, self.error_std=0.0029, self.latent_error_mu_=0.0018, self.latent_error_sigma_=0.0024; alpha = 1.0000\n",
      "Current experiment parameters: ('40_vowels', 0.0, 3), model: Customized, metrics: {'aucroc': 0.9996840442338073, 'aucpr': 0.9913888888888889}, fitting time: 377.4154269695282, inference time: 0.0019943714141845703\n"
     ]
    },
    {
     "name": "stderr",
     "output_type": "stream",
     "text": [
      "291it [4:05:04, 66.35s/it]"
     ]
    },
    {
     "name": "stdout",
     "output_type": "stream",
     "text": [
      "\n",
      "Model performance:\n",
      "Reconstruction AUCROC=0.9008; AUCPR=0.3939\n",
      "Deviation AUCROC=1.0000; AUCPR=1.0000\n",
      "Max(rec, dev) AUCROC=0.9804; AUCPR=0.6902\n",
      "\n",
      "Sum of squared error AUCROC=0.9856; AUCPR=0.8115\n",
      "\n",
      "Transformer selector AUCROC=0.3204; AUCPR=0.2215\n",
      "\n",
      "{'Samples': 1484, 'Features': 8, 'Anomalies': 507, 'Anomalies Ratio(%)': 34.16}\n",
      "epoch : 1/5000, loss = 2.746558\n",
      "epoch : 1000/5000, loss = 0.057490\n",
      "epoch : 2000/5000, loss = 0.051856\n",
      "epoch : 3000/5000, loss = 0.013937\n",
      "epoch : 4000/5000, loss = 0.836490\n",
      "epoch : 5000/5000, loss = 0.793377\n",
      "self.error_median=0.0176, self.error_range=0.0204, self.latent_error_median_=0.2888, self.latent_error_range_=0.1218\n",
      "Model result scaling scheme:  True\n",
      "Latent dim= 8. Weight Decay = 0.000001\n",
      "Using cuda\n",
      "self.error_mu=0.0264, self.error_std=0.0809, self.latent_error_mu_=0.3232, self.latent_error_sigma_=0.3055; alpha = 1.0000\n",
      "Current experiment parameters: ('47_yeast', 0.0, 1), model: Customized, metrics: {'aucroc': 0.7094969566774078, 'aucpr': 0.5834183259437659}, fitting time: 379.91261863708496, inference time: 0.0019948482513427734\n",
      "\n",
      "Model performance:\n",
      "Reconstruction AUCROC=0.7402; AUCPR=0.5596\n",
      "Deviation AUCROC=0.5870; AUCPR=0.5521\n",
      "Max(rec, dev) AUCROC=0.5870; AUCPR=0.5521\n",
      "\n",
      "Sum of squared error AUCROC=0.5902; AUCPR=0.5521\n",
      "\n",
      "Transformer selector AUCROC=0.4522; AUCPR=0.4838\n",
      "\n"
     ]
    },
    {
     "name": "stderr",
     "output_type": "stream",
     "text": [
      "313it [4:11:24, 35.78s/it]"
     ]
    },
    {
     "name": "stdout",
     "output_type": "stream",
     "text": [
      "{'Samples': 1484, 'Features': 8, 'Anomalies': 507, 'Anomalies Ratio(%)': 34.16}\n",
      "epoch : 1/5000, loss = 2.637269\n",
      "epoch : 1000/5000, loss = 0.046059\n",
      "epoch : 2000/5000, loss = 0.009613\n",
      "epoch : 3000/5000, loss = 0.008632\n",
      "epoch : 4000/5000, loss = 0.009729\n",
      "epoch : 5000/5000, loss = 0.004961\n",
      "self.error_median=0.0002, self.error_range=0.0003, self.latent_error_median_=0.0011, self.latent_error_range_=0.0014\n",
      "Model result scaling scheme:  True\n",
      "Latent dim= 8. Weight Decay = 0.000001\n",
      "Using cuda\n",
      "self.error_mu=0.0007, self.error_std=0.0041, self.latent_error_mu_=0.0018, self.latent_error_sigma_=0.0043; alpha = 1.0000\n",
      "Current experiment parameters: ('47_yeast', 0.0, 2), model: Customized, metrics: {'aucroc': 0.7054018976011458, 'aucpr': 0.4625444682202158}, fitting time: 380.7550423145294, inference time: 0.0019953250885009766\n"
     ]
    },
    {
     "name": "stderr",
     "output_type": "stream",
     "text": [
      "314it [4:17:46, 49.22s/it]"
     ]
    },
    {
     "name": "stdout",
     "output_type": "stream",
     "text": [
      "\n",
      "Model performance:\n",
      "Reconstruction AUCROC=0.6504; AUCPR=0.4179\n",
      "Deviation AUCROC=0.7556; AUCPR=0.6133\n",
      "Max(rec, dev) AUCROC=0.7425; AUCPR=0.5298\n",
      "\n",
      "Sum of squared error AUCROC=0.7361; AUCPR=0.5201\n",
      "\n",
      "Transformer selector AUCROC=0.3256; AUCPR=0.2903\n",
      "\n",
      "{'Samples': 1484, 'Features': 8, 'Anomalies': 507, 'Anomalies Ratio(%)': 34.16}\n",
      "epoch : 1/5000, loss = 2.560755\n",
      "epoch : 1000/5000, loss = 0.026325\n",
      "epoch : 2000/5000, loss = 0.013831\n",
      "epoch : 3000/5000, loss = 0.003690\n",
      "epoch : 4000/5000, loss = 0.002525\n",
      "epoch : 5000/5000, loss = 0.002176\n",
      "self.error_median=0.0003, self.error_range=0.0002, self.latent_error_median_=0.0006, self.latent_error_range_=0.0008\n",
      "Model result scaling scheme:  True\n",
      "Latent dim= 8. Weight Decay = 0.000001\n",
      "Using cuda\n",
      "self.error_mu=0.0003, self.error_std=0.0002, self.latent_error_mu_=0.0008, self.latent_error_sigma_=0.0009; alpha = 1.0000\n",
      "Current experiment parameters: ('47_yeast', 0.0, 3), model: Customized, metrics: {'aucroc': 0.7103696741854636, 'aucpr': 0.5308631402522546}, fitting time: 379.8854720592499, inference time: 0.0019922256469726562\n"
     ]
    },
    {
     "name": "stderr",
     "output_type": "stream",
     "text": [
      "315it [4:24:06, 66.67s/it]"
     ]
    },
    {
     "name": "stdout",
     "output_type": "stream",
     "text": [
      "\n",
      "Model performance:\n",
      "Reconstruction AUCROC=0.5973; AUCPR=0.4476\n",
      "Deviation AUCROC=0.8673; AUCPR=0.7262\n",
      "Max(rec, dev) AUCROC=0.8450; AUCPR=0.6782\n",
      "\n",
      "Sum of squared error AUCROC=0.8250; AUCPR=0.6485\n",
      "\n",
      "Transformer selector AUCROC=0.6368; AUCPR=0.5648\n",
      "\n",
      "{'Samples': 1600, 'Features': 32, 'Anomalies': 100, 'Anomalies Ratio(%)': 6.25}\n",
      "epoch : 1/5000, loss = 48.013504\n",
      "epoch : 1000/5000, loss = 0.227610\n",
      "epoch : 2000/5000, loss = 0.097780\n",
      "epoch : 3000/5000, loss = 0.106715\n",
      "epoch : 4000/5000, loss = 0.071994\n",
      "epoch : 5000/5000, loss = 0.058264\n",
      "self.error_median=0.0201, self.error_range=0.0189, self.latent_error_median_=0.0015, self.latent_error_range_=0.0013\n",
      "Model result scaling scheme:  True\n",
      "Latent dim= 16. Weight Decay = 0.000001\n",
      "Using cuda\n",
      "self.error_mu=0.0231, self.error_std=0.0128, self.latent_error_mu_=0.0030, self.latent_error_sigma_=0.0053; alpha = 1.0000\n",
      "Current experiment parameters: ('20_letter', 0.0, 1), model: Customized, metrics: {'aucroc': 1.0, 'aucpr': 0.9999999999999999}, fitting time: 380.34326553344727, inference time: 0.000997304916381836\n"
     ]
    },
    {
     "name": "stderr",
     "output_type": "stream",
     "text": [
      "337it [4:30:28, 35.92s/it]"
     ]
    },
    {
     "name": "stdout",
     "output_type": "stream",
     "text": [
      "\n",
      "Model performance:\n",
      "Reconstruction AUCROC=0.8883; AUCPR=0.5064\n",
      "Deviation AUCROC=1.0000; AUCPR=1.0000\n",
      "Max(rec, dev) AUCROC=0.8883; AUCPR=0.5064\n",
      "\n",
      "Sum of squared error AUCROC=0.9465; AUCPR=0.6157\n",
      "\n",
      "Transformer selector AUCROC=1.0000; AUCPR=1.0000\n",
      "\n",
      "{'Samples': 1600, 'Features': 32, 'Anomalies': 100, 'Anomalies Ratio(%)': 6.25}\n",
      "epoch : 1/5000, loss = 5.280967\n",
      "epoch : 1000/5000, loss = 0.115523\n",
      "epoch : 2000/5000, loss = 0.129948\n",
      "epoch : 3000/5000, loss = 0.082246\n",
      "epoch : 4000/5000, loss = 0.097172\n",
      "epoch : 5000/5000, loss = 0.079733\n",
      "self.error_median=0.0245, self.error_range=0.0234, self.latent_error_median_=0.0022, self.latent_error_range_=0.0018\n",
      "Model result scaling scheme:  True\n",
      "Latent dim= 16. Weight Decay = 0.000001\n",
      "Using cuda\n",
      "self.error_mu=0.0275, self.error_std=0.0153, self.latent_error_mu_=0.0040, self.latent_error_sigma_=0.0064; alpha = 1.0000\n",
      "Current experiment parameters: ('20_letter', 0.0, 2), model: Customized, metrics: {'aucroc': 1.0, 'aucpr': 0.9999999999999999}, fitting time: 384.5843346118927, inference time: 0.0020062923431396484\n"
     ]
    },
    {
     "name": "stderr",
     "output_type": "stream",
     "text": [
      "338it [4:36:53, 49.52s/it]"
     ]
    },
    {
     "name": "stdout",
     "output_type": "stream",
     "text": [
      "\n",
      "Model performance:\n",
      "Reconstruction AUCROC=0.8645; AUCPR=0.3775\n",
      "Deviation AUCROC=1.0000; AUCPR=1.0000\n",
      "Max(rec, dev) AUCROC=0.8660; AUCPR=0.3781\n",
      "\n",
      "Sum of squared error AUCROC=0.9326; AUCPR=0.5082\n",
      "\n",
      "Transformer selector AUCROC=1.0000; AUCPR=1.0000\n",
      "\n",
      "{'Samples': 1600, 'Features': 32, 'Anomalies': 100, 'Anomalies Ratio(%)': 6.25}\n",
      "epoch : 1/5000, loss = 8.357224\n",
      "epoch : 1000/5000, loss = 0.190305\n",
      "epoch : 2000/5000, loss = 0.168487\n",
      "epoch : 3000/5000, loss = 0.104443\n",
      "epoch : 4000/5000, loss = 0.092988\n",
      "epoch : 5000/5000, loss = 0.068150\n",
      "self.error_median=0.0236, self.error_range=0.0222, self.latent_error_median_=0.0020, self.latent_error_range_=0.0017\n",
      "Model result scaling scheme:  True\n",
      "Latent dim= 16. Weight Decay = 0.000001\n",
      "Using cuda\n",
      "self.error_mu=0.0274, self.error_std=0.0164, self.latent_error_mu_=0.0044, self.latent_error_sigma_=0.0088; alpha = 1.0000\n",
      "Current experiment parameters: ('20_letter', 0.0, 3), model: Customized, metrics: {'aucroc': 1.0, 'aucpr': 0.9999999999999999}, fitting time: 378.027174949646, inference time: 0.0029916763305664062\n"
     ]
    },
    {
     "name": "stderr",
     "output_type": "stream",
     "text": [
      "339it [4:43:12, 66.86s/it]"
     ]
    },
    {
     "name": "stdout",
     "output_type": "stream",
     "text": [
      "\n",
      "Model performance:\n",
      "Reconstruction AUCROC=0.8346; AUCPR=0.3091\n",
      "Deviation AUCROC=1.0000; AUCPR=1.0000\n",
      "Max(rec, dev) AUCROC=0.8639; AUCPR=0.3226\n",
      "\n",
      "Sum of squared error AUCROC=0.9324; AUCPR=0.4817\n",
      "\n",
      "Transformer selector AUCROC=1.0000; AUCPR=1.0000\n",
      "\n",
      "{'Samples': 1831, 'Features': 21, 'Anomalies': 176, 'Anomalies Ratio(%)': 9.61}\n",
      "epoch : 1/5000, loss = 7.797405\n",
      "epoch : 1000/5000, loss = 0.355175\n",
      "epoch : 2000/5000, loss = 0.120322\n",
      "epoch : 3000/5000, loss = 0.099183\n",
      "epoch : 4000/5000, loss = 0.073476\n",
      "epoch : 5000/5000, loss = 0.587965\n",
      "self.error_median=0.1277, self.error_range=0.1580, self.latent_error_median_=0.0695, self.latent_error_range_=0.0416\n",
      "Model result scaling scheme:  True\n",
      "Latent dim= 16. Weight Decay = 0.000001\n",
      "Using cuda\n",
      "self.error_mu=0.1799, self.error_std=0.1914, self.latent_error_mu_=0.0893, self.latent_error_sigma_=0.0879; alpha = 1.0000\n",
      "Current experiment parameters: ('6_cardio', 0.0, 1), model: Customized, metrics: {'aucroc': 0.8814775445123572, 'aucpr': 0.6775878656107195}, fitting time: 376.47479009628296, inference time: 0.001991748809814453\n"
     ]
    },
    {
     "name": "stderr",
     "output_type": "stream",
     "text": [
      "361it [4:49:30, 35.90s/it]"
     ]
    },
    {
     "name": "stdout",
     "output_type": "stream",
     "text": [
      "\n",
      "Model performance:\n",
      "Reconstruction AUCROC=0.8872; AUCPR=0.4776\n",
      "Deviation AUCROC=0.7261; AUCPR=0.5805\n",
      "Max(rec, dev) AUCROC=0.9013; AUCPR=0.5111\n",
      "\n",
      "Sum of squared error AUCROC=0.9071; AUCPR=0.5425\n",
      "\n",
      "Transformer selector AUCROC=0.5936; AUCPR=0.4007\n",
      "\n",
      "{'Samples': 1831, 'Features': 21, 'Anomalies': 176, 'Anomalies Ratio(%)': 9.61}\n",
      "epoch : 1/5000, loss = 8.330318\n",
      "epoch : 1000/5000, loss = 0.214454\n",
      "epoch : 2000/5000, loss = 0.105810\n",
      "epoch : 3000/5000, loss = 0.061678\n",
      "epoch : 4000/5000, loss = 0.047836\n",
      "epoch : 5000/5000, loss = 0.034730\n",
      "self.error_median=0.0079, self.error_range=0.0106, self.latent_error_median_=0.0033, self.latent_error_range_=0.0042\n",
      "Model result scaling scheme:  True\n",
      "Latent dim= 16. Weight Decay = 0.000001\n",
      "Using cuda\n",
      "self.error_mu=0.0124, self.error_std=0.0181, self.latent_error_mu_=0.0047, self.latent_error_sigma_=0.0045; alpha = 1.0000\n",
      "Current experiment parameters: ('6_cardio', 0.0, 2), model: Customized, metrics: {'aucroc': 0.9219088113587184, 'aucpr': 0.42046032609001704}, fitting time: 372.80783915519714, inference time: 0.000997781753540039\n"
     ]
    },
    {
     "name": "stderr",
     "output_type": "stream",
     "text": [
      "362it [4:55:45, 49.06s/it]"
     ]
    },
    {
     "name": "stdout",
     "output_type": "stream",
     "text": [
      "\n",
      "Model performance:\n",
      "Reconstruction AUCROC=0.6849; AUCPR=0.1788\n",
      "Deviation AUCROC=0.9842; AUCPR=0.8379\n",
      "Max(rec, dev) AUCROC=0.7952; AUCPR=0.2210\n",
      "\n",
      "Sum of squared error AUCROC=0.8308; AUCPR=0.2544\n",
      "\n",
      "Transformer selector AUCROC=0.3315; AUCPR=0.2487\n",
      "\n",
      "{'Samples': 1831, 'Features': 21, 'Anomalies': 176, 'Anomalies Ratio(%)': 9.61}\n",
      "epoch : 1/5000, loss = 7.763364\n",
      "epoch : 1000/5000, loss = 0.286407\n",
      "epoch : 2000/5000, loss = 0.095056\n",
      "epoch : 3000/5000, loss = 0.081276\n",
      "epoch : 4000/5000, loss = 1.485901\n",
      "epoch : 5000/5000, loss = 0.042438\n",
      "self.error_median=0.0095, self.error_range=0.0135, self.latent_error_median_=0.0036, self.latent_error_range_=0.0040\n",
      "Model result scaling scheme:  True\n",
      "Latent dim= 16. Weight Decay = 0.000001\n",
      "Using cuda\n",
      "self.error_mu=0.0146, self.error_std=0.0187, self.latent_error_mu_=0.0050, self.latent_error_sigma_=0.0047; alpha = 1.0000\n",
      "Current experiment parameters: ('6_cardio', 0.0, 3), model: Customized, metrics: {'aucroc': 0.9218328840970351, 'aucpr': 0.47302790386867327}, fitting time: 372.72501969337463, inference time: 0.0019943714141845703\n"
     ]
    },
    {
     "name": "stderr",
     "output_type": "stream",
     "text": [
      "363it [5:01:59, 66.18s/it]"
     ]
    },
    {
     "name": "stdout",
     "output_type": "stream",
     "text": [
      "\n",
      "Model performance:\n",
      "Reconstruction AUCROC=0.7493; AUCPR=0.2183\n",
      "Deviation AUCROC=0.9713; AUCPR=0.7915\n",
      "Max(rec, dev) AUCROC=0.7941; AUCPR=0.2359\n",
      "\n",
      "Sum of squared error AUCROC=0.8267; AUCPR=0.2634\n",
      "\n",
      "Transformer selector AUCROC=0.5367; AUCPR=0.3902\n",
      "\n",
      "{'Samples': 1941, 'Features': 27, 'Anomalies': 673, 'Anomalies Ratio(%)': 34.67}\n",
      "epoch : 1/5000, loss = 11.968830\n",
      "epoch : 1000/5000, loss = 0.503772\n",
      "epoch : 2000/5000, loss = 0.136418\n",
      "epoch : 3000/5000, loss = 0.077131\n",
      "epoch : 4000/5000, loss = 0.104951\n",
      "epoch : 5000/5000, loss = 0.088955\n",
      "self.error_median=0.0151, self.error_range=0.0188, self.latent_error_median_=0.0079, self.latent_error_range_=0.0111\n",
      "Model result scaling scheme:  True\n",
      "Latent dim= 16. Weight Decay = 0.000001\n",
      "Using cuda\n",
      "self.error_mu=0.0217, self.error_std=0.0904, self.latent_error_mu_=0.0119, self.latent_error_sigma_=0.0377; alpha = 1.0000\n",
      "Current experiment parameters: ('12_fault', 0.0, 1), model: Customized, metrics: {'aucroc': 0.8478989631246588, 'aucpr': 0.7014605121841059}, fitting time: 373.5095703601837, inference time: 0.0019931793212890625\n"
     ]
    },
    {
     "name": "stderr",
     "output_type": "stream",
     "text": [
      "385it [5:08:13, 35.54s/it]"
     ]
    },
    {
     "name": "stdout",
     "output_type": "stream",
     "text": [
      "\n",
      "Model performance:\n",
      "Reconstruction AUCROC=0.5892; AUCPR=0.4233\n",
      "Deviation AUCROC=0.9794; AUCPR=0.9570\n",
      "Max(rec, dev) AUCROC=0.6916; AUCPR=0.4874\n",
      "\n",
      "Sum of squared error AUCROC=0.7440; AUCPR=0.5405\n",
      "\n",
      "Transformer selector AUCROC=0.4173; AUCPR=0.4527\n",
      "\n",
      "{'Samples': 1941, 'Features': 27, 'Anomalies': 673, 'Anomalies Ratio(%)': 34.67}\n",
      "epoch : 1/5000, loss = 11.194649\n",
      "epoch : 1000/5000, loss = 0.298741\n",
      "epoch : 2000/5000, loss = 0.089284\n",
      "epoch : 3000/5000, loss = 0.062272\n",
      "epoch : 4000/5000, loss = 0.065664\n",
      "epoch : 5000/5000, loss = 0.055610\n",
      "self.error_median=0.0135, self.error_range=0.0178, self.latent_error_median_=0.0046, self.latent_error_range_=0.0122\n",
      "Model result scaling scheme:  True\n",
      "Latent dim= 16. Weight Decay = 0.000001\n",
      "Using cuda\n",
      "self.error_mu=0.0177, self.error_std=0.0434, self.latent_error_mu_=0.0089, self.latent_error_sigma_=0.0110; alpha = 1.0000\n",
      "Current experiment parameters: ('12_fault', 0.0, 2), model: Customized, metrics: {'aucroc': 0.9083833580208415, 'aucpr': 0.7844937056440591}, fitting time: 370.8345994949341, inference time: 0.001993894577026367\n"
     ]
    },
    {
     "name": "stderr",
     "output_type": "stream",
     "text": [
      "386it [5:14:25, 48.61s/it]"
     ]
    },
    {
     "name": "stdout",
     "output_type": "stream",
     "text": [
      "\n",
      "Model performance:\n",
      "Reconstruction AUCROC=0.6561; AUCPR=0.4800\n",
      "Deviation AUCROC=0.9976; AUCPR=0.9945\n",
      "Max(rec, dev) AUCROC=0.7772; AUCPR=0.5625\n",
      "\n",
      "Sum of squared error AUCROC=0.8267; AUCPR=0.6313\n",
      "\n",
      "Transformer selector AUCROC=0.4147; AUCPR=0.4957\n",
      "\n",
      "{'Samples': 1941, 'Features': 27, 'Anomalies': 673, 'Anomalies Ratio(%)': 34.67}\n",
      "epoch : 1/5000, loss = 12.350213\n",
      "epoch : 1000/5000, loss = 0.281306\n",
      "epoch : 2000/5000, loss = 0.125544\n",
      "epoch : 3000/5000, loss = 0.078632\n",
      "epoch : 4000/5000, loss = 0.063600\n",
      "epoch : 5000/5000, loss = 0.045145\n",
      "self.error_median=0.0137, self.error_range=0.0179, self.latent_error_median_=0.0036, self.latent_error_range_=0.0089\n",
      "Model result scaling scheme:  True\n",
      "Latent dim= 16. Weight Decay = 0.000001\n",
      "Using cuda\n",
      "self.error_mu=0.0174, self.error_std=0.0135, self.latent_error_mu_=0.0061, self.latent_error_sigma_=0.0058; alpha = 1.0000\n",
      "Current experiment parameters: ('12_fault', 0.0, 3), model: Customized, metrics: {'aucroc': 0.8505236350406694, 'aucpr': 0.6749503402768507}, fitting time: 371.0522952079773, inference time: 0.0019659996032714844\n"
     ]
    },
    {
     "name": "stderr",
     "output_type": "stream",
     "text": [
      "387it [5:20:36, 65.62s/it]"
     ]
    },
    {
     "name": "stdout",
     "output_type": "stream",
     "text": [
      "\n",
      "Model performance:\n",
      "Reconstruction AUCROC=0.5679; AUCPR=0.3894\n",
      "Deviation AUCROC=0.9933; AUCPR=0.9825\n",
      "Max(rec, dev) AUCROC=0.6455; AUCPR=0.4258\n",
      "\n",
      "Sum of squared error AUCROC=0.6985; AUCPR=0.4667\n",
      "\n",
      "Transformer selector AUCROC=0.3407; AUCPR=0.3047\n",
      "\n",
      "{'Samples': 1966, 'Features': 1555, 'Anomalies': 368, 'Anomalies Ratio(%)': 18.72}\n",
      "epoch : 1/5000, loss = 849.397461\n",
      "epoch : 1000/5000, loss = 71.292160\n",
      "epoch : 2000/5000, loss = 70.836365\n",
      "epoch : 3000/5000, loss = 70.720680\n",
      "epoch : 4000/5000, loss = 69.671997\n",
      "epoch : 5000/5000, loss = 66.939438\n",
      "self.error_median=33.2390, self.error_range=4.8258, self.latent_error_median_=0.1246, self.latent_error_range_=0.1026\n",
      "Model result scaling scheme:  True\n",
      "Latent dim= 16. Weight Decay = 0.000001\n",
      "Using cuda\n",
      "self.error_mu=33.2869, self.error_std=2.9783, self.latent_error_mu_=0.1400, self.latent_error_sigma_=0.0681; alpha = 1.0000\n"
     ]
    },
    {
     "name": "stderr",
     "output_type": "stream",
     "text": [
      "409it [5:42:37, 62.13s/it]"
     ]
    },
    {
     "name": "stdout",
     "output_type": "stream",
     "text": [
      "Current experiment parameters: ('17_InternetAds', 0.0, 1), model: Customized, metrics: {'aucroc': 0.6430681818181818, 'aucpr': 0.30910856392193264}, fitting time: 1253.0979871749878, inference time: 0.0029647350311279297\n",
      "\n",
      "Model performance:\n",
      "Reconstruction AUCROC=0.5238; AUCPR=0.2116\n",
      "Deviation AUCROC=0.7213; AUCPR=0.3676\n",
      "Max(rec, dev) AUCROC=0.5238; AUCPR=0.2116\n",
      "\n",
      "Sum of squared error AUCROC=0.5238; AUCPR=0.2116\n",
      "\n",
      "Transformer selector AUCROC=0.9922; AUCPR=0.9747\n",
      "\n",
      "{'Samples': 1966, 'Features': 1555, 'Anomalies': 368, 'Anomalies Ratio(%)': 18.72}\n",
      "epoch : 1/5000, loss = 863.878296\n",
      "epoch : 1000/5000, loss = 73.635460\n",
      "epoch : 2000/5000, loss = 72.532524\n",
      "epoch : 3000/5000, loss = 71.356171\n",
      "epoch : 4000/5000, loss = 70.874901\n",
      "epoch : 5000/5000, loss = 68.229324\n",
      "self.error_median=33.7686, self.error_range=5.0965, self.latent_error_median_=0.1445, self.latent_error_range_=0.1114\n",
      "Model result scaling scheme:  True\n",
      "Latent dim= 16. Weight Decay = 0.000001\n",
      "Using cuda\n",
      "self.error_mu=33.9491, self.error_std=3.0640, self.latent_error_mu_=0.1595, self.latent_error_sigma_=0.0721; alpha = 1.0000\n"
     ]
    },
    {
     "name": "stderr",
     "output_type": "stream",
     "text": [
      "410it [6:04:21, 110.44s/it]"
     ]
    },
    {
     "name": "stdout",
     "output_type": "stream",
     "text": [
      "Current experiment parameters: ('17_InternetAds', 0.0, 2), model: Customized, metrics: {'aucroc': 0.6207954545454546, 'aucpr': 0.28701807988100037}, fitting time: 1258.0241873264313, inference time: 0.003960847854614258\n",
      "\n",
      "Model performance:\n",
      "Reconstruction AUCROC=0.5367; AUCPR=0.2282\n",
      "Deviation AUCROC=0.6637; AUCPR=0.3025\n",
      "Max(rec, dev) AUCROC=0.5367; AUCPR=0.2282\n",
      "\n",
      "Sum of squared error AUCROC=0.5367; AUCPR=0.2282\n",
      "\n",
      "Transformer selector AUCROC=1.0000; AUCPR=1.0000\n",
      "\n",
      "{'Samples': 1966, 'Features': 1555, 'Anomalies': 368, 'Anomalies Ratio(%)': 18.72}\n",
      "epoch : 1/5000, loss = 850.395325\n",
      "epoch : 1000/5000, loss = 72.108696\n",
      "epoch : 2000/5000, loss = 71.290939\n",
      "epoch : 3000/5000, loss = 71.070663\n",
      "epoch : 4000/5000, loss = 68.742332\n",
      "epoch : 5000/5000, loss = 65.821892\n",
      "self.error_median=32.9143, self.error_range=5.2735, self.latent_error_median_=0.0976, self.latent_error_range_=0.0915\n",
      "Model result scaling scheme:  True\n",
      "Latent dim= 16. Weight Decay = 0.000001\n",
      "Using cuda\n",
      "self.error_mu=32.9266, self.error_std=3.0650, self.latent_error_mu_=0.1109, self.latent_error_sigma_=0.0595; alpha = 1.0000\n"
     ]
    },
    {
     "name": "stderr",
     "output_type": "stream",
     "text": [
      "411it [6:26:24, 174.27s/it]"
     ]
    },
    {
     "name": "stdout",
     "output_type": "stream",
     "text": [
      "Current experiment parameters: ('17_InternetAds', 0.0, 3), model: Customized, metrics: {'aucroc': 0.568655303030303, 'aucpr': 0.22335860234824012}, fitting time: 1262.0415213108063, inference time: 0.0\n",
      "\n",
      "Model performance:\n",
      "Reconstruction AUCROC=0.4946; AUCPR=0.1898\n",
      "Deviation AUCROC=0.6242; AUCPR=0.2738\n",
      "Max(rec, dev) AUCROC=0.4946; AUCPR=0.1898\n",
      "\n",
      "Sum of squared error AUCROC=0.4946; AUCPR=0.1898\n",
      "\n",
      "Transformer selector AUCROC=0.4161; AUCPR=0.1508\n",
      "\n",
      "{'Samples': 2114, 'Features': 21, 'Anomalies': 466, 'Anomalies Ratio(%)': 22.04}\n",
      "epoch : 1/5000, loss = 9.172364\n",
      "epoch : 1000/5000, loss = 0.201829\n",
      "epoch : 2000/5000, loss = 0.501779\n",
      "epoch : 3000/5000, loss = 0.086167\n",
      "epoch : 4000/5000, loss = 0.242544\n",
      "epoch : 5000/5000, loss = 0.098814\n",
      "self.error_median=0.0242, self.error_range=0.0308, self.latent_error_median_=0.0093, self.latent_error_range_=0.0169\n",
      "Model result scaling scheme:  True\n",
      "Latent dim= 16. Weight Decay = 0.000001\n",
      "Using cuda\n",
      "self.error_mu=0.0360, self.error_std=0.0697, self.latent_error_mu_=0.0147, self.latent_error_sigma_=0.0150; alpha = 1.0000\n",
      "Current experiment parameters: ('7_Cardiotocography', 0.0, 1), model: Customized, metrics: {'aucroc': 0.9262193362193363, 'aucpr': 0.7174710542151748}, fitting time: 372.435373544693, inference time: 0.0019948482513427734\n"
     ]
    },
    {
     "name": "stderr",
     "output_type": "stream",
     "text": [
      "433it [6:32:38, 76.25s/it] "
     ]
    },
    {
     "name": "stdout",
     "output_type": "stream",
     "text": [
      "\n",
      "Model performance:\n",
      "Reconstruction AUCROC=0.6827; AUCPR=0.4126\n",
      "Deviation AUCROC=0.9997; AUCPR=0.9989\n",
      "Max(rec, dev) AUCROC=0.7720; AUCPR=0.4628\n",
      "\n",
      "Sum of squared error AUCROC=0.8301; AUCPR=0.5355\n",
      "\n",
      "Transformer selector AUCROC=0.9612; AUCPR=0.9599\n",
      "\n",
      "{'Samples': 2114, 'Features': 21, 'Anomalies': 466, 'Anomalies Ratio(%)': 22.04}\n",
      "epoch : 1/5000, loss = 14.020137\n",
      "epoch : 1000/5000, loss = 0.171672\n",
      "epoch : 2000/5000, loss = 9.858917\n",
      "epoch : 3000/5000, loss = 0.100427\n",
      "epoch : 4000/5000, loss = 0.059074\n",
      "epoch : 5000/5000, loss = 0.058695\n",
      "self.error_median=0.0115, self.error_range=0.0155, self.latent_error_median_=0.0051, self.latent_error_range_=0.0040\n",
      "Model result scaling scheme:  True\n",
      "Latent dim= 16. Weight Decay = 0.000001\n",
      "Using cuda\n",
      "self.error_mu=0.0178, self.error_std=0.0298, self.latent_error_mu_=0.0061, self.latent_error_sigma_=0.0045; alpha = 1.0000\n",
      "Current experiment parameters: ('7_Cardiotocography', 0.0, 2), model: Customized, metrics: {'aucroc': 0.7797546897546898, 'aucpr': 0.42045382913603696}, fitting time: 372.43613719940186, inference time: 0.0029866695404052734\n"
     ]
    },
    {
     "name": "stderr",
     "output_type": "stream",
     "text": [
      "434it [6:38:52, 87.82s/it]"
     ]
    },
    {
     "name": "stdout",
     "output_type": "stream",
     "text": [
      "\n",
      "Model performance:\n",
      "Reconstruction AUCROC=0.6253; AUCPR=0.3133\n",
      "Deviation AUCROC=0.8736; AUCPR=0.5602\n",
      "Max(rec, dev) AUCROC=0.6343; AUCPR=0.3156\n",
      "\n",
      "Sum of squared error AUCROC=0.6660; AUCPR=0.3317\n",
      "\n",
      "Transformer selector AUCROC=1.0000; AUCPR=1.0000\n",
      "\n",
      "{'Samples': 2114, 'Features': 21, 'Anomalies': 466, 'Anomalies Ratio(%)': 22.04}\n",
      "epoch : 1/5000, loss = 5.657403\n",
      "epoch : 1000/5000, loss = 0.191670\n",
      "epoch : 2000/5000, loss = 0.286781\n",
      "epoch : 3000/5000, loss = 0.193077\n",
      "epoch : 4000/5000, loss = 0.089158\n",
      "epoch : 5000/5000, loss = 0.059066\n",
      "self.error_median=0.0142, self.error_range=0.0205, self.latent_error_median_=0.0034, self.latent_error_range_=0.0077\n",
      "Model result scaling scheme:  True\n",
      "Latent dim= 16. Weight Decay = 0.000001\n",
      "Using cuda\n",
      "self.error_mu=0.0219, self.error_std=0.0356, self.latent_error_mu_=0.0059, self.latent_error_sigma_=0.0065; alpha = 1.0000\n",
      "Current experiment parameters: ('7_Cardiotocography', 0.0, 3), model: Customized, metrics: {'aucroc': 0.9347041847041847, 'aucpr': 0.7411811573809228}, fitting time: 373.11630511283875, inference time: 0.0019941329956054688\n"
     ]
    },
    {
     "name": "stderr",
     "output_type": "stream",
     "text": [
      "435it [6:45:07, 102.93s/it]"
     ]
    },
    {
     "name": "stdout",
     "output_type": "stream",
     "text": [
      "\n",
      "Model performance:\n",
      "Reconstruction AUCROC=0.7104; AUCPR=0.4378\n",
      "Deviation AUCROC=0.9961; AUCPR=0.9744\n",
      "Max(rec, dev) AUCROC=0.7399; AUCPR=0.4482\n",
      "\n",
      "Sum of squared error AUCROC=0.7959; AUCPR=0.5021\n",
      "\n",
      "Transformer selector AUCROC=0.9999; AUCPR=0.9998\n",
      "\n",
      "{'Samples': 3062, 'Features': 166, 'Anomalies': 97, 'Anomalies Ratio(%)': 3.17}\n",
      "epoch : 1/5000, loss = 128.561401\n",
      "epoch : 1000/5000, loss = 2.190638\n",
      "epoch : 2000/5000, loss = 1.431277\n",
      "epoch : 3000/5000, loss = 2.230984\n",
      "epoch : 4000/5000, loss = 1.043051\n",
      "epoch : 5000/5000, loss = 0.899151\n",
      "self.error_median=0.3834, self.error_range=0.2666, self.latent_error_median_=0.0133, self.latent_error_range_=0.0108\n",
      "Model result scaling scheme:  True\n",
      "Latent dim= 16. Weight Decay = 0.000001\n",
      "Using cuda\n",
      "self.error_mu=0.4305, self.error_std=0.2703, self.latent_error_mu_=0.0202, self.latent_error_sigma_=0.0337; alpha = 1.0000\n",
      "Current experiment parameters: ('25_musk', 0.0, 1), model: Customized, metrics: {'aucroc': 1.0, 'aucpr': 0.9999999999999998}, fitting time: 344.61056113243103, inference time: 0.0019948482513427734\n"
     ]
    },
    {
     "name": "stderr",
     "output_type": "stream",
     "text": [
      "457it [6:50:55, 48.64s/it] "
     ]
    },
    {
     "name": "stdout",
     "output_type": "stream",
     "text": [
      "\n",
      "Model performance:\n",
      "Reconstruction AUCROC=0.9112; AUCPR=0.5118\n",
      "Deviation AUCROC=1.0000; AUCPR=1.0000\n",
      "Max(rec, dev) AUCROC=0.9112; AUCPR=0.5118\n",
      "\n",
      "Sum of squared error AUCROC=0.9205; AUCPR=0.5207\n",
      "\n",
      "Transformer selector AUCROC=0.3160; AUCPR=0.1916\n",
      "\n",
      "{'Samples': 3062, 'Features': 166, 'Anomalies': 97, 'Anomalies Ratio(%)': 3.17}\n",
      "epoch : 1/5000, loss = 135.856064\n",
      "epoch : 1000/5000, loss = 3.118346\n",
      "epoch : 2000/5000, loss = 1.618185\n",
      "epoch : 3000/5000, loss = 1.196988\n",
      "epoch : 4000/5000, loss = 1.113450\n",
      "epoch : 5000/5000, loss = 0.989915\n",
      "self.error_median=0.4319, self.error_range=0.2763, self.latent_error_median_=0.0131, self.latent_error_range_=0.0109\n",
      "Model result scaling scheme:  True\n",
      "Latent dim= 16. Weight Decay = 0.000001\n",
      "Using cuda\n",
      "self.error_mu=0.4798, self.error_std=0.2705, self.latent_error_mu_=0.0185, self.latent_error_sigma_=0.0263; alpha = 1.0000\n"
     ]
    },
    {
     "name": "stderr",
     "output_type": "stream",
     "text": [
      "458it [6:56:42, 60.25s/it]"
     ]
    },
    {
     "name": "stdout",
     "output_type": "stream",
     "text": [
      "Current experiment parameters: ('25_musk', 0.0, 2), model: Customized, metrics: {'aucroc': 1.0, 'aucpr': 0.9999999999999998}, fitting time: 343.89061975479126, inference time: 0.0019712448120117188\n",
      "\n",
      "Model performance:\n",
      "Reconstruction AUCROC=0.8730; AUCPR=0.3610\n",
      "Deviation AUCROC=1.0000; AUCPR=1.0000\n",
      "Max(rec, dev) AUCROC=0.8730; AUCPR=0.3610\n",
      "\n",
      "Sum of squared error AUCROC=0.8810; AUCPR=0.3681\n",
      "\n",
      "Transformer selector AUCROC=0.0003; AUCPR=0.0165\n",
      "\n",
      "{'Samples': 3062, 'Features': 166, 'Anomalies': 97, 'Anomalies Ratio(%)': 3.17}\n",
      "epoch : 1/5000, loss = 125.201622\n",
      "epoch : 1000/5000, loss = 2.355970\n",
      "epoch : 2000/5000, loss = 1.358156\n",
      "epoch : 3000/5000, loss = 1.036384\n",
      "epoch : 4000/5000, loss = 0.250827\n",
      "epoch : 5000/5000, loss = 0.853563\n",
      "self.error_median=0.3588, self.error_range=0.2354, self.latent_error_median_=0.0115, self.latent_error_range_=0.0082\n",
      "Model result scaling scheme:  True\n",
      "Latent dim= 16. Weight Decay = 0.000001\n",
      "Using cuda\n",
      "self.error_mu=0.4075, self.error_std=0.2802, self.latent_error_mu_=0.0176, self.latent_error_sigma_=0.0308; alpha = 1.0000\n"
     ]
    },
    {
     "name": "stderr",
     "output_type": "stream",
     "text": [
      "459it [7:02:29, 75.35s/it]"
     ]
    },
    {
     "name": "stdout",
     "output_type": "stream",
     "text": [
      "Current experiment parameters: ('25_musk', 0.0, 3), model: Customized, metrics: {'aucroc': 1.0, 'aucpr': 0.9999999999999998}, fitting time: 343.54843950271606, inference time: 0.002992391586303711\n",
      "\n",
      "Model performance:\n",
      "Reconstruction AUCROC=0.9706; AUCPR=0.7196\n",
      "Deviation AUCROC=1.0000; AUCPR=1.0000\n",
      "Max(rec, dev) AUCROC=0.9706; AUCPR=0.7196\n",
      "\n",
      "Sum of squared error AUCROC=0.9735; AUCPR=0.7277\n",
      "\n",
      "Transformer selector AUCROC=0.5714; AUCPR=0.5305\n",
      "\n",
      "{'Samples': 3443, 'Features': 21, 'Anomalies': 100, 'Anomalies Ratio(%)': 2.9}\n",
      "epoch : 1/5000, loss = 4.558910\n",
      "epoch : 1000/5000, loss = 0.776480\n",
      "epoch : 2000/5000, loss = 0.089580\n",
      "epoch : 3000/5000, loss = 0.060699\n",
      "epoch : 4000/5000, loss = 0.045061\n",
      "epoch : 5000/5000, loss = 0.040744\n",
      "self.error_median=0.0151, self.error_range=0.0117, self.latent_error_median_=0.0026, self.latent_error_range_=0.0019\n",
      "Model result scaling scheme:  True\n",
      "Latent dim= 16. Weight Decay = 0.000001\n",
      "Using cuda\n",
      "self.error_mu=0.0164, self.error_std=0.0074, self.latent_error_mu_=0.0035, self.latent_error_sigma_=0.0043; alpha = 1.0000\n",
      "Current experiment parameters: ('41_Waveform', 0.0, 1), model: Customized, metrics: {'aucroc': 1.0, 'aucpr': 0.9999999999999999}, fitting time: 355.42958068847656, inference time: 0.001994609832763672\n"
     ]
    },
    {
     "name": "stderr",
     "output_type": "stream",
     "text": [
      "481it [7:08:26, 38.49s/it]"
     ]
    },
    {
     "name": "stdout",
     "output_type": "stream",
     "text": [
      "\n",
      "Model performance:\n",
      "Reconstruction AUCROC=0.7659; AUCPR=0.0932\n",
      "Deviation AUCROC=1.0000; AUCPR=1.0000\n",
      "Max(rec, dev) AUCROC=0.9235; AUCPR=0.1626\n",
      "\n",
      "Sum of squared error AUCROC=0.9703; AUCPR=0.3565\n",
      "\n",
      "Transformer selector AUCROC=0.6827; AUCPR=0.2459\n",
      "\n",
      "{'Samples': 3443, 'Features': 21, 'Anomalies': 100, 'Anomalies Ratio(%)': 2.9}\n",
      "epoch : 1/5000, loss = 4.673573\n",
      "epoch : 1000/5000, loss = 0.165567\n",
      "epoch : 2000/5000, loss = 0.099450\n",
      "epoch : 3000/5000, loss = 0.068383\n",
      "epoch : 4000/5000, loss = 0.063952\n",
      "epoch : 5000/5000, loss = 0.049307\n",
      "self.error_median=0.0172, self.error_range=0.0139, self.latent_error_median_=0.0042, self.latent_error_range_=0.0029\n",
      "Model result scaling scheme:  True\n",
      "Latent dim= 16. Weight Decay = 0.000001\n",
      "Using cuda\n",
      "self.error_mu=0.0186, self.error_std=0.0088, self.latent_error_mu_=0.0052, self.latent_error_sigma_=0.0051; alpha = 1.0000\n",
      "Current experiment parameters: ('41_Waveform', 0.0, 2), model: Customized, metrics: {'aucroc': 1.0, 'aucpr': 0.9999999999999999}, fitting time: 356.55217480659485, inference time: 0.0019948482513427734\n"
     ]
    },
    {
     "name": "stderr",
     "output_type": "stream",
     "text": [
      "482it [7:14:24, 50.92s/it]"
     ]
    },
    {
     "name": "stdout",
     "output_type": "stream",
     "text": [
      "\n",
      "Model performance:\n",
      "Reconstruction AUCROC=0.6669; AUCPR=0.0981\n",
      "Deviation AUCROC=1.0000; AUCPR=1.0000\n",
      "Max(rec, dev) AUCROC=0.9344; AUCPR=0.2053\n",
      "\n",
      "Sum of squared error AUCROC=0.9702; AUCPR=0.4442\n",
      "\n",
      "Transformer selector AUCROC=1.0000; AUCPR=1.0000\n",
      "\n",
      "{'Samples': 3443, 'Features': 21, 'Anomalies': 100, 'Anomalies Ratio(%)': 2.9}\n",
      "epoch : 1/5000, loss = 4.144286\n",
      "epoch : 1000/5000, loss = 0.175538\n",
      "epoch : 2000/5000, loss = 0.095272\n",
      "epoch : 3000/5000, loss = 0.074439\n",
      "epoch : 4000/5000, loss = 0.056833\n",
      "epoch : 5000/5000, loss = 0.045887\n",
      "self.error_median=0.0166, self.error_range=0.0126, self.latent_error_median_=0.0034, self.latent_error_range_=0.0027\n",
      "Model result scaling scheme:  True\n",
      "Latent dim= 16. Weight Decay = 0.000001\n",
      "Using cuda\n",
      "self.error_mu=0.0180, self.error_std=0.0082, self.latent_error_mu_=0.0044, self.latent_error_sigma_=0.0049; alpha = 1.0000\n",
      "Current experiment parameters: ('41_Waveform', 0.0, 3), model: Customized, metrics: {'aucroc': 1.0, 'aucpr': 0.9999999999999999}, fitting time: 356.07486152648926, inference time: 0.0019903182983398438\n"
     ]
    },
    {
     "name": "stderr",
     "output_type": "stream",
     "text": [
      "483it [7:20:21, 67.05s/it]"
     ]
    },
    {
     "name": "stdout",
     "output_type": "stream",
     "text": [
      "\n",
      "Model performance:\n",
      "Reconstruction AUCROC=0.7062; AUCPR=0.1432\n",
      "Deviation AUCROC=1.0000; AUCPR=1.0000\n",
      "Max(rec, dev) AUCROC=0.9065; AUCPR=0.2240\n",
      "\n",
      "Sum of squared error AUCROC=0.9626; AUCPR=0.4590\n",
      "\n",
      "Transformer selector AUCROC=1.0000; AUCPR=1.0000\n",
      "\n",
      "{'Samples': 3686, 'Features': 400, 'Anomalies': 61, 'Anomalies Ratio(%)': 1.65}\n",
      "epoch : 1/5000, loss = 222.755722\n",
      "epoch : 1000/5000, loss = 16.250692\n",
      "epoch : 2000/5000, loss = 15.776163\n",
      "epoch : 3000/5000, loss = 15.279247\n",
      "epoch : 4000/5000, loss = 14.868703\n",
      "epoch : 5000/5000, loss = 14.409144\n",
      "self.error_median=7.1687, self.error_range=1.0209, self.latent_error_median_=0.0208, self.latent_error_range_=0.0151\n",
      "Model result scaling scheme:  True\n",
      "Latent dim= 16. Weight Decay = 0.000001\n",
      "Using cuda\n",
      "self.error_mu=7.1817, self.error_std=0.5988, self.latent_error_mu_=0.0231, self.latent_error_sigma_=0.0121; alpha = 1.0000\n",
      "Current experiment parameters: ('36_speech', 0.0, 1), model: Customized, metrics: {'aucroc': 0.9958639705882353, 'aucpr': 0.8571664429676483}, fitting time: 391.6987383365631, inference time: 0.002964019775390625\n"
     ]
    },
    {
     "name": "stderr",
     "output_type": "stream",
     "text": [
      "505it [7:27:04, 36.68s/it]"
     ]
    },
    {
     "name": "stdout",
     "output_type": "stream",
     "text": [
      "\n",
      "Model performance:\n",
      "Reconstruction AUCROC=0.6203; AUCPR=0.0597\n",
      "Deviation AUCROC=0.9962; AUCPR=0.9087\n",
      "Max(rec, dev) AUCROC=0.6203; AUCPR=0.0597\n",
      "\n",
      "Sum of squared error AUCROC=0.6206; AUCPR=0.0597\n",
      "\n",
      "Transformer selector AUCROC=0.0002; AUCPR=0.0086\n",
      "\n",
      "{'Samples': 3686, 'Features': 400, 'Anomalies': 61, 'Anomalies Ratio(%)': 1.65}\n",
      "epoch : 1/5000, loss = 222.887207\n",
      "epoch : 1000/5000, loss = 16.347212\n",
      "epoch : 2000/5000, loss = 16.087498\n",
      "epoch : 3000/5000, loss = 15.924740\n",
      "epoch : 4000/5000, loss = 15.437696\n",
      "epoch : 5000/5000, loss = 15.037037\n",
      "self.error_median=7.4747, self.error_range=1.0563, self.latent_error_median_=0.0273, self.latent_error_range_=0.0190\n",
      "Model result scaling scheme:  True\n",
      "Latent dim= 16. Weight Decay = 0.000001\n",
      "Using cuda\n",
      "self.error_mu=7.5211, self.error_std=0.6602, self.latent_error_mu_=0.0303, self.latent_error_sigma_=0.0168; alpha = 1.0000\n"
     ]
    },
    {
     "name": "stderr",
     "output_type": "stream",
     "text": [
      "506it [7:33:52, 51.10s/it]"
     ]
    },
    {
     "name": "stdout",
     "output_type": "stream",
     "text": [
      "Current experiment parameters: ('36_speech', 0.0, 2), model: Customized, metrics: {'aucroc': 1.0, 'aucpr': 1.0}, fitting time: 395.8704047203064, inference time: 0.001994609832763672\n",
      "\n",
      "Model performance:\n",
      "Reconstruction AUCROC=0.9294; AUCPR=0.4590\n",
      "Deviation AUCROC=0.9999; AUCPR=0.9944\n",
      "Max(rec, dev) AUCROC=0.9294; AUCPR=0.4590\n",
      "\n",
      "Sum of squared error AUCROC=0.9295; AUCPR=0.4592\n",
      "\n",
      "Transformer selector AUCROC=0.0000; AUCPR=0.0086\n",
      "\n",
      "{'Samples': 3686, 'Features': 400, 'Anomalies': 61, 'Anomalies Ratio(%)': 1.65}\n",
      "epoch : 1/5000, loss = 218.411453\n",
      "epoch : 1000/5000, loss = 16.282352\n",
      "epoch : 2000/5000, loss = 16.158775\n",
      "epoch : 3000/5000, loss = 15.924400\n",
      "epoch : 4000/5000, loss = 15.467279\n",
      "epoch : 5000/5000, loss = 15.120949\n",
      "self.error_median=7.5038, self.error_range=1.0817, self.latent_error_median_=0.0226, self.latent_error_range_=0.0181\n",
      "Model result scaling scheme:  True\n",
      "Latent dim= 16. Weight Decay = 0.000001\n",
      "Using cuda\n",
      "self.error_mu=7.5301, self.error_std=0.6215, self.latent_error_mu_=0.0261, self.latent_error_sigma_=0.0173; alpha = 1.0000\n",
      "Current experiment parameters: ('36_speech', 0.0, 3), model: Customized, metrics: {'aucroc': 1.0, 'aucpr': 1.0}, fitting time: 395.55164861679077, inference time: 0.002992391586303711\n"
     ]
    },
    {
     "name": "stderr",
     "output_type": "stream",
     "text": [
      "507it [7:40:39, 69.84s/it]"
     ]
    },
    {
     "name": "stdout",
     "output_type": "stream",
     "text": [
      "\n",
      "Model performance:\n",
      "Reconstruction AUCROC=0.6461; AUCPR=0.0342\n",
      "Deviation AUCROC=1.0000; AUCPR=1.0000\n",
      "Max(rec, dev) AUCROC=0.6461; AUCPR=0.0342\n",
      "\n",
      "Sum of squared error AUCROC=0.6465; AUCPR=0.0343\n",
      "\n",
      "Transformer selector AUCROC=1.0000; AUCPR=1.0000\n",
      "\n",
      "{'Samples': 3772, 'Features': 6, 'Anomalies': 93, 'Anomalies Ratio(%)': 2.47}\n",
      "epoch : 1/5000, loss = 0.466121\n",
      "epoch : 1000/5000, loss = 0.007433\n",
      "epoch : 2000/5000, loss = 0.064512\n",
      "epoch : 3000/5000, loss = 0.003817\n",
      "epoch : 4000/5000, loss = 0.002250\n",
      "epoch : 5000/5000, loss = 0.001296\n",
      "self.error_median=0.0002, self.error_range=0.0001, self.latent_error_median_=0.0001, self.latent_error_range_=0.0003\n",
      "Model result scaling scheme:  True\n",
      "Latent dim= 6. Weight Decay = 0.000001\n",
      "Using cuda\n",
      "self.error_mu=0.0003, self.error_std=0.0012, self.latent_error_mu_=0.0005, self.latent_error_sigma_=0.0022; alpha = 1.0000\n"
     ]
    },
    {
     "name": "stderr",
     "output_type": "stream",
     "text": [
      "529it [7:47:33, 38.05s/it]"
     ]
    },
    {
     "name": "stdout",
     "output_type": "stream",
     "text": [
      "Current experiment parameters: ('38_thyroid', 0.0, 1), model: Customized, metrics: {'aucroc': 0.9961180124223602, 'aucpr': 0.7539077685177545}, fitting time: 413.0688855648041, inference time: 0.008132457733154297\n",
      "\n",
      "Model performance:\n",
      "Reconstruction AUCROC=0.9804; AUCPR=0.4519\n",
      "Deviation AUCROC=1.0000; AUCPR=0.9988\n",
      "Max(rec, dev) AUCROC=0.9987; AUCPR=0.8768\n",
      "\n",
      "Sum of squared error AUCROC=0.9986; AUCPR=0.8750\n",
      "\n",
      "Transformer selector AUCROC=0.0000; AUCPR=0.0129\n",
      "\n",
      "{'Samples': 3772, 'Features': 6, 'Anomalies': 93, 'Anomalies Ratio(%)': 2.47}\n",
      "epoch : 1/5000, loss = 0.582025\n",
      "epoch : 1000/5000, loss = 0.003740\n",
      "epoch : 2000/5000, loss = 0.001558\n",
      "epoch : 3000/5000, loss = 0.000711\n",
      "epoch : 4000/5000, loss = 0.000790\n",
      "epoch : 5000/5000, loss = 0.000437\n",
      "self.error_median=0.0000, self.error_range=0.0000, self.latent_error_median_=0.0000, self.latent_error_range_=0.0001\n",
      "Model result scaling scheme:  True\n",
      "Latent dim= 6. Weight Decay = 0.000001\n",
      "Using cuda\n",
      "self.error_mu=0.0001, self.error_std=0.0003, self.latent_error_mu_=0.0002, self.latent_error_sigma_=0.0006; alpha = 1.0000\n"
     ]
    },
    {
     "name": "stderr",
     "output_type": "stream",
     "text": [
      "530it [8:02:38, 71.78s/it]"
     ]
    },
    {
     "name": "stdout",
     "output_type": "stream",
     "text": [
      "Current experiment parameters: ('38_thyroid', 0.0, 2), model: Customized, metrics: {'aucroc': 0.9904891304347827, 'aucpr': 0.5633325665405794}, fitting time: 903.2966783046722, inference time: 0.006981372833251953\n",
      "\n",
      "Model performance:\n",
      "Reconstruction AUCROC=0.9735; AUCPR=0.3187\n",
      "Deviation AUCROC=1.0000; AUCPR=0.9988\n",
      "Max(rec, dev) AUCROC=0.9964; AUCPR=0.7964\n",
      "\n",
      "Sum of squared error AUCROC=0.9962; AUCPR=0.7879\n",
      "\n",
      "Transformer selector AUCROC=0.0005; AUCPR=0.0129\n",
      "\n",
      "{'Samples': 3772, 'Features': 6, 'Anomalies': 93, 'Anomalies Ratio(%)': 2.47}\n",
      "epoch : 1/5000, loss = 0.373376\n",
      "epoch : 1000/5000, loss = 0.002864\n",
      "epoch : 2000/5000, loss = 0.001000\n",
      "epoch : 3000/5000, loss = 0.001024\n",
      "epoch : 4000/5000, loss = 0.000468\n",
      "epoch : 5000/5000, loss = 0.000539\n",
      "self.error_median=0.0000, self.error_range=0.0000, self.latent_error_median_=0.0001, self.latent_error_range_=0.0001\n",
      "Model result scaling scheme:  True\n",
      "Latent dim= 6. Weight Decay = 0.000001\n",
      "Using cuda\n",
      "self.error_mu=0.0001, self.error_std=0.0002, self.latent_error_mu_=0.0002, self.latent_error_sigma_=0.0010; alpha = 1.0000\n"
     ]
    },
    {
     "name": "stderr",
     "output_type": "stream",
     "text": [
      "531it [8:14:52, 106.63s/it]"
     ]
    },
    {
     "name": "stdout",
     "output_type": "stream",
     "text": [
      "Current experiment parameters: ('38_thyroid', 0.0, 3), model: Customized, metrics: {'aucroc': 0.9859601449275363, 'aucpr': 0.48878366927758593}, fitting time: 731.4695348739624, inference time: 0.0019941329956054688\n",
      "\n",
      "Model performance:\n",
      "Reconstruction AUCROC=0.9545; AUCPR=0.2375\n",
      "Deviation AUCROC=1.0000; AUCPR=1.0000\n",
      "Max(rec, dev) AUCROC=0.9998; AUCPR=0.9922\n",
      "\n",
      "Sum of squared error AUCROC=0.9999; AUCPR=0.9948\n",
      "\n",
      "Transformer selector AUCROC=0.0185; AUCPR=0.0130\n",
      "\n",
      "{'Samples': 4207, 'Features': 57, 'Anomalies': 1679, 'Anomalies Ratio(%)': 39.91}\n",
      "epoch : 1/5000, loss = 22.646034\n",
      "epoch : 1000/5000, loss = 0.903503\n",
      "epoch : 2000/5000, loss = 0.731565\n",
      "epoch : 3000/5000, loss = 0.618637\n",
      "epoch : 4000/5000, loss = 0.514782\n",
      "epoch : 5000/5000, loss = 0.471343\n",
      "self.error_median=0.1610, self.error_range=0.1396, self.latent_error_median_=0.0081, self.latent_error_range_=0.0079\n",
      "Model result scaling scheme:  True\n",
      "Latent dim= 16. Weight Decay = 0.000001\n",
      "Using cuda\n",
      "self.error_mu=0.2181, self.error_std=0.1834, self.latent_error_mu_=0.0096, self.latent_error_sigma_=0.0055; alpha = 1.0000\n"
     ]
    },
    {
     "name": "stderr",
     "output_type": "stream",
     "text": [
      "553it [8:29:07, 64.39s/it] "
     ]
    },
    {
     "name": "stdout",
     "output_type": "stream",
     "text": [
      "Current experiment parameters: ('35_SpamBase', 0.0, 1), model: Customized, metrics: {'aucroc': 0.6408651734738691, 'aucpr': 0.5076011358970661}, fitting time: 841.4564371109009, inference time: 0.0069806575775146484\n",
      "\n",
      "Model performance:\n",
      "Reconstruction AUCROC=0.5551; AUCPR=0.4281\n",
      "Deviation AUCROC=0.7230; AUCPR=0.6522\n",
      "Max(rec, dev) AUCROC=0.5551; AUCPR=0.4281\n",
      "\n",
      "Sum of squared error AUCROC=0.5558; AUCPR=0.4284\n",
      "\n",
      "Transformer selector AUCROC=0.9889; AUCPR=0.9839\n",
      "\n",
      "{'Samples': 4207, 'Features': 57, 'Anomalies': 1679, 'Anomalies Ratio(%)': 39.91}\n",
      "epoch : 1/5000, loss = 23.946676\n",
      "epoch : 1000/5000, loss = 0.820450\n",
      "epoch : 2000/5000, loss = 0.665793\n",
      "epoch : 3000/5000, loss = 0.554246\n",
      "epoch : 4000/5000, loss = 0.478929\n",
      "epoch : 5000/5000, loss = 0.416974\n",
      "self.error_median=0.1396, self.error_range=0.1357, self.latent_error_median_=0.0066, self.latent_error_range_=0.0066\n",
      "Model result scaling scheme:  True\n",
      "Latent dim= 16. Weight Decay = 0.000001\n",
      "Using cuda\n",
      "self.error_mu=0.1986, self.error_std=0.1707, self.latent_error_mu_=0.0080, self.latent_error_sigma_=0.0054; alpha = 1.0000\n"
     ]
    },
    {
     "name": "stderr",
     "output_type": "stream",
     "text": [
      "554it [8:41:35, 90.99s/it]"
     ]
    },
    {
     "name": "stdout",
     "output_type": "stream",
     "text": [
      "Current experiment parameters: ('35_SpamBase', 0.0, 2), model: Customized, metrics: {'aucroc': 0.6408050484137441, 'aucpr': 0.47683526669937915}, fitting time: 735.4297466278076, inference time: 0.0019941329956054688\n",
      "\n",
      "Model performance:\n",
      "Reconstruction AUCROC=0.5117; AUCPR=0.3901\n",
      "Deviation AUCROC=0.7446; AUCPR=0.5994\n",
      "Max(rec, dev) AUCROC=0.5117; AUCPR=0.3901\n",
      "\n",
      "Sum of squared error AUCROC=0.5125; AUCPR=0.3904\n",
      "\n",
      "Transformer selector AUCROC=0.8341; AUCPR=0.7681\n",
      "\n",
      "{'Samples': 4207, 'Features': 57, 'Anomalies': 1679, 'Anomalies Ratio(%)': 39.91}\n",
      "epoch : 1/5000, loss = 31.078150\n",
      "epoch : 1000/5000, loss = 0.917774\n",
      "epoch : 2000/5000, loss = 0.689547\n",
      "epoch : 3000/5000, loss = 0.587113\n",
      "epoch : 4000/5000, loss = 0.528281\n",
      "epoch : 5000/5000, loss = 0.439186\n",
      "self.error_median=0.1495, self.error_range=0.1209, self.latent_error_median_=0.0086, self.latent_error_range_=0.0078\n",
      "Model result scaling scheme:  True\n",
      "Latent dim= 16. Weight Decay = 0.000001\n",
      "Using cuda\n",
      "self.error_mu=0.2023, self.error_std=0.1641, self.latent_error_mu_=0.0100, self.latent_error_sigma_=0.0058; alpha = 1.0000\n"
     ]
    },
    {
     "name": "stderr",
     "output_type": "stream",
     "text": [
      "555it [8:54:02, 125.49s/it]"
     ]
    },
    {
     "name": "stdout",
     "output_type": "stream",
     "text": [
      "Current experiment parameters: ('35_SpamBase', 0.0, 3), model: Customized, metrics: {'aucroc': 0.632622811970638, 'aucpr': 0.4915820897226771}, fitting time: 734.5939998626709, inference time: 0.003989219665527344\n",
      "\n",
      "Model performance:\n",
      "Reconstruction AUCROC=0.4768; AUCPR=0.3801\n",
      "Deviation AUCROC=0.7739; AUCPR=0.6725\n",
      "Max(rec, dev) AUCROC=0.4768; AUCPR=0.3801\n",
      "\n",
      "Sum of squared error AUCROC=0.4780; AUCPR=0.3806\n",
      "\n",
      "Transformer selector AUCROC=0.9898; AUCPR=0.9848\n",
      "\n",
      "{'Samples': 4819, 'Features': 5, 'Anomalies': 257, 'Anomalies Ratio(%)': 5.33}\n",
      "epoch : 1/5000, loss = 0.351775\n",
      "epoch : 1000/5000, loss = 0.002335\n",
      "epoch : 2000/5000, loss = 0.000316\n",
      "epoch : 3000/5000, loss = 0.000761\n",
      "epoch : 4000/5000, loss = 0.000471\n",
      "epoch : 5000/5000, loss = 0.000578\n",
      "self.error_median=0.0000, self.error_range=0.0000, self.latent_error_median_=0.0000, self.latent_error_range_=0.0000\n",
      "Model result scaling scheme:  True\n",
      "Latent dim= 5. Weight Decay = 0.000001\n",
      "Using cuda\n",
      "self.error_mu=0.0001, self.error_std=0.0003, self.latent_error_mu_=0.0001, self.latent_error_sigma_=0.0005; alpha = 1.0000\n"
     ]
    },
    {
     "name": "stderr",
     "output_type": "stream",
     "text": [
      "577it [9:05:17, 66.41s/it] "
     ]
    },
    {
     "name": "stdout",
     "output_type": "stream",
     "text": [
      "Current experiment parameters: ('44_Wilt', 0.0, 1), model: Customized, metrics: {'aucroc': 0.9991746748503505, 'aucpr': 0.9732498718910096}, fitting time: 673.0854156017303, inference time: 0.0019948482513427734\n",
      "\n",
      "Model performance:\n",
      "Reconstruction AUCROC=0.9972; AUCPR=0.9275\n",
      "Deviation AUCROC=1.0000; AUCPR=1.0000\n",
      "Max(rec, dev) AUCROC=0.9999; AUCPR=0.9984\n",
      "\n",
      "Sum of squared error AUCROC=0.9996; AUCPR=0.9897\n",
      "\n",
      "Transformer selector AUCROC=0.9874; AUCPR=0.9800\n",
      "\n",
      "{'Samples': 4819, 'Features': 5, 'Anomalies': 257, 'Anomalies Ratio(%)': 5.33}\n",
      "epoch : 1/5000, loss = 0.345989\n",
      "epoch : 1000/5000, loss = 0.001226\n",
      "epoch : 2000/5000, loss = 0.001401\n",
      "epoch : 3000/5000, loss = 0.000665\n",
      "epoch : 4000/5000, loss = 0.000445\n",
      "epoch : 5000/5000, loss = 0.000979\n",
      "self.error_median=0.0001, self.error_range=0.0000, self.latent_error_median_=0.0000, self.latent_error_range_=0.0000\n",
      "Model result scaling scheme:  True\n",
      "Latent dim= 5. Weight Decay = 0.000001\n",
      "Using cuda\n",
      "self.error_mu=0.0003, self.error_std=0.0008, self.latent_error_mu_=0.0001, self.latent_error_sigma_=0.0004; alpha = 1.0000\n"
     ]
    },
    {
     "name": "stderr",
     "output_type": "stream",
     "text": [
      "578it [9:12:53, 81.58s/it]"
     ]
    },
    {
     "name": "stdout",
     "output_type": "stream",
     "text": [
      "Current experiment parameters: ('44_Wilt', 0.0, 2), model: Customized, metrics: {'aucroc': 1.0, 'aucpr': 1.0}, fitting time: 454.63558554649353, inference time: 0.001994609832763672\n",
      "\n",
      "Model performance:\n",
      "Reconstruction AUCROC=1.0000; AUCPR=1.0000\n",
      "Deviation AUCROC=1.0000; AUCPR=1.0000\n",
      "Max(rec, dev) AUCROC=1.0000; AUCPR=1.0000\n",
      "\n",
      "Sum of squared error AUCROC=1.0000; AUCPR=1.0000\n",
      "\n",
      "Transformer selector AUCROC=1.0000; AUCPR=1.0000\n",
      "\n",
      "{'Samples': 4819, 'Features': 5, 'Anomalies': 257, 'Anomalies Ratio(%)': 5.33}\n",
      "epoch : 1/5000, loss = 0.396830\n",
      "epoch : 1000/5000, loss = 0.002677\n",
      "epoch : 2000/5000, loss = 0.000776\n",
      "epoch : 3000/5000, loss = 0.000465\n",
      "epoch : 4000/5000, loss = 0.000330\n",
      "epoch : 5000/5000, loss = 0.000241\n",
      "self.error_median=0.0000, self.error_range=0.0000, self.latent_error_median_=0.0000, self.latent_error_range_=0.0000\n",
      "Model result scaling scheme:  True\n",
      "Latent dim= 5. Weight Decay = 0.000001\n",
      "Using cuda\n",
      "self.error_mu=0.0000, self.error_std=0.0001, self.latent_error_mu_=0.0001, self.latent_error_sigma_=0.0004; alpha = 1.0000\n"
     ]
    },
    {
     "name": "stderr",
     "output_type": "stream",
     "text": [
      "579it [9:20:31, 101.36s/it]"
     ]
    },
    {
     "name": "stdout",
     "output_type": "stream",
     "text": [
      "Current experiment parameters: ('44_Wilt', 0.0, 3), model: Customized, metrics: {'aucroc': 0.9898589358048817, 'aucpr': 0.6891883755649829}, fitting time: 455.6243591308594, inference time: 0.001993894577026367\n",
      "\n",
      "Model performance:\n",
      "Reconstruction AUCROC=0.8999; AUCPR=0.2586\n",
      "Deviation AUCROC=1.0000; AUCPR=1.0000\n",
      "Max(rec, dev) AUCROC=0.9987; AUCPR=0.9456\n",
      "\n",
      "Sum of squared error AUCROC=0.9987; AUCPR=0.9462\n",
      "\n",
      "Transformer selector AUCROC=0.0014; AUCPR=0.0275\n",
      "\n",
      "{'Samples': 5216, 'Features': 64, 'Anomalies': 150, 'Anomalies Ratio(%)': 2.88}\n",
      "epoch : 1/5000, loss = 16.260168\n",
      "epoch : 1000/5000, loss = 0.606705\n",
      "epoch : 2000/5000, loss = 0.429701\n",
      "epoch : 3000/5000, loss = 0.325539\n",
      "epoch : 4000/5000, loss = 0.277226\n",
      "epoch : 5000/5000, loss = 0.237840\n",
      "self.error_median=0.0907, self.error_range=0.0640, self.latent_error_median_=0.0053, self.latent_error_range_=0.0043\n",
      "Model result scaling scheme:  True\n",
      "Latent dim= 16. Weight Decay = 0.000001\n",
      "Using cuda\n",
      "self.error_mu=0.1060, self.error_std=0.0654, self.latent_error_mu_=0.0078, self.latent_error_sigma_=0.0116; alpha = 1.0000\n"
     ]
    },
    {
     "name": "stderr",
     "output_type": "stream",
     "text": [
      "601it [9:28:28, 51.72s/it] "
     ]
    },
    {
     "name": "stdout",
     "output_type": "stream",
     "text": [
      "Current experiment parameters: ('26_optdigits', 0.0, 1), model: Customized, metrics: {'aucroc': 0.9999269005847954, 'aucpr': 0.9974721341522826}, fitting time: 462.2411890029907, inference time: 0.0029611587524414062\n",
      "\n",
      "Model performance:\n",
      "Reconstruction AUCROC=0.8162; AUCPR=0.1476\n",
      "Deviation AUCROC=1.0000; AUCPR=1.0000\n",
      "Max(rec, dev) AUCROC=0.8162; AUCPR=0.1476\n",
      "\n",
      "Sum of squared error AUCROC=0.8785; AUCPR=0.1745\n",
      "\n",
      "Transformer selector AUCROC=1.0000; AUCPR=1.0000\n",
      "\n",
      "{'Samples': 5216, 'Features': 64, 'Anomalies': 150, 'Anomalies Ratio(%)': 2.88}\n",
      "epoch : 1/5000, loss = 13.868237\n",
      "epoch : 1000/5000, loss = 0.691082\n",
      "epoch : 2000/5000, loss = 0.488495\n",
      "epoch : 3000/5000, loss = 0.357888\n",
      "epoch : 4000/5000, loss = 0.263211\n",
      "epoch : 5000/5000, loss = 0.228079\n",
      "self.error_median=0.0900, self.error_range=0.0657, self.latent_error_median_=0.0047, self.latent_error_range_=0.0040\n",
      "Model result scaling scheme:  True\n",
      "Latent dim= 16. Weight Decay = 0.000001\n",
      "Using cuda\n",
      "self.error_mu=0.1062, self.error_std=0.0652, self.latent_error_mu_=0.0066, self.latent_error_sigma_=0.0088; alpha = 1.0000\n"
     ]
    },
    {
     "name": "stderr",
     "output_type": "stream",
     "text": [
      "602it [9:36:26, 68.29s/it]"
     ]
    },
    {
     "name": "stdout",
     "output_type": "stream",
     "text": [
      "Current experiment parameters: ('26_optdigits', 0.0, 2), model: Customized, metrics: {'aucroc': 0.9993859649122807, 'aucpr': 0.9799079653455971}, fitting time: 463.8240976333618, inference time: 0.001993894577026367\n",
      "\n",
      "Model performance:\n",
      "Reconstruction AUCROC=0.7458; AUCPR=0.0840\n",
      "Deviation AUCROC=1.0000; AUCPR=1.0000\n",
      "Max(rec, dev) AUCROC=0.7460; AUCPR=0.0840\n",
      "\n",
      "Sum of squared error AUCROC=0.8033; AUCPR=0.0964\n",
      "\n",
      "Transformer selector AUCROC=1.0000; AUCPR=1.0000\n",
      "\n",
      "{'Samples': 5216, 'Features': 64, 'Anomalies': 150, 'Anomalies Ratio(%)': 2.88}\n",
      "epoch : 1/5000, loss = 15.141082\n",
      "epoch : 1000/5000, loss = 0.556844\n",
      "epoch : 2000/5000, loss = 0.374198\n",
      "epoch : 3000/5000, loss = 0.318315\n",
      "epoch : 4000/5000, loss = 0.274074\n",
      "epoch : 5000/5000, loss = 0.230438\n",
      "self.error_median=0.0889, self.error_range=0.0656, self.latent_error_median_=0.0056, self.latent_error_range_=0.0045\n",
      "Model result scaling scheme:  True\n",
      "Latent dim= 16. Weight Decay = 0.000001\n",
      "Using cuda\n",
      "self.error_mu=0.1046, self.error_std=0.0607, self.latent_error_mu_=0.0077, self.latent_error_sigma_=0.0104; alpha = 1.0000\n"
     ]
    },
    {
     "name": "stderr",
     "output_type": "stream",
     "text": [
      "603it [9:44:22, 89.74s/it]"
     ]
    },
    {
     "name": "stdout",
     "output_type": "stream",
     "text": [
      "Current experiment parameters: ('26_optdigits', 0.0, 3), model: Customized, metrics: {'aucroc': 0.9986257309941521, 'aucpr': 0.9209186453368283}, fitting time: 463.2508862018585, inference time: 0.0029931068420410156\n",
      "\n",
      "Model performance:\n",
      "Reconstruction AUCROC=0.7256; AUCPR=0.0702\n",
      "Deviation AUCROC=1.0000; AUCPR=1.0000\n",
      "Max(rec, dev) AUCROC=0.7256; AUCPR=0.0702\n",
      "\n",
      "Sum of squared error AUCROC=0.8048; AUCPR=0.0875\n",
      "\n",
      "Transformer selector AUCROC=1.0000; AUCPR=1.0000\n",
      "\n",
      "{'Samples': 5393, 'Features': 10, 'Anomalies': 510, 'Anomalies Ratio(%)': 9.46}\n",
      "epoch : 1/5000, loss = 0.799612\n",
      "epoch : 1000/5000, loss = 0.210913\n",
      "epoch : 2000/5000, loss = 0.008050\n",
      "epoch : 3000/5000, loss = 0.003973\n",
      "epoch : 4000/5000, loss = 0.004046\n",
      "epoch : 5000/5000, loss = 0.001356\n",
      "self.error_median=0.0001, self.error_range=0.0002, self.latent_error_median_=0.0001, self.latent_error_range_=0.0003\n",
      "Model result scaling scheme:  True\n",
      "Latent dim= 10. Weight Decay = 0.000001\n",
      "Using cuda\n",
      "self.error_mu=0.0004, self.error_std=0.0040, self.latent_error_mu_=0.0005, self.latent_error_sigma_=0.0013; alpha = 1.0000\n",
      "Current experiment parameters: ('27_PageBlocks', 0.0, 1), model: Customized, metrics: {'aucroc': 0.9748064868723372, 'aucpr': 0.644004391120601}, fitting time: 458.32919335365295, inference time: 0.0009942054748535156\n"
     ]
    },
    {
     "name": "stderr",
     "output_type": "stream",
     "text": [
      "625it [9:52:04, 46.89s/it]"
     ]
    },
    {
     "name": "stdout",
     "output_type": "stream",
     "text": [
      "\n",
      "Model performance:\n",
      "Reconstruction AUCROC=0.7866; AUCPR=0.2191\n",
      "Deviation AUCROC=0.9957; AUCPR=0.9405\n",
      "Max(rec, dev) AUCROC=0.9808; AUCPR=0.6922\n",
      "\n",
      "Sum of squared error AUCROC=0.9796; AUCPR=0.6814\n",
      "\n",
      "Transformer selector AUCROC=0.2106; AUCPR=0.0619\n",
      "\n",
      "{'Samples': 5393, 'Features': 10, 'Anomalies': 510, 'Anomalies Ratio(%)': 9.46}\n",
      "epoch : 1/5000, loss = 1.580093\n",
      "epoch : 1000/5000, loss = 0.009988\n",
      "epoch : 2000/5000, loss = 0.005453\n",
      "epoch : 3000/5000, loss = 0.003396\n",
      "epoch : 4000/5000, loss = 0.003436\n",
      "epoch : 5000/5000, loss = 0.001354\n",
      "self.error_median=0.0001, self.error_range=0.0003, self.latent_error_median_=0.0001, self.latent_error_range_=0.0004\n",
      "Model result scaling scheme:  True\n",
      "Latent dim= 10. Weight Decay = 0.000001\n",
      "Using cuda\n",
      "self.error_mu=0.0003, self.error_std=0.0007, self.latent_error_mu_=0.0005, self.latent_error_sigma_=0.0011; alpha = 1.0000\n"
     ]
    },
    {
     "name": "stderr",
     "output_type": "stream",
     "text": [
      "626it [9:59:43, 62.94s/it]"
     ]
    },
    {
     "name": "stdout",
     "output_type": "stream",
     "text": [
      "Current experiment parameters: ('27_PageBlocks', 0.0, 2), model: Customized, metrics: {'aucroc': 0.9495638983693592, 'aucpr': 0.5242903010241753}, fitting time: 456.56468534469604, inference time: 0.001994609832763672\n",
      "\n",
      "Model performance:\n",
      "Reconstruction AUCROC=0.8362; AUCPR=0.2628\n",
      "Deviation AUCROC=0.9900; AUCPR=0.8270\n",
      "Max(rec, dev) AUCROC=0.9768; AUCPR=0.6929\n",
      "\n",
      "Sum of squared error AUCROC=0.9716; AUCPR=0.6534\n",
      "\n",
      "Transformer selector AUCROC=0.0412; AUCPR=0.0718\n",
      "\n",
      "{'Samples': 5393, 'Features': 10, 'Anomalies': 510, 'Anomalies Ratio(%)': 9.46}\n",
      "epoch : 1/5000, loss = 1.561559\n",
      "epoch : 1000/5000, loss = 0.015112\n",
      "epoch : 2000/5000, loss = 0.009601\n",
      "epoch : 3000/5000, loss = 0.004405\n",
      "epoch : 4000/5000, loss = 0.003076\n",
      "epoch : 5000/5000, loss = 0.003025\n",
      "self.error_median=0.0003, self.error_range=0.0008, self.latent_error_median_=0.0001, self.latent_error_range_=0.0005\n",
      "Model result scaling scheme:  True\n",
      "Latent dim= 10. Weight Decay = 0.000001\n",
      "Using cuda\n",
      "self.error_mu=0.0009, self.error_std=0.0020, self.latent_error_mu_=0.0006, self.latent_error_sigma_=0.0013; alpha = 1.0000\n"
     ]
    },
    {
     "name": "stderr",
     "output_type": "stream",
     "text": [
      "627it [10:07:21, 83.74s/it]"
     ]
    },
    {
     "name": "stdout",
     "output_type": "stream",
     "text": [
      "Current experiment parameters: ('27_PageBlocks', 0.0, 3), model: Customized, metrics: {'aucroc': 0.9602087934149769, 'aucpr': 0.5595463119491987}, fitting time: 454.6670489311218, inference time: 0.0009970664978027344\n",
      "\n",
      "Model performance:\n",
      "Reconstruction AUCROC=0.9192; AUCPR=0.3560\n",
      "Deviation AUCROC=0.9868; AUCPR=0.8440\n",
      "Max(rec, dev) AUCROC=0.9470; AUCPR=0.4589\n",
      "\n",
      "Sum of squared error AUCROC=0.9506; AUCPR=0.4785\n",
      "\n",
      "Transformer selector AUCROC=0.9789; AUCPR=0.9721\n",
      "\n",
      "{'Samples': 5803, 'Features': 36, 'Anomalies': 71, 'Anomalies Ratio(%)': 1.22}\n",
      "epoch : 1/5000, loss = 2.946543\n",
      "epoch : 1000/5000, loss = 0.075169\n",
      "epoch : 2000/5000, loss = 0.043625\n",
      "epoch : 3000/5000, loss = 0.020870\n",
      "epoch : 4000/5000, loss = 0.023466\n",
      "epoch : 5000/5000, loss = 0.019456\n",
      "self.error_median=0.0036, self.error_range=0.0052, self.latent_error_median_=0.0005, self.latent_error_range_=0.0006\n",
      "Model result scaling scheme:  True\n",
      "Latent dim= 16. Weight Decay = 0.000001\n",
      "Using cuda\n",
      "self.error_mu=0.0055, self.error_std=0.0065, self.latent_error_mu_=0.0009, self.latent_error_sigma_=0.0034; alpha = 1.0000\n"
     ]
    },
    {
     "name": "stderr",
     "output_type": "stream",
     "text": [
      "649it [10:15:09, 44.81s/it]"
     ]
    },
    {
     "name": "stdout",
     "output_type": "stream",
     "text": [
      "Current experiment parameters: ('31_satimage-2', 0.0, 1), model: Customized, metrics: {'aucroc': 1.0, 'aucpr': 1.0000000000000002}, fitting time: 462.4575901031494, inference time: 0.006980180740356445\n",
      "\n",
      "Model performance:\n",
      "Reconstruction AUCROC=0.8273; AUCPR=0.2666\n",
      "Deviation AUCROC=1.0000; AUCPR=1.0000\n",
      "Max(rec, dev) AUCROC=0.9984; AUCPR=0.8556\n",
      "\n",
      "Sum of squared error AUCROC=0.9985; AUCPR=0.8632\n",
      "\n",
      "Transformer selector AUCROC=1.0000; AUCPR=1.0000\n",
      "\n",
      "{'Samples': 5803, 'Features': 36, 'Anomalies': 71, 'Anomalies Ratio(%)': 1.22}\n",
      "epoch : 1/5000, loss = 2.603096\n",
      "epoch : 1000/5000, loss = 0.027084\n",
      "epoch : 2000/5000, loss = 0.057543\n",
      "epoch : 3000/5000, loss = 0.032933\n",
      "epoch : 4000/5000, loss = 0.023674\n",
      "epoch : 5000/5000, loss = 0.013315\n",
      "self.error_median=0.0037, self.error_range=0.0054, self.latent_error_median_=0.0003, self.latent_error_range_=0.0005\n",
      "Model result scaling scheme:  True\n",
      "Latent dim= 16. Weight Decay = 0.000001\n",
      "Using cuda\n",
      "self.error_mu=0.0055, self.error_std=0.0063, self.latent_error_mu_=0.0012, self.latent_error_sigma_=0.0072; alpha = 1.0000\n"
     ]
    },
    {
     "name": "stderr",
     "output_type": "stream",
     "text": [
      "650it [10:23:00, 61.39s/it]"
     ]
    },
    {
     "name": "stdout",
     "output_type": "stream",
     "text": [
      "Current experiment parameters: ('31_satimage-2', 0.0, 2), model: Customized, metrics: {'aucroc': 1.0, 'aucpr': 1.0000000000000002}, fitting time: 463.7675497531891, inference time: 0.0029599666595458984\n",
      "\n",
      "Model performance:\n",
      "Reconstruction AUCROC=0.5975; AUCPR=0.0621\n",
      "Deviation AUCROC=1.0000; AUCPR=1.0000\n",
      "Max(rec, dev) AUCROC=1.0000; AUCPR=1.0000\n",
      "\n",
      "Sum of squared error AUCROC=1.0000; AUCPR=1.0000\n",
      "\n",
      "Transformer selector AUCROC=0.0195; AUCPR=0.0064\n",
      "\n",
      "{'Samples': 5803, 'Features': 36, 'Anomalies': 71, 'Anomalies Ratio(%)': 1.22}\n",
      "epoch : 1/5000, loss = -1.887242\n",
      "epoch : 1000/5000, loss = 0.027003\n",
      "epoch : 2000/5000, loss = 0.020077\n",
      "epoch : 3000/5000, loss = 0.017575\n",
      "epoch : 4000/5000, loss = 0.011615\n",
      "epoch : 5000/5000, loss = 0.021708\n",
      "self.error_median=0.0039, self.error_range=0.0049, self.latent_error_median_=0.0040, self.latent_error_range_=0.0019\n",
      "Model result scaling scheme:  True\n",
      "Latent dim= 16. Weight Decay = 0.000001\n",
      "Using cuda\n",
      "self.error_mu=0.0174, self.error_std=0.1133, self.latent_error_mu_=0.0083, self.latent_error_sigma_=0.0362; alpha = 1.0000\n"
     ]
    },
    {
     "name": "stderr",
     "output_type": "stream",
     "text": [
      "651it [10:33:55, 92.64s/it]"
     ]
    },
    {
     "name": "stdout",
     "output_type": "stream",
     "text": [
      "Current experiment parameters: ('31_satimage-2', 0.0, 3), model: Customized, metrics: {'aucroc': 1.0, 'aucpr': 1.0000000000000002}, fitting time: 649.0266332626343, inference time: 0.008974313735961914\n",
      "\n",
      "Model performance:\n",
      "Reconstruction AUCROC=1.0000; AUCPR=1.0000\n",
      "Deviation AUCROC=1.0000; AUCPR=1.0000\n",
      "Max(rec, dev) AUCROC=1.0000; AUCPR=1.0000\n",
      "\n",
      "Sum of squared error AUCROC=1.0000; AUCPR=1.0000\n",
      "\n",
      "Transformer selector AUCROC=0.0000; AUCPR=0.0063\n",
      "\n",
      "{'Samples': 6435, 'Features': 36, 'Anomalies': 2036, 'Anomalies Ratio(%)': 31.64}\n",
      "epoch : 1/5000, loss = 18.368479\n",
      "epoch : 1000/5000, loss = 0.387280\n",
      "epoch : 2000/5000, loss = 0.417974\n",
      "epoch : 3000/5000, loss = 0.268246\n",
      "epoch : 4000/5000, loss = 0.107270\n",
      "epoch : 5000/5000, loss = 0.058717\n",
      "self.error_median=0.0107, self.error_range=0.0158, self.latent_error_median_=0.0369, self.latent_error_range_=0.0354\n",
      "Model result scaling scheme:  True\n",
      "Latent dim= 16. Weight Decay = 0.000001\n",
      "Using cuda\n",
      "self.error_mu=0.0142, self.error_std=0.0125, self.latent_error_mu_=0.0303, self.latent_error_sigma_=0.0159; alpha = 1.0000\n"
     ]
    },
    {
     "name": "stderr",
     "output_type": "stream",
     "text": [
      "673it [10:46:37, 56.48s/it]"
     ]
    },
    {
     "name": "stdout",
     "output_type": "stream",
     "text": [
      "Current experiment parameters: ('30_satellite', 0.0, 1), model: Customized, metrics: {'aucroc': 0.344692010117542, 'aucpr': 0.2556074271921952}, fitting time: 753.3581171035767, inference time: 0.00797581672668457\n",
      "\n",
      "Model performance:\n",
      "Reconstruction AUCROC=0.8105; AUCPR=0.5629\n",
      "Deviation AUCROC=0.0000; AUCPR=0.1784\n",
      "Max(rec, dev) AUCROC=0.0836; AUCPR=0.2074\n",
      "\n",
      "Sum of squared error AUCROC=0.0787; AUCPR=0.1912\n",
      "\n",
      "Transformer selector AUCROC=1.0000; AUCPR=1.0000\n",
      "\n",
      "{'Samples': 6435, 'Features': 36, 'Anomalies': 2036, 'Anomalies Ratio(%)': 31.64}\n",
      "epoch : 1/5000, loss = -90.330322\n",
      "epoch : 1000/5000, loss = 0.245641\n",
      "epoch : 2000/5000, loss = 0.099105\n",
      "epoch : 3000/5000, loss = 0.043648\n",
      "epoch : 4000/5000, loss = 0.043041\n",
      "epoch : 5000/5000, loss = 0.073141\n",
      "self.error_median=0.0069, self.error_range=0.0393, self.latent_error_median_=0.0067, self.latent_error_range_=0.0022\n",
      "Model result scaling scheme:  True\n",
      "Latent dim= 16. Weight Decay = 0.000001\n",
      "Using cuda\n",
      "self.error_mu=0.0195, self.error_std=0.0220, self.latent_error_mu_=0.0068, self.latent_error_sigma_=0.0015; alpha = 1.0000\n"
     ]
    },
    {
     "name": "stderr",
     "output_type": "stream",
     "text": [
      "674it [10:58:46, 82.65s/it]"
     ]
    },
    {
     "name": "stdout",
     "output_type": "stream",
     "text": [
      "Current experiment parameters: ('30_satellite', 0.0, 2), model: Customized, metrics: {'aucroc': 0.8349712344393195, 'aucpr': 0.8285213775315002}, fitting time: 720.149117231369, inference time: 0.0019943714141845703\n",
      "\n",
      "Model performance:\n",
      "Reconstruction AUCROC=0.9978; AUCPR=0.9946\n",
      "Deviation AUCROC=0.5946; AUCPR=0.4511\n",
      "Max(rec, dev) AUCROC=0.9978; AUCPR=0.9946\n",
      "\n",
      "Sum of squared error AUCROC=0.9977; AUCPR=0.9945\n",
      "\n",
      "Transformer selector AUCROC=1.0000; AUCPR=1.0000\n",
      "\n",
      "{'Samples': 6435, 'Features': 36, 'Anomalies': 2036, 'Anomalies Ratio(%)': 31.64}\n",
      "epoch : 1/5000, loss = 103.078568\n",
      "epoch : 1000/5000, loss = 0.152296\n",
      "epoch : 2000/5000, loss = 0.137362\n",
      "epoch : 3000/5000, loss = 0.071554\n",
      "epoch : 4000/5000, loss = 0.041078\n",
      "epoch : 5000/5000, loss = 0.057623\n",
      "self.error_median=0.0055, self.error_range=0.0067, self.latent_error_median_=0.0190, self.latent_error_range_=0.0102\n",
      "Model result scaling scheme:  True\n",
      "Latent dim= 16. Weight Decay = 0.000001\n",
      "Using cuda\n",
      "self.error_mu=0.0094, self.error_std=0.0558, self.latent_error_mu_=0.0200, self.latent_error_sigma_=0.0065; alpha = 1.0000\n"
     ]
    },
    {
     "name": "stderr",
     "output_type": "stream",
     "text": [
      "675it [11:20:44, 147.64s/it]"
     ]
    },
    {
     "name": "stdout",
     "output_type": "stream",
     "text": [
      "Current experiment parameters: ('30_satellite', 0.0, 3), model: Customized, metrics: {'aucroc': 0.6577233050637306, 'aucpr': 0.5043219951432047}, fitting time: 1307.6417574882507, inference time: 0.008404254913330078\n",
      "\n",
      "Model performance:\n",
      "Reconstruction AUCROC=0.7867; AUCPR=0.5551\n",
      "Deviation AUCROC=0.4312; AUCPR=0.4776\n",
      "Max(rec, dev) AUCROC=0.5210; AUCPR=0.5111\n",
      "\n",
      "Sum of squared error AUCROC=0.5537; AUCPR=0.5005\n",
      "\n",
      "Transformer selector AUCROC=0.0000; AUCPR=0.1784\n",
      "\n",
      "{'Samples': 6435, 'Features': 36, 'Anomalies': 1333, 'Anomalies Ratio(%)': 20.71}\n",
      "epoch : 1/5000, loss = 23.820559\n",
      "epoch : 1000/5000, loss = 0.134261\n",
      "epoch : 2000/5000, loss = 0.101167\n",
      "epoch : 3000/5000, loss = 0.081505\n",
      "epoch : 4000/5000, loss = 14.730337\n",
      "epoch : 5000/5000, loss = 0.057939\n",
      "self.error_median=0.0127, self.error_range=0.0171, self.latent_error_median_=0.0033, self.latent_error_range_=0.0084\n",
      "Model result scaling scheme:  True\n",
      "Latent dim= 16. Weight Decay = 0.000001\n",
      "Using cuda\n",
      "self.error_mu=0.0200, self.error_std=0.0233, self.latent_error_mu_=0.0086, self.latent_error_sigma_=0.0139; alpha = 1.0000\n"
     ]
    },
    {
     "name": "stderr",
     "output_type": "stream",
     "text": [
      "697it [11:44:49, 96.56s/it] "
     ]
    },
    {
     "name": "stdout",
     "output_type": "stream",
     "text": [
      "Current experiment parameters: ('19_landsat', 0.0, 1), model: Customized, metrics: {'aucroc': 0.9663422599608099, 'aucpr': 0.8346564502666955}, fitting time: 1435.754315853119, inference time: 0.0072748661041259766\n",
      "\n",
      "Model performance:\n",
      "Reconstruction AUCROC=0.7161; AUCPR=0.3699\n",
      "Deviation AUCROC=0.9931; AUCPR=0.9846\n",
      "Max(rec, dev) AUCROC=0.8669; AUCPR=0.5170\n",
      "\n",
      "Sum of squared error AUCROC=0.8943; AUCPR=0.5802\n",
      "\n",
      "Transformer selector AUCROC=0.7309; AUCPR=0.5274\n",
      "\n",
      "{'Samples': 6435, 'Features': 36, 'Anomalies': 1333, 'Anomalies Ratio(%)': 20.71}\n",
      "epoch : 1/5000, loss = 24.057116\n",
      "epoch : 1000/5000, loss = 0.159955\n",
      "epoch : 2000/5000, loss = 0.060228\n",
      "epoch : 3000/5000, loss = 0.051960\n",
      "epoch : 4000/5000, loss = 0.038846\n",
      "epoch : 5000/5000, loss = 0.039139\n",
      "self.error_median=0.0108, self.error_range=0.0119, self.latent_error_median_=0.0011, self.latent_error_range_=0.0042\n",
      "Model result scaling scheme:  True\n",
      "Latent dim= 16. Weight Decay = 0.000001\n",
      "Using cuda\n",
      "self.error_mu=0.0158, self.error_std=0.0182, self.latent_error_mu_=0.0032, self.latent_error_sigma_=0.0051; alpha = 1.0000\n"
     ]
    },
    {
     "name": "stderr",
     "output_type": "stream",
     "text": [
      "698it [12:08:51, 148.90s/it]"
     ]
    },
    {
     "name": "stdout",
     "output_type": "stream",
     "text": [
      "Current experiment parameters: ('19_landsat', 0.0, 2), model: Customized, metrics: {'aucroc': 0.9154506858262573, 'aucpr': 0.5983640419962846}, fitting time: 1434.9864921569824, inference time: 0.004955768585205078\n",
      "\n",
      "Model performance:\n",
      "Reconstruction AUCROC=0.5238; AUCPR=0.2130\n",
      "Deviation AUCROC=0.9988; AUCPR=0.9961\n",
      "Max(rec, dev) AUCROC=0.6575; AUCPR=0.2732\n",
      "\n",
      "Sum of squared error AUCROC=0.7298; AUCPR=0.3152\n",
      "\n",
      "Transformer selector AUCROC=0.6180; AUCPR=0.5414\n",
      "\n",
      "{'Samples': 6435, 'Features': 36, 'Anomalies': 1333, 'Anomalies Ratio(%)': 20.71}\n",
      "epoch : 1/5000, loss = 21.949713\n",
      "epoch : 1000/5000, loss = 0.102349\n",
      "epoch : 2000/5000, loss = 0.061293\n",
      "epoch : 3000/5000, loss = 0.044006\n",
      "epoch : 4000/5000, loss = 0.035069\n",
      "epoch : 5000/5000, loss = 0.028633\n",
      "self.error_median=0.0086, self.error_range=0.0089, self.latent_error_median_=0.0014, self.latent_error_range_=0.0038\n",
      "Model result scaling scheme:  True\n",
      "Latent dim= 16. Weight Decay = 0.000001\n",
      "Using cuda\n",
      "self.error_mu=0.0124, self.error_std=0.0152, self.latent_error_mu_=0.0027, self.latent_error_sigma_=0.0034; alpha = 1.0000\n"
     ]
    },
    {
     "name": "stderr",
     "output_type": "stream",
     "text": [
      "699it [12:32:55, 217.11s/it]"
     ]
    },
    {
     "name": "stdout",
     "output_type": "stream",
     "text": [
      "Current experiment parameters: ('19_landsat', 0.0, 3), model: Customized, metrics: {'aucroc': 0.9141508817766165, 'aucpr': 0.5799854188378105}, fitting time: 1437.6271708011627, inference time: 0.005983829498291016\n",
      "\n",
      "Model performance:\n",
      "Reconstruction AUCROC=0.5775; AUCPR=0.2434\n",
      "Deviation AUCROC=0.9955; AUCPR=0.9774\n",
      "Max(rec, dev) AUCROC=0.6879; AUCPR=0.2984\n",
      "\n",
      "Sum of squared error AUCROC=0.7594; AUCPR=0.3484\n",
      "\n",
      "Transformer selector AUCROC=0.5951; AUCPR=0.5270\n",
      "\n",
      "{'Samples': 6870, 'Features': 16, 'Anomalies': 156, 'Anomalies Ratio(%)': 2.27}\n",
      "epoch : 1/5000, loss = 1.527462\n",
      "epoch : 1000/5000, loss = 0.043054\n",
      "epoch : 2000/5000, loss = 0.020880\n",
      "epoch : 3000/5000, loss = 0.009463\n",
      "epoch : 4000/5000, loss = 1.621705\n",
      "epoch : 5000/5000, loss = 0.007386\n",
      "self.error_median=0.0016, self.error_range=0.0020, self.latent_error_median_=0.0007, self.latent_error_range_=0.0005\n",
      "Model result scaling scheme:  True\n",
      "Latent dim= 16. Weight Decay = 0.000001\n",
      "Using cuda\n",
      "self.error_mu=0.0022, self.error_std=0.0018, self.latent_error_mu_=0.0012, self.latent_error_sigma_=0.0029; alpha = 1.0000\n"
     ]
    },
    {
     "name": "stderr",
     "output_type": "stream",
     "text": [
      "721it [12:56:21, 121.61s/it]"
     ]
    },
    {
     "name": "stdout",
     "output_type": "stream",
     "text": [
      "Current experiment parameters: ('28_pendigits', 0.0, 1), model: Customized, metrics: {'aucroc': 1.0, 'aucpr': 1.0}, fitting time: 1401.7983729839325, inference time: 0.004006147384643555\n",
      "\n",
      "Model performance:\n",
      "Reconstruction AUCROC=0.9783; AUCPR=0.4534\n",
      "Deviation AUCROC=1.0000; AUCPR=1.0000\n",
      "Max(rec, dev) AUCROC=1.0000; AUCPR=1.0000\n",
      "\n",
      "Sum of squared error AUCROC=1.0000; AUCPR=1.0000\n",
      "\n",
      "Transformer selector AUCROC=1.0000; AUCPR=1.0000\n",
      "\n",
      "{'Samples': 6870, 'Features': 16, 'Anomalies': 156, 'Anomalies Ratio(%)': 2.27}\n",
      "epoch : 1/5000, loss = 1.766734\n",
      "epoch : 1000/5000, loss = 0.029334\n",
      "epoch : 2000/5000, loss = 0.033181\n",
      "epoch : 3000/5000, loss = 0.020937\n",
      "epoch : 4000/5000, loss = 0.013838\n",
      "epoch : 5000/5000, loss = 0.009433\n",
      "self.error_median=0.0021, self.error_range=0.0029, self.latent_error_median_=0.0008, self.latent_error_range_=0.0007\n",
      "Model result scaling scheme:  True\n",
      "Latent dim= 16. Weight Decay = 0.000001\n",
      "Using cuda\n",
      "self.error_mu=0.0028, self.error_std=0.0024, self.latent_error_mu_=0.0014, self.latent_error_sigma_=0.0034; alpha = 1.0000\n"
     ]
    },
    {
     "name": "stderr",
     "output_type": "stream",
     "text": [
      "722it [13:20:11, 172.51s/it]"
     ]
    },
    {
     "name": "stdout",
     "output_type": "stream",
     "text": [
      "Current experiment parameters: ('28_pendigits', 0.0, 2), model: Customized, metrics: {'aucroc': 1.0, 'aucpr': 1.0}, fitting time: 1425.256233215332, inference time: 0.008310317993164062\n",
      "\n",
      "Model performance:\n",
      "Reconstruction AUCROC=0.9524; AUCPR=0.4275\n",
      "Deviation AUCROC=1.0000; AUCPR=1.0000\n",
      "Max(rec, dev) AUCROC=0.9993; AUCPR=0.9595\n",
      "\n",
      "Sum of squared error AUCROC=0.9995; AUCPR=0.9693\n",
      "\n",
      "Transformer selector AUCROC=1.0000; AUCPR=1.0000\n",
      "\n",
      "{'Samples': 6870, 'Features': 16, 'Anomalies': 156, 'Anomalies Ratio(%)': 2.27}\n",
      "epoch : 1/5000, loss = 1.584631\n",
      "epoch : 1000/5000, loss = 0.030255\n",
      "epoch : 2000/5000, loss = 0.013636\n",
      "epoch : 3000/5000, loss = 0.010576\n",
      "epoch : 4000/5000, loss = 0.008954\n",
      "epoch : 5000/5000, loss = 0.007178\n",
      "self.error_median=0.0012, self.error_range=0.0020, self.latent_error_median_=0.0007, self.latent_error_range_=0.0007\n",
      "Model result scaling scheme:  True\n",
      "Latent dim= 16. Weight Decay = 0.000001\n",
      "Using cuda\n",
      "self.error_mu=0.0017, self.error_std=0.0018, self.latent_error_mu_=0.0013, self.latent_error_sigma_=0.0031; alpha = 1.0000\n"
     ]
    },
    {
     "name": "stderr",
     "output_type": "stream",
     "text": [
      "723it [13:43:45, 237.88s/it]"
     ]
    },
    {
     "name": "stdout",
     "output_type": "stream",
     "text": [
      "Current experiment parameters: ('28_pendigits', 0.0, 3), model: Customized, metrics: {'aucroc': 1.0, 'aucpr': 1.0}, fitting time: 1411.074419260025, inference time: 0.006979942321777344\n",
      "\n",
      "Model performance:\n",
      "Reconstruction AUCROC=0.8708; AUCPR=0.1238\n",
      "Deviation AUCROC=1.0000; AUCPR=1.0000\n",
      "Max(rec, dev) AUCROC=0.9997; AUCPR=0.9874\n",
      "\n",
      "Sum of squared error AUCROC=0.9999; AUCPR=0.9946\n",
      "\n",
      "Transformer selector AUCROC=1.0000; AUCPR=1.0000\n",
      "\n",
      "{'Samples': 7200, 'Features': 6, 'Anomalies': 534, 'Anomalies Ratio(%)': 7.42}\n",
      "epoch : 1/5000, loss = 0.518996\n",
      "epoch : 1000/5000, loss = 0.007901\n",
      "epoch : 2000/5000, loss = 0.002586\n",
      "epoch : 3000/5000, loss = 0.002962\n",
      "epoch : 4000/5000, loss = 0.001349\n",
      "epoch : 5000/5000, loss = 0.000901\n",
      "self.error_median=0.0000, self.error_range=0.0000, self.latent_error_median_=0.0001, self.latent_error_range_=0.0002\n",
      "Model result scaling scheme:  True\n",
      "Latent dim= 6. Weight Decay = 0.000001\n",
      "Using cuda\n",
      "self.error_mu=0.0001, self.error_std=0.0004, self.latent_error_mu_=0.0005, self.latent_error_sigma_=0.0015; alpha = 1.0000\n"
     ]
    },
    {
     "name": "stderr",
     "output_type": "stream",
     "text": [
      "745it [14:07:17, 129.61s/it]"
     ]
    },
    {
     "name": "stdout",
     "output_type": "stream",
     "text": [
      "Current experiment parameters: ('2_annthyroid', 0.0, 1), model: Customized, metrics: {'aucroc': 0.991690625, 'aucpr': 0.8231814637954575}, fitting time: 1408.6157281398773, inference time: 0.011077880859375\n",
      "\n",
      "Model performance:\n",
      "Reconstruction AUCROC=0.9594; AUCPR=0.5991\n",
      "Deviation AUCROC=0.9979; AUCPR=0.9521\n",
      "Max(rec, dev) AUCROC=0.9973; AUCPR=0.9426\n",
      "\n",
      "Sum of squared error AUCROC=0.9972; AUCPR=0.9321\n",
      "\n",
      "Transformer selector AUCROC=0.0694; AUCPR=0.1004\n",
      "\n",
      "{'Samples': 7200, 'Features': 6, 'Anomalies': 534, 'Anomalies Ratio(%)': 7.42}\n",
      "epoch : 1/5000, loss = 0.690320\n",
      "epoch : 1000/5000, loss = 0.005374\n",
      "epoch : 2000/5000, loss = 0.001324\n",
      "epoch : 3000/5000, loss = 0.001295\n",
      "epoch : 4000/5000, loss = 0.000797\n",
      "epoch : 5000/5000, loss = 0.000592\n",
      "self.error_median=0.0000, self.error_range=0.0000, self.latent_error_median_=0.0000, self.latent_error_range_=0.0001\n",
      "Model result scaling scheme:  True\n",
      "Latent dim= 6. Weight Decay = 0.000001\n",
      "Using cuda\n",
      "self.error_mu=0.0001, self.error_std=0.0002, self.latent_error_mu_=0.0002, self.latent_error_sigma_=0.0006; alpha = 1.0000\n"
     ]
    },
    {
     "name": "stderr",
     "output_type": "stream",
     "text": [
      "746it [14:30:48, 179.44s/it]"
     ]
    },
    {
     "name": "stdout",
     "output_type": "stream",
     "text": [
      "Current experiment parameters: ('2_annthyroid', 0.0, 2), model: Customized, metrics: {'aucroc': 0.9875812500000001, 'aucpr': 0.7370325527601358}, fitting time: 1408.0058736801147, inference time: 0.00800180435180664\n",
      "\n",
      "Model performance:\n",
      "Reconstruction AUCROC=0.9770; AUCPR=0.6052\n",
      "Deviation AUCROC=0.9978; AUCPR=0.9418\n",
      "Max(rec, dev) AUCROC=0.9936; AUCPR=0.8464\n",
      "\n",
      "Sum of squared error AUCROC=0.9928; AUCPR=0.8340\n",
      "\n",
      "Transformer selector AUCROC=1.0000; AUCPR=1.0000\n",
      "\n",
      "{'Samples': 7200, 'Features': 6, 'Anomalies': 534, 'Anomalies Ratio(%)': 7.42}\n",
      "epoch : 1/5000, loss = 0.696102\n",
      "epoch : 1000/5000, loss = 0.006759\n",
      "epoch : 2000/5000, loss = 0.002412\n",
      "epoch : 3000/5000, loss = 0.001538\n",
      "epoch : 4000/5000, loss = 0.001298\n",
      "epoch : 5000/5000, loss = 0.001285\n",
      "self.error_median=0.0000, self.error_range=0.0000, self.latent_error_median_=0.0001, self.latent_error_range_=0.0001\n",
      "Model result scaling scheme:  True\n",
      "Latent dim= 6. Weight Decay = 0.000001\n",
      "Using cuda\n",
      "self.error_mu=0.0001, self.error_std=0.0004, self.latent_error_mu_=0.0004, self.latent_error_sigma_=0.0010; alpha = 1.0000\n",
      "Current experiment parameters: ('2_annthyroid', 0.0, 3), model: Customized, metrics: {'aucroc': 0.9912000000000001, 'aucpr': 0.793581088632388}, fitting time: 369.56008219718933, inference time: 0.0019936561584472656\n"
     ]
    },
    {
     "name": "stderr",
     "output_type": "stream",
     "text": [
      "747it [14:37:00, 189.58s/it]"
     ]
    },
    {
     "name": "stdout",
     "output_type": "stream",
     "text": [
      "\n",
      "Model performance:\n",
      "Reconstruction AUCROC=0.9821; AUCPR=0.6871\n",
      "Deviation AUCROC=0.9974; AUCPR=0.9517\n",
      "Max(rec, dev) AUCROC=0.9940; AUCPR=0.8611\n",
      "\n",
      "Sum of squared error AUCROC=0.9948; AUCPR=0.8694\n",
      "\n",
      "Transformer selector AUCROC=1.0000; AUCPR=1.0000\n",
      "\n",
      "{'Samples': 7603, 'Features': 100, 'Anomalies': 700, 'Anomalies Ratio(%)': 9.21}\n",
      "epoch : 1/5000, loss = 62.344913\n",
      "epoch : 1000/5000, loss = 1.805592\n",
      "epoch : 2000/5000, loss = 1.613194\n",
      "epoch : 3000/5000, loss = 1.366608\n",
      "epoch : 4000/5000, loss = 1.268825\n",
      "epoch : 5000/5000, loss = 1.162522\n",
      "self.error_median=0.5052, self.error_range=0.2540, self.latent_error_median_=0.0119, self.latent_error_range_=0.0117\n",
      "Model result scaling scheme:  True\n",
      "Latent dim= 16. Weight Decay = 0.000001\n",
      "Using cuda\n",
      "self.error_mu=0.5397, self.error_std=0.1930, self.latent_error_mu_=0.0183, self.latent_error_sigma_=0.0205; alpha = 1.0000\n",
      "Current experiment parameters: ('24_mnist', 0.0, 1), model: Customized, metrics: {'aucroc': 0.9983214918029018, 'aucpr': 0.9808399999077162}, fitting time: 346.59063053131104, inference time: 0.0019948482513427734\n"
     ]
    },
    {
     "name": "stderr",
     "output_type": "stream",
     "text": [
      "769it [14:43:13, 81.99s/it] "
     ]
    },
    {
     "name": "stdout",
     "output_type": "stream",
     "text": [
      "\n",
      "Model performance:\n",
      "Reconstruction AUCROC=0.8136; AUCPR=0.4082\n",
      "Deviation AUCROC=0.9999; AUCPR=0.9987\n",
      "Max(rec, dev) AUCROC=0.8136; AUCPR=0.4082\n",
      "\n",
      "Sum of squared error AUCROC=0.8180; AUCPR=0.4137\n",
      "\n",
      "Transformer selector AUCROC=1.0000; AUCPR=1.0000\n",
      "\n",
      "{'Samples': 7603, 'Features': 100, 'Anomalies': 700, 'Anomalies Ratio(%)': 9.21}\n",
      "epoch : 1/5000, loss = 63.396305\n",
      "epoch : 1000/5000, loss = 1.379118\n",
      "epoch : 2000/5000, loss = 1.617150\n",
      "epoch : 3000/5000, loss = 1.131846\n",
      "epoch : 4000/5000, loss = 1.130800\n",
      "epoch : 5000/5000, loss = 1.005705\n",
      "self.error_median=0.4620, self.error_range=0.2296, self.latent_error_median_=0.0110, self.latent_error_range_=0.0097\n",
      "Model result scaling scheme:  True\n",
      "Latent dim= 16. Weight Decay = 0.000001\n",
      "Using cuda\n",
      "self.error_mu=0.4888, self.error_std=0.1632, self.latent_error_mu_=0.0156, self.latent_error_sigma_=0.0150; alpha = 1.0000\n"
     ]
    },
    {
     "name": "stderr",
     "output_type": "stream",
     "text": [
      "770it [14:49:26, 93.33s/it]"
     ]
    },
    {
     "name": "stdout",
     "output_type": "stream",
     "text": [
      "Current experiment parameters: ('24_mnist', 0.0, 2), model: Customized, metrics: {'aucroc': 0.997967395553103, 'aucpr': 0.9701333663420327}, fitting time: 347.7432551383972, inference time: 0.001966714859008789\n",
      "\n",
      "Model performance:\n",
      "Reconstruction AUCROC=0.7962; AUCPR=0.3634\n",
      "Deviation AUCROC=0.9998; AUCPR=0.9975\n",
      "Max(rec, dev) AUCROC=0.7962; AUCPR=0.3634\n",
      "\n",
      "Sum of squared error AUCROC=0.7996; AUCPR=0.3667\n",
      "\n",
      "Transformer selector AUCROC=0.3965; AUCPR=0.1724\n",
      "\n",
      "{'Samples': 7603, 'Features': 100, 'Anomalies': 700, 'Anomalies Ratio(%)': 9.21}\n",
      "epoch : 1/5000, loss = 78.071976\n",
      "epoch : 1000/5000, loss = 1.563817\n",
      "epoch : 2000/5000, loss = 1.085253\n",
      "epoch : 3000/5000, loss = 1.104305\n",
      "epoch : 4000/5000, loss = 1.004378\n",
      "epoch : 5000/5000, loss = 0.907811\n",
      "self.error_median=0.4062, self.error_range=0.2144, self.latent_error_median_=0.0116, self.latent_error_range_=0.0101\n",
      "Model result scaling scheme:  True\n",
      "Latent dim= 16. Weight Decay = 0.000001\n",
      "Using cuda\n",
      "self.error_mu=0.4316, self.error_std=0.1599, self.latent_error_mu_=0.0169, self.latent_error_sigma_=0.0173; alpha = 1.0000\n",
      "Current experiment parameters: ('24_mnist', 0.0, 3), model: Customized, metrics: {'aucroc': 0.998875629440574, 'aucpr': 0.9874091886523098}, fitting time: 345.28264713287354, inference time: 0.002968311309814453\n"
     ]
    },
    {
     "name": "stderr",
     "output_type": "stream",
     "text": [
      "771it [14:55:36, 107.89s/it]"
     ]
    },
    {
     "name": "stdout",
     "output_type": "stream",
     "text": [
      "\n",
      "Model performance:\n",
      "Reconstruction AUCROC=0.7239; AUCPR=0.2598\n",
      "Deviation AUCROC=1.0000; AUCPR=1.0000\n",
      "Max(rec, dev) AUCROC=0.7239; AUCPR=0.2598\n",
      "\n",
      "Sum of squared error AUCROC=0.7317; AUCPR=0.2646\n",
      "\n",
      "Transformer selector AUCROC=0.9520; AUCPR=0.8806\n",
      "\n",
      "{'Samples': 10000, 'Features': 62, 'Anomalies': 1134, 'Anomalies Ratio(%)': 11.34}\n",
      "epoch : 1/5000, loss = 23.850965\n",
      "epoch : 1000/5000, loss = 1.146008\n",
      "epoch : 2000/5000, loss = 0.838574\n",
      "epoch : 3000/5000, loss = 0.689887\n",
      "epoch : 4000/5000, loss = 0.602271\n",
      "epoch : 5000/5000, loss = 0.518056\n",
      "self.error_median=0.2338, self.error_range=0.1698, self.latent_error_median_=0.0086, self.latent_error_range_=0.0076\n",
      "Model result scaling scheme:  True\n",
      "Latent dim= 16. Weight Decay = 0.000001\n",
      "Using cuda\n",
      "self.error_mu=0.2502, self.error_std=0.1044, self.latent_error_mu_=0.0120, self.latent_error_sigma_=0.0102; alpha = 1.0000\n"
     ]
    },
    {
     "name": "stderr",
     "output_type": "stream",
     "text": [
      "793it [15:01:16, 50.25s/it] "
     ]
    },
    {
     "name": "stdout",
     "output_type": "stream",
     "text": [
      "Current experiment parameters: ('5_campaign', 0.0, 1), model: Customized, metrics: {'aucroc': 0.9981457319770014, 'aucpr': 0.9850693108104456}, fitting time: 332.98744893074036, inference time: 0.001994609832763672\n",
      "\n",
      "Model performance:\n",
      "Reconstruction AUCROC=0.5812; AUCPR=0.1516\n",
      "Deviation AUCROC=1.0000; AUCPR=1.0000\n",
      "Max(rec, dev) AUCROC=0.5812; AUCPR=0.1516\n",
      "\n",
      "Sum of squared error AUCROC=0.5892; AUCPR=0.1544\n",
      "\n",
      "Transformer selector AUCROC=0.7856; AUCPR=0.7745\n",
      "\n",
      "{'Samples': 10000, 'Features': 62, 'Anomalies': 1129, 'Anomalies Ratio(%)': 11.29}\n",
      "epoch : 1/5000, loss = 20.397156\n",
      "epoch : 1000/5000, loss = 1.183258\n",
      "epoch : 2000/5000, loss = 0.839059\n",
      "epoch : 3000/5000, loss = 0.694975\n",
      "epoch : 4000/5000, loss = 0.646638\n",
      "epoch : 5000/5000, loss = 0.590639\n",
      "self.error_median=0.2603, self.error_range=0.1616, self.latent_error_median_=0.0082, self.latent_error_range_=0.0071\n",
      "Model result scaling scheme:  True\n",
      "Latent dim= 16. Weight Decay = 0.000001\n",
      "Using cuda\n",
      "self.error_mu=0.2822, self.error_std=0.1212, self.latent_error_mu_=0.0116, self.latent_error_sigma_=0.0099; alpha = 1.0000\n",
      "Current experiment parameters: ('5_campaign', 0.0, 2), model: Customized, metrics: {'aucroc': 0.9966089444494329, 'aucpr': 0.9627933255461048}, fitting time: 332.68485498428345, inference time: 0.001995086669921875\n"
     ]
    },
    {
     "name": "stderr",
     "output_type": "stream",
     "text": [
      "794it [15:06:55, 61.50s/it]"
     ]
    },
    {
     "name": "stdout",
     "output_type": "stream",
     "text": [
      "\n",
      "Model performance:\n",
      "Reconstruction AUCROC=0.6938; AUCPR=0.3076\n",
      "Deviation AUCROC=0.9995; AUCPR=0.9959\n",
      "Max(rec, dev) AUCROC=0.6938; AUCPR=0.3076\n",
      "\n",
      "Sum of squared error AUCROC=0.6993; AUCPR=0.3105\n",
      "\n",
      "Transformer selector AUCROC=1.0000; AUCPR=1.0000\n",
      "\n",
      "{'Samples': 10000, 'Features': 62, 'Anomalies': 1129, 'Anomalies Ratio(%)': 11.29}\n",
      "epoch : 1/5000, loss = 21.826643\n",
      "epoch : 1000/5000, loss = 1.026142\n",
      "epoch : 2000/5000, loss = 0.905056\n",
      "epoch : 3000/5000, loss = 0.783047\n",
      "epoch : 4000/5000, loss = 0.682387\n",
      "epoch : 5000/5000, loss = 0.569392\n",
      "self.error_median=0.2528, self.error_range=0.1796, self.latent_error_median_=0.0080, self.latent_error_range_=0.0069\n",
      "Model result scaling scheme:  True\n",
      "Latent dim= 16. Weight Decay = 0.000001\n",
      "Using cuda\n",
      "self.error_mu=0.2739, self.error_std=0.1134, self.latent_error_mu_=0.0115, self.latent_error_sigma_=0.0105; alpha = 1.0000\n"
     ]
    },
    {
     "name": "stderr",
     "output_type": "stream",
     "text": [
      "795it [15:12:34, 76.11s/it]"
     ]
    },
    {
     "name": "stdout",
     "output_type": "stream",
     "text": [
      "Current experiment parameters: ('5_campaign', 0.0, 3), model: Customized, metrics: {'aucroc': 0.9994734385791045, 'aucpr': 0.9953495324251512}, fitting time: 333.16037249565125, inference time: 0.001967191696166992\n",
      "\n",
      "Model performance:\n",
      "Reconstruction AUCROC=0.5409; AUCPR=0.1270\n",
      "Deviation AUCROC=1.0000; AUCPR=0.9998\n",
      "Max(rec, dev) AUCROC=0.5409; AUCPR=0.1270\n",
      "\n",
      "Sum of squared error AUCROC=0.5503; AUCPR=0.1293\n",
      "\n",
      "Transformer selector AUCROC=0.9955; AUCPR=0.9877\n",
      "\n"
     ]
    },
    {
     "name": "stderr",
     "output_type": "stream",
     "text": [
      "d:\\conda\\venv\\adbench\\Lib\\site-packages\\sklearn\\mixture\\_base.py:268: ConvergenceWarning: Initialization 1 did not converge. Try different init parameters, or increase max_iter, tol or check for degenerate data.\n",
      "  warnings.warn(\n"
     ]
    },
    {
     "name": "stdout",
     "output_type": "stream",
     "text": [
      "{'Samples': 10000, 'Features': 10, 'Anomalies': 97, 'Anomalies Ratio(%)': 0.97}\n",
      "epoch : 1/5000, loss = 1.136931\n",
      "epoch : 1000/5000, loss = 0.012285\n",
      "epoch : 2000/5000, loss = 0.006604\n",
      "epoch : 3000/5000, loss = 0.003760\n",
      "epoch : 4000/5000, loss = 0.005717\n",
      "epoch : 5000/5000, loss = 0.002408\n",
      "self.error_median=0.0002, self.error_range=0.0003, self.latent_error_median_=0.0004, self.latent_error_range_=0.0005\n",
      "Model result scaling scheme:  True\n",
      "Latent dim= 10. Weight Decay = 0.000001\n",
      "Using cuda\n",
      "self.error_mu=0.0003, self.error_std=0.0005, self.latent_error_mu_=0.0007, self.latent_error_sigma_=0.0018; alpha = 1.0000\n",
      "Current experiment parameters: ('10_cover', 0.0, 1), model: Customized, metrics: {'aucroc': 0.9996634129922585, 'aucpr': 0.8967245816924003}, fitting time: 341.09173226356506, inference time: 0.0019943714141845703\n"
     ]
    },
    {
     "name": "stderr",
     "output_type": "stream",
     "text": [
      "817it [15:18:21, 38.50s/it]"
     ]
    },
    {
     "name": "stdout",
     "output_type": "stream",
     "text": [
      "\n",
      "Model performance:\n",
      "Reconstruction AUCROC=0.9935; AUCPR=0.6027\n",
      "Deviation AUCROC=1.0000; AUCPR=1.0000\n",
      "Max(rec, dev) AUCROC=0.9997; AUCPR=0.9140\n",
      "\n",
      "Sum of squared error AUCROC=0.9997; AUCPR=0.8967\n",
      "\n",
      "Transformer selector AUCROC=1.0000; AUCPR=1.0000\n",
      "\n"
     ]
    },
    {
     "name": "stderr",
     "output_type": "stream",
     "text": [
      "d:\\conda\\venv\\adbench\\Lib\\site-packages\\sklearn\\mixture\\_base.py:268: ConvergenceWarning: Initialization 1 did not converge. Try different init parameters, or increase max_iter, tol or check for degenerate data.\n",
      "  warnings.warn(\n",
      "d:\\conda\\venv\\adbench\\Lib\\site-packages\\sklearn\\mixture\\_base.py:268: ConvergenceWarning: Initialization 1 did not converge. Try different init parameters, or increase max_iter, tol or check for degenerate data.\n",
      "  warnings.warn(\n"
     ]
    },
    {
     "name": "stdout",
     "output_type": "stream",
     "text": [
      "{'Samples': 10000, 'Features': 10, 'Anomalies': 116, 'Anomalies Ratio(%)': 1.16}\n",
      "epoch : 1/5000, loss = 0.817814\n",
      "epoch : 1000/5000, loss = 0.010933\n",
      "epoch : 2000/5000, loss = 0.007243\n",
      "epoch : 3000/5000, loss = 0.003006\n",
      "epoch : 4000/5000, loss = 0.001706\n",
      "epoch : 5000/5000, loss = 0.001866\n",
      "self.error_median=0.0002, self.error_range=0.0003, self.latent_error_median_=0.0003, self.latent_error_range_=0.0003\n",
      "Model result scaling scheme:  True\n",
      "Latent dim= 10. Weight Decay = 0.000001\n",
      "Using cuda\n",
      "self.error_mu=0.0003, self.error_std=0.0004, self.latent_error_mu_=0.0005, self.latent_error_sigma_=0.0021; alpha = 1.0000\n",
      "Current experiment parameters: ('10_cover', 0.0, 2), model: Customized, metrics: {'aucroc': 1.0, 'aucpr': 1.0}, fitting time: 340.2909834384918, inference time: 0.0020241737365722656\n"
     ]
    },
    {
     "name": "stderr",
     "output_type": "stream",
     "text": [
      "818it [15:24:06, 50.44s/it]"
     ]
    },
    {
     "name": "stdout",
     "output_type": "stream",
     "text": [
      "\n",
      "Model performance:\n",
      "Reconstruction AUCROC=0.9836; AUCPR=0.6250\n",
      "Deviation AUCROC=1.0000; AUCPR=1.0000\n",
      "Max(rec, dev) AUCROC=1.0000; AUCPR=1.0000\n",
      "\n",
      "Sum of squared error AUCROC=1.0000; AUCPR=1.0000\n",
      "\n",
      "Transformer selector AUCROC=1.0000; AUCPR=1.0000\n",
      "\n"
     ]
    },
    {
     "name": "stderr",
     "output_type": "stream",
     "text": [
      "d:\\conda\\venv\\adbench\\Lib\\site-packages\\sklearn\\mixture\\_base.py:268: ConvergenceWarning: Initialization 1 did not converge. Try different init parameters, or increase max_iter, tol or check for degenerate data.\n",
      "  warnings.warn(\n",
      "d:\\conda\\venv\\adbench\\Lib\\site-packages\\sklearn\\mixture\\_base.py:268: ConvergenceWarning: Initialization 1 did not converge. Try different init parameters, or increase max_iter, tol or check for degenerate data.\n",
      "  warnings.warn(\n"
     ]
    },
    {
     "name": "stdout",
     "output_type": "stream",
     "text": [
      "{'Samples': 10000, 'Features': 10, 'Anomalies': 95, 'Anomalies Ratio(%)': 0.95}\n",
      "epoch : 1/5000, loss = 0.788981\n",
      "epoch : 1000/5000, loss = 0.008176\n",
      "epoch : 2000/5000, loss = 0.001902\n",
      "epoch : 3000/5000, loss = 0.001681\n",
      "epoch : 4000/5000, loss = 0.001286\n",
      "epoch : 5000/5000, loss = 0.001232\n",
      "self.error_median=0.0002, self.error_range=0.0003, self.latent_error_median_=0.0002, self.latent_error_range_=0.0002\n",
      "Model result scaling scheme:  True\n",
      "Latent dim= 10. Weight Decay = 0.000001\n",
      "Using cuda\n",
      "self.error_mu=0.0003, self.error_std=0.0003, self.latent_error_mu_=0.0003, self.latent_error_sigma_=0.0012; alpha = 1.0000\n",
      "Current experiment parameters: ('10_cover', 0.0, 3), model: Customized, metrics: {'aucroc': 1.0, 'aucpr': 0.9999999999999999}, fitting time: 341.82224798202515, inference time: 0.0019941329956054688\n"
     ]
    },
    {
     "name": "stderr",
     "output_type": "stream",
     "text": [
      "819it [15:29:54, 66.08s/it]"
     ]
    },
    {
     "name": "stdout",
     "output_type": "stream",
     "text": [
      "\n",
      "Model performance:\n",
      "Reconstruction AUCROC=0.9728; AUCPR=0.4734\n",
      "Deviation AUCROC=1.0000; AUCPR=1.0000\n",
      "Max(rec, dev) AUCROC=1.0000; AUCPR=1.0000\n",
      "\n",
      "Sum of squared error AUCROC=1.0000; AUCPR=1.0000\n",
      "\n",
      "Transformer selector AUCROC=0.7286; AUCPR=0.0262\n",
      "\n",
      "{'Samples': 10000, 'Features': 3, 'Anomalies': 4, 'Anomalies Ratio(%)': 0.04}\n",
      "epoch : 1/5000, loss = 0.726767\n",
      "epoch : 1000/5000, loss = 0.001239\n",
      "epoch : 2000/5000, loss = 0.000614\n",
      "epoch : 3000/5000, loss = 0.000373\n",
      "epoch : 4000/5000, loss = 0.000289\n",
      "epoch : 5000/5000, loss = 0.000616\n",
      "self.error_median=0.0003, self.error_range=0.0002, self.latent_error_median_=0.0001, self.latent_error_range_=0.0001\n",
      "Model result scaling scheme:  True\n",
      "Latent dim= 3. Weight Decay = 0.000001\n",
      "Using cuda\n",
      "self.error_mu=0.0003, self.error_std=0.0001, self.latent_error_mu_=0.0001, self.latent_error_sigma_=0.0002; alpha = 1.0000\n",
      "Current experiment parameters: ('34_smtp', 0.0, 1), model: Customized, metrics: {'aucroc': 1.0, 'aucpr': 1.0}, fitting time: 352.2282872200012, inference time: 0.0019953250885009766\n"
     ]
    },
    {
     "name": "stderr",
     "output_type": "stream",
     "text": [
      "841it [15:35:47, 34.91s/it]"
     ]
    },
    {
     "name": "stdout",
     "output_type": "stream",
     "text": [
      "\n",
      "Model performance:\n",
      "Reconstruction AUCROC=1.0000; AUCPR=1.0000\n",
      "Deviation AUCROC=1.0000; AUCPR=1.0000\n",
      "Max(rec, dev) AUCROC=1.0000; AUCPR=1.0000\n",
      "\n",
      "Sum of squared error AUCROC=1.0000; AUCPR=1.0000\n",
      "\n",
      "Transformer selector AUCROC=0.4815; AUCPR=0.0006\n",
      "\n",
      "{'Samples': 10000, 'Features': 3, 'Anomalies': 4, 'Anomalies Ratio(%)': 0.04}\n",
      "epoch : 1/5000, loss = 0.182658\n",
      "epoch : 1000/5000, loss = 0.000645\n",
      "epoch : 2000/5000, loss = 0.000344\n",
      "epoch : 3000/5000, loss = 0.000211\n",
      "epoch : 4000/5000, loss = 0.000189\n",
      "epoch : 5000/5000, loss = 0.000090\n",
      "self.error_median=0.0000, self.error_range=0.0000, self.latent_error_median_=0.0000, self.latent_error_range_=0.0000\n",
      "Model result scaling scheme:  True\n",
      "Latent dim= 3. Weight Decay = 0.000001\n",
      "Using cuda\n",
      "self.error_mu=0.0000, self.error_std=0.0000, self.latent_error_mu_=0.0000, self.latent_error_sigma_=0.0002; alpha = 1.0000\n",
      "Current experiment parameters: ('34_smtp', 0.0, 2), model: Customized, metrics: {'aucroc': 0.9983327775925308, 'aucpr': 0.16666666666666666}, fitting time: 353.2673637866974, inference time: 0.0020024776458740234\n"
     ]
    },
    {
     "name": "stderr",
     "output_type": "stream",
     "text": [
      "842it [15:41:42, 47.35s/it]"
     ]
    },
    {
     "name": "stdout",
     "output_type": "stream",
     "text": [
      "\n",
      "Model performance:\n",
      "Reconstruction AUCROC=0.9963; AUCPR=0.0833\n",
      "Deviation AUCROC=1.0000; AUCPR=1.0000\n",
      "Max(rec, dev) AUCROC=1.0000; AUCPR=1.0000\n",
      "\n",
      "Sum of squared error AUCROC=1.0000; AUCPR=1.0000\n",
      "\n",
      "Transformer selector AUCROC=0.0000; AUCPR=0.0003\n",
      "\n",
      "{'Samples': 10000, 'Features': 3, 'Anomalies': 5, 'Anomalies Ratio(%)': 0.05}\n",
      "epoch : 1/5000, loss = 0.644033\n",
      "epoch : 1000/5000, loss = 0.003868\n",
      "epoch : 2000/5000, loss = 0.000695\n",
      "epoch : 3000/5000, loss = 0.000450\n",
      "epoch : 4000/5000, loss = 0.000312\n",
      "epoch : 5000/5000, loss = 0.000238\n",
      "self.error_median=0.0000, self.error_range=0.0000, self.latent_error_median_=0.0001, self.latent_error_range_=0.0001\n",
      "Model result scaling scheme:  True\n",
      "Latent dim= 3. Weight Decay = 0.000001\n",
      "Using cuda\n",
      "self.error_mu=0.0000, self.error_std=0.0002, self.latent_error_mu_=0.0001, self.latent_error_sigma_=0.0002; alpha = 1.0000\n",
      "Current experiment parameters: ('34_smtp', 0.0, 3), model: Customized, metrics: {'aucroc': 0.9991661107404937, 'aucpr': 0.6428571428571428}, fitting time: 358.06508588790894, inference time: 0.0019943714141845703\n"
     ]
    },
    {
     "name": "stderr",
     "output_type": "stream",
     "text": [
      "843it [15:47:42, 63.81s/it]"
     ]
    },
    {
     "name": "stdout",
     "output_type": "stream",
     "text": [
      "\n",
      "Model performance:\n",
      "Reconstruction AUCROC=0.9983; AUCPR=0.5833\n",
      "Deviation AUCROC=1.0000; AUCPR=1.0000\n",
      "Max(rec, dev) AUCROC=1.0000; AUCPR=1.0000\n",
      "\n",
      "Sum of squared error AUCROC=1.0000; AUCPR=1.0000\n",
      "\n",
      "Transformer selector AUCROC=1.0000; AUCPR=1.0000\n",
      "\n",
      "{'Samples': 10000, 'Features': 3, 'Anomalies': 2081, 'Anomalies Ratio(%)': 20.81}\n",
      "epoch : 1/5000, loss = 2.275610\n",
      "epoch : 1000/5000, loss = 0.004688\n",
      "epoch : 2000/5000, loss = 0.001992\n",
      "epoch : 3000/5000, loss = 0.001153\n",
      "epoch : 4000/5000, loss = 0.000800\n",
      "epoch : 5000/5000, loss = 0.000592\n",
      "self.error_median=0.0000, self.error_range=0.0000, self.latent_error_median_=0.0001, self.latent_error_range_=0.0002\n",
      "Model result scaling scheme:  True\n",
      "Latent dim= 3. Weight Decay = 0.000001\n",
      "Using cuda\n",
      "self.error_mu=0.0000, self.error_std=0.0000, self.latent_error_mu_=0.0003, self.latent_error_sigma_=0.0005; alpha = 1.0000\n",
      "Current experiment parameters: ('33_skin', 0.0, 1), model: Customized, metrics: {'aucroc': 0.9531762604679271, 'aucpr': 0.798993611096586}, fitting time: 357.0976047515869, inference time: 0.0019943714141845703\n"
     ]
    },
    {
     "name": "stderr",
     "output_type": "stream",
     "text": [
      "865it [15:53:41, 34.20s/it]"
     ]
    },
    {
     "name": "stdout",
     "output_type": "stream",
     "text": [
      "\n",
      "Model performance:\n",
      "Reconstruction AUCROC=0.8384; AUCPR=0.4839\n",
      "Deviation AUCROC=0.9611; AUCPR=0.9001\n",
      "Max(rec, dev) AUCROC=0.9611; AUCPR=0.9001\n",
      "\n",
      "Sum of squared error AUCROC=0.9612; AUCPR=0.9002\n",
      "\n",
      "Transformer selector AUCROC=0.3553; AUCPR=0.4140\n",
      "\n",
      "{'Samples': 10000, 'Features': 3, 'Anomalies': 2082, 'Anomalies Ratio(%)': 20.82}\n",
      "epoch : 1/5000, loss = 1.512271\n",
      "epoch : 1000/5000, loss = 0.006432\n",
      "epoch : 2000/5000, loss = 0.001432\n",
      "epoch : 3000/5000, loss = 0.003502\n",
      "epoch : 4000/5000, loss = 0.000711\n",
      "epoch : 5000/5000, loss = 0.000449\n",
      "self.error_median=0.0000, self.error_range=0.0000, self.latent_error_median_=0.0001, self.latent_error_range_=0.0002\n",
      "Model result scaling scheme:  True\n",
      "Latent dim= 3. Weight Decay = 0.000001\n",
      "Using cuda\n",
      "self.error_mu=0.0000, self.error_std=0.0000, self.latent_error_mu_=0.0002, self.latent_error_sigma_=0.0005; alpha = 1.0000\n",
      "Current experiment parameters: ('33_skin', 0.0, 2), model: Customized, metrics: {'aucroc': 0.9263056842105264, 'aucpr': 0.714644498848258}, fitting time: 356.39399218559265, inference time: 0.001994609832763672\n"
     ]
    },
    {
     "name": "stderr",
     "output_type": "stream",
     "text": [
      "866it [15:59:39, 46.81s/it]"
     ]
    },
    {
     "name": "stdout",
     "output_type": "stream",
     "text": [
      "\n",
      "Model performance:\n",
      "Reconstruction AUCROC=0.7669; AUCPR=0.4088\n",
      "Deviation AUCROC=0.9388; AUCPR=0.8702\n",
      "Max(rec, dev) AUCROC=0.9391; AUCPR=0.8703\n",
      "\n",
      "Sum of squared error AUCROC=0.9391; AUCPR=0.8687\n",
      "\n",
      "Transformer selector AUCROC=0.5718; AUCPR=0.4288\n",
      "\n",
      "{'Samples': 10000, 'Features': 3, 'Anomalies': 2066, 'Anomalies Ratio(%)': 20.66}\n",
      "epoch : 1/5000, loss = 1.754215\n",
      "epoch : 1000/5000, loss = 0.009208\n",
      "epoch : 2000/5000, loss = 0.004793\n",
      "epoch : 3000/5000, loss = 0.000994\n",
      "epoch : 4000/5000, loss = 0.000651\n",
      "epoch : 5000/5000, loss = 0.000869\n",
      "self.error_median=0.0002, self.error_range=0.0001, self.latent_error_median_=0.0001, self.latent_error_range_=0.0003\n",
      "Model result scaling scheme:  True\n",
      "Latent dim= 3. Weight Decay = 0.000001\n",
      "Using cuda\n",
      "self.error_mu=0.0002, self.error_std=0.0001, self.latent_error_mu_=0.0002, self.latent_error_sigma_=0.0004; alpha = 1.0000\n",
      "Current experiment parameters: ('33_skin', 0.0, 3), model: Customized, metrics: {'aucroc': 0.9330841691515318, 'aucpr': 0.7716334270412143}, fitting time: 356.13226771354675, inference time: 0.0019943714141845703\n"
     ]
    },
    {
     "name": "stderr",
     "output_type": "stream",
     "text": [
      "867it [16:05:37, 63.17s/it]"
     ]
    },
    {
     "name": "stdout",
     "output_type": "stream",
     "text": [
      "\n",
      "Model performance:\n",
      "Reconstruction AUCROC=0.6948; AUCPR=0.5497\n",
      "Deviation AUCROC=0.9481; AUCPR=0.8731\n",
      "Max(rec, dev) AUCROC=0.9525; AUCPR=0.8759\n",
      "\n",
      "Sum of squared error AUCROC=0.9600; AUCPR=0.8818\n",
      "\n",
      "Transformer selector AUCROC=0.9292; AUCPR=0.8009\n",
      "\n",
      "{'Samples': 10000, 'Features': 9, 'Anomalies': 669, 'Anomalies Ratio(%)': 6.69}\n",
      "epoch : 1/5000, loss = 3.177054\n",
      "epoch : 1000/5000, loss = 0.025284\n",
      "epoch : 2000/5000, loss = 0.024362\n",
      "epoch : 3000/5000, loss = 0.004805\n",
      "epoch : 4000/5000, loss = 0.005297\n",
      "epoch : 5000/5000, loss = 0.002440\n",
      "self.error_median=0.0004, self.error_range=0.0008, self.latent_error_median_=0.0002, self.latent_error_range_=0.0007\n",
      "Model result scaling scheme:  True\n",
      "Latent dim= 9. Weight Decay = 0.000001\n",
      "Using cuda\n",
      "self.error_mu=0.0007, self.error_std=0.0022, self.latent_error_mu_=0.0012, self.latent_error_sigma_=0.0042; alpha = 1.0000\n",
      "Current experiment parameters: ('32_shuttle', 0.0, 1), model: Customized, metrics: {'aucroc': 0.9977781688200654, 'aucpr': 0.9158778685508181}, fitting time: 343.05001425743103, inference time: 0.001983165740966797\n"
     ]
    },
    {
     "name": "stderr",
     "output_type": "stream",
     "text": [
      "889it [16:11:21, 33.54s/it]"
     ]
    },
    {
     "name": "stdout",
     "output_type": "stream",
     "text": [
      "\n",
      "Model performance:\n",
      "Reconstruction AUCROC=0.8459; AUCPR=0.3242\n",
      "Deviation AUCROC=0.9993; AUCPR=0.9563\n",
      "Max(rec, dev) AUCROC=0.9979; AUCPR=0.9176\n",
      "\n",
      "Sum of squared error AUCROC=0.9979; AUCPR=0.9163\n",
      "\n",
      "Transformer selector AUCROC=0.0000; AUCPR=0.0344\n",
      "\n",
      "{'Samples': 10000, 'Features': 9, 'Anomalies': 697, 'Anomalies Ratio(%)': 6.97}\n",
      "epoch : 1/5000, loss = 2.830464\n",
      "epoch : 1000/5000, loss = 0.010028\n",
      "epoch : 2000/5000, loss = 0.017799\n",
      "epoch : 3000/5000, loss = 0.003625\n",
      "epoch : 4000/5000, loss = 0.002348\n",
      "epoch : 5000/5000, loss = 0.001657\n",
      "self.error_median=0.0001, self.error_range=0.0001, self.latent_error_median_=0.0001, self.latent_error_range_=0.0003\n",
      "Model result scaling scheme:  True\n",
      "Latent dim= 9. Weight Decay = 0.000001\n",
      "Using cuda\n",
      "self.error_mu=0.0003, self.error_std=0.0099, self.latent_error_mu_=0.0005, self.latent_error_sigma_=0.0015; alpha = 1.0000\n",
      "Current experiment parameters: ('32_shuttle', 0.0, 2), model: Customized, metrics: {'aucroc': 0.9910854952435975, 'aucpr': 0.7596472162208461}, fitting time: 340.66655921936035, inference time: 0.0009958744049072266\n"
     ]
    },
    {
     "name": "stderr",
     "output_type": "stream",
     "text": [
      "890it [16:17:03, 45.54s/it]"
     ]
    },
    {
     "name": "stdout",
     "output_type": "stream",
     "text": [
      "\n",
      "Model performance:\n",
      "Reconstruction AUCROC=0.9614; AUCPR=0.5030\n",
      "Deviation AUCROC=0.9992; AUCPR=0.9667\n",
      "Max(rec, dev) AUCROC=0.9974; AUCPR=0.9038\n",
      "\n",
      "Sum of squared error AUCROC=0.9957; AUCPR=0.8634\n",
      "\n",
      "Transformer selector AUCROC=0.9932; AUCPR=0.9661\n",
      "\n",
      "{'Samples': 10000, 'Features': 9, 'Anomalies': 714, 'Anomalies Ratio(%)': 7.14}\n",
      "epoch : 1/5000, loss = 3.970475\n",
      "epoch : 1000/5000, loss = 0.018635\n",
      "epoch : 2000/5000, loss = 0.014378\n",
      "epoch : 3000/5000, loss = 0.004006\n",
      "epoch : 4000/5000, loss = 0.002539\n",
      "epoch : 5000/5000, loss = 0.001081\n",
      "self.error_median=0.0000, self.error_range=0.0000, self.latent_error_median_=0.0001, self.latent_error_range_=0.0002\n",
      "Model result scaling scheme:  True\n",
      "Latent dim= 9. Weight Decay = 0.000001\n",
      "Using cuda\n",
      "self.error_mu=0.0001, self.error_std=0.0019, self.latent_error_mu_=0.0005, self.latent_error_sigma_=0.0019; alpha = 1.0000\n",
      "Current experiment parameters: ('32_shuttle', 0.0, 3), model: Customized, metrics: {'aucroc': 0.9786834707583311, 'aucpr': 0.5839591885554356}, fitting time: 342.4361069202423, inference time: 0.0019981861114501953\n"
     ]
    },
    {
     "name": "stderr",
     "output_type": "stream",
     "text": [
      "891it [16:22:47, 61.29s/it]"
     ]
    },
    {
     "name": "stdout",
     "output_type": "stream",
     "text": [
      "\n",
      "Model performance:\n",
      "Reconstruction AUCROC=0.9198; AUCPR=0.3461\n",
      "Deviation AUCROC=0.9923; AUCPR=0.7781\n",
      "Max(rec, dev) AUCROC=0.9909; AUCPR=0.7509\n",
      "\n",
      "Sum of squared error AUCROC=0.9905; AUCPR=0.7419\n",
      "\n",
      "Transformer selector AUCROC=0.4435; AUCPR=0.3443\n",
      "\n",
      "{'Samples': 10000, 'Features': 39, 'Anomalies': 222, 'Anomalies Ratio(%)': 2.22}\n",
      "epoch : 1/5000, loss = 7.340037\n",
      "epoch : 1000/5000, loss = 0.283543\n",
      "epoch : 2000/5000, loss = 0.251168\n",
      "epoch : 3000/5000, loss = 0.211593\n",
      "epoch : 4000/5000, loss = 0.169456\n",
      "epoch : 5000/5000, loss = 0.164893\n",
      "self.error_median=0.0635, self.error_range=0.0419, self.latent_error_median_=0.0035, self.latent_error_range_=0.0026\n",
      "Model result scaling scheme:  True\n",
      "Latent dim= 16. Weight Decay = 0.000001\n",
      "Using cuda\n",
      "self.error_mu=0.0691, self.error_std=0.0318, self.latent_error_mu_=0.0053, self.latent_error_sigma_=0.0104; alpha = 1.0000\n",
      "Current experiment parameters: ('8_celeba', 0.0, 1), model: Customized, metrics: {'aucroc': 1.0, 'aucpr': 1.0}, fitting time: 335.12078070640564, inference time: 0.0020020008087158203\n"
     ]
    },
    {
     "name": "stderr",
     "output_type": "stream",
     "text": [
      "913it [16:28:30, 32.80s/it]"
     ]
    },
    {
     "name": "stdout",
     "output_type": "stream",
     "text": [
      "\n",
      "Model performance:\n",
      "Reconstruction AUCROC=0.8662; AUCPR=0.3837\n",
      "Deviation AUCROC=1.0000; AUCPR=1.0000\n",
      "Max(rec, dev) AUCROC=0.8864; AUCPR=0.3854\n",
      "\n",
      "Sum of squared error AUCROC=0.9579; AUCPR=0.5010\n",
      "\n",
      "Transformer selector AUCROC=1.0000; AUCPR=1.0000\n",
      "\n",
      "{'Samples': 10000, 'Features': 39, 'Anomalies': 238, 'Anomalies Ratio(%)': 2.38}\n",
      "epoch : 1/5000, loss = 8.269262\n",
      "epoch : 1000/5000, loss = 0.285494\n",
      "epoch : 2000/5000, loss = 0.215440\n",
      "epoch : 3000/5000, loss = 0.150862\n",
      "epoch : 4000/5000, loss = 0.133297\n",
      "epoch : 5000/5000, loss = 0.104627\n",
      "self.error_median=0.0462, self.error_range=0.0327, self.latent_error_median_=0.0029, self.latent_error_range_=0.0021\n",
      "Model result scaling scheme:  True\n",
      "Latent dim= 16. Weight Decay = 0.000001\n",
      "Using cuda\n",
      "self.error_mu=0.0501, self.error_std=0.0219, self.latent_error_mu_=0.0039, self.latent_error_sigma_=0.0062; alpha = 1.0000\n"
     ]
    },
    {
     "name": "stderr",
     "output_type": "stream",
     "text": [
      "914it [16:34:11, 44.80s/it]"
     ]
    },
    {
     "name": "stdout",
     "output_type": "stream",
     "text": [
      "Current experiment parameters: ('8_celeba', 0.0, 2), model: Customized, metrics: {'aucroc': 1.0, 'aucpr': 1.0}, fitting time: 334.4735839366913, inference time: 0.001993894577026367\n",
      "\n",
      "Model performance:\n",
      "Reconstruction AUCROC=0.7066; AUCPR=0.1395\n",
      "Deviation AUCROC=1.0000; AUCPR=1.0000\n",
      "Max(rec, dev) AUCROC=0.7276; AUCPR=0.1404\n",
      "\n",
      "Sum of squared error AUCROC=0.8509; AUCPR=0.1878\n",
      "\n",
      "Transformer selector AUCROC=0.0000; AUCPR=0.0121\n",
      "\n",
      "{'Samples': 10000, 'Features': 39, 'Anomalies': 216, 'Anomalies Ratio(%)': 2.16}\n",
      "epoch : 1/5000, loss = 4.785298\n",
      "epoch : 1000/5000, loss = 0.251251\n",
      "epoch : 2000/5000, loss = 0.204425\n",
      "epoch : 3000/5000, loss = 0.194642\n",
      "epoch : 4000/5000, loss = 0.157342\n",
      "epoch : 5000/5000, loss = 0.156516\n",
      "self.error_median=0.0618, self.error_range=0.0410, self.latent_error_median_=0.0034, self.latent_error_range_=0.0028\n",
      "Model result scaling scheme:  True\n",
      "Latent dim= 16. Weight Decay = 0.000001\n",
      "Using cuda\n",
      "self.error_mu=0.0664, self.error_std=0.0276, self.latent_error_mu_=0.0055, self.latent_error_sigma_=0.0123; alpha = 1.0000\n",
      "Current experiment parameters: ('8_celeba', 0.0, 3), model: Customized, metrics: {'aucroc': 1.0, 'aucpr': 1.0}, fitting time: 334.7159547805786, inference time: 0.001954317092895508\n"
     ]
    },
    {
     "name": "stderr",
     "output_type": "stream",
     "text": [
      "915it [16:39:51, 60.34s/it]"
     ]
    },
    {
     "name": "stdout",
     "output_type": "stream",
     "text": [
      "\n",
      "Model performance:\n",
      "Reconstruction AUCROC=0.7640; AUCPR=0.2136\n",
      "Deviation AUCROC=1.0000; AUCPR=1.0000\n",
      "Max(rec, dev) AUCROC=0.8688; AUCPR=0.2293\n",
      "\n",
      "Sum of squared error AUCROC=0.9500; AUCPR=0.4097\n",
      "\n",
      "Transformer selector AUCROC=1.0000; AUCPR=1.0000\n",
      "\n",
      "{'Samples': 10000, 'Features': 6, 'Anomalies': 230, 'Anomalies Ratio(%)': 2.3}\n",
      "epoch : 1/5000, loss = 1.240974\n",
      "epoch : 1000/5000, loss = 0.009553\n",
      "epoch : 2000/5000, loss = 0.007925\n",
      "epoch : 3000/5000, loss = 0.003669\n",
      "epoch : 4000/5000, loss = 0.002409\n",
      "epoch : 5000/5000, loss = 0.004177\n",
      "self.error_median=0.0013, self.error_range=0.0011, self.latent_error_median_=0.0001, self.latent_error_range_=0.0002\n",
      "Model result scaling scheme:  True\n",
      "Latent dim= 6. Weight Decay = 0.000001\n",
      "Using cuda\n",
      "self.error_mu=0.0016, self.error_std=0.0013, self.latent_error_mu_=0.0003, self.latent_error_sigma_=0.0007; alpha = 1.0000\n",
      "Current experiment parameters: ('23_mammography', 0.0, 1), model: Customized, metrics: {'aucroc': 0.9928994902071311, 'aucpr': 0.7619540402278249}, fitting time: 342.70920515060425, inference time: 0.0019965171813964844\n"
     ]
    },
    {
     "name": "stderr",
     "output_type": "stream",
     "text": [
      "937it [16:45:36, 32.49s/it]"
     ]
    },
    {
     "name": "stdout",
     "output_type": "stream",
     "text": [
      "\n",
      "Model performance:\n",
      "Reconstruction AUCROC=0.4201; AUCPR=0.0842\n",
      "Deviation AUCROC=0.9983; AUCPR=0.9132\n",
      "Max(rec, dev) AUCROC=0.8476; AUCPR=0.2031\n",
      "\n",
      "Sum of squared error AUCROC=0.8693; AUCPR=0.2535\n",
      "\n",
      "Transformer selector AUCROC=0.4057; AUCPR=0.4061\n",
      "\n",
      "{'Samples': 10000, 'Features': 6, 'Anomalies': 241, 'Anomalies Ratio(%)': 2.41}\n",
      "epoch : 1/5000, loss = 1.370376\n",
      "epoch : 1000/5000, loss = 0.008234\n",
      "epoch : 2000/5000, loss = 0.002219\n",
      "epoch : 3000/5000, loss = 0.003250\n",
      "epoch : 4000/5000, loss = 0.001208\n",
      "epoch : 5000/5000, loss = 0.001153\n",
      "self.error_median=0.0003, self.error_range=0.0002, self.latent_error_median_=0.0001, self.latent_error_range_=0.0002\n",
      "Model result scaling scheme:  True\n",
      "Latent dim= 6. Weight Decay = 0.000001\n",
      "Using cuda\n",
      "self.error_mu=0.0003, self.error_std=0.0001, self.latent_error_mu_=0.0003, self.latent_error_sigma_=0.0006; alpha = 1.0000\n",
      "Current experiment parameters: ('23_mammography', 0.0, 2), model: Customized, metrics: {'aucroc': 0.9936057984213722, 'aucpr': 0.8071900945393358}, fitting time: 342.835839509964, inference time: 0.001994609832763672\n"
     ]
    },
    {
     "name": "stderr",
     "output_type": "stream",
     "text": [
      "938it [16:51:21, 44.65s/it]"
     ]
    },
    {
     "name": "stdout",
     "output_type": "stream",
     "text": [
      "\n",
      "Model performance:\n",
      "Reconstruction AUCROC=0.7189; AUCPR=0.4821\n",
      "Deviation AUCROC=0.9976; AUCPR=0.8992\n",
      "Max(rec, dev) AUCROC=0.9972; AUCPR=0.8667\n",
      "\n",
      "Sum of squared error AUCROC=0.9968; AUCPR=0.8566\n",
      "\n",
      "Transformer selector AUCROC=0.2918; AUCPR=0.0161\n",
      "\n",
      "{'Samples': 10000, 'Features': 6, 'Anomalies': 227, 'Anomalies Ratio(%)': 2.27}\n",
      "epoch : 1/5000, loss = 0.978282\n",
      "epoch : 1000/5000, loss = 0.006067\n",
      "epoch : 2000/5000, loss = 0.003131\n",
      "epoch : 3000/5000, loss = 0.001806\n",
      "epoch : 4000/5000, loss = 0.000931\n",
      "epoch : 5000/5000, loss = 0.000752\n",
      "self.error_median=0.0000, self.error_range=0.0000, self.latent_error_median_=0.0001, self.latent_error_range_=0.0003\n",
      "Model result scaling scheme:  True\n",
      "Latent dim= 6. Weight Decay = 0.000001\n",
      "Using cuda\n",
      "self.error_mu=0.0000, self.error_std=0.0006, self.latent_error_mu_=0.0003, self.latent_error_sigma_=0.0008; alpha = 1.0000\n"
     ]
    },
    {
     "name": "stderr",
     "output_type": "stream",
     "text": [
      "939it [16:57:06, 60.46s/it]"
     ]
    },
    {
     "name": "stdout",
     "output_type": "stream",
     "text": [
      "Current experiment parameters: ('23_mammography', 0.0, 3), model: Customized, metrics: {'aucroc': 0.9683913811090603, 'aucpr': 0.5191627979948517}, fitting time: 342.64982509613037, inference time: 0.001970529556274414\n",
      "\n",
      "Model performance:\n",
      "Reconstruction AUCROC=0.7625; AUCPR=0.3458\n",
      "Deviation AUCROC=0.9921; AUCPR=0.7386\n",
      "Max(rec, dev) AUCROC=0.9921; AUCPR=0.7386\n",
      "\n",
      "Sum of squared error AUCROC=0.9918; AUCPR=0.7372\n",
      "\n",
      "Transformer selector AUCROC=0.4412; AUCPR=0.4504\n",
      "\n",
      "{'Samples': 10000, 'Features': 10, 'Anomalies': 3548, 'Anomalies Ratio(%)': 35.48}\n",
      "epoch : 1/5000, loss = 4.393422\n",
      "epoch : 1000/5000, loss = 0.059199\n",
      "epoch : 2000/5000, loss = 0.020956\n",
      "epoch : 3000/5000, loss = 0.012301\n",
      "epoch : 4000/5000, loss = 0.010518\n",
      "epoch : 5000/5000, loss = 0.007505\n",
      "self.error_median=0.0012, self.error_range=0.0022, self.latent_error_median_=0.0008, self.latent_error_range_=0.0028\n",
      "Model result scaling scheme:  True\n",
      "Latent dim= 10. Weight Decay = 0.000001\n",
      "Using cuda\n",
      "self.error_mu=0.0019, self.error_std=0.0021, self.latent_error_mu_=0.0019, self.latent_error_sigma_=0.0024; alpha = 1.0000\n",
      "Current experiment parameters: ('22_magic.gamma', 0.0, 1), model: Customized, metrics: {'aucroc': 0.8634611127508856, 'aucpr': 0.7210292265187255}, fitting time: 341.84942078590393, inference time: 0.001993894577026367\n"
     ]
    },
    {
     "name": "stderr",
     "output_type": "stream",
     "text": [
      "961it [17:02:49, 32.51s/it]"
     ]
    },
    {
     "name": "stdout",
     "output_type": "stream",
     "text": [
      "\n",
      "Model performance:\n",
      "Reconstruction AUCROC=0.5802; AUCPR=0.4079\n",
      "Deviation AUCROC=0.9903; AUCPR=0.9805\n",
      "Max(rec, dev) AUCROC=0.8603; AUCPR=0.7069\n",
      "\n",
      "Sum of squared error AUCROC=0.8742; AUCPR=0.7347\n",
      "\n",
      "Transformer selector AUCROC=0.5037; AUCPR=0.5599\n",
      "\n",
      "{'Samples': 10000, 'Features': 10, 'Anomalies': 3533, 'Anomalies Ratio(%)': 35.33}\n",
      "epoch : 1/5000, loss = 3.874166\n",
      "epoch : 1000/5000, loss = 0.053718\n",
      "epoch : 2000/5000, loss = 0.021367\n",
      "epoch : 3000/5000, loss = 0.009878\n",
      "epoch : 4000/5000, loss = 0.008945\n",
      "epoch : 5000/5000, loss = 0.004280\n",
      "self.error_median=0.0006, self.error_range=0.0011, self.latent_error_median_=0.0005, self.latent_error_range_=0.0016\n",
      "Model result scaling scheme:  True\n",
      "Latent dim= 10. Weight Decay = 0.000001\n",
      "Using cuda\n",
      "self.error_mu=0.0010, self.error_std=0.0014, self.latent_error_mu_=0.0011, self.latent_error_sigma_=0.0013; alpha = 1.0000\n",
      "Current experiment parameters: ('22_magic.gamma', 0.0, 2), model: Customized, metrics: {'aucroc': 0.8476429682941061, 'aucpr': 0.6582309901546937}, fitting time: 343.00350880622864, inference time: 0.0029914379119873047\n"
     ]
    },
    {
     "name": "stderr",
     "output_type": "stream",
     "text": [
      "962it [17:08:34, 44.65s/it]"
     ]
    },
    {
     "name": "stdout",
     "output_type": "stream",
     "text": [
      "\n",
      "Model performance:\n",
      "Reconstruction AUCROC=0.5594; AUCPR=0.3958\n",
      "Deviation AUCROC=0.9785; AUCPR=0.9443\n",
      "Max(rec, dev) AUCROC=0.8830; AUCPR=0.7128\n",
      "\n",
      "Sum of squared error AUCROC=0.8871; AUCPR=0.7210\n",
      "\n",
      "Transformer selector AUCROC=0.4233; AUCPR=0.4371\n",
      "\n",
      "{'Samples': 10000, 'Features': 10, 'Anomalies': 3500, 'Anomalies Ratio(%)': 35.0}\n",
      "epoch : 1/5000, loss = 4.049187\n",
      "epoch : 1000/5000, loss = 0.030650\n",
      "epoch : 2000/5000, loss = 0.019645\n",
      "epoch : 3000/5000, loss = 0.013632\n",
      "epoch : 4000/5000, loss = 0.009740\n",
      "epoch : 5000/5000, loss = 0.007139\n",
      "self.error_median=0.0015, self.error_range=0.0013, self.latent_error_median_=0.0008, self.latent_error_range_=0.0018\n",
      "Model result scaling scheme:  True\n",
      "Latent dim= 10. Weight Decay = 0.000001\n",
      "Using cuda\n",
      "self.error_mu=0.0019, self.error_std=0.0011, self.latent_error_mu_=0.0015, self.latent_error_sigma_=0.0017; alpha = 1.0000\n",
      "Current experiment parameters: ('22_magic.gamma', 0.0, 3), model: Customized, metrics: {'aucroc': 0.8574241758241758, 'aucpr': 0.7460130397192394}, fitting time: 343.59340143203735, inference time: 0.0019943714141845703\n"
     ]
    },
    {
     "name": "stderr",
     "output_type": "stream",
     "text": [
      "963it [17:14:20, 60.51s/it]"
     ]
    },
    {
     "name": "stdout",
     "output_type": "stream",
     "text": [
      "\n",
      "Model performance:\n",
      "Reconstruction AUCROC=0.6198; AUCPR=0.4927\n",
      "Deviation AUCROC=0.9662; AUCPR=0.9244\n",
      "Max(rec, dev) AUCROC=0.7976; AUCPR=0.6905\n",
      "\n",
      "Sum of squared error AUCROC=0.8577; AUCPR=0.7529\n",
      "\n",
      "Transformer selector AUCROC=0.5852; AUCPR=0.4954\n",
      "\n",
      "{'Samples': 10000, 'Features': 27, 'Anomalies': 315, 'Anomalies Ratio(%)': 3.15}\n",
      "epoch : 1/5000, loss = 7.702761\n",
      "epoch : 1000/5000, loss = 0.195676\n",
      "epoch : 2000/5000, loss = 0.099684\n",
      "epoch : 3000/5000, loss = 0.078096\n",
      "epoch : 4000/5000, loss = 0.052431\n",
      "epoch : 5000/5000, loss = 0.049471\n",
      "self.error_median=0.0091, self.error_range=0.0212, self.latent_error_median_=0.0016, self.latent_error_range_=0.0021\n",
      "Model result scaling scheme:  True\n",
      "Latent dim= 16. Weight Decay = 0.000001\n",
      "Using cuda\n",
      "self.error_mu=0.0212, self.error_std=0.0343, self.latent_error_mu_=0.0025, self.latent_error_sigma_=0.0033; alpha = 1.0000\n"
     ]
    },
    {
     "name": "stderr",
     "output_type": "stream",
     "text": [
      "985it [17:20:09, 32.68s/it]"
     ]
    },
    {
     "name": "stdout",
     "output_type": "stream",
     "text": [
      "Current experiment parameters: ('1_ALOI', 0.0, 1), model: Customized, metrics: {'aucroc': 0.9399005725498235, 'aucpr': 0.24382986559304864}, fitting time: 337.37570214271545, inference time: 0.0019948482513427734\n",
      "\n",
      "Model performance:\n",
      "Reconstruction AUCROC=0.6883; AUCPR=0.0520\n",
      "Deviation AUCROC=0.9854; AUCPR=0.6085\n",
      "Max(rec, dev) AUCROC=0.7003; AUCPR=0.0532\n",
      "\n",
      "Sum of squared error AUCROC=0.7456; AUCPR=0.0605\n",
      "\n",
      "Transformer selector AUCROC=0.9978; AUCPR=0.9379\n",
      "\n",
      "{'Samples': 10000, 'Features': 27, 'Anomalies': 334, 'Anomalies Ratio(%)': 3.34}\n",
      "epoch : 1/5000, loss = 7.530210\n",
      "epoch : 1000/5000, loss = 0.202506\n",
      "epoch : 2000/5000, loss = 0.113629\n",
      "epoch : 3000/5000, loss = 0.075145\n",
      "epoch : 4000/5000, loss = 0.075250\n",
      "epoch : 5000/5000, loss = 0.056914\n",
      "self.error_median=0.0102, self.error_range=0.0198, self.latent_error_median_=0.0021, self.latent_error_range_=0.0031\n",
      "Model result scaling scheme:  True\n",
      "Latent dim= 16. Weight Decay = 0.000001\n",
      "Using cuda\n",
      "self.error_mu=0.0229, self.error_std=0.0403, self.latent_error_mu_=0.0034, self.latent_error_sigma_=0.0044; alpha = 1.0000\n",
      "Current experiment parameters: ('1_ALOI', 0.0, 2), model: Customized, metrics: {'aucroc': 0.9281862068965517, 'aucpr': 0.2302698199872407}, fitting time: 337.4820890426636, inference time: 0.001997709274291992\n"
     ]
    },
    {
     "name": "stderr",
     "output_type": "stream",
     "text": [
      "986it [17:26:00, 45.06s/it]"
     ]
    },
    {
     "name": "stdout",
     "output_type": "stream",
     "text": [
      "\n",
      "Model performance:\n",
      "Reconstruction AUCROC=0.7594; AUCPR=0.0796\n",
      "Deviation AUCROC=0.9824; AUCPR=0.5539\n",
      "Max(rec, dev) AUCROC=0.7614; AUCPR=0.0799\n",
      "\n",
      "Sum of squared error AUCROC=0.8015; AUCPR=0.0903\n",
      "\n",
      "Transformer selector AUCROC=0.9779; AUCPR=0.5285\n",
      "\n",
      "{'Samples': 10000, 'Features': 27, 'Anomalies': 332, 'Anomalies Ratio(%)': 3.32}\n",
      "epoch : 1/5000, loss = 7.161956\n",
      "epoch : 1000/5000, loss = 0.176053\n",
      "epoch : 2000/5000, loss = 0.094246\n",
      "epoch : 3000/5000, loss = 0.066429\n",
      "epoch : 4000/5000, loss = 0.051517\n",
      "epoch : 5000/5000, loss = 0.042395\n",
      "self.error_median=0.0077, self.error_range=0.0193, self.latent_error_median_=0.0017, self.latent_error_range_=0.0025\n",
      "Model result scaling scheme:  True\n",
      "Latent dim= 16. Weight Decay = 0.000001\n",
      "Using cuda\n",
      "self.error_mu=0.0177, self.error_std=0.0296, self.latent_error_mu_=0.0027, self.latent_error_sigma_=0.0035; alpha = 1.0000\n"
     ]
    },
    {
     "name": "stderr",
     "output_type": "stream",
     "text": [
      "987it [17:31:52, 61.23s/it]"
     ]
    },
    {
     "name": "stdout",
     "output_type": "stream",
     "text": [
      "Current experiment parameters: ('1_ALOI', 0.0, 3), model: Customized, metrics: {'aucroc': 0.9264896551724138, 'aucpr': 0.2578732120496324}, fitting time: 338.7396492958069, inference time: 0.0019943714141845703\n",
      "\n",
      "Model performance:\n",
      "Reconstruction AUCROC=0.6550; AUCPR=0.0606\n",
      "Deviation AUCROC=0.9791; AUCPR=0.5451\n",
      "Max(rec, dev) AUCROC=0.7007; AUCPR=0.0643\n",
      "\n",
      "Sum of squared error AUCROC=0.7408; AUCPR=0.0722\n",
      "\n",
      "Transformer selector AUCROC=0.9777; AUCPR=0.7459\n",
      "\n",
      "{'Samples': 10000, 'Features': 3, 'Anomalies': 46, 'Anomalies Ratio(%)': 0.46}\n",
      "epoch : 1/5000, loss = 0.561492\n",
      "epoch : 1000/5000, loss = 0.000864\n",
      "epoch : 2000/5000, loss = 0.000407\n",
      "epoch : 3000/5000, loss = 0.000208\n",
      "epoch : 4000/5000, loss = 0.000124\n",
      "epoch : 5000/5000, loss = 0.000508\n",
      "self.error_median=0.0000, self.error_range=0.0000, self.latent_error_median_=0.0000, self.latent_error_range_=0.0001\n",
      "Model result scaling scheme:  True\n",
      "Latent dim= 3. Weight Decay = 0.000001\n",
      "Using cuda\n",
      "self.error_mu=0.0000, self.error_std=0.0009, self.latent_error_mu_=0.0002, self.latent_error_sigma_=0.0016; alpha = 1.0000\n",
      "Current experiment parameters: ('16_http', 0.0, 1), model: Customized, metrics: {'aucroc': 0.9995454980384653, 'aucpr': 0.8689094635523207}, fitting time: 354.7227244377136, inference time: 0.0030417442321777344\n"
     ]
    },
    {
     "name": "stderr",
     "output_type": "stream",
     "text": [
      "1009it [17:37:48, 33.16s/it]"
     ]
    },
    {
     "name": "stdout",
     "output_type": "stream",
     "text": [
      "\n",
      "Model performance:\n",
      "Reconstruction AUCROC=0.9959; AUCPR=0.5646\n",
      "Deviation AUCROC=1.0000; AUCPR=1.0000\n",
      "Max(rec, dev) AUCROC=1.0000; AUCPR=1.0000\n",
      "\n",
      "Sum of squared error AUCROC=1.0000; AUCPR=1.0000\n",
      "\n",
      "Transformer selector AUCROC=1.0000; AUCPR=1.0000\n",
      "\n",
      "{'Samples': 10000, 'Features': 3, 'Anomalies': 35, 'Anomalies Ratio(%)': 0.35}\n",
      "epoch : 1/5000, loss = 0.666750\n",
      "epoch : 1000/5000, loss = 0.000956\n",
      "epoch : 2000/5000, loss = 0.000472\n",
      "epoch : 3000/5000, loss = 0.000206\n",
      "epoch : 4000/5000, loss = 0.000192\n",
      "epoch : 5000/5000, loss = 0.000128\n",
      "self.error_median=0.0000, self.error_range=0.0000, self.latent_error_median_=0.0000, self.latent_error_range_=0.0000\n",
      "Model result scaling scheme:  True\n",
      "Latent dim= 3. Weight Decay = 0.000001\n",
      "Using cuda\n",
      "self.error_mu=0.0000, self.error_std=0.0001, self.latent_error_mu_=0.0001, self.latent_error_sigma_=0.0004; alpha = 1.0000\n",
      "Current experiment parameters: ('16_http', 0.0, 2), model: Customized, metrics: {'aucroc': 0.9938127090301004, 'aucpr': 0.2224182367635878}, fitting time: 356.2408769130707, inference time: 0.0019941329956054688\n"
     ]
    },
    {
     "name": "stderr",
     "output_type": "stream",
     "text": [
      "1010it [17:43:46, 45.78s/it]"
     ]
    },
    {
     "name": "stdout",
     "output_type": "stream",
     "text": [
      "\n",
      "Model performance:\n",
      "Reconstruction AUCROC=0.9932; AUCPR=0.2101\n",
      "Deviation AUCROC=0.9952; AUCPR=0.2558\n",
      "Max(rec, dev) AUCROC=0.9952; AUCPR=0.2558\n",
      "\n",
      "Sum of squared error AUCROC=0.9953; AUCPR=0.2572\n",
      "\n",
      "Transformer selector AUCROC=0.0127; AUCPR=0.0018\n",
      "\n",
      "{'Samples': 10000, 'Features': 3, 'Anomalies': 34, 'Anomalies Ratio(%)': 0.34}\n",
      "epoch : 1/5000, loss = 0.859576\n",
      "epoch : 1000/5000, loss = 0.001362\n",
      "epoch : 2000/5000, loss = 0.000664\n",
      "epoch : 3000/5000, loss = 0.000543\n",
      "epoch : 4000/5000, loss = 0.000263\n",
      "epoch : 5000/5000, loss = 0.000174\n",
      "self.error_median=0.0000, self.error_range=0.0000, self.latent_error_median_=0.0000, self.latent_error_range_=0.0000\n",
      "Model result scaling scheme:  True\n",
      "Latent dim= 3. Weight Decay = 0.000001\n",
      "Using cuda\n",
      "self.error_mu=0.0000, self.error_std=0.0001, self.latent_error_mu_=0.0001, self.latent_error_sigma_=0.0005; alpha = 1.0000\n",
      "Current experiment parameters: ('16_http', 0.0, 3), model: Customized, metrics: {'aucroc': 0.9942809364548495, 'aucpr': 0.22595051617883624}, fitting time: 358.1519055366516, inference time: 0.001994609832763672\n"
     ]
    },
    {
     "name": "stderr",
     "output_type": "stream",
     "text": [
      "1011it [17:49:45, 62.29s/it]"
     ]
    },
    {
     "name": "stdout",
     "output_type": "stream",
     "text": [
      "\n",
      "Model performance:\n",
      "Reconstruction AUCROC=0.8418; AUCPR=0.0219\n",
      "Deviation AUCROC=0.9947; AUCPR=0.2428\n",
      "Max(rec, dev) AUCROC=0.9947; AUCPR=0.2428\n",
      "\n",
      "Sum of squared error AUCROC=0.9947; AUCPR=0.2428\n",
      "\n",
      "Transformer selector AUCROC=0.0000; AUCPR=0.0018\n",
      "\n",
      "{'Samples': 10000, 'Features': 29, 'Anomalies': 15, 'Anomalies Ratio(%)': 0.15}\n",
      "epoch : 1/5000, loss = 0.922048\n",
      "epoch : 1000/5000, loss = 0.028516\n",
      "epoch : 2000/5000, loss = 0.037061\n",
      "epoch : 3000/5000, loss = 0.030245\n",
      "epoch : 4000/5000, loss = 0.025327\n",
      "epoch : 5000/5000, loss = 0.015481\n",
      "self.error_median=0.0050, self.error_range=0.0052, self.latent_error_median_=0.0006, self.latent_error_range_=0.0008\n",
      "Model result scaling scheme:  True\n",
      "Latent dim= 16. Weight Decay = 0.000001\n",
      "Using cuda\n",
      "self.error_mu=0.0061, self.error_std=0.0045, self.latent_error_mu_=0.0011, self.latent_error_sigma_=0.0071; alpha = 1.0000\n",
      "Current experiment parameters: ('13_fraud', 0.0, 1), model: Customized, metrics: {'aucroc': 1.0, 'aucpr': 1.0}, fitting time: 337.8718090057373, inference time: 0.001994609832763672\n"
     ]
    },
    {
     "name": "stderr",
     "output_type": "stream",
     "text": [
      "1033it [17:55:35, 33.37s/it]"
     ]
    },
    {
     "name": "stdout",
     "output_type": "stream",
     "text": [
      "\n",
      "Model performance:\n",
      "Reconstruction AUCROC=0.9616; AUCPR=0.3022\n",
      "Deviation AUCROC=1.0000; AUCPR=1.0000\n",
      "Max(rec, dev) AUCROC=1.0000; AUCPR=1.0000\n",
      "\n",
      "Sum of squared error AUCROC=1.0000; AUCPR=1.0000\n",
      "\n",
      "Transformer selector AUCROC=1.0000; AUCPR=1.0000\n",
      "\n",
      "{'Samples': 10000, 'Features': 29, 'Anomalies': 15, 'Anomalies Ratio(%)': 0.15}\n",
      "epoch : 1/5000, loss = 0.922243\n",
      "epoch : 1000/5000, loss = 0.028752\n",
      "epoch : 2000/5000, loss = 0.039694\n",
      "epoch : 3000/5000, loss = 0.026284\n",
      "epoch : 4000/5000, loss = 0.018402\n",
      "epoch : 5000/5000, loss = 0.011927\n",
      "self.error_median=0.0039, self.error_range=0.0041, self.latent_error_median_=0.0007, self.latent_error_range_=0.0009\n",
      "Model result scaling scheme:  True\n",
      "Latent dim= 16. Weight Decay = 0.000001\n",
      "Using cuda\n",
      "self.error_mu=0.0048, self.error_std=0.0040, self.latent_error_mu_=0.0012, self.latent_error_sigma_=0.0055; alpha = 1.0000\n",
      "Current experiment parameters: ('13_fraud', 0.0, 2), model: Customized, metrics: {'aucroc': 1.0, 'aucpr': 1.0}, fitting time: 338.55243706703186, inference time: 0.001994609832763672\n"
     ]
    },
    {
     "name": "stderr",
     "output_type": "stream",
     "text": [
      "1034it [18:01:25, 45.71s/it]"
     ]
    },
    {
     "name": "stdout",
     "output_type": "stream",
     "text": [
      "\n",
      "Model performance:\n",
      "Reconstruction AUCROC=1.0000; AUCPR=1.0000\n",
      "Deviation AUCROC=1.0000; AUCPR=1.0000\n",
      "Max(rec, dev) AUCROC=1.0000; AUCPR=1.0000\n",
      "\n",
      "Sum of squared error AUCROC=1.0000; AUCPR=1.0000\n",
      "\n",
      "Transformer selector AUCROC=0.8117; AUCPR=0.0210\n",
      "\n",
      "{'Samples': 10000, 'Features': 29, 'Anomalies': 13, 'Anomalies Ratio(%)': 0.13}\n",
      "epoch : 1/5000, loss = 0.896317\n",
      "epoch : 1000/5000, loss = 0.036661\n",
      "epoch : 2000/5000, loss = 0.038960\n",
      "epoch : 3000/5000, loss = 0.027638\n",
      "epoch : 4000/5000, loss = 0.026841\n",
      "epoch : 5000/5000, loss = 0.016857\n",
      "self.error_median=0.0054, self.error_range=0.0059, self.latent_error_median_=0.0009, self.latent_error_range_=0.0010\n",
      "Model result scaling scheme:  True\n",
      "Latent dim= 16. Weight Decay = 0.000001\n",
      "Using cuda\n",
      "self.error_mu=0.0065, self.error_std=0.0045, self.latent_error_mu_=0.0013, self.latent_error_sigma_=0.0035; alpha = 1.0000\n"
     ]
    },
    {
     "name": "stderr",
     "output_type": "stream",
     "text": [
      "1035it [18:07:17, 61.79s/it]"
     ]
    },
    {
     "name": "stdout",
     "output_type": "stream",
     "text": [
      "Current experiment parameters: ('13_fraud', 0.0, 3), model: Customized, metrics: {'aucroc': 1.0, 'aucpr': 1.0}, fitting time: 337.8937203884125, inference time: 0.001973390579223633\n",
      "\n",
      "Model performance:\n",
      "Reconstruction AUCROC=0.9979; AUCPR=0.6125\n",
      "Deviation AUCROC=1.0000; AUCPR=1.0000\n",
      "Max(rec, dev) AUCROC=1.0000; AUCPR=1.0000\n",
      "\n",
      "Sum of squared error AUCROC=1.0000; AUCPR=1.0000\n",
      "\n",
      "Transformer selector AUCROC=1.0000; AUCPR=1.0000\n",
      "\n",
      "{'Samples': 10000, 'Features': 10, 'Anomalies': 618, 'Anomalies Ratio(%)': 6.18}\n",
      "epoch : 1/5000, loss = 2.646624\n",
      "epoch : 1000/5000, loss = 0.060516\n",
      "epoch : 2000/5000, loss = 0.024448\n",
      "epoch : 3000/5000, loss = 0.015684\n",
      "epoch : 4000/5000, loss = 0.009389\n",
      "epoch : 5000/5000, loss = 0.008382\n",
      "self.error_median=0.0016, self.error_range=0.0021, self.latent_error_median_=0.0009, self.latent_error_range_=0.0016\n",
      "Model result scaling scheme:  True\n",
      "Latent dim= 10. Weight Decay = 0.000001\n",
      "Using cuda\n",
      "self.error_mu=0.0023, self.error_std=0.0021, self.latent_error_mu_=0.0017, self.latent_error_sigma_=0.0027; alpha = 1.0000\n",
      "Current experiment parameters: ('11_donors', 0.0, 1), model: Customized, metrics: {'aucroc': 0.9958312130958666, 'aucpr': 0.8865213195867365}, fitting time: 340.26468563079834, inference time: 0.0019941329956054688\n"
     ]
    },
    {
     "name": "stderr",
     "output_type": "stream",
     "text": [
      "1057it [18:12:59, 32.97s/it]"
     ]
    },
    {
     "name": "stdout",
     "output_type": "stream",
     "text": [
      "\n",
      "Model performance:\n",
      "Reconstruction AUCROC=0.8795; AUCPR=0.2586\n",
      "Deviation AUCROC=0.9999; AUCPR=0.9976\n",
      "Max(rec, dev) AUCROC=0.9899; AUCPR=0.7516\n",
      "\n",
      "Sum of squared error AUCROC=0.9916; AUCPR=0.7882\n",
      "\n",
      "Transformer selector AUCROC=0.7660; AUCPR=0.6419\n",
      "\n",
      "{'Samples': 10000, 'Features': 10, 'Anomalies': 578, 'Anomalies Ratio(%)': 5.78}\n",
      "epoch : 1/5000, loss = 1.909816\n",
      "epoch : 1000/5000, loss = 0.030062\n",
      "epoch : 2000/5000, loss = 0.009701\n",
      "epoch : 3000/5000, loss = 0.005911\n",
      "epoch : 4000/5000, loss = 0.003725\n",
      "epoch : 5000/5000, loss = 0.001722\n",
      "self.error_median=0.0001, self.error_range=0.0002, self.latent_error_median_=0.0004, self.latent_error_range_=0.0005\n",
      "Model result scaling scheme:  True\n",
      "Latent dim= 10. Weight Decay = 0.000001\n",
      "Using cuda\n",
      "self.error_mu=0.0002, self.error_std=0.0002, self.latent_error_mu_=0.0009, self.latent_error_sigma_=0.0018; alpha = 1.0000\n",
      "Current experiment parameters: ('11_donors', 0.0, 2), model: Customized, metrics: {'aucroc': 0.9960639661726007, 'aucpr': 0.9233361310045878}, fitting time: 341.5309216976166, inference time: 0.0019941329956054688\n"
     ]
    },
    {
     "name": "stderr",
     "output_type": "stream",
     "text": [
      "1058it [18:18:42, 45.04s/it]"
     ]
    },
    {
     "name": "stdout",
     "output_type": "stream",
     "text": [
      "\n",
      "Model performance:\n",
      "Reconstruction AUCROC=0.8644; AUCPR=0.4220\n",
      "Deviation AUCROC=0.9999; AUCPR=0.9976\n",
      "Max(rec, dev) AUCROC=0.9999; AUCPR=0.9976\n",
      "\n",
      "Sum of squared error AUCROC=0.9997; AUCPR=0.9946\n",
      "\n",
      "Transformer selector AUCROC=0.0000; AUCPR=0.0296\n",
      "\n",
      "{'Samples': 10000, 'Features': 10, 'Anomalies': 597, 'Anomalies Ratio(%)': 5.97}\n",
      "epoch : 1/5000, loss = -18.601187\n",
      "epoch : 1000/5000, loss = 0.025083\n",
      "epoch : 2000/5000, loss = 0.011403\n",
      "epoch : 3000/5000, loss = 0.006463\n",
      "epoch : 4000/5000, loss = 0.004552\n",
      "epoch : 5000/5000, loss = 0.005955\n",
      "self.error_median=0.0022, self.error_range=0.0013, self.latent_error_median_=0.0005, self.latent_error_range_=0.0006\n",
      "Model result scaling scheme:  True\n",
      "Latent dim= 10. Weight Decay = 0.000001\n",
      "Using cuda\n",
      "self.error_mu=0.0026, self.error_std=0.0015, self.latent_error_mu_=0.0010, self.latent_error_sigma_=0.0019; alpha = 1.0000\n",
      "Current experiment parameters: ('11_donors', 0.0, 3), model: Customized, metrics: {'aucroc': 0.999980196411986, 'aucpr': 0.9996856906097308}, fitting time: 340.5608580112457, inference time: 0.0019881725311279297\n"
     ]
    },
    {
     "name": "stderr",
     "output_type": "stream",
     "text": [
      "1059it [18:24:24, 60.67s/it]"
     ]
    },
    {
     "name": "stdout",
     "output_type": "stream",
     "text": [
      "\n",
      "Model performance:\n",
      "Reconstruction AUCROC=0.9890; AUCPR=0.8136\n",
      "Deviation AUCROC=1.0000; AUCPR=1.0000\n",
      "Max(rec, dev) AUCROC=0.9942; AUCPR=0.9124\n",
      "\n",
      "Sum of squared error AUCROC=0.9985; AUCPR=0.9756\n",
      "\n",
      "Transformer selector AUCROC=0.0380; AUCPR=0.0308\n",
      "\n",
      "{'Samples': 10000, 'Features': 196, 'Anomalies': 252, 'Anomalies Ratio(%)': 2.52}\n",
      "epoch : 1/5000, loss = 94.490303\n",
      "epoch : 1000/5000, loss = 5.927921\n",
      "epoch : 2000/5000, loss = 5.506028\n",
      "epoch : 3000/5000, loss = 5.287199\n",
      "epoch : 4000/5000, loss = 5.142831\n",
      "epoch : 5000/5000, loss = 5.049619\n",
      "self.error_median=2.4857, self.error_range=0.5324, self.latent_error_median_=0.0139, self.latent_error_range_=0.0095\n",
      "Model result scaling scheme:  True\n",
      "Latent dim= 16. Weight Decay = 0.000001\n",
      "Using cuda\n",
      "self.error_mu=2.5084, self.error_std=0.3315, self.latent_error_mu_=0.0158, self.latent_error_sigma_=0.0099; alpha = 1.0000\n"
     ]
    },
    {
     "name": "stderr",
     "output_type": "stream",
     "text": [
      "1081it [18:31:04, 34.19s/it]"
     ]
    },
    {
     "name": "stdout",
     "output_type": "stream",
     "text": [
      "Current experiment parameters: ('3_backdoor', 0.0, 1), model: Customized, metrics: {'aucroc': 0.9998965008279933, 'aucpr': 0.9961874316317785}, fitting time: 390.18296790122986, inference time: 0.003989219665527344\n",
      "\n",
      "Model performance:\n",
      "Reconstruction AUCROC=0.8783; AUCPR=0.4221\n",
      "Deviation AUCROC=0.9994; AUCPR=0.9836\n",
      "Max(rec, dev) AUCROC=0.8783; AUCPR=0.4221\n",
      "\n",
      "Sum of squared error AUCROC=0.8786; AUCPR=0.4222\n",
      "\n",
      "Transformer selector AUCROC=0.7451; AUCPR=0.4475\n",
      "\n",
      "{'Samples': 10000, 'Features': 196, 'Anomalies': 246, 'Anomalies Ratio(%)': 2.46}\n",
      "epoch : 1/5000, loss = 90.718163\n",
      "epoch : 1000/5000, loss = 5.706131\n",
      "epoch : 2000/5000, loss = 5.312935\n",
      "epoch : 3000/5000, loss = 5.074849\n",
      "epoch : 4000/5000, loss = 4.935140\n",
      "epoch : 5000/5000, loss = 4.833896\n",
      "self.error_median=2.3784, self.error_range=0.5056, self.latent_error_median_=0.0130, self.latent_error_range_=0.0088\n",
      "Model result scaling scheme:  True\n",
      "Latent dim= 16. Weight Decay = 0.000001\n",
      "Using cuda\n",
      "self.error_mu=2.4016, self.error_std=0.3549, self.latent_error_mu_=0.0148, self.latent_error_sigma_=0.0094; alpha = 1.0000\n"
     ]
    },
    {
     "name": "stderr",
     "output_type": "stream",
     "text": [
      "1082it [18:37:52, 48.75s/it]"
     ]
    },
    {
     "name": "stdout",
     "output_type": "stream",
     "text": [
      "Current experiment parameters: ('3_backdoor', 0.0, 2), model: Customized, metrics: {'aucroc': 0.9999907631486579, 'aucpr': 0.9996443812233285}, fitting time: 393.51795411109924, inference time: 0.003991365432739258\n",
      "\n",
      "Model performance:\n",
      "Reconstruction AUCROC=0.8499; AUCPR=0.4975\n",
      "Deviation AUCROC=0.9959; AUCPR=0.9401\n",
      "Max(rec, dev) AUCROC=0.8499; AUCPR=0.4975\n",
      "\n",
      "Sum of squared error AUCROC=0.8502; AUCPR=0.4977\n",
      "\n",
      "Transformer selector AUCROC=0.8396; AUCPR=0.1638\n",
      "\n",
      "{'Samples': 10000, 'Features': 196, 'Anomalies': 256, 'Anomalies Ratio(%)': 2.56}\n",
      "epoch : 1/5000, loss = 96.433594\n",
      "epoch : 1000/5000, loss = 5.690370\n",
      "epoch : 2000/5000, loss = 5.349344\n",
      "epoch : 3000/5000, loss = 5.124095\n",
      "epoch : 4000/5000, loss = 4.910829\n",
      "epoch : 5000/5000, loss = 4.822993\n",
      "self.error_median=2.3821, self.error_range=0.5489, self.latent_error_median_=0.0126, self.latent_error_range_=0.0085\n",
      "Model result scaling scheme:  True\n",
      "Latent dim= 16. Weight Decay = 0.000001\n",
      "Using cuda\n",
      "self.error_mu=2.4056, self.error_std=0.3396, self.latent_error_mu_=0.0144, self.latent_error_sigma_=0.0097; alpha = 1.0000\n",
      "Current experiment parameters: ('3_backdoor', 0.0, 3), model: Customized, metrics: {'aucroc': 0.9995601388006451, 'aucpr': 0.9870227617757454}, fitting time: 393.65780663490295, inference time: 0.003983259201049805\n"
     ]
    },
    {
     "name": "stderr",
     "output_type": "stream",
     "text": [
      "1083it [18:44:36, 67.45s/it]"
     ]
    },
    {
     "name": "stdout",
     "output_type": "stream",
     "text": [
      "\n",
      "Model performance:\n",
      "Reconstruction AUCROC=0.8373; AUCPR=0.3088\n",
      "Deviation AUCROC=0.9957; AUCPR=0.9437\n",
      "Max(rec, dev) AUCROC=0.8373; AUCPR=0.3088\n",
      "\n",
      "Sum of squared error AUCROC=0.8377; AUCPR=0.3092\n",
      "\n",
      "Transformer selector AUCROC=0.0990; AUCPR=0.0156\n",
      "\n",
      "{'Samples': 10000, 'Features': 500, 'Anomalies': 618, 'Anomalies Ratio(%)': 6.18}\n",
      "epoch : 1/5000, loss = 234.365341\n",
      "epoch : 1000/5000, loss = 9.861956\n",
      "epoch : 2000/5000, loss = 9.055905\n",
      "epoch : 3000/5000, loss = 9.834118\n",
      "epoch : 4000/5000, loss = 9.440687\n",
      "epoch : 5000/5000, loss = 9.027263\n",
      "self.error_median=4.5564, self.error_range=3.8209, self.latent_error_median_=0.0112, self.latent_error_range_=0.0103\n",
      "Model result scaling scheme:  True\n",
      "Latent dim= 16. Weight Decay = 0.000001\n",
      "Using cuda\n",
      "self.error_mu=4.7549, self.error_std=1.8323, self.latent_error_mu_=0.0171, self.latent_error_sigma_=0.0221; alpha = 1.0000\n"
     ]
    },
    {
     "name": "stderr",
     "output_type": "stream",
     "text": [
      "1105it [18:56:51, 46.23s/it]"
     ]
    },
    {
     "name": "stdout",
     "output_type": "stream",
     "text": [
      "Current experiment parameters: ('9_census', 0.0, 1), model: Customized, metrics: {'aucroc': 1.0, 'aucpr': 1.0}, fitting time: 665.2584400177002, inference time: 0.009002447128295898\n",
      "\n",
      "Model performance:\n",
      "Reconstruction AUCROC=0.5768; AUCPR=0.1650\n",
      "Deviation AUCROC=1.0000; AUCPR=1.0000\n",
      "Max(rec, dev) AUCROC=0.5768; AUCPR=0.1650\n",
      "\n",
      "Sum of squared error AUCROC=0.5770; AUCPR=0.1651\n",
      "\n",
      "Transformer selector AUCROC=0.5407; AUCPR=0.5627\n",
      "\n",
      "{'Samples': 10000, 'Features': 500, 'Anomalies': 628, 'Anomalies Ratio(%)': 6.28}\n",
      "epoch : 1/5000, loss = 233.459518\n",
      "epoch : 1000/5000, loss = 10.261476\n",
      "epoch : 2000/5000, loss = 10.193399\n",
      "epoch : 3000/5000, loss = 9.686777\n",
      "epoch : 4000/5000, loss = 9.082932\n",
      "epoch : 5000/5000, loss = 56.338753\n",
      "self.error_median=7.6919, self.error_range=4.3007, self.latent_error_median_=0.1097, self.latent_error_range_=0.0454\n",
      "Model result scaling scheme:  True\n",
      "Latent dim= 16. Weight Decay = 0.000001\n",
      "Using cuda\n",
      "self.error_mu=8.2760, self.error_std=3.4860, self.latent_error_mu_=0.1151, self.latent_error_sigma_=0.0335; alpha = 1.0000\n"
     ]
    },
    {
     "name": "stderr",
     "output_type": "stream",
     "text": [
      "1106it [19:08:47, 72.26s/it]"
     ]
    },
    {
     "name": "stdout",
     "output_type": "stream",
     "text": [
      "Current experiment parameters: ('9_census', 0.0, 2), model: Customized, metrics: {'aucroc': 0.9999527102690597, 'aucpr': 0.9992747682092735}, fitting time: 665.8877305984497, inference time: 0.005984067916870117\n",
      "\n",
      "Model performance:\n",
      "Reconstruction AUCROC=0.9999; AUCPR=0.9981\n",
      "Deviation AUCROC=0.9242; AUCPR=0.7444\n",
      "Max(rec, dev) AUCROC=0.9999; AUCPR=0.9981\n",
      "\n",
      "Sum of squared error AUCROC=0.9999; AUCPR=0.9981\n",
      "\n",
      "Transformer selector AUCROC=0.4842; AUCPR=0.5035\n",
      "\n",
      "{'Samples': 10000, 'Features': 500, 'Anomalies': 652, 'Anomalies Ratio(%)': 6.52}\n",
      "epoch : 1/5000, loss = 220.302582\n",
      "epoch : 1000/5000, loss = 83.681305\n",
      "epoch : 2000/5000, loss = 8.065330\n",
      "epoch : 3000/5000, loss = 7.294206\n",
      "epoch : 4000/5000, loss = 7.023644\n",
      "epoch : 5000/5000, loss = 6.916118\n",
      "self.error_median=3.7164, self.error_range=3.2479, self.latent_error_median_=0.0150, self.latent_error_range_=0.0150\n",
      "Model result scaling scheme:  True\n",
      "Latent dim= 16. Weight Decay = 0.000001\n",
      "Using cuda\n",
      "self.error_mu=3.4366, self.error_std=1.5861, self.latent_error_mu_=0.0211, self.latent_error_sigma_=0.0241; alpha = 1.0000\n"
     ]
    },
    {
     "name": "stderr",
     "output_type": "stream",
     "text": [
      "1128it [19:21:13, 61.77s/it] "
     ]
    },
    {
     "name": "stdout",
     "output_type": "stream",
     "text": [
      "Current experiment parameters: ('9_census', 0.0, 3), model: Customized, metrics: {'aucroc': 0.9936552010247751, 'aucpr': 0.9292370383118226}, fitting time: 665.7640585899353, inference time: 0.00596165657043457\n",
      "\n",
      "Model performance:\n",
      "Reconstruction AUCROC=0.6407; AUCPR=0.1402\n",
      "Deviation AUCROC=0.9993; AUCPR=0.9900\n",
      "Max(rec, dev) AUCROC=0.6407; AUCPR=0.1402\n",
      "\n",
      "Sum of squared error AUCROC=0.6409; AUCPR=0.1403\n",
      "\n",
      "Transformer selector AUCROC=0.3420; AUCPR=0.0966\n",
      "\n",
      "{'Samples': 10000, 'Features': 10, 'Anomalies': 97, 'Anomalies Ratio(%)': 0.97}\n",
      "{'Samples': 10000, 'Features': 10, 'Anomalies': 116, 'Anomalies Ratio(%)': 1.16}\n"
     ]
    },
    {
     "name": "stderr",
     "output_type": "stream",
     "text": [
      "\n"
     ]
    },
    {
     "name": "stdout",
     "output_type": "stream",
     "text": [
      "{'Samples': 10000, 'Features': 10, 'Anomalies': 95, 'Anomalies Ratio(%)': 0.95}\n",
      "{'Samples': 10000, 'Features': 10, 'Anomalies': 618, 'Anomalies Ratio(%)': 6.18}\n",
      "{'Samples': 10000, 'Features': 10, 'Anomalies': 578, 'Anomalies Ratio(%)': 5.78}\n",
      "{'Samples': 10000, 'Features': 10, 'Anomalies': 597, 'Anomalies Ratio(%)': 5.97}\n",
      "{'Samples': 1941, 'Features': 27, 'Anomalies': 673, 'Anomalies Ratio(%)': 34.67}\n",
      "{'Samples': 1941, 'Features': 27, 'Anomalies': 673, 'Anomalies Ratio(%)': 34.67}\n",
      "{'Samples': 1941, 'Features': 27, 'Anomalies': 673, 'Anomalies Ratio(%)': 34.67}\n",
      "{'Samples': 10000, 'Features': 29, 'Anomalies': 15, 'Anomalies Ratio(%)': 0.15}\n",
      "{'Samples': 10000, 'Features': 29, 'Anomalies': 15, 'Anomalies Ratio(%)': 0.15}\n",
      "{'Samples': 10000, 'Features': 29, 'Anomalies': 13, 'Anomalies Ratio(%)': 0.13}\n",
      "{'Samples': 1000, 'Features': 7, 'Anomalies': 42, 'Anomalies Ratio(%)': 4.2}\n",
      "{'Samples': 1000, 'Features': 7, 'Anomalies': 42, 'Anomalies Ratio(%)': 4.2}\n",
      "{'Samples': 1000, 'Features': 7, 'Anomalies': 34, 'Anomalies Ratio(%)': 3.4}\n",
      "{'Samples': 1000, 'Features': 19, 'Anomalies': 170, 'Anomalies Ratio(%)': 17.0}\n",
      "{'Samples': 1000, 'Features': 19, 'Anomalies': 139, 'Anomalies Ratio(%)': 13.9}\n",
      "{'Samples': 1000, 'Features': 19, 'Anomalies': 169, 'Anomalies Ratio(%)': 16.9}\n",
      "{'Samples': 10000, 'Features': 3, 'Anomalies': 46, 'Anomalies Ratio(%)': 0.46}\n",
      "{'Samples': 10000, 'Features': 3, 'Anomalies': 35, 'Anomalies Ratio(%)': 0.35}\n",
      "{'Samples': 10000, 'Features': 3, 'Anomalies': 34, 'Anomalies Ratio(%)': 0.34}\n",
      "{'Samples': 1966, 'Features': 1555, 'Anomalies': 368, 'Anomalies Ratio(%)': 18.72}\n",
      "{'Samples': 1966, 'Features': 1555, 'Anomalies': 368, 'Anomalies Ratio(%)': 18.72}\n",
      "{'Samples': 1966, 'Features': 1555, 'Anomalies': 368, 'Anomalies Ratio(%)': 18.72}\n",
      "{'Samples': 1000, 'Features': 32, 'Anomalies': 369, 'Anomalies Ratio(%)': 36.9}\n",
      "{'Samples': 1000, 'Features': 32, 'Anomalies': 374, 'Anomalies Ratio(%)': 37.4}\n",
      "{'Samples': 1000, 'Features': 32, 'Anomalies': 349, 'Anomalies Ratio(%)': 34.9}\n",
      "{'Samples': 6435, 'Features': 36, 'Anomalies': 1333, 'Anomalies Ratio(%)': 20.71}\n",
      "{'Samples': 6435, 'Features': 36, 'Anomalies': 1333, 'Anomalies Ratio(%)': 20.71}\n",
      "{'Samples': 6435, 'Features': 36, 'Anomalies': 1333, 'Anomalies Ratio(%)': 20.71}\n",
      "{'Samples': 10000, 'Features': 27, 'Anomalies': 315, 'Anomalies Ratio(%)': 3.15}\n",
      "{'Samples': 10000, 'Features': 27, 'Anomalies': 334, 'Anomalies Ratio(%)': 3.34}\n",
      "{'Samples': 10000, 'Features': 27, 'Anomalies': 332, 'Anomalies Ratio(%)': 3.32}\n",
      "{'Samples': 1600, 'Features': 32, 'Anomalies': 100, 'Anomalies Ratio(%)': 6.25}\n",
      "{'Samples': 1600, 'Features': 32, 'Anomalies': 100, 'Anomalies Ratio(%)': 6.25}\n",
      "{'Samples': 1600, 'Features': 32, 'Anomalies': 100, 'Anomalies Ratio(%)': 6.25}\n",
      "{'Samples': 1000, 'Features': 18, 'Anomalies': 44, 'Anomalies Ratio(%)': 4.4}\n",
      "{'Samples': 1000, 'Features': 18, 'Anomalies': 38, 'Anomalies Ratio(%)': 3.8}\n",
      "{'Samples': 1000, 'Features': 18, 'Anomalies': 43, 'Anomalies Ratio(%)': 4.3}\n",
      "{'Samples': 10000, 'Features': 10, 'Anomalies': 3548, 'Anomalies Ratio(%)': 35.48}\n",
      "{'Samples': 10000, 'Features': 10, 'Anomalies': 3533, 'Anomalies Ratio(%)': 35.33}\n",
      "{'Samples': 10000, 'Features': 10, 'Anomalies': 3500, 'Anomalies Ratio(%)': 35.0}\n",
      "{'Samples': 10000, 'Features': 6, 'Anomalies': 230, 'Anomalies Ratio(%)': 2.3}\n",
      "{'Samples': 10000, 'Features': 6, 'Anomalies': 241, 'Anomalies Ratio(%)': 2.41}\n",
      "{'Samples': 10000, 'Features': 6, 'Anomalies': 227, 'Anomalies Ratio(%)': 2.27}\n",
      "{'Samples': 7603, 'Features': 100, 'Anomalies': 700, 'Anomalies Ratio(%)': 9.21}\n",
      "{'Samples': 7603, 'Features': 100, 'Anomalies': 700, 'Anomalies Ratio(%)': 9.21}\n",
      "{'Samples': 7603, 'Features': 100, 'Anomalies': 700, 'Anomalies Ratio(%)': 9.21}\n",
      "{'Samples': 3062, 'Features': 166, 'Anomalies': 97, 'Anomalies Ratio(%)': 3.17}\n",
      "{'Samples': 3062, 'Features': 166, 'Anomalies': 97, 'Anomalies Ratio(%)': 3.17}\n",
      "{'Samples': 3062, 'Features': 166, 'Anomalies': 97, 'Anomalies Ratio(%)': 3.17}\n",
      "{'Samples': 5216, 'Features': 64, 'Anomalies': 150, 'Anomalies Ratio(%)': 2.88}\n",
      "{'Samples': 5216, 'Features': 64, 'Anomalies': 150, 'Anomalies Ratio(%)': 2.88}\n",
      "{'Samples': 5216, 'Features': 64, 'Anomalies': 150, 'Anomalies Ratio(%)': 2.88}\n",
      "{'Samples': 5393, 'Features': 10, 'Anomalies': 510, 'Anomalies Ratio(%)': 9.46}\n",
      "{'Samples': 5393, 'Features': 10, 'Anomalies': 510, 'Anomalies Ratio(%)': 9.46}\n",
      "{'Samples': 5393, 'Features': 10, 'Anomalies': 510, 'Anomalies Ratio(%)': 9.46}\n",
      "{'Samples': 6870, 'Features': 16, 'Anomalies': 156, 'Anomalies Ratio(%)': 2.27}\n",
      "{'Samples': 6870, 'Features': 16, 'Anomalies': 156, 'Anomalies Ratio(%)': 2.27}\n",
      "{'Samples': 6870, 'Features': 16, 'Anomalies': 156, 'Anomalies Ratio(%)': 2.27}\n",
      "{'Samples': 1000, 'Features': 8, 'Anomalies': 367, 'Anomalies Ratio(%)': 36.7}\n",
      "{'Samples': 1000, 'Features': 8, 'Anomalies': 346, 'Anomalies Ratio(%)': 34.6}\n",
      "{'Samples': 1000, 'Features': 8, 'Anomalies': 308, 'Anomalies Ratio(%)': 30.8}\n",
      "{'Samples': 7200, 'Features': 6, 'Anomalies': 534, 'Anomalies Ratio(%)': 7.42}\n",
      "{'Samples': 7200, 'Features': 6, 'Anomalies': 534, 'Anomalies Ratio(%)': 7.42}\n",
      "{'Samples': 7200, 'Features': 6, 'Anomalies': 534, 'Anomalies Ratio(%)': 7.42}\n",
      "{'Samples': 6435, 'Features': 36, 'Anomalies': 2036, 'Anomalies Ratio(%)': 31.64}\n",
      "{'Samples': 6435, 'Features': 36, 'Anomalies': 2036, 'Anomalies Ratio(%)': 31.64}\n",
      "{'Samples': 6435, 'Features': 36, 'Anomalies': 2036, 'Anomalies Ratio(%)': 31.64}\n",
      "{'Samples': 5803, 'Features': 36, 'Anomalies': 71, 'Anomalies Ratio(%)': 1.22}\n",
      "{'Samples': 5803, 'Features': 36, 'Anomalies': 71, 'Anomalies Ratio(%)': 1.22}\n",
      "{'Samples': 5803, 'Features': 36, 'Anomalies': 71, 'Anomalies Ratio(%)': 1.22}\n",
      "{'Samples': 10000, 'Features': 9, 'Anomalies': 669, 'Anomalies Ratio(%)': 6.69}\n",
      "{'Samples': 10000, 'Features': 9, 'Anomalies': 697, 'Anomalies Ratio(%)': 6.97}\n",
      "{'Samples': 10000, 'Features': 9, 'Anomalies': 714, 'Anomalies Ratio(%)': 7.14}\n",
      "{'Samples': 10000, 'Features': 3, 'Anomalies': 2081, 'Anomalies Ratio(%)': 20.81}\n",
      "{'Samples': 10000, 'Features': 3, 'Anomalies': 2082, 'Anomalies Ratio(%)': 20.82}\n",
      "{'Samples': 10000, 'Features': 3, 'Anomalies': 2066, 'Anomalies Ratio(%)': 20.66}\n",
      "{'Samples': 10000, 'Features': 3, 'Anomalies': 4, 'Anomalies Ratio(%)': 0.04}\n",
      "{'Samples': 10000, 'Features': 3, 'Anomalies': 4, 'Anomalies Ratio(%)': 0.04}\n",
      "{'Samples': 10000, 'Features': 3, 'Anomalies': 5, 'Anomalies Ratio(%)': 0.05}\n",
      "{'Samples': 4207, 'Features': 57, 'Anomalies': 1679, 'Anomalies Ratio(%)': 39.91}\n",
      "{'Samples': 4207, 'Features': 57, 'Anomalies': 1679, 'Anomalies Ratio(%)': 39.91}\n",
      "{'Samples': 4207, 'Features': 57, 'Anomalies': 1679, 'Anomalies Ratio(%)': 39.91}\n",
      "{'Samples': 3686, 'Features': 400, 'Anomalies': 61, 'Anomalies Ratio(%)': 1.65}\n",
      "{'Samples': 3686, 'Features': 400, 'Anomalies': 61, 'Anomalies Ratio(%)': 1.65}\n",
      "{'Samples': 3686, 'Features': 400, 'Anomalies': 61, 'Anomalies Ratio(%)': 1.65}\n",
      "{'Samples': 1000, 'Features': 9, 'Anomalies': 90, 'Anomalies Ratio(%)': 9.0}\n",
      "{'Samples': 1000, 'Features': 9, 'Anomalies': 95, 'Anomalies Ratio(%)': 9.5}\n",
      "{'Samples': 1000, 'Features': 9, 'Anomalies': 100, 'Anomalies Ratio(%)': 10.0}\n",
      "{'Samples': 3772, 'Features': 6, 'Anomalies': 93, 'Anomalies Ratio(%)': 2.47}\n",
      "{'Samples': 3772, 'Features': 6, 'Anomalies': 93, 'Anomalies Ratio(%)': 2.47}\n",
      "{'Samples': 3772, 'Features': 6, 'Anomalies': 93, 'Anomalies Ratio(%)': 2.47}\n",
      "{'Samples': 1000, 'Features': 6, 'Anomalies': 123, 'Anomalies Ratio(%)': 12.3}\n",
      "{'Samples': 1000, 'Features': 6, 'Anomalies': 138, 'Anomalies Ratio(%)': 13.8}\n",
      "{'Samples': 1000, 'Features': 6, 'Anomalies': 133, 'Anomalies Ratio(%)': 13.3}\n",
      "{'Samples': 10000, 'Features': 196, 'Anomalies': 252, 'Anomalies Ratio(%)': 2.52}\n",
      "{'Samples': 10000, 'Features': 196, 'Anomalies': 246, 'Anomalies Ratio(%)': 2.46}\n",
      "{'Samples': 10000, 'Features': 196, 'Anomalies': 256, 'Anomalies Ratio(%)': 2.56}\n",
      "{'Samples': 1456, 'Features': 12, 'Anomalies': 50, 'Anomalies Ratio(%)': 3.43}\n",
      "{'Samples': 1456, 'Features': 12, 'Anomalies': 50, 'Anomalies Ratio(%)': 3.43}\n",
      "{'Samples': 1456, 'Features': 12, 'Anomalies': 50, 'Anomalies Ratio(%)': 3.43}\n",
      "{'Samples': 3443, 'Features': 21, 'Anomalies': 100, 'Anomalies Ratio(%)': 2.9}\n",
      "{'Samples': 3443, 'Features': 21, 'Anomalies': 100, 'Anomalies Ratio(%)': 2.9}\n",
      "{'Samples': 3443, 'Features': 21, 'Anomalies': 100, 'Anomalies Ratio(%)': 2.9}\n",
      "{'Samples': 1000, 'Features': 9, 'Anomalies': 35, 'Anomalies Ratio(%)': 3.5}\n",
      "{'Samples': 1000, 'Features': 9, 'Anomalies': 45, 'Anomalies Ratio(%)': 4.5}\n",
      "{'Samples': 1000, 'Features': 9, 'Anomalies': 48, 'Anomalies Ratio(%)': 4.8}\n",
      "{'Samples': 1000, 'Features': 30, 'Anomalies': 26, 'Anomalies Ratio(%)': 2.6}\n",
      "{'Samples': 1000, 'Features': 30, 'Anomalies': 29, 'Anomalies Ratio(%)': 2.9}\n",
      "{'Samples': 1000, 'Features': 30, 'Anomalies': 27, 'Anomalies Ratio(%)': 2.7}\n",
      "{'Samples': 4819, 'Features': 5, 'Anomalies': 257, 'Anomalies Ratio(%)': 5.33}\n",
      "{'Samples': 4819, 'Features': 5, 'Anomalies': 257, 'Anomalies Ratio(%)': 5.33}\n",
      "{'Samples': 4819, 'Features': 5, 'Anomalies': 257, 'Anomalies Ratio(%)': 5.33}\n",
      "{'Samples': 1000, 'Features': 13, 'Anomalies': 75, 'Anomalies Ratio(%)': 7.5}\n",
      "{'Samples': 1000, 'Features': 13, 'Anomalies': 80, 'Anomalies Ratio(%)': 8.0}\n",
      "{'Samples': 1000, 'Features': 13, 'Anomalies': 88, 'Anomalies Ratio(%)': 8.8}\n",
      "{'Samples': 1000, 'Features': 33, 'Anomalies': 239, 'Anomalies Ratio(%)': 23.9}\n",
      "{'Samples': 1000, 'Features': 33, 'Anomalies': 224, 'Anomalies Ratio(%)': 22.4}\n",
      "{'Samples': 1000, 'Features': 33, 'Anomalies': 225, 'Anomalies Ratio(%)': 22.5}\n",
      "{'Samples': 1484, 'Features': 8, 'Anomalies': 507, 'Anomalies Ratio(%)': 34.16}\n",
      "{'Samples': 1484, 'Features': 8, 'Anomalies': 507, 'Anomalies Ratio(%)': 34.16}\n",
      "{'Samples': 1484, 'Features': 8, 'Anomalies': 507, 'Anomalies Ratio(%)': 34.16}\n",
      "{'Samples': 1000, 'Features': 9, 'Anomalies': 348, 'Anomalies Ratio(%)': 34.8}\n",
      "{'Samples': 1000, 'Features': 9, 'Anomalies': 336, 'Anomalies Ratio(%)': 33.6}\n",
      "{'Samples': 1000, 'Features': 9, 'Anomalies': 364, 'Anomalies Ratio(%)': 36.4}\n",
      "{'Samples': 10000, 'Features': 62, 'Anomalies': 1134, 'Anomalies Ratio(%)': 11.34}\n",
      "{'Samples': 10000, 'Features': 62, 'Anomalies': 1129, 'Anomalies Ratio(%)': 11.29}\n",
      "{'Samples': 10000, 'Features': 62, 'Anomalies': 1129, 'Anomalies Ratio(%)': 11.29}\n",
      "{'Samples': 1831, 'Features': 21, 'Anomalies': 176, 'Anomalies Ratio(%)': 9.61}\n",
      "{'Samples': 1831, 'Features': 21, 'Anomalies': 176, 'Anomalies Ratio(%)': 9.61}\n",
      "{'Samples': 1831, 'Features': 21, 'Anomalies': 176, 'Anomalies Ratio(%)': 9.61}\n",
      "{'Samples': 2114, 'Features': 21, 'Anomalies': 466, 'Anomalies Ratio(%)': 22.04}\n",
      "{'Samples': 2114, 'Features': 21, 'Anomalies': 466, 'Anomalies Ratio(%)': 22.04}\n",
      "{'Samples': 2114, 'Features': 21, 'Anomalies': 466, 'Anomalies Ratio(%)': 22.04}\n",
      "{'Samples': 10000, 'Features': 39, 'Anomalies': 222, 'Anomalies Ratio(%)': 2.22}\n",
      "{'Samples': 10000, 'Features': 39, 'Anomalies': 238, 'Anomalies Ratio(%)': 2.38}\n",
      "{'Samples': 10000, 'Features': 39, 'Anomalies': 216, 'Anomalies Ratio(%)': 2.16}\n",
      "{'Samples': 10000, 'Features': 500, 'Anomalies': 618, 'Anomalies Ratio(%)': 6.18}\n",
      "{'Samples': 10000, 'Features': 500, 'Anomalies': 628, 'Anomalies Ratio(%)': 6.28}\n",
      "{'Samples': 10000, 'Features': 500, 'Anomalies': 652, 'Anomalies Ratio(%)': 6.52}\n",
      "{'Samples': 5263, 'Features': 512, 'Anomalies': 263, 'Anomalies Ratio(%)': 5.0}\n",
      "{'Samples': 5263, 'Features': 512, 'Anomalies': 263, 'Anomalies Ratio(%)': 5.0}\n",
      "{'Samples': 5263, 'Features': 512, 'Anomalies': 263, 'Anomalies Ratio(%)': 5.0}\n",
      "{'Samples': 5263, 'Features': 512, 'Anomalies': 263, 'Anomalies Ratio(%)': 5.0}\n",
      "{'Samples': 5263, 'Features': 512, 'Anomalies': 263, 'Anomalies Ratio(%)': 5.0}\n",
      "{'Samples': 5263, 'Features': 512, 'Anomalies': 263, 'Anomalies Ratio(%)': 5.0}\n",
      "{'Samples': 5263, 'Features': 512, 'Anomalies': 263, 'Anomalies Ratio(%)': 5.0}\n",
      "{'Samples': 5263, 'Features': 512, 'Anomalies': 263, 'Anomalies Ratio(%)': 5.0}\n",
      "{'Samples': 5263, 'Features': 512, 'Anomalies': 263, 'Anomalies Ratio(%)': 5.0}\n",
      "{'Samples': 5263, 'Features': 512, 'Anomalies': 263, 'Anomalies Ratio(%)': 5.0}\n",
      "{'Samples': 5263, 'Features': 512, 'Anomalies': 263, 'Anomalies Ratio(%)': 5.0}\n",
      "{'Samples': 5263, 'Features': 512, 'Anomalies': 263, 'Anomalies Ratio(%)': 5.0}\n",
      "{'Samples': 5263, 'Features': 512, 'Anomalies': 263, 'Anomalies Ratio(%)': 5.0}\n",
      "{'Samples': 5263, 'Features': 512, 'Anomalies': 263, 'Anomalies Ratio(%)': 5.0}\n",
      "{'Samples': 5263, 'Features': 512, 'Anomalies': 263, 'Anomalies Ratio(%)': 5.0}\n",
      "{'Samples': 5263, 'Features': 512, 'Anomalies': 263, 'Anomalies Ratio(%)': 5.0}\n",
      "{'Samples': 5263, 'Features': 512, 'Anomalies': 263, 'Anomalies Ratio(%)': 5.0}\n",
      "{'Samples': 5263, 'Features': 512, 'Anomalies': 263, 'Anomalies Ratio(%)': 5.0}\n",
      "{'Samples': 5263, 'Features': 512, 'Anomalies': 263, 'Anomalies Ratio(%)': 5.0}\n",
      "{'Samples': 5263, 'Features': 512, 'Anomalies': 263, 'Anomalies Ratio(%)': 5.0}\n",
      "{'Samples': 5263, 'Features': 512, 'Anomalies': 263, 'Anomalies Ratio(%)': 5.0}\n",
      "{'Samples': 5263, 'Features': 512, 'Anomalies': 263, 'Anomalies Ratio(%)': 5.0}\n",
      "{'Samples': 5263, 'Features': 512, 'Anomalies': 263, 'Anomalies Ratio(%)': 5.0}\n",
      "{'Samples': 5263, 'Features': 512, 'Anomalies': 263, 'Anomalies Ratio(%)': 5.0}\n",
      "{'Samples': 5263, 'Features': 512, 'Anomalies': 263, 'Anomalies Ratio(%)': 5.0}\n",
      "{'Samples': 5263, 'Features': 512, 'Anomalies': 263, 'Anomalies Ratio(%)': 5.0}\n",
      "{'Samples': 5263, 'Features': 512, 'Anomalies': 263, 'Anomalies Ratio(%)': 5.0}\n",
      "{'Samples': 5263, 'Features': 512, 'Anomalies': 263, 'Anomalies Ratio(%)': 5.0}\n",
      "{'Samples': 5263, 'Features': 512, 'Anomalies': 263, 'Anomalies Ratio(%)': 5.0}\n",
      "{'Samples': 5263, 'Features': 512, 'Anomalies': 263, 'Anomalies Ratio(%)': 5.0}\n",
      "{'Samples': 6315, 'Features': 512, 'Anomalies': 315, 'Anomalies Ratio(%)': 4.99}\n",
      "{'Samples': 6315, 'Features': 512, 'Anomalies': 315, 'Anomalies Ratio(%)': 4.99}\n",
      "{'Samples': 6315, 'Features': 512, 'Anomalies': 315, 'Anomalies Ratio(%)': 4.99}\n",
      "{'Samples': 6315, 'Features': 512, 'Anomalies': 315, 'Anomalies Ratio(%)': 4.99}\n",
      "{'Samples': 6315, 'Features': 512, 'Anomalies': 315, 'Anomalies Ratio(%)': 4.99}\n",
      "{'Samples': 6315, 'Features': 512, 'Anomalies': 315, 'Anomalies Ratio(%)': 4.99}\n",
      "{'Samples': 6315, 'Features': 512, 'Anomalies': 315, 'Anomalies Ratio(%)': 4.99}\n",
      "{'Samples': 6315, 'Features': 512, 'Anomalies': 315, 'Anomalies Ratio(%)': 4.99}\n",
      "{'Samples': 6315, 'Features': 512, 'Anomalies': 315, 'Anomalies Ratio(%)': 4.99}\n",
      "{'Samples': 6315, 'Features': 512, 'Anomalies': 315, 'Anomalies Ratio(%)': 4.99}\n",
      "{'Samples': 6315, 'Features': 512, 'Anomalies': 315, 'Anomalies Ratio(%)': 4.99}\n",
      "{'Samples': 6315, 'Features': 512, 'Anomalies': 315, 'Anomalies Ratio(%)': 4.99}\n",
      "{'Samples': 6315, 'Features': 512, 'Anomalies': 315, 'Anomalies Ratio(%)': 4.99}\n",
      "{'Samples': 6315, 'Features': 512, 'Anomalies': 315, 'Anomalies Ratio(%)': 4.99}\n",
      "{'Samples': 6315, 'Features': 512, 'Anomalies': 315, 'Anomalies Ratio(%)': 4.99}\n",
      "{'Samples': 6315, 'Features': 512, 'Anomalies': 315, 'Anomalies Ratio(%)': 4.99}\n",
      "{'Samples': 6315, 'Features': 512, 'Anomalies': 315, 'Anomalies Ratio(%)': 4.99}\n",
      "{'Samples': 6315, 'Features': 512, 'Anomalies': 315, 'Anomalies Ratio(%)': 4.99}\n",
      "{'Samples': 6315, 'Features': 512, 'Anomalies': 315, 'Anomalies Ratio(%)': 4.99}\n",
      "{'Samples': 6315, 'Features': 512, 'Anomalies': 315, 'Anomalies Ratio(%)': 4.99}\n",
      "{'Samples': 6315, 'Features': 512, 'Anomalies': 315, 'Anomalies Ratio(%)': 4.99}\n",
      "{'Samples': 6315, 'Features': 512, 'Anomalies': 315, 'Anomalies Ratio(%)': 4.99}\n",
      "{'Samples': 6315, 'Features': 512, 'Anomalies': 315, 'Anomalies Ratio(%)': 4.99}\n",
      "{'Samples': 6315, 'Features': 512, 'Anomalies': 315, 'Anomalies Ratio(%)': 4.99}\n",
      "{'Samples': 6315, 'Features': 512, 'Anomalies': 315, 'Anomalies Ratio(%)': 4.99}\n",
      "{'Samples': 6315, 'Features': 512, 'Anomalies': 315, 'Anomalies Ratio(%)': 4.99}\n",
      "{'Samples': 6315, 'Features': 512, 'Anomalies': 315, 'Anomalies Ratio(%)': 4.99}\n",
      "{'Samples': 6315, 'Features': 512, 'Anomalies': 315, 'Anomalies Ratio(%)': 4.99}\n",
      "{'Samples': 6315, 'Features': 512, 'Anomalies': 315, 'Anomalies Ratio(%)': 4.99}\n",
      "{'Samples': 6315, 'Features': 512, 'Anomalies': 315, 'Anomalies Ratio(%)': 4.99}\n",
      "{'Samples': 10000, 'Features': 512, 'Anomalies': 500, 'Anomalies Ratio(%)': 5.0}\n",
      "{'Samples': 10000, 'Features': 512, 'Anomalies': 500, 'Anomalies Ratio(%)': 5.0}\n",
      "{'Samples': 10000, 'Features': 512, 'Anomalies': 500, 'Anomalies Ratio(%)': 5.0}\n",
      "{'Samples': 10000, 'Features': 512, 'Anomalies': 500, 'Anomalies Ratio(%)': 5.0}\n",
      "{'Samples': 10000, 'Features': 512, 'Anomalies': 500, 'Anomalies Ratio(%)': 5.0}\n",
      "{'Samples': 10000, 'Features': 512, 'Anomalies': 500, 'Anomalies Ratio(%)': 5.0}\n",
      "{'Samples': 10000, 'Features': 512, 'Anomalies': 500, 'Anomalies Ratio(%)': 5.0}\n",
      "{'Samples': 10000, 'Features': 512, 'Anomalies': 500, 'Anomalies Ratio(%)': 5.0}\n",
      "{'Samples': 10000, 'Features': 512, 'Anomalies': 500, 'Anomalies Ratio(%)': 5.0}\n",
      "{'Samples': 10000, 'Features': 512, 'Anomalies': 500, 'Anomalies Ratio(%)': 5.0}\n",
      "{'Samples': 10000, 'Features': 512, 'Anomalies': 500, 'Anomalies Ratio(%)': 5.0}\n",
      "{'Samples': 10000, 'Features': 512, 'Anomalies': 500, 'Anomalies Ratio(%)': 5.0}\n",
      "{'Samples': 10000, 'Features': 512, 'Anomalies': 500, 'Anomalies Ratio(%)': 5.0}\n",
      "{'Samples': 10000, 'Features': 512, 'Anomalies': 500, 'Anomalies Ratio(%)': 5.0}\n",
      "{'Samples': 10000, 'Features': 512, 'Anomalies': 500, 'Anomalies Ratio(%)': 5.0}\n",
      "{'Samples': 10000, 'Features': 512, 'Anomalies': 500, 'Anomalies Ratio(%)': 5.0}\n",
      "{'Samples': 10000, 'Features': 512, 'Anomalies': 500, 'Anomalies Ratio(%)': 5.0}\n",
      "{'Samples': 10000, 'Features': 512, 'Anomalies': 500, 'Anomalies Ratio(%)': 5.0}\n",
      "{'Samples': 10000, 'Features': 512, 'Anomalies': 500, 'Anomalies Ratio(%)': 5.0}\n",
      "{'Samples': 10000, 'Features': 512, 'Anomalies': 500, 'Anomalies Ratio(%)': 5.0}\n",
      "{'Samples': 10000, 'Features': 512, 'Anomalies': 500, 'Anomalies Ratio(%)': 5.0}\n",
      "{'Samples': 10000, 'Features': 512, 'Anomalies': 500, 'Anomalies Ratio(%)': 5.0}\n",
      "{'Samples': 10000, 'Features': 512, 'Anomalies': 500, 'Anomalies Ratio(%)': 5.0}\n",
      "{'Samples': 10000, 'Features': 512, 'Anomalies': 500, 'Anomalies Ratio(%)': 5.0}\n",
      "{'Samples': 10000, 'Features': 512, 'Anomalies': 500, 'Anomalies Ratio(%)': 5.0}\n",
      "{'Samples': 10000, 'Features': 512, 'Anomalies': 500, 'Anomalies Ratio(%)': 5.0}\n",
      "{'Samples': 10000, 'Features': 512, 'Anomalies': 500, 'Anomalies Ratio(%)': 5.0}\n",
      "{'Samples': 10000, 'Features': 512, 'Anomalies': 500, 'Anomalies Ratio(%)': 5.0}\n",
      "{'Samples': 10000, 'Features': 512, 'Anomalies': 500, 'Anomalies Ratio(%)': 5.0}\n",
      "{'Samples': 10000, 'Features': 512, 'Anomalies': 500, 'Anomalies Ratio(%)': 5.0}\n",
      "{'Samples': 10000, 'Features': 512, 'Anomalies': 500, 'Anomalies Ratio(%)': 5.0}\n",
      "{'Samples': 10000, 'Features': 512, 'Anomalies': 500, 'Anomalies Ratio(%)': 5.0}\n",
      "{'Samples': 10000, 'Features': 512, 'Anomalies': 500, 'Anomalies Ratio(%)': 5.0}\n",
      "{'Samples': 10000, 'Features': 512, 'Anomalies': 500, 'Anomalies Ratio(%)': 5.0}\n",
      "{'Samples': 10000, 'Features': 512, 'Anomalies': 500, 'Anomalies Ratio(%)': 5.0}\n",
      "{'Samples': 10000, 'Features': 512, 'Anomalies': 500, 'Anomalies Ratio(%)': 5.0}\n",
      "{'Samples': 10000, 'Features': 512, 'Anomalies': 500, 'Anomalies Ratio(%)': 5.0}\n",
      "{'Samples': 10000, 'Features': 512, 'Anomalies': 500, 'Anomalies Ratio(%)': 5.0}\n",
      "{'Samples': 10000, 'Features': 512, 'Anomalies': 500, 'Anomalies Ratio(%)': 5.0}\n",
      "{'Samples': 10000, 'Features': 512, 'Anomalies': 500, 'Anomalies Ratio(%)': 5.0}\n",
      "{'Samples': 10000, 'Features': 512, 'Anomalies': 500, 'Anomalies Ratio(%)': 5.0}\n",
      "{'Samples': 10000, 'Features': 512, 'Anomalies': 500, 'Anomalies Ratio(%)': 5.0}\n",
      "{'Samples': 10000, 'Features': 512, 'Anomalies': 500, 'Anomalies Ratio(%)': 5.0}\n",
      "{'Samples': 10000, 'Features': 512, 'Anomalies': 500, 'Anomalies Ratio(%)': 5.0}\n",
      "{'Samples': 10000, 'Features': 512, 'Anomalies': 500, 'Anomalies Ratio(%)': 5.0}\n",
      "{'Samples': 10000, 'Features': 512, 'Anomalies': 500, 'Anomalies Ratio(%)': 5.0}\n",
      "{'Samples': 10000, 'Features': 512, 'Anomalies': 500, 'Anomalies Ratio(%)': 5.0}\n",
      "{'Samples': 10000, 'Features': 512, 'Anomalies': 500, 'Anomalies Ratio(%)': 5.0}\n",
      "{'Samples': 1000, 'Features': 512, 'Anomalies': 215, 'Anomalies Ratio(%)': 21.5}\n",
      "{'Samples': 1000, 'Features': 512, 'Anomalies': 215, 'Anomalies Ratio(%)': 21.5}\n",
      "{'Samples': 1000, 'Features': 512, 'Anomalies': 198, 'Anomalies Ratio(%)': 19.8}\n",
      "{'Samples': 1000, 'Features': 512, 'Anomalies': 251, 'Anomalies Ratio(%)': 25.1}\n",
      "{'Samples': 1000, 'Features': 512, 'Anomalies': 242, 'Anomalies Ratio(%)': 24.2}\n",
      "{'Samples': 1000, 'Features': 512, 'Anomalies': 242, 'Anomalies Ratio(%)': 24.2}\n",
      "{'Samples': 1000, 'Features': 512, 'Anomalies': 308, 'Anomalies Ratio(%)': 30.8}\n",
      "{'Samples': 1000, 'Features': 512, 'Anomalies': 304, 'Anomalies Ratio(%)': 30.4}\n",
      "{'Samples': 1000, 'Features': 512, 'Anomalies': 294, 'Anomalies Ratio(%)': 29.4}\n",
      "{'Samples': 1000, 'Features': 512, 'Anomalies': 254, 'Anomalies Ratio(%)': 25.4}\n",
      "{'Samples': 1000, 'Features': 512, 'Anomalies': 227, 'Anomalies Ratio(%)': 22.7}\n",
      "{'Samples': 1000, 'Features': 512, 'Anomalies': 213, 'Anomalies Ratio(%)': 21.3}\n",
      "{'Samples': 1000, 'Features': 512, 'Anomalies': 180, 'Anomalies Ratio(%)': 18.0}\n",
      "{'Samples': 1000, 'Features': 512, 'Anomalies': 169, 'Anomalies Ratio(%)': 16.9}\n",
      "{'Samples': 1000, 'Features': 512, 'Anomalies': 174, 'Anomalies Ratio(%)': 17.4}\n",
      "{'Samples': 1000, 'Features': 512, 'Anomalies': 138, 'Anomalies Ratio(%)': 13.8}\n",
      "{'Samples': 1000, 'Features': 512, 'Anomalies': 160, 'Anomalies Ratio(%)': 16.0}\n",
      "{'Samples': 1000, 'Features': 512, 'Anomalies': 142, 'Anomalies Ratio(%)': 14.2}\n",
      "{'Samples': 1000, 'Features': 512, 'Anomalies': 259, 'Anomalies Ratio(%)': 25.9}\n",
      "{'Samples': 1000, 'Features': 512, 'Anomalies': 273, 'Anomalies Ratio(%)': 27.3}\n",
      "{'Samples': 1000, 'Features': 512, 'Anomalies': 246, 'Anomalies Ratio(%)': 24.6}\n",
      "{'Samples': 1000, 'Features': 512, 'Anomalies': 284, 'Anomalies Ratio(%)': 28.4}\n",
      "{'Samples': 1000, 'Features': 512, 'Anomalies': 283, 'Anomalies Ratio(%)': 28.3}\n",
      "{'Samples': 1000, 'Features': 512, 'Anomalies': 281, 'Anomalies Ratio(%)': 28.1}\n",
      "{'Samples': 1000, 'Features': 512, 'Anomalies': 314, 'Anomalies Ratio(%)': 31.4}\n",
      "{'Samples': 1000, 'Features': 512, 'Anomalies': 300, 'Anomalies Ratio(%)': 30.0}\n",
      "{'Samples': 1000, 'Features': 512, 'Anomalies': 326, 'Anomalies Ratio(%)': 32.6}\n",
      "{'Samples': 1000, 'Features': 512, 'Anomalies': 240, 'Anomalies Ratio(%)': 24.0}\n",
      "{'Samples': 1000, 'Features': 512, 'Anomalies': 244, 'Anomalies Ratio(%)': 24.4}\n",
      "{'Samples': 1000, 'Features': 512, 'Anomalies': 266, 'Anomalies Ratio(%)': 26.6}\n",
      "{'Samples': 1000, 'Features': 512, 'Anomalies': 227, 'Anomalies Ratio(%)': 22.7}\n",
      "{'Samples': 1000, 'Features': 512, 'Anomalies': 231, 'Anomalies Ratio(%)': 23.1}\n",
      "{'Samples': 1000, 'Features': 512, 'Anomalies': 252, 'Anomalies Ratio(%)': 25.2}\n",
      "{'Samples': 1000, 'Features': 512, 'Anomalies': 271, 'Anomalies Ratio(%)': 27.1}\n",
      "{'Samples': 1000, 'Features': 512, 'Anomalies': 285, 'Anomalies Ratio(%)': 28.5}\n",
      "{'Samples': 1000, 'Features': 512, 'Anomalies': 288, 'Anomalies Ratio(%)': 28.8}\n",
      "{'Samples': 1000, 'Features': 512, 'Anomalies': 115, 'Anomalies Ratio(%)': 11.5}\n",
      "{'Samples': 1000, 'Features': 512, 'Anomalies': 135, 'Anomalies Ratio(%)': 13.5}\n",
      "{'Samples': 1000, 'Features': 512, 'Anomalies': 114, 'Anomalies Ratio(%)': 11.4}\n",
      "{'Samples': 1000, 'Features': 512, 'Anomalies': 184, 'Anomalies Ratio(%)': 18.4}\n",
      "{'Samples': 1000, 'Features': 512, 'Anomalies': 189, 'Anomalies Ratio(%)': 18.9}\n",
      "{'Samples': 1000, 'Features': 512, 'Anomalies': 175, 'Anomalies Ratio(%)': 17.5}\n",
      "{'Samples': 1000, 'Features': 512, 'Anomalies': 305, 'Anomalies Ratio(%)': 30.5}\n",
      "{'Samples': 1000, 'Features': 512, 'Anomalies': 304, 'Anomalies Ratio(%)': 30.4}\n",
      "{'Samples': 1000, 'Features': 512, 'Anomalies': 320, 'Anomalies Ratio(%)': 32.0}\n",
      "{'Samples': 5208, 'Features': 512, 'Anomalies': 260, 'Anomalies Ratio(%)': 4.99}\n",
      "{'Samples': 5208, 'Features': 512, 'Anomalies': 260, 'Anomalies Ratio(%)': 4.99}\n",
      "{'Samples': 5208, 'Features': 512, 'Anomalies': 260, 'Anomalies Ratio(%)': 4.99}\n",
      "{'Samples': 10000, 'Features': 512, 'Anomalies': 500, 'Anomalies Ratio(%)': 5.0}\n",
      "{'Samples': 10000, 'Features': 512, 'Anomalies': 500, 'Anomalies Ratio(%)': 5.0}\n",
      "{'Samples': 10000, 'Features': 512, 'Anomalies': 500, 'Anomalies Ratio(%)': 5.0}\n",
      "{'Samples': 10000, 'Features': 512, 'Anomalies': 500, 'Anomalies Ratio(%)': 5.0}\n",
      "{'Samples': 10000, 'Features': 512, 'Anomalies': 500, 'Anomalies Ratio(%)': 5.0}\n",
      "{'Samples': 10000, 'Features': 512, 'Anomalies': 500, 'Anomalies Ratio(%)': 5.0}\n",
      "{'Samples': 8944, 'Features': 512, 'Anomalies': 447, 'Anomalies Ratio(%)': 5.0}\n",
      "{'Samples': 8944, 'Features': 512, 'Anomalies': 447, 'Anomalies Ratio(%)': 5.0}\n",
      "{'Samples': 8944, 'Features': 512, 'Anomalies': 447, 'Anomalies Ratio(%)': 5.0}\n",
      "{'Samples': 7850, 'Features': 512, 'Anomalies': 392, 'Anomalies Ratio(%)': 4.99}\n",
      "{'Samples': 7850, 'Features': 512, 'Anomalies': 392, 'Anomalies Ratio(%)': 4.99}\n",
      "{'Samples': 7850, 'Features': 512, 'Anomalies': 392, 'Anomalies Ratio(%)': 4.99}\n",
      "{'Samples': 7244, 'Features': 512, 'Anomalies': 362, 'Anomalies Ratio(%)': 5.0}\n",
      "{'Samples': 7244, 'Features': 512, 'Anomalies': 362, 'Anomalies Ratio(%)': 5.0}\n",
      "{'Samples': 7244, 'Features': 512, 'Anomalies': 362, 'Anomalies Ratio(%)': 5.0}\n",
      "{'Samples': 6028, 'Features': 512, 'Anomalies': 301, 'Anomalies Ratio(%)': 4.99}\n",
      "{'Samples': 6028, 'Features': 512, 'Anomalies': 301, 'Anomalies Ratio(%)': 4.99}\n",
      "{'Samples': 6028, 'Features': 512, 'Anomalies': 301, 'Anomalies Ratio(%)': 4.99}\n",
      "{'Samples': 5889, 'Features': 512, 'Anomalies': 294, 'Anomalies Ratio(%)': 4.99}\n",
      "{'Samples': 5889, 'Features': 512, 'Anomalies': 294, 'Anomalies Ratio(%)': 4.99}\n",
      "{'Samples': 5889, 'Features': 512, 'Anomalies': 294, 'Anomalies Ratio(%)': 4.99}\n",
      "{'Samples': 5310, 'Features': 512, 'Anomalies': 265, 'Anomalies Ratio(%)': 4.99}\n",
      "{'Samples': 5310, 'Features': 512, 'Anomalies': 265, 'Anomalies Ratio(%)': 4.99}\n",
      "{'Samples': 5310, 'Features': 512, 'Anomalies': 265, 'Anomalies Ratio(%)': 4.99}\n",
      "{'Samples': 4904, 'Features': 512, 'Anomalies': 245, 'Anomalies Ratio(%)': 5.0}\n",
      "{'Samples': 4904, 'Features': 512, 'Anomalies': 245, 'Anomalies Ratio(%)': 5.0}\n",
      "{'Samples': 4904, 'Features': 512, 'Anomalies': 245, 'Anomalies Ratio(%)': 5.0}\n",
      "{'Samples': 3090, 'Features': 768, 'Anomalies': 154, 'Anomalies Ratio(%)': 4.98}\n",
      "{'Samples': 3090, 'Features': 768, 'Anomalies': 154, 'Anomalies Ratio(%)': 4.98}\n",
      "{'Samples': 3090, 'Features': 768, 'Anomalies': 154, 'Anomalies Ratio(%)': 4.98}\n",
      "{'Samples': 2514, 'Features': 768, 'Anomalies': 125, 'Anomalies Ratio(%)': 4.97}\n",
      "{'Samples': 2514, 'Features': 768, 'Anomalies': 125, 'Anomalies Ratio(%)': 4.97}\n",
      "{'Samples': 2514, 'Features': 768, 'Anomalies': 125, 'Anomalies Ratio(%)': 4.97}\n",
      "{'Samples': 2497, 'Features': 768, 'Anomalies': 124, 'Anomalies Ratio(%)': 4.97}\n",
      "{'Samples': 2497, 'Features': 768, 'Anomalies': 124, 'Anomalies Ratio(%)': 4.97}\n",
      "{'Samples': 2497, 'Features': 768, 'Anomalies': 124, 'Anomalies Ratio(%)': 4.97}\n",
      "{'Samples': 1000, 'Features': 768, 'Anomalies': 40, 'Anomalies Ratio(%)': 4.0}\n",
      "{'Samples': 1000, 'Features': 768, 'Anomalies': 44, 'Anomalies Ratio(%)': 4.4}\n",
      "{'Samples': 1000, 'Features': 768, 'Anomalies': 44, 'Anomalies Ratio(%)': 4.4}\n",
      "{'Samples': 1657, 'Features': 768, 'Anomalies': 82, 'Anomalies Ratio(%)': 4.95}\n",
      "{'Samples': 1657, 'Features': 768, 'Anomalies': 82, 'Anomalies Ratio(%)': 4.95}\n",
      "{'Samples': 1657, 'Features': 768, 'Anomalies': 82, 'Anomalies Ratio(%)': 4.95}\n",
      "{'Samples': 1532, 'Features': 768, 'Anomalies': 76, 'Anomalies Ratio(%)': 4.96}\n",
      "{'Samples': 1532, 'Features': 768, 'Anomalies': 76, 'Anomalies Ratio(%)': 4.96}\n",
      "{'Samples': 1532, 'Features': 768, 'Anomalies': 76, 'Anomalies Ratio(%)': 4.96}\n",
      "{'Samples': 10000, 'Features': 768, 'Anomalies': 500, 'Anomalies Ratio(%)': 5.0}\n",
      "{'Samples': 10000, 'Features': 768, 'Anomalies': 500, 'Anomalies Ratio(%)': 5.0}\n",
      "{'Samples': 10000, 'Features': 768, 'Anomalies': 500, 'Anomalies Ratio(%)': 5.0}\n",
      "{'Samples': 10000, 'Features': 768, 'Anomalies': 500, 'Anomalies Ratio(%)': 5.0}\n",
      "{'Samples': 10000, 'Features': 768, 'Anomalies': 500, 'Anomalies Ratio(%)': 5.0}\n",
      "{'Samples': 10000, 'Features': 768, 'Anomalies': 500, 'Anomalies Ratio(%)': 5.0}\n",
      "{'Samples': 10000, 'Features': 768, 'Anomalies': 500, 'Anomalies Ratio(%)': 5.0}\n",
      "{'Samples': 10000, 'Features': 768, 'Anomalies': 500, 'Anomalies Ratio(%)': 5.0}\n",
      "{'Samples': 10000, 'Features': 768, 'Anomalies': 500, 'Anomalies Ratio(%)': 5.0}\n",
      "{'Samples': 10000, 'Features': 768, 'Anomalies': 500, 'Anomalies Ratio(%)': 5.0}\n",
      "{'Samples': 10000, 'Features': 768, 'Anomalies': 500, 'Anomalies Ratio(%)': 5.0}\n",
      "{'Samples': 10000, 'Features': 768, 'Anomalies': 500, 'Anomalies Ratio(%)': 5.0}\n",
      "{'Samples': 10000, 'Features': 768, 'Anomalies': 500, 'Anomalies Ratio(%)': 5.0}\n",
      "{'Samples': 10000, 'Features': 768, 'Anomalies': 500, 'Anomalies Ratio(%)': 5.0}\n",
      "{'Samples': 10000, 'Features': 768, 'Anomalies': 500, 'Anomalies Ratio(%)': 5.0}\n",
      "{'Samples': 10000, 'Features': 768, 'Anomalies': 500, 'Anomalies Ratio(%)': 5.0}\n",
      "{'Samples': 10000, 'Features': 768, 'Anomalies': 500, 'Anomalies Ratio(%)': 5.0}\n",
      "{'Samples': 10000, 'Features': 768, 'Anomalies': 500, 'Anomalies Ratio(%)': 5.0}\n",
      "{'Samples': 10000, 'Features': 768, 'Anomalies': 500, 'Anomalies Ratio(%)': 5.0}\n",
      "{'Samples': 10000, 'Features': 768, 'Anomalies': 500, 'Anomalies Ratio(%)': 5.0}\n",
      "{'Samples': 10000, 'Features': 768, 'Anomalies': 500, 'Anomalies Ratio(%)': 5.0}\n"
     ]
    },
    {
     "name": "stderr",
     "output_type": "stream",
     "text": [
      "0it [00:00, ?it/s]"
     ]
    },
    {
     "name": "stdout",
     "output_type": "stream",
     "text": [
      "{'Samples': 1000, 'Features': 512, 'Anomalies': 138, 'Anomalies Ratio(%)': 13.8}\n",
      "epoch : 1/5000, loss = 78.557297\n",
      "epoch : 1000/5000, loss = 6.841993\n",
      "epoch : 2000/5000, loss = 6.264064\n",
      "epoch : 3000/5000, loss = 4.234179\n",
      "epoch : 4000/5000, loss = 4.211708\n",
      "epoch : 5000/5000, loss = 4.286049\n",
      "self.error_median=1.4655, self.error_range=1.6594, self.latent_error_median_=0.0442, self.latent_error_range_=0.0518\n",
      "Model result scaling scheme:  True\n",
      "Latent dim= 16. Weight Decay = 0.000001\n",
      "Using cuda\n",
      "self.error_mu=1.9105, self.error_std=1.3748, self.latent_error_mu_=0.0640, self.latent_error_sigma_=0.0694; alpha = 1.0000\n"
     ]
    },
    {
     "name": "stderr",
     "output_type": "stream",
     "text": [
      "1it [05:49, 349.95s/it]"
     ]
    },
    {
     "name": "stdout",
     "output_type": "stream",
     "text": [
      "Current experiment parameters: ('MVTec-AD_hazelnut', 0.0, 1), model: Customized, metrics: {'aucroc': 0.6537338732460684, 'aucpr': 0.3885518841025344}, fitting time: 349.6736559867859, inference time: 0.001993894577026367\n",
      "\n",
      "Model performance:\n",
      "Reconstruction AUCROC=0.6812; AUCPR=0.3612\n",
      "Deviation AUCROC=0.6066; AUCPR=0.3971\n",
      "Max(rec, dev) AUCROC=0.6814; AUCPR=0.3612\n",
      "\n",
      "Sum of squared error AUCROC=0.6833; AUCPR=0.3614\n",
      "\n",
      "Transformer selector AUCROC=0.8002; AUCPR=0.5416\n",
      "\n",
      "{'Samples': 1000, 'Features': 13, 'Anomalies': 75, 'Anomalies Ratio(%)': 7.5}\n",
      "epoch : 1/5000, loss = 5.386550\n",
      "epoch : 1000/5000, loss = 0.367395\n",
      "epoch : 2000/5000, loss = 1.093875\n",
      "epoch : 3000/5000, loss = 0.081065\n",
      "epoch : 4000/5000, loss = 0.048551\n",
      "epoch : 5000/5000, loss = 0.029588\n",
      "self.error_median=0.0055, self.error_range=0.0084, self.latent_error_median_=0.0047, self.latent_error_range_=0.0038\n",
      "Model result scaling scheme:  True\n",
      "Latent dim= 13. Weight Decay = 0.000001\n",
      "Using cuda\n",
      "self.error_mu=0.0086, self.error_std=0.0085, self.latent_error_mu_=0.0055, self.latent_error_sigma_=0.0029; alpha = 1.0000\n",
      "Current experiment parameters: ('45_wine', 0.0, 1), model: Customized, metrics: {'aucroc': 0.5135771464448281, 'aucpr': 0.1039234316970449}, fitting time: 377.92708563804626, inference time: 0.0019948482513427734\n"
     ]
    },
    {
     "name": "stderr",
     "output_type": "stream",
     "text": [
      "25it [12:08, 25.23s/it]"
     ]
    },
    {
     "name": "stdout",
     "output_type": "stream",
     "text": [
      "\n",
      "Model performance:\n",
      "Reconstruction AUCROC=0.4362; AUCPR=0.0892\n",
      "Deviation AUCROC=0.6277; AUCPR=0.1220\n",
      "Max(rec, dev) AUCROC=0.4428; AUCPR=0.0913\n",
      "\n",
      "Sum of squared error AUCROC=0.4579; AUCPR=0.0922\n",
      "\n",
      "Transformer selector AUCROC=0.6467; AUCPR=0.1109\n",
      "\n",
      "{'Samples': 1000, 'Features': 13, 'Anomalies': 80, 'Anomalies Ratio(%)': 8.0}\n",
      "epoch : 1/5000, loss = 5.354144\n",
      "epoch : 1000/5000, loss = 0.119731\n",
      "epoch : 2000/5000, loss = 0.079149\n",
      "epoch : 3000/5000, loss = 0.034796\n",
      "epoch : 4000/5000, loss = 0.027162\n",
      "epoch : 5000/5000, loss = 0.024340\n",
      "self.error_median=0.0054, self.error_range=0.0069, self.latent_error_median_=0.0044, self.latent_error_range_=0.0031\n",
      "Model result scaling scheme:  True\n",
      "Latent dim= 13. Weight Decay = 0.000001\n",
      "Using cuda\n",
      "self.error_mu=0.0072, self.error_std=0.0069, self.latent_error_mu_=0.0050, self.latent_error_sigma_=0.0024; alpha = 1.0000\n",
      "Current experiment parameters: ('45_wine', 0.0, 2), model: Customized, metrics: {'aucroc': 0.6065821256038647, 'aucpr': 0.10591166827676052}, fitting time: 378.9098131656647, inference time: 0.0019943714141845703\n",
      "\n",
      "Model performance:\n",
      "Reconstruction AUCROC=0.4915; AUCPR=0.0810\n",
      "Deviation AUCROC=0.6940; AUCPR=0.1341\n",
      "Max(rec, dev) AUCROC=0.4882; AUCPR=0.0809\n",
      "\n",
      "Sum of squared error AUCROC=0.5140; AUCPR=0.0860\n",
      "\n"
     ]
    },
    {
     "name": "stderr",
     "output_type": "stream",
     "text": [
      "26it [18:27, 44.58s/it]"
     ]
    },
    {
     "name": "stdout",
     "output_type": "stream",
     "text": [
      "Transformer selector AUCROC=0.4561; AUCPR=0.0765\n",
      "\n",
      "{'Samples': 1000, 'Features': 13, 'Anomalies': 88, 'Anomalies Ratio(%)': 8.8}\n",
      "epoch : 1/5000, loss = 5.977365\n",
      "epoch : 1000/5000, loss = 0.341978\n",
      "epoch : 2000/5000, loss = 0.249663\n",
      "epoch : 3000/5000, loss = 0.050608\n",
      "epoch : 4000/5000, loss = 0.037786\n",
      "epoch : 5000/5000, loss = 0.023848\n",
      "self.error_median=0.0044, self.error_range=0.0084, self.latent_error_median_=0.0049, self.latent_error_range_=0.0046\n",
      "Model result scaling scheme:  True\n",
      "Latent dim= 13. Weight Decay = 0.000001\n",
      "Using cuda\n",
      "self.error_mu=0.0067, self.error_std=0.0069, self.latent_error_mu_=0.0057, self.latent_error_sigma_=0.0029; alpha = 1.0000\n",
      "Current experiment parameters: ('45_wine', 0.0, 3), model: Customized, metrics: {'aucroc': 0.5315833801235261, 'aucpr': 0.09732319627564337}, fitting time: 379.64398884773254, inference time: 0.002022266387939453\n"
     ]
    },
    {
     "name": "stderr",
     "output_type": "stream",
     "text": [
      "27it [24:47, 68.87s/it]"
     ]
    },
    {
     "name": "stdout",
     "output_type": "stream",
     "text": [
      "\n",
      "Model performance:\n",
      "Reconstruction AUCROC=0.5074; AUCPR=0.0930\n",
      "Deviation AUCROC=0.6352; AUCPR=0.1214\n",
      "Max(rec, dev) AUCROC=0.4704; AUCPR=0.0850\n",
      "\n",
      "Sum of squared error AUCROC=0.5086; AUCPR=0.0930\n",
      "\n",
      "Transformer selector AUCROC=0.2284; AUCPR=0.0596\n",
      "\n",
      "{'Samples': 1000, 'Features': 6, 'Anomalies': 123, 'Anomalies Ratio(%)': 12.3}\n",
      "epoch : 1/5000, loss = 0.067692\n",
      "epoch : 1000/5000, loss = 0.095407\n",
      "epoch : 2000/5000, loss = 0.457984\n",
      "epoch : 3000/5000, loss = 0.014301\n",
      "epoch : 4000/5000, loss = 0.004072\n",
      "epoch : 5000/5000, loss = 0.003661\n",
      "self.error_median=0.0005, self.error_range=0.0004, self.latent_error_median_=0.0008, self.latent_error_range_=0.0011\n",
      "Model result scaling scheme:  True\n",
      "Latent dim= 6. Weight Decay = 0.000001\n",
      "Using cuda\n",
      "self.error_mu=0.0006, self.error_std=0.0003, self.latent_error_mu_=0.0012, self.latent_error_sigma_=0.0025; alpha = 1.0000\n",
      "Current experiment parameters: ('39_vertebral', 0.0, 1), model: Customized, metrics: {'aucroc': 0.3423080875552359, 'aucpr': 0.09366097604569738}, fitting time: 377.6822724342346, inference time: 0.0020017623901367188\n",
      "\n",
      "Model performance:\n",
      "Reconstruction AUCROC=0.3514; AUCPR=0.0947\n",
      "Deviation AUCROC=0.3839; AUCPR=0.0995\n",
      "Max(rec, dev) AUCROC=0.3688; AUCPR=0.0971\n",
      "\n",
      "Sum of squared error AUCROC=0.3570; AUCPR=0.0958\n",
      "\n",
      "Transformer selector AUCROC=0.2715; AUCPR=0.0857\n",
      "\n"
     ]
    },
    {
     "name": "stderr",
     "output_type": "stream",
     "text": [
      "49it [31:05, 32.95s/it]"
     ]
    },
    {
     "name": "stdout",
     "output_type": "stream",
     "text": [
      "{'Samples': 1000, 'Features': 6, 'Anomalies': 138, 'Anomalies Ratio(%)': 13.8}\n",
      "epoch : 1/5000, loss = 1.967304\n",
      "epoch : 1000/5000, loss = 0.012690\n",
      "epoch : 2000/5000, loss = 0.004227\n",
      "epoch : 3000/5000, loss = 0.002735\n",
      "epoch : 4000/5000, loss = 0.003636\n",
      "epoch : 5000/5000, loss = 0.003357\n",
      "self.error_median=0.0011, self.error_range=0.0007, self.latent_error_median_=0.0004, self.latent_error_range_=0.0006\n",
      "Model result scaling scheme:  True\n",
      "Latent dim= 6. Weight Decay = 0.000001\n",
      "Using cuda\n",
      "self.error_mu=0.0012, self.error_std=0.0006, self.latent_error_mu_=0.0006, self.latent_error_sigma_=0.0008; alpha = 1.0000\n",
      "Current experiment parameters: ('39_vertebral', 0.0, 2), model: Customized, metrics: {'aucroc': 0.3576607966851869, 'aucpr': 0.10584216816655023}, fitting time: 380.0440948009491, inference time: 0.0019943714141845703\n"
     ]
    },
    {
     "name": "stderr",
     "output_type": "stream",
     "text": [
      "50it [37:25, 47.95s/it]"
     ]
    },
    {
     "name": "stdout",
     "output_type": "stream",
     "text": [
      "\n",
      "Model performance:\n",
      "Reconstruction AUCROC=0.4250; AUCPR=0.1169\n",
      "Deviation AUCROC=0.3392; AUCPR=0.1041\n",
      "Max(rec, dev) AUCROC=0.3888; AUCPR=0.1106\n",
      "\n",
      "Sum of squared error AUCROC=0.3900; AUCPR=0.1109\n",
      "\n",
      "Transformer selector AUCROC=0.3538; AUCPR=0.1065\n",
      "\n",
      "{'Samples': 1000, 'Features': 6, 'Anomalies': 133, 'Anomalies Ratio(%)': 13.3}\n",
      "epoch : 1/5000, loss = 1.843950\n",
      "epoch : 1000/5000, loss = 0.012762\n",
      "epoch : 2000/5000, loss = 0.007163\n",
      "epoch : 3000/5000, loss = 0.003586\n",
      "epoch : 4000/5000, loss = 0.010803\n",
      "epoch : 5000/5000, loss = 0.002383\n",
      "self.error_median=0.0003, self.error_range=0.0003, self.latent_error_median_=0.0007, self.latent_error_range_=0.0012\n",
      "Model result scaling scheme:  True\n",
      "Latent dim= 6. Weight Decay = 0.000001\n",
      "Using cuda\n",
      "self.error_mu=0.0003, self.error_std=0.0002, self.latent_error_mu_=0.0010, self.latent_error_sigma_=0.0013; alpha = 1.0000\n",
      "Current experiment parameters: ('39_vertebral', 0.0, 3), model: Customized, metrics: {'aucroc': 0.4246153846153846, 'aucpr': 0.11304648875989606}, fitting time: 382.0046682357788, inference time: 0.0019943714141845703\n"
     ]
    },
    {
     "name": "stderr",
     "output_type": "stream",
     "text": [
      "51it [43:47, 67.37s/it]"
     ]
    },
    {
     "name": "stdout",
     "output_type": "stream",
     "text": [
      "\n",
      "Model performance:\n",
      "Reconstruction AUCROC=0.4883; AUCPR=0.1261\n",
      "Deviation AUCROC=0.3553; AUCPR=0.1047\n",
      "Max(rec, dev) AUCROC=0.3563; AUCPR=0.1048\n",
      "\n",
      "Sum of squared error AUCROC=0.3491; AUCPR=0.1026\n",
      "\n",
      "Transformer selector AUCROC=0.6218; AUCPR=0.1796\n",
      "\n",
      "{'Samples': 1000, 'Features': 33, 'Anomalies': 239, 'Anomalies Ratio(%)': 23.9}\n",
      "epoch : 1/5000, loss = 9.641678\n",
      "epoch : 1000/5000, loss = 0.595854\n",
      "epoch : 2000/5000, loss = 0.280741\n",
      "epoch : 3000/5000, loss = 0.180176\n",
      "epoch : 4000/5000, loss = 0.133185\n",
      "epoch : 5000/5000, loss = 0.090119\n",
      "self.error_median=0.0273, self.error_range=0.0309, self.latent_error_median_=0.0063, self.latent_error_range_=0.0059\n",
      "Model result scaling scheme:  True\n",
      "Latent dim= 16. Weight Decay = 0.000001\n",
      "Using cuda\n",
      "self.error_mu=0.0365, self.error_std=0.0361, self.latent_error_mu_=0.0079, self.latent_error_sigma_=0.0053; alpha = 1.0000\n",
      "Current experiment parameters: ('46_WPBC', 0.0, 1), model: Customized, metrics: {'aucroc': 0.4697855750487329, 'aucpr': 0.2231388539838165}, fitting time: 377.4299490451813, inference time: 0.000997304916381836\n"
     ]
    },
    {
     "name": "stderr",
     "output_type": "stream",
     "text": [
      "73it [50:05, 34.93s/it]"
     ]
    },
    {
     "name": "stdout",
     "output_type": "stream",
     "text": [
      "\n",
      "Model performance:\n",
      "Reconstruction AUCROC=0.4713; AUCPR=0.2230\n",
      "Deviation AUCROC=0.4709; AUCPR=0.2206\n",
      "Max(rec, dev) AUCROC=0.4711; AUCPR=0.2229\n",
      "\n",
      "Sum of squared error AUCROC=0.4695; AUCPR=0.2226\n",
      "\n",
      "Transformer selector AUCROC=0.5006; AUCPR=0.2879\n",
      "\n",
      "{'Samples': 1000, 'Features': 33, 'Anomalies': 224, 'Anomalies Ratio(%)': 22.4}\n",
      "epoch : 1/5000, loss = 9.637903\n",
      "epoch : 1000/5000, loss = 0.343958\n",
      "epoch : 2000/5000, loss = 0.248364\n",
      "epoch : 3000/5000, loss = 0.185242\n",
      "epoch : 4000/5000, loss = 0.122598\n",
      "epoch : 5000/5000, loss = 0.110678\n",
      "self.error_median=0.0331, self.error_range=0.0301, self.latent_error_median_=0.0079, self.latent_error_range_=0.0087\n",
      "Model result scaling scheme:  True\n",
      "Latent dim= 16. Weight Decay = 0.000001\n",
      "Using cuda\n",
      "self.error_mu=0.0386, self.error_std=0.0273, self.latent_error_mu_=0.0102, self.latent_error_sigma_=0.0074; alpha = 1.0000\n",
      "Current experiment parameters: ('46_WPBC', 0.0, 2), model: Customized, metrics: {'aucroc': 0.42111331753250913, 'aucpr': 0.187311855794615}, fitting time: 378.62436723709106, inference time: 0.001993894577026367\n",
      "\n",
      "Model performance:\n",
      "Reconstruction AUCROC=0.4405; AUCPR=0.1951\n",
      "Deviation AUCROC=0.3967; AUCPR=0.1851\n",
      "Max(rec, dev) AUCROC=0.4405; AUCPR=0.1951\n",
      "\n",
      "Sum of squared error AUCROC=0.4382; AUCPR=0.1932\n",
      "\n",
      "Transformer selector AUCROC=0.5122; AUCPR=0.2211\n",
      "\n"
     ]
    },
    {
     "name": "stderr",
     "output_type": "stream",
     "text": [
      "74it [56:24, 48.78s/it]"
     ]
    },
    {
     "name": "stdout",
     "output_type": "stream",
     "text": [
      "{'Samples': 1000, 'Features': 33, 'Anomalies': 225, 'Anomalies Ratio(%)': 22.5}\n",
      "epoch : 1/5000, loss = 10.234168\n",
      "epoch : 1000/5000, loss = 0.409451\n",
      "epoch : 2000/5000, loss = 0.174119\n",
      "epoch : 3000/5000, loss = 0.146055\n",
      "epoch : 4000/5000, loss = 0.119850\n",
      "epoch : 5000/5000, loss = 0.076455\n",
      "self.error_median=0.0235, self.error_range=0.0229, self.latent_error_median_=0.0064, self.latent_error_range_=0.0075\n",
      "Model result scaling scheme:  True\n",
      "Latent dim= 16. Weight Decay = 0.000001\n",
      "Using cuda\n",
      "self.error_mu=0.0291, self.error_std=0.0209, self.latent_error_mu_=0.0082, self.latent_error_sigma_=0.0054; alpha = 1.0000\n",
      "Current experiment parameters: ('46_WPBC', 0.0, 3), model: Customized, metrics: {'aucroc': 0.5196501014198783, 'aucpr': 0.2387687101334291}, fitting time: 377.9412274360657, inference time: 0.0019953250885009766\n"
     ]
    },
    {
     "name": "stderr",
     "output_type": "stream",
     "text": [
      "75it [1:02:42, 66.70s/it]"
     ]
    },
    {
     "name": "stdout",
     "output_type": "stream",
     "text": [
      "\n",
      "Model performance:\n",
      "Reconstruction AUCROC=0.4935; AUCPR=0.2353\n",
      "Deviation AUCROC=0.4701; AUCPR=0.2268\n",
      "Max(rec, dev) AUCROC=0.5195; AUCPR=0.2414\n",
      "\n",
      "Sum of squared error AUCROC=0.5157; AUCPR=0.2399\n",
      "\n",
      "Transformer selector AUCROC=0.5448; AUCPR=0.2737\n",
      "\n",
      "{'Samples': 1000, 'Features': 9, 'Anomalies': 90, 'Anomalies Ratio(%)': 9.0}\n",
      "epoch : 1/5000, loss = 4.403598\n",
      "epoch : 1000/5000, loss = 0.020304\n",
      "epoch : 2000/5000, loss = 0.021204\n",
      "epoch : 3000/5000, loss = 0.015425\n",
      "epoch : 4000/5000, loss = 0.015235\n",
      "epoch : 5000/5000, loss = 0.024612\n",
      "self.error_median=0.0020, self.error_range=0.0034, self.latent_error_median_=0.0077, self.latent_error_range_=0.0040\n",
      "Model result scaling scheme:  True\n",
      "Latent dim= 9. Weight Decay = 0.000001\n",
      "Using cuda\n",
      "self.error_mu=0.0089, self.error_std=0.0572, self.latent_error_mu_=0.0092, self.latent_error_sigma_=0.0077; alpha = 1.0000\n",
      "Current experiment parameters: ('37_Stamps', 0.0, 1), model: Customized, metrics: {'aucroc': 0.8441188441188442, 'aucpr': 0.41281926543293296}, fitting time: 376.47581481933594, inference time: 0.0009970664978027344\n"
     ]
    },
    {
     "name": "stderr",
     "output_type": "stream",
     "text": [
      "97it [1:08:58, 35.42s/it]"
     ]
    },
    {
     "name": "stdout",
     "output_type": "stream",
     "text": [
      "\n",
      "Model performance:\n",
      "Reconstruction AUCROC=0.7634; AUCPR=0.3963\n",
      "Deviation AUCROC=0.8379; AUCPR=0.3520\n",
      "Max(rec, dev) AUCROC=0.8734; AUCPR=0.4343\n",
      "\n",
      "Sum of squared error AUCROC=0.8627; AUCPR=0.4354\n",
      "\n",
      "Transformer selector AUCROC=0.3728; AUCPR=0.2382\n",
      "\n",
      "{'Samples': 1000, 'Features': 9, 'Anomalies': 95, 'Anomalies Ratio(%)': 9.5}\n",
      "epoch : 1/5000, loss = 4.562686\n",
      "epoch : 1000/5000, loss = 0.079088\n",
      "epoch : 2000/5000, loss = 0.023114\n",
      "epoch : 3000/5000, loss = 0.015060\n",
      "epoch : 4000/5000, loss = 0.009005\n",
      "epoch : 5000/5000, loss = 0.007363\n",
      "self.error_median=0.0013, self.error_range=0.0010, self.latent_error_median_=0.0017, self.latent_error_range_=0.0023\n",
      "Model result scaling scheme:  True\n",
      "Latent dim= 9. Weight Decay = 0.000001\n",
      "Using cuda\n",
      "self.error_mu=0.0017, self.error_std=0.0015, self.latent_error_mu_=0.0021, self.latent_error_sigma_=0.0019; alpha = 1.0000\n",
      "Current experiment parameters: ('37_Stamps', 0.0, 2), model: Customized, metrics: {'aucroc': 0.6977415966386554, 'aucpr': 0.14238216065461123}, fitting time: 392.923223733902, inference time: 0.0010313987731933594\n"
     ]
    },
    {
     "name": "stderr",
     "output_type": "stream",
     "text": [
      "98it [1:15:32, 49.50s/it]"
     ]
    },
    {
     "name": "stdout",
     "output_type": "stream",
     "text": [
      "\n",
      "Model performance:\n",
      "Reconstruction AUCROC=0.3588; AUCPR=0.0729\n",
      "Deviation AUCROC=0.8933; AUCPR=0.3256\n",
      "Max(rec, dev) AUCROC=0.8184; AUCPR=0.2227\n",
      "\n",
      "Sum of squared error AUCROC=0.8124; AUCPR=0.2170\n",
      "\n",
      "Transformer selector AUCROC=0.6958; AUCPR=0.1516\n",
      "\n",
      "{'Samples': 1000, 'Features': 9, 'Anomalies': 100, 'Anomalies Ratio(%)': 10.0}\n",
      "epoch : 1/5000, loss = 4.584471\n",
      "epoch : 1000/5000, loss = 0.065598\n",
      "epoch : 2000/5000, loss = 0.018193\n",
      "epoch : 3000/5000, loss = 0.017667\n",
      "epoch : 4000/5000, loss = 0.006355\n",
      "epoch : 5000/5000, loss = 0.008710\n",
      "self.error_median=0.0006, self.error_range=0.0011, self.latent_error_median_=0.0020, self.latent_error_range_=0.0030\n",
      "Model result scaling scheme:  True\n",
      "Latent dim= 9. Weight Decay = 0.000001\n",
      "Using cuda\n",
      "self.error_mu=0.0012, self.error_std=0.0028, self.latent_error_mu_=0.0030, self.latent_error_sigma_=0.0035; alpha = 1.0000\n",
      "Current experiment parameters: ('37_Stamps', 0.0, 3), model: Customized, metrics: {'aucroc': 0.871358024691358, 'aucpr': 0.3060846321616846}, fitting time: 376.5867717266083, inference time: 0.0009982585906982422\n"
     ]
    },
    {
     "name": "stderr",
     "output_type": "stream",
     "text": [
      "99it [1:21:48, 66.92s/it]"
     ]
    },
    {
     "name": "stdout",
     "output_type": "stream",
     "text": [
      "\n",
      "Model performance:\n",
      "Reconstruction AUCROC=0.7658; AUCPR=0.2331\n",
      "Deviation AUCROC=0.8857; AUCPR=0.3356\n",
      "Max(rec, dev) AUCROC=0.8754; AUCPR=0.3195\n",
      "\n",
      "Sum of squared error AUCROC=0.8800; AUCPR=0.3165\n",
      "\n",
      "Transformer selector AUCROC=0.1222; AUCPR=0.0752\n",
      "\n",
      "{'Samples': 1000, 'Features': 9, 'Anomalies': 348, 'Anomalies Ratio(%)': 34.8}\n",
      "epoch : 1/5000, loss = 2.319482\n",
      "epoch : 1000/5000, loss = 0.620634\n",
      "epoch : 2000/5000, loss = 0.278675\n",
      "epoch : 3000/5000, loss = 2.513390\n",
      "epoch : 4000/5000, loss = 0.106996\n",
      "epoch : 5000/5000, loss = 0.525786\n",
      "self.error_median=0.0230, self.error_range=0.0871, self.latent_error_median_=0.0352, self.latent_error_range_=0.1960\n",
      "Model result scaling scheme:  True\n",
      "Latent dim= 9. Weight Decay = 0.000001\n",
      "Using cuda\n",
      "self.error_mu=0.0601, self.error_std=0.0820, self.latent_error_mu_=0.1122, self.latent_error_sigma_=0.1262; alpha = 1.0000\n",
      "Current experiment parameters: ('4_breastw', 0.0, 1), model: Customized, metrics: {'aucroc': 0.9668367346938775, 'aucpr': 0.9079735078976305}, fitting time: 379.52624464035034, inference time: 0.0019953250885009766\n",
      "\n",
      "Model performance:\n",
      "Reconstruction AUCROC=0.9185; AUCPR=0.8084\n",
      "Deviation AUCROC=0.9939; AUCPR=0.9892\n",
      "Max(rec, dev) AUCROC=0.9789; AUCPR=0.9459\n",
      "\n",
      "Sum of squared error AUCROC=0.9789; AUCPR=0.9497\n",
      "\n",
      "Transformer selector AUCROC=0.9642; AUCPR=0.9525\n",
      "\n"
     ]
    },
    {
     "name": "stderr",
     "output_type": "stream",
     "text": [
      "121it [1:28:08, 35.84s/it]"
     ]
    },
    {
     "name": "stdout",
     "output_type": "stream",
     "text": [
      "{'Samples': 1000, 'Features': 9, 'Anomalies': 336, 'Anomalies Ratio(%)': 33.6}\n",
      "epoch : 1/5000, loss = 2.554051\n",
      "epoch : 1000/5000, loss = 0.151927\n",
      "epoch : 2000/5000, loss = 0.068884\n",
      "epoch : 3000/5000, loss = 0.013023\n",
      "epoch : 4000/5000, loss = 0.016277\n",
      "epoch : 5000/5000, loss = 0.009356\n",
      "self.error_median=0.0002, self.error_range=0.0014, self.latent_error_median_=0.0014, self.latent_error_range_=0.0051\n",
      "Model result scaling scheme:  True\n",
      "Latent dim= 9. Weight Decay = 0.000001\n",
      "Using cuda\n",
      "self.error_mu=0.0008, self.error_std=0.0010, self.latent_error_mu_=0.0035, self.latent_error_sigma_=0.0038; alpha = 1.0000\n",
      "Current experiment parameters: ('4_breastw', 0.0, 2), model: Customized, metrics: {'aucroc': 0.962734464401214, 'aucpr': 0.8739859573748129}, fitting time: 377.7654559612274, inference time: 0.0019943714141845703\n"
     ]
    },
    {
     "name": "stderr",
     "output_type": "stream",
     "text": [
      "122it [1:34:26, 49.20s/it]"
     ]
    },
    {
     "name": "stdout",
     "output_type": "stream",
     "text": [
      "\n",
      "Model performance:\n",
      "Reconstruction AUCROC=0.9496; AUCPR=0.8441\n",
      "Deviation AUCROC=0.9513; AUCPR=0.9412\n",
      "Max(rec, dev) AUCROC=0.9498; AUCPR=0.8782\n",
      "\n",
      "Sum of squared error AUCROC=0.9532; AUCPR=0.8834\n",
      "\n",
      "Transformer selector AUCROC=0.8996; AUCPR=0.8960\n",
      "\n",
      "{'Samples': 1000, 'Features': 9, 'Anomalies': 364, 'Anomalies Ratio(%)': 36.4}\n",
      "epoch : 1/5000, loss = 4.387866\n",
      "epoch : 1000/5000, loss = 0.056976\n",
      "epoch : 2000/5000, loss = 0.053774\n",
      "epoch : 3000/5000, loss = 0.037729\n",
      "epoch : 4000/5000, loss = 0.015244\n",
      "epoch : 5000/5000, loss = 0.009090\n",
      "self.error_median=0.0002, self.error_range=0.0004, self.latent_error_median_=0.0017, self.latent_error_range_=0.0076\n",
      "Model result scaling scheme:  True\n",
      "Latent dim= 9. Weight Decay = 0.000001\n",
      "Using cuda\n",
      "self.error_mu=0.0003, self.error_std=0.0003, self.latent_error_mu_=0.0046, self.latent_error_sigma_=0.0050; alpha = 1.0000\n",
      "Current experiment parameters: ('4_breastw', 0.0, 3), model: Customized, metrics: {'aucroc': 0.8902925212546232, 'aucpr': 0.7608344786302843}, fitting time: 376.25241351127625, inference time: 0.0019652843475341797\n"
     ]
    },
    {
     "name": "stderr",
     "output_type": "stream",
     "text": [
      "123it [1:40:43, 66.50s/it]"
     ]
    },
    {
     "name": "stdout",
     "output_type": "stream",
     "text": [
      "\n",
      "Model performance:\n",
      "Reconstruction AUCROC=0.8502; AUCPR=0.7169\n",
      "Deviation AUCROC=0.9710; AUCPR=0.9547\n",
      "Max(rec, dev) AUCROC=0.9580; AUCPR=0.8960\n",
      "\n",
      "Sum of squared error AUCROC=0.9596; AUCPR=0.8987\n",
      "\n",
      "Transformer selector AUCROC=0.0880; AUCPR=0.2713\n",
      "\n",
      "{'Samples': 1000, 'Features': 768, 'Anomalies': 40, 'Anomalies Ratio(%)': 4.0}\n",
      "epoch : 1/5000, loss = 500.921906\n",
      "epoch : 1000/5000, loss = 13.626076\n",
      "epoch : 2000/5000, loss = 9.266579\n",
      "epoch : 3000/5000, loss = 7.184950\n",
      "epoch : 4000/5000, loss = 8.120055\n",
      "epoch : 5000/5000, loss = 7.373595\n",
      "self.error_median=3.2288, self.error_range=2.4117, self.latent_error_median_=0.0498, self.latent_error_range_=0.0597\n",
      "Model result scaling scheme:  True\n",
      "Latent dim= 16. Weight Decay = 0.000001\n",
      "Using cuda\n",
      "self.error_mu=3.5653, self.error_std=1.7629, self.latent_error_mu_=0.0695, self.latent_error_sigma_=0.0799; alpha = 1.0000\n",
      "Current experiment parameters: ('20news_3', 0.0, 1), model: Customized, metrics: {'aucroc': 0.7757523148148149, 'aucpr': 0.12593009725024282}, fitting time: 404.1197187900543, inference time: 0.001995086669921875\n"
     ]
    },
    {
     "name": "stderr",
     "output_type": "stream",
     "text": [
      "145it [1:47:27, 36.46s/it]"
     ]
    },
    {
     "name": "stdout",
     "output_type": "stream",
     "text": [
      "\n",
      "Model performance:\n",
      "Reconstruction AUCROC=0.7940; AUCPR=0.1679\n",
      "Deviation AUCROC=0.7581; AUCPR=0.1255\n",
      "Max(rec, dev) AUCROC=0.7940; AUCPR=0.1679\n",
      "\n",
      "Sum of squared error AUCROC=0.7940; AUCPR=0.1679\n",
      "\n",
      "Transformer selector AUCROC=0.6134; AUCPR=0.0642\n",
      "\n",
      "{'Samples': 1000, 'Features': 512, 'Anomalies': 180, 'Anomalies Ratio(%)': 18.0}\n",
      "epoch : 1/5000, loss = 53.913269\n",
      "epoch : 1000/5000, loss = 5.659405\n",
      "epoch : 2000/5000, loss = 4.534035\n",
      "epoch : 3000/5000, loss = 3.388211\n",
      "epoch : 4000/5000, loss = 2.551461\n",
      "epoch : 5000/5000, loss = 1.705752\n",
      "self.error_median=0.7845, self.error_range=0.7544, self.latent_error_median_=0.0235, self.latent_error_range_=0.0262\n",
      "Model result scaling scheme:  True\n",
      "Latent dim= 16. Weight Decay = 0.000001\n",
      "Using cuda\n",
      "self.error_mu=0.9842, self.error_std=0.6375, self.latent_error_mu_=0.0337, self.latent_error_sigma_=0.0327; alpha = 1.0000\n"
     ]
    },
    {
     "name": "stderr",
     "output_type": "stream",
     "text": [
      "169it [1:53:16, 25.65s/it]"
     ]
    },
    {
     "name": "stdout",
     "output_type": "stream",
     "text": [
      "Current experiment parameters: ('MVTec-AD_grid', 0.0, 1), model: Customized, metrics: {'aucroc': 0.598464317976513, 'aucpr': 0.36211947014405543}, fitting time: 348.3904638290405, inference time: 0.0009975433349609375\n",
      "\n",
      "Model performance:\n",
      "Reconstruction AUCROC=0.6123; AUCPR=0.3523\n",
      "Deviation AUCROC=0.5306; AUCPR=0.3201\n",
      "Max(rec, dev) AUCROC=0.6123; AUCPR=0.3523\n",
      "\n",
      "Sum of squared error AUCROC=0.6128; AUCPR=0.3526\n",
      "\n",
      "Transformer selector AUCROC=0.3899; AUCPR=0.1943\n",
      "\n",
      "{'Samples': 1000, 'Features': 512, 'Anomalies': 305, 'Anomalies Ratio(%)': 30.5}\n",
      "epoch : 1/5000, loss = 74.189545\n",
      "epoch : 1000/5000, loss = 5.461813\n",
      "epoch : 2000/5000, loss = 2.908564\n",
      "epoch : 3000/5000, loss = 3.457657\n",
      "epoch : 4000/5000, loss = 2.796908\n",
      "epoch : 5000/5000, loss = 2.119682\n",
      "self.error_median=0.6146, self.error_range=0.9071, self.latent_error_median_=0.0198, self.latent_error_range_=0.0360\n",
      "Model result scaling scheme:  True\n",
      "Latent dim= 16. Weight Decay = 0.000001\n",
      "Using cuda\n",
      "self.error_mu=0.9046, self.error_std=0.8984, self.latent_error_mu_=0.0360, self.latent_error_sigma_=0.0556; alpha = 1.0000\n",
      "Current experiment parameters: ('MVTec-AD_zipper', 0.0, 1), model: Customized, metrics: {'aucroc': 0.8392134181607867, 'aucpr': 0.6236225977773291}, fitting time: 348.0858247280121, inference time: 0.0019915103912353516\n"
     ]
    },
    {
     "name": "stderr",
     "output_type": "stream",
     "text": [
      "193it [1:59:04, 21.05s/it]"
     ]
    },
    {
     "name": "stdout",
     "output_type": "stream",
     "text": [
      "\n",
      "Model performance:\n",
      "Reconstruction AUCROC=0.8747; AUCPR=0.6882\n",
      "Deviation AUCROC=0.7169; AUCPR=0.5145\n",
      "Max(rec, dev) AUCROC=0.8747; AUCPR=0.6882\n",
      "\n",
      "Sum of squared error AUCROC=0.8747; AUCPR=0.6881\n",
      "\n",
      "Transformer selector AUCROC=0.7803; AUCPR=0.5922\n",
      "\n",
      "{'Samples': 1000, 'Features': 512, 'Anomalies': 184, 'Anomalies Ratio(%)': 18.4}\n",
      "epoch : 1/5000, loss = 44.592953\n",
      "epoch : 1000/5000, loss = 9.598251\n",
      "epoch : 2000/5000, loss = 3.038221\n",
      "epoch : 3000/5000, loss = 3.499577\n",
      "epoch : 4000/5000, loss = 2.952419\n",
      "epoch : 5000/5000, loss = 2.054229\n",
      "self.error_median=0.8407, self.error_range=1.2830, self.latent_error_median_=0.0206, self.latent_error_range_=0.0387\n",
      "Model result scaling scheme:  True\n",
      "Latent dim= 16. Weight Decay = 0.000001\n",
      "Using cuda\n",
      "self.error_mu=1.1937, self.error_std=0.9507, self.latent_error_mu_=0.0446, self.latent_error_sigma_=0.0692; alpha = 1.0000\n"
     ]
    },
    {
     "name": "stderr",
     "output_type": "stream",
     "text": [
      "217it [2:05:06, 18.83s/it]"
     ]
    },
    {
     "name": "stdout",
     "output_type": "stream",
     "text": [
      "Current experiment parameters: ('MVTec-AD_wood', 0.0, 1), model: Customized, metrics: {'aucroc': 0.7999257884972171, 'aucpr': 0.5658296975441381}, fitting time: 361.2684977054596, inference time: 0.002036571502685547\n",
      "\n",
      "Model performance:\n",
      "Reconstruction AUCROC=0.6994; AUCPR=0.3521\n",
      "Deviation AUCROC=0.7671; AUCPR=0.5738\n",
      "Max(rec, dev) AUCROC=0.7038; AUCPR=0.3530\n",
      "\n",
      "Sum of squared error AUCROC=0.7245; AUCPR=0.3608\n",
      "\n",
      "Transformer selector AUCROC=0.3406; AUCPR=0.1871\n",
      "\n",
      "{'Samples': 1000, 'Features': 8, 'Anomalies': 367, 'Anomalies Ratio(%)': 36.7}\n",
      "epoch : 1/5000, loss = 3.778112\n",
      "epoch : 1000/5000, loss = 0.301548\n",
      "epoch : 2000/5000, loss = 0.035393\n",
      "epoch : 3000/5000, loss = 0.022162\n",
      "epoch : 4000/5000, loss = 0.007859\n",
      "epoch : 5000/5000, loss = 0.005703\n",
      "self.error_median=0.0008, self.error_range=0.0007, self.latent_error_median_=0.0017, self.latent_error_range_=0.0024\n",
      "Model result scaling scheme:  True\n",
      "Latent dim= 8. Weight Decay = 0.000001\n",
      "Using cuda\n",
      "self.error_mu=0.0010, self.error_std=0.0015, self.latent_error_mu_=0.0023, self.latent_error_sigma_=0.0019; alpha = 1.0000\n"
     ]
    },
    {
     "name": "stderr",
     "output_type": "stream",
     "text": [
      "241it [2:12:28, 18.69s/it]"
     ]
    },
    {
     "name": "stdout",
     "output_type": "stream",
     "text": [
      "Current experiment parameters: ('29_Pima', 0.0, 1), model: Customized, metrics: {'aucroc': 0.7683732057416268, 'aucpr': 0.6205387097496167}, fitting time: 442.2857675552368, inference time: 0.004986286163330078\n",
      "\n",
      "Model performance:\n",
      "Reconstruction AUCROC=0.7464; AUCPR=0.6101\n",
      "Deviation AUCROC=0.7323; AUCPR=0.5695\n",
      "Max(rec, dev) AUCROC=0.7441; AUCPR=0.5869\n",
      "\n",
      "Sum of squared error AUCROC=0.7589; AUCPR=0.5992\n",
      "\n",
      "Transformer selector AUCROC=0.5073; AUCPR=0.4458\n",
      "\n",
      "{'Samples': 1000, 'Features': 8, 'Anomalies': 346, 'Anomalies Ratio(%)': 34.6}\n",
      "epoch : 1/5000, loss = 2.863083\n",
      "epoch : 1000/5000, loss = 0.077490\n",
      "epoch : 2000/5000, loss = 0.013606\n",
      "epoch : 3000/5000, loss = 0.008147\n",
      "epoch : 4000/5000, loss = 0.005888\n",
      "epoch : 5000/5000, loss = 0.570497\n",
      "self.error_median=0.0656, self.error_range=0.0680, self.latent_error_median_=0.0023, self.latent_error_range_=0.0035\n",
      "Model result scaling scheme:  True\n",
      "Latent dim= 8. Weight Decay = 0.000001\n",
      "Using cuda\n",
      "self.error_mu=0.0761, self.error_std=0.0415, self.latent_error_mu_=0.0030, self.latent_error_sigma_=0.0024; alpha = 1.0000\n"
     ]
    },
    {
     "name": "stderr",
     "output_type": "stream",
     "text": [
      "242it [2:19:13, 26.50s/it]"
     ]
    },
    {
     "name": "stdout",
     "output_type": "stream",
     "text": [
      "Current experiment parameters: ('29_Pima', 0.0, 2), model: Customized, metrics: {'aucroc': 0.7821821036106751, 'aucpr': 0.5686488595323164}, fitting time: 404.7254776954651, inference time: 0.0009968280792236328\n",
      "\n",
      "Model performance:\n",
      "Reconstruction AUCROC=0.7446; AUCPR=0.5411\n",
      "Deviation AUCROC=0.7752; AUCPR=0.5670\n",
      "Max(rec, dev) AUCROC=0.7446; AUCPR=0.5411\n",
      "\n",
      "Sum of squared error AUCROC=0.7444; AUCPR=0.5407\n",
      "\n",
      "Transformer selector AUCROC=0.6669; AUCPR=0.5336\n",
      "\n",
      "{'Samples': 1000, 'Features': 8, 'Anomalies': 308, 'Anomalies Ratio(%)': 30.8}\n",
      "epoch : 1/5000, loss = 2.731752\n",
      "epoch : 1000/5000, loss = 0.040358\n",
      "epoch : 2000/5000, loss = 0.011500\n",
      "epoch : 3000/5000, loss = 0.004351\n",
      "epoch : 4000/5000, loss = 0.004101\n",
      "epoch : 5000/5000, loss = 0.003485\n",
      "self.error_median=0.0005, self.error_range=0.0004, self.latent_error_median_=0.0009, self.latent_error_range_=0.0011\n",
      "Model result scaling scheme:  True\n",
      "Latent dim= 8. Weight Decay = 0.000001\n",
      "Using cuda\n",
      "self.error_mu=0.0005, self.error_std=0.0003, self.latent_error_mu_=0.0012, self.latent_error_sigma_=0.0010; alpha = 1.0000\n"
     ]
    },
    {
     "name": "stderr",
     "output_type": "stream",
     "text": [
      "243it [2:26:14, 37.57s/it]"
     ]
    },
    {
     "name": "stdout",
     "output_type": "stream",
     "text": [
      "Current experiment parameters: ('29_Pima', 0.0, 3), model: Customized, metrics: {'aucroc': 0.7151442307692307, 'aucpr': 0.477012502018116}, fitting time: 420.7962872982025, inference time: 0.000997781753540039\n",
      "\n",
      "Model performance:\n",
      "Reconstruction AUCROC=0.7055; AUCPR=0.4646\n",
      "Deviation AUCROC=0.6668; AUCPR=0.4565\n",
      "Max(rec, dev) AUCROC=0.6813; AUCPR=0.4528\n",
      "\n",
      "Sum of squared error AUCROC=0.6909; AUCPR=0.4627\n",
      "\n",
      "Transformer selector AUCROC=0.4431; AUCPR=0.3330\n",
      "\n",
      "{'Samples': 1000, 'Features': 512, 'Anomalies': 115, 'Anomalies Ratio(%)': 11.5}\n",
      "epoch : 1/5000, loss = 73.283249\n",
      "epoch : 1000/5000, loss = 11.051891\n",
      "epoch : 2000/5000, loss = 8.443631\n",
      "epoch : 3000/5000, loss = 6.265951\n",
      "epoch : 4000/5000, loss = 4.352067\n",
      "epoch : 5000/5000, loss = 3.669757\n",
      "self.error_median=1.4672, self.error_range=1.6930, self.latent_error_median_=0.0365, self.latent_error_range_=0.0489\n",
      "Model result scaling scheme:  True\n",
      "Latent dim= 16. Weight Decay = 0.000001\n",
      "Using cuda\n",
      "self.error_mu=1.9468, self.error_std=1.5280, self.latent_error_mu_=0.0594, self.latent_error_sigma_=0.0662; alpha = 1.0000\n"
     ]
    },
    {
     "name": "stderr",
     "output_type": "stream",
     "text": [
      "265it [2:32:28, 27.93s/it]"
     ]
    },
    {
     "name": "stdout",
     "output_type": "stream",
     "text": [
      "Current experiment parameters: ('MVTec-AD_transistor', 0.0, 1), model: Customized, metrics: {'aucroc': 0.7749865229110512, 'aucpr': 0.39279870136074124}, fitting time: 373.514461517334, inference time: 0.002991914749145508\n",
      "\n",
      "Model performance:\n",
      "Reconstruction AUCROC=0.7630; AUCPR=0.3267\n",
      "Deviation AUCROC=0.7440; AUCPR=0.3876\n",
      "Max(rec, dev) AUCROC=0.7630; AUCPR=0.3267\n",
      "\n",
      "Sum of squared error AUCROC=0.7636; AUCPR=0.3270\n",
      "\n",
      "Transformer selector AUCROC=0.4223; AUCPR=0.1273\n",
      "\n",
      "{'Samples': 1000, 'Features': 512, 'Anomalies': 271, 'Anomalies Ratio(%)': 27.1}\n",
      "epoch : 1/5000, loss = 175.400116\n",
      "epoch : 1000/5000, loss = 6.222816\n",
      "epoch : 2000/5000, loss = 5.021183\n",
      "epoch : 3000/5000, loss = 3.148200\n",
      "epoch : 4000/5000, loss = 2.147956\n",
      "epoch : 5000/5000, loss = 1.945055\n",
      "self.error_median=0.6248, self.error_range=0.8606, self.latent_error_median_=0.0814, self.latent_error_range_=0.0588\n",
      "Model result scaling scheme:  True\n",
      "Latent dim= 16. Weight Decay = 0.000001\n",
      "Using cuda\n",
      "self.error_mu=0.9912, self.error_std=1.0332, self.latent_error_mu_=0.0952, self.latent_error_sigma_=0.0552; alpha = 1.0000\n"
     ]
    },
    {
     "name": "stderr",
     "output_type": "stream",
     "text": [
      "289it [2:47:57, 32.48s/it]"
     ]
    },
    {
     "name": "stdout",
     "output_type": "stream",
     "text": [
      "Current experiment parameters: ('MVTec-AD_toothbrush', 0.0, 1), model: Customized, metrics: {'aucroc': 0.9103106150290321, 'aucpr': 0.794944007622328}, fitting time: 928.4746201038361, inference time: 0.006982326507568359\n",
      "\n",
      "Model performance:\n",
      "Reconstruction AUCROC=0.9326; AUCPR=0.8736\n",
      "Deviation AUCROC=0.7868; AUCPR=0.6088\n",
      "Max(rec, dev) AUCROC=0.9326; AUCPR=0.8736\n",
      "\n",
      "Sum of squared error AUCROC=0.9325; AUCPR=0.8715\n",
      "\n",
      "Transformer selector AUCROC=0.1966; AUCPR=0.1754\n",
      "\n",
      "{'Samples': 1000, 'Features': 30, 'Anomalies': 26, 'Anomalies Ratio(%)': 2.6}\n",
      "epoch : 1/5000, loss = 5.667093\n",
      "epoch : 1000/5000, loss = 0.365101\n",
      "epoch : 2000/5000, loss = 0.300552\n",
      "epoch : 3000/5000, loss = 0.144501\n",
      "epoch : 4000/5000, loss = 0.574708\n",
      "epoch : 5000/5000, loss = 0.093328\n",
      "self.error_median=0.0307, self.error_range=0.0436, self.latent_error_median_=0.0050, self.latent_error_range_=0.0079\n",
      "Model result scaling scheme:  True\n",
      "Latent dim= 16. Weight Decay = 0.000001\n",
      "Using cuda\n",
      "self.error_mu=0.0443, self.error_std=0.0474, self.latent_error_mu_=0.0092, self.latent_error_sigma_=0.0146; alpha = 1.0000\n"
     ]
    },
    {
     "name": "stderr",
     "output_type": "stream",
     "text": [
      "313it [2:59:42, 31.31s/it]"
     ]
    },
    {
     "name": "stdout",
     "output_type": "stream",
     "text": [
      "Current experiment parameters: ('43_WDBC', 0.0, 1), model: Customized, metrics: {'aucroc': 0.9122431506849316, 'aucpr': 0.19233588458577117}, fitting time: 704.6398916244507, inference time: 0.001993417739868164\n",
      "\n",
      "Model performance:\n",
      "Reconstruction AUCROC=0.7628; AUCPR=0.0775\n",
      "Deviation AUCROC=0.9405; AUCPR=0.3148\n",
      "Max(rec, dev) AUCROC=0.7628; AUCPR=0.0775\n",
      "\n",
      "Sum of squared error AUCROC=0.7945; AUCPR=0.0921\n",
      "\n",
      "Transformer selector AUCROC=1.0000; AUCPR=1.0000\n",
      "\n",
      "{'Samples': 1000, 'Features': 30, 'Anomalies': 29, 'Anomalies Ratio(%)': 2.9}\n",
      "epoch : 1/5000, loss = 5.232570\n",
      "epoch : 1000/5000, loss = 0.364096\n",
      "epoch : 2000/5000, loss = 0.150817\n",
      "epoch : 3000/5000, loss = 0.083489\n",
      "epoch : 4000/5000, loss = 0.066410\n",
      "epoch : 5000/5000, loss = 0.122953\n",
      "self.error_median=0.0311, self.error_range=0.0330, self.latent_error_median_=0.0104, self.latent_error_range_=0.0126\n",
      "Model result scaling scheme:  True\n",
      "Latent dim= 16. Weight Decay = 0.000001\n",
      "Using cuda\n",
      "self.error_mu=0.0393, self.error_std=0.0337, self.latent_error_mu_=0.0149, self.latent_error_sigma_=0.0123; alpha = 1.0000\n"
     ]
    },
    {
     "name": "stderr",
     "output_type": "stream",
     "text": [
      "314it [3:11:11, 45.71s/it]"
     ]
    },
    {
     "name": "stdout",
     "output_type": "stream",
     "text": [
      "Current experiment parameters: ('43_WDBC', 0.0, 2), model: Customized, metrics: {'aucroc': 0.8098510882016037, 'aucpr': 0.11741148170473065}, fitting time: 688.0988318920135, inference time: 0.0029914379119873047\n",
      "\n",
      "Model performance:\n",
      "Reconstruction AUCROC=0.7316; AUCPR=0.0948\n",
      "Deviation AUCROC=0.8396; AUCPR=0.1574\n",
      "Max(rec, dev) AUCROC=0.7411; AUCPR=0.0987\n",
      "\n",
      "Sum of squared error AUCROC=0.7637; AUCPR=0.1035\n",
      "\n",
      "Transformer selector AUCROC=0.9836; AUCPR=0.5731\n",
      "\n",
      "{'Samples': 1000, 'Features': 30, 'Anomalies': 27, 'Anomalies Ratio(%)': 2.7}\n",
      "epoch : 1/5000, loss = 5.558215\n",
      "epoch : 1000/5000, loss = 0.197855\n",
      "epoch : 2000/5000, loss = 0.124352\n",
      "epoch : 3000/5000, loss = 0.078106\n",
      "epoch : 4000/5000, loss = 0.037721\n",
      "epoch : 5000/5000, loss = 0.049016\n",
      "self.error_median=0.0108, self.error_range=0.0129, self.latent_error_median_=0.0039, self.latent_error_range_=0.0043\n",
      "Model result scaling scheme:  True\n",
      "Latent dim= 16. Weight Decay = 0.000001\n",
      "Using cuda\n",
      "self.error_mu=0.0149, self.error_std=0.0118, self.latent_error_mu_=0.0054, self.latent_error_sigma_=0.0048; alpha = 1.0000\n"
     ]
    },
    {
     "name": "stderr",
     "output_type": "stream",
     "text": [
      "315it [3:23:33, 66.84s/it]"
     ]
    },
    {
     "name": "stdout",
     "output_type": "stream",
     "text": [
      "Current experiment parameters: ('43_WDBC', 0.0, 3), model: Customized, metrics: {'aucroc': 0.9494863013698631, 'aucpr': 0.26355976512226514}, fitting time: 742.0232741832733, inference time: 0.0019948482513427734\n",
      "\n",
      "Model performance:\n",
      "Reconstruction AUCROC=0.8335; AUCPR=0.0989\n",
      "Deviation AUCROC=0.9628; AUCPR=0.3392\n",
      "Max(rec, dev) AUCROC=0.8617; AUCPR=0.1146\n",
      "\n",
      "Sum of squared error AUCROC=0.8938; AUCPR=0.1507\n",
      "\n",
      "Transformer selector AUCROC=0.9782; AUCPR=0.4497\n",
      "\n",
      "{'Samples': 1000, 'Features': 512, 'Anomalies': 240, 'Anomalies Ratio(%)': 24.0}\n",
      "epoch : 1/5000, loss = 60.034130\n",
      "epoch : 1000/5000, loss = 6.727536\n",
      "epoch : 2000/5000, loss = 4.090001\n",
      "epoch : 3000/5000, loss = 3.223401\n",
      "epoch : 4000/5000, loss = 2.289964\n",
      "epoch : 5000/5000, loss = 2.578796\n",
      "self.error_median=0.9238, self.error_range=0.8345, self.latent_error_median_=0.0485, self.latent_error_range_=0.0328\n",
      "Model result scaling scheme:  True\n",
      "Latent dim= 16. Weight Decay = 0.000001\n",
      "Using cuda\n",
      "self.error_mu=1.1036, self.error_std=0.6201, self.latent_error_mu_=0.0557, self.latent_error_sigma_=0.0336; alpha = 1.0000\n"
     ]
    },
    {
     "name": "stderr",
     "output_type": "stream",
     "text": [
      "337it [3:36:12, 51.06s/it]"
     ]
    },
    {
     "name": "stdout",
     "output_type": "stream",
     "text": [
      "Current experiment parameters: ('MVTec-AD_screw', 0.0, 1), model: Customized, metrics: {'aucroc': 0.6539961013645224, 'aucpr': 0.4290366544418671}, fitting time: 758.5595669746399, inference time: 0.0029892921447753906\n",
      "\n",
      "Model performance:\n",
      "Reconstruction AUCROC=0.6450; AUCPR=0.4435\n",
      "Deviation AUCROC=0.6048; AUCPR=0.3562\n",
      "Max(rec, dev) AUCROC=0.6450; AUCPR=0.4435\n",
      "\n",
      "Sum of squared error AUCROC=0.6447; AUCPR=0.4432\n",
      "\n",
      "Transformer selector AUCROC=0.5736; AUCPR=0.2828\n",
      "\n",
      "{'Samples': 1000, 'Features': 512, 'Anomalies': 227, 'Anomalies Ratio(%)': 22.7}\n",
      "epoch : 1/5000, loss = 51.690857\n",
      "epoch : 1000/5000, loss = 5.450404\n",
      "epoch : 2000/5000, loss = 4.049820\n",
      "epoch : 3000/5000, loss = 3.287391\n",
      "epoch : 4000/5000, loss = 3.159055\n",
      "epoch : 5000/5000, loss = 3.264524\n",
      "self.error_median=1.1799, self.error_range=1.0184, self.latent_error_median_=0.0263, self.latent_error_range_=0.0317\n",
      "Model result scaling scheme:  True\n",
      "Latent dim= 16. Weight Decay = 0.000001\n",
      "Using cuda\n",
      "self.error_mu=1.4160, self.error_std=0.7889, self.latent_error_mu_=0.0360, self.latent_error_sigma_=0.0318; alpha = 1.0000\n"
     ]
    },
    {
     "name": "stderr",
     "output_type": "stream",
     "text": [
      "361it [3:50:49, 44.78s/it]"
     ]
    },
    {
     "name": "stdout",
     "output_type": "stream",
     "text": [
      "Current experiment parameters: ('MVTec-AD_tile', 0.0, 1), model: Customized, metrics: {'aucroc': 0.8439401622718052, 'aucpr': 0.6861321718421568}, fitting time: 876.0549340248108, inference time: 0.001993894577026367\n",
      "\n",
      "Model performance:\n",
      "Reconstruction AUCROC=0.8057; AUCPR=0.6599\n",
      "Deviation AUCROC=0.7918; AUCPR=0.6051\n",
      "Max(rec, dev) AUCROC=0.8057; AUCPR=0.6599\n",
      "\n",
      "Sum of squared error AUCROC=0.8065; AUCPR=0.6601\n",
      "\n",
      "Transformer selector AUCROC=0.7682; AUCPR=0.6287\n",
      "\n",
      "{'Samples': 1000, 'Features': 512, 'Anomalies': 251, 'Anomalies Ratio(%)': 25.1}\n",
      "epoch : 1/5000, loss = 122.745560\n",
      "epoch : 1000/5000, loss = 11.039126\n",
      "epoch : 2000/5000, loss = 6.611118\n",
      "epoch : 3000/5000, loss = 4.870291\n",
      "epoch : 4000/5000, loss = 3.943927\n",
      "epoch : 5000/5000, loss = 3.553426\n",
      "self.error_median=1.6328, self.error_range=1.0912, self.latent_error_median_=0.0416, self.latent_error_range_=0.0407\n",
      "Model result scaling scheme:  True\n",
      "Latent dim= 16. Weight Decay = 0.000001\n",
      "Using cuda\n",
      "self.error_mu=1.7705, self.error_std=0.7731, self.latent_error_mu_=0.0542, self.latent_error_sigma_=0.0423; alpha = 1.0000\n"
     ]
    },
    {
     "name": "stderr",
     "output_type": "stream",
     "text": [
      "385it [4:06:05, 42.26s/it]"
     ]
    },
    {
     "name": "stdout",
     "output_type": "stream",
     "text": [
      "Current experiment parameters: ('MVTec-AD_cable', 0.0, 1), model: Customized, metrics: {'aucroc': 0.7169777777777778, 'aucpr': 0.4340941505615934}, fitting time: 915.8928091526031, inference time: 0.006981611251831055\n",
      "\n",
      "Model performance:\n",
      "Reconstruction AUCROC=0.7077; AUCPR=0.4160\n",
      "Deviation AUCROC=0.6812; AUCPR=0.4073\n",
      "Max(rec, dev) AUCROC=0.7077; AUCPR=0.4160\n",
      "\n",
      "Sum of squared error AUCROC=0.7081; AUCPR=0.4162\n",
      "\n",
      "Transformer selector AUCROC=0.4032; AUCPR=0.2526\n",
      "\n",
      "{'Samples': 1000, 'Features': 512, 'Anomalies': 254, 'Anomalies Ratio(%)': 25.4}\n",
      "epoch : 1/5000, loss = 44.219086\n",
      "epoch : 1000/5000, loss = 6.827670\n",
      "epoch : 2000/5000, loss = 4.484429\n",
      "epoch : 3000/5000, loss = 3.894506\n",
      "epoch : 4000/5000, loss = 3.252017\n",
      "epoch : 5000/5000, loss = 2.658990\n",
      "self.error_median=1.0294, self.error_range=0.9627, self.latent_error_median_=0.0226, self.latent_error_range_=0.0258\n",
      "Model result scaling scheme:  True\n",
      "Latent dim= 16. Weight Decay = 0.000001\n",
      "Using cuda\n",
      "self.error_mu=1.2393, self.error_std=0.7749, self.latent_error_mu_=0.0367, self.latent_error_sigma_=0.0637; alpha = 1.0000\n"
     ]
    },
    {
     "name": "stderr",
     "output_type": "stream",
     "text": [
      "409it [4:20:30, 40.07s/it]"
     ]
    },
    {
     "name": "stdout",
     "output_type": "stream",
     "text": [
      "Current experiment parameters: ('MVTec-AD_carpet', 0.0, 1), model: Customized, metrics: {'aucroc': 0.7184562969924813, 'aucpr': 0.5719039226477195}, fitting time: 864.4926207065582, inference time: 0.004989147186279297\n",
      "\n",
      "Model performance:\n",
      "Reconstruction AUCROC=0.6534; AUCPR=0.4969\n",
      "Deviation AUCROC=0.6978; AUCPR=0.5427\n",
      "Max(rec, dev) AUCROC=0.6637; AUCPR=0.4995\n",
      "\n",
      "Sum of squared error AUCROC=0.6669; AUCPR=0.5014\n",
      "\n",
      "Transformer selector AUCROC=0.5963; AUCPR=0.4811\n",
      "\n",
      "{'Samples': 1000, 'Features': 512, 'Anomalies': 308, 'Anomalies Ratio(%)': 30.8}\n",
      "epoch : 1/5000, loss = 94.742317\n",
      "epoch : 1000/5000, loss = 3.463719\n",
      "epoch : 2000/5000, loss = 1.951275\n",
      "epoch : 3000/5000, loss = 1.669900\n",
      "epoch : 4000/5000, loss = 1.480433\n",
      "epoch : 5000/5000, loss = 1.241784\n",
      "self.error_median=0.4771, self.error_range=0.4401, self.latent_error_median_=0.0168, self.latent_error_range_=0.0216\n",
      "Model result scaling scheme:  True\n",
      "Latent dim= 16. Weight Decay = 0.000001\n",
      "Using cuda\n",
      "self.error_mu=0.6569, self.error_std=0.7608, self.latent_error_mu_=0.0259, self.latent_error_sigma_=0.0374; alpha = 1.0000\n"
     ]
    },
    {
     "name": "stderr",
     "output_type": "stream",
     "text": [
      "433it [4:31:19, 35.69s/it]"
     ]
    },
    {
     "name": "stdout",
     "output_type": "stream",
     "text": [
      "Current experiment parameters: ('MVTec-AD_capsule', 0.0, 1), model: Customized, metrics: {'aucroc': 0.6823265050167224, 'aucpr': 0.581917561533587}, fitting time: 648.1168832778931, inference time: 0.001995086669921875\n",
      "\n",
      "Model performance:\n",
      "Reconstruction AUCROC=0.6457; AUCPR=0.5591\n",
      "Deviation AUCROC=0.6622; AUCPR=0.5590\n",
      "Max(rec, dev) AUCROC=0.6467; AUCPR=0.5593\n",
      "\n",
      "Sum of squared error AUCROC=0.6468; AUCPR=0.5593\n",
      "\n",
      "Transformer selector AUCROC=0.4985; AUCPR=0.3952\n",
      "\n",
      "{'Samples': 1000, 'Features': 7, 'Anomalies': 42, 'Anomalies Ratio(%)': 4.2}\n",
      "epoch : 1/5000, loss = 3.550394\n",
      "epoch : 1000/5000, loss = 0.538633\n",
      "epoch : 2000/5000, loss = 0.022079\n",
      "epoch : 3000/5000, loss = 0.021009\n",
      "epoch : 4000/5000, loss = 0.008488\n",
      "epoch : 5000/5000, loss = 0.004123\n",
      "self.error_median=0.0003, self.error_range=0.0007, self.latent_error_median_=0.0005, self.latent_error_range_=0.0018\n",
      "Model result scaling scheme:  True\n",
      "Latent dim= 7. Weight Decay = 0.000001\n",
      "Using cuda\n",
      "self.error_mu=0.0008, self.error_std=0.0020, self.latent_error_mu_=0.0015, self.latent_error_sigma_=0.0027; alpha = 1.0000\n",
      "Current experiment parameters: ('14_glass', 0.0, 1), model: Customized, metrics: {'aucroc': 0.7435004020369874, 'aucpr': 0.0929773689843876}, fitting time: 380.15610790252686, inference time: 0.0019948482513427734\n"
     ]
    },
    {
     "name": "stderr",
     "output_type": "stream",
     "text": [
      "457it [4:37:39, 29.27s/it]"
     ]
    },
    {
     "name": "stdout",
     "output_type": "stream",
     "text": [
      "\n",
      "Model performance:\n",
      "Reconstruction AUCROC=0.7089; AUCPR=0.0886\n",
      "Deviation AUCROC=0.6033; AUCPR=0.0725\n",
      "Max(rec, dev) AUCROC=0.7025; AUCPR=0.0831\n",
      "\n",
      "Sum of squared error AUCROC=0.7079; AUCPR=0.0860\n",
      "\n",
      "Transformer selector AUCROC=0.6116; AUCPR=0.0681\n",
      "\n",
      "{'Samples': 1000, 'Features': 7, 'Anomalies': 42, 'Anomalies Ratio(%)': 4.2}\n",
      "epoch : 1/5000, loss = 3.844229\n",
      "epoch : 1000/5000, loss = 0.021877\n",
      "epoch : 2000/5000, loss = 0.006700\n",
      "epoch : 3000/5000, loss = 0.006265\n",
      "epoch : 4000/5000, loss = 0.004453\n",
      "epoch : 5000/5000, loss = 0.002538\n",
      "self.error_median=0.0001, self.error_range=0.0002, self.latent_error_median_=0.0004, self.latent_error_range_=0.0015\n",
      "Model result scaling scheme:  True\n",
      "Latent dim= 7. Weight Decay = 0.000001\n",
      "Using cuda\n",
      "self.error_mu=0.0003, self.error_std=0.0011, self.latent_error_mu_=0.0010, self.latent_error_sigma_=0.0016; alpha = 1.0000\n",
      "Current experiment parameters: ('14_glass', 0.0, 2), model: Customized, metrics: {'aucroc': 0.6998123827392121, 'aucpr': 0.08548751615762969}, fitting time: 381.3567011356354, inference time: 0.0019953250885009766\n"
     ]
    },
    {
     "name": "stderr",
     "output_type": "stream",
     "text": [
      "458it [4:44:01, 35.93s/it]"
     ]
    },
    {
     "name": "stdout",
     "output_type": "stream",
     "text": [
      "\n",
      "Model performance:\n",
      "Reconstruction AUCROC=0.7218; AUCPR=0.0901\n",
      "Deviation AUCROC=0.4894; AUCPR=0.0639\n",
      "Max(rec, dev) AUCROC=0.4835; AUCPR=0.0569\n",
      "\n",
      "Sum of squared error AUCROC=0.5436; AUCPR=0.0625\n",
      "\n",
      "Transformer selector AUCROC=0.9067; AUCPR=0.3219\n",
      "\n",
      "{'Samples': 1000, 'Features': 7, 'Anomalies': 34, 'Anomalies Ratio(%)': 3.4}\n",
      "epoch : 1/5000, loss = 3.619674\n",
      "epoch : 1000/5000, loss = 0.018750\n",
      "epoch : 2000/5000, loss = 0.008038\n",
      "epoch : 3000/5000, loss = 0.006199\n",
      "epoch : 4000/5000, loss = 0.005485\n",
      "epoch : 5000/5000, loss = 0.003595\n",
      "self.error_median=0.0005, self.error_range=0.0004, self.latent_error_median_=0.0004, self.latent_error_range_=0.0012\n",
      "Model result scaling scheme:  True\n",
      "Latent dim= 7. Weight Decay = 0.000001\n",
      "Using cuda\n",
      "self.error_mu=0.0009, self.error_std=0.0020, self.latent_error_mu_=0.0009, self.latent_error_sigma_=0.0013; alpha = 1.0000\n",
      "Current experiment parameters: ('14_glass', 0.0, 3), model: Customized, metrics: {'aucroc': 0.773448275862069, 'aucpr': 0.09091276624609956}, fitting time: 378.7944722175598, inference time: 0.0009963512420654297\n"
     ]
    },
    {
     "name": "stderr",
     "output_type": "stream",
     "text": [
      "459it [4:50:20, 44.95s/it]"
     ]
    },
    {
     "name": "stdout",
     "output_type": "stream",
     "text": [
      "\n",
      "Model performance:\n",
      "Reconstruction AUCROC=0.7431; AUCPR=0.0772\n",
      "Deviation AUCROC=0.6545; AUCPR=0.0965\n",
      "Max(rec, dev) AUCROC=0.7807; AUCPR=0.1008\n",
      "\n",
      "Sum of squared error AUCROC=0.7534; AUCPR=0.0860\n",
      "\n",
      "Transformer selector AUCROC=0.5738; AUCPR=0.0468\n",
      "\n",
      "{'Samples': 1000, 'Features': 19, 'Anomalies': 170, 'Anomalies Ratio(%)': 17.0}\n",
      "epoch : 1/5000, loss = 12.675148\n",
      "epoch : 1000/5000, loss = 1.628994\n",
      "epoch : 2000/5000, loss = 1.359669\n",
      "epoch : 3000/5000, loss = 0.626487\n",
      "epoch : 4000/5000, loss = 0.627988\n",
      "epoch : 5000/5000, loss = 0.330544\n",
      "self.error_median=0.0828, self.error_range=0.1160, self.latent_error_median_=0.0672, self.latent_error_range_=0.0297\n",
      "Model result scaling scheme:  True\n",
      "Latent dim= 16. Weight Decay = 0.000001\n",
      "Using cuda\n",
      "self.error_mu=0.1109, self.error_std=0.0867, self.latent_error_mu_=0.0690, self.latent_error_sigma_=0.0202; alpha = 1.0000\n",
      "Current experiment parameters: ('15_Hepatitis', 0.0, 1), model: Customized, metrics: {'aucroc': 0.5307504527915584, 'aucpr': 0.21958832115258697}, fitting time: 379.4504826068878, inference time: 0.001987934112548828\n"
     ]
    },
    {
     "name": "stderr",
     "output_type": "stream",
     "text": [
      "481it [4:56:39, 32.42s/it]"
     ]
    },
    {
     "name": "stdout",
     "output_type": "stream",
     "text": [
      "\n",
      "Model performance:\n",
      "Reconstruction AUCROC=0.5944; AUCPR=0.2062\n",
      "Deviation AUCROC=0.5209; AUCPR=0.1996\n",
      "Max(rec, dev) AUCROC=0.5716; AUCPR=0.1973\n",
      "\n",
      "Sum of squared error AUCROC=0.5711; AUCPR=0.1991\n",
      "\n",
      "Transformer selector AUCROC=0.3236; AUCPR=0.1731\n",
      "\n",
      "{'Samples': 1000, 'Features': 19, 'Anomalies': 139, 'Anomalies Ratio(%)': 13.9}\n",
      "epoch : 1/5000, loss = 19.271872\n",
      "epoch : 1000/5000, loss = 1.136758\n",
      "epoch : 2000/5000, loss = 5.018746\n",
      "epoch : 3000/5000, loss = 0.265801\n",
      "epoch : 4000/5000, loss = 0.183702\n",
      "epoch : 5000/5000, loss = 0.131312\n",
      "self.error_median=0.0296, self.error_range=0.0494, self.latent_error_median_=0.0233, self.latent_error_range_=0.0168\n",
      "Model result scaling scheme:  True\n",
      "Latent dim= 16. Weight Decay = 0.000001\n",
      "Using cuda\n",
      "self.error_mu=0.0430, self.error_std=0.0438, self.latent_error_mu_=0.0222, self.latent_error_sigma_=0.0098; alpha = 1.0000\n",
      "Current experiment parameters: ('15_Hepatitis', 0.0, 2), model: Customized, metrics: {'aucroc': 0.6518087855297158, 'aucpr': 0.25032015601617863}, fitting time: 377.8798670768738, inference time: 0.0020024776458740234\n"
     ]
    },
    {
     "name": "stderr",
     "output_type": "stream",
     "text": [
      "482it [5:02:57, 42.29s/it]"
     ]
    },
    {
     "name": "stdout",
     "output_type": "stream",
     "text": [
      "\n",
      "Model performance:\n",
      "Reconstruction AUCROC=0.5926; AUCPR=0.2181\n",
      "Deviation AUCROC=0.6208; AUCPR=0.2117\n",
      "Max(rec, dev) AUCROC=0.5759; AUCPR=0.2152\n",
      "\n",
      "Sum of squared error AUCROC=0.6098; AUCPR=0.2318\n",
      "\n",
      "Transformer selector AUCROC=0.7453; AUCPR=0.3391\n",
      "\n",
      "{'Samples': 1000, 'Features': 19, 'Anomalies': 169, 'Anomalies Ratio(%)': 16.9}\n",
      "epoch : 1/5000, loss = 20.357891\n",
      "epoch : 1000/5000, loss = 0.857422\n",
      "epoch : 2000/5000, loss = 0.373671\n",
      "epoch : 3000/5000, loss = 0.158674\n",
      "epoch : 4000/5000, loss = 0.097425\n",
      "epoch : 5000/5000, loss = 0.077244\n",
      "self.error_median=0.0120, self.error_range=0.0199, self.latent_error_median_=0.0200, self.latent_error_range_=0.0166\n",
      "Model result scaling scheme:  True\n",
      "Latent dim= 16. Weight Decay = 0.000001\n",
      "Using cuda\n",
      "self.error_mu=0.0200, self.error_std=0.0288, self.latent_error_mu_=0.0196, self.latent_error_sigma_=0.0083; alpha = 1.0000\n",
      "Current experiment parameters: ('15_Hepatitis', 0.0, 3), model: Customized, metrics: {'aucroc': 0.6658792030868572, 'aucpr': 0.2947721882913027}, fitting time: 379.325439453125, inference time: 0.0019941329956054688\n"
     ]
    },
    {
     "name": "stderr",
     "output_type": "stream",
     "text": [
      "483it [5:09:17, 55.50s/it]"
     ]
    },
    {
     "name": "stdout",
     "output_type": "stream",
     "text": [
      "\n",
      "Model performance:\n",
      "Reconstruction AUCROC=0.5544; AUCPR=0.2616\n",
      "Deviation AUCROC=0.7191; AUCPR=0.3389\n",
      "Max(rec, dev) AUCROC=0.6745; AUCPR=0.2925\n",
      "\n",
      "Sum of squared error AUCROC=0.6789; AUCPR=0.2971\n",
      "\n",
      "Transformer selector AUCROC=0.2442; AUCPR=0.1181\n",
      "\n",
      "{'Samples': 1000, 'Features': 512, 'Anomalies': 314, 'Anomalies Ratio(%)': 31.4}\n",
      "epoch : 1/5000, loss = 111.471069\n",
      "epoch : 1000/5000, loss = 5.078432\n",
      "epoch : 2000/5000, loss = 2.159813\n",
      "epoch : 3000/5000, loss = 2.060856\n",
      "epoch : 4000/5000, loss = 1.587387\n",
      "epoch : 5000/5000, loss = 1.289752\n",
      "self.error_median=0.5318, self.error_range=0.5256, self.latent_error_median_=0.0165, self.latent_error_range_=0.0209\n",
      "Model result scaling scheme:  True\n",
      "Latent dim= 16. Weight Decay = 0.000001\n",
      "Using cuda\n",
      "self.error_mu=0.6716, self.error_std=0.5162, self.latent_error_mu_=0.0242, self.latent_error_sigma_=0.0300; alpha = 1.0000\n",
      "Current experiment parameters: ('MVTec-AD_pill', 0.0, 1), model: Customized, metrics: {'aucroc': 0.7023858706878745, 'aucpr': 0.569354226478394}, fitting time: 349.963760137558, inference time: 0.0019943714141845703\n"
     ]
    },
    {
     "name": "stderr",
     "output_type": "stream",
     "text": [
      "505it [5:15:07, 33.66s/it]"
     ]
    },
    {
     "name": "stdout",
     "output_type": "stream",
     "text": [
      "\n",
      "Model performance:\n",
      "Reconstruction AUCROC=0.7147; AUCPR=0.5787\n",
      "Deviation AUCROC=0.6596; AUCPR=0.5458\n",
      "Max(rec, dev) AUCROC=0.7160; AUCPR=0.5790\n",
      "\n",
      "Sum of squared error AUCROC=0.7167; AUCPR=0.5791\n",
      "\n",
      "Transformer selector AUCROC=0.3236; AUCPR=0.2319\n",
      "\n",
      "{'Samples': 1000, 'Features': 9, 'Anomalies': 35, 'Anomalies Ratio(%)': 3.5}\n",
      "epoch : 1/5000, loss = 0.850407\n",
      "epoch : 1000/5000, loss = 0.372529\n",
      "epoch : 2000/5000, loss = 0.129111\n",
      "epoch : 3000/5000, loss = 0.082894\n",
      "epoch : 4000/5000, loss = 0.291391\n",
      "epoch : 5000/5000, loss = 0.053098\n",
      "self.error_median=0.0065, self.error_range=0.0160, self.latent_error_median_=0.0031, self.latent_error_range_=0.0047\n",
      "Model result scaling scheme:  True\n",
      "Latent dim= 9. Weight Decay = 0.000001\n",
      "Using cuda\n",
      "self.error_mu=0.0144, self.error_std=0.0219, self.latent_error_mu_=0.0078, self.latent_error_sigma_=0.0131; alpha = 1.0000\n",
      "Current experiment parameters: ('42_WBC', 0.0, 1), model: Customized, metrics: {'aucroc': 0.9662068965517242, 'aucpr': 0.47604845446950705}, fitting time: 379.0284996032715, inference time: 0.0019941329956054688\n"
     ]
    },
    {
     "name": "stderr",
     "output_type": "stream",
     "text": [
      "529it [5:21:26, 25.40s/it]"
     ]
    },
    {
     "name": "stdout",
     "output_type": "stream",
     "text": [
      "\n",
      "Model performance:\n",
      "Reconstruction AUCROC=0.7693; AUCPR=0.1164\n",
      "Deviation AUCROC=0.9769; AUCPR=0.7681\n",
      "Max(rec, dev) AUCROC=0.9348; AUCPR=0.2513\n",
      "\n",
      "Sum of squared error AUCROC=0.9448; AUCPR=0.2668\n",
      "\n",
      "Transformer selector AUCROC=0.9572; AUCPR=0.4659\n",
      "\n",
      "{'Samples': 1000, 'Features': 9, 'Anomalies': 45, 'Anomalies Ratio(%)': 4.5}\n",
      "epoch : 1/5000, loss = 0.963570\n",
      "epoch : 1000/5000, loss = 0.019792\n",
      "epoch : 2000/5000, loss = 0.006178\n",
      "epoch : 3000/5000, loss = 0.003997\n",
      "epoch : 4000/5000, loss = 0.005537\n",
      "epoch : 5000/5000, loss = 0.003093\n",
      "self.error_median=0.0002, self.error_range=0.0002, self.latent_error_median_=0.0006, self.latent_error_range_=0.0010\n",
      "Model result scaling scheme:  True\n",
      "Latent dim= 9. Weight Decay = 0.000001\n",
      "Using cuda\n",
      "self.error_mu=0.0002, self.error_std=0.0002, self.latent_error_mu_=0.0013, self.latent_error_sigma_=0.0023; alpha = 1.0000\n"
     ]
    },
    {
     "name": "stderr",
     "output_type": "stream",
     "text": [
      "530it [5:27:48, 34.95s/it]"
     ]
    },
    {
     "name": "stdout",
     "output_type": "stream",
     "text": [
      "Current experiment parameters: ('42_WBC', 0.0, 2), model: Customized, metrics: {'aucroc': 0.9767732267732269, 'aucpr': 0.5426696117043308}, fitting time: 381.5942106246948, inference time: 0.0019943714141845703\n",
      "\n",
      "Model performance:\n",
      "Reconstruction AUCROC=0.9558; AUCPR=0.4035\n",
      "Deviation AUCROC=0.9915; AUCPR=0.8494\n",
      "Max(rec, dev) AUCROC=0.9850; AUCPR=0.7649\n",
      "\n",
      "Sum of squared error AUCROC=0.9850; AUCPR=0.7649\n",
      "\n",
      "Transformer selector AUCROC=0.5020; AUCPR=0.2204\n",
      "\n",
      "{'Samples': 1000, 'Features': 9, 'Anomalies': 48, 'Anomalies Ratio(%)': 4.8}\n",
      "epoch : 1/5000, loss = 1.590432\n",
      "epoch : 1000/5000, loss = 0.086175\n",
      "epoch : 2000/5000, loss = 0.014850\n",
      "epoch : 3000/5000, loss = 0.011505\n",
      "epoch : 4000/5000, loss = 0.003906\n",
      "epoch : 5000/5000, loss = 0.005145\n",
      "self.error_median=0.0001, self.error_range=0.0002, self.latent_error_median_=0.0009, self.latent_error_range_=0.0015\n",
      "Model result scaling scheme:  True\n",
      "Latent dim= 9. Weight Decay = 0.000001\n",
      "Using cuda\n",
      "self.error_mu=0.0002, self.error_std=0.0003, self.latent_error_mu_=0.0021, self.latent_error_sigma_=0.0035; alpha = 1.0000\n",
      "Current experiment parameters: ('42_WBC', 0.0, 3), model: Customized, metrics: {'aucroc': 0.9560439560439561, 'aucpr': 0.47034160739701103}, fitting time: 379.7397611141205, inference time: 0.002002716064453125\n"
     ]
    },
    {
     "name": "stderr",
     "output_type": "stream",
     "text": [
      "531it [5:34:08, 47.67s/it]"
     ]
    },
    {
     "name": "stdout",
     "output_type": "stream",
     "text": [
      "\n",
      "Model performance:\n",
      "Reconstruction AUCROC=0.9076; AUCPR=0.2597\n",
      "Deviation AUCROC=0.9725; AUCPR=0.7813\n",
      "Max(rec, dev) AUCROC=0.9715; AUCPR=0.7789\n",
      "\n",
      "Sum of squared error AUCROC=0.9700; AUCPR=0.7583\n",
      "\n",
      "Transformer selector AUCROC=0.7373; AUCPR=0.6263\n",
      "\n",
      "{'Samples': 1000, 'Features': 512, 'Anomalies': 215, 'Anomalies Ratio(%)': 21.5}\n",
      "epoch : 1/5000, loss = 186.538834\n",
      "epoch : 1000/5000, loss = 6.462126\n",
      "epoch : 2000/5000, loss = 4.311975\n",
      "epoch : 3000/5000, loss = 2.527942\n",
      "epoch : 4000/5000, loss = 2.080169\n",
      "epoch : 5000/5000, loss = 0.958048\n",
      "self.error_median=0.4808, self.error_range=0.7195, self.latent_error_median_=0.0254, self.latent_error_range_=0.0382\n",
      "Model result scaling scheme:  True\n",
      "Latent dim= 16. Weight Decay = 0.000001\n",
      "Using cuda\n",
      "self.error_mu=0.9732, self.error_std=1.7268, self.latent_error_mu_=0.0520, self.latent_error_sigma_=0.0942; alpha = 1.0000\n",
      "Current experiment parameters: ('MVTec-AD_bottle', 0.0, 1), model: Customized, metrics: {'aucroc': 0.977479541734861, 'aucpr': 0.9561024265471179}, fitting time: 348.04777932167053, inference time: 0.000972747802734375\n"
     ]
    },
    {
     "name": "stderr",
     "output_type": "stream",
     "text": [
      "553it [5:39:57, 30.58s/it]"
     ]
    },
    {
     "name": "stdout",
     "output_type": "stream",
     "text": [
      "\n",
      "Model performance:\n",
      "Reconstruction AUCROC=0.9760; AUCPR=0.9620\n",
      "Deviation AUCROC=0.9523; AUCPR=0.9011\n",
      "Max(rec, dev) AUCROC=0.9760; AUCPR=0.9620\n",
      "\n",
      "Sum of squared error AUCROC=0.9762; AUCPR=0.9620\n",
      "\n",
      "Transformer selector AUCROC=0.0151; AUCPR=0.1206\n",
      "\n",
      "{'Samples': 1000, 'Features': 512, 'Anomalies': 259, 'Anomalies Ratio(%)': 25.9}\n",
      "epoch : 1/5000, loss = 53.807629\n",
      "epoch : 1000/5000, loss = 3.088751\n",
      "epoch : 2000/5000, loss = 0.773469\n",
      "epoch : 3000/5000, loss = 0.478066\n",
      "epoch : 4000/5000, loss = 1.369936\n",
      "epoch : 5000/5000, loss = 2.208774\n",
      "self.error_median=0.2274, self.error_range=1.2636, self.latent_error_median_=0.0086, self.latent_error_range_=0.0194\n",
      "Model result scaling scheme:  True\n",
      "Latent dim= 16. Weight Decay = 0.000001\n",
      "Using cuda\n",
      "self.error_mu=0.8705, self.error_std=1.4748, self.latent_error_mu_=0.0395, self.latent_error_sigma_=0.1018; alpha = 1.0000\n",
      "Current experiment parameters: ('MVTec-AD_leather', 0.0, 1), model: Customized, metrics: {'aucroc': 0.9804804804804805, 'aucpr': 0.961832024794277}, fitting time: 347.44964480400085, inference time: 0.0009658336639404297\n"
     ]
    },
    {
     "name": "stderr",
     "output_type": "stream",
     "text": [
      "577it [5:45:44, 23.25s/it]"
     ]
    },
    {
     "name": "stdout",
     "output_type": "stream",
     "text": [
      "\n",
      "Model performance:\n",
      "Reconstruction AUCROC=0.9770; AUCPR=0.9506\n",
      "Deviation AUCROC=0.9592; AUCPR=0.9339\n",
      "Max(rec, dev) AUCROC=0.9811; AUCPR=0.9566\n",
      "\n",
      "Sum of squared error AUCROC=0.9811; AUCPR=0.9566\n",
      "\n",
      "Transformer selector AUCROC=0.5277; AUCPR=0.5991\n",
      "\n",
      "{'Samples': 1000, 'Features': 18, 'Anomalies': 44, 'Anomalies Ratio(%)': 4.4}\n",
      "epoch : 1/5000, loss = 9.221155\n",
      "epoch : 1000/5000, loss = 0.940187\n",
      "epoch : 2000/5000, loss = 0.618808\n",
      "epoch : 3000/5000, loss = 1.446479\n",
      "epoch : 4000/5000, loss = 0.117014\n",
      "epoch : 5000/5000, loss = 1.207430\n",
      "self.error_median=0.1149, self.error_range=0.1705, self.latent_error_median_=0.2977, self.latent_error_range_=0.2445\n",
      "Model result scaling scheme:  True\n",
      "Latent dim= 16. Weight Decay = 0.000001\n",
      "Using cuda\n",
      "self.error_mu=0.1674, self.error_std=0.1447, self.latent_error_mu_=0.3535, self.latent_error_sigma_=0.2304; alpha = 1.0000\n",
      "Current experiment parameters: ('21_Lymphography', 0.0, 1), model: Customized, metrics: {'aucroc': 0.9482712409541678, 'aucpr': 0.47355422355422355}, fitting time: 378.5339376926422, inference time: 0.0019943714141845703\n"
     ]
    },
    {
     "name": "stderr",
     "output_type": "stream",
     "text": [
      "601it [5:52:03, 20.31s/it]"
     ]
    },
    {
     "name": "stdout",
     "output_type": "stream",
     "text": [
      "\n",
      "Model performance:\n",
      "Reconstruction AUCROC=0.7518; AUCPR=0.1129\n",
      "Deviation AUCROC=0.9904; AUCPR=0.8642\n",
      "Max(rec, dev) AUCROC=0.9812; AUCPR=0.7976\n",
      "\n",
      "Sum of squared error AUCROC=0.9676; AUCPR=0.7477\n",
      "\n",
      "Transformer selector AUCROC=0.8151; AUCPR=0.7816\n",
      "\n",
      "{'Samples': 1000, 'Features': 18, 'Anomalies': 38, 'Anomalies Ratio(%)': 3.8}\n",
      "epoch : 1/5000, loss = 8.610820\n",
      "epoch : 1000/5000, loss = 0.523014\n",
      "epoch : 2000/5000, loss = 0.289194\n",
      "epoch : 3000/5000, loss = 0.245697\n",
      "epoch : 4000/5000, loss = 0.210548\n",
      "epoch : 5000/5000, loss = 0.123119\n",
      "self.error_median=0.0202, self.error_range=0.0352, self.latent_error_median_=0.0199, self.latent_error_range_=0.0227\n",
      "Model result scaling scheme:  True\n",
      "Latent dim= 16. Weight Decay = 0.000001\n",
      "Using cuda\n",
      "self.error_mu=0.0366, self.error_std=0.0575, self.latent_error_mu_=0.0252, self.latent_error_sigma_=0.0170; alpha = 1.0000\n"
     ]
    },
    {
     "name": "stderr",
     "output_type": "stream",
     "text": [
      "602it [5:58:20, 28.48s/it]"
     ]
    },
    {
     "name": "stdout",
     "output_type": "stream",
     "text": [
      "Current experiment parameters: ('21_Lymphography', 0.0, 2), model: Customized, metrics: {'aucroc': 0.8741742686379365, 'aucpr': 0.378050778050778}, fitting time: 376.59870171546936, inference time: 0.001994609832763672\n",
      "\n",
      "Model performance:\n",
      "Reconstruction AUCROC=0.4696; AUCPR=0.2460\n",
      "Deviation AUCROC=0.9824; AUCPR=0.6907\n",
      "Max(rec, dev) AUCROC=0.8886; AUCPR=0.3280\n",
      "\n",
      "Sum of squared error AUCROC=0.8820; AUCPR=0.3432\n",
      "\n",
      "Transformer selector AUCROC=0.8433; AUCPR=0.7580\n",
      "\n",
      "{'Samples': 1000, 'Features': 18, 'Anomalies': 43, 'Anomalies Ratio(%)': 4.3}\n",
      "epoch : 1/5000, loss = 6.967799\n",
      "epoch : 1000/5000, loss = 0.731357\n",
      "epoch : 2000/5000, loss = 0.276480\n",
      "epoch : 3000/5000, loss = 0.270881\n",
      "epoch : 4000/5000, loss = 0.151670\n",
      "epoch : 5000/5000, loss = 0.993763\n",
      "self.error_median=0.0541, self.error_range=0.0540, self.latent_error_median_=0.3661, self.latent_error_range_=0.3352\n",
      "Model result scaling scheme:  True\n",
      "Latent dim= 16. Weight Decay = 0.000001\n",
      "Using cuda\n",
      "self.error_mu=0.0697, self.error_std=0.0708, self.latent_error_mu_=0.3860, self.latent_error_sigma_=0.1892; alpha = 1.0000\n",
      "Current experiment parameters: ('21_Lymphography', 0.0, 3), model: Customized, metrics: {'aucroc': 0.8531224872688287, 'aucpr': 0.534144471173715}, fitting time: 378.51789236068726, inference time: 0.0019960403442382812\n"
     ]
    },
    {
     "name": "stderr",
     "output_type": "stream",
     "text": [
      "603it [6:04:39, 39.59s/it]"
     ]
    },
    {
     "name": "stdout",
     "output_type": "stream",
     "text": [
      "\n",
      "Model performance:\n",
      "Reconstruction AUCROC=0.6918; AUCPR=0.4959\n",
      "Deviation AUCROC=0.9705; AUCPR=0.7616\n",
      "Max(rec, dev) AUCROC=0.9705; AUCPR=0.7616\n",
      "\n",
      "Sum of squared error AUCROC=0.9649; AUCPR=0.7503\n",
      "\n",
      "Transformer selector AUCROC=0.6934; AUCPR=0.4979\n",
      "\n",
      "{'Samples': 1000, 'Features': 512, 'Anomalies': 284, 'Anomalies Ratio(%)': 28.4}\n",
      "epoch : 1/5000, loss = 97.829063\n",
      "epoch : 1000/5000, loss = 9.178907\n",
      "epoch : 2000/5000, loss = 5.846696\n",
      "epoch : 3000/5000, loss = 4.076285\n",
      "epoch : 4000/5000, loss = 3.297913\n",
      "epoch : 5000/5000, loss = 2.430309\n",
      "self.error_median=1.0617, self.error_range=0.8443, self.latent_error_median_=0.0287, self.latent_error_range_=0.0309\n",
      "Model result scaling scheme:  True\n",
      "Latent dim= 16. Weight Decay = 0.000001\n",
      "Using cuda\n",
      "self.error_mu=1.2463, self.error_std=0.7754, self.latent_error_mu_=0.0380, self.latent_error_sigma_=0.0278; alpha = 1.0000\n"
     ]
    },
    {
     "name": "stderr",
     "output_type": "stream",
     "text": [
      "625it [6:10:27, 27.73s/it]"
     ]
    },
    {
     "name": "stdout",
     "output_type": "stream",
     "text": [
      "Current experiment parameters: ('MVTec-AD_metal_nut', 0.0, 1), model: Customized, metrics: {'aucroc': 0.6546101231190151, 'aucpr': 0.4441710749928052}, fitting time: 347.9842755794525, inference time: 0.001993894577026367\n",
      "\n",
      "Model performance:\n",
      "Reconstruction AUCROC=0.5953; AUCPR=0.4073\n",
      "Deviation AUCROC=0.6391; AUCPR=0.4532\n",
      "Max(rec, dev) AUCROC=0.5953; AUCPR=0.4073\n",
      "\n",
      "Sum of squared error AUCROC=0.5962; AUCPR=0.4077\n",
      "\n",
      "Transformer selector AUCROC=0.4019; AUCPR=0.2743\n",
      "\n",
      "{'Samples': 1000, 'Features': 32, 'Anomalies': 369, 'Anomalies Ratio(%)': 36.9}\n",
      "epoch : 1/5000, loss = 543.595154\n",
      "epoch : 1000/5000, loss = 2.049528\n",
      "epoch : 2000/5000, loss = 0.936788\n",
      "epoch : 3000/5000, loss = 0.746984\n",
      "epoch : 4000/5000, loss = 0.527432\n",
      "epoch : 5000/5000, loss = 1.630018\n",
      "self.error_median=0.1882, self.error_range=0.6124, self.latent_error_median_=0.3792, self.latent_error_range_=0.1579\n",
      "Model result scaling scheme:  True\n",
      "Latent dim= 16. Weight Decay = 0.000001\n",
      "Using cuda\n",
      "self.error_mu=0.3887, self.error_std=0.5160, self.latent_error_mu_=0.3878, self.latent_error_sigma_=0.1297; alpha = 1.0000\n",
      "Current experiment parameters: ('18_Ionosphere', 0.0, 1), model: Customized, metrics: {'aucroc': 0.8379331712665046, 'aucpr': 0.8633570398766789}, fitting time: 378.3294880390167, inference time: 0.0009968280792236328\n"
     ]
    },
    {
     "name": "stderr",
     "output_type": "stream",
     "text": [
      "649it [6:16:45, 22.50s/it]"
     ]
    },
    {
     "name": "stdout",
     "output_type": "stream",
     "text": [
      "\n",
      "Model performance:\n",
      "Reconstruction AUCROC=0.9409; AUCPR=0.9330\n",
      "Deviation AUCROC=0.6573; AUCPR=0.6777\n",
      "Max(rec, dev) AUCROC=0.8760; AUCPR=0.9006\n",
      "\n",
      "Sum of squared error AUCROC=0.8887; AUCPR=0.9103\n",
      "\n",
      "Transformer selector AUCROC=0.5037; AUCPR=0.4782\n",
      "\n",
      "{'Samples': 1000, 'Features': 32, 'Anomalies': 374, 'Anomalies Ratio(%)': 37.4}\n",
      "epoch : 1/5000, loss = 31.468029\n",
      "epoch : 1000/5000, loss = 1.634582\n",
      "epoch : 2000/5000, loss = 1.109633\n",
      "epoch : 3000/5000, loss = 0.955188\n",
      "epoch : 4000/5000, loss = 1.155150\n",
      "epoch : 5000/5000, loss = 0.558880\n",
      "self.error_median=0.0728, self.error_range=0.4285, self.latent_error_median_=0.0147, self.latent_error_range_=0.0416\n",
      "Model result scaling scheme:  True\n",
      "Latent dim= 16. Weight Decay = 0.000001\n",
      "Using cuda\n",
      "self.error_mu=0.2478, self.error_std=0.3942, self.latent_error_mu_=0.0313, self.latent_error_sigma_=0.0422; alpha = 1.0000\n",
      "Current experiment parameters: ('18_Ionosphere', 0.0, 2), model: Customized, metrics: {'aucroc': 0.896466565349544, 'aucpr': 0.8966902588317096}, fitting time: 380.26033210754395, inference time: 0.0019948482513427734\n"
     ]
    },
    {
     "name": "stderr",
     "output_type": "stream",
     "text": [
      "650it [6:23:06, 31.58s/it]"
     ]
    },
    {
     "name": "stdout",
     "output_type": "stream",
     "text": [
      "\n",
      "Model performance:\n",
      "Reconstruction AUCROC=0.9140; AUCPR=0.9003\n",
      "Deviation AUCROC=0.8254; AUCPR=0.8110\n",
      "Max(rec, dev) AUCROC=0.9132; AUCPR=0.9000\n",
      "\n",
      "Sum of squared error AUCROC=0.9131; AUCPR=0.9036\n",
      "\n",
      "Transformer selector AUCROC=0.6058; AUCPR=0.6159\n",
      "\n",
      "{'Samples': 1000, 'Features': 32, 'Anomalies': 349, 'Anomalies Ratio(%)': 34.9}\n",
      "epoch : 1/5000, loss = 32.327538\n",
      "epoch : 1000/5000, loss = 1.607010\n",
      "epoch : 2000/5000, loss = 0.987127\n",
      "epoch : 3000/5000, loss = 0.611710\n",
      "epoch : 4000/5000, loss = 0.502255\n",
      "epoch : 5000/5000, loss = 0.487670\n",
      "self.error_median=0.0639, self.error_range=0.3198, self.latent_error_median_=0.0139, self.latent_error_range_=0.0333\n",
      "Model result scaling scheme:  True\n",
      "Latent dim= 16. Weight Decay = 0.000001\n",
      "Using cuda\n",
      "self.error_mu=0.2287, self.error_std=0.3842, self.latent_error_mu_=0.0286, self.latent_error_sigma_=0.0377; alpha = 1.0000\n",
      "Current experiment parameters: ('18_Ionosphere', 0.0, 3), model: Customized, metrics: {'aucroc': 0.9371916971916971, 'aucpr': 0.9342755260102534}, fitting time: 380.7290461063385, inference time: 0.0009975433349609375\n"
     ]
    },
    {
     "name": "stderr",
     "output_type": "stream",
     "text": [
      "651it [6:29:27, 43.81s/it]"
     ]
    },
    {
     "name": "stdout",
     "output_type": "stream",
     "text": [
      "\n",
      "Model performance:\n",
      "Reconstruction AUCROC=0.9453; AUCPR=0.9371\n",
      "Deviation AUCROC=0.9045; AUCPR=0.8863\n",
      "Max(rec, dev) AUCROC=0.9455; AUCPR=0.9376\n",
      "\n",
      "Sum of squared error AUCROC=0.9450; AUCPR=0.9399\n",
      "\n",
      "Transformer selector AUCROC=0.3793; AUCPR=0.3160\n",
      "\n",
      "{'Samples': 1456, 'Features': 12, 'Anomalies': 50, 'Anomalies Ratio(%)': 3.43}\n",
      "epoch : 1/5000, loss = 6.633884\n",
      "epoch : 1000/5000, loss = 0.195513\n",
      "epoch : 2000/5000, loss = 0.069856\n",
      "epoch : 3000/5000, loss = 0.050935\n",
      "epoch : 4000/5000, loss = 0.027286\n",
      "epoch : 5000/5000, loss = 0.031713\n",
      "self.error_median=0.0101, self.error_range=0.0070, self.latent_error_median_=0.0038, self.latent_error_range_=0.0025\n",
      "Model result scaling scheme:  True\n",
      "Latent dim= 12. Weight Decay = 0.000001\n",
      "Using cuda\n",
      "self.error_mu=0.0118, self.error_std=0.0064, self.latent_error_mu_=0.0040, self.latent_error_sigma_=0.0016; alpha = 1.0000\n",
      "Current experiment parameters: ('40_vowels', 0.0, 1), model: Customized, metrics: {'aucroc': 0.8695102685624012, 'aucpr': 0.1911391299566733}, fitting time: 380.7421360015869, inference time: 0.0019943714141845703\n"
     ]
    },
    {
     "name": "stderr",
     "output_type": "stream",
     "text": [
      "673it [6:35:48, 29.93s/it]"
     ]
    },
    {
     "name": "stdout",
     "output_type": "stream",
     "text": [
      "\n",
      "Model performance:\n",
      "Reconstruction AUCROC=0.8128; AUCPR=0.2217\n",
      "Deviation AUCROC=0.7673; AUCPR=0.1003\n",
      "Max(rec, dev) AUCROC=0.8120; AUCPR=0.2216\n",
      "\n",
      "Sum of squared error AUCROC=0.8374; AUCPR=0.2270\n",
      "\n",
      "Transformer selector AUCROC=0.3118; AUCPR=0.0252\n",
      "\n",
      "{'Samples': 1456, 'Features': 12, 'Anomalies': 50, 'Anomalies Ratio(%)': 3.43}\n",
      "epoch : 1/5000, loss = 6.653948\n",
      "epoch : 1000/5000, loss = 0.120983\n",
      "epoch : 2000/5000, loss = 0.036847\n",
      "epoch : 3000/5000, loss = 0.024295\n",
      "epoch : 4000/5000, loss = 0.011476\n",
      "epoch : 5000/5000, loss = 0.007865\n",
      "self.error_median=0.0010, self.error_range=0.0008, self.latent_error_median_=0.0026, self.latent_error_range_=0.0021\n",
      "Model result scaling scheme:  True\n",
      "Latent dim= 12. Weight Decay = 0.000001\n",
      "Using cuda\n",
      "self.error_mu=0.0012, self.error_std=0.0009, self.latent_error_mu_=0.0029, self.latent_error_sigma_=0.0014; alpha = 1.0000\n",
      "Current experiment parameters: ('40_vowels', 0.0, 2), model: Customized, metrics: {'aucroc': 0.9083728278041074, 'aucpr': 0.3777227165303427}, fitting time: 378.3619055747986, inference time: 0.001997709274291992\n"
     ]
    },
    {
     "name": "stderr",
     "output_type": "stream",
     "text": [
      "674it [6:42:06, 41.40s/it]"
     ]
    },
    {
     "name": "stdout",
     "output_type": "stream",
     "text": [
      "\n",
      "Model performance:\n",
      "Reconstruction AUCROC=0.8733; AUCPR=0.3507\n",
      "Deviation AUCROC=0.8599; AUCPR=0.3178\n",
      "Max(rec, dev) AUCROC=0.8940; AUCPR=0.3927\n",
      "\n",
      "Sum of squared error AUCROC=0.9117; AUCPR=0.3947\n",
      "\n",
      "Transformer selector AUCROC=0.2836; AUCPR=0.0236\n",
      "\n",
      "{'Samples': 1456, 'Features': 12, 'Anomalies': 50, 'Anomalies Ratio(%)': 3.43}\n",
      "epoch : 1/5000, loss = 6.540213\n",
      "epoch : 1000/5000, loss = 0.106809\n",
      "epoch : 2000/5000, loss = 0.031791\n",
      "epoch : 3000/5000, loss = 0.024627\n",
      "epoch : 4000/5000, loss = 0.012719\n",
      "epoch : 5000/5000, loss = 0.014046\n",
      "self.error_median=0.0031, self.error_range=0.0024, self.latent_error_median_=0.0027, self.latent_error_range_=0.0021\n",
      "Model result scaling scheme:  True\n",
      "Latent dim= 12. Weight Decay = 0.000001\n",
      "Using cuda\n",
      "self.error_mu=0.0041, self.error_std=0.0035, self.latent_error_mu_=0.0029, self.latent_error_sigma_=0.0014; alpha = 1.0000\n",
      "Current experiment parameters: ('40_vowels', 0.0, 3), model: Customized, metrics: {'aucroc': 0.916429699842022, 'aucpr': 0.3748805220015174}, fitting time: 380.0184826850891, inference time: 0.0019958019256591797\n",
      "\n",
      "Model performance:\n",
      "Reconstruction AUCROC=0.9055; AUCPR=0.3602\n",
      "Deviation AUCROC=0.7839; AUCPR=0.2563\n",
      "Max(rec, dev) AUCROC=0.9183; AUCPR=0.3682\n",
      "\n",
      "Sum of squared error AUCROC=0.9204; AUCPR=0.3719\n",
      "\n"
     ]
    },
    {
     "name": "stderr",
     "output_type": "stream",
     "text": [
      "675it [6:48:27, 56.61s/it]"
     ]
    },
    {
     "name": "stdout",
     "output_type": "stream",
     "text": [
      "Transformer selector AUCROC=0.5738; AUCPR=0.1690\n",
      "\n",
      "{'Samples': 1484, 'Features': 8, 'Anomalies': 507, 'Anomalies Ratio(%)': 34.16}\n",
      "epoch : 1/5000, loss = 2.405637\n",
      "epoch : 1000/5000, loss = 0.056934\n",
      "epoch : 2000/5000, loss = 0.019620\n",
      "epoch : 3000/5000, loss = 0.055429\n",
      "epoch : 4000/5000, loss = 0.027889\n",
      "epoch : 5000/5000, loss = 0.010897\n",
      "self.error_median=0.0003, self.error_range=0.0007, self.latent_error_median_=0.0014, self.latent_error_range_=0.0023\n",
      "Model result scaling scheme:  True\n",
      "Latent dim= 8. Weight Decay = 0.000001\n",
      "Using cuda\n",
      "self.error_mu=0.0012, self.error_std=0.0049, self.latent_error_mu_=0.0028, self.latent_error_sigma_=0.0074; alpha = 1.0000\n",
      "Current experiment parameters: ('47_yeast', 0.0, 1), model: Customized, metrics: {'aucroc': 0.36609380594343, 'aucpr': 0.2726296415587178}, fitting time: 381.38813376426697, inference time: 0.002992868423461914\n"
     ]
    },
    {
     "name": "stderr",
     "output_type": "stream",
     "text": [
      "697it [6:54:48, 33.63s/it]"
     ]
    },
    {
     "name": "stdout",
     "output_type": "stream",
     "text": [
      "\n",
      "Model performance:\n",
      "Reconstruction AUCROC=0.3751; AUCPR=0.2776\n",
      "Deviation AUCROC=0.3707; AUCPR=0.2732\n",
      "Max(rec, dev) AUCROC=0.3703; AUCPR=0.2736\n",
      "\n",
      "Sum of squared error AUCROC=0.3697; AUCPR=0.2735\n",
      "\n",
      "Transformer selector AUCROC=0.5257; AUCPR=0.3366\n",
      "\n",
      "{'Samples': 1484, 'Features': 8, 'Anomalies': 507, 'Anomalies Ratio(%)': 34.16}\n",
      "epoch : 1/5000, loss = 2.583975\n",
      "epoch : 1000/5000, loss = 0.057909\n",
      "epoch : 2000/5000, loss = 0.011145\n",
      "epoch : 3000/5000, loss = 0.004187\n",
      "epoch : 4000/5000, loss = 0.004599\n",
      "epoch : 5000/5000, loss = 0.004302\n",
      "self.error_median=0.0008, self.error_range=0.0004, self.latent_error_median_=0.0007, self.latent_error_range_=0.0010\n",
      "Model result scaling scheme:  True\n",
      "Latent dim= 8. Weight Decay = 0.000001\n",
      "Using cuda\n",
      "self.error_mu=0.0009, self.error_std=0.0004, self.latent_error_mu_=0.0011, self.latent_error_sigma_=0.0016; alpha = 1.0000\n",
      "Current experiment parameters: ('47_yeast', 0.0, 2), model: Customized, metrics: {'aucroc': 0.38242928750447547, 'aucpr': 0.28215209936255103}, fitting time: 380.7407467365265, inference time: 0.001995086669921875\n"
     ]
    },
    {
     "name": "stderr",
     "output_type": "stream",
     "text": [
      "698it [7:01:09, 46.35s/it]"
     ]
    },
    {
     "name": "stdout",
     "output_type": "stream",
     "text": [
      "\n",
      "Model performance:\n",
      "Reconstruction AUCROC=0.4337; AUCPR=0.3001\n",
      "Deviation AUCROC=0.4010; AUCPR=0.2879\n",
      "Max(rec, dev) AUCROC=0.3837; AUCPR=0.2833\n",
      "\n",
      "Sum of squared error AUCROC=0.3718; AUCPR=0.2792\n",
      "\n",
      "Transformer selector AUCROC=0.4421; AUCPR=0.3039\n",
      "\n",
      "{'Samples': 1484, 'Features': 8, 'Anomalies': 507, 'Anomalies Ratio(%)': 34.16}\n",
      "epoch : 1/5000, loss = 2.549193\n",
      "epoch : 1000/5000, loss = 0.037330\n",
      "epoch : 2000/5000, loss = 0.006920\n",
      "epoch : 3000/5000, loss = 0.005355\n",
      "epoch : 4000/5000, loss = 0.002407\n",
      "epoch : 5000/5000, loss = 0.003545\n",
      "self.error_median=0.0002, self.error_range=0.0004, self.latent_error_median_=0.0006, self.latent_error_range_=0.0009\n",
      "Model result scaling scheme:  True\n",
      "Latent dim= 8. Weight Decay = 0.000001\n",
      "Using cuda\n",
      "self.error_mu=0.0005, self.error_std=0.0020, self.latent_error_mu_=0.0012, self.latent_error_sigma_=0.0032; alpha = 1.0000\n",
      "Current experiment parameters: ('47_yeast', 0.0, 3), model: Customized, metrics: {'aucroc': 0.42743018259935556, 'aucpr': 0.3103763331161075}, fitting time: 382.34108710289, inference time: 0.0019948482513427734\n"
     ]
    },
    {
     "name": "stderr",
     "output_type": "stream",
     "text": [
      "699it [7:07:32, 63.06s/it]"
     ]
    },
    {
     "name": "stdout",
     "output_type": "stream",
     "text": [
      "\n",
      "Model performance:\n",
      "Reconstruction AUCROC=0.4217; AUCPR=0.3064\n",
      "Deviation AUCROC=0.4397; AUCPR=0.3177\n",
      "Max(rec, dev) AUCROC=0.4326; AUCPR=0.3132\n",
      "\n",
      "Sum of squared error AUCROC=0.4339; AUCPR=0.3136\n",
      "\n",
      "Transformer selector AUCROC=0.4986; AUCPR=0.3168\n",
      "\n",
      "{'Samples': 1532, 'Features': 768, 'Anomalies': 76, 'Anomalies Ratio(%)': 4.96}\n",
      "epoch : 1/5000, loss = 412.979889\n",
      "epoch : 1000/5000, loss = 10.997353\n",
      "epoch : 2000/5000, loss = 7.012474\n",
      "epoch : 3000/5000, loss = 6.378861\n",
      "epoch : 4000/5000, loss = 6.291490\n",
      "epoch : 5000/5000, loss = -7.295447\n",
      "self.error_median=3.1324, self.error_range=2.1685, self.latent_error_median_=0.0681, self.latent_error_range_=0.0524\n",
      "Model result scaling scheme:  True\n",
      "Latent dim= 16. Weight Decay = 0.000001\n",
      "Using cuda\n",
      "self.error_mu=3.5780, self.error_std=1.7855, self.latent_error_mu_=0.0856, self.latent_error_sigma_=0.0825; alpha = 1.0000\n",
      "Current experiment parameters: ('20news_5', 0.0, 1), model: Customized, metrics: {'aucroc': 0.5568102676350613, 'aucpr': 0.05838527747981582}, fitting time: 444.44708824157715, inference time: 0.001995086669921875\n"
     ]
    },
    {
     "name": "stderr",
     "output_type": "stream",
     "text": [
      "721it [7:14:57, 36.94s/it]"
     ]
    },
    {
     "name": "stdout",
     "output_type": "stream",
     "text": [
      "\n",
      "Model performance:\n",
      "Reconstruction AUCROC=0.5646; AUCPR=0.0652\n",
      "Deviation AUCROC=0.5341; AUCPR=0.0523\n",
      "Max(rec, dev) AUCROC=0.5646; AUCPR=0.0652\n",
      "\n",
      "Sum of squared error AUCROC=0.5646; AUCPR=0.0652\n",
      "\n",
      "Transformer selector AUCROC=0.4015; AUCPR=0.0420\n",
      "\n",
      "{'Samples': 1600, 'Features': 32, 'Anomalies': 100, 'Anomalies Ratio(%)': 6.25}\n",
      "epoch : 1/5000, loss = 14.530670\n",
      "epoch : 1000/5000, loss = 0.875306\n",
      "epoch : 2000/5000, loss = 0.353035\n",
      "epoch : 3000/5000, loss = 0.293969\n",
      "epoch : 4000/5000, loss = 0.301570\n",
      "epoch : 5000/5000, loss = 0.221843\n",
      "self.error_median=0.0731, self.error_range=0.0861, self.latent_error_median_=0.0136, self.latent_error_range_=0.0080\n",
      "Model result scaling scheme:  True\n",
      "Latent dim= 16. Weight Decay = 0.000001\n",
      "Using cuda\n",
      "self.error_mu=0.0937, self.error_std=0.0801, self.latent_error_mu_=0.0150, self.latent_error_sigma_=0.0064; alpha = 1.0000\n",
      "Current experiment parameters: ('20_letter', 0.0, 1), model: Customized, metrics: {'aucroc': 0.7877777777777778, 'aucpr': 0.1803530949924136}, fitting time: 377.0948784351349, inference time: 0.0019943714141845703\n"
     ]
    },
    {
     "name": "stderr",
     "output_type": "stream",
     "text": [
      "745it [7:21:14, 26.60s/it]"
     ]
    },
    {
     "name": "stdout",
     "output_type": "stream",
     "text": [
      "\n",
      "Model performance:\n",
      "Reconstruction AUCROC=0.8389; AUCPR=0.2342\n",
      "Deviation AUCROC=0.6341; AUCPR=0.1016\n",
      "Max(rec, dev) AUCROC=0.8389; AUCPR=0.2342\n",
      "\n",
      "Sum of squared error AUCROC=0.8388; AUCPR=0.2354\n",
      "\n",
      "Transformer selector AUCROC=0.5410; AUCPR=0.0820\n",
      "\n",
      "{'Samples': 1600, 'Features': 32, 'Anomalies': 100, 'Anomalies Ratio(%)': 6.25}\n",
      "epoch : 1/5000, loss = 16.865782\n",
      "epoch : 1000/5000, loss = 0.811779\n",
      "epoch : 2000/5000, loss = 0.459092\n",
      "epoch : 3000/5000, loss = 0.341973\n",
      "epoch : 4000/5000, loss = 0.258690\n",
      "epoch : 5000/5000, loss = 0.206403\n",
      "self.error_median=0.0723, self.error_range=0.0860, self.latent_error_median_=0.0130, self.latent_error_range_=0.0084\n",
      "Model result scaling scheme:  True\n",
      "Latent dim= 16. Weight Decay = 0.000001\n",
      "Using cuda\n",
      "self.error_mu=0.0932, self.error_std=0.0771, self.latent_error_mu_=0.0143, self.latent_error_sigma_=0.0060; alpha = 1.0000\n",
      "Current experiment parameters: ('20_letter', 0.0, 2), model: Customized, metrics: {'aucroc': 0.7549629629629631, 'aucpr': 0.18362968259810453}, fitting time: 379.4925420284271, inference time: 0.002992391586303711\n",
      "\n",
      "Model performance:\n",
      "Reconstruction AUCROC=0.7781; AUCPR=0.2145\n",
      "Deviation AUCROC=0.5799; AUCPR=0.0852\n",
      "Max(rec, dev) AUCROC=0.7781; AUCPR=0.2145\n",
      "\n",
      "Sum of squared error AUCROC=0.7778; AUCPR=0.2146\n",
      "\n"
     ]
    },
    {
     "name": "stderr",
     "output_type": "stream",
     "text": [
      "746it [7:27:34, 36.55s/it]"
     ]
    },
    {
     "name": "stdout",
     "output_type": "stream",
     "text": [
      "Transformer selector AUCROC=0.5198; AUCPR=0.0795\n",
      "\n",
      "{'Samples': 1600, 'Features': 32, 'Anomalies': 100, 'Anomalies Ratio(%)': 6.25}\n",
      "epoch : 1/5000, loss = 15.046008\n",
      "epoch : 1000/5000, loss = 0.844269\n",
      "epoch : 2000/5000, loss = 0.367397\n",
      "epoch : 3000/5000, loss = 0.303475\n",
      "epoch : 4000/5000, loss = 0.236087\n",
      "epoch : 5000/5000, loss = 0.208610\n",
      "self.error_median=0.0755, self.error_range=0.0937, self.latent_error_median_=0.0126, self.latent_error_range_=0.0087\n",
      "Model result scaling scheme:  True\n",
      "Latent dim= 16. Weight Decay = 0.000001\n",
      "Using cuda\n",
      "self.error_mu=0.0983, self.error_std=0.0831, self.latent_error_mu_=0.0142, self.latent_error_sigma_=0.0068; alpha = 1.0000\n",
      "Current experiment parameters: ('20_letter', 0.0, 3), model: Customized, metrics: {'aucroc': 0.7859259259259259, 'aucpr': 0.167960165387506}, fitting time: 374.11966705322266, inference time: 0.0019943714141845703\n"
     ]
    },
    {
     "name": "stderr",
     "output_type": "stream",
     "text": [
      "747it [7:33:48, 49.63s/it]"
     ]
    },
    {
     "name": "stdout",
     "output_type": "stream",
     "text": [
      "\n",
      "Model performance:\n",
      "Reconstruction AUCROC=0.8130; AUCPR=0.2494\n",
      "Deviation AUCROC=0.6352; AUCPR=0.0927\n",
      "Max(rec, dev) AUCROC=0.8130; AUCPR=0.2494\n",
      "\n",
      "Sum of squared error AUCROC=0.8137; AUCPR=0.2500\n",
      "\n",
      "Transformer selector AUCROC=0.3740; AUCPR=0.0486\n",
      "\n",
      "{'Samples': 1657, 'Features': 768, 'Anomalies': 82, 'Anomalies Ratio(%)': 4.95}\n",
      "epoch : 1/5000, loss = 508.698029\n",
      "epoch : 1000/5000, loss = 11.620190\n",
      "epoch : 2000/5000, loss = 7.672670\n",
      "epoch : 3000/5000, loss = 6.234466\n",
      "epoch : 4000/5000, loss = 6.001051\n",
      "epoch : 5000/5000, loss = 5.326957\n",
      "self.error_median=2.8069, self.error_range=1.9012, self.latent_error_median_=0.0493, self.latent_error_range_=0.0598\n",
      "Model result scaling scheme:  True\n",
      "Latent dim= 16. Weight Decay = 0.000001\n",
      "Using cuda\n",
      "self.error_mu=3.1505, self.error_std=1.6737, self.latent_error_mu_=0.0734, self.latent_error_sigma_=0.0965; alpha = 1.0000\n",
      "Current experiment parameters: ('20news_4', 0.0, 1), model: Customized, metrics: {'aucroc': 0.43906976744186055, 'aucpr': 0.045998624061036116}, fitting time: 449.5134952068329, inference time: 0.001965761184692383\n"
     ]
    },
    {
     "name": "stderr",
     "output_type": "stream",
     "text": [
      "769it [7:41:18, 33.61s/it]"
     ]
    },
    {
     "name": "stdout",
     "output_type": "stream",
     "text": [
      "\n",
      "Model performance:\n",
      "Reconstruction AUCROC=0.5055; AUCPR=0.0770\n",
      "Deviation AUCROC=0.3839; AUCPR=0.0389\n",
      "Max(rec, dev) AUCROC=0.5055; AUCPR=0.0770\n",
      "\n",
      "Sum of squared error AUCROC=0.5054; AUCPR=0.0770\n",
      "\n",
      "Transformer selector AUCROC=0.6648; AUCPR=0.0802\n",
      "\n",
      "{'Samples': 1831, 'Features': 21, 'Anomalies': 176, 'Anomalies Ratio(%)': 9.61}\n",
      "epoch : 1/5000, loss = 7.104990\n",
      "epoch : 1000/5000, loss = 0.268718\n",
      "epoch : 2000/5000, loss = 0.177514\n",
      "epoch : 3000/5000, loss = 0.208232\n",
      "epoch : 4000/5000, loss = 0.096634\n",
      "epoch : 5000/5000, loss = 0.477606\n",
      "self.error_median=0.0578, self.error_range=0.0645, self.latent_error_median_=0.0815, self.latent_error_range_=0.0523\n",
      "Model result scaling scheme:  True\n",
      "Latent dim= 16. Weight Decay = 0.000001\n",
      "Using cuda\n",
      "self.error_mu=0.0792, self.error_std=0.1315, self.latent_error_mu_=0.0963, self.latent_error_sigma_=0.1105; alpha = 1.0000\n",
      "Current experiment parameters: ('6_cardio', 0.0, 1), model: Customized, metrics: {'aucroc': 0.9338673550738393, 'aucpr': 0.609914549283606}, fitting time: 376.9496011734009, inference time: 0.002992391586303711\n"
     ]
    },
    {
     "name": "stderr",
     "output_type": "stream",
     "text": [
      "793it [7:47:35, 25.36s/it]"
     ]
    },
    {
     "name": "stdout",
     "output_type": "stream",
     "text": [
      "\n",
      "Model performance:\n",
      "Reconstruction AUCROC=0.7712; AUCPR=0.4351\n",
      "Deviation AUCROC=0.9527; AUCPR=0.7012\n",
      "Max(rec, dev) AUCROC=0.9398; AUCPR=0.5873\n",
      "\n",
      "Sum of squared error AUCROC=0.9378; AUCPR=0.5965\n",
      "\n",
      "Transformer selector AUCROC=0.9071; AUCPR=0.5981\n",
      "\n",
      "{'Samples': 1831, 'Features': 21, 'Anomalies': 176, 'Anomalies Ratio(%)': 9.61}\n",
      "epoch : 1/5000, loss = 7.144993\n",
      "epoch : 1000/5000, loss = 0.225075\n",
      "epoch : 2000/5000, loss = 0.118373\n",
      "epoch : 3000/5000, loss = 0.085172\n",
      "epoch : 4000/5000, loss = 0.061708\n",
      "epoch : 5000/5000, loss = 0.054886\n",
      "self.error_median=0.0096, self.error_range=0.0203, self.latent_error_median_=0.0052, self.latent_error_range_=0.0057\n",
      "Model result scaling scheme:  True\n",
      "Latent dim= 16. Weight Decay = 0.000001\n",
      "Using cuda\n",
      "self.error_mu=0.0192, self.error_std=0.0391, self.latent_error_mu_=0.0070, self.latent_error_sigma_=0.0059; alpha = 1.0000\n",
      "Current experiment parameters: ('6_cardio', 0.0, 2), model: Customized, metrics: {'aucroc': 0.9138984852511294, 'aucpr': 0.5144316797593985}, fitting time: 377.7460608482361, inference time: 0.0019943714141845703\n"
     ]
    },
    {
     "name": "stderr",
     "output_type": "stream",
     "text": [
      "794it [7:53:53, 34.78s/it]"
     ]
    },
    {
     "name": "stdout",
     "output_type": "stream",
     "text": [
      "\n",
      "Model performance:\n",
      "Reconstruction AUCROC=0.7874; AUCPR=0.3966\n",
      "Deviation AUCROC=0.9196; AUCPR=0.5301\n",
      "Max(rec, dev) AUCROC=0.8513; AUCPR=0.4219\n",
      "\n",
      "Sum of squared error AUCROC=0.8606; AUCPR=0.4283\n",
      "\n",
      "Transformer selector AUCROC=0.7767; AUCPR=0.3322\n",
      "\n",
      "{'Samples': 1831, 'Features': 21, 'Anomalies': 176, 'Anomalies Ratio(%)': 9.61}\n",
      "epoch : 1/5000, loss = 6.971205\n",
      "epoch : 1000/5000, loss = 0.280357\n",
      "epoch : 2000/5000, loss = 0.126762\n",
      "epoch : 3000/5000, loss = 0.083337\n",
      "epoch : 4000/5000, loss = 0.076069\n",
      "epoch : 5000/5000, loss = 0.045933\n",
      "self.error_median=0.0079, self.error_range=0.0143, self.latent_error_median_=0.0049, self.latent_error_range_=0.0051\n",
      "Model result scaling scheme:  True\n",
      "Latent dim= 16. Weight Decay = 0.000001\n",
      "Using cuda\n",
      "self.error_mu=0.0144, self.error_std=0.0226, self.latent_error_mu_=0.0065, self.latent_error_sigma_=0.0055; alpha = 1.0000\n",
      "Current experiment parameters: ('6_cardio', 0.0, 3), model: Customized, metrics: {'aucroc': 0.8400971868949547, 'aucpr': 0.3656745020770688}, fitting time: 378.25089931488037, inference time: 0.000997304916381836\n"
     ]
    },
    {
     "name": "stderr",
     "output_type": "stream",
     "text": [
      "795it [8:00:11, 47.41s/it]"
     ]
    },
    {
     "name": "stdout",
     "output_type": "stream",
     "text": [
      "\n",
      "Model performance:\n",
      "Reconstruction AUCROC=0.7064; AUCPR=0.3075\n",
      "Deviation AUCROC=0.9055; AUCPR=0.4278\n",
      "Max(rec, dev) AUCROC=0.7695; AUCPR=0.3185\n",
      "\n",
      "Sum of squared error AUCROC=0.7772; AUCPR=0.3252\n",
      "\n",
      "Transformer selector AUCROC=0.7712; AUCPR=0.2498\n",
      "\n",
      "{'Samples': 1941, 'Features': 27, 'Anomalies': 673, 'Anomalies Ratio(%)': 34.67}\n",
      "epoch : 1/5000, loss = 13.083910\n",
      "epoch : 1000/5000, loss = 0.756206\n",
      "epoch : 2000/5000, loss = 0.276276\n",
      "epoch : 3000/5000, loss = 0.116824\n",
      "epoch : 4000/5000, loss = 0.092521\n",
      "epoch : 5000/5000, loss = 0.109012\n",
      "self.error_median=0.0272, self.error_range=0.0334, self.latent_error_median_=0.0178, self.latent_error_range_=0.0124\n",
      "Model result scaling scheme:  True\n",
      "Latent dim= 16. Weight Decay = 0.000001\n",
      "Using cuda\n",
      "self.error_mu=0.0351, self.error_std=0.0353, self.latent_error_mu_=0.0183, self.latent_error_sigma_=0.0080; alpha = 1.0000\n",
      "Current experiment parameters: ('12_fault', 0.0, 1), model: Customized, metrics: {'aucroc': 0.6382110652010083, 'aucpr': 0.4512358818838699}, fitting time: 375.840708732605, inference time: 0.0029916763305664062\n"
     ]
    },
    {
     "name": "stderr",
     "output_type": "stream",
     "text": [
      "817it [8:06:28, 31.16s/it]"
     ]
    },
    {
     "name": "stdout",
     "output_type": "stream",
     "text": [
      "\n",
      "Model performance:\n",
      "Reconstruction AUCROC=0.6574; AUCPR=0.4577\n",
      "Deviation AUCROC=0.5999; AUCPR=0.4443\n",
      "Max(rec, dev) AUCROC=0.6615; AUCPR=0.4588\n",
      "\n",
      "Sum of squared error AUCROC=0.6586; AUCPR=0.4580\n",
      "\n",
      "Transformer selector AUCROC=0.4191; AUCPR=0.2827\n",
      "\n",
      "{'Samples': 1941, 'Features': 27, 'Anomalies': 673, 'Anomalies Ratio(%)': 34.67}\n",
      "epoch : 1/5000, loss = 12.869041\n",
      "epoch : 1000/5000, loss = 0.659425\n",
      "epoch : 2000/5000, loss = 0.257036\n",
      "epoch : 3000/5000, loss = 0.125101\n",
      "epoch : 4000/5000, loss = 0.107004\n",
      "epoch : 5000/5000, loss = 0.076208\n",
      "self.error_median=0.0188, self.error_range=0.0186, self.latent_error_median_=0.0116, self.latent_error_range_=0.0068\n",
      "Model result scaling scheme:  True\n",
      "Latent dim= 16. Weight Decay = 0.000001\n",
      "Using cuda\n",
      "self.error_mu=0.0267, self.error_std=0.0459, self.latent_error_mu_=0.0128, self.latent_error_sigma_=0.0071; alpha = 1.0000\n",
      "Current experiment parameters: ('12_fault', 0.0, 2), model: Customized, metrics: {'aucroc': 0.6302720823263428, 'aucpr': 0.44292849017458913}, fitting time: 374.2841761112213, inference time: 0.0020051002502441406\n"
     ]
    },
    {
     "name": "stderr",
     "output_type": "stream",
     "text": [
      "818it [8:12:42, 42.71s/it]"
     ]
    },
    {
     "name": "stdout",
     "output_type": "stream",
     "text": [
      "\n",
      "Model performance:\n",
      "Reconstruction AUCROC=0.6432; AUCPR=0.4444\n",
      "Deviation AUCROC=0.5776; AUCPR=0.4285\n",
      "Max(rec, dev) AUCROC=0.6448; AUCPR=0.4451\n",
      "\n",
      "Sum of squared error AUCROC=0.6439; AUCPR=0.4454\n",
      "\n",
      "Transformer selector AUCROC=0.5214; AUCPR=0.3540\n",
      "\n",
      "{'Samples': 1941, 'Features': 27, 'Anomalies': 673, 'Anomalies Ratio(%)': 34.67}\n",
      "epoch : 1/5000, loss = 13.294874\n",
      "epoch : 1000/5000, loss = 0.476482\n",
      "epoch : 2000/5000, loss = 0.740685\n",
      "epoch : 3000/5000, loss = 0.154147\n",
      "epoch : 4000/5000, loss = 0.110406\n",
      "epoch : 5000/5000, loss = 0.092400\n",
      "self.error_median=0.0187, self.error_range=0.0228, self.latent_error_median_=0.0135, self.latent_error_range_=0.0068\n",
      "Model result scaling scheme:  True\n",
      "Latent dim= 16. Weight Decay = 0.000001\n",
      "Using cuda\n",
      "self.error_mu=0.0287, self.error_std=0.0677, self.latent_error_mu_=0.0147, self.latent_error_sigma_=0.0092; alpha = 1.0000\n",
      "Current experiment parameters: ('12_fault', 0.0, 3), model: Customized, metrics: {'aucroc': 0.6804007172370781, 'aucpr': 0.5120416342794711}, fitting time: 373.7118582725525, inference time: 0.0019659996032714844\n"
     ]
    },
    {
     "name": "stderr",
     "output_type": "stream",
     "text": [
      "819it [8:18:56, 57.90s/it]"
     ]
    },
    {
     "name": "stdout",
     "output_type": "stream",
     "text": [
      "\n",
      "Model performance:\n",
      "Reconstruction AUCROC=0.6740; AUCPR=0.4900\n",
      "Deviation AUCROC=0.6504; AUCPR=0.5279\n",
      "Max(rec, dev) AUCROC=0.6786; AUCPR=0.4919\n",
      "\n",
      "Sum of squared error AUCROC=0.6806; AUCPR=0.4958\n",
      "\n",
      "Transformer selector AUCROC=0.6209; AUCPR=0.4582\n",
      "\n",
      "{'Samples': 1966, 'Features': 1555, 'Anomalies': 368, 'Anomalies Ratio(%)': 18.72}\n",
      "epoch : 1/5000, loss = 42.786427\n",
      "epoch : 1000/5000, loss = 31.580219\n",
      "epoch : 2000/5000, loss = 26.018805\n",
      "epoch : 3000/5000, loss = 5.193116\n",
      "epoch : 4000/5000, loss = 11.942864\n",
      "epoch : 5000/5000, loss = 11.023040\n",
      "self.error_median=10.5699, self.error_range=14.9311, self.latent_error_median_=0.1091, self.latent_error_range_=0.6558\n",
      "Model result scaling scheme:  True\n",
      "Latent dim= 16. Weight Decay = 0.000001\n",
      "Using cuda\n",
      "self.error_mu=12.5715, self.error_std=9.0169, self.latent_error_mu_=0.4026, self.latent_error_sigma_=0.6130; alpha = 1.0000\n"
     ]
    },
    {
     "name": "stderr",
     "output_type": "stream",
     "text": [
      "841it [8:39:50, 57.38s/it]"
     ]
    },
    {
     "name": "stdout",
     "output_type": "stream",
     "text": [
      "Current experiment parameters: ('17_InternetAds', 0.0, 1), model: Customized, metrics: {'aucroc': 0.5682386363636364, 'aucpr': 0.23701706927266464}, fitting time: 1254.1387314796448, inference time: 0.002963542938232422\n",
      "\n",
      "Model performance:\n",
      "Reconstruction AUCROC=0.4733; AUCPR=0.1721\n",
      "Deviation AUCROC=0.6354; AUCPR=0.3034\n",
      "Max(rec, dev) AUCROC=0.4733; AUCPR=0.1721\n",
      "\n",
      "Sum of squared error AUCROC=0.4739; AUCPR=0.1724\n",
      "\n",
      "Transformer selector AUCROC=0.6945; AUCPR=0.3177\n",
      "\n",
      "{'Samples': 1966, 'Features': 1555, 'Anomalies': 368, 'Anomalies Ratio(%)': 18.72}\n",
      "epoch : 1/5000, loss = 36.056728\n",
      "epoch : 1000/5000, loss = 11.074083\n",
      "epoch : 2000/5000, loss = 25.542122\n",
      "epoch : 3000/5000, loss = 5.156461\n",
      "epoch : 4000/5000, loss = 16.005579\n",
      "epoch : 5000/5000, loss = 16.301849\n",
      "self.error_median=9.9416, self.error_range=10.2212, self.latent_error_median_=0.0695, self.latent_error_range_=0.2244\n",
      "Model result scaling scheme:  True\n",
      "Latent dim= 16. Weight Decay = 0.000001\n",
      "Using cuda\n",
      "self.error_mu=16.0369, self.error_std=58.3102, self.latent_error_mu_=0.4318, self.latent_error_sigma_=2.5318; alpha = 1.0000\n"
     ]
    },
    {
     "name": "stderr",
     "output_type": "stream",
     "text": [
      "842it [9:00:52, 101.84s/it]"
     ]
    },
    {
     "name": "stdout",
     "output_type": "stream",
     "text": [
      "Current experiment parameters: ('17_InternetAds', 0.0, 2), model: Customized, metrics: {'aucroc': 0.7103598484848486, 'aucpr': 0.5712855641257681}, fitting time: 1261.274552822113, inference time: 0.003988981246948242\n",
      "\n",
      "Model performance:\n",
      "Reconstruction AUCROC=0.6812; AUCPR=0.4961\n",
      "Deviation AUCROC=0.6970; AUCPR=0.5549\n",
      "Max(rec, dev) AUCROC=0.6812; AUCPR=0.4961\n",
      "\n",
      "Sum of squared error AUCROC=0.6816; AUCPR=0.4971\n",
      "\n",
      "Transformer selector AUCROC=0.5468; AUCPR=0.3006\n",
      "\n",
      "{'Samples': 1966, 'Features': 1555, 'Anomalies': 368, 'Anomalies Ratio(%)': 18.72}\n",
      "epoch : 1/5000, loss = 54.532742\n",
      "epoch : 1000/5000, loss = 34.445801\n",
      "epoch : 2000/5000, loss = 12.170245\n",
      "epoch : 3000/5000, loss = 16.667080\n",
      "epoch : 4000/5000, loss = 5.579056\n",
      "epoch : 5000/5000, loss = 22.212315\n",
      "self.error_median=8.8622, self.error_range=8.3008, self.latent_error_median_=0.0443, self.latent_error_range_=0.2323\n",
      "Model result scaling scheme:  True\n",
      "Latent dim= 16. Weight Decay = 0.000001\n",
      "Using cuda\n",
      "self.error_mu=8.8391, self.error_std=4.4004, self.latent_error_mu_=0.1341, self.latent_error_sigma_=0.1946; alpha = 1.0000\n"
     ]
    },
    {
     "name": "stderr",
     "output_type": "stream",
     "text": [
      "843it [9:21:53, 159.89s/it]"
     ]
    },
    {
     "name": "stdout",
     "output_type": "stream",
     "text": [
      "Current experiment parameters: ('17_InternetAds', 0.0, 3), model: Customized, metrics: {'aucroc': 0.6982007575757576, 'aucpr': 0.549774870585613}, fitting time: 1260.3037555217743, inference time: 0.0029616355895996094\n",
      "\n",
      "Model performance:\n",
      "Reconstruction AUCROC=0.6206; AUCPR=0.3259\n",
      "Deviation AUCROC=0.6939; AUCPR=0.5251\n",
      "Max(rec, dev) AUCROC=0.6206; AUCPR=0.3259\n",
      "\n",
      "Sum of squared error AUCROC=0.6209; AUCPR=0.3261\n",
      "\n",
      "Transformer selector AUCROC=0.7302; AUCPR=0.6358\n",
      "\n",
      "{'Samples': 2114, 'Features': 21, 'Anomalies': 466, 'Anomalies Ratio(%)': 22.04}\n",
      "epoch : 1/5000, loss = 6.805053\n",
      "epoch : 1000/5000, loss = 0.178736\n",
      "epoch : 2000/5000, loss = 0.143153\n",
      "epoch : 3000/5000, loss = 0.116402\n",
      "epoch : 4000/5000, loss = -3.120566\n",
      "epoch : 5000/5000, loss = 0.108800\n",
      "self.error_median=0.0243, self.error_range=0.0532, self.latent_error_median_=0.0072, self.latent_error_range_=0.0080\n",
      "Model result scaling scheme:  True\n",
      "Latent dim= 16. Weight Decay = 0.000001\n",
      "Using cuda\n",
      "self.error_mu=0.0470, self.error_std=0.0818, self.latent_error_mu_=0.0107, self.latent_error_sigma_=0.0199; alpha = 1.0000\n",
      "Current experiment parameters: ('7_Cardiotocography', 0.0, 1), model: Customized, metrics: {'aucroc': 0.6277200577200578, 'aucpr': 0.45909023112182235}, fitting time: 379.0088241100311, inference time: 0.0019817352294921875\n"
     ]
    },
    {
     "name": "stderr",
     "output_type": "stream",
     "text": [
      "865it [9:28:12, 72.65s/it] "
     ]
    },
    {
     "name": "stdout",
     "output_type": "stream",
     "text": [
      "\n",
      "Model performance:\n",
      "Reconstruction AUCROC=0.5093; AUCPR=0.3598\n",
      "Deviation AUCROC=0.7011; AUCPR=0.5298\n",
      "Max(rec, dev) AUCROC=0.5330; AUCPR=0.3647\n",
      "\n",
      "Sum of squared error AUCROC=0.5373; AUCPR=0.3690\n",
      "\n",
      "Transformer selector AUCROC=0.3878; AUCPR=0.1994\n",
      "\n",
      "{'Samples': 2114, 'Features': 21, 'Anomalies': 466, 'Anomalies Ratio(%)': 22.04}\n",
      "epoch : 1/5000, loss = 7.329054\n",
      "epoch : 1000/5000, loss = 0.252556\n",
      "epoch : 2000/5000, loss = 0.158488\n",
      "epoch : 3000/5000, loss = 0.097012\n",
      "epoch : 4000/5000, loss = 0.107827\n",
      "epoch : 5000/5000, loss = 0.067720\n",
      "self.error_median=0.0110, self.error_range=0.0202, self.latent_error_median_=0.0061, self.latent_error_range_=0.0057\n",
      "Model result scaling scheme:  True\n",
      "Latent dim= 16. Weight Decay = 0.000001\n",
      "Using cuda\n",
      "self.error_mu=0.0204, self.error_std=0.0369, self.latent_error_mu_=0.0081, self.latent_error_sigma_=0.0087; alpha = 1.0000\n",
      "Current experiment parameters: ('7_Cardiotocography', 0.0, 2), model: Customized, metrics: {'aucroc': 0.6593290043290043, 'aucpr': 0.3563179767620131}, fitting time: 376.4897840023041, inference time: 0.002991914749145508\n"
     ]
    },
    {
     "name": "stderr",
     "output_type": "stream",
     "text": [
      "866it [9:34:29, 84.26s/it]"
     ]
    },
    {
     "name": "stdout",
     "output_type": "stream",
     "text": [
      "\n",
      "Model performance:\n",
      "Reconstruction AUCROC=0.5252; AUCPR=0.2945\n",
      "Deviation AUCROC=0.7367; AUCPR=0.4240\n",
      "Max(rec, dev) AUCROC=0.5806; AUCPR=0.3088\n",
      "\n",
      "Sum of squared error AUCROC=0.5901; AUCPR=0.3148\n",
      "\n",
      "Transformer selector AUCROC=0.5811; AUCPR=0.3308\n",
      "\n",
      "{'Samples': 2114, 'Features': 21, 'Anomalies': 466, 'Anomalies Ratio(%)': 22.04}\n",
      "epoch : 1/5000, loss = 6.663079\n",
      "epoch : 1000/5000, loss = 0.357711\n",
      "epoch : 2000/5000, loss = 0.105738\n",
      "epoch : 3000/5000, loss = 0.083206\n",
      "epoch : 4000/5000, loss = 0.064577\n",
      "epoch : 5000/5000, loss = 0.051421\n",
      "self.error_median=0.0088, self.error_range=0.0167, self.latent_error_median_=0.0050, self.latent_error_range_=0.0055\n",
      "Model result scaling scheme:  True\n",
      "Latent dim= 16. Weight Decay = 0.000001\n",
      "Using cuda\n",
      "self.error_mu=0.0182, self.error_std=0.0434, self.latent_error_mu_=0.0070, self.latent_error_sigma_=0.0072; alpha = 1.0000\n",
      "Current experiment parameters: ('7_Cardiotocography', 0.0, 3), model: Customized, metrics: {'aucroc': 0.5873015873015873, 'aucpr': 0.30363345684665854}, fitting time: 374.97983384132385, inference time: 0.0019948482513427734\n"
     ]
    },
    {
     "name": "stderr",
     "output_type": "stream",
     "text": [
      "867it [9:40:44, 99.32s/it]"
     ]
    },
    {
     "name": "stdout",
     "output_type": "stream",
     "text": [
      "\n",
      "Model performance:\n",
      "Reconstruction AUCROC=0.4661; AUCPR=0.2452\n",
      "Deviation AUCROC=0.6799; AUCPR=0.4221\n",
      "Max(rec, dev) AUCROC=0.5212; AUCPR=0.2582\n",
      "\n",
      "Sum of squared error AUCROC=0.5278; AUCPR=0.2643\n",
      "\n",
      "Transformer selector AUCROC=0.3920; AUCPR=0.2114\n",
      "\n",
      "{'Samples': 2497, 'Features': 768, 'Anomalies': 124, 'Anomalies Ratio(%)': 4.97}\n",
      "epoch : 1/5000, loss = 507.088745\n",
      "epoch : 1000/5000, loss = 13.458137\n",
      "epoch : 2000/5000, loss = 9.660945\n",
      "epoch : 3000/5000, loss = 6.796651\n",
      "epoch : 4000/5000, loss = 6.084223\n",
      "epoch : 5000/5000, loss = 5.861557\n",
      "self.error_median=2.3838, self.error_range=1.8090, self.latent_error_median_=0.0528, self.latent_error_range_=0.0637\n",
      "Model result scaling scheme:  True\n",
      "Latent dim= 16. Weight Decay = 0.000001\n",
      "Using cuda\n",
      "self.error_mu=2.7671, self.error_std=1.5847, self.latent_error_mu_=0.0777, self.latent_error_sigma_=0.0847; alpha = 1.0000\n"
     ]
    },
    {
     "name": "stderr",
     "output_type": "stream",
     "text": [
      "889it [9:49:30, 52.63s/it]"
     ]
    },
    {
     "name": "stdout",
     "output_type": "stream",
     "text": [
      "Current experiment parameters: ('20news_2', 0.0, 1), model: Customized, metrics: {'aucroc': 0.48999279784693534, 'aucpr': 0.05486448220587152}, fitting time: 525.940523147583, inference time: 0.0039899349212646484\n",
      "\n",
      "Model performance:\n",
      "Reconstruction AUCROC=0.5182; AUCPR=0.0583\n",
      "Deviation AUCROC=0.4759; AUCPR=0.0501\n",
      "Max(rec, dev) AUCROC=0.5182; AUCPR=0.0583\n",
      "\n",
      "Sum of squared error AUCROC=0.5180; AUCPR=0.0583\n",
      "\n",
      "Transformer selector AUCROC=0.4333; AUCPR=0.0428\n",
      "\n",
      "{'Samples': 2514, 'Features': 768, 'Anomalies': 125, 'Anomalies Ratio(%)': 4.97}\n",
      "epoch : 1/5000, loss = 521.864807\n",
      "epoch : 1000/5000, loss = 13.736629\n",
      "epoch : 2000/5000, loss = 9.602824\n",
      "epoch : 3000/5000, loss = 6.011745\n",
      "epoch : 4000/5000, loss = 6.008978\n",
      "epoch : 5000/5000, loss = 6.472979\n",
      "self.error_median=2.7953, self.error_range=2.0096, self.latent_error_median_=0.0751, self.latent_error_range_=0.0795\n",
      "Model result scaling scheme:  True\n",
      "Latent dim= 16. Weight Decay = 0.000001\n",
      "Using cuda\n",
      "self.error_mu=3.0936, self.error_std=1.6333, self.latent_error_mu_=0.1026, self.latent_error_sigma_=0.0995; alpha = 1.0000\n"
     ]
    },
    {
     "name": "stderr",
     "output_type": "stream",
     "text": [
      "913it [9:58:22, 37.67s/it]"
     ]
    },
    {
     "name": "stdout",
     "output_type": "stream",
     "text": [
      "Current experiment parameters: ('20news_1', 0.0, 1), model: Customized, metrics: {'aucroc': 0.5873522718931219, 'aucpr': 0.07189789829704615}, fitting time: 531.7967844009399, inference time: 0.0029914379119873047\n",
      "\n",
      "Model performance:\n",
      "Reconstruction AUCROC=0.6102; AUCPR=0.0827\n",
      "Deviation AUCROC=0.5466; AUCPR=0.0592\n",
      "Max(rec, dev) AUCROC=0.6102; AUCPR=0.0827\n",
      "\n",
      "Sum of squared error AUCROC=0.6103; AUCPR=0.0827\n",
      "\n",
      "Transformer selector AUCROC=0.5144; AUCPR=0.0582\n",
      "\n",
      "{'Samples': 3062, 'Features': 166, 'Anomalies': 97, 'Anomalies Ratio(%)': 3.17}\n",
      "epoch : 1/5000, loss = 78.536018\n",
      "epoch : 1000/5000, loss = 10.338921\n",
      "epoch : 2000/5000, loss = 6.626309\n",
      "epoch : 3000/5000, loss = 5.154195\n",
      "epoch : 4000/5000, loss = 3.886703\n",
      "epoch : 5000/5000, loss = 4.708079\n",
      "self.error_median=2.0106, self.error_range=1.1587, self.latent_error_median_=0.1348, self.latent_error_range_=0.1145\n",
      "Model result scaling scheme:  True\n",
      "Latent dim= 16. Weight Decay = 0.000001\n",
      "Using cuda\n",
      "self.error_mu=2.1624, self.error_std=0.7480, self.latent_error_mu_=0.1478, self.latent_error_sigma_=0.0630; alpha = 1.0000\n",
      "Current experiment parameters: ('25_musk', 0.0, 1), model: Customized, metrics: {'aucroc': 0.9643549012010848, 'aucpr': 0.5753601640221216}, fitting time: 348.60613918304443, inference time: 0.0019674301147460938\n"
     ]
    },
    {
     "name": "stderr",
     "output_type": "stream",
     "text": [
      "937it [10:04:11, 28.13s/it]"
     ]
    },
    {
     "name": "stdout",
     "output_type": "stream",
     "text": [
      "\n",
      "Model performance:\n",
      "Reconstruction AUCROC=0.9052; AUCPR=0.3473\n",
      "Deviation AUCROC=0.8500; AUCPR=0.1101\n",
      "Max(rec, dev) AUCROC=0.9052; AUCPR=0.3473\n",
      "\n",
      "Sum of squared error AUCROC=0.9061; AUCPR=0.3483\n",
      "\n",
      "Transformer selector AUCROC=0.2947; AUCPR=0.0218\n",
      "\n",
      "{'Samples': 3062, 'Features': 166, 'Anomalies': 97, 'Anomalies Ratio(%)': 3.17}\n",
      "epoch : 1/5000, loss = 98.646759\n",
      "epoch : 1000/5000, loss = 9.065999\n",
      "epoch : 2000/5000, loss = 6.091733\n",
      "epoch : 3000/5000, loss = 4.318589\n",
      "epoch : 4000/5000, loss = 3.602597\n",
      "epoch : 5000/5000, loss = 3.089044\n",
      "self.error_median=1.3652, self.error_range=0.6371, self.latent_error_median_=0.0749, self.latent_error_range_=0.0511\n",
      "Model result scaling scheme:  True\n",
      "Latent dim= 16. Weight Decay = 0.000001\n",
      "Using cuda\n",
      "self.error_mu=1.4475, self.error_std=0.4469, self.latent_error_mu_=0.0796, self.latent_error_sigma_=0.0294; alpha = 1.0000\n",
      "Current experiment parameters: ('25_musk', 0.0, 2), model: Customized, metrics: {'aucroc': 0.9681518791166215, 'aucpr': 0.6574144640299606}, fitting time: 349.6236979961395, inference time: 0.002965211868286133\n"
     ]
    },
    {
     "name": "stderr",
     "output_type": "stream",
     "text": [
      "938it [10:10:01, 35.84s/it]"
     ]
    },
    {
     "name": "stdout",
     "output_type": "stream",
     "text": [
      "\n",
      "Model performance:\n",
      "Reconstruction AUCROC=0.9111; AUCPR=0.4728\n",
      "Deviation AUCROC=0.9445; AUCPR=0.2619\n",
      "Max(rec, dev) AUCROC=0.9111; AUCPR=0.4728\n",
      "\n",
      "Sum of squared error AUCROC=0.9121; AUCPR=0.4734\n",
      "\n",
      "Transformer selector AUCROC=0.5087; AUCPR=0.0319\n",
      "\n",
      "{'Samples': 3062, 'Features': 166, 'Anomalies': 97, 'Anomalies Ratio(%)': 3.17}\n",
      "epoch : 1/5000, loss = 70.618942\n",
      "epoch : 1000/5000, loss = 6.960705\n",
      "epoch : 2000/5000, loss = 4.123362\n",
      "epoch : 3000/5000, loss = 3.242836\n",
      "epoch : 4000/5000, loss = 2.613467\n",
      "epoch : 5000/5000, loss = 2.546139\n",
      "self.error_median=1.0959, self.error_range=0.5138, self.latent_error_median_=0.0672, self.latent_error_range_=0.0390\n",
      "Model result scaling scheme:  True\n",
      "Latent dim= 16. Weight Decay = 0.000001\n",
      "Using cuda\n",
      "self.error_mu=1.1697, self.error_std=0.3780, self.latent_error_mu_=0.0701, self.latent_error_sigma_=0.0222; alpha = 1.0000\n",
      "Current experiment parameters: ('25_musk', 0.0, 3), model: Customized, metrics: {'aucroc': 0.9720263463773731, 'aucpr': 0.7146873041668212}, fitting time: 347.94105410575867, inference time: 0.0019905567169189453\n"
     ]
    },
    {
     "name": "stderr",
     "output_type": "stream",
     "text": [
      "939it [10:15:49, 46.18s/it]"
     ]
    },
    {
     "name": "stdout",
     "output_type": "stream",
     "text": [
      "\n",
      "Model performance:\n",
      "Reconstruction AUCROC=0.9752; AUCPR=0.6881\n",
      "Deviation AUCROC=0.7974; AUCPR=0.1002\n",
      "Max(rec, dev) AUCROC=0.9752; AUCPR=0.6881\n",
      "\n",
      "Sum of squared error AUCROC=0.9752; AUCPR=0.6881\n",
      "\n",
      "Transformer selector AUCROC=0.5751; AUCPR=0.0359\n",
      "\n",
      "{'Samples': 3090, 'Features': 768, 'Anomalies': 154, 'Anomalies Ratio(%)': 4.98}\n",
      "epoch : 1/5000, loss = 519.280701\n",
      "epoch : 1000/5000, loss = 14.669884\n",
      "epoch : 2000/5000, loss = 5.875629\n",
      "epoch : 3000/5000, loss = 5.108791\n",
      "epoch : 4000/5000, loss = 4.339498\n",
      "epoch : 5000/5000, loss = 3.729212\n",
      "self.error_median=1.6327, self.error_range=1.3524, self.latent_error_median_=0.0352, self.latent_error_range_=0.0471\n",
      "Model result scaling scheme:  True\n",
      "Latent dim= 16. Weight Decay = 0.000001\n",
      "Using cuda\n",
      "self.error_mu=1.9176, self.error_std=1.2763, self.latent_error_mu_=0.0522, self.latent_error_sigma_=0.0679; alpha = 1.0000\n"
     ]
    },
    {
     "name": "stderr",
     "output_type": "stream",
     "text": [
      "961it [10:25:24, 35.95s/it]"
     ]
    },
    {
     "name": "stdout",
     "output_type": "stream",
     "text": [
      "Current experiment parameters: ('20news_0', 0.0, 1), model: Customized, metrics: {'aucroc': 0.766026748260376, 'aucpr': 0.13402809757017864}, fitting time: 574.307196855545, inference time: 0.002991199493408203\n",
      "\n",
      "Model performance:\n",
      "Reconstruction AUCROC=0.7978; AUCPR=0.2025\n",
      "Deviation AUCROC=0.6065; AUCPR=0.0803\n",
      "Max(rec, dev) AUCROC=0.7978; AUCPR=0.2025\n",
      "\n",
      "Sum of squared error AUCROC=0.7977; AUCPR=0.2019\n",
      "\n",
      "Transformer selector AUCROC=0.3809; AUCPR=0.0382\n",
      "\n",
      "{'Samples': 3443, 'Features': 21, 'Anomalies': 100, 'Anomalies Ratio(%)': 2.9}\n",
      "epoch : 1/5000, loss = 11.546632\n",
      "epoch : 1000/5000, loss = 0.444326\n",
      "epoch : 2000/5000, loss = 0.270163\n",
      "epoch : 3000/5000, loss = 0.224716\n",
      "epoch : 4000/5000, loss = 0.174279\n",
      "epoch : 5000/5000, loss = 0.168151\n",
      "self.error_median=0.0695, self.error_range=0.0542, self.latent_error_median_=0.0075, self.latent_error_range_=0.0047\n",
      "Model result scaling scheme:  True\n",
      "Latent dim= 16. Weight Decay = 0.000001\n",
      "Using cuda\n",
      "self.error_mu=0.0752, self.error_std=0.0345, self.latent_error_mu_=0.0079, self.latent_error_sigma_=0.0028; alpha = 1.0000\n",
      "Current experiment parameters: ('41_Waveform', 0.0, 1), model: Customized, metrics: {'aucroc': 0.6329345297441011, 'aucpr': 0.05502839039010067}, fitting time: 356.552707195282, inference time: 0.0009975433349609375\n",
      "\n",
      "Model performance:\n",
      "Reconstruction AUCROC=0.6047; AUCPR=0.0439\n",
      "Deviation AUCROC=0.6134; AUCPR=0.0606\n",
      "Max(rec, dev) AUCROC=0.6047; AUCPR=0.0439\n",
      "\n",
      "Sum of squared error AUCROC=0.6055; AUCPR=0.0440\n",
      "\n"
     ]
    },
    {
     "name": "stderr",
     "output_type": "stream",
     "text": [
      "985it [10:31:21, 26.62s/it]"
     ]
    },
    {
     "name": "stdout",
     "output_type": "stream",
     "text": [
      "Transformer selector AUCROC=0.2733; AUCPR=0.0190\n",
      "\n",
      "{'Samples': 3443, 'Features': 21, 'Anomalies': 100, 'Anomalies Ratio(%)': 2.9}\n",
      "epoch : 1/5000, loss = 11.713376\n",
      "epoch : 1000/5000, loss = 0.377975\n",
      "epoch : 2000/5000, loss = 0.250734\n",
      "epoch : 3000/5000, loss = 0.180699\n",
      "epoch : 4000/5000, loss = 0.136419\n",
      "epoch : 5000/5000, loss = 0.116762\n",
      "self.error_median=0.0459, self.error_range=0.0463, self.latent_error_median_=0.0063, self.latent_error_range_=0.0039\n",
      "Model result scaling scheme:  True\n",
      "Latent dim= 16. Weight Decay = 0.000001\n",
      "Using cuda\n",
      "self.error_mu=0.0522, self.error_std=0.0300, self.latent_error_mu_=0.0066, self.latent_error_sigma_=0.0024; alpha = 1.0000\n",
      "Current experiment parameters: ('41_Waveform', 0.0, 2), model: Customized, metrics: {'aucroc': 0.6227650382186773, 'aucpr': 0.058734836032977175}, fitting time: 358.74846291542053, inference time: 0.001994609832763672\n",
      "\n",
      "Model performance:\n",
      "Reconstruction AUCROC=0.5534; AUCPR=0.0337\n",
      "Deviation AUCROC=0.6304; AUCPR=0.0820\n",
      "Max(rec, dev) AUCROC=0.5534; AUCPR=0.0337\n",
      "\n",
      "Sum of squared error AUCROC=0.5560; AUCPR=0.0339\n",
      "\n"
     ]
    },
    {
     "name": "stderr",
     "output_type": "stream",
     "text": [
      "986it [10:37:20, 35.15s/it]"
     ]
    },
    {
     "name": "stdout",
     "output_type": "stream",
     "text": [
      "Transformer selector AUCROC=0.7604; AUCPR=0.0786\n",
      "\n",
      "{'Samples': 3443, 'Features': 21, 'Anomalies': 100, 'Anomalies Ratio(%)': 2.9}\n",
      "epoch : 1/5000, loss = 11.477486\n",
      "epoch : 1000/5000, loss = 0.403068\n",
      "epoch : 2000/5000, loss = 0.249636\n",
      "epoch : 3000/5000, loss = 0.180373\n",
      "epoch : 4000/5000, loss = 0.282035\n",
      "epoch : 5000/5000, loss = 0.120152\n",
      "self.error_median=0.0460, self.error_range=0.0488, self.latent_error_median_=0.0070, self.latent_error_range_=0.0045\n",
      "Model result scaling scheme:  True\n",
      "Latent dim= 16. Weight Decay = 0.000001\n",
      "Using cuda\n",
      "self.error_mu=0.0528, self.error_std=0.0315, self.latent_error_mu_=0.0074, self.latent_error_sigma_=0.0028; alpha = 1.0000\n",
      "Current experiment parameters: ('41_Waveform', 0.0, 3), model: Customized, metrics: {'aucroc': 0.6067131937520771, 'aucpr': 0.05521493046216483}, fitting time: 356.057900428772, inference time: 0.0009975433349609375\n"
     ]
    },
    {
     "name": "stderr",
     "output_type": "stream",
     "text": [
      "987it [10:43:16, 46.51s/it]"
     ]
    },
    {
     "name": "stdout",
     "output_type": "stream",
     "text": [
      "\n",
      "Model performance:\n",
      "Reconstruction AUCROC=0.4910; AUCPR=0.0517\n",
      "Deviation AUCROC=0.6712; AUCPR=0.0485\n",
      "Max(rec, dev) AUCROC=0.4910; AUCPR=0.0517\n",
      "\n",
      "Sum of squared error AUCROC=0.4940; AUCPR=0.0520\n",
      "\n",
      "Transformer selector AUCROC=0.5286; AUCPR=0.0432\n",
      "\n",
      "{'Samples': 3686, 'Features': 400, 'Anomalies': 61, 'Anomalies Ratio(%)': 1.65}\n",
      "epoch : 1/5000, loss = 224.704117\n",
      "epoch : 1000/5000, loss = 14.806662\n",
      "epoch : 2000/5000, loss = 14.665936\n",
      "epoch : 3000/5000, loss = 14.122149\n",
      "epoch : 4000/5000, loss = 13.858721\n",
      "epoch : 5000/5000, loss = 13.519129\n",
      "self.error_median=6.7966, self.error_range=3.5680, self.latent_error_median_=0.0174, self.latent_error_range_=0.0142\n",
      "Model result scaling scheme:  True\n",
      "Latent dim= 16. Weight Decay = 0.000001\n",
      "Using cuda\n",
      "self.error_mu=6.7433, self.error_std=1.8377, self.latent_error_mu_=0.0193, self.latent_error_sigma_=0.0098; alpha = 1.0000\n"
     ]
    },
    {
     "name": "stderr",
     "output_type": "stream",
     "text": [
      "1009it [10:49:52, 31.49s/it]"
     ]
    },
    {
     "name": "stdout",
     "output_type": "stream",
     "text": [
      "Current experiment parameters: ('36_speech', 0.0, 1), model: Customized, metrics: {'aucroc': 0.4981107026143791, 'aucpr': 0.02168391585232543}, fitting time: 395.29710507392883, inference time: 0.0029921531677246094\n",
      "\n",
      "Model performance:\n",
      "Reconstruction AUCROC=0.4956; AUCPR=0.0194\n",
      "Deviation AUCROC=0.5158; AUCPR=0.0198\n",
      "Max(rec, dev) AUCROC=0.4956; AUCPR=0.0194\n",
      "\n",
      "Sum of squared error AUCROC=0.4956; AUCPR=0.0194\n",
      "\n",
      "Transformer selector AUCROC=0.4877; AUCPR=0.0162\n",
      "\n",
      "{'Samples': 3686, 'Features': 400, 'Anomalies': 61, 'Anomalies Ratio(%)': 1.65}\n",
      "epoch : 1/5000, loss = 223.287109\n",
      "epoch : 1000/5000, loss = 14.901042\n",
      "epoch : 2000/5000, loss = 14.420103\n",
      "epoch : 3000/5000, loss = 14.643810\n",
      "epoch : 4000/5000, loss = 14.149525\n",
      "epoch : 5000/5000, loss = 13.977804\n",
      "self.error_median=7.0716, self.error_range=3.7208, self.latent_error_median_=0.0250, self.latent_error_range_=0.0196\n",
      "Model result scaling scheme:  True\n",
      "Latent dim= 16. Weight Decay = 0.000001\n",
      "Using cuda\n",
      "self.error_mu=6.9718, self.error_std=1.9210, self.latent_error_mu_=0.0272, self.latent_error_sigma_=0.0125; alpha = 1.0000\n",
      "Current experiment parameters: ('36_speech', 0.0, 2), model: Customized, metrics: {'aucroc': 0.5410539215686274, 'aucpr': 0.019359959346348786}, fitting time: 398.2495319843292, inference time: 0.001965045928955078\n"
     ]
    },
    {
     "name": "stderr",
     "output_type": "stream",
     "text": [
      "1010it [10:56:30, 43.63s/it]"
     ]
    },
    {
     "name": "stdout",
     "output_type": "stream",
     "text": [
      "\n",
      "Model performance:\n",
      "Reconstruction AUCROC=0.5163; AUCPR=0.0215\n",
      "Deviation AUCROC=0.5452; AUCPR=0.0194\n",
      "Max(rec, dev) AUCROC=0.5163; AUCPR=0.0215\n",
      "\n",
      "Sum of squared error AUCROC=0.5163; AUCPR=0.0215\n",
      "\n",
      "Transformer selector AUCROC=0.4722; AUCPR=0.0239\n",
      "\n",
      "{'Samples': 3686, 'Features': 400, 'Anomalies': 61, 'Anomalies Ratio(%)': 1.65}\n",
      "epoch : 1/5000, loss = 218.724411\n",
      "epoch : 1000/5000, loss = 14.863419\n",
      "epoch : 2000/5000, loss = 14.737694\n",
      "epoch : 3000/5000, loss = 14.509529\n",
      "epoch : 4000/5000, loss = 14.088107\n",
      "epoch : 5000/5000, loss = 13.885502\n",
      "self.error_median=7.0350, self.error_range=3.7224, self.latent_error_median_=0.0219, self.latent_error_range_=0.0187\n",
      "Model result scaling scheme:  True\n",
      "Latent dim= 16. Weight Decay = 0.000001\n",
      "Using cuda\n",
      "self.error_mu=6.9406, self.error_std=1.9026, self.latent_error_mu_=0.0242, self.latent_error_sigma_=0.0120; alpha = 1.0000\n",
      "Current experiment parameters: ('36_speech', 0.0, 3), model: Customized, metrics: {'aucroc': 0.49545547385620914, 'aucpr': 0.017808394471538036}, fitting time: 397.6081175804138, inference time: 0.0019693374633789062\n"
     ]
    },
    {
     "name": "stderr",
     "output_type": "stream",
     "text": [
      "1011it [11:03:08, 59.61s/it]"
     ]
    },
    {
     "name": "stdout",
     "output_type": "stream",
     "text": [
      "\n",
      "Model performance:\n",
      "Reconstruction AUCROC=0.5067; AUCPR=0.0185\n",
      "Deviation AUCROC=0.4710; AUCPR=0.0167\n",
      "Max(rec, dev) AUCROC=0.5067; AUCPR=0.0185\n",
      "\n",
      "Sum of squared error AUCROC=0.5067; AUCPR=0.0185\n",
      "\n",
      "Transformer selector AUCROC=0.4227; AUCPR=0.0157\n",
      "\n",
      "{'Samples': 3772, 'Features': 6, 'Anomalies': 93, 'Anomalies Ratio(%)': 2.47}\n",
      "epoch : 1/5000, loss = 1.274142\n",
      "epoch : 1000/5000, loss = 0.008586\n",
      "epoch : 2000/5000, loss = 0.002704\n",
      "epoch : 3000/5000, loss = 0.002159\n",
      "epoch : 4000/5000, loss = 0.006077\n",
      "epoch : 5000/5000, loss = 0.001795\n",
      "self.error_median=0.0002, self.error_range=0.0002, self.latent_error_median_=0.0004, self.latent_error_range_=0.0007\n",
      "Model result scaling scheme:  True\n",
      "Latent dim= 6. Weight Decay = 0.000001\n",
      "Using cuda\n",
      "self.error_mu=0.0003, self.error_std=0.0009, self.latent_error_mu_=0.0006, self.latent_error_sigma_=0.0010; alpha = 1.0000\n",
      "Current experiment parameters: ('38_thyroid', 0.0, 1), model: Customized, metrics: {'aucroc': 0.9039531573498965, 'aucpr': 0.23750514592934066}, fitting time: 356.6522407531738, inference time: 0.001994609832763672\n"
     ]
    },
    {
     "name": "stderr",
     "output_type": "stream",
     "text": [
      "1033it [11:09:05, 34.17s/it]"
     ]
    },
    {
     "name": "stdout",
     "output_type": "stream",
     "text": [
      "\n",
      "Model performance:\n",
      "Reconstruction AUCROC=0.8460; AUCPR=0.2350\n",
      "Deviation AUCROC=0.8859; AUCPR=0.1363\n",
      "Max(rec, dev) AUCROC=0.8992; AUCPR=0.1622\n",
      "\n",
      "Sum of squared error AUCROC=0.9068; AUCPR=0.1774\n",
      "\n",
      "Transformer selector AUCROC=0.7775; AUCPR=0.4571\n",
      "\n",
      "{'Samples': 3772, 'Features': 6, 'Anomalies': 93, 'Anomalies Ratio(%)': 2.47}\n",
      "epoch : 1/5000, loss = 1.276320\n",
      "epoch : 1000/5000, loss = 0.005987\n",
      "epoch : 2000/5000, loss = 0.005825\n",
      "epoch : 3000/5000, loss = 0.001198\n",
      "epoch : 4000/5000, loss = 0.000937\n",
      "epoch : 5000/5000, loss = 0.000675\n",
      "self.error_median=0.0000, self.error_range=0.0000, self.latent_error_median_=0.0002, self.latent_error_range_=0.0003\n",
      "Model result scaling scheme:  True\n",
      "Latent dim= 6. Weight Decay = 0.000001\n",
      "Using cuda\n",
      "self.error_mu=0.0001, self.error_std=0.0007, self.latent_error_mu_=0.0003, self.latent_error_sigma_=0.0005; alpha = 1.0000\n",
      "Current experiment parameters: ('38_thyroid', 0.0, 2), model: Customized, metrics: {'aucroc': 0.9609860248447205, 'aucpr': 0.47331599862354146}, fitting time: 356.47130823135376, inference time: 0.000997304916381836\n"
     ]
    },
    {
     "name": "stderr",
     "output_type": "stream",
     "text": [
      "1034it [11:15:02, 46.00s/it]"
     ]
    },
    {
     "name": "stdout",
     "output_type": "stream",
     "text": [
      "\n",
      "Model performance:\n",
      "Reconstruction AUCROC=0.9565; AUCPR=0.4748\n",
      "Deviation AUCROC=0.9375; AUCPR=0.2903\n",
      "Max(rec, dev) AUCROC=0.9396; AUCPR=0.3286\n",
      "\n",
      "Sum of squared error AUCROC=0.9438; AUCPR=0.3357\n",
      "\n",
      "Transformer selector AUCROC=0.3180; AUCPR=0.0171\n",
      "\n",
      "{'Samples': 3772, 'Features': 6, 'Anomalies': 93, 'Anomalies Ratio(%)': 2.47}\n",
      "epoch : 1/5000, loss = 1.240778\n",
      "epoch : 1000/5000, loss = 0.007381\n",
      "epoch : 2000/5000, loss = 0.003514\n",
      "epoch : 3000/5000, loss = 0.002570\n",
      "epoch : 4000/5000, loss = 0.001370\n",
      "epoch : 5000/5000, loss = 0.000785\n",
      "self.error_median=0.0000, self.error_range=0.0000, self.latent_error_median_=0.0002, self.latent_error_range_=0.0004\n",
      "Model result scaling scheme:  True\n",
      "Latent dim= 6. Weight Decay = 0.000001\n",
      "Using cuda\n",
      "self.error_mu=0.0001, self.error_std=0.0006, self.latent_error_mu_=0.0003, self.latent_error_sigma_=0.0006; alpha = 1.0000\n",
      "Current experiment parameters: ('38_thyroid', 0.0, 3), model: Customized, metrics: {'aucroc': 0.9235571946169773, 'aucpr': 0.31527690857276414}, fitting time: 357.22166442871094, inference time: 0.0019948482513427734\n"
     ]
    },
    {
     "name": "stderr",
     "output_type": "stream",
     "text": [
      "1035it [11:20:59, 61.51s/it]"
     ]
    },
    {
     "name": "stdout",
     "output_type": "stream",
     "text": [
      "\n",
      "Model performance:\n",
      "Reconstruction AUCROC=0.8807; AUCPR=0.3118\n",
      "Deviation AUCROC=0.9235; AUCPR=0.2759\n",
      "Max(rec, dev) AUCROC=0.9235; AUCPR=0.2883\n",
      "\n",
      "Sum of squared error AUCROC=0.9295; AUCPR=0.2914\n",
      "\n",
      "Transformer selector AUCROC=0.4472; AUCPR=0.0410\n",
      "\n",
      "{'Samples': 4207, 'Features': 57, 'Anomalies': 1679, 'Anomalies Ratio(%)': 39.91}\n",
      "epoch : 1/5000, loss = 0.429618\n",
      "epoch : 1000/5000, loss = 0.524429\n",
      "epoch : 2000/5000, loss = 0.251829\n",
      "epoch : 3000/5000, loss = 0.267333\n",
      "epoch : 4000/5000, loss = 0.156153\n",
      "epoch : 5000/5000, loss = 0.312079\n",
      "self.error_median=0.0312, self.error_range=0.0662, self.latent_error_median_=0.0343, self.latent_error_range_=0.0469\n",
      "Model result scaling scheme:  True\n",
      "Latent dim= 16. Weight Decay = 0.000001\n",
      "Using cuda\n",
      "self.error_mu=0.0671, self.error_std=0.1237, self.latent_error_mu_=0.0514, self.latent_error_sigma_=0.0543; alpha = 1.0000\n",
      "Current experiment parameters: ('35_SpamBase', 0.0, 1), model: Customized, metrics: {'aucroc': 0.5289515235167409, 'aucpr': 0.3931408287951484}, fitting time: 352.33817076683044, inference time: 0.0019953250885009766\n"
     ]
    },
    {
     "name": "stderr",
     "output_type": "stream",
     "text": [
      "1057it [11:26:52, 33.76s/it]"
     ]
    },
    {
     "name": "stdout",
     "output_type": "stream",
     "text": [
      "\n",
      "Model performance:\n",
      "Reconstruction AUCROC=0.5029; AUCPR=0.3820\n",
      "Deviation AUCROC=0.5493; AUCPR=0.4036\n",
      "Max(rec, dev) AUCROC=0.5298; AUCPR=0.3928\n",
      "\n",
      "Sum of squared error AUCROC=0.5269; AUCPR=0.3919\n",
      "\n",
      "Transformer selector AUCROC=0.6715; AUCPR=0.5186\n",
      "\n",
      "{'Samples': 4207, 'Features': 57, 'Anomalies': 1679, 'Anomalies Ratio(%)': 39.91}\n",
      "epoch : 1/5000, loss = 0.525291\n",
      "epoch : 1000/5000, loss = 0.178263\n",
      "epoch : 2000/5000, loss = 0.150421\n",
      "epoch : 3000/5000, loss = 0.145877\n",
      "epoch : 4000/5000, loss = 0.175407\n",
      "epoch : 5000/5000, loss = 0.139463\n",
      "self.error_median=0.0236, self.error_range=0.0486, self.latent_error_median_=0.0016, self.latent_error_range_=0.0038\n",
      "Model result scaling scheme:  True\n",
      "Latent dim= 16. Weight Decay = 0.000001\n",
      "Using cuda\n",
      "self.error_mu=0.0509, self.error_std=0.0983, self.latent_error_mu_=0.0035, self.latent_error_sigma_=0.0060; alpha = 1.0000\n"
     ]
    },
    {
     "name": "stderr",
     "output_type": "stream",
     "text": [
      "1058it [11:32:42, 45.80s/it]"
     ]
    },
    {
     "name": "stdout",
     "output_type": "stream",
     "text": [
      "Current experiment parameters: ('35_SpamBase', 0.0, 2), model: Customized, metrics: {'aucroc': 0.5171042725390551, 'aucpr': 0.3969869855181569}, fitting time: 349.55362844467163, inference time: 0.0019943714141845703\n",
      "\n",
      "Model performance:\n",
      "Reconstruction AUCROC=0.5222; AUCPR=0.3996\n",
      "Deviation AUCROC=0.5219; AUCPR=0.4057\n",
      "Max(rec, dev) AUCROC=0.5195; AUCPR=0.3982\n",
      "\n",
      "Sum of squared error AUCROC=0.5187; AUCPR=0.3980\n",
      "\n",
      "Transformer selector AUCROC=0.6619; AUCPR=0.4983\n",
      "\n",
      "{'Samples': 4207, 'Features': 57, 'Anomalies': 1679, 'Anomalies Ratio(%)': 39.91}\n",
      "epoch : 1/5000, loss = 0.317022\n",
      "epoch : 1000/5000, loss = 0.200737\n",
      "epoch : 2000/5000, loss = 0.404866\n",
      "epoch : 3000/5000, loss = 0.127848\n",
      "epoch : 4000/5000, loss = 0.211416\n",
      "epoch : 5000/5000, loss = 0.164224\n",
      "self.error_median=0.0263, self.error_range=0.0534, self.latent_error_median_=0.0018, self.latent_error_range_=0.0041\n",
      "Model result scaling scheme:  True\n",
      "Latent dim= 16. Weight Decay = 0.000001\n",
      "Using cuda\n",
      "self.error_mu=0.0548, self.error_std=0.1055, self.latent_error_mu_=0.0038, self.latent_error_sigma_=0.0064; alpha = 1.0000\n",
      "Current experiment parameters: ('35_SpamBase', 0.0, 3), model: Customized, metrics: {'aucroc': 0.5536576949620429, 'aucpr': 0.42259313614253347}, fitting time: 353.5067708492279, inference time: 0.0019941329956054688\n"
     ]
    },
    {
     "name": "stderr",
     "output_type": "stream",
     "text": [
      "1059it [11:38:35, 61.70s/it]"
     ]
    },
    {
     "name": "stdout",
     "output_type": "stream",
     "text": [
      "\n",
      "Model performance:\n",
      "Reconstruction AUCROC=0.5274; AUCPR=0.4094\n",
      "Deviation AUCROC=0.5912; AUCPR=0.4430\n",
      "Max(rec, dev) AUCROC=0.5270; AUCPR=0.4092\n",
      "\n",
      "Sum of squared error AUCROC=0.5270; AUCPR=0.4093\n",
      "\n",
      "Transformer selector AUCROC=0.6270; AUCPR=0.4874\n",
      "\n",
      "{'Samples': 4819, 'Features': 5, 'Anomalies': 257, 'Anomalies Ratio(%)': 5.33}\n",
      "epoch : 1/5000, loss = 1.226841\n",
      "epoch : 1000/5000, loss = 0.003345\n",
      "epoch : 2000/5000, loss = 0.001256\n",
      "epoch : 3000/5000, loss = 0.001143\n",
      "epoch : 4000/5000, loss = 0.000791\n",
      "epoch : 5000/5000, loss = 0.000533\n",
      "self.error_median=0.0000, self.error_range=0.0000, self.latent_error_median_=0.0001, self.latent_error_range_=0.0002\n",
      "Model result scaling scheme:  True\n",
      "Latent dim= 5. Weight Decay = 0.000001\n",
      "Using cuda\n",
      "self.error_mu=0.0001, self.error_std=0.0002, self.latent_error_mu_=0.0002, self.latent_error_sigma_=0.0005; alpha = 1.0000\n",
      "Current experiment parameters: ('44_Wilt', 0.0, 1), model: Customized, metrics: {'aucroc': 0.8581579122119662, 'aucpr': 0.1822278238018456}, fitting time: 350.40618872642517, inference time: 0.0029993057250976562\n"
     ]
    },
    {
     "name": "stderr",
     "output_type": "stream",
     "text": [
      "1081it [11:44:26, 33.39s/it]"
     ]
    },
    {
     "name": "stdout",
     "output_type": "stream",
     "text": [
      "\n",
      "Model performance:\n",
      "Reconstruction AUCROC=0.9211; AUCPR=0.2663\n",
      "Deviation AUCROC=0.2697; AUCPR=0.0337\n",
      "Max(rec, dev) AUCROC=0.5718; AUCPR=0.0564\n",
      "\n",
      "Sum of squared error AUCROC=0.5880; AUCPR=0.0589\n",
      "\n",
      "Transformer selector AUCROC=0.6090; AUCPR=0.0643\n",
      "\n",
      "{'Samples': 4819, 'Features': 5, 'Anomalies': 257, 'Anomalies Ratio(%)': 5.33}\n",
      "epoch : 1/5000, loss = 1.276331\n",
      "epoch : 1000/5000, loss = 0.003162\n",
      "epoch : 2000/5000, loss = 0.002282\n",
      "epoch : 3000/5000, loss = 0.001338\n",
      "epoch : 4000/5000, loss = 0.000991\n",
      "epoch : 5000/5000, loss = 0.000681\n",
      "self.error_median=0.0001, self.error_range=0.0001, self.latent_error_median_=0.0001, self.latent_error_range_=0.0002\n",
      "Model result scaling scheme:  True\n",
      "Latent dim= 5. Weight Decay = 0.000001\n",
      "Using cuda\n",
      "self.error_mu=0.0001, self.error_std=0.0002, self.latent_error_mu_=0.0002, self.latent_error_sigma_=0.0004; alpha = 1.0000\n",
      "Current experiment parameters: ('44_Wilt', 0.0, 2), model: Customized, metrics: {'aucroc': 0.7705311489095272, 'aucpr': 0.1104440031967571}, fitting time: 351.0818567276001, inference time: 0.001973867416381836\n"
     ]
    },
    {
     "name": "stderr",
     "output_type": "stream",
     "text": [
      "1082it [11:50:17, 45.67s/it]"
     ]
    },
    {
     "name": "stdout",
     "output_type": "stream",
     "text": [
      "\n",
      "Model performance:\n",
      "Reconstruction AUCROC=0.8439; AUCPR=0.1770\n",
      "Deviation AUCROC=0.3172; AUCPR=0.0365\n",
      "Max(rec, dev) AUCROC=0.6292; AUCPR=0.0653\n",
      "\n",
      "Sum of squared error AUCROC=0.6114; AUCPR=0.0627\n",
      "\n",
      "Transformer selector AUCROC=0.6251; AUCPR=0.0719\n",
      "\n",
      "{'Samples': 4819, 'Features': 5, 'Anomalies': 257, 'Anomalies Ratio(%)': 5.33}\n",
      "epoch : 1/5000, loss = 1.213573\n",
      "epoch : 1000/5000, loss = 0.005712\n",
      "epoch : 2000/5000, loss = 0.002328\n",
      "epoch : 3000/5000, loss = 0.000976\n",
      "epoch : 4000/5000, loss = 0.000658\n",
      "epoch : 5000/5000, loss = 0.000500\n",
      "self.error_median=0.0000, self.error_range=0.0000, self.latent_error_median_=0.0001, self.latent_error_range_=0.0002\n",
      "Model result scaling scheme:  True\n",
      "Latent dim= 5. Weight Decay = 0.000001\n",
      "Using cuda\n",
      "self.error_mu=0.0000, self.error_std=0.0002, self.latent_error_mu_=0.0002, self.latent_error_sigma_=0.0004; alpha = 1.0000\n",
      "Current experiment parameters: ('44_Wilt', 0.0, 3), model: Customized, metrics: {'aucroc': 0.8676064622010566, 'aucpr': 0.18936243548445975}, fitting time: 351.8132200241089, inference time: 0.0019969940185546875\n"
     ]
    },
    {
     "name": "stderr",
     "output_type": "stream",
     "text": [
      "1083it [11:56:09, 61.69s/it]"
     ]
    },
    {
     "name": "stdout",
     "output_type": "stream",
     "text": [
      "\n",
      "Model performance:\n",
      "Reconstruction AUCROC=0.9190; AUCPR=0.2668\n",
      "Deviation AUCROC=0.2950; AUCPR=0.0349\n",
      "Max(rec, dev) AUCROC=0.4616; AUCPR=0.0454\n",
      "\n",
      "Sum of squared error AUCROC=0.4937; AUCPR=0.0482\n",
      "\n",
      "Transformer selector AUCROC=0.4680; AUCPR=0.0456\n",
      "\n",
      "{'Samples': 4904, 'Features': 512, 'Anomalies': 245, 'Anomalies Ratio(%)': 5.0}\n",
      "epoch : 1/5000, loss = 37.149769\n",
      "epoch : 1000/5000, loss = 4.716616\n",
      "epoch : 2000/5000, loss = 6.594246\n",
      "epoch : 3000/5000, loss = 5.211688\n",
      "epoch : 4000/5000, loss = 5.170599\n",
      "epoch : 5000/5000, loss = 4.538094\n",
      "self.error_median=1.6570, self.error_range=1.6028, self.latent_error_median_=0.0303, self.latent_error_range_=0.0257\n",
      "Model result scaling scheme:  True\n",
      "Latent dim= 16. Weight Decay = 0.000001\n",
      "Using cuda\n",
      "self.error_mu=2.0956, self.error_std=1.4788, self.latent_error_mu_=0.0371, self.latent_error_sigma_=0.0267; alpha = 1.0000\n"
     ]
    },
    {
     "name": "stderr",
     "output_type": "stream",
     "text": [
      "1105it [12:04:00, 36.64s/it]"
     ]
    },
    {
     "name": "stdout",
     "output_type": "stream",
     "text": [
      "Current experiment parameters: ('SVHN_9', 0.0, 1), model: Customized, metrics: {'aucroc': 0.5702644704790627, 'aucpr': 0.06892998669546824}, fitting time: 470.52270102500916, inference time: 0.0039899349212646484\n",
      "\n",
      "Model performance:\n",
      "Reconstruction AUCROC=0.5725; AUCPR=0.0703\n",
      "Deviation AUCROC=0.5699; AUCPR=0.0659\n",
      "Max(rec, dev) AUCROC=0.5725; AUCPR=0.0703\n",
      "\n",
      "Sum of squared error AUCROC=0.5725; AUCPR=0.0703\n",
      "\n",
      "Transformer selector AUCROC=0.4121; AUCPR=0.0444\n",
      "\n",
      "{'Samples': 5208, 'Features': 512, 'Anomalies': 260, 'Anomalies Ratio(%)': 4.99}\n",
      "epoch : 1/5000, loss = 35.159737\n",
      "epoch : 1000/5000, loss = 6.975938\n",
      "epoch : 2000/5000, loss = 4.875426\n",
      "epoch : 3000/5000, loss = 4.872748\n",
      "epoch : 4000/5000, loss = 4.998877\n",
      "epoch : 5000/5000, loss = 3.869176\n",
      "self.error_median=1.6963, self.error_range=1.5907, self.latent_error_median_=0.0296, self.latent_error_range_=0.0278\n",
      "Model result scaling scheme:  True\n",
      "Latent dim= 16. Weight Decay = 0.000001\n",
      "Using cuda\n",
      "self.error_mu=2.0981, self.error_std=1.4405, self.latent_error_mu_=0.0372, self.latent_error_sigma_=0.0290; alpha = 1.0000\n"
     ]
    },
    {
     "name": "stderr",
     "output_type": "stream",
     "text": [
      "1129it [12:12:02, 28.48s/it]"
     ]
    },
    {
     "name": "stdout",
     "output_type": "stream",
     "text": [
      "Current experiment parameters: ('SVHN_0', 0.0, 1), model: Customized, metrics: {'aucroc': 0.5907795907795907, 'aucpr': 0.06673177027778013}, fitting time: 481.03510665893555, inference time: 0.003960132598876953\n",
      "\n",
      "Model performance:\n",
      "Reconstruction AUCROC=0.6094; AUCPR=0.0724\n",
      "Deviation AUCROC=0.5619; AUCPR=0.0593\n",
      "Max(rec, dev) AUCROC=0.6094; AUCPR=0.0724\n",
      "\n",
      "Sum of squared error AUCROC=0.6094; AUCPR=0.0723\n",
      "\n",
      "Transformer selector AUCROC=0.3959; AUCPR=0.0387\n",
      "\n",
      "{'Samples': 5216, 'Features': 64, 'Anomalies': 150, 'Anomalies Ratio(%)': 2.88}\n",
      "epoch : 1/5000, loss = 31.901026\n",
      "epoch : 1000/5000, loss = 3.820298\n",
      "epoch : 2000/5000, loss = 2.856284\n",
      "epoch : 3000/5000, loss = 1.876646\n",
      "epoch : 4000/5000, loss = 1.624729\n",
      "epoch : 5000/5000, loss = 1.559809\n",
      "self.error_median=0.6531, self.error_range=0.4622, self.latent_error_median_=0.0413, self.latent_error_range_=0.0210\n",
      "Model result scaling scheme:  True\n",
      "Latent dim= 16. Weight Decay = 0.000001\n",
      "Using cuda\n",
      "self.error_mu=0.7134, self.error_std=0.3129, self.latent_error_mu_=0.0441, self.latent_error_sigma_=0.0140; alpha = 1.0000\n"
     ]
    },
    {
     "name": "stderr",
     "output_type": "stream",
     "text": [
      "1153it [12:17:51, 22.73s/it]"
     ]
    },
    {
     "name": "stdout",
     "output_type": "stream",
     "text": [
      "Current experiment parameters: ('26_optdigits', 0.0, 1), model: Customized, metrics: {'aucroc': 0.4780116959064327, 'aucpr': 0.026795646427779988}, fitting time: 349.13931918144226, inference time: 0.001993894577026367\n",
      "\n",
      "Model performance:\n",
      "Reconstruction AUCROC=0.5071; AUCPR=0.0302\n",
      "Deviation AUCROC=0.4711; AUCPR=0.0261\n",
      "Max(rec, dev) AUCROC=0.5071; AUCPR=0.0302\n",
      "\n",
      "Sum of squared error AUCROC=0.5069; AUCPR=0.0302\n",
      "\n",
      "Transformer selector AUCROC=0.8273; AUCPR=0.0859\n",
      "\n",
      "{'Samples': 5216, 'Features': 64, 'Anomalies': 150, 'Anomalies Ratio(%)': 2.88}\n",
      "epoch : 1/5000, loss = 34.124626\n",
      "epoch : 1000/5000, loss = 3.196445\n",
      "epoch : 2000/5000, loss = 2.245792\n",
      "epoch : 3000/5000, loss = 1.801341\n",
      "epoch : 4000/5000, loss = 1.557945\n",
      "epoch : 5000/5000, loss = 1.364171\n",
      "self.error_median=0.6049, self.error_range=0.4500, self.latent_error_median_=0.0375, self.latent_error_range_=0.0202\n",
      "Model result scaling scheme:  True\n",
      "Latent dim= 16. Weight Decay = 0.000001\n",
      "Using cuda\n",
      "self.error_mu=0.6614, self.error_std=0.3128, self.latent_error_mu_=0.0400, self.latent_error_sigma_=0.0138; alpha = 1.0000\n",
      "Current experiment parameters: ('26_optdigits', 0.0, 2), model: Customized, metrics: {'aucroc': 0.46600877192982454, 'aucpr': 0.026081590828588144}, fitting time: 351.51666951179504, inference time: 0.001994609832763672\n"
     ]
    },
    {
     "name": "stderr",
     "output_type": "stream",
     "text": [
      "1154it [12:23:43, 30.62s/it]"
     ]
    },
    {
     "name": "stdout",
     "output_type": "stream",
     "text": [
      "\n",
      "Model performance:\n",
      "Reconstruction AUCROC=0.4500; AUCPR=0.0256\n",
      "Deviation AUCROC=0.5124; AUCPR=0.0279\n",
      "Max(rec, dev) AUCROC=0.4500; AUCPR=0.0256\n",
      "\n",
      "Sum of squared error AUCROC=0.4500; AUCPR=0.0256\n",
      "\n",
      "Transformer selector AUCROC=0.5166; AUCPR=0.0273\n",
      "\n",
      "{'Samples': 5216, 'Features': 64, 'Anomalies': 150, 'Anomalies Ratio(%)': 2.88}\n",
      "epoch : 1/5000, loss = 31.613659\n",
      "epoch : 1000/5000, loss = 3.027826\n",
      "epoch : 2000/5000, loss = 2.004629\n",
      "epoch : 3000/5000, loss = 1.890522\n",
      "epoch : 4000/5000, loss = 1.710260\n",
      "epoch : 5000/5000, loss = 1.494821\n",
      "self.error_median=0.6478, self.error_range=0.4762, self.latent_error_median_=0.0365, self.latent_error_range_=0.0197\n",
      "Model result scaling scheme:  True\n",
      "Latent dim= 16. Weight Decay = 0.000001\n",
      "Using cuda\n",
      "self.error_mu=0.7134, self.error_std=0.3287, self.latent_error_mu_=0.0387, self.latent_error_sigma_=0.0130; alpha = 1.0000\n",
      "Current experiment parameters: ('26_optdigits', 0.0, 3), model: Customized, metrics: {'aucroc': 0.4763888888888889, 'aucpr': 0.026471521943666698}, fitting time: 351.2308053970337, inference time: 0.001995086669921875\n"
     ]
    },
    {
     "name": "stderr",
     "output_type": "stream",
     "text": [
      "1155it [12:29:34, 41.25s/it]"
     ]
    },
    {
     "name": "stdout",
     "output_type": "stream",
     "text": [
      "\n",
      "Model performance:\n",
      "Reconstruction AUCROC=0.3684; AUCPR=0.0220\n",
      "Deviation AUCROC=0.6265; AUCPR=0.0365\n",
      "Max(rec, dev) AUCROC=0.3684; AUCPR=0.0220\n",
      "\n",
      "Sum of squared error AUCROC=0.3685; AUCPR=0.0220\n",
      "\n",
      "Transformer selector AUCROC=0.4986; AUCPR=0.0313\n",
      "\n",
      "{'Samples': 5263, 'Features': 512, 'Anomalies': 263, 'Anomalies Ratio(%)': 5.0}\n",
      "epoch : 1/5000, loss = 31.621065\n",
      "epoch : 1000/5000, loss = 6.252419\n",
      "epoch : 2000/5000, loss = 6.524012\n",
      "epoch : 3000/5000, loss = 7.014345\n",
      "epoch : 4000/5000, loss = 6.524885\n",
      "epoch : 5000/5000, loss = 5.875278\n",
      "self.error_median=2.3060, self.error_range=1.9294, self.latent_error_median_=0.0267, self.latent_error_range_=0.0239\n",
      "Model result scaling scheme:  True\n",
      "Latent dim= 16. Weight Decay = 0.000001\n",
      "Using cuda\n",
      "self.error_mu=2.7292, self.error_std=1.5602, self.latent_error_mu_=0.0326, self.latent_error_sigma_=0.0229; alpha = 1.0000\n",
      "Current experiment parameters: ('CIFAR10_9', 0.0, 1), model: Customized, metrics: {'aucroc': 0.6919409282700423, 'aucpr': 0.12409417531302122}, fitting time: 480.18419432640076, inference time: 0.002991914749145508\n"
     ]
    },
    {
     "name": "stderr",
     "output_type": "stream",
     "text": [
      "1177it [12:37:35, 31.35s/it]"
     ]
    },
    {
     "name": "stdout",
     "output_type": "stream",
     "text": [
      "\n",
      "Model performance:\n",
      "Reconstruction AUCROC=0.6979; AUCPR=0.1226\n",
      "Deviation AUCROC=0.6644; AUCPR=0.1185\n",
      "Max(rec, dev) AUCROC=0.6979; AUCPR=0.1226\n",
      "\n",
      "Sum of squared error AUCROC=0.6979; AUCPR=0.1226\n",
      "\n",
      "Transformer selector AUCROC=0.4401; AUCPR=0.0821\n",
      "\n",
      "{'Samples': 5263, 'Features': 512, 'Anomalies': 263, 'Anomalies Ratio(%)': 5.0}\n",
      "epoch : 1/5000, loss = 31.605843\n",
      "epoch : 1000/5000, loss = 6.307947\n",
      "epoch : 2000/5000, loss = 8.668930\n",
      "epoch : 3000/5000, loss = 7.445912\n",
      "epoch : 4000/5000, loss = 7.131636\n",
      "epoch : 5000/5000, loss = 6.770672\n",
      "self.error_median=2.2395, self.error_range=2.0920, self.latent_error_median_=0.0269, self.latent_error_range_=0.0246\n",
      "Model result scaling scheme:  True\n",
      "Latent dim= 16. Weight Decay = 0.000001\n",
      "Using cuda\n",
      "self.error_mu=2.7197, self.error_std=1.6783, self.latent_error_mu_=0.0329, self.latent_error_sigma_=0.0224; alpha = 1.0000\n"
     ]
    },
    {
     "name": "stderr",
     "output_type": "stream",
     "text": [
      "1201it [12:45:39, 26.40s/it]"
     ]
    },
    {
     "name": "stdout",
     "output_type": "stream",
     "text": [
      "Current experiment parameters: ('CIFAR10_8', 0.0, 1), model: Customized, metrics: {'aucroc': 0.7283797468354429, 'aucpr': 0.13007314861236108}, fitting time: 483.6894271373749, inference time: 0.00395965576171875\n",
      "\n",
      "Model performance:\n",
      "Reconstruction AUCROC=0.7532; AUCPR=0.1434\n",
      "Deviation AUCROC=0.6658; AUCPR=0.1000\n",
      "Max(rec, dev) AUCROC=0.7532; AUCPR=0.1434\n",
      "\n",
      "Sum of squared error AUCROC=0.7532; AUCPR=0.1434\n",
      "\n",
      "Transformer selector AUCROC=0.6219; AUCPR=0.0906\n",
      "\n",
      "{'Samples': 5263, 'Features': 512, 'Anomalies': 263, 'Anomalies Ratio(%)': 5.0}\n",
      "epoch : 1/5000, loss = 31.485506\n",
      "epoch : 1000/5000, loss = 7.688932\n",
      "epoch : 2000/5000, loss = 8.016952\n",
      "epoch : 3000/5000, loss = 7.565158\n",
      "epoch : 4000/5000, loss = 4.253520\n",
      "epoch : 5000/5000, loss = 6.941917\n",
      "self.error_median=2.3944, self.error_range=1.8375, self.latent_error_median_=0.0229, self.latent_error_range_=0.0204\n",
      "Model result scaling scheme:  True\n",
      "Latent dim= 16. Weight Decay = 0.000001\n",
      "Using cuda\n",
      "self.error_mu=2.8031, self.error_std=1.5140, self.latent_error_mu_=0.0287, self.latent_error_sigma_=0.0244; alpha = 1.0000\n"
     ]
    },
    {
     "name": "stderr",
     "output_type": "stream",
     "text": [
      "1225it [12:53:42, 23.96s/it]"
     ]
    },
    {
     "name": "stdout",
     "output_type": "stream",
     "text": [
      "Current experiment parameters: ('CIFAR10_7', 0.0, 1), model: Customized, metrics: {'aucroc': 0.567831223628692, 'aucpr': 0.09002993865499069}, fitting time: 482.37291741371155, inference time: 0.002981424331665039\n",
      "\n",
      "Model performance:\n",
      "Reconstruction AUCROC=0.5813; AUCPR=0.0968\n",
      "Deviation AUCROC=0.5518; AUCPR=0.0680\n",
      "Max(rec, dev) AUCROC=0.5813; AUCPR=0.0968\n",
      "\n",
      "Sum of squared error AUCROC=0.5813; AUCPR=0.0968\n",
      "\n",
      "Transformer selector AUCROC=0.4832; AUCPR=0.0695\n",
      "\n",
      "{'Samples': 5263, 'Features': 512, 'Anomalies': 263, 'Anomalies Ratio(%)': 5.0}\n",
      "epoch : 1/5000, loss = 30.392660\n",
      "epoch : 1000/5000, loss = 8.737546\n",
      "epoch : 2000/5000, loss = 7.179936\n",
      "epoch : 3000/5000, loss = 4.600390\n",
      "epoch : 4000/5000, loss = 6.572983\n",
      "epoch : 5000/5000, loss = 5.863626\n",
      "self.error_median=2.0285, self.error_range=2.3077, self.latent_error_median_=0.0240, self.latent_error_range_=0.0241\n",
      "Model result scaling scheme:  True\n",
      "Latent dim= 16. Weight Decay = 0.000001\n",
      "Using cuda\n",
      "self.error_mu=2.5498, self.error_std=1.7464, self.latent_error_mu_=0.0303, self.latent_error_sigma_=0.0235; alpha = 1.0000\n"
     ]
    },
    {
     "name": "stderr",
     "output_type": "stream",
     "text": [
      "1249it [13:01:45, 22.61s/it]"
     ]
    },
    {
     "name": "stdout",
     "output_type": "stream",
     "text": [
      "Current experiment parameters: ('CIFAR10_6', 0.0, 1), model: Customized, metrics: {'aucroc': 0.6930632911392406, 'aucpr': 0.1244487378974167}, fitting time: 483.59010076522827, inference time: 0.003989219665527344\n",
      "\n",
      "Model performance:\n",
      "Reconstruction AUCROC=0.7048; AUCPR=0.1354\n",
      "Deviation AUCROC=0.6536; AUCPR=0.0990\n",
      "Max(rec, dev) AUCROC=0.7048; AUCPR=0.1354\n",
      "\n",
      "Sum of squared error AUCROC=0.7048; AUCPR=0.1354\n",
      "\n",
      "Transformer selector AUCROC=0.5239; AUCPR=0.0651\n",
      "\n",
      "{'Samples': 5263, 'Features': 512, 'Anomalies': 263, 'Anomalies Ratio(%)': 5.0}\n",
      "epoch : 1/5000, loss = 31.520302\n",
      "epoch : 1000/5000, loss = 9.656282\n",
      "epoch : 2000/5000, loss = 7.797519\n",
      "epoch : 3000/5000, loss = 5.496181\n",
      "epoch : 4000/5000, loss = -127.898262\n",
      "epoch : 5000/5000, loss = 7.223721\n",
      "self.error_median=2.5263, self.error_range=2.2720, self.latent_error_median_=0.0349, self.latent_error_range_=0.0307\n",
      "Model result scaling scheme:  True\n",
      "Latent dim= 16. Weight Decay = 0.000001\n",
      "Using cuda\n",
      "self.error_mu=3.0317, self.error_std=1.7932, self.latent_error_mu_=0.0424, self.latent_error_sigma_=0.0273; alpha = 1.0000\n"
     ]
    },
    {
     "name": "stderr",
     "output_type": "stream",
     "text": [
      "1273it [13:09:53, 21.84s/it]"
     ]
    },
    {
     "name": "stdout",
     "output_type": "stream",
     "text": [
      "Current experiment parameters: ('CIFAR10_3', 0.0, 1), model: Customized, metrics: {'aucroc': 0.597451476793249, 'aucpr': 0.08776045658289043}, fitting time: 487.56259322166443, inference time: 0.002965211868286133\n",
      "\n",
      "Model performance:\n",
      "Reconstruction AUCROC=0.6005; AUCPR=0.1040\n",
      "Deviation AUCROC=0.5833; AUCPR=0.0699\n",
      "Max(rec, dev) AUCROC=0.6005; AUCPR=0.1040\n",
      "\n",
      "Sum of squared error AUCROC=0.6005; AUCPR=0.1040\n",
      "\n",
      "Transformer selector AUCROC=0.4773; AUCPR=0.0613\n",
      "\n",
      "{'Samples': 5263, 'Features': 512, 'Anomalies': 263, 'Anomalies Ratio(%)': 5.0}\n",
      "epoch : 1/5000, loss = 28.120113\n",
      "epoch : 1000/5000, loss = 7.203737\n",
      "epoch : 2000/5000, loss = 6.212058\n",
      "epoch : 3000/5000, loss = 5.951288\n",
      "epoch : 4000/5000, loss = 6.375188\n",
      "epoch : 5000/5000, loss = 4.813603\n",
      "self.error_median=1.8872, self.error_range=1.8376, self.latent_error_median_=0.0169, self.latent_error_range_=0.0167\n",
      "Model result scaling scheme:  True\n",
      "Latent dim= 16. Weight Decay = 0.000001\n",
      "Using cuda\n",
      "self.error_mu=2.3288, self.error_std=1.4887, self.latent_error_mu_=0.0219, self.latent_error_sigma_=0.0188; alpha = 1.0000\n"
     ]
    },
    {
     "name": "stderr",
     "output_type": "stream",
     "text": [
      "1297it [13:18:11, 21.49s/it]"
     ]
    },
    {
     "name": "stdout",
     "output_type": "stream",
     "text": [
      "Current experiment parameters: ('CIFAR10_4', 0.0, 1), model: Customized, metrics: {'aucroc': 0.7523459915611814, 'aucpr': 0.18874276160984887}, fitting time: 497.7951817512512, inference time: 0.002963542938232422\n",
      "\n",
      "Model performance:\n",
      "Reconstruction AUCROC=0.7663; AUCPR=0.2095\n",
      "Deviation AUCROC=0.7182; AUCPR=0.1476\n",
      "Max(rec, dev) AUCROC=0.7663; AUCPR=0.2095\n",
      "\n",
      "Sum of squared error AUCROC=0.7663; AUCPR=0.2095\n",
      "\n",
      "Transformer selector AUCROC=0.5190; AUCPR=0.0956\n",
      "\n",
      "{'Samples': 5263, 'Features': 512, 'Anomalies': 263, 'Anomalies Ratio(%)': 5.0}\n",
      "epoch : 1/5000, loss = 29.540247\n",
      "epoch : 1000/5000, loss = 9.463246\n",
      "epoch : 2000/5000, loss = 5.936976\n",
      "epoch : 3000/5000, loss = 6.565292\n",
      "epoch : 4000/5000, loss = 6.042270\n",
      "epoch : 5000/5000, loss = 6.597404\n",
      "self.error_median=2.2967, self.error_range=1.9859, self.latent_error_median_=0.0202, self.latent_error_range_=0.0177\n",
      "Model result scaling scheme:  True\n",
      "Latent dim= 16. Weight Decay = 0.000001\n",
      "Using cuda\n",
      "self.error_mu=2.7003, self.error_std=1.5137, self.latent_error_mu_=0.0250, self.latent_error_sigma_=0.0203; alpha = 1.0000\n"
     ]
    },
    {
     "name": "stderr",
     "output_type": "stream",
     "text": [
      "1321it [13:26:31, 21.27s/it]"
     ]
    },
    {
     "name": "stdout",
     "output_type": "stream",
     "text": [
      "Current experiment parameters: ('CIFAR10_2', 0.0, 1), model: Customized, metrics: {'aucroc': 0.6120168776371308, 'aucpr': 0.07579425011971219}, fitting time: 499.274160861969, inference time: 0.0029914379119873047\n",
      "\n",
      "Model performance:\n",
      "Reconstruction AUCROC=0.6178; AUCPR=0.0806\n",
      "Deviation AUCROC=0.5851; AUCPR=0.0732\n",
      "Max(rec, dev) AUCROC=0.6178; AUCPR=0.0806\n",
      "\n",
      "Sum of squared error AUCROC=0.6178; AUCPR=0.0806\n",
      "\n",
      "Transformer selector AUCROC=0.5271; AUCPR=0.0572\n",
      "\n",
      "{'Samples': 5263, 'Features': 512, 'Anomalies': 263, 'Anomalies Ratio(%)': 5.0}\n",
      "epoch : 1/5000, loss = 33.603767\n",
      "epoch : 1000/5000, loss = 9.477006\n",
      "epoch : 2000/5000, loss = 7.187592\n",
      "epoch : 3000/5000, loss = 5.693916\n",
      "epoch : 4000/5000, loss = 6.628348\n",
      "epoch : 5000/5000, loss = 4.921511\n",
      "self.error_median=2.4533, self.error_range=2.1407, self.latent_error_median_=0.0233, self.latent_error_range_=0.0229\n",
      "Model result scaling scheme:  True\n",
      "Latent dim= 16. Weight Decay = 0.000001\n",
      "Using cuda\n",
      "self.error_mu=2.9093, self.error_std=1.6767, self.latent_error_mu_=0.0288, self.latent_error_sigma_=0.0197; alpha = 1.0000\n"
     ]
    },
    {
     "name": "stderr",
     "output_type": "stream",
     "text": [
      "1345it [13:34:48, 21.10s/it]"
     ]
    },
    {
     "name": "stdout",
     "output_type": "stream",
     "text": [
      "Current experiment parameters: ('CIFAR10_1', 0.0, 1), model: Customized, metrics: {'aucroc': 0.6111561181434598, 'aucpr': 0.0829615609727414}, fitting time: 496.6352849006653, inference time: 0.003956317901611328\n",
      "\n",
      "Model performance:\n",
      "Reconstruction AUCROC=0.6559; AUCPR=0.0908\n",
      "Deviation AUCROC=0.5356; AUCPR=0.0655\n",
      "Max(rec, dev) AUCROC=0.6559; AUCPR=0.0908\n",
      "\n",
      "Sum of squared error AUCROC=0.6559; AUCPR=0.0908\n",
      "\n",
      "Transformer selector AUCROC=0.4013; AUCPR=0.0386\n",
      "\n",
      "{'Samples': 5263, 'Features': 512, 'Anomalies': 263, 'Anomalies Ratio(%)': 5.0}\n",
      "epoch : 1/5000, loss = 29.104389\n",
      "epoch : 1000/5000, loss = 5.981731\n",
      "epoch : 2000/5000, loss = 4.995026\n",
      "epoch : 3000/5000, loss = 5.294083\n",
      "epoch : 4000/5000, loss = 4.519141\n",
      "epoch : 5000/5000, loss = 7.038035\n",
      "self.error_median=2.1725, self.error_range=1.9713, self.latent_error_median_=0.0265, self.latent_error_range_=0.0251\n",
      "Model result scaling scheme:  True\n",
      "Latent dim= 16. Weight Decay = 0.000001\n",
      "Using cuda\n",
      "self.error_mu=2.6438, self.error_std=1.6537, self.latent_error_mu_=0.0324, self.latent_error_sigma_=0.0227; alpha = 1.0000\n"
     ]
    },
    {
     "name": "stderr",
     "output_type": "stream",
     "text": [
      "1369it [13:43:03, 20.95s/it]"
     ]
    },
    {
     "name": "stdout",
     "output_type": "stream",
     "text": [
      "Current experiment parameters: ('CIFAR10_0', 0.0, 1), model: Customized, metrics: {'aucroc': 0.7085147679324896, 'aucpr': 0.12067676396864101}, fitting time: 494.6983940601349, inference time: 0.003989458084106445\n",
      "\n",
      "Model performance:\n",
      "Reconstruction AUCROC=0.7204; AUCPR=0.1188\n",
      "Deviation AUCROC=0.6757; AUCPR=0.1138\n",
      "Max(rec, dev) AUCROC=0.7204; AUCPR=0.1188\n",
      "\n",
      "Sum of squared error AUCROC=0.7204; AUCPR=0.1188\n",
      "\n",
      "Transformer selector AUCROC=0.6746; AUCPR=0.1168\n",
      "\n",
      "{'Samples': 5263, 'Features': 512, 'Anomalies': 263, 'Anomalies Ratio(%)': 5.0}\n",
      "epoch : 1/5000, loss = 32.772766\n",
      "epoch : 1000/5000, loss = 6.972108\n",
      "epoch : 2000/5000, loss = 5.987855\n",
      "epoch : 3000/5000, loss = 5.468107\n",
      "epoch : 4000/5000, loss = 5.877145\n",
      "epoch : 5000/5000, loss = 6.628431\n",
      "self.error_median=2.6122, self.error_range=2.1390, self.latent_error_median_=0.0202, self.latent_error_range_=0.0199\n",
      "Model result scaling scheme:  True\n",
      "Latent dim= 16. Weight Decay = 0.000001\n",
      "Using cuda\n",
      "self.error_mu=3.0419, self.error_std=1.6323, self.latent_error_mu_=0.0253, self.latent_error_sigma_=0.0182; alpha = 1.0000\n"
     ]
    },
    {
     "name": "stderr",
     "output_type": "stream",
     "text": [
      "1393it [13:51:08, 20.72s/it]"
     ]
    },
    {
     "name": "stdout",
     "output_type": "stream",
     "text": [
      "Current experiment parameters: ('CIFAR10_5', 0.0, 1), model: Customized, metrics: {'aucroc': 0.5705400843881857, 'aucpr': 0.0941929637543653}, fitting time: 484.076256275177, inference time: 0.003960371017456055\n",
      "\n",
      "Model performance:\n",
      "Reconstruction AUCROC=0.5941; AUCPR=0.1108\n",
      "Deviation AUCROC=0.5323; AUCPR=0.0734\n",
      "Max(rec, dev) AUCROC=0.5941; AUCPR=0.1108\n",
      "\n",
      "Sum of squared error AUCROC=0.5941; AUCPR=0.1108\n",
      "\n",
      "Transformer selector AUCROC=0.3509; AUCPR=0.0524\n",
      "\n",
      "{'Samples': 5310, 'Features': 512, 'Anomalies': 265, 'Anomalies Ratio(%)': 4.99}\n",
      "epoch : 1/5000, loss = 37.196503\n",
      "epoch : 1000/5000, loss = 4.830892\n",
      "epoch : 2000/5000, loss = 5.516395\n",
      "epoch : 3000/5000, loss = 4.214846\n",
      "epoch : 4000/5000, loss = 4.953189\n",
      "epoch : 5000/5000, loss = 4.163223\n",
      "self.error_median=1.6536, self.error_range=1.3873, self.latent_error_median_=0.0308, self.latent_error_range_=0.0278\n",
      "Model result scaling scheme:  True\n",
      "Latent dim= 16. Weight Decay = 0.000001\n",
      "Using cuda\n",
      "self.error_mu=2.0457, self.error_std=1.4615, self.latent_error_mu_=0.0379, self.latent_error_sigma_=0.0288; alpha = 1.0000\n"
     ]
    },
    {
     "name": "stderr",
     "output_type": "stream",
     "text": [
      "1417it [13:59:13, 20.57s/it]"
     ]
    },
    {
     "name": "stdout",
     "output_type": "stream",
     "text": [
      "Current experiment parameters: ('SVHN_8', 0.0, 1), model: Customized, metrics: {'aucroc': 0.6338070059484467, 'aucpr': 0.10757908243004818}, fitting time: 485.16482639312744, inference time: 0.0029921531677246094\n",
      "\n",
      "Model performance:\n",
      "Reconstruction AUCROC=0.6418; AUCPR=0.1139\n",
      "Deviation AUCROC=0.6015; AUCPR=0.0943\n",
      "Max(rec, dev) AUCROC=0.6418; AUCPR=0.1139\n",
      "\n",
      "Sum of squared error AUCROC=0.6418; AUCPR=0.1140\n",
      "\n",
      "Transformer selector AUCROC=0.3428; AUCPR=0.0374\n",
      "\n",
      "{'Samples': 5393, 'Features': 10, 'Anomalies': 510, 'Anomalies Ratio(%)': 9.46}\n",
      "epoch : 1/5000, loss = 1.530999\n",
      "epoch : 1000/5000, loss = 0.010773\n",
      "epoch : 2000/5000, loss = 0.172236\n",
      "epoch : 3000/5000, loss = 0.007791\n",
      "epoch : 4000/5000, loss = 0.004684\n",
      "epoch : 5000/5000, loss = 0.209262\n",
      "self.error_median=0.0021, self.error_range=0.0049, self.latent_error_median_=0.0708, self.latent_error_range_=0.0526\n",
      "Model result scaling scheme:  True\n",
      "Latent dim= 10. Weight Decay = 0.000001\n",
      "Using cuda\n",
      "self.error_mu=0.0093, self.error_std=0.1542, self.latent_error_mu_=0.0795, self.latent_error_sigma_=0.0794; alpha = 1.0000\n",
      "Current experiment parameters: ('27_PageBlocks', 0.0, 1), model: Customized, metrics: {'aucroc': 0.7419862142809343, 'aucpr': 0.3782103466664034}, fitting time: 352.5686333179474, inference time: 0.0019948482513427734\n"
     ]
    },
    {
     "name": "stderr",
     "output_type": "stream",
     "text": [
      "1441it [14:05:06, 18.79s/it]"
     ]
    },
    {
     "name": "stdout",
     "output_type": "stream",
     "text": [
      "\n",
      "Model performance:\n",
      "Reconstruction AUCROC=0.8716; AUCPR=0.4063\n",
      "Deviation AUCROC=0.6204; AUCPR=0.3489\n",
      "Max(rec, dev) AUCROC=0.6250; AUCPR=0.3618\n",
      "\n",
      "Sum of squared error AUCROC=0.6299; AUCPR=0.3648\n",
      "\n",
      "Transformer selector AUCROC=0.6563; AUCPR=0.5097\n",
      "\n",
      "{'Samples': 5393, 'Features': 10, 'Anomalies': 510, 'Anomalies Ratio(%)': 9.46}\n",
      "epoch : 1/5000, loss = 1.924039\n",
      "epoch : 1000/5000, loss = 0.012938\n",
      "epoch : 2000/5000, loss = 0.006890\n",
      "epoch : 3000/5000, loss = 0.004268\n",
      "epoch : 4000/5000, loss = 0.002718\n",
      "epoch : 5000/5000, loss = 0.002414\n",
      "self.error_median=0.0005, self.error_range=0.0002, self.latent_error_median_=0.0002, self.latent_error_range_=0.0005\n",
      "Model result scaling scheme:  True\n",
      "Latent dim= 10. Weight Decay = 0.000001\n",
      "Using cuda\n",
      "self.error_mu=0.0007, self.error_std=0.0028, self.latent_error_mu_=0.0006, self.latent_error_sigma_=0.0028; alpha = 1.0000\n",
      "Current experiment parameters: ('27_PageBlocks', 0.0, 2), model: Customized, metrics: {'aucroc': 0.9203015904883001, 'aucpr': 0.5802142099384805}, fitting time: 354.11812925338745, inference time: 0.0009968280792236328\n"
     ]
    },
    {
     "name": "stderr",
     "output_type": "stream",
     "text": [
      "1442it [14:11:00, 24.73s/it]"
     ]
    },
    {
     "name": "stdout",
     "output_type": "stream",
     "text": [
      "\n",
      "Model performance:\n",
      "Reconstruction AUCROC=0.8353; AUCPR=0.4739\n",
      "Deviation AUCROC=0.9288; AUCPR=0.6036\n",
      "Max(rec, dev) AUCROC=0.9113; AUCPR=0.5871\n",
      "\n",
      "Sum of squared error AUCROC=0.9252; AUCPR=0.5914\n",
      "\n",
      "Transformer selector AUCROC=0.4173; AUCPR=0.1062\n",
      "\n",
      "{'Samples': 5393, 'Features': 10, 'Anomalies': 510, 'Anomalies Ratio(%)': 9.46}\n",
      "epoch : 1/5000, loss = 1.753356\n",
      "epoch : 1000/5000, loss = 0.015290\n",
      "epoch : 2000/5000, loss = 0.006871\n",
      "epoch : 3000/5000, loss = 0.004496\n",
      "epoch : 4000/5000, loss = 0.002946\n",
      "epoch : 5000/5000, loss = 0.002579\n",
      "self.error_median=0.0004, self.error_range=0.0003, self.latent_error_median_=0.0003, self.latent_error_range_=0.0006\n",
      "Model result scaling scheme:  True\n",
      "Latent dim= 10. Weight Decay = 0.000001\n",
      "Using cuda\n",
      "self.error_mu=0.0008, self.error_std=0.0087, self.latent_error_mu_=0.0006, self.latent_error_sigma_=0.0017; alpha = 1.0000\n",
      "Current experiment parameters: ('27_PageBlocks', 0.0, 3), model: Customized, metrics: {'aucroc': 0.8890316536170784, 'aucpr': 0.5252306033457522}, fitting time: 353.6218662261963, inference time: 0.0009968280792236328\n"
     ]
    },
    {
     "name": "stderr",
     "output_type": "stream",
     "text": [
      "1443it [14:16:54, 32.85s/it]"
     ]
    },
    {
     "name": "stdout",
     "output_type": "stream",
     "text": [
      "\n",
      "Model performance:\n",
      "Reconstruction AUCROC=0.7606; AUCPR=0.4193\n",
      "Deviation AUCROC=0.9155; AUCPR=0.6124\n",
      "Max(rec, dev) AUCROC=0.9080; AUCPR=0.5715\n",
      "\n",
      "Sum of squared error AUCROC=0.9102; AUCPR=0.5636\n",
      "\n",
      "Transformer selector AUCROC=0.3909; AUCPR=0.2708\n",
      "\n",
      "{'Samples': 5803, 'Features': 36, 'Anomalies': 71, 'Anomalies Ratio(%)': 1.22}\n",
      "epoch : 1/5000, loss = 19.876677\n",
      "epoch : 1000/5000, loss = 0.457258\n",
      "epoch : 2000/5000, loss = 0.183241\n",
      "epoch : 3000/5000, loss = 0.116183\n",
      "epoch : 4000/5000, loss = 0.104091\n",
      "epoch : 5000/5000, loss = 0.107039\n",
      "self.error_median=0.0403, self.error_range=0.0267, self.latent_error_median_=0.0049, self.latent_error_range_=0.0046\n",
      "Model result scaling scheme:  True\n",
      "Latent dim= 16. Weight Decay = 0.000001\n",
      "Using cuda\n",
      "self.error_mu=0.0474, self.error_std=0.0300, self.latent_error_mu_=0.0061, self.latent_error_sigma_=0.0053; alpha = 1.0000\n",
      "Current experiment parameters: ('31_satimage-2', 0.0, 1), model: Customized, metrics: {'aucroc': 0.9750000000000001, 'aucpr': 0.27139124635914025}, fitting time: 352.3065962791443, inference time: 0.0019681453704833984\n"
     ]
    },
    {
     "name": "stderr",
     "output_type": "stream",
     "text": [
      "1465it [14:22:47, 25.50s/it]"
     ]
    },
    {
     "name": "stdout",
     "output_type": "stream",
     "text": [
      "\n",
      "Model performance:\n",
      "Reconstruction AUCROC=0.8351; AUCPR=0.1268\n",
      "Deviation AUCROC=0.9866; AUCPR=0.4240\n",
      "Max(rec, dev) AUCROC=0.8351; AUCPR=0.1268\n",
      "\n",
      "Sum of squared error AUCROC=0.8729; AUCPR=0.1332\n",
      "\n",
      "Transformer selector AUCROC=0.9758; AUCPR=0.8354\n",
      "\n",
      "{'Samples': 5803, 'Features': 36, 'Anomalies': 71, 'Anomalies Ratio(%)': 1.22}\n",
      "epoch : 1/5000, loss = 24.631809\n",
      "epoch : 1000/5000, loss = 0.389931\n",
      "epoch : 2000/5000, loss = 0.204369\n",
      "epoch : 3000/5000, loss = 0.159143\n",
      "epoch : 4000/5000, loss = 0.135152\n",
      "epoch : 5000/5000, loss = 0.096473\n",
      "self.error_median=0.0289, self.error_range=0.0282, self.latent_error_median_=0.0069, self.latent_error_range_=0.0058\n",
      "Model result scaling scheme:  True\n",
      "Latent dim= 16. Weight Decay = 0.000001\n",
      "Using cuda\n",
      "self.error_mu=0.0422, self.error_std=0.0517, self.latent_error_mu_=0.0082, self.latent_error_sigma_=0.0071; alpha = 1.0000\n",
      "Current experiment parameters: ('31_satimage-2', 0.0, 2), model: Customized, metrics: {'aucroc': 0.9906699889258028, 'aucpr': 0.5238170045504225}, fitting time: 352.31232738494873, inference time: 0.001993894577026367\n"
     ]
    },
    {
     "name": "stderr",
     "output_type": "stream",
     "text": [
      "1466it [14:28:39, 34.52s/it]"
     ]
    },
    {
     "name": "stdout",
     "output_type": "stream",
     "text": [
      "\n",
      "Model performance:\n",
      "Reconstruction AUCROC=0.9301; AUCPR=0.2715\n",
      "Deviation AUCROC=0.9948; AUCPR=0.7684\n",
      "Max(rec, dev) AUCROC=0.9434; AUCPR=0.2759\n",
      "\n",
      "Sum of squared error AUCROC=0.9592; AUCPR=0.2935\n",
      "\n",
      "Transformer selector AUCROC=0.0544; AUCPR=0.0066\n",
      "\n",
      "{'Samples': 5803, 'Features': 36, 'Anomalies': 71, 'Anomalies Ratio(%)': 1.22}\n",
      "epoch : 1/5000, loss = 17.201122\n",
      "epoch : 1000/5000, loss = 0.604100\n",
      "epoch : 2000/5000, loss = 0.169540\n",
      "epoch : 3000/5000, loss = 0.157949\n",
      "epoch : 4000/5000, loss = 0.108016\n",
      "epoch : 5000/5000, loss = 0.087387\n",
      "self.error_median=0.0311, self.error_range=0.0224, self.latent_error_median_=0.0050, self.latent_error_range_=0.0044\n",
      "Model result scaling scheme:  True\n",
      "Latent dim= 16. Weight Decay = 0.000001\n",
      "Using cuda\n",
      "self.error_mu=0.0394, self.error_std=0.0324, self.latent_error_mu_=0.0061, self.latent_error_sigma_=0.0053; alpha = 1.0000\n",
      "Current experiment parameters: ('31_satimage-2', 0.0, 3), model: Customized, metrics: {'aucroc': 0.9913898117386489, 'aucpr': 0.5933858078808356}, fitting time: 349.0168409347534, inference time: 0.001994609832763672\n"
     ]
    },
    {
     "name": "stderr",
     "output_type": "stream",
     "text": [
      "1467it [14:34:28, 46.45s/it]"
     ]
    },
    {
     "name": "stdout",
     "output_type": "stream",
     "text": [
      "\n",
      "Model performance:\n",
      "Reconstruction AUCROC=0.9093; AUCPR=0.3623\n",
      "Deviation AUCROC=0.9980; AUCPR=0.8160\n",
      "Max(rec, dev) AUCROC=0.9121; AUCPR=0.3627\n",
      "\n",
      "Sum of squared error AUCROC=0.9422; AUCPR=0.3841\n",
      "\n",
      "Transformer selector AUCROC=0.0241; AUCPR=0.0064\n",
      "\n",
      "{'Samples': 5889, 'Features': 512, 'Anomalies': 294, 'Anomalies Ratio(%)': 4.99}\n",
      "epoch : 1/5000, loss = 28.767374\n",
      "epoch : 1000/5000, loss = 7.221596\n",
      "epoch : 2000/5000, loss = 6.291162\n",
      "epoch : 3000/5000, loss = 4.236729\n",
      "epoch : 4000/5000, loss = 4.907624\n",
      "epoch : 5000/5000, loss = 4.453738\n",
      "self.error_median=1.6047, self.error_range=1.6500, self.latent_error_median_=0.0242, self.latent_error_range_=0.0265\n",
      "Model result scaling scheme:  True\n",
      "Latent dim= 16. Weight Decay = 0.000001\n",
      "Using cuda\n",
      "self.error_mu=2.0298, self.error_std=1.5046, self.latent_error_mu_=0.0317, self.latent_error_sigma_=0.0273; alpha = 1.0000\n"
     ]
    },
    {
     "name": "stderr",
     "output_type": "stream",
     "text": [
      "1489it [14:43:14, 34.19s/it]"
     ]
    },
    {
     "name": "stdout",
     "output_type": "stream",
     "text": [
      "Current experiment parameters: ('SVHN_7', 0.0, 1), model: Customized, metrics: {'aucroc': 0.7167212626563431, 'aucpr': 0.12823217107847165}, fitting time: 525.3280327320099, inference time: 0.003961801528930664\n",
      "\n",
      "Model performance:\n",
      "Reconstruction AUCROC=0.7050; AUCPR=0.1136\n",
      "Deviation AUCROC=0.7177; AUCPR=0.1359\n",
      "Max(rec, dev) AUCROC=0.7050; AUCPR=0.1136\n",
      "\n",
      "Sum of squared error AUCROC=0.7050; AUCPR=0.1136\n",
      "\n",
      "Transformer selector AUCROC=0.6241; AUCPR=0.1029\n",
      "\n",
      "{'Samples': 6028, 'Features': 512, 'Anomalies': 301, 'Anomalies Ratio(%)': 4.99}\n",
      "epoch : 1/5000, loss = 35.181255\n",
      "epoch : 1000/5000, loss = 6.402728\n",
      "epoch : 2000/5000, loss = 6.127501\n",
      "epoch : 3000/5000, loss = 4.435557\n",
      "epoch : 4000/5000, loss = 3.776017\n",
      "epoch : 5000/5000, loss = 4.207115\n",
      "self.error_median=1.5812, self.error_range=1.4108, self.latent_error_median_=0.0228, self.latent_error_range_=0.0210\n",
      "Model result scaling scheme:  True\n",
      "Latent dim= 16. Weight Decay = 0.000001\n",
      "Using cuda\n",
      "self.error_mu=1.9516, self.error_std=1.3081, self.latent_error_mu_=0.0288, self.latent_error_sigma_=0.0223; alpha = 1.0000\n"
     ]
    },
    {
     "name": "stderr",
     "output_type": "stream",
     "text": [
      "1513it [14:52:04, 28.63s/it]"
     ]
    },
    {
     "name": "stdout",
     "output_type": "stream",
     "text": [
      "Current experiment parameters: ('SVHN_6', 0.0, 1), model: Customized, metrics: {'aucroc': 0.5663564087647858, 'aucpr': 0.07727677856311739}, fitting time: 529.2855551242828, inference time: 0.003988981246948242\n",
      "\n",
      "Model performance:\n",
      "Reconstruction AUCROC=0.5884; AUCPR=0.0825\n",
      "Deviation AUCROC=0.5440; AUCPR=0.0675\n",
      "Max(rec, dev) AUCROC=0.5884; AUCPR=0.0825\n",
      "\n",
      "Sum of squared error AUCROC=0.5884; AUCPR=0.0825\n",
      "\n",
      "Transformer selector AUCROC=0.4247; AUCPR=0.0403\n",
      "\n",
      "{'Samples': 6315, 'Features': 512, 'Anomalies': 315, 'Anomalies Ratio(%)': 4.99}\n",
      "epoch : 1/5000, loss = 38.333099\n",
      "epoch : 1000/5000, loss = 4.060787\n",
      "epoch : 2000/5000, loss = 4.717021\n",
      "epoch : 3000/5000, loss = 2.318541\n",
      "epoch : 4000/5000, loss = 4.906525\n",
      "epoch : 5000/5000, loss = 3.561066\n",
      "self.error_median=1.1300, self.error_range=1.2127, self.latent_error_median_=0.0268, self.latent_error_range_=0.0286\n",
      "Model result scaling scheme:  True\n",
      "Latent dim= 16. Weight Decay = 0.000001\n",
      "Using cuda\n",
      "self.error_mu=1.5388, self.error_std=1.3550, self.latent_error_mu_=0.0366, self.latent_error_sigma_=0.0357; alpha = 1.0000\n"
     ]
    },
    {
     "name": "stderr",
     "output_type": "stream",
     "text": [
      "1537it [15:00:57, 26.09s/it]"
     ]
    },
    {
     "name": "stdout",
     "output_type": "stream",
     "text": [
      "Current experiment parameters: ('FashionMNIST_9', 0.0, 1), model: Customized, metrics: {'aucroc': 0.9436140350877193, 'aucpr': 0.4333954777816362}, fitting time: 532.5879147052765, inference time: 0.00498652458190918\n",
      "\n",
      "Model performance:\n",
      "Reconstruction AUCROC=0.9474; AUCPR=0.4500\n",
      "Deviation AUCROC=0.9225; AUCPR=0.3752\n",
      "Max(rec, dev) AUCROC=0.9474; AUCPR=0.4500\n",
      "\n",
      "Sum of squared error AUCROC=0.9474; AUCPR=0.4500\n",
      "\n",
      "Transformer selector AUCROC=0.7913; AUCPR=0.2879\n",
      "\n",
      "{'Samples': 6315, 'Features': 512, 'Anomalies': 315, 'Anomalies Ratio(%)': 4.99}\n",
      "epoch : 1/5000, loss = 36.533775\n",
      "epoch : 1000/5000, loss = 6.840899\n",
      "epoch : 2000/5000, loss = 5.701426\n",
      "epoch : 3000/5000, loss = 1.963359\n",
      "epoch : 4000/5000, loss = 5.317334\n",
      "epoch : 5000/5000, loss = -2.802169\n",
      "self.error_median=1.7556, self.error_range=2.7938, self.latent_error_median_=0.0325, self.latent_error_range_=0.0408\n",
      "Model result scaling scheme:  True\n",
      "Latent dim= 16. Weight Decay = 0.000001\n",
      "Using cuda\n",
      "self.error_mu=3.2073, self.error_std=4.7740, self.latent_error_mu_=0.0447, self.latent_error_sigma_=0.0393; alpha = 1.0000\n"
     ]
    },
    {
     "name": "stderr",
     "output_type": "stream",
     "text": [
      "1561it [15:09:50, 24.68s/it]"
     ]
    },
    {
     "name": "stdout",
     "output_type": "stream",
     "text": [
      "Current experiment parameters: ('FashionMNIST_5', 0.0, 1), model: Customized, metrics: {'aucroc': 0.9366081871345029, 'aucpr': 0.6292966245685094}, fitting time: 532.5731735229492, inference time: 0.003961324691772461\n",
      "\n",
      "Model performance:\n",
      "Reconstruction AUCROC=0.9560; AUCPR=0.7366\n",
      "Deviation AUCROC=0.8409; AUCPR=0.2720\n",
      "Max(rec, dev) AUCROC=0.9560; AUCPR=0.7366\n",
      "\n",
      "Sum of squared error AUCROC=0.9560; AUCPR=0.7365\n",
      "\n",
      "Transformer selector AUCROC=0.0548; AUCPR=0.0261\n",
      "\n",
      "{'Samples': 6315, 'Features': 512, 'Anomalies': 315, 'Anomalies Ratio(%)': 4.99}\n",
      "epoch : 1/5000, loss = 37.736305\n",
      "epoch : 1000/5000, loss = 3.619920\n",
      "epoch : 2000/5000, loss = 5.130919\n",
      "epoch : 3000/5000, loss = 3.958519\n",
      "epoch : 4000/5000, loss = 5.158720\n",
      "epoch : 5000/5000, loss = 3.205323\n",
      "self.error_median=1.0270, self.error_range=1.1026, self.latent_error_median_=0.0258, self.latent_error_range_=0.0285\n",
      "Model result scaling scheme:  True\n",
      "Latent dim= 16. Weight Decay = 0.000001\n",
      "Using cuda\n",
      "self.error_mu=1.4622, self.error_std=1.6101, self.latent_error_mu_=0.0358, self.latent_error_sigma_=0.0371; alpha = 1.0000\n"
     ]
    },
    {
     "name": "stderr",
     "output_type": "stream",
     "text": [
      "1585it [15:18:44, 23.87s/it]"
     ]
    },
    {
     "name": "stdout",
     "output_type": "stream",
     "text": [
      "Current experiment parameters: ('FashionMNIST_7', 0.0, 1), model: Customized, metrics: {'aucroc': 0.9597602339181286, 'aucpr': 0.6680439105401486}, fitting time: 534.5750465393066, inference time: 0.00498652458190918\n",
      "\n",
      "Model performance:\n",
      "Reconstruction AUCROC=0.9640; AUCPR=0.6924\n",
      "Deviation AUCROC=0.9409; AUCPR=0.5806\n",
      "Max(rec, dev) AUCROC=0.9640; AUCPR=0.6924\n",
      "\n",
      "Sum of squared error AUCROC=0.9640; AUCPR=0.6924\n",
      "\n",
      "Transformer selector AUCROC=0.7391; AUCPR=0.3542\n",
      "\n",
      "{'Samples': 6315, 'Features': 512, 'Anomalies': 315, 'Anomalies Ratio(%)': 4.99}\n",
      "epoch : 1/5000, loss = 40.093018\n",
      "epoch : 1000/5000, loss = 9.123849\n",
      "epoch : 2000/5000, loss = 4.496652\n",
      "epoch : 3000/5000, loss = 5.201623\n",
      "epoch : 4000/5000, loss = 5.457427\n",
      "epoch : 5000/5000, loss = 1.490431\n",
      "self.error_median=1.5603, self.error_range=2.1267, self.latent_error_median_=0.0312, self.latent_error_range_=0.0384\n",
      "Model result scaling scheme:  True\n",
      "Latent dim= 16. Weight Decay = 0.000001\n",
      "Using cuda\n",
      "self.error_mu=2.0713, self.error_std=1.6974, self.latent_error_mu_=0.0413, self.latent_error_sigma_=0.0340; alpha = 1.0000\n"
     ]
    },
    {
     "name": "stderr",
     "output_type": "stream",
     "text": [
      "1609it [15:27:38, 23.33s/it]"
     ]
    },
    {
     "name": "stdout",
     "output_type": "stream",
     "text": [
      "Current experiment parameters: ('FashionMNIST_0', 0.0, 1), model: Customized, metrics: {'aucroc': 0.8928713450292397, 'aucpr': 0.30964888779592775}, fitting time: 533.3609662055969, inference time: 0.0039997100830078125\n",
      "\n",
      "Model performance:\n",
      "Reconstruction AUCROC=0.8991; AUCPR=0.3210\n",
      "Deviation AUCROC=0.8664; AUCPR=0.2635\n",
      "Max(rec, dev) AUCROC=0.8991; AUCPR=0.3210\n",
      "\n",
      "Sum of squared error AUCROC=0.8991; AUCPR=0.3210\n",
      "\n",
      "Transformer selector AUCROC=0.4241; AUCPR=0.0402\n",
      "\n",
      "{'Samples': 6315, 'Features': 512, 'Anomalies': 315, 'Anomalies Ratio(%)': 4.99}\n",
      "epoch : 1/5000, loss = 45.882717\n",
      "epoch : 1000/5000, loss = 5.718587\n",
      "epoch : 2000/5000, loss = 4.542698\n",
      "epoch : 3000/5000, loss = 0.726870\n",
      "epoch : 4000/5000, loss = 3.786749\n",
      "epoch : 5000/5000, loss = 3.398531\n",
      "self.error_median=1.0291, self.error_range=1.1895, self.latent_error_median_=0.0238, self.latent_error_range_=0.0261\n",
      "Model result scaling scheme:  True\n",
      "Latent dim= 16. Weight Decay = 0.000001\n",
      "Using cuda\n",
      "self.error_mu=1.4808, self.error_std=1.4070, self.latent_error_mu_=0.0318, self.latent_error_sigma_=0.0338; alpha = 1.0000\n"
     ]
    },
    {
     "name": "stderr",
     "output_type": "stream",
     "text": [
      "1633it [15:47:06, 31.40s/it]"
     ]
    },
    {
     "name": "stdout",
     "output_type": "stream",
     "text": [
      "Current experiment parameters: ('FashionMNIST_1', 0.0, 1), model: Customized, metrics: {'aucroc': 0.9579766081871345, 'aucpr': 0.4640765226953683}, fitting time: 1167.438869714737, inference time: 0.015955448150634766\n",
      "\n",
      "Model performance:\n",
      "Reconstruction AUCROC=0.9584; AUCPR=0.4469\n",
      "Deviation AUCROC=0.9273; AUCPR=0.4368\n",
      "Max(rec, dev) AUCROC=0.9584; AUCPR=0.4469\n",
      "\n",
      "Sum of squared error AUCROC=0.9584; AUCPR=0.4469\n",
      "\n",
      "Transformer selector AUCROC=0.7355; AUCPR=0.2457\n",
      "\n",
      "{'Samples': 6315, 'Features': 512, 'Anomalies': 315, 'Anomalies Ratio(%)': 4.99}\n",
      "epoch : 1/5000, loss = 37.683784\n",
      "epoch : 1000/5000, loss = 6.579378\n",
      "epoch : 2000/5000, loss = 5.999935\n",
      "epoch : 3000/5000, loss = 5.074454\n",
      "epoch : 4000/5000, loss = 4.976942\n",
      "epoch : 5000/5000, loss = 4.024179\n",
      "self.error_median=1.6329, self.error_range=1.5905, self.latent_error_median_=0.0220, self.latent_error_range_=0.0218\n",
      "Model result scaling scheme:  True\n",
      "Latent dim= 16. Weight Decay = 0.000001\n",
      "Using cuda\n",
      "self.error_mu=1.9987, self.error_std=1.2941, self.latent_error_mu_=0.0272, self.latent_error_sigma_=0.0189; alpha = 1.0000\n"
     ]
    },
    {
     "name": "stderr",
     "output_type": "stream",
     "text": [
      "1657it [16:15:51, 44.05s/it]"
     ]
    },
    {
     "name": "stdout",
     "output_type": "stream",
     "text": [
      "Current experiment parameters: ('FashionMNIST_8', 0.0, 1), model: Customized, metrics: {'aucroc': 0.8015438596491229, 'aucpr': 0.13370584923391762}, fitting time: 1723.9989619255066, inference time: 0.014584779739379883\n",
      "\n",
      "Model performance:\n",
      "Reconstruction AUCROC=0.8319; AUCPR=0.1550\n",
      "Deviation AUCROC=0.7156; AUCPR=0.0988\n",
      "Max(rec, dev) AUCROC=0.8319; AUCPR=0.1550\n",
      "\n",
      "Sum of squared error AUCROC=0.8319; AUCPR=0.1550\n",
      "\n",
      "Transformer selector AUCROC=0.2818; AUCPR=0.0381\n",
      "\n",
      "{'Samples': 6315, 'Features': 512, 'Anomalies': 315, 'Anomalies Ratio(%)': 4.99}\n",
      "epoch : 1/5000, loss = 51.756207\n"
     ]
    }
   ],
   "source": [
    "for mode in [\n",
    "                #None,\n",
    "                'dependency',\n",
    "                'cluster',\n",
    "                None,\n",
    "                'local',\n",
    "                'global',\n",
    "            ]:\n",
    "    pipeline = RunPipeline(suffix='ADBench', parallel='unsupervise', realistic_synthetic_mode=mode, noise_type=None, num_seed=3)\n",
    "    #results = pipeline.run(clf=VAE)\n",
    "    results = pipeline.run(clf=AADOCAE)"
   ]
  },
  {
   "cell_type": "code",
   "execution_count": null,
   "metadata": {},
   "outputs": [],
   "source": [
    "for mode in ['cluster',\n",
    "            'local',\n",
    "            'global',\n",
    "            'dependency',\n",
    "            None,\n",
    "            ]:\n",
    "    pipeline = RunPipeline(suffix='ADBench', parallel='unsupervise', realistic_synthetic_mode=mode, noise_type=None, num_seed=1)\n",
    "    #results = pipeline.run(clf=VAE)\n",
    "    results = pipeline.run(clf=DOCAE)"
   ]
  },
  {
   "cell_type": "markdown",
   "metadata": {},
   "source": [
    "## Run your customized algorithm on customized dataset"
   ]
  },
  {
   "cell_type": "code",
   "execution_count": null,
   "metadata": {},
   "outputs": [],
   "source": [
    "from adbench.baseline.Bagging.run import Bagging\n",
    "from adbench.baseline.AADOCAE.run import AADOCAE"
   ]
  },
  {
   "cell_type": "code",
   "execution_count": null,
   "metadata": {},
   "outputs": [
    {
     "name": "stderr",
     "output_type": "stream",
     "text": [
      "0it [00:00, ?it/s]"
     ]
    },
    {
     "name": "stdout",
     "output_type": "stream",
     "text": [
      "Testing on customized dataset...\n",
      "{'Samples': 1000, 'Features': 20, 'Anomalies': 498, 'Anomalies Ratio(%)': 49.8}\n",
      "epoch : 1/12, loss = 5.524560\n",
      "self.error_median=3.8629, self.error_range=0.8937, self.latent_error_median_=0.6489, self.latent_error_range_=0.1544\n",
      "Model result scaling scheme:  True\n",
      "Latent dim= 16. Weight Decay = 0.000001\n",
      "Using cuda\n",
      "self.error_mu=3.8807, self.error_std=0.5358, self.latent_error_mu_=0.6518, self.latent_error_sigma_=0.0945; alpha = 1.0000\n",
      "Current experiment parameters: (None, 0.0, 1), model: Customized, metrics: {'aucroc': 0.4888661718298591, 'aucpr': 0.48867482615817526}, fitting time: 0.2572813034057617, inference time: 0.0019817352294921875\n"
     ]
    },
    {
     "name": "stderr",
     "output_type": "stream",
     "text": [
      "1it [00:00,  1.69it/s]"
     ]
    },
    {
     "name": "stdout",
     "output_type": "stream",
     "text": [
      "\n",
      "Model performance:\n",
      "Reconstruction AUCROC=0.5086; AUCPR=0.5066\n",
      "Deviation AUCROC=0.4798; AUCPR=0.4729\n",
      "Max(rec, dev) AUCROC=0.5086; AUCPR=0.5066\n",
      "\n",
      "Sum of squared error AUCROC=0.5076; AUCPR=0.5058\n",
      "\n",
      "Testing on customized dataset...\n",
      "{'Samples': 1000, 'Features': 20, 'Anomalies': 498, 'Anomalies Ratio(%)': 49.8}\n",
      "epoch : 1/12, loss = 5.673854\n",
      "self.error_median=5.0582, self.error_range=1.1281, self.latent_error_median_=0.1390, self.latent_error_range_=0.0487\n",
      "Model result scaling scheme:  True\n",
      "Latent dim= 16. Weight Decay = 0.000001\n",
      "Using cuda\n",
      "self.error_mu=5.0629, self.error_std=0.6781, self.latent_error_mu_=0.1409, self.latent_error_sigma_=0.0290; alpha = 1.0000\n"
     ]
    },
    {
     "name": "stderr",
     "output_type": "stream",
     "text": [
      "2it [00:00,  2.09it/s]"
     ]
    },
    {
     "name": "stdout",
     "output_type": "stream",
     "text": [
      "Current experiment parameters: (None, 0.0, 2), model: Customized, metrics: {'aucroc': 0.4651317836348282, 'aucpr': 0.47213899486085287}, fitting time: 0.17455291748046875, inference time: 0.0019958019256591797\n",
      "\n",
      "Model performance:\n",
      "Reconstruction AUCROC=0.4769; AUCPR=0.4771\n",
      "Deviation AUCROC=0.4565; AUCPR=0.4785\n",
      "Max(rec, dev) AUCROC=0.4769; AUCPR=0.4771\n",
      "\n",
      "Sum of squared error AUCROC=0.4769; AUCPR=0.4770\n",
      "\n",
      "Testing on customized dataset...\n",
      "{'Samples': 1000, 'Features': 20, 'Anomalies': 498, 'Anomalies Ratio(%)': 49.8}\n",
      "epoch : 1/12, loss = 5.687943\n",
      "self.error_median=4.8010, self.error_range=1.0662, self.latent_error_median_=0.2704, self.latent_error_range_=0.0737\n",
      "Model result scaling scheme:  True\n",
      "Latent dim= 16. Weight Decay = 0.000001\n",
      "Using cuda\n",
      "self.error_mu=4.8202, self.error_std=0.6516, self.latent_error_mu_=0.2692, self.latent_error_sigma_=0.0447; alpha = 1.0000\n"
     ]
    },
    {
     "name": "stderr",
     "output_type": "stream",
     "text": [
      "24it [00:01, 17.05it/s]"
     ]
    },
    {
     "name": "stdout",
     "output_type": "stream",
     "text": [
      "Current experiment parameters: (None, 0.0, 3), model: Customized, metrics: {'aucroc': 0.5135783812613894, 'aucpr': 0.5175445014161114}, fitting time: 0.17716336250305176, inference time: 0.0019948482513427734\n",
      "\n",
      "Model performance:\n",
      "Reconstruction AUCROC=0.5043; AUCPR=0.4993\n",
      "Deviation AUCROC=0.5219; AUCPR=0.5329\n",
      "Max(rec, dev) AUCROC=0.5043; AUCPR=0.4993\n",
      "\n",
      "Sum of squared error AUCROC=0.5044; AUCPR=0.4993\n",
      "\n"
     ]
    },
    {
     "name": "stderr",
     "output_type": "stream",
     "text": [
      "\n"
     ]
    }
   ],
   "source": [
    "# customized model on customized dataset\n",
    "import numpy as np\n",
    "dataset = {}\n",
    "dataset['X'] = np.random.randn(1000, 20)\n",
    "dataset['y'] = np.random.choice([0, 1], 1000)\n",
    "#print(dataset['y'])\n",
    "RunPipeline(suffix='ADBench', parallel='unsupervise', realistic_synthetic_mode=None, noise_type=None, num_seed=1)\n",
    "results = pipeline.run(dataset=dataset, clf=AADOCAE)\n"
   ]
  },
  {
   "cell_type": "markdown",
   "metadata": {},
   "source": [
    "# Import AD algorithms from ADBench"
   ]
  },
  {
   "cell_type": "code",
   "execution_count": null,
   "metadata": {},
   "outputs": [
    {
     "name": "stdout",
     "output_type": "stream",
     "text": [
      "fit transform: X shape before:  (1000, 4)\n",
      "[[0. 1. 1. 1.]\n",
      " [1. 0. 1. 1.]\n",
      " [1. 1. 0. 1.]\n",
      " [1. 1. 1. 0.]]\n",
      "Train data shape after filter corrcoef:  (1000, 1)\n",
      "epoch : 1000/3000, loss = 1.000339\n",
      "epoch : 2000/3000, loss = 1.000902\n",
      "epoch : 3000/3000, loss = 1.001148\n",
      "(100, 1)\n"
     ]
    },
    {
     "data": {
      "text/plain": [
       "' from adbench.baseline.PReNet.run import PReNet\\nmodel = PReNet(seed=42)\\nmodel.fit(X_train, y_train)  # fit\\nscore = model.predict_score(X_test)  # predict '"
      ]
     },
     "execution_count": 59,
     "metadata": {},
     "output_type": "execute_result"
    }
   ],
   "source": [
    "import numpy as np\n",
    "X_train = np.random.randn(1000, 1)\n",
    "X_train = np.concatenate((X_train, X_train, X_train, X_train), axis=-1)\n",
    "y_train = np.random.choice([0, 1], 1000)\n",
    "X_test = np.random.randn(100, 4)\n",
    "y_test = np.random.choice([0, 1], 100)\n",
    "\n",
    "# Directly import AD algorithms from the existing toolkits like PyOD\n",
    "#from adbench.baseline.PyOD import PYOD\n",
    "#model = PYOD(seed=42, model_name='XGBOD')  # initialization\n",
    "model = SimpleAE(seed=42)\n",
    "model.fit(X_train, y_train)  # fit\n",
    "score = model.predict_score(X_test)  # predict\n",
    "print(score.shape)\n",
    "\n",
    "# Import deep learning AD algorithms from our ADBench\n",
    "\"\"\" from adbench.baseline.PReNet.run import PReNet\n",
    "model = PReNet(seed=42)\n",
    "model.fit(X_train, y_train)  # fit\n",
    "score = model.predict_score(X_test)  # predict \"\"\""
   ]
  }
 ],
 "metadata": {
  "kernelspec": {
   "display_name": "Python 3",
   "language": "python",
   "name": "python3"
  },
  "language_info": {
   "codemirror_mode": {
    "name": "ipython",
    "version": 3
   },
   "file_extension": ".py",
   "mimetype": "text/x-python",
   "name": "python",
   "nbconvert_exporter": "python",
   "pygments_lexer": "ipython3",
   "version": "3.11.5"
  },
  "toc": {
   "base_numbering": 1,
   "nav_menu": {},
   "number_sections": true,
   "sideBar": true,
   "skip_h1_title": false,
   "title_cell": "Table of Contents",
   "title_sidebar": "Contents",
   "toc_cell": false,
   "toc_position": {},
   "toc_section_display": true,
   "toc_window_display": false
  },
  "varInspector": {
   "cols": {
    "lenName": 16,
    "lenType": 16,
    "lenVar": 40
   },
   "kernels_config": {
    "python": {
     "delete_cmd_postfix": "",
     "delete_cmd_prefix": "del ",
     "library": "var_list.py",
     "varRefreshCmd": "print(var_dic_list())"
    },
    "r": {
     "delete_cmd_postfix": ") ",
     "delete_cmd_prefix": "rm(",
     "library": "var_list.r",
     "varRefreshCmd": "cat(var_dic_list()) "
    }
   },
   "types_to_exclude": [
    "module",
    "function",
    "builtin_function_or_method",
    "instance",
    "_Feature"
   ],
   "window_display": false
  }
 },
 "nbformat": 4,
 "nbformat_minor": 4
}
